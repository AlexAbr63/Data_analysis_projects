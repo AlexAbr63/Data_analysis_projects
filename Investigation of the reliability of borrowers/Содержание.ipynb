{
 "cells": [
  {
   "cell_type": "markdown",
   "id": "9b3436c0",
   "metadata": {},
   "source": [
    "# Исследование"
   ]
  },
  {
   "cell_type": "markdown",
   "id": "4d1a2b17",
   "metadata": {},
   "source": [
    "жльфывждальмыжудкльпжцйдлуьждмлцу вжлд"
   ]
  },
  {
   "cell_type": "markdown",
   "id": "b2d806e5",
   "metadata": {},
   "source": [
    "## Содержание\n",
    "1. [Загрузка данных](#1.-Загрузка-данных)\n",
    "2. [Предобработка данных](#2.-Предобработка-данных)\n",
    "3. [Исследовательский анализ](#3.-Исследовательский-анализ)  \n",
    "    3.1 [Первая часть](#3.1-Первая-часть)  \n",
    "    3.2 [Вторая часть](#3.2-Вторая-часть)  \n",
    "    3.3 [Третья часть](#3.3-Третья-часть)  \n",
    "4. [Общий вывод](#4.-Общий-вывод)"
   ]
  },
  {
   "cell_type": "markdown",
   "id": "e934eb0c",
   "metadata": {},
   "source": [
    "## 1. Загрузка данных"
   ]
  },
  {
   "cell_type": "code",
   "execution_count": null,
   "id": "8101ef80",
   "metadata": {},
   "outputs": [],
   "source": []
  },
  {
   "cell_type": "code",
   "execution_count": null,
   "id": "c7438176",
   "metadata": {},
   "outputs": [],
   "source": []
  },
  {
   "cell_type": "code",
   "execution_count": null,
   "id": "57347258",
   "metadata": {},
   "outputs": [],
   "source": []
  },
  {
   "cell_type": "markdown",
   "id": "e676f764",
   "metadata": {},
   "source": [
    "## 2. Предобработка данных"
   ]
  },
  {
   "cell_type": "code",
   "execution_count": null,
   "id": "86a942b7",
   "metadata": {},
   "outputs": [],
   "source": []
  },
  {
   "cell_type": "code",
   "execution_count": null,
   "id": "006af746",
   "metadata": {},
   "outputs": [],
   "source": []
  },
  {
   "cell_type": "code",
   "execution_count": null,
   "id": "69810ab2",
   "metadata": {},
   "outputs": [],
   "source": []
  },
  {
   "cell_type": "code",
   "execution_count": null,
   "id": "0af78874",
   "metadata": {},
   "outputs": [],
   "source": []
  },
  {
   "cell_type": "code",
   "execution_count": null,
   "id": "c12bb9fb",
   "metadata": {},
   "outputs": [],
   "source": []
  },
  {
   "cell_type": "markdown",
   "id": "c348ce7a",
   "metadata": {},
   "source": [
    "## 3. Исследовательский анализ"
   ]
  },
  {
   "cell_type": "markdown",
   "id": "d2c87ba9",
   "metadata": {},
   "source": [
    "ваыаыукпыукпуцкпу"
   ]
  },
  {
   "cell_type": "markdown",
   "id": "042727f8",
   "metadata": {},
   "source": [
    "### 3.1 Первая часть"
   ]
  },
  {
   "cell_type": "code",
   "execution_count": null,
   "id": "b7d11543",
   "metadata": {},
   "outputs": [],
   "source": []
  },
  {
   "cell_type": "code",
   "execution_count": null,
   "id": "14e7f022",
   "metadata": {},
   "outputs": [],
   "source": []
  },
  {
   "cell_type": "code",
   "execution_count": null,
   "id": "0e5954d2",
   "metadata": {},
   "outputs": [],
   "source": []
  },
  {
   "cell_type": "markdown",
   "id": "0fb77548",
   "metadata": {},
   "source": [
    "### 3.2 Вторая часть"
   ]
  },
  {
   "cell_type": "code",
   "execution_count": null,
   "id": "ebe46a7f",
   "metadata": {},
   "outputs": [],
   "source": []
  },
  {
   "cell_type": "code",
   "execution_count": null,
   "id": "714e3b23",
   "metadata": {},
   "outputs": [],
   "source": []
  },
  {
   "cell_type": "code",
   "execution_count": null,
   "id": "b7010a56",
   "metadata": {},
   "outputs": [],
   "source": []
  },
  {
   "cell_type": "markdown",
   "id": "69c9921f",
   "metadata": {},
   "source": [
    "### 3.3 Третья часть"
   ]
  },
  {
   "cell_type": "code",
   "execution_count": null,
   "id": "0287d78f",
   "metadata": {},
   "outputs": [],
   "source": []
  },
  {
   "cell_type": "code",
   "execution_count": null,
   "id": "0d3591f6",
   "metadata": {},
   "outputs": [],
   "source": []
  },
  {
   "cell_type": "code",
   "execution_count": null,
   "id": "40cd6b65",
   "metadata": {},
   "outputs": [],
   "source": []
  },
  {
   "cell_type": "markdown",
   "id": "b974ef25",
   "metadata": {},
   "source": [
    "## 4. Общий вывод"
   ]
  },
  {
   "cell_type": "markdown",
   "id": "af63b1ee",
   "metadata": {},
   "source": [
    "фцуацуклрасицлукдопмтдуоктпдулокетрдктудеоптудкое"
   ]
  },
  {
   "cell_type": "code",
   "execution_count": null,
   "id": "f4da9662",
   "metadata": {},
   "outputs": [],
   "source": []
  }
 ],
 "metadata": {
  "kernelspec": {
   "display_name": "Python 3 (ipykernel)",
   "language": "python",
   "name": "python3"
  },
  "language_info": {
   "codemirror_mode": {
    "name": "ipython",
    "version": 3
   },
   "file_extension": ".py",
   "mimetype": "text/x-python",
   "name": "python",
   "nbconvert_exporter": "python",
   "pygments_lexer": "ipython3",
   "version": "3.9.7"
  }
 },
 "nbformat": 4,
 "nbformat_minor": 5
}
