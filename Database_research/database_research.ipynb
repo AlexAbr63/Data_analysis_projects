{
 "cells": [
  {
   "cell_type": "markdown",
   "metadata": {
    "toc": true
   },
   "source": [
    "<h1>Table of Contents<span class=\"tocSkip\"></span></h1>\n",
    "<div class=\"toc\"><ul class=\"toc-item\"><li><span><a href=\"#Загрузка-данных\" data-toc-modified-id=\"Загрузка-данных-1\"><span class=\"toc-item-num\">1&nbsp;&nbsp;</span>Загрузка данных</a></span></li><li><span><a href=\"#Описание-данных\" data-toc-modified-id=\"Описание-данных-2\"><span class=\"toc-item-num\">2&nbsp;&nbsp;</span>Описание данных</a></span></li><li><span><a href=\"#Количество-книг,-вышедших-после-1-января-2000-года\" data-toc-modified-id=\"Количество-книг,-вышедших-после-1-января-2000-года-3\"><span class=\"toc-item-num\">3&nbsp;&nbsp;</span>Количество книг, вышедших после 1 января 2000 года</a></span></li><li><span><a href=\"#Количество-обзоров-и-средняя-оценка-для-каждой-книги\" data-toc-modified-id=\"Количество-обзоров-и-средняя-оценка-для-каждой-книги-4\"><span class=\"toc-item-num\">4&nbsp;&nbsp;</span>Количество обзоров и средняя оценка для каждой книги</a></span></li><li><span><a href=\"#Издательство,-выпустившее-наибольшее-число-книг-толще-50-страниц\" data-toc-modified-id=\"Издательство,-выпустившее-наибольшее-число-книг-толще-50-страниц-5\"><span class=\"toc-item-num\">5&nbsp;&nbsp;</span>Издательство, выпустившее наибольшее число книг толще 50 страниц</a></span></li><li><span><a href=\"#Автор-с-самой-высокой-средней-оценкой-книг-по-книгам-с-50-и-более-оценками\" data-toc-modified-id=\"Автор-с-самой-высокой-средней-оценкой-книг-по-книгам-с-50-и-более-оценками-6\"><span class=\"toc-item-num\">6&nbsp;&nbsp;</span>Автор с самой высокой средней оценкой книг по книгам с 50 и более оценками</a></span></li><li><span><a href=\"#Среднее-количество-обзоров-от-пользователей,-которые-поставили-больше-50-оценок\" data-toc-modified-id=\"Среднее-количество-обзоров-от-пользователей,-которые-поставили-больше-50-оценок-7\"><span class=\"toc-item-num\">7&nbsp;&nbsp;</span>Среднее количество обзоров от пользователей, которые поставили больше 50 оценок</a></span></li><li><span><a href=\"#Выводы\" data-toc-modified-id=\"Выводы-8\"><span class=\"toc-item-num\">8&nbsp;&nbsp;</span>Выводы</a></span></li></ul></div>"
   ]
  },
  {
   "cell_type": "markdown",
   "metadata": {},
   "source": [
    "# Исследование базы данных сервиса для чтения книг\n",
    "Компания приобрела крупный сервис для чтения книг по подписке. Необходимо проанализировать базу данных. В ней — информация о книгах, издательствах, авторах, а также пользовательские обзоры книг. На основании этих данных сформулировать ценностное предложение для нового продукта."
   ]
  },
  {
   "cell_type": "markdown",
   "metadata": {},
   "source": [
    "## Загрузка данных"
   ]
  },
  {
   "cell_type": "code",
   "execution_count": 1,
   "metadata": {},
   "outputs": [],
   "source": [
    "# Импорт библиотек\n",
    "import pandas as pd\n",
    "from sqlalchemy import create_engine"
   ]
  },
  {
   "cell_type": "code",
   "execution_count": 2,
   "metadata": {},
   "outputs": [],
   "source": [
    "# Подключение к БД\n",
    "# Параметры подключения\n",
    "db_config = {'user': '...', # имя пользователя\n",
    "             'pwd': '...', # пароль\n",
    "             'host': '...',\n",
    "             'port': ..., # порт подключения\n",
    "             'db': '...'} # название базы данных\n",
    "# Строка соединения с БД\n",
    "connection_string = 'postgresql://{}:{}@{}:{}/{}'.format(db_config['user'],\n",
    "                                                         db_config['pwd'],\n",
    "                                                         db_config['host'],\n",
    "                                                         db_config['port'],\n",
    "                                                         db_config['db'])\n",
    "# Подключение к БД\n",
    "engine = create_engine(connection_string, connect_args={'sslmode':'require'})"
   ]
  },
  {
   "cell_type": "code",
   "execution_count": 3,
   "metadata": {},
   "outputs": [],
   "source": [
    "# Просмотр таблиц\n",
    "query_1 = ''' SELECT *\n",
    "              FROM books\n",
    "              LIMIT 5 '''\n",
    "\n",
    "query_2 = ''' SELECT *\n",
    "              FROM authors\n",
    "              LIMIT 5 '''\n",
    "\n",
    "query_3 = ''' SELECT *\n",
    "              FROM publishers\n",
    "              LIMIT 5 '''\n",
    "\n",
    "query_4 = ''' SELECT *\n",
    "              FROM ratings\n",
    "              LIMIT 5 '''\n",
    "\n",
    "query_5 = ''' SELECT *\n",
    "              FROM reviews\n",
    "              LIMIT 5 '''\n",
    "\n",
    "books = pd.io.sql.read_sql(query_1, con = engine)\n",
    "authors = pd.io.sql.read_sql(query_2, con = engine)\n",
    "publishers = pd.io.sql.read_sql(query_3, con = engine)\n",
    "ratings = pd.io.sql.read_sql(query_4, con = engine)\n",
    "reviews = pd.io.sql.read_sql(query_5, con = engine)"
   ]
  },
  {
   "cell_type": "markdown",
   "metadata": {},
   "source": [
    "## Описание данных"
   ]
  },
  {
   "cell_type": "markdown",
   "metadata": {},
   "source": [
    "**Таблица `books`**\n",
    "\n",
    "Содержит данные о книгах:\n",
    "\n",
    "- `book_id` — идентификатор книги;\n",
    "- `author_id` — идентификатор автора;\n",
    "- `title` — название книги;\n",
    "- `num_pages` — количество страниц;\n",
    "- `publication_date` — дата публикации книги;\n",
    "- `publisher_id` — идентификатор издателя."
   ]
  },
  {
   "cell_type": "code",
   "execution_count": 4,
   "metadata": {},
   "outputs": [
    {
     "data": {
      "text/html": [
       "<div>\n",
       "<style scoped>\n",
       "    .dataframe tbody tr th:only-of-type {\n",
       "        vertical-align: middle;\n",
       "    }\n",
       "\n",
       "    .dataframe tbody tr th {\n",
       "        vertical-align: top;\n",
       "    }\n",
       "\n",
       "    .dataframe thead th {\n",
       "        text-align: right;\n",
       "    }\n",
       "</style>\n",
       "<table border=\"1\" class=\"dataframe\">\n",
       "  <thead>\n",
       "    <tr style=\"text-align: right;\">\n",
       "      <th></th>\n",
       "      <th>book_id</th>\n",
       "      <th>author_id</th>\n",
       "      <th>title</th>\n",
       "      <th>num_pages</th>\n",
       "      <th>publication_date</th>\n",
       "      <th>publisher_id</th>\n",
       "    </tr>\n",
       "  </thead>\n",
       "  <tbody>\n",
       "    <tr>\n",
       "      <th>0</th>\n",
       "      <td>1</td>\n",
       "      <td>546</td>\n",
       "      <td>'Salem's Lot</td>\n",
       "      <td>594</td>\n",
       "      <td>2005-11-01</td>\n",
       "      <td>93</td>\n",
       "    </tr>\n",
       "    <tr>\n",
       "      <th>1</th>\n",
       "      <td>2</td>\n",
       "      <td>465</td>\n",
       "      <td>1 000 Places to See Before You Die</td>\n",
       "      <td>992</td>\n",
       "      <td>2003-05-22</td>\n",
       "      <td>336</td>\n",
       "    </tr>\n",
       "    <tr>\n",
       "      <th>2</th>\n",
       "      <td>3</td>\n",
       "      <td>407</td>\n",
       "      <td>13 Little Blue Envelopes (Little Blue Envelope...</td>\n",
       "      <td>322</td>\n",
       "      <td>2010-12-21</td>\n",
       "      <td>135</td>\n",
       "    </tr>\n",
       "    <tr>\n",
       "      <th>3</th>\n",
       "      <td>4</td>\n",
       "      <td>82</td>\n",
       "      <td>1491: New Revelations of the Americas Before C...</td>\n",
       "      <td>541</td>\n",
       "      <td>2006-10-10</td>\n",
       "      <td>309</td>\n",
       "    </tr>\n",
       "    <tr>\n",
       "      <th>4</th>\n",
       "      <td>5</td>\n",
       "      <td>125</td>\n",
       "      <td>1776</td>\n",
       "      <td>386</td>\n",
       "      <td>2006-07-04</td>\n",
       "      <td>268</td>\n",
       "    </tr>\n",
       "  </tbody>\n",
       "</table>\n",
       "</div>"
      ],
      "text/plain": [
       "   book_id  author_id                                              title  \\\n",
       "0        1        546                                       'Salem's Lot   \n",
       "1        2        465                 1 000 Places to See Before You Die   \n",
       "2        3        407  13 Little Blue Envelopes (Little Blue Envelope...   \n",
       "3        4         82  1491: New Revelations of the Americas Before C...   \n",
       "4        5        125                                               1776   \n",
       "\n",
       "   num_pages publication_date  publisher_id  \n",
       "0        594       2005-11-01            93  \n",
       "1        992       2003-05-22           336  \n",
       "2        322       2010-12-21           135  \n",
       "3        541       2006-10-10           309  \n",
       "4        386       2006-07-04           268  "
      ]
     },
     "execution_count": 4,
     "metadata": {},
     "output_type": "execute_result"
    }
   ],
   "source": [
    "books"
   ]
  },
  {
   "cell_type": "markdown",
   "metadata": {},
   "source": [
    "**Таблица `authors`**\n",
    "\n",
    "Содержит данные об авторах:\n",
    "\n",
    "- `author_id` — идентификатор автора;\n",
    "- `author` — имя автора."
   ]
  },
  {
   "cell_type": "code",
   "execution_count": 5,
   "metadata": {},
   "outputs": [
    {
     "data": {
      "text/html": [
       "<div>\n",
       "<style scoped>\n",
       "    .dataframe tbody tr th:only-of-type {\n",
       "        vertical-align: middle;\n",
       "    }\n",
       "\n",
       "    .dataframe tbody tr th {\n",
       "        vertical-align: top;\n",
       "    }\n",
       "\n",
       "    .dataframe thead th {\n",
       "        text-align: right;\n",
       "    }\n",
       "</style>\n",
       "<table border=\"1\" class=\"dataframe\">\n",
       "  <thead>\n",
       "    <tr style=\"text-align: right;\">\n",
       "      <th></th>\n",
       "      <th>author_id</th>\n",
       "      <th>author</th>\n",
       "    </tr>\n",
       "  </thead>\n",
       "  <tbody>\n",
       "    <tr>\n",
       "      <th>0</th>\n",
       "      <td>1</td>\n",
       "      <td>A.S. Byatt</td>\n",
       "    </tr>\n",
       "    <tr>\n",
       "      <th>1</th>\n",
       "      <td>2</td>\n",
       "      <td>Aesop/Laura Harris/Laura Gibbs</td>\n",
       "    </tr>\n",
       "    <tr>\n",
       "      <th>2</th>\n",
       "      <td>3</td>\n",
       "      <td>Agatha Christie</td>\n",
       "    </tr>\n",
       "    <tr>\n",
       "      <th>3</th>\n",
       "      <td>4</td>\n",
       "      <td>Alan Brennert</td>\n",
       "    </tr>\n",
       "    <tr>\n",
       "      <th>4</th>\n",
       "      <td>5</td>\n",
       "      <td>Alan Moore/David   Lloyd</td>\n",
       "    </tr>\n",
       "  </tbody>\n",
       "</table>\n",
       "</div>"
      ],
      "text/plain": [
       "   author_id                          author\n",
       "0          1                      A.S. Byatt\n",
       "1          2  Aesop/Laura Harris/Laura Gibbs\n",
       "2          3                 Agatha Christie\n",
       "3          4                   Alan Brennert\n",
       "4          5        Alan Moore/David   Lloyd"
      ]
     },
     "execution_count": 5,
     "metadata": {},
     "output_type": "execute_result"
    }
   ],
   "source": [
    "authors"
   ]
  },
  {
   "cell_type": "markdown",
   "metadata": {},
   "source": [
    "**Таблица `publishers`**\n",
    "\n",
    "Содержит данные об издательствах:\n",
    "\n",
    "- `publisher_id` — идентификатор издательства;\n",
    "- `publisher` — название издательства."
   ]
  },
  {
   "cell_type": "code",
   "execution_count": 6,
   "metadata": {},
   "outputs": [
    {
     "data": {
      "text/html": [
       "<div>\n",
       "<style scoped>\n",
       "    .dataframe tbody tr th:only-of-type {\n",
       "        vertical-align: middle;\n",
       "    }\n",
       "\n",
       "    .dataframe tbody tr th {\n",
       "        vertical-align: top;\n",
       "    }\n",
       "\n",
       "    .dataframe thead th {\n",
       "        text-align: right;\n",
       "    }\n",
       "</style>\n",
       "<table border=\"1\" class=\"dataframe\">\n",
       "  <thead>\n",
       "    <tr style=\"text-align: right;\">\n",
       "      <th></th>\n",
       "      <th>publisher_id</th>\n",
       "      <th>publisher</th>\n",
       "    </tr>\n",
       "  </thead>\n",
       "  <tbody>\n",
       "    <tr>\n",
       "      <th>0</th>\n",
       "      <td>1</td>\n",
       "      <td>Ace</td>\n",
       "    </tr>\n",
       "    <tr>\n",
       "      <th>1</th>\n",
       "      <td>2</td>\n",
       "      <td>Ace Book</td>\n",
       "    </tr>\n",
       "    <tr>\n",
       "      <th>2</th>\n",
       "      <td>3</td>\n",
       "      <td>Ace Books</td>\n",
       "    </tr>\n",
       "    <tr>\n",
       "      <th>3</th>\n",
       "      <td>4</td>\n",
       "      <td>Ace Hardcover</td>\n",
       "    </tr>\n",
       "    <tr>\n",
       "      <th>4</th>\n",
       "      <td>5</td>\n",
       "      <td>Addison Wesley Publishing Company</td>\n",
       "    </tr>\n",
       "  </tbody>\n",
       "</table>\n",
       "</div>"
      ],
      "text/plain": [
       "   publisher_id                          publisher\n",
       "0             1                                Ace\n",
       "1             2                           Ace Book\n",
       "2             3                          Ace Books\n",
       "3             4                      Ace Hardcover\n",
       "4             5  Addison Wesley Publishing Company"
      ]
     },
     "execution_count": 6,
     "metadata": {},
     "output_type": "execute_result"
    }
   ],
   "source": [
    "publishers"
   ]
  },
  {
   "cell_type": "markdown",
   "metadata": {},
   "source": [
    "**Таблица `ratings`**\n",
    "\n",
    "Содержит данные о пользовательских оценках книг:\n",
    "\n",
    "- `rating_id` — идентификатор оценки;\n",
    "- `book_id` — идентификатор книги;\n",
    "- `username` — имя пользователя, оставившего оценку;\n",
    "- `rating` — оценка книги."
   ]
  },
  {
   "cell_type": "code",
   "execution_count": 7,
   "metadata": {},
   "outputs": [
    {
     "data": {
      "text/html": [
       "<div>\n",
       "<style scoped>\n",
       "    .dataframe tbody tr th:only-of-type {\n",
       "        vertical-align: middle;\n",
       "    }\n",
       "\n",
       "    .dataframe tbody tr th {\n",
       "        vertical-align: top;\n",
       "    }\n",
       "\n",
       "    .dataframe thead th {\n",
       "        text-align: right;\n",
       "    }\n",
       "</style>\n",
       "<table border=\"1\" class=\"dataframe\">\n",
       "  <thead>\n",
       "    <tr style=\"text-align: right;\">\n",
       "      <th></th>\n",
       "      <th>rating_id</th>\n",
       "      <th>book_id</th>\n",
       "      <th>username</th>\n",
       "      <th>rating</th>\n",
       "    </tr>\n",
       "  </thead>\n",
       "  <tbody>\n",
       "    <tr>\n",
       "      <th>0</th>\n",
       "      <td>1</td>\n",
       "      <td>1</td>\n",
       "      <td>ryanfranco</td>\n",
       "      <td>4</td>\n",
       "    </tr>\n",
       "    <tr>\n",
       "      <th>1</th>\n",
       "      <td>2</td>\n",
       "      <td>1</td>\n",
       "      <td>grantpatricia</td>\n",
       "      <td>2</td>\n",
       "    </tr>\n",
       "    <tr>\n",
       "      <th>2</th>\n",
       "      <td>3</td>\n",
       "      <td>1</td>\n",
       "      <td>brandtandrea</td>\n",
       "      <td>5</td>\n",
       "    </tr>\n",
       "    <tr>\n",
       "      <th>3</th>\n",
       "      <td>4</td>\n",
       "      <td>2</td>\n",
       "      <td>lorichen</td>\n",
       "      <td>3</td>\n",
       "    </tr>\n",
       "    <tr>\n",
       "      <th>4</th>\n",
       "      <td>5</td>\n",
       "      <td>2</td>\n",
       "      <td>mariokeller</td>\n",
       "      <td>2</td>\n",
       "    </tr>\n",
       "  </tbody>\n",
       "</table>\n",
       "</div>"
      ],
      "text/plain": [
       "   rating_id  book_id       username  rating\n",
       "0          1        1     ryanfranco       4\n",
       "1          2        1  grantpatricia       2\n",
       "2          3        1   brandtandrea       5\n",
       "3          4        2       lorichen       3\n",
       "4          5        2    mariokeller       2"
      ]
     },
     "execution_count": 7,
     "metadata": {},
     "output_type": "execute_result"
    }
   ],
   "source": [
    "ratings"
   ]
  },
  {
   "cell_type": "markdown",
   "metadata": {},
   "source": [
    "**Таблица `reviews`**\n",
    "\n",
    "Содержит данные о пользовательских обзорах на книги:\n",
    "\n",
    "- `review_id` — идентификатор обзора;\n",
    "- `book_id` — идентификатор книги;\n",
    "- `username` — имя пользователя, написавшего обзор;\n",
    "- `text` — текст обзора."
   ]
  },
  {
   "cell_type": "code",
   "execution_count": 8,
   "metadata": {},
   "outputs": [
    {
     "data": {
      "text/html": [
       "<div>\n",
       "<style scoped>\n",
       "    .dataframe tbody tr th:only-of-type {\n",
       "        vertical-align: middle;\n",
       "    }\n",
       "\n",
       "    .dataframe tbody tr th {\n",
       "        vertical-align: top;\n",
       "    }\n",
       "\n",
       "    .dataframe thead th {\n",
       "        text-align: right;\n",
       "    }\n",
       "</style>\n",
       "<table border=\"1\" class=\"dataframe\">\n",
       "  <thead>\n",
       "    <tr style=\"text-align: right;\">\n",
       "      <th></th>\n",
       "      <th>review_id</th>\n",
       "      <th>book_id</th>\n",
       "      <th>username</th>\n",
       "      <th>text</th>\n",
       "    </tr>\n",
       "  </thead>\n",
       "  <tbody>\n",
       "    <tr>\n",
       "      <th>0</th>\n",
       "      <td>1</td>\n",
       "      <td>1</td>\n",
       "      <td>brandtandrea</td>\n",
       "      <td>Mention society tell send professor analysis. ...</td>\n",
       "    </tr>\n",
       "    <tr>\n",
       "      <th>1</th>\n",
       "      <td>2</td>\n",
       "      <td>1</td>\n",
       "      <td>ryanfranco</td>\n",
       "      <td>Foot glass pretty audience hit themselves. Amo...</td>\n",
       "    </tr>\n",
       "    <tr>\n",
       "      <th>2</th>\n",
       "      <td>3</td>\n",
       "      <td>2</td>\n",
       "      <td>lorichen</td>\n",
       "      <td>Listen treat keep worry. Miss husband tax but ...</td>\n",
       "    </tr>\n",
       "    <tr>\n",
       "      <th>3</th>\n",
       "      <td>4</td>\n",
       "      <td>3</td>\n",
       "      <td>johnsonamanda</td>\n",
       "      <td>Finally month interesting blue could nature cu...</td>\n",
       "    </tr>\n",
       "    <tr>\n",
       "      <th>4</th>\n",
       "      <td>5</td>\n",
       "      <td>3</td>\n",
       "      <td>scotttamara</td>\n",
       "      <td>Nation purpose heavy give wait song will. List...</td>\n",
       "    </tr>\n",
       "  </tbody>\n",
       "</table>\n",
       "</div>"
      ],
      "text/plain": [
       "   review_id  book_id       username  \\\n",
       "0          1        1   brandtandrea   \n",
       "1          2        1     ryanfranco   \n",
       "2          3        2       lorichen   \n",
       "3          4        3  johnsonamanda   \n",
       "4          5        3    scotttamara   \n",
       "\n",
       "                                                text  \n",
       "0  Mention society tell send professor analysis. ...  \n",
       "1  Foot glass pretty audience hit themselves. Amo...  \n",
       "2  Listen treat keep worry. Miss husband tax but ...  \n",
       "3  Finally month interesting blue could nature cu...  \n",
       "4  Nation purpose heavy give wait song will. List...  "
      ]
     },
     "execution_count": 8,
     "metadata": {},
     "output_type": "execute_result"
    }
   ],
   "source": [
    "reviews"
   ]
  },
  {
   "cell_type": "markdown",
   "metadata": {},
   "source": [
    "## Количество книг, вышедших после 1 января 2000 года"
   ]
  },
  {
   "cell_type": "code",
   "execution_count": 9,
   "metadata": {},
   "outputs": [
    {
     "data": {
      "text/html": [
       "<div>\n",
       "<style scoped>\n",
       "    .dataframe tbody tr th:only-of-type {\n",
       "        vertical-align: middle;\n",
       "    }\n",
       "\n",
       "    .dataframe tbody tr th {\n",
       "        vertical-align: top;\n",
       "    }\n",
       "\n",
       "    .dataframe thead th {\n",
       "        text-align: right;\n",
       "    }\n",
       "</style>\n",
       "<table border=\"1\" class=\"dataframe\">\n",
       "  <thead>\n",
       "    <tr style=\"text-align: right;\">\n",
       "      <th></th>\n",
       "      <th>count_books</th>\n",
       "    </tr>\n",
       "  </thead>\n",
       "  <tbody>\n",
       "    <tr>\n",
       "      <th>0</th>\n",
       "      <td>819</td>\n",
       "    </tr>\n",
       "  </tbody>\n",
       "</table>\n",
       "</div>"
      ],
      "text/plain": [
       "   count_books\n",
       "0          819"
      ]
     },
     "metadata": {},
     "output_type": "display_data"
    },
    {
     "name": "stdout",
     "output_type": "stream",
     "text": [
      "Количество книг - 819 шт.\n"
     ]
    }
   ],
   "source": [
    "query_6 = ''' \n",
    "SELECT\n",
    "    COUNT(book_id) AS count_books\n",
    "FROM\n",
    "    books\n",
    "WHERE\n",
    "    publication_date > '2000-01-01'\n",
    "'''\n",
    "\n",
    "count_books = pd.io.sql.read_sql(query_6, con = engine)\n",
    "display(count_books)\n",
    "print('Количество книг -', count_books['count_books'][0], 'шт.')"
   ]
  },
  {
   "cell_type": "markdown",
   "metadata": {},
   "source": [
    "## Количество обзоров и средняя оценка для каждой книги"
   ]
  },
  {
   "cell_type": "code",
   "execution_count": 10,
   "metadata": {},
   "outputs": [
    {
     "data": {
      "text/html": [
       "<div>\n",
       "<style scoped>\n",
       "    .dataframe tbody tr th:only-of-type {\n",
       "        vertical-align: middle;\n",
       "    }\n",
       "\n",
       "    .dataframe tbody tr th {\n",
       "        vertical-align: top;\n",
       "    }\n",
       "\n",
       "    .dataframe thead th {\n",
       "        text-align: right;\n",
       "    }\n",
       "</style>\n",
       "<table border=\"1\" class=\"dataframe\">\n",
       "  <thead>\n",
       "    <tr style=\"text-align: right;\">\n",
       "      <th></th>\n",
       "      <th>book_id</th>\n",
       "      <th>title</th>\n",
       "      <th>count_reviews</th>\n",
       "      <th>average_rating</th>\n",
       "    </tr>\n",
       "  </thead>\n",
       "  <tbody>\n",
       "    <tr>\n",
       "      <th>0</th>\n",
       "      <td>518</td>\n",
       "      <td>Pop Goes the Weasel (Alex Cross  #5)</td>\n",
       "      <td>2</td>\n",
       "      <td>5.00</td>\n",
       "    </tr>\n",
       "    <tr>\n",
       "      <th>1</th>\n",
       "      <td>732</td>\n",
       "      <td>The Ghost Map: The Story of London's Most Terr...</td>\n",
       "      <td>2</td>\n",
       "      <td>5.00</td>\n",
       "    </tr>\n",
       "    <tr>\n",
       "      <th>2</th>\n",
       "      <td>347</td>\n",
       "      <td>In the Hand of the Goddess (Song of the Liones...</td>\n",
       "      <td>2</td>\n",
       "      <td>5.00</td>\n",
       "    </tr>\n",
       "    <tr>\n",
       "      <th>3</th>\n",
       "      <td>610</td>\n",
       "      <td>Tai-Pan (Asian Saga  #2)</td>\n",
       "      <td>2</td>\n",
       "      <td>5.00</td>\n",
       "    </tr>\n",
       "    <tr>\n",
       "      <th>4</th>\n",
       "      <td>330</td>\n",
       "      <td>How to Be a Domestic Goddess: Baking and the A...</td>\n",
       "      <td>1</td>\n",
       "      <td>5.00</td>\n",
       "    </tr>\n",
       "    <tr>\n",
       "      <th>...</th>\n",
       "      <td>...</td>\n",
       "      <td>...</td>\n",
       "      <td>...</td>\n",
       "      <td>...</td>\n",
       "    </tr>\n",
       "    <tr>\n",
       "      <th>995</th>\n",
       "      <td>915</td>\n",
       "      <td>The World Is Flat: A Brief History of the Twen...</td>\n",
       "      <td>3</td>\n",
       "      <td>2.25</td>\n",
       "    </tr>\n",
       "    <tr>\n",
       "      <th>996</th>\n",
       "      <td>371</td>\n",
       "      <td>Junky</td>\n",
       "      <td>2</td>\n",
       "      <td>2.00</td>\n",
       "    </tr>\n",
       "    <tr>\n",
       "      <th>997</th>\n",
       "      <td>316</td>\n",
       "      <td>His Excellency: George Washington</td>\n",
       "      <td>2</td>\n",
       "      <td>2.00</td>\n",
       "    </tr>\n",
       "    <tr>\n",
       "      <th>998</th>\n",
       "      <td>202</td>\n",
       "      <td>Drowning Ruth</td>\n",
       "      <td>3</td>\n",
       "      <td>2.00</td>\n",
       "    </tr>\n",
       "    <tr>\n",
       "      <th>999</th>\n",
       "      <td>303</td>\n",
       "      <td>Harvesting the Heart</td>\n",
       "      <td>2</td>\n",
       "      <td>1.50</td>\n",
       "    </tr>\n",
       "  </tbody>\n",
       "</table>\n",
       "<p>1000 rows × 4 columns</p>\n",
       "</div>"
      ],
      "text/plain": [
       "     book_id                                              title  \\\n",
       "0        518               Pop Goes the Weasel (Alex Cross  #5)   \n",
       "1        732  The Ghost Map: The Story of London's Most Terr...   \n",
       "2        347  In the Hand of the Goddess (Song of the Liones...   \n",
       "3        610                           Tai-Pan (Asian Saga  #2)   \n",
       "4        330  How to Be a Domestic Goddess: Baking and the A...   \n",
       "..       ...                                                ...   \n",
       "995      915  The World Is Flat: A Brief History of the Twen...   \n",
       "996      371                                              Junky   \n",
       "997      316                  His Excellency: George Washington   \n",
       "998      202                                      Drowning Ruth   \n",
       "999      303                               Harvesting the Heart   \n",
       "\n",
       "     count_reviews  average_rating  \n",
       "0                2            5.00  \n",
       "1                2            5.00  \n",
       "2                2            5.00  \n",
       "3                2            5.00  \n",
       "4                1            5.00  \n",
       "..             ...             ...  \n",
       "995              3            2.25  \n",
       "996              2            2.00  \n",
       "997              2            2.00  \n",
       "998              3            2.00  \n",
       "999              2            1.50  \n",
       "\n",
       "[1000 rows x 4 columns]"
      ]
     },
     "execution_count": 10,
     "metadata": {},
     "output_type": "execute_result"
    }
   ],
   "source": [
    "query_7 = '''\n",
    "SELECT\n",
    "    book_id,\n",
    "    title,\n",
    "    count_reviews,\n",
    "    average_rating\n",
    "FROM\n",
    "    \n",
    "    -- подзапрос для определения количества оценок    \n",
    "    (SELECT\n",
    "        books.book_id AS book_id_0,\n",
    "        AVG(rating) AS average_rating\n",
    "    FROM\n",
    "        books\n",
    "        LEFT JOIN ratings ON ratings.book_id = books.book_id\n",
    "    GROUP BY\n",
    "        books.book_id) AS SBQ1\n",
    "\n",
    "    INNER JOIN\n",
    "    \n",
    "    -- подзапрос для определения количества ревью\n",
    "    (SELECT\n",
    "        books.book_id AS book_id_1,\n",
    "        COUNT(review_id) AS count_reviews\n",
    "    FROM\n",
    "        books\n",
    "        LEFT JOIN reviews ON reviews.book_id = books.book_id\n",
    "    GROUP BY\n",
    "        books.book_id) AS SBQ2\n",
    "        \n",
    "    ON SBQ1.book_id_0 = SBQ2.book_id_1\n",
    "\n",
    "    -- объединение с books для определения названия книги по id\n",
    "    LEFT JOIN books ON SBQ1.book_id_0 = books.book_id\n",
    "\n",
    "ORDER BY\n",
    "    average_rating DESC\n",
    "'''\n",
    "\n",
    "count_reviews_average_rating = pd.io.sql.read_sql(query_7, con = engine)\n",
    "count_reviews_average_rating"
   ]
  },
  {
   "cell_type": "markdown",
   "metadata": {},
   "source": [
    "## Издательство, выпустившее наибольшее число книг толще 50 страниц"
   ]
  },
  {
   "cell_type": "code",
   "execution_count": 11,
   "metadata": {},
   "outputs": [
    {
     "data": {
      "text/html": [
       "<div>\n",
       "<style scoped>\n",
       "    .dataframe tbody tr th:only-of-type {\n",
       "        vertical-align: middle;\n",
       "    }\n",
       "\n",
       "    .dataframe tbody tr th {\n",
       "        vertical-align: top;\n",
       "    }\n",
       "\n",
       "    .dataframe thead th {\n",
       "        text-align: right;\n",
       "    }\n",
       "</style>\n",
       "<table border=\"1\" class=\"dataframe\">\n",
       "  <thead>\n",
       "    <tr style=\"text-align: right;\">\n",
       "      <th></th>\n",
       "      <th>publisher</th>\n",
       "      <th>count_books</th>\n",
       "    </tr>\n",
       "  </thead>\n",
       "  <tbody>\n",
       "    <tr>\n",
       "      <th>0</th>\n",
       "      <td>Penguin Books</td>\n",
       "      <td>42</td>\n",
       "    </tr>\n",
       "  </tbody>\n",
       "</table>\n",
       "</div>"
      ],
      "text/plain": [
       "       publisher  count_books\n",
       "0  Penguin Books           42"
      ]
     },
     "metadata": {},
     "output_type": "display_data"
    },
    {
     "name": "stdout",
     "output_type": "stream",
     "text": [
      "Издательство Penguin Books выпустило наибольшее число книг, с количество страниц больше 50, равное 42 шт.\n"
     ]
    }
   ],
   "source": [
    "query_8 = ''' \n",
    "SELECT\n",
    "    publishers.publisher,\n",
    "    COUNT(title) AS count_books\n",
    "FROM\n",
    "    books\n",
    "LEFT JOIN publishers ON publishers.publisher_id = books.publisher_id\n",
    "WHERE\n",
    "    books.num_pages > 50\n",
    "GROUP BY\n",
    "    publishers.publisher\n",
    "ORDER BY\n",
    "    count_books DESC\n",
    "LIMIT\n",
    "    1\n",
    "'''\n",
    "\n",
    "publisher_max_books = pd.io.sql.read_sql(query_8, con = engine)\n",
    "display(publisher_max_books)\n",
    "print('Издательство',\n",
    "      publisher_max_books['publisher'][0],\n",
    "      'выпустило наибольшее число книг, с количество страниц больше 50, равное',\n",
    "      publisher_max_books['count_books'][0],\n",
    "      'шт.')"
   ]
  },
  {
   "cell_type": "markdown",
   "metadata": {},
   "source": [
    "## Автор с самой высокой средней оценкой книг по книгам с 50 и более оценками"
   ]
  },
  {
   "cell_type": "code",
   "execution_count": 12,
   "metadata": {},
   "outputs": [
    {
     "data": {
      "text/html": [
       "<div>\n",
       "<style scoped>\n",
       "    .dataframe tbody tr th:only-of-type {\n",
       "        vertical-align: middle;\n",
       "    }\n",
       "\n",
       "    .dataframe tbody tr th {\n",
       "        vertical-align: top;\n",
       "    }\n",
       "\n",
       "    .dataframe thead th {\n",
       "        text-align: right;\n",
       "    }\n",
       "</style>\n",
       "<table border=\"1\" class=\"dataframe\">\n",
       "  <thead>\n",
       "    <tr style=\"text-align: right;\">\n",
       "      <th></th>\n",
       "      <th>author</th>\n",
       "      <th>average_ratings_author</th>\n",
       "    </tr>\n",
       "  </thead>\n",
       "  <tbody>\n",
       "    <tr>\n",
       "      <th>0</th>\n",
       "      <td>J.K. Rowling/Mary GrandPré</td>\n",
       "      <td>4.283844</td>\n",
       "    </tr>\n",
       "  </tbody>\n",
       "</table>\n",
       "</div>"
      ],
      "text/plain": [
       "                       author  average_ratings_author\n",
       "0  J.K. Rowling/Mary GrandPré                4.283844"
      ]
     },
     "metadata": {},
     "output_type": "display_data"
    },
    {
     "name": "stdout",
     "output_type": "stream",
     "text": [
      "Авторами с самой высокой средней оценкой являются J.K. Rowling/Mary GrandPré \n",
      "Средняя оценка равна 4.28\n"
     ]
    }
   ],
   "source": [
    "query_9 = '''\n",
    "SELECT\n",
    "    author,\n",
    "    AVG(average_ratings) AS average_ratings_author\n",
    "FROM\n",
    "\n",
    "    (SELECT\n",
    "        books.title,\n",
    "        MAX(books.author_id) AS author_id,\n",
    "        COUNT(ratings.rating) AS count_ratings,\n",
    "        AVG(ratings.rating) AS average_ratings\n",
    "    FROM\n",
    "        books\n",
    "    LEFT JOIN ratings ON ratings.book_id = books.book_id\n",
    "    GROUP BY\n",
    "        books.title\n",
    "    HAVING\n",
    "        COUNT(ratings.rating) >= 50\n",
    "    ORDER BY \n",
    "        count_ratings DESC) AS SBQ1\n",
    "    \n",
    "LEFT JOIN authors ON authors.author_id = SBQ1.author_id\n",
    "GROUP BY\n",
    "    author\n",
    "ORDER BY\n",
    "    average_ratings_author DESC\n",
    "LIMIT\n",
    "    1\n",
    "'''\n",
    "\n",
    "author_max_rating = pd.io.sql.read_sql(query_9, con = engine)\n",
    "display(author_max_rating)\n",
    "\n",
    "print('Авторами с самой высокой средней оценкой являются',\n",
    "      author_max_rating['author'][0],\n",
    "      '\\nСредняя оценка равна',\n",
    "      (author_max_rating['average_ratings_author'][0]).round(2))"
   ]
  },
  {
   "cell_type": "markdown",
   "metadata": {},
   "source": [
    "## Среднее количество обзоров от пользователей, которые поставили больше 50 оценок"
   ]
  },
  {
   "cell_type": "code",
   "execution_count": 13,
   "metadata": {},
   "outputs": [
    {
     "data": {
      "text/html": [
       "<div>\n",
       "<style scoped>\n",
       "    .dataframe tbody tr th:only-of-type {\n",
       "        vertical-align: middle;\n",
       "    }\n",
       "\n",
       "    .dataframe tbody tr th {\n",
       "        vertical-align: top;\n",
       "    }\n",
       "\n",
       "    .dataframe thead th {\n",
       "        text-align: right;\n",
       "    }\n",
       "</style>\n",
       "<table border=\"1\" class=\"dataframe\">\n",
       "  <thead>\n",
       "    <tr style=\"text-align: right;\">\n",
       "      <th></th>\n",
       "      <th>average_reviews</th>\n",
       "    </tr>\n",
       "  </thead>\n",
       "  <tbody>\n",
       "    <tr>\n",
       "      <th>0</th>\n",
       "      <td>24.333333</td>\n",
       "    </tr>\n",
       "  </tbody>\n",
       "</table>\n",
       "</div>"
      ],
      "text/plain": [
       "   average_reviews\n",
       "0        24.333333"
      ]
     },
     "metadata": {},
     "output_type": "display_data"
    },
    {
     "name": "stdout",
     "output_type": "stream",
     "text": [
      "Среднее количество обзоров от пользователей, которые поставили больше 50 оценок равно 24.33\n"
     ]
    }
   ],
   "source": [
    "query_10 = '''\n",
    "SELECT\n",
    "    AVG(count_review_id) AS average_reviews\n",
    "FROM\n",
    "    (SELECT\n",
    "        username,\n",
    "        COUNT(rating) AS count_rating\n",
    "    FROM\n",
    "        books\n",
    "    LEFT JOIN ratings ON ratings.book_id = books.book_id\n",
    "    GROUP BY\n",
    "        username\n",
    "    HAVING\n",
    "        COUNT(rating) > 50\n",
    "    ORDER BY\n",
    "        count_rating DESC) AS SBQ1\n",
    "LEFT JOIN\n",
    "    (SELECT\n",
    "        username,\n",
    "        COUNT(review_id) AS count_review_id\n",
    "    FROM\n",
    "        reviews\n",
    "    GROUP BY\n",
    "        username\n",
    "    ORDER BY\n",
    "        count_review_id DESC) AS SBQ2\n",
    "ON SBQ1.username = SBQ2.username\n",
    "'''\n",
    "\n",
    "average_reviews = pd.io.sql.read_sql(query_10, con = engine)\n",
    "display(average_reviews)\n",
    "\n",
    "print('Среднее количество обзоров от пользователей, которые поставили больше 50 оценок равно',\n",
    "      (average_reviews['average_reviews'][0]).round(2))"
   ]
  },
  {
   "cell_type": "markdown",
   "metadata": {},
   "source": [
    "## Выводы"
   ]
  },
  {
   "cell_type": "markdown",
   "metadata": {},
   "source": [
    "Из базы данных приобретённого сервиса были получены ответы на вопросы:\n",
    "\n",
    "    1) После 1 января 2000 года включительно на сервисе вышла 821 книга.\n",
    "    2) Были посчитаны количество обзоров и средняя оценка для каждой книги.\n",
    "    3) Среди книг с количеством страниц больше 50, больше всех выпустило издательство \"Penguin Books\", а именно 42 книги.\n",
    "    4) Среди книг с 50 и более оценками, авторами с самой высокой средней оценкой являются J.K. Rowling/Mary GrandPré. Средняя оценка равна 4.28\n",
    "    5) Среднее количество обзоров от пользователей, которые поставили больше 50 оценок равно 24.33 обзора."
   ]
  }
 ],
 "metadata": {
  "ExecuteTimeLog": [
   {
    "duration": 62,
    "start_time": "2022-02-10T18:22:44.889Z"
   },
   {
    "duration": 627,
    "start_time": "2022-02-10T18:23:16.345Z"
   },
   {
    "duration": 236,
    "start_time": "2022-02-10T18:23:16.973Z"
   },
   {
    "duration": -5703,
    "start_time": "2022-02-10T18:23:22.914Z"
   },
   {
    "duration": -5709,
    "start_time": "2022-02-10T18:23:22.921Z"
   },
   {
    "duration": -5717,
    "start_time": "2022-02-10T18:23:22.930Z"
   },
   {
    "duration": -5720,
    "start_time": "2022-02-10T18:23:22.934Z"
   },
   {
    "duration": -5722,
    "start_time": "2022-02-10T18:23:22.937Z"
   },
   {
    "duration": -5724,
    "start_time": "2022-02-10T18:23:22.940Z"
   },
   {
    "duration": -5726,
    "start_time": "2022-02-10T18:23:22.943Z"
   },
   {
    "duration": -5728,
    "start_time": "2022-02-10T18:23:22.946Z"
   },
   {
    "duration": 3,
    "start_time": "2022-02-10T18:26:30.425Z"
   },
   {
    "duration": 7,
    "start_time": "2022-02-10T18:26:30.432Z"
   },
   {
    "duration": 76,
    "start_time": "2022-02-10T18:26:30.441Z"
   },
   {
    "duration": 29,
    "start_time": "2022-02-10T18:26:30.520Z"
   },
   {
    "duration": 474,
    "start_time": "2022-02-10T18:26:30.551Z"
   },
   {
    "duration": 11,
    "start_time": "2022-02-10T18:26:31.026Z"
   },
   {
    "duration": 38,
    "start_time": "2022-02-10T18:26:31.039Z"
   },
   {
    "duration": 46,
    "start_time": "2022-02-10T18:26:31.079Z"
   },
   {
    "duration": 24,
    "start_time": "2022-02-10T18:26:31.128Z"
   },
   {
    "duration": 21,
    "start_time": "2022-02-10T18:26:31.154Z"
   },
   {
    "duration": 71,
    "start_time": "2022-02-10T18:35:10.069Z"
   },
   {
    "duration": 58,
    "start_time": "2022-02-10T18:35:26.902Z"
   },
   {
    "duration": 3,
    "start_time": "2022-02-10T18:35:59.676Z"
   },
   {
    "duration": 8,
    "start_time": "2022-02-10T18:35:59.681Z"
   },
   {
    "duration": 69,
    "start_time": "2022-02-10T18:35:59.691Z"
   },
   {
    "duration": 4,
    "start_time": "2022-02-10T18:35:59.762Z"
   },
   {
    "duration": 485,
    "start_time": "2022-02-10T18:35:59.768Z"
   },
   {
    "duration": 7,
    "start_time": "2022-02-10T18:36:00.254Z"
   },
   {
    "duration": 12,
    "start_time": "2022-02-10T18:36:00.263Z"
   },
   {
    "duration": 31,
    "start_time": "2022-02-10T18:36:00.277Z"
   },
   {
    "duration": 27,
    "start_time": "2022-02-10T18:36:00.310Z"
   },
   {
    "duration": 19,
    "start_time": "2022-02-10T18:36:00.339Z"
   },
   {
    "duration": 74,
    "start_time": "2022-02-10T18:36:00.359Z"
   },
   {
    "duration": 69,
    "start_time": "2022-02-10T18:36:00.434Z"
   },
   {
    "duration": 72,
    "start_time": "2022-02-10T18:36:00.505Z"
   },
   {
    "duration": 70,
    "start_time": "2022-02-10T18:36:00.579Z"
   },
   {
    "duration": 104,
    "start_time": "2022-02-10T18:36:23.918Z"
   },
   {
    "duration": 2,
    "start_time": "2022-02-10T18:36:33.525Z"
   },
   {
    "duration": 67,
    "start_time": "2022-02-10T18:36:33.529Z"
   },
   {
    "duration": 4,
    "start_time": "2022-02-10T18:36:33.598Z"
   },
   {
    "duration": 528,
    "start_time": "2022-02-10T18:36:33.603Z"
   },
   {
    "duration": 8,
    "start_time": "2022-02-10T18:36:34.133Z"
   },
   {
    "duration": 7,
    "start_time": "2022-02-10T18:36:34.142Z"
   },
   {
    "duration": 7,
    "start_time": "2022-02-10T18:36:34.151Z"
   },
   {
    "duration": 7,
    "start_time": "2022-02-10T18:36:34.160Z"
   },
   {
    "duration": 8,
    "start_time": "2022-02-10T18:36:34.168Z"
   },
   {
    "duration": 75,
    "start_time": "2022-02-10T18:36:34.177Z"
   },
   {
    "duration": 104,
    "start_time": "2022-02-10T18:36:34.253Z"
   },
   {
    "duration": 75,
    "start_time": "2022-02-10T18:36:34.359Z"
   },
   {
    "duration": 78,
    "start_time": "2022-02-10T18:36:34.435Z"
   },
   {
    "duration": 78,
    "start_time": "2022-02-10T18:36:34.514Z"
   },
   {
    "duration": 2,
    "start_time": "2022-02-10T18:36:52.678Z"
   },
   {
    "duration": 8,
    "start_time": "2022-02-10T18:36:52.682Z"
   },
   {
    "duration": 481,
    "start_time": "2022-02-10T18:36:52.691Z"
   },
   {
    "duration": 7,
    "start_time": "2022-02-10T18:36:53.174Z"
   },
   {
    "duration": 10,
    "start_time": "2022-02-10T18:36:53.182Z"
   },
   {
    "duration": 6,
    "start_time": "2022-02-10T18:36:53.194Z"
   },
   {
    "duration": 8,
    "start_time": "2022-02-10T18:36:53.202Z"
   },
   {
    "duration": 8,
    "start_time": "2022-02-10T18:36:53.212Z"
   },
   {
    "duration": 69,
    "start_time": "2022-02-10T18:36:53.222Z"
   },
   {
    "duration": 97,
    "start_time": "2022-02-10T18:36:53.293Z"
   },
   {
    "duration": 70,
    "start_time": "2022-02-10T18:36:53.391Z"
   },
   {
    "duration": 73,
    "start_time": "2022-02-10T18:36:53.463Z"
   },
   {
    "duration": 70,
    "start_time": "2022-02-10T18:36:53.538Z"
   },
   {
    "duration": 563,
    "start_time": "2022-02-10T18:36:58.705Z"
   },
   {
    "duration": 25,
    "start_time": "2022-02-10T18:36:59.270Z"
   },
   {
    "duration": 507,
    "start_time": "2022-02-10T18:36:59.297Z"
   },
   {
    "duration": 14,
    "start_time": "2022-02-10T18:36:59.806Z"
   },
   {
    "duration": 6,
    "start_time": "2022-02-10T18:36:59.821Z"
   },
   {
    "duration": 7,
    "start_time": "2022-02-10T18:36:59.829Z"
   },
   {
    "duration": 7,
    "start_time": "2022-02-10T18:36:59.838Z"
   },
   {
    "duration": 8,
    "start_time": "2022-02-10T18:36:59.847Z"
   },
   {
    "duration": 72,
    "start_time": "2022-02-10T18:36:59.857Z"
   },
   {
    "duration": 107,
    "start_time": "2022-02-10T18:36:59.930Z"
   },
   {
    "duration": 72,
    "start_time": "2022-02-10T18:37:00.038Z"
   },
   {
    "duration": 76,
    "start_time": "2022-02-10T18:37:00.112Z"
   },
   {
    "duration": 74,
    "start_time": "2022-02-10T18:37:00.190Z"
   },
   {
    "duration": 647,
    "start_time": "2022-02-11T14:24:24.234Z"
   },
   {
    "duration": 23,
    "start_time": "2022-02-11T14:24:24.882Z"
   },
   {
    "duration": 44,
    "start_time": "2022-02-11T14:24:24.907Z"
   },
   {
    "duration": 13,
    "start_time": "2022-02-11T14:24:24.953Z"
   },
   {
    "duration": 6,
    "start_time": "2022-02-11T14:24:24.967Z"
   },
   {
    "duration": 7,
    "start_time": "2022-02-11T14:24:24.975Z"
   },
   {
    "duration": 7,
    "start_time": "2022-02-11T14:24:24.983Z"
   },
   {
    "duration": 6,
    "start_time": "2022-02-11T14:24:24.992Z"
   },
   {
    "duration": 13,
    "start_time": "2022-02-11T14:24:25.000Z"
   },
   {
    "duration": 22,
    "start_time": "2022-02-11T14:24:25.014Z"
   },
   {
    "duration": 11,
    "start_time": "2022-02-11T14:24:25.038Z"
   },
   {
    "duration": 15,
    "start_time": "2022-02-11T14:24:25.050Z"
   },
   {
    "duration": 13,
    "start_time": "2022-02-11T14:24:25.066Z"
   },
   {
    "duration": 17,
    "start_time": "2022-02-11T14:33:39.448Z"
   },
   {
    "duration": 22,
    "start_time": "2022-02-11T14:33:42.951Z"
   },
   {
    "duration": 20,
    "start_time": "2022-02-11T14:35:43.225Z"
   },
   {
    "duration": 16,
    "start_time": "2022-02-11T14:36:22.662Z"
   },
   {
    "duration": 17,
    "start_time": "2022-02-11T14:36:39.550Z"
   },
   {
    "duration": 17,
    "start_time": "2022-02-11T14:36:47.637Z"
   },
   {
    "duration": 673,
    "start_time": "2022-02-11T14:41:05.595Z"
   },
   {
    "duration": 35,
    "start_time": "2022-02-11T14:41:06.270Z"
   },
   {
    "duration": 50,
    "start_time": "2022-02-11T14:41:06.308Z"
   },
   {
    "duration": 13,
    "start_time": "2022-02-11T14:41:06.360Z"
   },
   {
    "duration": 7,
    "start_time": "2022-02-11T14:41:06.374Z"
   },
   {
    "duration": 9,
    "start_time": "2022-02-11T14:41:06.383Z"
   },
   {
    "duration": 16,
    "start_time": "2022-02-11T14:41:06.394Z"
   },
   {
    "duration": 7,
    "start_time": "2022-02-11T14:41:06.412Z"
   },
   {
    "duration": 15,
    "start_time": "2022-02-11T14:41:06.421Z"
   },
   {
    "duration": 29,
    "start_time": "2022-02-11T14:41:06.438Z"
   },
   {
    "duration": 14,
    "start_time": "2022-02-11T14:41:06.469Z"
   },
   {
    "duration": 17,
    "start_time": "2022-02-11T14:41:06.485Z"
   },
   {
    "duration": 20,
    "start_time": "2022-02-11T14:41:06.504Z"
   },
   {
    "duration": 788,
    "start_time": "2022-02-12T05:19:34.060Z"
   },
   {
    "duration": 34,
    "start_time": "2022-02-12T05:19:34.851Z"
   },
   {
    "duration": 506,
    "start_time": "2022-02-12T05:19:34.887Z"
   },
   {
    "duration": 23,
    "start_time": "2022-02-12T05:19:35.396Z"
   },
   {
    "duration": 8,
    "start_time": "2022-02-12T05:19:35.422Z"
   },
   {
    "duration": 10,
    "start_time": "2022-02-12T05:19:35.432Z"
   },
   {
    "duration": 11,
    "start_time": "2022-02-12T05:19:35.444Z"
   },
   {
    "duration": 14,
    "start_time": "2022-02-12T05:19:35.458Z"
   },
   {
    "duration": 93,
    "start_time": "2022-02-12T05:19:35.474Z"
   },
   {
    "duration": 115,
    "start_time": "2022-02-12T05:19:35.569Z"
   },
   {
    "duration": 75,
    "start_time": "2022-02-12T05:19:35.687Z"
   },
   {
    "duration": 91,
    "start_time": "2022-02-12T05:19:35.764Z"
   },
   {
    "duration": 96,
    "start_time": "2022-02-12T05:19:35.857Z"
   },
   {
    "duration": 75,
    "start_time": "2022-02-12T05:19:48.955Z"
   },
   {
    "duration": 124,
    "start_time": "2022-02-12T05:23:11.660Z"
   },
   {
    "duration": 101,
    "start_time": "2022-02-12T05:24:27.249Z"
   },
   {
    "duration": 590,
    "start_time": "2022-02-12T05:25:06.158Z"
   },
   {
    "duration": 384,
    "start_time": "2022-02-12T05:25:31.520Z"
   },
   {
    "duration": 105,
    "start_time": "2022-02-12T05:26:18.942Z"
   },
   {
    "duration": 380,
    "start_time": "2022-02-12T05:28:10.575Z"
   },
   {
    "duration": 87,
    "start_time": "2022-02-12T05:28:43.573Z"
   },
   {
    "duration": 99,
    "start_time": "2022-02-12T05:29:06.932Z"
   },
   {
    "duration": 88,
    "start_time": "2022-02-12T05:29:12.188Z"
   },
   {
    "duration": 102,
    "start_time": "2022-02-12T05:29:58.372Z"
   },
   {
    "duration": 92,
    "start_time": "2022-02-12T05:30:17.954Z"
   },
   {
    "duration": 95,
    "start_time": "2022-02-12T05:34:04.746Z"
   },
   {
    "duration": 378,
    "start_time": "2022-02-12T05:36:42.814Z"
   },
   {
    "duration": 366,
    "start_time": "2022-02-12T05:38:38.381Z"
   },
   {
    "duration": 349,
    "start_time": "2022-02-12T05:38:43.060Z"
   },
   {
    "duration": 349,
    "start_time": "2022-02-12T05:40:06.460Z"
   },
   {
    "duration": 510,
    "start_time": "2022-02-12T05:40:29.347Z"
   },
   {
    "duration": 348,
    "start_time": "2022-02-12T05:40:32.570Z"
   },
   {
    "duration": 93,
    "start_time": "2022-02-12T05:41:11.394Z"
   },
   {
    "duration": 108,
    "start_time": "2022-02-12T05:41:51.017Z"
   },
   {
    "duration": 752,
    "start_time": "2022-02-12T05:46:59.077Z"
   },
   {
    "duration": 41,
    "start_time": "2022-02-12T05:46:59.832Z"
   },
   {
    "duration": 512,
    "start_time": "2022-02-12T05:46:59.876Z"
   },
   {
    "duration": 24,
    "start_time": "2022-02-12T05:47:00.391Z"
   },
   {
    "duration": 13,
    "start_time": "2022-02-12T05:47:00.418Z"
   },
   {
    "duration": 15,
    "start_time": "2022-02-12T05:47:00.433Z"
   },
   {
    "duration": 15,
    "start_time": "2022-02-12T05:47:00.450Z"
   },
   {
    "duration": 19,
    "start_time": "2022-02-12T05:47:00.469Z"
   },
   {
    "duration": 87,
    "start_time": "2022-02-12T05:47:00.491Z"
   },
   {
    "duration": 112,
    "start_time": "2022-02-12T05:47:00.580Z"
   },
   {
    "duration": 104,
    "start_time": "2022-02-12T05:47:00.694Z"
   },
   {
    "duration": 77,
    "start_time": "2022-02-12T05:47:00.800Z"
   },
   {
    "duration": 80,
    "start_time": "2022-02-12T05:47:00.879Z"
   },
   {
    "duration": 78,
    "start_time": "2022-02-12T05:47:00.961Z"
   },
   {
    "duration": 791,
    "start_time": "2022-02-12T05:54:59.609Z"
   },
   {
    "duration": 46,
    "start_time": "2022-02-12T05:55:00.402Z"
   },
   {
    "duration": 492,
    "start_time": "2022-02-12T05:55:00.452Z"
   },
   {
    "duration": 21,
    "start_time": "2022-02-12T05:55:00.947Z"
   },
   {
    "duration": 24,
    "start_time": "2022-02-12T05:55:00.971Z"
   },
   {
    "duration": 12,
    "start_time": "2022-02-12T05:55:00.997Z"
   },
   {
    "duration": 16,
    "start_time": "2022-02-12T05:55:01.011Z"
   },
   {
    "duration": 25,
    "start_time": "2022-02-12T05:55:01.030Z"
   },
   {
    "duration": 80,
    "start_time": "2022-02-12T05:55:01.058Z"
   },
   {
    "duration": 106,
    "start_time": "2022-02-12T05:55:01.141Z"
   },
   {
    "duration": 74,
    "start_time": "2022-02-12T05:55:01.249Z"
   },
   {
    "duration": 79,
    "start_time": "2022-02-12T05:55:01.325Z"
   },
   {
    "duration": 77,
    "start_time": "2022-02-12T05:55:01.407Z"
   },
   {
    "duration": 959,
    "start_time": "2022-02-12T06:08:00.883Z"
   },
   {
    "duration": 39,
    "start_time": "2022-02-12T06:08:01.845Z"
   },
   {
    "duration": 428,
    "start_time": "2022-02-12T06:08:01.888Z"
   },
   {
    "duration": 23,
    "start_time": "2022-02-12T06:08:02.319Z"
   },
   {
    "duration": 9,
    "start_time": "2022-02-12T06:08:02.345Z"
   },
   {
    "duration": 16,
    "start_time": "2022-02-12T06:08:02.356Z"
   },
   {
    "duration": 18,
    "start_time": "2022-02-12T06:08:02.375Z"
   },
   {
    "duration": 13,
    "start_time": "2022-02-12T06:08:02.395Z"
   },
   {
    "duration": 71,
    "start_time": "2022-02-12T06:08:02.412Z"
   },
   {
    "duration": 98,
    "start_time": "2022-02-12T06:08:02.486Z"
   },
   {
    "duration": 65,
    "start_time": "2022-02-12T06:08:02.587Z"
   },
   {
    "duration": 68,
    "start_time": "2022-02-12T06:08:02.655Z"
   },
   {
    "duration": 67,
    "start_time": "2022-02-12T06:08:02.725Z"
   }
  ],
  "kernelspec": {
   "display_name": "Python 3 (ipykernel)",
   "language": "python",
   "name": "python3"
  },
  "language_info": {
   "codemirror_mode": {
    "name": "ipython",
    "version": 3
   },
   "file_extension": ".py",
   "mimetype": "text/x-python",
   "name": "python",
   "nbconvert_exporter": "python",
   "pygments_lexer": "ipython3",
   "version": "3.9.7"
  },
  "toc": {
   "base_numbering": 1,
   "nav_menu": {},
   "number_sections": true,
   "sideBar": true,
   "skip_h1_title": true,
   "title_cell": "Table of Contents",
   "title_sidebar": "Contents",
   "toc_cell": true,
   "toc_position": {
    "height": "calc(100% - 180px)",
    "left": "10px",
    "top": "150px",
    "width": "165px"
   },
   "toc_section_display": true,
   "toc_window_display": true
  }
 },
 "nbformat": 4,
 "nbformat_minor": 2
}
