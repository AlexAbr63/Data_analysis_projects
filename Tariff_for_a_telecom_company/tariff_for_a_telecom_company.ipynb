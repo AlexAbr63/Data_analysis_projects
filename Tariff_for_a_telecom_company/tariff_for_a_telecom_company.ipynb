{
 "cells": [
  {
   "cell_type": "markdown",
   "metadata": {
    "toc": true
   },
   "source": [
    "<h1>Table of Contents<span class=\"tocSkip\"></span></h1>\n",
    "<div class=\"toc\"><ul class=\"toc-item\"><li><span><a href=\"#Загрузка-данных\" data-toc-modified-id=\"Загрузка-данных-1\"><span class=\"toc-item-num\">1&nbsp;&nbsp;</span>Загрузка данных</a></span></li><li><span><a href=\"#Предобработка-данных\" data-toc-modified-id=\"Предобработка-данных-2\"><span class=\"toc-item-num\">2&nbsp;&nbsp;</span>Предобработка данных</a></span><ul class=\"toc-item\"><li><span><a href=\"#Поиск-проблем-в-данных\" data-toc-modified-id=\"Поиск-проблем-в-данных-2.1\"><span class=\"toc-item-num\">2.1&nbsp;&nbsp;</span>Поиск проблем в данных</a></span></li><li><span><a href=\"#Изменение-данных\" data-toc-modified-id=\"Изменение-данных-2.2\"><span class=\"toc-item-num\">2.2&nbsp;&nbsp;</span>Изменение данных</a></span></li><li><span><a href=\"#Расчёт-данных-по-пользователям\" data-toc-modified-id=\"Расчёт-данных-по-пользователям-2.3\"><span class=\"toc-item-num\">2.3&nbsp;&nbsp;</span>Расчёт данных по пользователям</a></span></li><li><span><a href=\"#Выводы\" data-toc-modified-id=\"Выводы-2.4\"><span class=\"toc-item-num\">2.4&nbsp;&nbsp;</span>Выводы</a></span></li></ul></li><li><span><a href=\"#Исследование-поведения-клиентов\" data-toc-modified-id=\"Исследование-поведения-клиентов-3\"><span class=\"toc-item-num\">3&nbsp;&nbsp;</span>Исследование поведения клиентов</a></span><ul class=\"toc-item\"><li><span><a href=\"#Выводы\" data-toc-modified-id=\"Выводы-3.1\"><span class=\"toc-item-num\">3.1&nbsp;&nbsp;</span>Выводы</a></span></li></ul></li><li><span><a href=\"#Проверка-гипотез\" data-toc-modified-id=\"Проверка-гипотез-4\"><span class=\"toc-item-num\">4&nbsp;&nbsp;</span>Проверка гипотез</a></span><ul class=\"toc-item\"><li><span><a href=\"#Сравнение-тарифов-«Ультра»-и-«Смарт»\" data-toc-modified-id=\"Сравнение-тарифов-«Ультра»-и-«Смарт»-4.1\"><span class=\"toc-item-num\">4.1&nbsp;&nbsp;</span>Сравнение тарифов «Ультра» и «Смарт»</a></span></li><li><span><a href=\"#Cравнение-пользователей-из-Москвы-и-пользователей-из-других-регионов\" data-toc-modified-id=\"Cравнение-пользователей-из-Москвы-и-пользователей-из-других-регионов-4.2\"><span class=\"toc-item-num\">4.2&nbsp;&nbsp;</span>Cравнение пользователей из Москвы и пользователей из других регионов</a></span></li><li><span><a href=\"#Выводы\" data-toc-modified-id=\"Выводы-4.3\"><span class=\"toc-item-num\">4.3&nbsp;&nbsp;</span>Выводы</a></span></li></ul></li><li><span><a href=\"#Общий-вывод\" data-toc-modified-id=\"Общий-вывод-5\"><span class=\"toc-item-num\">5&nbsp;&nbsp;</span>Общий вывод</a></span></li></ul></div>"
   ]
  },
  {
   "cell_type": "markdown",
   "metadata": {},
   "source": [
    "# Определение перспективного тарифа для телеком-компании"
   ]
  },
  {
   "cell_type": "markdown",
   "metadata": {},
   "source": [
    "Клиентам оператора сотовой связи предлагают два тарифных плана: «Смарт» и «Ультра». Чтобы скорректировать рекламный бюджет, коммерческий департамент хочет понять, какой тариф приносит больше денег. Необходимо провести исследование данных пользователей и выявить, какой тариф лучше."
   ]
  },
  {
   "cell_type": "markdown",
   "metadata": {},
   "source": [
    "## Загрузка данных"
   ]
  },
  {
   "cell_type": "code",
   "execution_count": 1,
   "metadata": {},
   "outputs": [],
   "source": [
    "# Импорт библиотек\n",
    "import pandas as pd\n",
    "import numpy as np\n",
    "import matplotlib.pyplot as plt\n",
    "import seaborn as sns\n",
    "from scipy import stats as st"
   ]
  },
  {
   "cell_type": "code",
   "execution_count": 2,
   "metadata": {},
   "outputs": [],
   "source": [
    "# настройка отображения всех столбцов\n",
    "pd.set_option('display.max_columns', None)"
   ]
  },
  {
   "cell_type": "markdown",
   "metadata": {},
   "source": [
    "Отключение вывода в прокручиваемом окне:"
   ]
  },
  {
   "cell_type": "code",
   "execution_count": 3,
   "metadata": {},
   "outputs": [
    {
     "data": {
      "application/javascript": [
       "IPython.OutputArea.prototype._should_scroll = function(lines) {\n",
       "    return false;\n",
       "}\n"
      ],
      "text/plain": [
       "<IPython.core.display.Javascript object>"
      ]
     },
     "metadata": {},
     "output_type": "display_data"
    }
   ],
   "source": [
    "%%javascript\n",
    "IPython.OutputArea.prototype._should_scroll = function(lines) {\n",
    "    return false;\n",
    "}"
   ]
  },
  {
   "cell_type": "code",
   "execution_count": 4,
   "metadata": {},
   "outputs": [
    {
     "data": {
      "text/html": [
       "<div>\n",
       "<style scoped>\n",
       "    .dataframe tbody tr th:only-of-type {\n",
       "        vertical-align: middle;\n",
       "    }\n",
       "\n",
       "    .dataframe tbody tr th {\n",
       "        vertical-align: top;\n",
       "    }\n",
       "\n",
       "    .dataframe thead th {\n",
       "        text-align: right;\n",
       "    }\n",
       "</style>\n",
       "<table border=\"1\" class=\"dataframe\">\n",
       "  <thead>\n",
       "    <tr style=\"text-align: right;\">\n",
       "      <th></th>\n",
       "      <th>messages_included</th>\n",
       "      <th>mb_per_month_included</th>\n",
       "      <th>minutes_included</th>\n",
       "      <th>rub_monthly_fee</th>\n",
       "      <th>rub_per_gb</th>\n",
       "      <th>rub_per_message</th>\n",
       "      <th>rub_per_minute</th>\n",
       "      <th>tariff_name</th>\n",
       "    </tr>\n",
       "  </thead>\n",
       "  <tbody>\n",
       "    <tr>\n",
       "      <th>0</th>\n",
       "      <td>50</td>\n",
       "      <td>15360</td>\n",
       "      <td>500</td>\n",
       "      <td>550</td>\n",
       "      <td>200</td>\n",
       "      <td>3</td>\n",
       "      <td>3</td>\n",
       "      <td>smart</td>\n",
       "    </tr>\n",
       "    <tr>\n",
       "      <th>1</th>\n",
       "      <td>1000</td>\n",
       "      <td>30720</td>\n",
       "      <td>3000</td>\n",
       "      <td>1950</td>\n",
       "      <td>150</td>\n",
       "      <td>1</td>\n",
       "      <td>1</td>\n",
       "      <td>ultra</td>\n",
       "    </tr>\n",
       "  </tbody>\n",
       "</table>\n",
       "</div>"
      ],
      "text/plain": [
       "   messages_included  mb_per_month_included  minutes_included  \\\n",
       "0                 50                  15360               500   \n",
       "1               1000                  30720              3000   \n",
       "\n",
       "   rub_monthly_fee  rub_per_gb  rub_per_message  rub_per_minute tariff_name  \n",
       "0              550         200                3               3       smart  \n",
       "1             1950         150                1               1       ultra  "
      ]
     },
     "metadata": {},
     "output_type": "display_data"
    },
    {
     "name": "stdout",
     "output_type": "stream",
     "text": [
      "<class 'pandas.core.frame.DataFrame'>\n",
      "RangeIndex: 2 entries, 0 to 1\n",
      "Data columns (total 8 columns):\n",
      " #   Column                 Non-Null Count  Dtype \n",
      "---  ------                 --------------  ----- \n",
      " 0   messages_included      2 non-null      int64 \n",
      " 1   mb_per_month_included  2 non-null      int64 \n",
      " 2   minutes_included       2 non-null      int64 \n",
      " 3   rub_monthly_fee        2 non-null      int64 \n",
      " 4   rub_per_gb             2 non-null      int64 \n",
      " 5   rub_per_message        2 non-null      int64 \n",
      " 6   rub_per_minute         2 non-null      int64 \n",
      " 7   tariff_name            2 non-null      object\n",
      "dtypes: int64(7), object(1)\n",
      "memory usage: 256.0+ bytes\n",
      "None\n",
      "\n"
     ]
    },
    {
     "data": {
      "text/html": [
       "<div>\n",
       "<style scoped>\n",
       "    .dataframe tbody tr th:only-of-type {\n",
       "        vertical-align: middle;\n",
       "    }\n",
       "\n",
       "    .dataframe tbody tr th {\n",
       "        vertical-align: top;\n",
       "    }\n",
       "\n",
       "    .dataframe thead th {\n",
       "        text-align: right;\n",
       "    }\n",
       "</style>\n",
       "<table border=\"1\" class=\"dataframe\">\n",
       "  <thead>\n",
       "    <tr style=\"text-align: right;\">\n",
       "      <th></th>\n",
       "      <th>user_id</th>\n",
       "      <th>age</th>\n",
       "      <th>churn_date</th>\n",
       "      <th>city</th>\n",
       "      <th>first_name</th>\n",
       "      <th>last_name</th>\n",
       "      <th>reg_date</th>\n",
       "      <th>tariff</th>\n",
       "    </tr>\n",
       "  </thead>\n",
       "  <tbody>\n",
       "    <tr>\n",
       "      <th>0</th>\n",
       "      <td>1000</td>\n",
       "      <td>52</td>\n",
       "      <td>NaN</td>\n",
       "      <td>Краснодар</td>\n",
       "      <td>Рафаил</td>\n",
       "      <td>Верещагин</td>\n",
       "      <td>2018-05-25</td>\n",
       "      <td>ultra</td>\n",
       "    </tr>\n",
       "    <tr>\n",
       "      <th>1</th>\n",
       "      <td>1001</td>\n",
       "      <td>41</td>\n",
       "      <td>NaN</td>\n",
       "      <td>Москва</td>\n",
       "      <td>Иван</td>\n",
       "      <td>Ежов</td>\n",
       "      <td>2018-11-01</td>\n",
       "      <td>smart</td>\n",
       "    </tr>\n",
       "    <tr>\n",
       "      <th>2</th>\n",
       "      <td>1002</td>\n",
       "      <td>59</td>\n",
       "      <td>NaN</td>\n",
       "      <td>Стерлитамак</td>\n",
       "      <td>Евгений</td>\n",
       "      <td>Абрамович</td>\n",
       "      <td>2018-06-17</td>\n",
       "      <td>smart</td>\n",
       "    </tr>\n",
       "  </tbody>\n",
       "</table>\n",
       "</div>"
      ],
      "text/plain": [
       "   user_id  age churn_date         city first_name  last_name    reg_date  \\\n",
       "0     1000   52        NaN    Краснодар     Рафаил  Верещагин  2018-05-25   \n",
       "1     1001   41        NaN       Москва       Иван       Ежов  2018-11-01   \n",
       "2     1002   59        NaN  Стерлитамак    Евгений  Абрамович  2018-06-17   \n",
       "\n",
       "  tariff  \n",
       "0  ultra  \n",
       "1  smart  \n",
       "2  smart  "
      ]
     },
     "metadata": {},
     "output_type": "display_data"
    },
    {
     "name": "stdout",
     "output_type": "stream",
     "text": [
      "<class 'pandas.core.frame.DataFrame'>\n",
      "RangeIndex: 500 entries, 0 to 499\n",
      "Data columns (total 8 columns):\n",
      " #   Column      Non-Null Count  Dtype \n",
      "---  ------      --------------  ----- \n",
      " 0   user_id     500 non-null    int64 \n",
      " 1   age         500 non-null    int64 \n",
      " 2   churn_date  38 non-null     object\n",
      " 3   city        500 non-null    object\n",
      " 4   first_name  500 non-null    object\n",
      " 5   last_name   500 non-null    object\n",
      " 6   reg_date    500 non-null    object\n",
      " 7   tariff      500 non-null    object\n",
      "dtypes: int64(2), object(6)\n",
      "memory usage: 31.4+ KB\n",
      "None\n",
      "\n"
     ]
    },
    {
     "data": {
      "text/html": [
       "<div>\n",
       "<style scoped>\n",
       "    .dataframe tbody tr th:only-of-type {\n",
       "        vertical-align: middle;\n",
       "    }\n",
       "\n",
       "    .dataframe tbody tr th {\n",
       "        vertical-align: top;\n",
       "    }\n",
       "\n",
       "    .dataframe thead th {\n",
       "        text-align: right;\n",
       "    }\n",
       "</style>\n",
       "<table border=\"1\" class=\"dataframe\">\n",
       "  <thead>\n",
       "    <tr style=\"text-align: right;\">\n",
       "      <th></th>\n",
       "      <th>id</th>\n",
       "      <th>call_date</th>\n",
       "      <th>duration</th>\n",
       "      <th>user_id</th>\n",
       "    </tr>\n",
       "  </thead>\n",
       "  <tbody>\n",
       "    <tr>\n",
       "      <th>0</th>\n",
       "      <td>1000_0</td>\n",
       "      <td>2018-07-25</td>\n",
       "      <td>0.00</td>\n",
       "      <td>1000</td>\n",
       "    </tr>\n",
       "    <tr>\n",
       "      <th>1</th>\n",
       "      <td>1000_1</td>\n",
       "      <td>2018-08-17</td>\n",
       "      <td>0.00</td>\n",
       "      <td>1000</td>\n",
       "    </tr>\n",
       "    <tr>\n",
       "      <th>2</th>\n",
       "      <td>1000_2</td>\n",
       "      <td>2018-06-11</td>\n",
       "      <td>2.85</td>\n",
       "      <td>1000</td>\n",
       "    </tr>\n",
       "  </tbody>\n",
       "</table>\n",
       "</div>"
      ],
      "text/plain": [
       "       id   call_date  duration  user_id\n",
       "0  1000_0  2018-07-25      0.00     1000\n",
       "1  1000_1  2018-08-17      0.00     1000\n",
       "2  1000_2  2018-06-11      2.85     1000"
      ]
     },
     "metadata": {},
     "output_type": "display_data"
    },
    {
     "name": "stdout",
     "output_type": "stream",
     "text": [
      "<class 'pandas.core.frame.DataFrame'>\n",
      "RangeIndex: 202607 entries, 0 to 202606\n",
      "Data columns (total 4 columns):\n",
      " #   Column     Non-Null Count   Dtype  \n",
      "---  ------     --------------   -----  \n",
      " 0   id         202607 non-null  object \n",
      " 1   call_date  202607 non-null  object \n",
      " 2   duration   202607 non-null  float64\n",
      " 3   user_id    202607 non-null  int64  \n",
      "dtypes: float64(1), int64(1), object(2)\n",
      "memory usage: 6.2+ MB\n",
      "None\n",
      "\n"
     ]
    },
    {
     "data": {
      "text/html": [
       "<div>\n",
       "<style scoped>\n",
       "    .dataframe tbody tr th:only-of-type {\n",
       "        vertical-align: middle;\n",
       "    }\n",
       "\n",
       "    .dataframe tbody tr th {\n",
       "        vertical-align: top;\n",
       "    }\n",
       "\n",
       "    .dataframe thead th {\n",
       "        text-align: right;\n",
       "    }\n",
       "</style>\n",
       "<table border=\"1\" class=\"dataframe\">\n",
       "  <thead>\n",
       "    <tr style=\"text-align: right;\">\n",
       "      <th></th>\n",
       "      <th>Unnamed: 0</th>\n",
       "      <th>id</th>\n",
       "      <th>mb_used</th>\n",
       "      <th>session_date</th>\n",
       "      <th>user_id</th>\n",
       "    </tr>\n",
       "  </thead>\n",
       "  <tbody>\n",
       "    <tr>\n",
       "      <th>0</th>\n",
       "      <td>0</td>\n",
       "      <td>1000_0</td>\n",
       "      <td>112.95</td>\n",
       "      <td>2018-11-25</td>\n",
       "      <td>1000</td>\n",
       "    </tr>\n",
       "    <tr>\n",
       "      <th>1</th>\n",
       "      <td>1</td>\n",
       "      <td>1000_1</td>\n",
       "      <td>1052.81</td>\n",
       "      <td>2018-09-07</td>\n",
       "      <td>1000</td>\n",
       "    </tr>\n",
       "    <tr>\n",
       "      <th>2</th>\n",
       "      <td>2</td>\n",
       "      <td>1000_2</td>\n",
       "      <td>1197.26</td>\n",
       "      <td>2018-06-25</td>\n",
       "      <td>1000</td>\n",
       "    </tr>\n",
       "  </tbody>\n",
       "</table>\n",
       "</div>"
      ],
      "text/plain": [
       "   Unnamed: 0      id  mb_used session_date  user_id\n",
       "0           0  1000_0   112.95   2018-11-25     1000\n",
       "1           1  1000_1  1052.81   2018-09-07     1000\n",
       "2           2  1000_2  1197.26   2018-06-25     1000"
      ]
     },
     "metadata": {},
     "output_type": "display_data"
    },
    {
     "name": "stdout",
     "output_type": "stream",
     "text": [
      "<class 'pandas.core.frame.DataFrame'>\n",
      "RangeIndex: 149396 entries, 0 to 149395\n",
      "Data columns (total 5 columns):\n",
      " #   Column        Non-Null Count   Dtype  \n",
      "---  ------        --------------   -----  \n",
      " 0   Unnamed: 0    149396 non-null  int64  \n",
      " 1   id            149396 non-null  object \n",
      " 2   mb_used       149396 non-null  float64\n",
      " 3   session_date  149396 non-null  object \n",
      " 4   user_id       149396 non-null  int64  \n",
      "dtypes: float64(1), int64(2), object(2)\n",
      "memory usage: 5.7+ MB\n",
      "None\n",
      "\n"
     ]
    },
    {
     "data": {
      "text/html": [
       "<div>\n",
       "<style scoped>\n",
       "    .dataframe tbody tr th:only-of-type {\n",
       "        vertical-align: middle;\n",
       "    }\n",
       "\n",
       "    .dataframe tbody tr th {\n",
       "        vertical-align: top;\n",
       "    }\n",
       "\n",
       "    .dataframe thead th {\n",
       "        text-align: right;\n",
       "    }\n",
       "</style>\n",
       "<table border=\"1\" class=\"dataframe\">\n",
       "  <thead>\n",
       "    <tr style=\"text-align: right;\">\n",
       "      <th></th>\n",
       "      <th>id</th>\n",
       "      <th>message_date</th>\n",
       "      <th>user_id</th>\n",
       "    </tr>\n",
       "  </thead>\n",
       "  <tbody>\n",
       "    <tr>\n",
       "      <th>0</th>\n",
       "      <td>1000_0</td>\n",
       "      <td>2018-06-27</td>\n",
       "      <td>1000</td>\n",
       "    </tr>\n",
       "    <tr>\n",
       "      <th>1</th>\n",
       "      <td>1000_1</td>\n",
       "      <td>2018-10-08</td>\n",
       "      <td>1000</td>\n",
       "    </tr>\n",
       "    <tr>\n",
       "      <th>2</th>\n",
       "      <td>1000_2</td>\n",
       "      <td>2018-08-04</td>\n",
       "      <td>1000</td>\n",
       "    </tr>\n",
       "  </tbody>\n",
       "</table>\n",
       "</div>"
      ],
      "text/plain": [
       "       id message_date  user_id\n",
       "0  1000_0   2018-06-27     1000\n",
       "1  1000_1   2018-10-08     1000\n",
       "2  1000_2   2018-08-04     1000"
      ]
     },
     "metadata": {},
     "output_type": "display_data"
    },
    {
     "name": "stdout",
     "output_type": "stream",
     "text": [
      "<class 'pandas.core.frame.DataFrame'>\n",
      "RangeIndex: 123036 entries, 0 to 123035\n",
      "Data columns (total 3 columns):\n",
      " #   Column        Non-Null Count   Dtype \n",
      "---  ------        --------------   ----- \n",
      " 0   id            123036 non-null  object\n",
      " 1   message_date  123036 non-null  object\n",
      " 2   user_id       123036 non-null  int64 \n",
      "dtypes: int64(1), object(2)\n",
      "memory usage: 2.8+ MB\n",
      "None\n",
      "\n"
     ]
    }
   ],
   "source": [
    "# Загрузка данных\n",
    "try:\n",
    "    df_calls = pd.read_csv('D:/DF_practicum/3/calls.csv')\n",
    "    df_internet = pd.read_csv('D:/DF_practicum/3/internet.csv')\n",
    "    df_messages = pd.read_csv('D:/DF_practicum/3/messages.csv')\n",
    "    df_tariffs = pd.read_csv('D:/DF_practicum/3/tariffs.csv')\n",
    "    df_users = pd.read_csv('D:/DF_practicum/3/users.csv')\n",
    "except:\n",
    "    df_calls = pd.read_csv('calls.csv')\n",
    "    df_internet = pd.read_csv('internet.csv')\n",
    "    df_messages = pd.read_csv('messages.csv')\n",
    "    df_tariffs = pd.read_csv('tariffs.csv')\n",
    "    df_users = pd.read_csv('users.csv')\n",
    "    \n",
    "df_df = [df_tariffs, df_users, df_calls, df_internet, df_messages]\n",
    "\n",
    "for x in df_df:\n",
    "    display(x.head(3))\n",
    "    print(x.info())\n",
    "    print()"
   ]
  },
  {
   "cell_type": "markdown",
   "metadata": {},
   "source": [
    "**Описание данных**\n",
    "\n",
    "Таблица users (информация о пользователях):\n",
    "\n",
    "- `user_id` — уникальный идентификатор пользователя\n",
    "- `first_name` — имя пользователя\n",
    "- `last_name` — фамилия пользователя\n",
    "- `age` — возраст пользователя (годы)\n",
    "- `reg_date` — дата подключения тарифа (день, месяц, год)\n",
    "- `churn_date` — дата прекращения пользования тарифом (если значение пропущено, то тариф ещё действовал на момент выгрузки данных)\n",
    "- `city` — город проживания пользователя\n",
    "- `tariff` — название тарифного плана\n",
    "\n",
    "Таблица calls (информация о звонках):\n",
    "- `id` — уникальный номер звонка\n",
    "- `call_date` — дата звонка\n",
    "- `duration` — длительность звонка в минутах\n",
    "- `user_id` — идентификатор пользователя, сделавшего звонок\n",
    "\n",
    "Таблица messages (информация о сообщениях):\n",
    "- `id` — уникальный номер сообщения\n",
    "- `message_date` — дата сообщения\n",
    "- `user_id` — идентификатор пользователя, отправившего сообщение\n",
    "\n",
    "Таблица internet (информация об интернет-сессиях):\n",
    "- `id` — уникальный номер сессии\n",
    "- `mb_used` — объём потраченного за сессию интернет-трафика (в мегабайтах)\n",
    "- `session_date` — дата интернет-сессии\n",
    "- `user_id` — идентификатор пользователя\n",
    "\n",
    "Таблица tariffs (информация о тарифах):\n",
    "- `tariff_name` — название тарифа\n",
    "- `rub_monthly_fee` — ежемесячная абонентская плата в рублях\n",
    "- `minutes_included` — количество минут разговора в месяц, включённых в абонентскую плату\n",
    "- `messages_included` — количество сообщений в месяц, включённых в абонентскую плату\n",
    "- `mb_per_month_included` — объём интернет-трафика, включённого в абонентскую плату (в мегабайтах)\n",
    "- `rub_per_minute` — стоимость минуты разговора сверх тарифного пакета (например, если в тарифе 100 минут разговора в месяц, то со 101 минуты будет взиматься плата)\n",
    "- `rub_per_message` — стоимость отправки сообщения сверх тарифного пакета\n",
    "- `rub_per_gb` — стоимость дополнительного гигабайта интернет-трафика сверх тарифного пакета (1 гигабайт = 1024 мегабайта)"
   ]
  },
  {
   "cell_type": "markdown",
   "metadata": {},
   "source": [
    "**Описание тарифов**\n",
    "\n",
    "| **Тариф «Смарт»** |  |\n",
    "| :-------------------- | :-------------------- |\n",
    "| Ежемесячная плата: | 550 рублей\n",
    "| Включено 500 минут разговора, 50 сообщений и 15 Гб интернет-трафика\n",
    "| Стоимость услуг сверх тарифного пакета:\n",
    "| минута разговора: | 3 рубля\n",
    "| сообщение: | 3 рубля\n",
    "| 1 Гб интернет-трафика: | 200 рублей\n",
    "\n",
    "| **Тариф «Ультра»** |  |\n",
    "| :-------------------- | :-------------------- |\n",
    "| Ежемесячная плата: | 1950 рублей |\n",
    "| Включено 3000 минут разговора, 1000 сообщений и 30 Гб интернет-трафика |\n",
    "| Стоимость услуг сверх тарифного пакета: |\n",
    "| минута разговора: | 1 рубля |\n",
    "| сообщение: | 1 рубля |\n",
    "| 1 Гб интернет-трафика: | 150 рублей |"
   ]
  },
  {
   "cell_type": "markdown",
   "metadata": {},
   "source": [
    "## Предобработка данных"
   ]
  },
  {
   "cell_type": "markdown",
   "metadata": {},
   "source": [
    "### Поиск проблем в данных"
   ]
  },
  {
   "cell_type": "code",
   "execution_count": 5,
   "metadata": {
    "scrolled": true
   },
   "outputs": [
    {
     "name": "stdout",
     "output_type": "stream",
     "text": [
      "messages_included        0\n",
      "mb_per_month_included    0\n",
      "minutes_included         0\n",
      "rub_monthly_fee          0\n",
      "rub_per_gb               0\n",
      "rub_per_message          0\n",
      "rub_per_minute           0\n",
      "tariff_name              0\n",
      "dtype: int64\n",
      "0\n",
      "\n",
      "user_id         0\n",
      "age             0\n",
      "churn_date    462\n",
      "city            0\n",
      "first_name      0\n",
      "last_name       0\n",
      "reg_date        0\n",
      "tariff          0\n",
      "dtype: int64\n",
      "0\n",
      "\n",
      "id           0\n",
      "call_date    0\n",
      "duration     0\n",
      "user_id      0\n",
      "dtype: int64\n",
      "0\n",
      "\n",
      "Unnamed: 0      0\n",
      "id              0\n",
      "mb_used         0\n",
      "session_date    0\n",
      "user_id         0\n",
      "dtype: int64\n",
      "0\n",
      "\n",
      "id              0\n",
      "message_date    0\n",
      "user_id         0\n",
      "dtype: int64\n",
      "0\n",
      "\n"
     ]
    }
   ],
   "source": [
    "# Поиск пропусков и дубликатов\n",
    "for z in df_df:\n",
    "    print(z.isna().sum())\n",
    "    print(z.duplicated().sum())\n",
    "    print()"
   ]
  },
  {
   "cell_type": "code",
   "execution_count": 6,
   "metadata": {},
   "outputs": [
    {
     "data": {
      "text/html": [
       "<div>\n",
       "<style scoped>\n",
       "    .dataframe tbody tr th:only-of-type {\n",
       "        vertical-align: middle;\n",
       "    }\n",
       "\n",
       "    .dataframe tbody tr th {\n",
       "        vertical-align: top;\n",
       "    }\n",
       "\n",
       "    .dataframe thead th {\n",
       "        text-align: right;\n",
       "    }\n",
       "</style>\n",
       "<table border=\"1\" class=\"dataframe\">\n",
       "  <thead>\n",
       "    <tr style=\"text-align: right;\">\n",
       "      <th></th>\n",
       "      <th>user_id</th>\n",
       "      <th>age</th>\n",
       "    </tr>\n",
       "  </thead>\n",
       "  <tbody>\n",
       "    <tr>\n",
       "      <th>count</th>\n",
       "      <td>500.000000</td>\n",
       "      <td>500.00000</td>\n",
       "    </tr>\n",
       "    <tr>\n",
       "      <th>mean</th>\n",
       "      <td>1249.500000</td>\n",
       "      <td>46.58800</td>\n",
       "    </tr>\n",
       "    <tr>\n",
       "      <th>std</th>\n",
       "      <td>144.481833</td>\n",
       "      <td>16.66763</td>\n",
       "    </tr>\n",
       "    <tr>\n",
       "      <th>min</th>\n",
       "      <td>1000.000000</td>\n",
       "      <td>18.00000</td>\n",
       "    </tr>\n",
       "    <tr>\n",
       "      <th>25%</th>\n",
       "      <td>1124.750000</td>\n",
       "      <td>32.00000</td>\n",
       "    </tr>\n",
       "    <tr>\n",
       "      <th>50%</th>\n",
       "      <td>1249.500000</td>\n",
       "      <td>46.00000</td>\n",
       "    </tr>\n",
       "    <tr>\n",
       "      <th>75%</th>\n",
       "      <td>1374.250000</td>\n",
       "      <td>62.00000</td>\n",
       "    </tr>\n",
       "    <tr>\n",
       "      <th>max</th>\n",
       "      <td>1499.000000</td>\n",
       "      <td>75.00000</td>\n",
       "    </tr>\n",
       "  </tbody>\n",
       "</table>\n",
       "</div>"
      ],
      "text/plain": [
       "           user_id        age\n",
       "count   500.000000  500.00000\n",
       "mean   1249.500000   46.58800\n",
       "std     144.481833   16.66763\n",
       "min    1000.000000   18.00000\n",
       "25%    1124.750000   32.00000\n",
       "50%    1249.500000   46.00000\n",
       "75%    1374.250000   62.00000\n",
       "max    1499.000000   75.00000"
      ]
     },
     "metadata": {},
     "output_type": "display_data"
    },
    {
     "data": {
      "text/html": [
       "<div>\n",
       "<style scoped>\n",
       "    .dataframe tbody tr th:only-of-type {\n",
       "        vertical-align: middle;\n",
       "    }\n",
       "\n",
       "    .dataframe tbody tr th {\n",
       "        vertical-align: top;\n",
       "    }\n",
       "\n",
       "    .dataframe thead th {\n",
       "        text-align: right;\n",
       "    }\n",
       "</style>\n",
       "<table border=\"1\" class=\"dataframe\">\n",
       "  <thead>\n",
       "    <tr style=\"text-align: right;\">\n",
       "      <th></th>\n",
       "      <th>duration</th>\n",
       "      <th>user_id</th>\n",
       "    </tr>\n",
       "  </thead>\n",
       "  <tbody>\n",
       "    <tr>\n",
       "      <th>count</th>\n",
       "      <td>202607.000000</td>\n",
       "      <td>202607.000000</td>\n",
       "    </tr>\n",
       "    <tr>\n",
       "      <th>mean</th>\n",
       "      <td>6.755887</td>\n",
       "      <td>1253.940619</td>\n",
       "    </tr>\n",
       "    <tr>\n",
       "      <th>std</th>\n",
       "      <td>5.843365</td>\n",
       "      <td>144.722751</td>\n",
       "    </tr>\n",
       "    <tr>\n",
       "      <th>min</th>\n",
       "      <td>0.000000</td>\n",
       "      <td>1000.000000</td>\n",
       "    </tr>\n",
       "    <tr>\n",
       "      <th>25%</th>\n",
       "      <td>1.300000</td>\n",
       "      <td>1126.000000</td>\n",
       "    </tr>\n",
       "    <tr>\n",
       "      <th>50%</th>\n",
       "      <td>6.000000</td>\n",
       "      <td>1260.000000</td>\n",
       "    </tr>\n",
       "    <tr>\n",
       "      <th>75%</th>\n",
       "      <td>10.700000</td>\n",
       "      <td>1379.000000</td>\n",
       "    </tr>\n",
       "    <tr>\n",
       "      <th>max</th>\n",
       "      <td>38.000000</td>\n",
       "      <td>1499.000000</td>\n",
       "    </tr>\n",
       "  </tbody>\n",
       "</table>\n",
       "</div>"
      ],
      "text/plain": [
       "            duration        user_id\n",
       "count  202607.000000  202607.000000\n",
       "mean        6.755887    1253.940619\n",
       "std         5.843365     144.722751\n",
       "min         0.000000    1000.000000\n",
       "25%         1.300000    1126.000000\n",
       "50%         6.000000    1260.000000\n",
       "75%        10.700000    1379.000000\n",
       "max        38.000000    1499.000000"
      ]
     },
     "metadata": {},
     "output_type": "display_data"
    },
    {
     "data": {
      "text/html": [
       "<div>\n",
       "<style scoped>\n",
       "    .dataframe tbody tr th:only-of-type {\n",
       "        vertical-align: middle;\n",
       "    }\n",
       "\n",
       "    .dataframe tbody tr th {\n",
       "        vertical-align: top;\n",
       "    }\n",
       "\n",
       "    .dataframe thead th {\n",
       "        text-align: right;\n",
       "    }\n",
       "</style>\n",
       "<table border=\"1\" class=\"dataframe\">\n",
       "  <thead>\n",
       "    <tr style=\"text-align: right;\">\n",
       "      <th></th>\n",
       "      <th>Unnamed: 0</th>\n",
       "      <th>mb_used</th>\n",
       "      <th>user_id</th>\n",
       "    </tr>\n",
       "  </thead>\n",
       "  <tbody>\n",
       "    <tr>\n",
       "      <th>count</th>\n",
       "      <td>149396.000000</td>\n",
       "      <td>149396.000000</td>\n",
       "      <td>149396.000000</td>\n",
       "    </tr>\n",
       "    <tr>\n",
       "      <th>mean</th>\n",
       "      <td>74697.500000</td>\n",
       "      <td>370.192426</td>\n",
       "      <td>1252.099842</td>\n",
       "    </tr>\n",
       "    <tr>\n",
       "      <th>std</th>\n",
       "      <td>43127.054745</td>\n",
       "      <td>278.300951</td>\n",
       "      <td>144.050823</td>\n",
       "    </tr>\n",
       "    <tr>\n",
       "      <th>min</th>\n",
       "      <td>0.000000</td>\n",
       "      <td>0.000000</td>\n",
       "      <td>1000.000000</td>\n",
       "    </tr>\n",
       "    <tr>\n",
       "      <th>25%</th>\n",
       "      <td>37348.750000</td>\n",
       "      <td>138.187500</td>\n",
       "      <td>1130.000000</td>\n",
       "    </tr>\n",
       "    <tr>\n",
       "      <th>50%</th>\n",
       "      <td>74697.500000</td>\n",
       "      <td>348.015000</td>\n",
       "      <td>1251.000000</td>\n",
       "    </tr>\n",
       "    <tr>\n",
       "      <th>75%</th>\n",
       "      <td>112046.250000</td>\n",
       "      <td>559.552500</td>\n",
       "      <td>1380.000000</td>\n",
       "    </tr>\n",
       "    <tr>\n",
       "      <th>max</th>\n",
       "      <td>149395.000000</td>\n",
       "      <td>1724.830000</td>\n",
       "      <td>1499.000000</td>\n",
       "    </tr>\n",
       "  </tbody>\n",
       "</table>\n",
       "</div>"
      ],
      "text/plain": [
       "          Unnamed: 0        mb_used        user_id\n",
       "count  149396.000000  149396.000000  149396.000000\n",
       "mean    74697.500000     370.192426    1252.099842\n",
       "std     43127.054745     278.300951     144.050823\n",
       "min         0.000000       0.000000    1000.000000\n",
       "25%     37348.750000     138.187500    1130.000000\n",
       "50%     74697.500000     348.015000    1251.000000\n",
       "75%    112046.250000     559.552500    1380.000000\n",
       "max    149395.000000    1724.830000    1499.000000"
      ]
     },
     "metadata": {},
     "output_type": "display_data"
    },
    {
     "data": {
      "text/html": [
       "<div>\n",
       "<style scoped>\n",
       "    .dataframe tbody tr th:only-of-type {\n",
       "        vertical-align: middle;\n",
       "    }\n",
       "\n",
       "    .dataframe tbody tr th {\n",
       "        vertical-align: top;\n",
       "    }\n",
       "\n",
       "    .dataframe thead th {\n",
       "        text-align: right;\n",
       "    }\n",
       "</style>\n",
       "<table border=\"1\" class=\"dataframe\">\n",
       "  <thead>\n",
       "    <tr style=\"text-align: right;\">\n",
       "      <th></th>\n",
       "      <th>user_id</th>\n",
       "    </tr>\n",
       "  </thead>\n",
       "  <tbody>\n",
       "    <tr>\n",
       "      <th>count</th>\n",
       "      <td>123036.000000</td>\n",
       "    </tr>\n",
       "    <tr>\n",
       "      <th>mean</th>\n",
       "      <td>1256.989410</td>\n",
       "    </tr>\n",
       "    <tr>\n",
       "      <th>std</th>\n",
       "      <td>143.523967</td>\n",
       "    </tr>\n",
       "    <tr>\n",
       "      <th>min</th>\n",
       "      <td>1000.000000</td>\n",
       "    </tr>\n",
       "    <tr>\n",
       "      <th>25%</th>\n",
       "      <td>1134.000000</td>\n",
       "    </tr>\n",
       "    <tr>\n",
       "      <th>50%</th>\n",
       "      <td>1271.000000</td>\n",
       "    </tr>\n",
       "    <tr>\n",
       "      <th>75%</th>\n",
       "      <td>1381.000000</td>\n",
       "    </tr>\n",
       "    <tr>\n",
       "      <th>max</th>\n",
       "      <td>1499.000000</td>\n",
       "    </tr>\n",
       "  </tbody>\n",
       "</table>\n",
       "</div>"
      ],
      "text/plain": [
       "             user_id\n",
       "count  123036.000000\n",
       "mean     1256.989410\n",
       "std       143.523967\n",
       "min      1000.000000\n",
       "25%      1134.000000\n",
       "50%      1271.000000\n",
       "75%      1381.000000\n",
       "max      1499.000000"
      ]
     },
     "metadata": {},
     "output_type": "display_data"
    }
   ],
   "source": [
    "# Проверка данных на неправильные значения (отрицательные, зашкаливающие)\n",
    "display(df_users.describe())\n",
    "display(df_calls.describe())\n",
    "display(df_internet.describe())\n",
    "display(df_messages.describe())"
   ]
  },
  {
   "cell_type": "code",
   "execution_count": 7,
   "metadata": {},
   "outputs": [
    {
     "name": "stdout",
     "output_type": "stream",
     "text": [
      "2018    500\n",
      "Name: reg_date, dtype: int64\n",
      "2018    202607\n",
      "Name: call_date, dtype: int64\n",
      "2018    149396\n",
      "Name: session_date, dtype: int64\n",
      "2018    123036\n",
      "Name: message_date, dtype: int64\n"
     ]
    }
   ],
   "source": [
    "# Проверка данных на год выгрузки 2018\n",
    "df_users['reg_date'] = pd.to_datetime(df_users['reg_date'], format = '%Y.%m.%d')\n",
    "print(pd.DatetimeIndex(df_users['reg_date']).year.value_counts())\n",
    "\n",
    "df_calls['call_date'] = pd.to_datetime(df_calls['call_date'], format = '%Y.%m.%d')\n",
    "print(pd.DatetimeIndex(df_calls['call_date']).year.value_counts())\n",
    "\n",
    "df_internet['session_date'] = pd.to_datetime(df_internet['session_date'], format = '%Y.%m.%d')\n",
    "print(pd.DatetimeIndex(df_internet['session_date']).year.value_counts())\n",
    "\n",
    "df_messages['message_date'] = pd.to_datetime(df_messages['message_date'], format = '%Y.%m.%d')\n",
    "print(pd.DatetimeIndex(df_messages['message_date']).year.value_counts())"
   ]
  },
  {
   "cell_type": "markdown",
   "metadata": {},
   "source": [
    "### Изменение данных\n",
    "Для того, что бы изучать и объединять данные по месяцам нужно столбец с датой превратить в столбец с месяцем.\n",
    "\n",
    "«Мегалайн» всегда округляет секунды до минут, а мегабайты — до гигабайт. Каждый звонок округляется отдельно: даже если он длился всего 1 секунду, будет засчитан как 1 минута.\n",
    "Для веб-трафика отдельные сессии не считаются. Вместо этого общая сумма за месяц округляется в бо́льшую сторону. Если абонент использует 1025 мегабайт в этом месяце, с него возьмут плату за 2 гигабайта."
   ]
  },
  {
   "cell_type": "code",
   "execution_count": 8,
   "metadata": {},
   "outputs": [],
   "source": [
    "# Получение из даты месяца\n",
    "df_users['reg_date'] = pd.DatetimeIndex(df_users['reg_date']).month\n",
    "df_calls['call_date'] = pd.DatetimeIndex(df_calls['call_date']).month\n",
    "df_internet['session_date'] = pd.DatetimeIndex(df_internet['session_date']).month\n",
    "df_messages['message_date'] = pd.DatetimeIndex(df_messages['message_date']).month\n",
    "\n",
    "# Переименование столбца\n",
    "df_calls.rename(columns = {'call_date':'month'}, inplace = True)\n",
    "df_internet.rename(columns = {'session_date':'month'}, inplace = True)\n",
    "df_messages.rename(columns = {'message_date':'month'}, inplace = True)"
   ]
  },
  {
   "cell_type": "code",
   "execution_count": 9,
   "metadata": {},
   "outputs": [],
   "source": [
    "# Удаление лишнего столбца\n",
    "df_internet = df_internet.drop(columns = ['Unnamed: 0'])"
   ]
  },
  {
   "cell_type": "code",
   "execution_count": 10,
   "metadata": {},
   "outputs": [],
   "source": [
    "# Округление звонков до минут вверх\n",
    "df_calls['duration'] = df_calls['duration'].apply(np.ceil)\n",
    "# Изменение типа данных на целочисленный\n",
    "df_calls['duration'] = df_calls['duration'].astype('int')\n",
    "# Замена заглавных букв на строчные\n",
    "df_users['city'] = df_users['city'].str.lower()"
   ]
  },
  {
   "cell_type": "markdown",
   "metadata": {},
   "source": [
    "### Расчёт данных по пользователям\n",
    "Для дальнейшего исследования найду:\n",
    "- количество сделанных звонков и израсходованных минут разговора по месяцам;\n",
    "- количество отправленных сообщений по месяцам;\n",
    "- объем израсходованного интернет-трафика по месяцам;\n",
    "- помесячную выручку с каждого пользователя."
   ]
  },
  {
   "cell_type": "code",
   "execution_count": 11,
   "metadata": {},
   "outputs": [],
   "source": [
    "# Подсчёт количества сделанных звонков и израсходованных минут по месяцам для каждого пользователя\n",
    "user_calls = df_calls.groupby(['user_id', 'month'])\\\n",
    "                     .agg({'duration':'sum', 'id':'count'})\\\n",
    "                     .reset_index()\\\n",
    "                     .rename(columns = {'id':'calls_count'})"
   ]
  },
  {
   "cell_type": "code",
   "execution_count": 12,
   "metadata": {},
   "outputs": [],
   "source": [
    "# Подсчёт количества отправленных сообщений по месяцам для каждого пользователя\n",
    "user_messages = df_messages.groupby(['user_id', 'month'])\\\n",
    "                           .agg({'id':'count'})\\\n",
    "                           .reset_index()\\\n",
    "                           .rename(columns = {'id':'messages_count'})"
   ]
  },
  {
   "cell_type": "code",
   "execution_count": 13,
   "metadata": {},
   "outputs": [],
   "source": [
    "# Подсчёт объема израсходованного интернет-трафика по месяцам;\n",
    "user_internet = df_internet.groupby(['user_id', 'month'])\\\n",
    "                           .agg({'mb_used':'sum'})\\\n",
    "                           .reset_index()"
   ]
  },
  {
   "cell_type": "code",
   "execution_count": 14,
   "metadata": {},
   "outputs": [],
   "source": [
    "# Перевод МБ в ГБ, округление в большую сторону и изменение типа на целочисленный\n",
    "user_internet['mb_used'] = (user_internet['mb_used'] / 1024).apply(np.ceil).astype('int')\n",
    "# Переименование столбца\n",
    "user_internet = user_internet.rename(columns = {'mb_used':'gb_used'})"
   ]
  },
  {
   "cell_type": "code",
   "execution_count": 15,
   "metadata": {},
   "outputs": [],
   "source": [
    "# Переименование столбца с тарифами для объединения с основной таблицей\n",
    "df_tariffs = df_tariffs.rename(columns = {'tariff_name':'tariff'})"
   ]
  },
  {
   "cell_type": "code",
   "execution_count": 16,
   "metadata": {},
   "outputs": [],
   "source": [
    "# Объединение таблиц\n",
    "df = user_calls.merge(user_messages, on = ['user_id', 'month'], how = 'outer')\n",
    "df = df.merge(user_internet, on = ['user_id', 'month'], how = 'outer')\n",
    "df = df.merge(df_users, on = 'user_id', how = 'left')\n",
    "df = df.merge(df_tariffs, on = 'tariff', how = 'left')"
   ]
  },
  {
   "cell_type": "code",
   "execution_count": 17,
   "metadata": {},
   "outputs": [
    {
     "data": {
      "text/plain": [
       "498"
      ]
     },
     "execution_count": 17,
     "metadata": {},
     "output_type": "execute_result"
    }
   ],
   "source": [
    "df.user_id.nunique()"
   ]
  },
  {
   "cell_type": "code",
   "execution_count": 18,
   "metadata": {
    "scrolled": true
   },
   "outputs": [],
   "source": [
    "# Перевод из МБ в ГБ и переименование столбца\n",
    "df['mb_per_month_included'] = df['mb_per_month_included'] / 1024\n",
    "df = df.rename(columns = {'mb_per_month_included':'gb_per_month_included'})\n",
    "\n",
    "# Расчёт перерасхода минут, ГБ и сообщений\n",
    "df['minutes_stay'] = df['duration'] - df['minutes_included']\n",
    "df['messages_stay'] = df['messages_count'] - df['messages_included']\n",
    "df['gb_stay'] = df['gb_used'] - df['gb_per_month_included']\n",
    "\n",
    "# Замена отрицательных значений на нули\n",
    "df.loc[df['minutes_stay'] < 0, 'minutes_stay'] = 0\n",
    "df.loc[df['messages_stay'] < 0, 'messages_stay'] = 0\n",
    "df.loc[df['gb_stay'] < 0, 'gb_stay'] = 0\n",
    "\n",
    "# Замена пропусков на нули\n",
    "df['minutes_stay'] = df['minutes_stay'].fillna(0)\n",
    "df['messages_stay'] = df['messages_stay'].fillna(0)\n",
    "df['gb_stay'] = df['gb_stay'].fillna(0)\n",
    "\n",
    "# Расчёт переплаты за расход сверх тарифа\n",
    "df['minutes_over_rub'] = df['minutes_stay'] * df['rub_per_minute']\n",
    "df['messages_over_rub'] = df['messages_stay'] * df['rub_per_message']\n",
    "df['gb_over_rub'] = df['gb_stay'] * df['rub_per_gb']\n",
    "\n",
    "# Расчёт выручки с каждого пользователя в месяц\n",
    "df['monthly_revenue'] = df['minutes_over_rub'] + df['messages_over_rub'] + df['gb_over_rub'] + df['rub_monthly_fee']"
   ]
  },
  {
   "cell_type": "code",
   "execution_count": 19,
   "metadata": {},
   "outputs": [
    {
     "data": {
      "text/plain": [
       "count    3214.000000\n",
       "mean     1529.076229\n",
       "std       798.251091\n",
       "min       550.000000\n",
       "25%       750.000000\n",
       "50%      1653.500000\n",
       "75%      1950.000000\n",
       "max      6770.000000\n",
       "Name: monthly_revenue, dtype: float64"
      ]
     },
     "execution_count": 19,
     "metadata": {},
     "output_type": "execute_result"
    }
   ],
   "source": [
    "df['monthly_revenue'].describe()"
   ]
  },
  {
   "cell_type": "markdown",
   "metadata": {},
   "source": [
    "### Выводы\n"
   ]
  },
  {
   "cell_type": "markdown",
   "metadata": {},
   "source": [
    "**Поиск проблем в данных:**\n",
    "- В несоединённых таблицах пропусков и дубликатов нет, за исключением df_users['churn_date'], но заменять их пока не буду. Также отсутствуют отрицательные и зашкаливающие значения. Проверил все датасеты на возможно выгруженные данные не за 2018 год, проблем не обнаружил.\n",
    "\n",
    "**Изменение данных:**\n",
    "- Преобразовал тип данных столбцов с датой на Datetime и вывел месяца. Обнаружил лишний столбец df_internet['Unnamed: 0'], значения, которого совпадают с индексами, и удалил его. Округлил звонки до минут вверх. Изменил заглавные буквы на строчные в столбце городов.\n",
    "\n",
    "\n",
    "**Расчёт данных по пользователям:**\n",
    "- Сгруппировал данные по 'user_id' и 'month' и объединил все таблицы в одну. В столбцах  'minutes_stay', 'messages_stay', 'gb_stay' образовались пропуски. Они появились, когда происходило слияние таблиц на местах где данные из \"правой\" таблицы отсутствовали. Поэтому заменю их нулями.  Нашёл перерасход по тарифу и посчитал, сколько в итоге заплатил клиент за месяц.\n",
    "\n",
    "Данные готовы для дальнейшего исследования."
   ]
  },
  {
   "cell_type": "markdown",
   "metadata": {},
   "source": [
    "## Исследование поведения клиентов\n",
    "Необходимо описать поведение клиентов оператора. Для этого найду, сколько минут разговора, сколько сообщений и какой объём интернет-трафика требуется пользователям каждого тарифа в месяц и посчитаю среднее количество, дисперсию и стандартное отклонение."
   ]
  },
  {
   "cell_type": "code",
   "execution_count": 20,
   "metadata": {
    "scrolled": true
   },
   "outputs": [
    {
     "data": {
      "text/html": [
       "<div>\n",
       "<style scoped>\n",
       "    .dataframe tbody tr th:only-of-type {\n",
       "        vertical-align: middle;\n",
       "    }\n",
       "\n",
       "    .dataframe tbody tr th {\n",
       "        vertical-align: top;\n",
       "    }\n",
       "\n",
       "    .dataframe thead th {\n",
       "        text-align: right;\n",
       "    }\n",
       "</style>\n",
       "<table border=\"1\" class=\"dataframe\">\n",
       "  <thead>\n",
       "    <tr style=\"text-align: right;\">\n",
       "      <th></th>\n",
       "      <th>user_id</th>\n",
       "      <th>month</th>\n",
       "      <th>duration</th>\n",
       "      <th>calls_count</th>\n",
       "      <th>messages_count</th>\n",
       "      <th>gb_used</th>\n",
       "      <th>age</th>\n",
       "      <th>churn_date</th>\n",
       "      <th>city</th>\n",
       "      <th>first_name</th>\n",
       "      <th>last_name</th>\n",
       "      <th>reg_date</th>\n",
       "      <th>tariff</th>\n",
       "      <th>messages_included</th>\n",
       "      <th>gb_per_month_included</th>\n",
       "      <th>minutes_included</th>\n",
       "      <th>rub_monthly_fee</th>\n",
       "      <th>rub_per_gb</th>\n",
       "      <th>rub_per_message</th>\n",
       "      <th>rub_per_minute</th>\n",
       "      <th>minutes_stay</th>\n",
       "      <th>messages_stay</th>\n",
       "      <th>gb_stay</th>\n",
       "      <th>minutes_over_rub</th>\n",
       "      <th>messages_over_rub</th>\n",
       "      <th>gb_over_rub</th>\n",
       "      <th>monthly_revenue</th>\n",
       "    </tr>\n",
       "  </thead>\n",
       "  <tbody>\n",
       "    <tr>\n",
       "      <th>2840</th>\n",
       "      <td>1448</td>\n",
       "      <td>11</td>\n",
       "      <td>526.0</td>\n",
       "      <td>69.0</td>\n",
       "      <td>34.0</td>\n",
       "      <td>21.0</td>\n",
       "      <td>42</td>\n",
       "      <td>NaN</td>\n",
       "      <td>кострома</td>\n",
       "      <td>Ростислав</td>\n",
       "      <td>Дроздов</td>\n",
       "      <td>9</td>\n",
       "      <td>smart</td>\n",
       "      <td>50</td>\n",
       "      <td>15.0</td>\n",
       "      <td>500</td>\n",
       "      <td>550</td>\n",
       "      <td>200</td>\n",
       "      <td>3</td>\n",
       "      <td>3</td>\n",
       "      <td>26.0</td>\n",
       "      <td>0.0</td>\n",
       "      <td>6.0</td>\n",
       "      <td>78.0</td>\n",
       "      <td>0.0</td>\n",
       "      <td>1200.0</td>\n",
       "      <td>1828.0</td>\n",
       "    </tr>\n",
       "    <tr>\n",
       "      <th>855</th>\n",
       "      <td>1138</td>\n",
       "      <td>7</td>\n",
       "      <td>483.0</td>\n",
       "      <td>65.0</td>\n",
       "      <td>7.0</td>\n",
       "      <td>16.0</td>\n",
       "      <td>23</td>\n",
       "      <td>NaN</td>\n",
       "      <td>екатеринбург</td>\n",
       "      <td>Леся</td>\n",
       "      <td>Ерофеева</td>\n",
       "      <td>7</td>\n",
       "      <td>smart</td>\n",
       "      <td>50</td>\n",
       "      <td>15.0</td>\n",
       "      <td>500</td>\n",
       "      <td>550</td>\n",
       "      <td>200</td>\n",
       "      <td>3</td>\n",
       "      <td>3</td>\n",
       "      <td>0.0</td>\n",
       "      <td>0.0</td>\n",
       "      <td>1.0</td>\n",
       "      <td>0.0</td>\n",
       "      <td>0.0</td>\n",
       "      <td>200.0</td>\n",
       "      <td>750.0</td>\n",
       "    </tr>\n",
       "    <tr>\n",
       "      <th>745</th>\n",
       "      <td>1119</td>\n",
       "      <td>9</td>\n",
       "      <td>280.0</td>\n",
       "      <td>39.0</td>\n",
       "      <td>43.0</td>\n",
       "      <td>20.0</td>\n",
       "      <td>53</td>\n",
       "      <td>NaN</td>\n",
       "      <td>петрозаводск</td>\n",
       "      <td>Олег</td>\n",
       "      <td>Сухарев</td>\n",
       "      <td>4</td>\n",
       "      <td>smart</td>\n",
       "      <td>50</td>\n",
       "      <td>15.0</td>\n",
       "      <td>500</td>\n",
       "      <td>550</td>\n",
       "      <td>200</td>\n",
       "      <td>3</td>\n",
       "      <td>3</td>\n",
       "      <td>0.0</td>\n",
       "      <td>0.0</td>\n",
       "      <td>5.0</td>\n",
       "      <td>0.0</td>\n",
       "      <td>0.0</td>\n",
       "      <td>1000.0</td>\n",
       "      <td>1550.0</td>\n",
       "    </tr>\n",
       "    <tr>\n",
       "      <th>1258</th>\n",
       "      <td>1199</td>\n",
       "      <td>11</td>\n",
       "      <td>675.0</td>\n",
       "      <td>98.0</td>\n",
       "      <td>70.0</td>\n",
       "      <td>13.0</td>\n",
       "      <td>27</td>\n",
       "      <td>NaN</td>\n",
       "      <td>чебоксары</td>\n",
       "      <td>Агата</td>\n",
       "      <td>Демьянова</td>\n",
       "      <td>9</td>\n",
       "      <td>smart</td>\n",
       "      <td>50</td>\n",
       "      <td>15.0</td>\n",
       "      <td>500</td>\n",
       "      <td>550</td>\n",
       "      <td>200</td>\n",
       "      <td>3</td>\n",
       "      <td>3</td>\n",
       "      <td>175.0</td>\n",
       "      <td>20.0</td>\n",
       "      <td>0.0</td>\n",
       "      <td>525.0</td>\n",
       "      <td>60.0</td>\n",
       "      <td>0.0</td>\n",
       "      <td>1135.0</td>\n",
       "    </tr>\n",
       "    <tr>\n",
       "      <th>1582</th>\n",
       "      <td>1253</td>\n",
       "      <td>11</td>\n",
       "      <td>147.0</td>\n",
       "      <td>25.0</td>\n",
       "      <td>84.0</td>\n",
       "      <td>16.0</td>\n",
       "      <td>29</td>\n",
       "      <td>NaN</td>\n",
       "      <td>астрахань</td>\n",
       "      <td>Алла</td>\n",
       "      <td>Масленникова</td>\n",
       "      <td>8</td>\n",
       "      <td>ultra</td>\n",
       "      <td>1000</td>\n",
       "      <td>30.0</td>\n",
       "      <td>3000</td>\n",
       "      <td>1950</td>\n",
       "      <td>150</td>\n",
       "      <td>1</td>\n",
       "      <td>1</td>\n",
       "      <td>0.0</td>\n",
       "      <td>0.0</td>\n",
       "      <td>0.0</td>\n",
       "      <td>0.0</td>\n",
       "      <td>0.0</td>\n",
       "      <td>0.0</td>\n",
       "      <td>1950.0</td>\n",
       "    </tr>\n",
       "  </tbody>\n",
       "</table>\n",
       "</div>"
      ],
      "text/plain": [
       "      user_id  month  duration  calls_count  messages_count  gb_used  age  \\\n",
       "2840     1448     11     526.0         69.0            34.0     21.0   42   \n",
       "855      1138      7     483.0         65.0             7.0     16.0   23   \n",
       "745      1119      9     280.0         39.0            43.0     20.0   53   \n",
       "1258     1199     11     675.0         98.0            70.0     13.0   27   \n",
       "1582     1253     11     147.0         25.0            84.0     16.0   29   \n",
       "\n",
       "     churn_date          city first_name     last_name  reg_date tariff  \\\n",
       "2840        NaN      кострома  Ростислав       Дроздов         9  smart   \n",
       "855         NaN  екатеринбург       Леся      Ерофеева         7  smart   \n",
       "745         NaN  петрозаводск       Олег       Сухарев         4  smart   \n",
       "1258        NaN     чебоксары      Агата     Демьянова         9  smart   \n",
       "1582        NaN     астрахань       Алла  Масленникова         8  ultra   \n",
       "\n",
       "      messages_included  gb_per_month_included  minutes_included  \\\n",
       "2840                 50                   15.0               500   \n",
       "855                  50                   15.0               500   \n",
       "745                  50                   15.0               500   \n",
       "1258                 50                   15.0               500   \n",
       "1582               1000                   30.0              3000   \n",
       "\n",
       "      rub_monthly_fee  rub_per_gb  rub_per_message  rub_per_minute  \\\n",
       "2840              550         200                3               3   \n",
       "855               550         200                3               3   \n",
       "745               550         200                3               3   \n",
       "1258              550         200                3               3   \n",
       "1582             1950         150                1               1   \n",
       "\n",
       "      minutes_stay  messages_stay  gb_stay  minutes_over_rub  \\\n",
       "2840          26.0            0.0      6.0              78.0   \n",
       "855            0.0            0.0      1.0               0.0   \n",
       "745            0.0            0.0      5.0               0.0   \n",
       "1258         175.0           20.0      0.0             525.0   \n",
       "1582           0.0            0.0      0.0               0.0   \n",
       "\n",
       "      messages_over_rub  gb_over_rub  monthly_revenue  \n",
       "2840                0.0       1200.0           1828.0  \n",
       "855                 0.0        200.0            750.0  \n",
       "745                 0.0       1000.0           1550.0  \n",
       "1258               60.0          0.0           1135.0  \n",
       "1582                0.0          0.0           1950.0  "
      ]
     },
     "execution_count": 20,
     "metadata": {},
     "output_type": "execute_result"
    }
   ],
   "source": [
    "df.sample(5)"
   ]
  },
  {
   "cell_type": "markdown",
   "metadata": {},
   "source": [
    "Что бы исследовать каждый тариф, разделю данные и создам 2 датасета для тарифов Смарт и Ультра. Построю диаграммы и определю по ним границу для выбросов, которые удалю из датасетов."
   ]
  },
  {
   "cell_type": "code",
   "execution_count": 21,
   "metadata": {},
   "outputs": [],
   "source": [
    "# Создание среза для тарифа Смарт\n",
    "df_smart = df.query('tariff == \"smart\"')\n",
    "\n",
    "# Создание среза для тарифа Ультра\n",
    "df_ultra = df.query('tariff == \"ultra\"')"
   ]
  },
  {
   "cell_type": "code",
   "execution_count": 22,
   "metadata": {
    "scrolled": true
   },
   "outputs": [
    {
     "data": {
      "image/png": "[encoded data removed]",
      "text/plain": [
       "<Figure size 432x288 with 1 Axes>"
      ]
     },
     "metadata": {
      "needs_background": "light"
     },
     "output_type": "display_data"
    },
    {
     "data": {
      "image/png": "[encoded data removed]",
      "text/plain": [
       "<Figure size 432x288 with 1 Axes>"
      ]
     },
     "metadata": {
      "needs_background": "light"
     },
     "output_type": "display_data"
    },
    {
     "data": {
      "image/png": "[encoded data removed]",
      "text/plain": [
       "<Figure size 432x288 with 1 Axes>"
      ]
     },
     "metadata": {
      "needs_background": "light"
     },
     "output_type": "display_data"
    },
    {
     "data": {
      "image/png": "[encoded data removed]",
      "text/plain": [
       "<Figure size 432x288 with 1 Axes>"
      ]
     },
     "metadata": {
      "needs_background": "light"
     },
     "output_type": "display_data"
    },
    {
     "data": {
      "image/png": "[encoded data removed]",
      "text/plain": [
       "<Figure size 432x288 with 1 Axes>"
      ]
     },
     "metadata": {
      "needs_background": "light"
     },
     "output_type": "display_data"
    },
    {
     "data": {
      "image/png": "[encoded data removed]",
      "text/plain": [
       "<Figure size 432x288 with 1 Axes>"
      ]
     },
     "metadata": {
      "needs_background": "light"
     },
     "output_type": "display_data"
    }
   ],
   "source": [
    "# Построение диаграмм ящиков с усами\n",
    "df_smart.boxplot(column = 'duration')\n",
    "plt.show()\n",
    "df_smart.boxplot(column = 'messages_count')\n",
    "plt.show()\n",
    "df_smart.boxplot(column = 'gb_used')\n",
    "plt.show()\n",
    "\n",
    "df_ultra.boxplot(column = 'duration')\n",
    "plt.show()\n",
    "df_ultra.boxplot(column = 'messages_count')\n",
    "plt.show()\n",
    "df_ultra.boxplot(column = 'gb_used')\n",
    "plt.show()"
   ]
  },
  {
   "cell_type": "markdown",
   "metadata": {},
   "source": [
    "В данных есть редкие значения, например, очень большого количества минут. Такие данные являются исключениями и не вписываются в общую картину."
   ]
  },
  {
   "cell_type": "markdown",
   "metadata": {},
   "source": [
    "На основании боксплотов и предварительных диаграмм определил границы выбросов\n",
    "\n",
    "Для тарифа SMART\n",
    "- В столбце с продолжительностью звонков исключаю значения, превышающие 950 мин.\n",
    "- В столбце с количеством сообщений исключаю значения, превышающие 115 сообщений.\n",
    "- В столбце с интернет-трафиком оставляю интервал от 3 до 30 ГБ.\n",
    "\n",
    "Для тарифа ULTRA\n",
    "- В столбце с продолжительностью звонков исключаю значения, превышающие 1400 мин.\n",
    "- В столбце с количеством сообщений исключаю значения, превышающие 180 сообщений.\n",
    "- В столбце с интернет-трафиком оставляю все значения."
   ]
  },
  {
   "cell_type": "code",
   "execution_count": 23,
   "metadata": {},
   "outputs": [],
   "source": [
    "# Очищаю данные от выбросов\n",
    "df_smart = df_smart.query('duration <= 950')\n",
    "df_smart = df_smart.query('messages_count <= 115')\n",
    "df_smart = df_smart.query('3 < gb_used <= 30')\n",
    "\n",
    "df_ultra = df_ultra.query('duration <= 1400')\n",
    "df_ultra = df_ultra.query('messages_count <= 180')"
   ]
  },
  {
   "cell_type": "markdown",
   "metadata": {},
   "source": [
    "Данные готовы для нахождения параметров распределения и выбросы на них больше не влияют."
   ]
  },
  {
   "cell_type": "code",
   "execution_count": 24,
   "metadata": {
    "scrolled": true
   },
   "outputs": [
    {
     "name": "stdout",
     "output_type": "stream",
     "text": [
      "_________тариф SMART_________\n",
      "Минуты\n",
      "Среднее количество в месяц - 423\n",
      "Значение дисперсии - 30867\n",
      "Значение стандартного отклонения - 176\n",
      "\n",
      "Сообщения\n",
      "Среднее количество в месяц - 39\n",
      "Значение дисперсии - 657\n",
      "Значение стандартного отклонения - 26\n",
      "\n",
      "Интернет-трафик\n",
      "Среднее количество в месяц - 16\n",
      "Значение дисперсии - 26\n",
      "Значение стандартного отклонения - 5\n",
      "\n",
      "_________тариф ULTRA_________\n",
      "Минуты\n",
      "Среднее количество в месяц - 547\n",
      "Значение дисперсии - 92868\n",
      "Значение стандартного отклонения - 305\n",
      "\n",
      "Сообщения\n",
      "Среднее количество в месяц - 60\n",
      "Значение дисперсии - 1814\n",
      "Значение стандартного отклонения - 43\n",
      "\n",
      "Интернет-трафик\n",
      "Среднее количество в месяц - 20\n",
      "Значение дисперсии - 87\n",
      "Значение стандартного отклонения - 9\n",
      "\n"
     ]
    }
   ],
   "source": [
    "print('_________тариф SMART_________')\n",
    "\n",
    "# Присваивание имён объектам Series\n",
    "df_smart['duration'].name = 'Минуты'\n",
    "df_smart['messages_count'].name = 'Сообщения'\n",
    "df_smart['gb_used'].name = 'Интернет-трафик'\n",
    "\n",
    "# Создание функции для расчёта и вывода на экран значений\n",
    "q = [df_smart['duration'], df_smart['messages_count'], df_smart['gb_used']]\n",
    "for w in q:\n",
    "    print(w.name)\n",
    "    print('Среднее количество в месяц -', round(w.mean()))\n",
    "    print('Значение дисперсии -', round(np.var(w, ddof=1)))\n",
    "    print('Значение стандартного отклонения -', round(np.std(w, ddof=1)))\n",
    "    print()\n",
    "\n",
    "print('_________тариф ULTRA_________')\n",
    "\n",
    "# Присваивание имён объектам Series\n",
    "df_ultra['duration'].name = 'Минуты'\n",
    "df_ultra['messages_count'].name = 'Сообщения'\n",
    "df_ultra['gb_used'].name = 'Интернет-трафик'\n",
    "\n",
    "# Создание функции для расчёта и вывода на экран значений\n",
    "e = [df_ultra['duration'], df_ultra['messages_count'], df_ultra['gb_used']]\n",
    "for r in e:\n",
    "    print(r.name)\n",
    "    print('Среднее количество в месяц -', round(r.mean()))\n",
    "    print('Значение дисперсии -', round(np.var(r, ddof=1)))\n",
    "    print('Значение стандартного отклонения -', round(np.std(r, ddof=1)))\n",
    "    print()"
   ]
  },
  {
   "cell_type": "code",
   "execution_count": 25,
   "metadata": {},
   "outputs": [
    {
     "data": {
      "image/png": "[encoded data removed]",
      "text/plain": [
       "<Figure size 576x432 with 1 Axes>"
      ]
     },
     "metadata": {
      "needs_background": "light"
     },
     "output_type": "display_data"
    }
   ],
   "source": [
    "# Присваивание новых имён объектам Series\n",
    "df_smart['duration'].name = 'minutes_smart'\n",
    "df_smart['messages_count'].name = 'messages_smart'\n",
    "df_smart['gb_used'].name = 'gb_smart'\n",
    "\n",
    "df_ultra['duration'].name = 'minutes_ultra'\n",
    "df_ultra['messages_count'].name = 'messages_ultra'\n",
    "df_ultra['gb_used'].name = 'gb_ultra'\n",
    "\n",
    "# Построение гистограмм\n",
    "df_smart['duration'].plot(kind = 'hist',\n",
    "                          range = (0, 950),\n",
    "                          bins = 19,\n",
    "                          figsize = (8, 6),\n",
    "                          grid = True,\n",
    "                          legend = True)\n",
    "plt.title('number of minutes per month')\n",
    "plt.xlabel('minutes', fontsize = 12, color = 'Black')\n",
    "\n",
    "df_ultra['duration'].plot(kind = 'hist',\n",
    "                          range = (0, 1400),\n",
    "                          bins = 28,\n",
    "                          figsize = (8, 6),\n",
    "                          grid = True,\n",
    "                          legend = True,\n",
    "                          alpha = 0.8)\n",
    "plt.show()"
   ]
  },
  {
   "cell_type": "code",
   "execution_count": 26,
   "metadata": {},
   "outputs": [
    {
     "data": {
      "image/png": "[encoded data removed]",
      "text/plain": [
       "<Figure size 576x432 with 1 Axes>"
      ]
     },
     "metadata": {
      "needs_background": "light"
     },
     "output_type": "display_data"
    }
   ],
   "source": [
    "# Построение гистограмм\n",
    "df_smart['messages_count'].plot(kind = 'hist',\n",
    "                                bins = 29,\n",
    "                                figsize = (8, 6),\n",
    "                                grid = True,\n",
    "                                legend = True)\n",
    "plt.title('number of messages per month')\n",
    "plt.xlabel('messages', fontsize = 12, color = 'Black')\n",
    "\n",
    "df_ultra['messages_count'].plot(kind = 'hist',\n",
    "                                range = (0, 180),\n",
    "                                bins = 21,\n",
    "                                figsize = (8, 6),\n",
    "                                grid = True,\n",
    "                                legend = True,\n",
    "                                alpha = 0.8)\n",
    "plt.show()"
   ]
  },
  {
   "cell_type": "code",
   "execution_count": 27,
   "metadata": {},
   "outputs": [
    {
     "data": {
      "image/png": "[encoded data removed]",
      "text/plain": [
       "<Figure size 576x432 with 1 Axes>"
      ]
     },
     "metadata": {
      "needs_background": "light"
     },
     "output_type": "display_data"
    }
   ],
   "source": [
    "# Построение гистограмм\n",
    "df_smart['gb_used'].plot(kind = 'hist',\n",
    "                         range = (0, 40),\n",
    "                         bins = 20,\n",
    "                         figsize = (8, 6),\n",
    "                         grid = True,\n",
    "                         legend = True)\n",
    "plt.title('number of GB per month')\n",
    "plt.xlabel('gb', fontsize = 12, color = 'Black')\n",
    "\n",
    "df_ultra['gb_used'].plot(kind = 'hist',\n",
    "                         range = (0, 50),\n",
    "                         bins = 25,\n",
    "                         figsize = (8, 6),\n",
    "                         grid = True,\n",
    "                         legend = True,\n",
    "                         alpha = 0.8)\n",
    "plt.show()"
   ]
  },
  {
   "cell_type": "markdown",
   "metadata": {},
   "source": [
    "### Выводы\n",
    "\n",
    "**Минуты**\n",
    "\n",
    "Гистограммы потраченных минут в месяц представлены нормальными распределениями. Для тарифа SMART среднее значение 423 минут, дисперсия 30867, стандартное отклонение 176, а для тарифа ULTRA среднее значение 547 минут, дисперсия 92868, стандартное отклонение 305.\n",
    "\n",
    "**Сообщения**\n",
    "\n",
    "Гистограммы количества отправленных сообщений в месяц представлены распределениями Пуассона. Для тарифа SMART среднее значение, дисперсия и стандартное отклонение равны 39, 657 и 26 соответственно; а для тарифа ULTRA 60, 1814 и 43 соответственно.\n",
    "\n",
    "**Интернет-трафик**\n",
    "\n",
    "Гистограммы интернет-трафика израсходованного за месяц представлены нормальными распределениями. Для тарифа SMART среднее значение, дисперсия и стандартное отклонение равны 16, 26 и 5 соответственно; а для тарифа ULTRA 20, 87 и 9 соответственно.\n",
    "\n",
    "Если сравнивать средние значения пользователей тарифа ULTRA с SMART то первые используют:\n",
    "- Минут на 124 больше: 547 - 423 = 124\n",
    "- Сообщений на 21 больше: 60 - 39 = 21\n",
    "- Интернет-трафика на 4 ГБ больше: 20 - 16 = 4\n",
    "\n",
    "Для определения границы параметров, в которой находится больше всего значений, воспользуюсь правилом трёх сигм. Определю значение, находящееся на + сигма от среднего. Оно включает 84,1% всех значений по месяцам и этого достаточно, что бы тариф покрывал большую часть пользователей.\n",
    "\n",
    "Тариф SMART\n",
    "- Минуты: 599\n",
    "- Сообщения: 65\n",
    "- Интернет-трафик: 21\n",
    "\n",
    "Тариф ULTRA\n",
    "- Минуты: 852\n",
    "- Сообщения: 103\n",
    "- Интернет-трафик: 29"
   ]
  },
  {
   "cell_type": "markdown",
   "metadata": {},
   "source": [
    "## Проверка гипотез"
   ]
  },
  {
   "cell_type": "markdown",
   "metadata": {},
   "source": [
    "Подсчёт суммарной прибыли от тарифов"
   ]
  },
  {
   "cell_type": "code",
   "execution_count": 28,
   "metadata": {},
   "outputs": [
    {
     "name": "stdout",
     "output_type": "stream",
     "text": [
      "Прибыль с тарифа Smart:  2316245.0\n",
      "Прибыль с тарифа Ultra:  1532850.0\n"
     ]
    }
   ],
   "source": [
    "print('Прибыль с тарифа Smart: ', df_smart['monthly_revenue'].sum())\n",
    "\n",
    "print('Прибыль с тарифа Ultra: ', df_ultra['monthly_revenue'].sum())"
   ]
  },
  {
   "cell_type": "markdown",
   "metadata": {},
   "source": [
    "### Сравнение тарифов «Ультра» и «Смарт»\n",
    "Формулировка нулевой гипотезы\n",
    "**Но: средние выручки пользователей тарифов «Ультра» и «Смарт» равны**.\n",
    "\n",
    "Тогда, противоположная ей альтернативная гипотеза\n",
    "**Н1: средние выручки пользователей тарифов «Ультра» и «Смарт» различаются**."
   ]
  },
  {
   "cell_type": "code",
   "execution_count": 29,
   "metadata": {},
   "outputs": [
    {
     "name": "stdout",
     "output_type": "stream",
     "text": [
      "p-значение:  5.616697702156673e-150\n",
      "Отвергаем нулевую гипотезу\n",
      "Среднее значение выручки пользователей тарифа Smart:  1261\n",
      "Среднее значение выручки пользователей тарифа Ultra:  2044\n"
     ]
    }
   ],
   "source": [
    "# Проверка гипотезы\n",
    "alpha = 0.05\n",
    "\n",
    "results = st.ttest_ind(df_smart['monthly_revenue'], df_ultra['monthly_revenue'], equal_var = True)\n",
    "print('p-значение: ', results.pvalue)\n",
    "\n",
    "if results.pvalue < alpha:\n",
    "    print('Отвергаем нулевую гипотезу')\n",
    "else:\n",
    "    print('Не получилось отвергнуть нулевую гипотезу')\n",
    "    \n",
    "print('Среднее значение выручки пользователей тарифа Smart: ', round(df_smart['monthly_revenue'].mean()))\n",
    "print('Среднее значение выручки пользователей тарифа Ultra: ', round(df_ultra['monthly_revenue'].mean()))"
   ]
  },
  {
   "cell_type": "markdown",
   "metadata": {},
   "source": [
    "### Cравнение пользователей из Москвы и пользователей из других регионов"
   ]
  },
  {
   "cell_type": "code",
   "execution_count": 30,
   "metadata": {},
   "outputs": [],
   "source": [
    "# Cоздание срезов с Москвой и без Москвы для тарифа Смарт\n",
    "df_smart_moscow = df_smart.query('city == \"москва\"')\n",
    "df_smart_other = df_smart.query('city != \"москва\"')\n",
    "\n",
    "# Cоздание срезов с Москвой и без Москвы для тарифа Ультра\n",
    "df_ultra_moscow = df_ultra.query('city == \"москва\"')\n",
    "df_ultra_other = df_ultra.query('city != \"москва\"')"
   ]
  },
  {
   "cell_type": "markdown",
   "metadata": {},
   "source": [
    "Формулировка нулевой гипотезы **Но: средняя выручка пользователей из Москвы равна выручке пользователей из других регионов**.\n",
    "\n",
    "Тогда, противоположная ей альтернативная гипотеза **Н1: средняя выручка пользователи из Москвы отличается от средней выручки пользователей из других регионов**."
   ]
  },
  {
   "cell_type": "code",
   "execution_count": 31,
   "metadata": {
    "scrolled": true
   },
   "outputs": [
    {
     "name": "stdout",
     "output_type": "stream",
     "text": [
      "Проверка гипотезы для тарифа SMART\n",
      "p-значение:  0.05483172798585846\n",
      "Не получилось отвергнуть нулевую гипотезу\n",
      "Среднее значение выручки пользователей тарифа Smart в Москве:  1183\n",
      "Среднее значение выручки пользователей тарифа Smart в других:  1275\n"
     ]
    }
   ],
   "source": [
    "# Проверка гипотезы для тарифа SMART\n",
    "print('Проверка гипотезы для тарифа SMART')\n",
    "alpha = 0.05\n",
    "\n",
    "results = st.ttest_ind(df_smart_moscow['monthly_revenue'], df_smart_other['monthly_revenue'], equal_var = True)\n",
    "print('p-значение: ', results.pvalue)\n",
    "\n",
    "if results.pvalue < alpha:\n",
    "    print('Отвергаем нулевую гипотезу')\n",
    "else:\n",
    "    print('Не получилось отвергнуть нулевую гипотезу')\n",
    "    \n",
    "print('Среднее значение выручки пользователей тарифа Smart в Москве: ', round(df_smart_moscow['monthly_revenue'].mean()))\n",
    "print('Среднее значение выручки пользователей тарифа Smart в других: ', round(df_smart_other['monthly_revenue'].mean()))"
   ]
  },
  {
   "cell_type": "code",
   "execution_count": 32,
   "metadata": {},
   "outputs": [
    {
     "name": "stdout",
     "output_type": "stream",
     "text": [
      "Проверка гипотезы для тарифа ULTRA\n",
      "p-значение:  0.05229317709194543\n",
      "Не получилось отвергнуть нулевую гипотезу\n",
      "Среднее значение выручки пользователей тарифа Ultra в Москве:  2082\n",
      "Среднее значение выручки пользователей тарифа Ultra в других:  2030\n"
     ]
    }
   ],
   "source": [
    "# Проверка гипотезы для тарифа ULTRA\n",
    "print('Проверка гипотезы для тарифа ULTRA')\n",
    "alpha = 0.05\n",
    "\n",
    "results = st.ttest_ind(df_ultra_moscow['monthly_revenue'], df_ultra_other['monthly_revenue'], equal_var = True)\n",
    "print('p-значение: ', results.pvalue)\n",
    "\n",
    "if results.pvalue < alpha:\n",
    "    print('Отвергаем нулевую гипотезу')\n",
    "else:\n",
    "    print('Не получилось отвергнуть нулевую гипотезу')\n",
    "    \n",
    "print('Среднее значение выручки пользователей тарифа Ultra в Москве: ', round(df_ultra_moscow['monthly_revenue'].mean()))\n",
    "print('Среднее значение выручки пользователей тарифа Ultra в других: ', round(df_ultra_other['monthly_revenue'].mean()))"
   ]
  },
  {
   "cell_type": "markdown",
   "metadata": {},
   "source": [
    "### Выводы"
   ]
  },
  {
   "cell_type": "markdown",
   "metadata": {},
   "source": [
    "**Cравнение тарифов «Ультра» и «Смарт»**\n",
    "\n",
    "Гипотеза звучала так: средние выручки пользователей тарифов «Ультра» и «Смарт» равны. Результат проверки гипотезы показал, что нулевая гипотеза отвергается. Это говорит о том, что средние выручки тарифов различаются.\n",
    "- Среднее значение выручки пользователей тарифа Smart:  1261.0\n",
    "- Среднее значение выручки пользователей тарифа Ultra:  2044.0\n",
    "\n",
    "**Cравнение пользователей из Москвы и пользователей из других регионов**\n",
    "\n",
    "Гипотеза звучала так: средняя выручка пользователей из Москвы равна выручке пользователей из других регионов. Результат проверки гипотезы и для тарифа Smart и для тарифа Ultra показал, что нулевую гипотезу отвергнуть не получилось. Это говорит о том, что средняя выручка пользователи из Москвы равна средней выручки пользователей из других регионов.\n",
    "\n",
    "- Среднее значение выручки пользователей тарифа Smart в Москве:  1183.0\n",
    "- Среднее значение выручки пользователей тарифа Smart в других:  1275.0\n",
    "\n",
    "- Среднее значение выручки пользователей тарифа Ultra в Москве:  2082.0\n",
    "- Среднее значение выручки пользователей тарифа Ultra в других:  2030.0"
   ]
  },
  {
   "cell_type": "markdown",
   "metadata": {},
   "source": [
    "## Общий вывод"
   ]
  },
  {
   "cell_type": "markdown",
   "metadata": {},
   "source": [
    "Вопрос, поставленный перед исследованием:\n",
    "\n",
    "Чтобы скорректировать рекламный бюджет, коммерческий департамент хочет понять, какой тариф приносит больше денег. Нужно проанализировать поведение клиентов и сделать вывод — какой тариф лучше?"
   ]
  },
  {
   "cell_type": "markdown",
   "metadata": {},
   "source": [
    "Средние значения потребления для тарифа SMART:\n",
    "- 423 минуты\n",
    "- 39 сообщений\n",
    "- 16 ГБ интернет-трафика\n",
    "\n",
    "Средние значения потребления для тарифа ULTRA:\n",
    "- 547 минут\n",
    "- 60 сообщений\n",
    "- 20 ГБ Интернет-трафика\n",
    "\n",
    "При этом 84% всех расходов за месяц равны:\n",
    "\n",
    "Тариф SMART\n",
    "- Минуты: 599\n",
    "- Сообщения: 65\n",
    "- Интернет-трафик: 21\n",
    "\n",
    "Тариф ULTRA\n",
    "- Минуты: 852\n",
    "- Сообщения: 103\n",
    "- Интернет-трафик: 29"
   ]
  },
  {
   "cell_type": "markdown",
   "metadata": {},
   "source": [
    "Несмотря на разницу в стоимостях тарифов 550 рублей для Smart и 1950 рублей для Ultra в 1500 рублей, фактическая разница средних значений учитывающих переплаты равна 2044 (Ultra) - 1261 (Smart) = 783 рубля. Тариф Ultra приносит больше денег, чем тариф Smart. Но, более востребованным тарифом является Smart и с учётом всех пользователей доходы тарифов равны:\n",
    "- Для Smart 2 316 245 рублей\n",
    "- Для Ultra 1 532 850 рублей\n",
    "\n",
    "Таким образом, не смотря на то, что тариф Ultra дороже, тариф Smart пользуется популярностью, и, таким образом, приносит больше денег. При этом разницы в доходах между Москвой и остальными городами для каждого тарифы не выявлено, т.е. разницы между городами нет."
   ]
  }
 ],
 "metadata": {
  "ExecuteTimeLog": [
   {
    "duration": 729,
    "start_time": "2021-09-15T15:35:46.985Z"
   },
   {
    "duration": 199,
    "start_time": "2021-09-15T15:35:48.409Z"
   },
   {
    "duration": 222,
    "start_time": "2021-09-15T15:35:56.375Z"
   },
   {
    "duration": 372,
    "start_time": "2021-09-15T15:38:44.283Z"
   },
   {
    "duration": 4,
    "start_time": "2021-09-15T15:42:27.368Z"
   },
   {
    "duration": 545,
    "start_time": "2021-09-15T15:42:27.374Z"
   },
   {
    "duration": 519,
    "start_time": "2021-09-15T15:42:48.277Z"
   },
   {
    "duration": 3,
    "start_time": "2021-09-15T15:43:04.086Z"
   },
   {
    "duration": 616,
    "start_time": "2021-09-15T15:43:04.092Z"
   },
   {
    "duration": 99,
    "start_time": "2021-09-15T15:43:33.876Z"
   },
   {
    "duration": 4,
    "start_time": "2021-09-15T15:43:52.119Z"
   },
   {
    "duration": 520,
    "start_time": "2021-09-15T15:43:52.126Z"
   },
   {
    "duration": 532,
    "start_time": "2021-09-15T15:44:10.504Z"
   },
   {
    "duration": 513,
    "start_time": "2021-09-15T15:44:33.327Z"
   },
   {
    "duration": 518,
    "start_time": "2021-09-15T15:44:58.779Z"
   },
   {
    "duration": 4,
    "start_time": "2021-09-15T15:45:44.504Z"
   },
   {
    "duration": 589,
    "start_time": "2021-09-15T15:45:44.510Z"
   },
   {
    "duration": 3,
    "start_time": "2021-09-15T15:46:02.903Z"
   },
   {
    "duration": 557,
    "start_time": "2021-09-15T15:46:02.909Z"
   },
   {
    "duration": 4,
    "start_time": "2021-09-15T15:46:53.815Z"
   },
   {
    "duration": 607,
    "start_time": "2021-09-15T15:46:53.823Z"
   },
   {
    "duration": 551,
    "start_time": "2021-09-15T15:52:06.586Z"
   },
   {
    "duration": 4,
    "start_time": "2021-09-15T15:54:04.500Z"
   },
   {
    "duration": 622,
    "start_time": "2021-09-15T15:54:04.514Z"
   },
   {
    "duration": 637,
    "start_time": "2021-09-15T15:55:13.360Z"
   },
   {
    "duration": 635,
    "start_time": "2021-09-15T15:55:27.102Z"
   },
   {
    "duration": 643,
    "start_time": "2021-09-15T15:55:46.387Z"
   },
   {
    "duration": 631,
    "start_time": "2021-09-15T15:56:05.750Z"
   },
   {
    "duration": 1072,
    "start_time": "2021-09-15T16:02:22.930Z"
   },
   {
    "duration": 904,
    "start_time": "2021-09-15T16:03:05.294Z"
   },
   {
    "duration": 4,
    "start_time": "2021-09-15T16:03:20.063Z"
   },
   {
    "duration": 896,
    "start_time": "2021-09-15T16:03:20.071Z"
   },
   {
    "duration": 4,
    "start_time": "2021-09-15T16:03:35.009Z"
   },
   {
    "duration": 660,
    "start_time": "2021-09-15T16:03:35.015Z"
   },
   {
    "duration": 639,
    "start_time": "2021-09-15T16:06:45.779Z"
   },
   {
    "duration": 3,
    "start_time": "2021-09-15T16:06:54.665Z"
   },
   {
    "duration": 717,
    "start_time": "2021-09-15T16:06:54.673Z"
   },
   {
    "duration": 3,
    "start_time": "2021-09-15T16:07:24.193Z"
   },
   {
    "duration": 635,
    "start_time": "2021-09-15T16:07:24.202Z"
   },
   {
    "duration": 3,
    "start_time": "2021-09-15T16:09:37.016Z"
   },
   {
    "duration": 1866,
    "start_time": "2021-09-15T16:09:37.025Z"
   },
   {
    "duration": 1747,
    "start_time": "2021-09-15T16:09:58.530Z"
   },
   {
    "duration": 571,
    "start_time": "2021-09-15T16:10:12.423Z"
   },
   {
    "duration": 1733,
    "start_time": "2021-09-15T16:10:27.223Z"
   },
   {
    "duration": 638,
    "start_time": "2021-09-15T16:10:36.216Z"
   },
   {
    "duration": 610,
    "start_time": "2021-09-15T16:10:57.081Z"
   },
   {
    "duration": 604,
    "start_time": "2021-09-15T16:11:04.798Z"
   },
   {
    "duration": 3192,
    "start_time": "2021-09-15T16:11:25.154Z"
   },
   {
    "duration": 1852,
    "start_time": "2021-09-15T16:12:18.755Z"
   },
   {
    "duration": 647,
    "start_time": "2021-09-15T16:12:28.608Z"
   },
   {
    "duration": 594,
    "start_time": "2021-09-15T16:12:32.915Z"
   },
   {
    "duration": 3,
    "start_time": "2021-09-15T16:14:12.188Z"
   },
   {
    "duration": 607,
    "start_time": "2021-09-15T16:14:12.195Z"
   },
   {
    "duration": 788,
    "start_time": "2021-09-18T06:58:37.943Z"
   },
   {
    "duration": 622,
    "start_time": "2021-09-18T06:58:38.734Z"
   },
   {
    "duration": 3,
    "start_time": "2021-09-18T07:00:59.016Z"
   },
   {
    "duration": 635,
    "start_time": "2021-09-18T07:00:59.025Z"
   },
   {
    "duration": 3,
    "start_time": "2021-09-18T07:09:25.061Z"
   },
   {
    "duration": 655,
    "start_time": "2021-09-18T07:09:25.070Z"
   },
   {
    "duration": 3,
    "start_time": "2021-09-18T07:25:24.912Z"
   },
   {
    "duration": 631,
    "start_time": "2021-09-18T07:25:24.918Z"
   },
   {
    "duration": 343,
    "start_time": "2021-09-18T07:25:25.552Z"
   },
   {
    "duration": 269,
    "start_time": "2021-09-18T07:26:03.330Z"
   },
   {
    "duration": 98,
    "start_time": "2021-09-18T07:26:52.237Z"
   },
   {
    "duration": 234,
    "start_time": "2021-09-18T07:27:18.806Z"
   },
   {
    "duration": 3,
    "start_time": "2021-09-18T07:30:40.726Z"
   },
   {
    "duration": 655,
    "start_time": "2021-09-18T07:30:40.735Z"
   },
   {
    "duration": 253,
    "start_time": "2021-09-18T07:30:41.392Z"
   },
   {
    "duration": -3648610,
    "start_time": "2021-09-18T08:31:30.258Z"
   },
   {
    "duration": 319,
    "start_time": "2021-09-18T07:34:19.099Z"
   },
   {
    "duration": 37,
    "start_time": "2021-09-18T07:34:26.837Z"
   },
   {
    "duration": 38,
    "start_time": "2021-09-18T07:34:51.278Z"
   },
   {
    "duration": 22,
    "start_time": "2021-09-18T07:34:58.564Z"
   },
   {
    "duration": 17,
    "start_time": "2021-09-18T07:35:13.516Z"
   },
   {
    "duration": 26,
    "start_time": "2021-09-18T07:35:29.300Z"
   },
   {
    "duration": 279,
    "start_time": "2021-09-18T07:36:27.568Z"
   },
   {
    "duration": 25,
    "start_time": "2021-09-18T07:36:38.953Z"
   },
   {
    "duration": 26,
    "start_time": "2021-09-18T07:36:44.871Z"
   },
   {
    "duration": 238,
    "start_time": "2021-09-18T07:37:16.804Z"
   },
   {
    "duration": 363,
    "start_time": "2021-09-18T07:37:24.629Z"
   },
   {
    "duration": 127,
    "start_time": "2021-09-18T07:37:32.056Z"
   },
   {
    "duration": 100,
    "start_time": "2021-09-18T07:37:40.362Z"
   },
   {
    "duration": 91,
    "start_time": "2021-09-18T07:37:54.565Z"
   },
   {
    "duration": 113,
    "start_time": "2021-09-18T07:38:29.397Z"
   },
   {
    "duration": 391,
    "start_time": "2021-09-18T07:38:47.361Z"
   },
   {
    "duration": 39,
    "start_time": "2021-09-18T07:41:15.916Z"
   },
   {
    "duration": 283,
    "start_time": "2021-09-18T07:41:24.837Z"
   },
   {
    "duration": 48,
    "start_time": "2021-09-18T07:41:29.643Z"
   },
   {
    "duration": 43,
    "start_time": "2021-09-18T07:41:54.497Z"
   },
   {
    "duration": 24,
    "start_time": "2021-09-18T07:42:42.743Z"
   },
   {
    "duration": 4,
    "start_time": "2021-09-18T07:42:47.471Z"
   },
   {
    "duration": 643,
    "start_time": "2021-09-18T07:42:47.480Z"
   },
   {
    "duration": 77,
    "start_time": "2021-09-18T07:42:48.126Z"
   },
   {
    "duration": 4,
    "start_time": "2021-09-18T07:42:48.207Z"
   },
   {
    "duration": 3,
    "start_time": "2021-09-18T07:43:09.333Z"
   },
   {
    "duration": 619,
    "start_time": "2021-09-18T07:43:09.339Z"
   },
   {
    "duration": 73,
    "start_time": "2021-09-18T07:43:09.961Z"
   },
   {
    "duration": 3,
    "start_time": "2021-09-18T07:43:10.036Z"
   },
   {
    "duration": 4,
    "start_time": "2021-09-18T07:43:20.256Z"
   },
   {
    "duration": 641,
    "start_time": "2021-09-18T07:43:20.262Z"
   },
   {
    "duration": 51,
    "start_time": "2021-09-18T07:43:20.906Z"
   },
   {
    "duration": 23,
    "start_time": "2021-09-18T07:43:20.959Z"
   },
   {
    "duration": 4,
    "start_time": "2021-09-18T07:43:40.800Z"
   },
   {
    "duration": 637,
    "start_time": "2021-09-18T07:43:40.811Z"
   },
   {
    "duration": 104,
    "start_time": "2021-09-18T07:43:41.451Z"
   },
   {
    "duration": 3,
    "start_time": "2021-09-18T07:43:41.558Z"
   },
   {
    "duration": 4,
    "start_time": "2021-09-18T07:49:06.996Z"
   },
   {
    "duration": 646,
    "start_time": "2021-09-18T07:49:07.003Z"
   },
   {
    "duration": 113,
    "start_time": "2021-09-18T07:49:07.653Z"
   },
   {
    "duration": 14,
    "start_time": "2021-09-18T07:49:07.769Z"
   },
   {
    "duration": 3,
    "start_time": "2021-09-18T07:50:52.338Z"
   },
   {
    "duration": 658,
    "start_time": "2021-09-18T07:50:52.343Z"
   },
   {
    "duration": 104,
    "start_time": "2021-09-18T07:50:53.003Z"
   },
   {
    "duration": 93,
    "start_time": "2021-09-18T07:50:53.110Z"
   },
   {
    "duration": 4,
    "start_time": "2021-09-18T07:51:00.352Z"
   },
   {
    "duration": 655,
    "start_time": "2021-09-18T07:51:00.359Z"
   },
   {
    "duration": 108,
    "start_time": "2021-09-18T07:51:01.017Z"
   },
   {
    "duration": 32,
    "start_time": "2021-09-18T07:51:01.127Z"
   },
   {
    "duration": 3,
    "start_time": "2021-09-18T07:52:51.500Z"
   },
   {
    "duration": 617,
    "start_time": "2021-09-18T07:52:51.509Z"
   },
   {
    "duration": 106,
    "start_time": "2021-09-18T07:52:52.129Z"
   },
   {
    "duration": 55,
    "start_time": "2021-09-18T07:52:52.237Z"
   },
   {
    "duration": 4,
    "start_time": "2021-09-18T08:02:41.993Z"
   },
   {
    "duration": 647,
    "start_time": "2021-09-18T08:02:42.002Z"
   },
   {
    "duration": 110,
    "start_time": "2021-09-18T08:02:42.652Z"
   },
   {
    "duration": -3648484,
    "start_time": "2021-09-18T09:03:31.249Z"
   },
   {
    "duration": 3,
    "start_time": "2021-09-18T08:04:01.795Z"
   },
   {
    "duration": 636,
    "start_time": "2021-09-18T08:04:01.803Z"
   },
   {
    "duration": 173,
    "start_time": "2021-09-18T08:04:02.441Z"
   },
   {
    "duration": 44,
    "start_time": "2021-09-18T08:04:02.617Z"
   },
   {
    "duration": 4,
    "start_time": "2021-09-18T08:07:24.634Z"
   },
   {
    "duration": 651,
    "start_time": "2021-09-18T08:07:24.644Z"
   },
   {
    "duration": 163,
    "start_time": "2021-09-18T08:07:25.298Z"
   },
   {
    "duration": 54,
    "start_time": "2021-09-18T08:07:25.464Z"
   },
   {
    "duration": 3,
    "start_time": "2021-09-18T08:14:04.632Z"
   },
   {
    "duration": 693,
    "start_time": "2021-09-18T08:14:04.639Z"
   },
   {
    "duration": 175,
    "start_time": "2021-09-18T08:14:05.335Z"
   },
   {
    "duration": 46,
    "start_time": "2021-09-18T08:14:05.513Z"
   },
   {
    "duration": 4,
    "start_time": "2021-09-18T08:15:36.059Z"
   },
   {
    "duration": 652,
    "start_time": "2021-09-18T08:15:36.067Z"
   },
   {
    "duration": 159,
    "start_time": "2021-09-18T08:15:36.723Z"
   },
   {
    "duration": 4,
    "start_time": "2021-09-18T08:15:36.885Z"
   },
   {
    "duration": 3,
    "start_time": "2021-09-18T08:18:42.708Z"
   },
   {
    "duration": 628,
    "start_time": "2021-09-18T08:18:42.717Z"
   },
   {
    "duration": 205,
    "start_time": "2021-09-18T08:18:43.348Z"
   },
   {
    "duration": 3,
    "start_time": "2021-09-18T08:18:43.557Z"
   },
   {
    "duration": 3,
    "start_time": "2021-09-18T08:20:41.005Z"
   },
   {
    "duration": 633,
    "start_time": "2021-09-18T08:20:41.012Z"
   },
   {
    "duration": 220,
    "start_time": "2021-09-18T08:20:41.648Z"
   },
   {
    "duration": 3,
    "start_time": "2021-09-18T08:20:41.870Z"
   },
   {
    "duration": 3,
    "start_time": "2021-09-18T08:21:44.536Z"
   },
   {
    "duration": 641,
    "start_time": "2021-09-18T08:21:44.542Z"
   },
   {
    "duration": 307,
    "start_time": "2021-09-18T08:21:45.186Z"
   },
   {
    "duration": 2,
    "start_time": "2021-09-18T08:21:45.496Z"
   },
   {
    "duration": 3,
    "start_time": "2021-09-18T08:23:39.957Z"
   },
   {
    "duration": 645,
    "start_time": "2021-09-18T08:23:39.965Z"
   },
   {
    "duration": 437,
    "start_time": "2021-09-18T08:23:40.613Z"
   },
   {
    "duration": 3,
    "start_time": "2021-09-18T08:23:41.053Z"
   },
   {
    "duration": 4,
    "start_time": "2021-09-18T08:24:02.116Z"
   },
   {
    "duration": 625,
    "start_time": "2021-09-18T08:24:02.127Z"
   },
   {
    "duration": 465,
    "start_time": "2021-09-18T08:24:02.754Z"
   },
   {
    "duration": 3,
    "start_time": "2021-09-18T08:24:03.222Z"
   },
   {
    "duration": 3,
    "start_time": "2021-09-18T08:24:13.956Z"
   },
   {
    "duration": 637,
    "start_time": "2021-09-18T08:24:13.962Z"
   },
   {
    "duration": 444,
    "start_time": "2021-09-18T08:24:14.602Z"
   },
   {
    "duration": 3,
    "start_time": "2021-09-18T08:24:15.048Z"
   },
   {
    "duration": 3,
    "start_time": "2021-09-18T08:25:07.552Z"
   },
   {
    "duration": 633,
    "start_time": "2021-09-18T08:25:07.558Z"
   },
   {
    "duration": 472,
    "start_time": "2021-09-18T08:25:08.194Z"
   },
   {
    "duration": 13,
    "start_time": "2021-09-18T08:25:08.669Z"
   },
   {
    "duration": 4,
    "start_time": "2021-09-18T08:26:46.122Z"
   },
   {
    "duration": 666,
    "start_time": "2021-09-18T08:26:46.128Z"
   },
   {
    "duration": 345,
    "start_time": "2021-09-18T08:26:46.797Z"
   },
   {
    "duration": 197,
    "start_time": "2021-09-18T08:26:47.145Z"
   },
   {
    "duration": 3,
    "start_time": "2021-09-18T08:26:47.345Z"
   },
   {
    "duration": 4,
    "start_time": "2021-09-18T08:27:45.079Z"
   },
   {
    "duration": 634,
    "start_time": "2021-09-18T08:27:45.086Z"
   },
   {
    "duration": 369,
    "start_time": "2021-09-18T08:27:45.724Z"
   },
   {
    "duration": 192,
    "start_time": "2021-09-18T08:27:46.096Z"
   },
   {
    "duration": 3,
    "start_time": "2021-09-18T08:27:46.291Z"
   },
   {
    "duration": 3,
    "start_time": "2021-09-18T08:35:36.709Z"
   },
   {
    "duration": 666,
    "start_time": "2021-09-18T08:35:36.717Z"
   },
   {
    "duration": 3,
    "start_time": "2021-09-18T08:35:37.386Z"
   },
   {
    "duration": 200,
    "start_time": "2021-09-18T08:35:37.392Z"
   },
   {
    "duration": 3,
    "start_time": "2021-09-18T08:35:37.595Z"
   },
   {
    "duration": 3,
    "start_time": "2021-09-18T08:37:28.363Z"
   },
   {
    "duration": 648,
    "start_time": "2021-09-18T08:37:28.374Z"
   },
   {
    "duration": 86,
    "start_time": "2021-09-18T08:37:29.025Z"
   },
   {
    "duration": -3648418,
    "start_time": "2021-09-18T09:38:17.532Z"
   },
   {
    "duration": -3648420,
    "start_time": "2021-09-18T09:38:17.535Z"
   },
   {
    "duration": 3,
    "start_time": "2021-09-18T08:37:38.627Z"
   },
   {
    "duration": 628,
    "start_time": "2021-09-18T08:37:38.633Z"
   },
   {
    "duration": 7106,
    "start_time": "2021-09-18T08:37:39.264Z"
   },
   {
    "duration": -3648439,
    "start_time": "2021-09-18T09:38:34.812Z"
   },
   {
    "duration": -3648446,
    "start_time": "2021-09-18T09:38:34.820Z"
   },
   {
    "duration": 3,
    "start_time": "2021-09-18T08:40:17.614Z"
   },
   {
    "duration": 627,
    "start_time": "2021-09-18T08:40:17.622Z"
   },
   {
    "duration": 282,
    "start_time": "2021-09-18T08:40:18.251Z"
   },
   {
    "duration": -3648401,
    "start_time": "2021-09-18T09:41:06.937Z"
   },
   {
    "duration": -3648427,
    "start_time": "2021-09-18T09:41:06.965Z"
   },
   {
    "duration": 3,
    "start_time": "2021-09-18T08:46:37.836Z"
   },
   {
    "duration": 653,
    "start_time": "2021-09-18T08:46:37.847Z"
   },
   {
    "duration": 288,
    "start_time": "2021-09-18T08:46:38.503Z"
   },
   {
    "duration": -3648407,
    "start_time": "2021-09-18T09:47:27.200Z"
   },
   {
    "duration": -3648425,
    "start_time": "2021-09-18T09:47:27.220Z"
   },
   {
    "duration": 3,
    "start_time": "2021-09-18T08:46:51.508Z"
   },
   {
    "duration": 635,
    "start_time": "2021-09-18T08:46:51.515Z"
   },
   {
    "duration": 240,
    "start_time": "2021-09-18T08:46:52.153Z"
   },
   {
    "duration": -3648376,
    "start_time": "2021-09-18T09:47:40.773Z"
   },
   {
    "duration": -3648379,
    "start_time": "2021-09-18T09:47:40.778Z"
   },
   {
    "duration": 4,
    "start_time": "2021-09-18T08:47:10.212Z"
   },
   {
    "duration": 721,
    "start_time": "2021-09-18T08:47:10.219Z"
   },
   {
    "duration": 42100,
    "start_time": "2021-09-18T08:47:10.945Z"
   },
   {
    "duration": -3648401,
    "start_time": "2021-09-18T09:48:41.449Z"
   },
   {
    "duration": -3648401,
    "start_time": "2021-09-18T09:48:41.451Z"
   },
   {
    "duration": 3,
    "start_time": "2021-09-18T08:49:33.770Z"
   },
   {
    "duration": 742,
    "start_time": "2021-09-18T08:49:33.777Z"
   },
   {
    "duration": 17,
    "start_time": "2021-09-18T08:49:34.523Z"
   },
   {
    "duration": 217,
    "start_time": "2021-09-18T08:49:34.543Z"
   },
   {
    "duration": 4,
    "start_time": "2021-09-18T08:49:34.763Z"
   },
   {
    "duration": 3,
    "start_time": "2021-09-18T08:51:56.776Z"
   },
   {
    "duration": 648,
    "start_time": "2021-09-18T08:51:56.782Z"
   },
   {
    "duration": 69,
    "start_time": "2021-09-18T08:51:57.433Z"
   },
   {
    "duration": 214,
    "start_time": "2021-09-18T08:51:57.505Z"
   },
   {
    "duration": 3,
    "start_time": "2021-09-18T08:51:57.721Z"
   },
   {
    "duration": 4,
    "start_time": "2021-09-18T08:54:55.252Z"
   },
   {
    "duration": 639,
    "start_time": "2021-09-18T08:54:55.261Z"
   },
   {
    "duration": 86,
    "start_time": "2021-09-18T08:54:55.903Z"
   },
   {
    "duration": 194,
    "start_time": "2021-09-18T08:54:55.993Z"
   },
   {
    "duration": 4,
    "start_time": "2021-09-18T08:54:56.189Z"
   },
   {
    "duration": 3,
    "start_time": "2021-09-18T08:55:16.053Z"
   },
   {
    "duration": 649,
    "start_time": "2021-09-18T08:55:16.059Z"
   },
   {
    "duration": 105,
    "start_time": "2021-09-18T08:55:16.712Z"
   },
   {
    "duration": 224,
    "start_time": "2021-09-18T08:55:16.820Z"
   },
   {
    "duration": 3,
    "start_time": "2021-09-18T08:55:17.046Z"
   },
   {
    "duration": 3,
    "start_time": "2021-09-18T08:56:52.897Z"
   },
   {
    "duration": 617,
    "start_time": "2021-09-18T08:56:52.903Z"
   },
   {
    "duration": 116,
    "start_time": "2021-09-18T08:56:53.523Z"
   },
   {
    "duration": 197,
    "start_time": "2021-09-18T08:56:53.642Z"
   },
   {
    "duration": 3,
    "start_time": "2021-09-18T08:56:53.842Z"
   },
   {
    "duration": 3,
    "start_time": "2021-09-18T08:57:31.065Z"
   },
   {
    "duration": 726,
    "start_time": "2021-09-18T08:57:31.071Z"
   },
   {
    "duration": 120,
    "start_time": "2021-09-18T08:57:31.800Z"
   },
   {
    "duration": 193,
    "start_time": "2021-09-18T08:57:31.923Z"
   },
   {
    "duration": 9615,
    "start_time": "2021-09-18T08:57:32.119Z"
   },
   {
    "duration": -3648392,
    "start_time": "2021-09-18T09:58:30.128Z"
   },
   {
    "duration": 4,
    "start_time": "2021-09-18T08:57:44.537Z"
   },
   {
    "duration": 612,
    "start_time": "2021-09-18T08:57:44.547Z"
   },
   {
    "duration": 115,
    "start_time": "2021-09-18T08:57:45.184Z"
   },
   {
    "duration": 193,
    "start_time": "2021-09-18T08:57:45.302Z"
   },
   {
    "duration": 10,
    "start_time": "2021-09-18T08:57:45.498Z"
   },
   {
    "duration": 3,
    "start_time": "2021-09-18T08:57:45.510Z"
   },
   {
    "duration": 4,
    "start_time": "2021-09-18T08:58:10.099Z"
   },
   {
    "duration": 617,
    "start_time": "2021-09-18T08:58:10.110Z"
   },
   {
    "duration": 127,
    "start_time": "2021-09-18T08:58:10.730Z"
   },
   {
    "duration": 204,
    "start_time": "2021-09-18T08:58:10.861Z"
   },
   {
    "duration": 21,
    "start_time": "2021-09-18T08:58:11.068Z"
   },
   {
    "duration": 4,
    "start_time": "2021-09-18T08:58:11.092Z"
   },
   {
    "duration": 4,
    "start_time": "2021-09-18T08:58:46.908Z"
   },
   {
    "duration": 730,
    "start_time": "2021-09-18T08:58:46.915Z"
   },
   {
    "duration": 158,
    "start_time": "2021-09-18T08:58:47.649Z"
   },
   {
    "duration": 212,
    "start_time": "2021-09-18T08:58:47.810Z"
   },
   {
    "duration": 9,
    "start_time": "2021-09-18T08:58:48.024Z"
   },
   {
    "duration": 4,
    "start_time": "2021-09-18T08:58:48.035Z"
   },
   {
    "duration": 3,
    "start_time": "2021-09-18T08:59:05.181Z"
   },
   {
    "duration": 639,
    "start_time": "2021-09-18T08:59:05.187Z"
   },
   {
    "duration": 118,
    "start_time": "2021-09-18T08:59:05.829Z"
   },
   {
    "duration": 199,
    "start_time": "2021-09-18T08:59:05.950Z"
   },
   {
    "duration": 9,
    "start_time": "2021-09-18T08:59:06.152Z"
   },
   {
    "duration": 18,
    "start_time": "2021-09-18T08:59:06.164Z"
   },
   {
    "duration": 4,
    "start_time": "2021-09-18T08:59:42.162Z"
   },
   {
    "duration": 654,
    "start_time": "2021-09-18T08:59:42.169Z"
   },
   {
    "duration": 103,
    "start_time": "2021-09-18T08:59:42.826Z"
   },
   {
    "duration": 203,
    "start_time": "2021-09-18T08:59:42.931Z"
   },
   {
    "duration": 3,
    "start_time": "2021-09-18T08:59:43.136Z"
   },
   {
    "duration": 3,
    "start_time": "2021-09-18T09:01:32.554Z"
   },
   {
    "duration": 652,
    "start_time": "2021-09-18T09:01:32.564Z"
   },
   {
    "duration": 118,
    "start_time": "2021-09-18T09:01:33.219Z"
   },
   {
    "duration": 203,
    "start_time": "2021-09-18T09:01:33.339Z"
   },
   {
    "duration": 3,
    "start_time": "2021-09-18T09:01:33.544Z"
   },
   {
    "duration": 3,
    "start_time": "2021-09-18T09:04:29.353Z"
   },
   {
    "duration": 643,
    "start_time": "2021-09-18T09:04:29.360Z"
   },
   {
    "duration": 149,
    "start_time": "2021-09-18T09:04:30.006Z"
   },
   {
    "duration": 217,
    "start_time": "2021-09-18T09:04:30.159Z"
   },
   {
    "duration": 6,
    "start_time": "2021-09-18T09:04:30.379Z"
   },
   {
    "duration": 4,
    "start_time": "2021-09-18T09:04:51.089Z"
   },
   {
    "duration": 634,
    "start_time": "2021-09-18T09:04:51.100Z"
   },
   {
    "duration": 156,
    "start_time": "2021-09-18T09:04:51.738Z"
   },
   {
    "duration": 202,
    "start_time": "2021-09-18T09:04:51.898Z"
   },
   {
    "duration": 3,
    "start_time": "2021-09-18T09:04:52.103Z"
   },
   {
    "duration": 4,
    "start_time": "2021-09-18T09:09:05.656Z"
   },
   {
    "duration": 634,
    "start_time": "2021-09-18T09:09:05.665Z"
   },
   {
    "duration": 124,
    "start_time": "2021-09-18T09:09:06.301Z"
   },
   {
    "duration": 195,
    "start_time": "2021-09-18T09:09:06.428Z"
   },
   {
    "duration": 3,
    "start_time": "2021-09-18T09:09:06.626Z"
   },
   {
    "duration": 4,
    "start_time": "2021-09-18T09:13:00.810Z"
   },
   {
    "duration": 631,
    "start_time": "2021-09-18T09:13:00.817Z"
   },
   {
    "duration": 505,
    "start_time": "2021-09-18T09:13:01.451Z"
   },
   {
    "duration": 208,
    "start_time": "2021-09-18T09:13:01.959Z"
   },
   {
    "duration": 3,
    "start_time": "2021-09-18T09:13:02.170Z"
   },
   {
    "duration": 4,
    "start_time": "2021-09-18T09:17:09.914Z"
   },
   {
    "duration": 631,
    "start_time": "2021-09-18T09:17:09.921Z"
   },
   {
    "duration": 645,
    "start_time": "2021-09-18T09:17:10.556Z"
   },
   {
    "duration": 113,
    "start_time": "2021-09-18T09:17:11.204Z"
   },
   {
    "duration": 2,
    "start_time": "2021-09-18T09:17:11.320Z"
   },
   {
    "duration": 3,
    "start_time": "2021-09-18T09:17:44.379Z"
   },
   {
    "duration": 675,
    "start_time": "2021-09-18T09:17:44.386Z"
   },
   {
    "duration": 771,
    "start_time": "2021-09-18T09:17:45.064Z"
   },
   {
    "duration": 135,
    "start_time": "2021-09-18T09:17:45.839Z"
   },
   {
    "duration": 5,
    "start_time": "2021-09-18T09:17:45.977Z"
   },
   {
    "duration": 3,
    "start_time": "2021-09-18T09:23:19.503Z"
   },
   {
    "duration": 626,
    "start_time": "2021-09-18T09:23:19.510Z"
   },
   {
    "duration": 756,
    "start_time": "2021-09-18T09:23:20.138Z"
   },
   {
    "duration": 118,
    "start_time": "2021-09-18T09:23:20.897Z"
   },
   {
    "duration": 3,
    "start_time": "2021-09-18T09:23:21.018Z"
   },
   {
    "duration": 3,
    "start_time": "2021-09-18T09:30:15.334Z"
   },
   {
    "duration": 644,
    "start_time": "2021-09-18T09:30:15.353Z"
   },
   {
    "duration": 641,
    "start_time": "2021-09-18T09:30:16.000Z"
   },
   {
    "duration": 104,
    "start_time": "2021-09-18T09:30:16.645Z"
   },
   {
    "duration": 3,
    "start_time": "2021-09-18T09:30:16.751Z"
   },
   {
    "duration": 3,
    "start_time": "2021-09-18T09:31:07.487Z"
   },
   {
    "duration": 717,
    "start_time": "2021-09-18T09:31:07.493Z"
   },
   {
    "duration": 633,
    "start_time": "2021-09-18T09:31:08.214Z"
   },
   {
    "duration": 135,
    "start_time": "2021-09-18T09:31:08.849Z"
   },
   {
    "duration": 3,
    "start_time": "2021-09-18T09:31:08.986Z"
   },
   {
    "duration": 4,
    "start_time": "2021-09-18T09:31:19.254Z"
   },
   {
    "duration": 662,
    "start_time": "2021-09-18T09:31:19.262Z"
   },
   {
    "duration": 659,
    "start_time": "2021-09-18T09:31:19.928Z"
   },
   {
    "duration": 126,
    "start_time": "2021-09-18T09:31:20.589Z"
   },
   {
    "duration": 3,
    "start_time": "2021-09-18T09:31:20.717Z"
   },
   {
    "duration": 4,
    "start_time": "2021-09-18T09:32:10.257Z"
   },
   {
    "duration": 630,
    "start_time": "2021-09-18T09:32:10.264Z"
   },
   {
    "duration": 642,
    "start_time": "2021-09-18T09:32:10.897Z"
   },
   {
    "duration": 140,
    "start_time": "2021-09-18T09:32:11.542Z"
   },
   {
    "duration": 3,
    "start_time": "2021-09-18T09:32:11.684Z"
   },
   {
    "duration": 4,
    "start_time": "2021-09-18T09:33:22.107Z"
   },
   {
    "duration": 642,
    "start_time": "2021-09-18T09:33:22.114Z"
   },
   {
    "duration": 694,
    "start_time": "2021-09-18T09:33:22.761Z"
   },
   {
    "duration": 130,
    "start_time": "2021-09-18T09:33:23.458Z"
   },
   {
    "duration": 3,
    "start_time": "2021-09-18T09:33:23.591Z"
   },
   {
    "duration": 4,
    "start_time": "2021-09-18T09:34:55.758Z"
   },
   {
    "duration": 629,
    "start_time": "2021-09-18T09:34:55.765Z"
   },
   {
    "duration": 639,
    "start_time": "2021-09-18T09:34:56.397Z"
   },
   {
    "duration": 121,
    "start_time": "2021-09-18T09:34:57.039Z"
   },
   {
    "duration": 3,
    "start_time": "2021-09-18T09:34:57.162Z"
   },
   {
    "duration": 3,
    "start_time": "2021-09-18T09:35:40.090Z"
   },
   {
    "duration": 620,
    "start_time": "2021-09-18T09:35:40.096Z"
   },
   {
    "duration": 655,
    "start_time": "2021-09-18T09:35:40.719Z"
   },
   {
    "duration": -3648286,
    "start_time": "2021-09-18T10:36:29.663Z"
   },
   {
    "duration": -3648287,
    "start_time": "2021-09-18T10:36:29.666Z"
   },
   {
    "duration": 4,
    "start_time": "2021-09-18T09:36:10.944Z"
   },
   {
    "duration": 633,
    "start_time": "2021-09-18T09:36:10.950Z"
   },
   {
    "duration": 609,
    "start_time": "2021-09-18T09:36:11.586Z"
   },
   {
    "duration": 135,
    "start_time": "2021-09-18T09:36:12.198Z"
   },
   {
    "duration": 3,
    "start_time": "2021-09-18T09:36:12.335Z"
   },
   {
    "duration": 4,
    "start_time": "2021-09-18T09:38:37.383Z"
   },
   {
    "duration": 627,
    "start_time": "2021-09-18T09:38:37.390Z"
   },
   {
    "duration": 639,
    "start_time": "2021-09-18T09:38:38.020Z"
   },
   {
    "duration": 140,
    "start_time": "2021-09-18T09:38:38.661Z"
   },
   {
    "duration": 3,
    "start_time": "2021-09-18T09:38:38.804Z"
   },
   {
    "duration": 3,
    "start_time": "2021-09-18T09:38:53.856Z"
   },
   {
    "duration": 754,
    "start_time": "2021-09-18T09:38:53.867Z"
   },
   {
    "duration": 633,
    "start_time": "2021-09-18T09:38:54.623Z"
   },
   {
    "duration": 147,
    "start_time": "2021-09-18T09:38:55.260Z"
   },
   {
    "duration": 3,
    "start_time": "2021-09-18T09:38:55.409Z"
   },
   {
    "duration": 4,
    "start_time": "2021-09-18T09:43:36.400Z"
   },
   {
    "duration": 624,
    "start_time": "2021-09-18T09:43:36.408Z"
   },
   {
    "duration": 350,
    "start_time": "2021-09-18T09:43:37.034Z"
   },
   {
    "duration": 124,
    "start_time": "2021-09-18T09:43:37.388Z"
   },
   {
    "duration": 211,
    "start_time": "2021-09-18T09:43:37.515Z"
   },
   {
    "duration": 175,
    "start_time": "2021-09-18T09:43:37.729Z"
   },
   {
    "duration": 3,
    "start_time": "2021-09-18T09:43:37.907Z"
   },
   {
    "duration": 3,
    "start_time": "2021-09-18T09:45:10.934Z"
   },
   {
    "duration": 646,
    "start_time": "2021-09-18T09:45:10.940Z"
   },
   {
    "duration": 427,
    "start_time": "2021-09-18T09:45:11.590Z"
   },
   {
    "duration": 139,
    "start_time": "2021-09-18T09:45:12.021Z"
   },
   {
    "duration": 260,
    "start_time": "2021-09-18T09:45:12.162Z"
   },
   {
    "duration": 203,
    "start_time": "2021-09-18T09:45:12.425Z"
   },
   {
    "duration": 58,
    "start_time": "2021-09-18T09:45:12.631Z"
   },
   {
    "duration": 92,
    "start_time": "2021-09-18T09:45:12.692Z"
   },
   {
    "duration": 4,
    "start_time": "2021-09-18T09:45:12.786Z"
   },
   {
    "duration": 4,
    "start_time": "2021-09-18T09:55:55.013Z"
   },
   {
    "duration": 615,
    "start_time": "2021-09-18T09:55:55.024Z"
   },
   {
    "duration": 355,
    "start_time": "2021-09-18T09:55:55.642Z"
   },
   {
    "duration": 127,
    "start_time": "2021-09-18T09:55:56.000Z"
   },
   {
    "duration": 191,
    "start_time": "2021-09-18T09:55:56.131Z"
   },
   {
    "duration": 108,
    "start_time": "2021-09-18T09:55:56.326Z"
   },
   {
    "duration": 11,
    "start_time": "2021-09-18T09:55:56.437Z"
   },
   {
    "duration": 24,
    "start_time": "2021-09-18T09:55:56.451Z"
   },
   {
    "duration": 46,
    "start_time": "2021-09-18T09:55:56.477Z"
   },
   {
    "duration": 2,
    "start_time": "2021-09-18T09:55:56.527Z"
   },
   {
    "duration": 3,
    "start_time": "2021-09-18T09:58:53.361Z"
   },
   {
    "duration": 655,
    "start_time": "2021-09-18T09:58:53.369Z"
   },
   {
    "duration": 354,
    "start_time": "2021-09-18T09:58:54.028Z"
   },
   {
    "duration": 122,
    "start_time": "2021-09-18T09:58:54.385Z"
   },
   {
    "duration": 198,
    "start_time": "2021-09-18T09:58:54.510Z"
   },
   {
    "duration": 102,
    "start_time": "2021-09-18T09:58:54.710Z"
   },
   {
    "duration": 3,
    "start_time": "2021-09-18T09:58:54.814Z"
   },
   {
    "duration": 10,
    "start_time": "2021-09-18T09:58:54.819Z"
   },
   {
    "duration": 60,
    "start_time": "2021-09-18T09:58:54.832Z"
   },
   {
    "duration": 4,
    "start_time": "2021-09-18T09:58:54.895Z"
   },
   {
    "duration": 4,
    "start_time": "2021-09-18T09:59:04.737Z"
   },
   {
    "duration": 1045,
    "start_time": "2021-09-18T09:59:04.747Z"
   },
   {
    "duration": 385,
    "start_time": "2021-09-18T09:59:05.797Z"
   },
   {
    "duration": 129,
    "start_time": "2021-09-18T09:59:06.186Z"
   },
   {
    "duration": 192,
    "start_time": "2021-09-18T09:59:06.318Z"
   },
   {
    "duration": 108,
    "start_time": "2021-09-18T09:59:06.513Z"
   },
   {
    "duration": 4,
    "start_time": "2021-09-18T09:59:06.623Z"
   },
   {
    "duration": 8,
    "start_time": "2021-09-18T09:59:06.631Z"
   },
   {
    "duration": 75,
    "start_time": "2021-09-18T09:59:06.643Z"
   },
   {
    "duration": 3,
    "start_time": "2021-09-18T09:59:06.720Z"
   },
   {
    "duration": 4,
    "start_time": "2021-09-18T10:01:41.230Z"
   },
   {
    "duration": 613,
    "start_time": "2021-09-18T10:01:41.241Z"
   },
   {
    "duration": 355,
    "start_time": "2021-09-18T10:01:41.856Z"
   },
   {
    "duration": 118,
    "start_time": "2021-09-18T10:01:42.214Z"
   },
   {
    "duration": 198,
    "start_time": "2021-09-18T10:01:42.335Z"
   },
   {
    "duration": 106,
    "start_time": "2021-09-18T10:01:42.536Z"
   },
   {
    "duration": 9,
    "start_time": "2021-09-18T10:01:42.644Z"
   },
   {
    "duration": 6,
    "start_time": "2021-09-18T10:01:42.655Z"
   },
   {
    "duration": 53,
    "start_time": "2021-09-18T10:01:42.664Z"
   },
   {
    "duration": 3,
    "start_time": "2021-09-18T10:01:42.720Z"
   },
   {
    "duration": 4,
    "start_time": "2021-09-18T10:02:03.464Z"
   },
   {
    "duration": 613,
    "start_time": "2021-09-18T10:02:03.474Z"
   },
   {
    "duration": 346,
    "start_time": "2021-09-18T10:02:04.090Z"
   },
   {
    "duration": 115,
    "start_time": "2021-09-18T10:02:04.439Z"
   },
   {
    "duration": 195,
    "start_time": "2021-09-18T10:02:04.556Z"
   },
   {
    "duration": 106,
    "start_time": "2021-09-18T10:02:04.753Z"
   },
   {
    "duration": 9,
    "start_time": "2021-09-18T10:02:04.862Z"
   },
   {
    "duration": 19,
    "start_time": "2021-09-18T10:02:04.873Z"
   },
   {
    "duration": 44,
    "start_time": "2021-09-18T10:02:04.895Z"
   },
   {
    "duration": 3,
    "start_time": "2021-09-18T10:02:04.942Z"
   },
   {
    "duration": 3,
    "start_time": "2021-09-18T10:03:23.234Z"
   },
   {
    "duration": 644,
    "start_time": "2021-09-18T10:03:23.240Z"
   },
   {
    "duration": 379,
    "start_time": "2021-09-18T10:03:23.888Z"
   },
   {
    "duration": 135,
    "start_time": "2021-09-18T10:03:24.270Z"
   },
   {
    "duration": 191,
    "start_time": "2021-09-18T10:03:24.408Z"
   },
   {
    "duration": 109,
    "start_time": "2021-09-18T10:03:24.603Z"
   },
   {
    "duration": 9,
    "start_time": "2021-09-18T10:03:24.715Z"
   },
   {
    "duration": 12,
    "start_time": "2021-09-18T10:03:24.727Z"
   },
   {
    "duration": 57,
    "start_time": "2021-09-18T10:03:24.741Z"
   },
   {
    "duration": 3,
    "start_time": "2021-09-18T10:03:24.801Z"
   },
   {
    "duration": 4,
    "start_time": "2021-09-18T10:03:54.147Z"
   },
   {
    "duration": 635,
    "start_time": "2021-09-18T10:03:54.153Z"
   },
   {
    "duration": 340,
    "start_time": "2021-09-18T10:03:54.791Z"
   },
   {
    "duration": 117,
    "start_time": "2021-09-18T10:03:55.134Z"
   },
   {
    "duration": 192,
    "start_time": "2021-09-18T10:03:55.254Z"
   },
   {
    "duration": 108,
    "start_time": "2021-09-18T10:03:55.449Z"
   },
   {
    "duration": 9,
    "start_time": "2021-09-18T10:03:55.560Z"
   },
   {
    "duration": 3,
    "start_time": "2021-09-18T10:03:55.583Z"
   },
   {
    "duration": 56,
    "start_time": "2021-09-18T10:03:55.589Z"
   },
   {
    "duration": 4,
    "start_time": "2021-09-18T10:03:55.647Z"
   },
   {
    "duration": 4,
    "start_time": "2021-09-18T10:04:11.230Z"
   },
   {
    "duration": 616,
    "start_time": "2021-09-18T10:04:11.236Z"
   },
   {
    "duration": 342,
    "start_time": "2021-09-18T10:04:11.856Z"
   },
   {
    "duration": 115,
    "start_time": "2021-09-18T10:04:12.201Z"
   },
   {
    "duration": 183,
    "start_time": "2021-09-18T10:04:12.319Z"
   },
   {
    "duration": 108,
    "start_time": "2021-09-18T10:04:12.504Z"
   },
   {
    "duration": 9,
    "start_time": "2021-09-18T10:04:12.615Z"
   },
   {
    "duration": 8,
    "start_time": "2021-09-18T10:04:12.626Z"
   },
   {
    "duration": 58,
    "start_time": "2021-09-18T10:04:12.636Z"
   },
   {
    "duration": 3,
    "start_time": "2021-09-18T10:04:12.697Z"
   },
   {
    "duration": 4,
    "start_time": "2021-09-18T10:29:10.338Z"
   },
   {
    "duration": 641,
    "start_time": "2021-09-18T10:29:10.347Z"
   },
   {
    "duration": 355,
    "start_time": "2021-09-18T10:29:10.991Z"
   },
   {
    "duration": 134,
    "start_time": "2021-09-18T10:29:11.350Z"
   },
   {
    "duration": 238,
    "start_time": "2021-09-18T10:29:11.488Z"
   },
   {
    "duration": 133,
    "start_time": "2021-09-18T10:29:11.728Z"
   },
   {
    "duration": 11,
    "start_time": "2021-09-18T10:29:11.864Z"
   },
   {
    "duration": 14,
    "start_time": "2021-09-18T10:29:11.883Z"
   },
   {
    "duration": 40,
    "start_time": "2021-09-18T10:29:11.901Z"
   },
   {
    "duration": 2,
    "start_time": "2021-09-18T10:29:11.944Z"
   },
   {
    "duration": 5,
    "start_time": "2021-09-18T10:30:03.657Z"
   },
   {
    "duration": 637,
    "start_time": "2021-09-18T10:30:03.665Z"
   },
   {
    "duration": 360,
    "start_time": "2021-09-18T10:30:04.305Z"
   },
   {
    "duration": 126,
    "start_time": "2021-09-18T10:30:04.668Z"
   },
   {
    "duration": 186,
    "start_time": "2021-09-18T10:30:04.797Z"
   },
   {
    "duration": 114,
    "start_time": "2021-09-18T10:30:04.986Z"
   },
   {
    "duration": 10,
    "start_time": "2021-09-18T10:30:05.105Z"
   },
   {
    "duration": 12,
    "start_time": "2021-09-18T10:30:05.118Z"
   },
   {
    "duration": 62,
    "start_time": "2021-09-18T10:30:05.133Z"
   },
   {
    "duration": 3,
    "start_time": "2021-09-18T10:30:05.198Z"
   },
   {
    "duration": 4,
    "start_time": "2021-09-18T10:42:41.104Z"
   },
   {
    "duration": 635,
    "start_time": "2021-09-18T10:42:41.110Z"
   },
   {
    "duration": 371,
    "start_time": "2021-09-18T10:42:41.749Z"
   },
   {
    "duration": 126,
    "start_time": "2021-09-18T10:42:42.124Z"
   },
   {
    "duration": 199,
    "start_time": "2021-09-18T10:42:42.253Z"
   },
   {
    "duration": 105,
    "start_time": "2021-09-18T10:42:42.454Z"
   },
   {
    "duration": 10,
    "start_time": "2021-09-18T10:42:42.562Z"
   },
   {
    "duration": 8,
    "start_time": "2021-09-18T10:42:42.583Z"
   },
   {
    "duration": 37,
    "start_time": "2021-09-18T10:42:42.594Z"
   },
   {
    "duration": 3,
    "start_time": "2021-09-18T10:42:42.634Z"
   },
   {
    "duration": 3,
    "start_time": "2021-09-18T10:42:59.700Z"
   },
   {
    "duration": 640,
    "start_time": "2021-09-18T10:42:59.709Z"
   },
   {
    "duration": 381,
    "start_time": "2021-09-18T10:43:00.352Z"
   },
   {
    "duration": 115,
    "start_time": "2021-09-18T10:43:00.736Z"
   },
   {
    "duration": 197,
    "start_time": "2021-09-18T10:43:00.854Z"
   },
   {
    "duration": 109,
    "start_time": "2021-09-18T10:43:01.054Z"
   },
   {
    "duration": 9,
    "start_time": "2021-09-18T10:43:01.165Z"
   },
   {
    "duration": 15,
    "start_time": "2021-09-18T10:43:01.183Z"
   },
   {
    "duration": 47,
    "start_time": "2021-09-18T10:43:01.201Z"
   },
   {
    "duration": 3,
    "start_time": "2021-09-18T10:43:01.251Z"
   },
   {
    "duration": 4,
    "start_time": "2021-09-18T10:43:10.922Z"
   },
   {
    "duration": 611,
    "start_time": "2021-09-18T10:43:10.933Z"
   },
   {
    "duration": 361,
    "start_time": "2021-09-18T10:43:11.546Z"
   },
   {
    "duration": 129,
    "start_time": "2021-09-18T10:43:11.910Z"
   },
   {
    "duration": 196,
    "start_time": "2021-09-18T10:43:12.042Z"
   },
   {
    "duration": 114,
    "start_time": "2021-09-18T10:43:12.240Z"
   },
   {
    "duration": 9,
    "start_time": "2021-09-18T10:43:12.357Z"
   },
   {
    "duration": 17,
    "start_time": "2021-09-18T10:43:12.369Z"
   },
   {
    "duration": 39,
    "start_time": "2021-09-18T10:43:12.388Z"
   },
   {
    "duration": 3,
    "start_time": "2021-09-18T10:43:12.431Z"
   },
   {
    "duration": 4,
    "start_time": "2021-09-18T10:43:35.123Z"
   },
   {
    "duration": 613,
    "start_time": "2021-09-18T10:43:35.132Z"
   },
   {
    "duration": 362,
    "start_time": "2021-09-18T10:43:35.747Z"
   },
   {
    "duration": 121,
    "start_time": "2021-09-18T10:43:36.112Z"
   },
   {
    "duration": 187,
    "start_time": "2021-09-18T10:43:36.236Z"
   },
   {
    "duration": 109,
    "start_time": "2021-09-18T10:43:36.426Z"
   },
   {
    "duration": 9,
    "start_time": "2021-09-18T10:43:36.538Z"
   },
   {
    "duration": 20,
    "start_time": "2021-09-18T10:43:36.550Z"
   },
   {
    "duration": 37,
    "start_time": "2021-09-18T10:43:36.573Z"
   },
   {
    "duration": 3,
    "start_time": "2021-09-18T10:43:36.613Z"
   },
   {
    "duration": 4,
    "start_time": "2021-09-18T10:45:48.704Z"
   },
   {
    "duration": 690,
    "start_time": "2021-09-18T10:45:48.715Z"
   },
   {
    "duration": 363,
    "start_time": "2021-09-18T10:45:49.408Z"
   },
   {
    "duration": 123,
    "start_time": "2021-09-18T10:45:49.782Z"
   },
   {
    "duration": 197,
    "start_time": "2021-09-18T10:45:49.907Z"
   },
   {
    "duration": 117,
    "start_time": "2021-09-18T10:45:50.106Z"
   },
   {
    "duration": 10,
    "start_time": "2021-09-18T10:45:50.225Z"
   },
   {
    "duration": 15,
    "start_time": "2021-09-18T10:45:50.238Z"
   },
   {
    "duration": 27,
    "start_time": "2021-09-18T10:45:50.255Z"
   },
   {
    "duration": 41,
    "start_time": "2021-09-18T10:45:50.286Z"
   },
   {
    "duration": 3,
    "start_time": "2021-09-18T10:47:33.103Z"
   },
   {
    "duration": 819,
    "start_time": "2021-09-18T10:47:33.110Z"
   },
   {
    "duration": 381,
    "start_time": "2021-09-18T10:47:33.932Z"
   },
   {
    "duration": 132,
    "start_time": "2021-09-18T10:47:34.318Z"
   },
   {
    "duration": 214,
    "start_time": "2021-09-18T10:47:34.453Z"
   },
   {
    "duration": 112,
    "start_time": "2021-09-18T10:47:34.670Z"
   },
   {
    "duration": 11,
    "start_time": "2021-09-18T10:47:34.785Z"
   },
   {
    "duration": 20,
    "start_time": "2021-09-18T10:47:34.800Z"
   },
   {
    "duration": 13,
    "start_time": "2021-09-18T10:47:34.823Z"
   },
   {
    "duration": 49,
    "start_time": "2021-09-18T10:47:34.839Z"
   },
   {
    "duration": 4,
    "start_time": "2021-09-18T10:48:57.671Z"
   },
   {
    "duration": 659,
    "start_time": "2021-09-18T10:48:57.679Z"
   },
   {
    "duration": 381,
    "start_time": "2021-09-18T10:48:58.341Z"
   },
   {
    "duration": 127,
    "start_time": "2021-09-18T10:48:58.725Z"
   },
   {
    "duration": 191,
    "start_time": "2021-09-18T10:48:58.854Z"
   },
   {
    "duration": 112,
    "start_time": "2021-09-18T10:48:59.048Z"
   },
   {
    "duration": 9,
    "start_time": "2021-09-18T10:48:59.164Z"
   },
   {
    "duration": 13,
    "start_time": "2021-09-18T10:48:59.183Z"
   },
   {
    "duration": 57,
    "start_time": "2021-09-18T10:48:59.198Z"
   },
   {
    "duration": 34,
    "start_time": "2021-09-18T10:48:59.257Z"
   },
   {
    "duration": 4,
    "start_time": "2021-09-18T10:49:16.663Z"
   },
   {
    "duration": 747,
    "start_time": "2021-09-18T10:49:16.674Z"
   },
   {
    "duration": 449,
    "start_time": "2021-09-18T10:49:17.424Z"
   },
   {
    "duration": 124,
    "start_time": "2021-09-18T10:49:17.885Z"
   },
   {
    "duration": 193,
    "start_time": "2021-09-18T10:49:18.011Z"
   },
   {
    "duration": 125,
    "start_time": "2021-09-18T10:49:18.207Z"
   },
   {
    "duration": 10,
    "start_time": "2021-09-18T10:49:18.335Z"
   },
   {
    "duration": 15,
    "start_time": "2021-09-18T10:49:18.348Z"
   },
   {
    "duration": 71,
    "start_time": "2021-09-18T10:49:18.366Z"
   },
   {
    "duration": 50,
    "start_time": "2021-09-18T10:49:18.440Z"
   },
   {
    "duration": 4,
    "start_time": "2021-09-18T10:50:21.053Z"
   },
   {
    "duration": 783,
    "start_time": "2021-09-18T10:50:21.064Z"
   },
   {
    "duration": 544,
    "start_time": "2021-09-18T10:50:21.851Z"
   },
   {
    "duration": 168,
    "start_time": "2021-09-18T10:50:22.400Z"
   },
   {
    "duration": 268,
    "start_time": "2021-09-18T10:50:22.583Z"
   },
   {
    "duration": 117,
    "start_time": "2021-09-18T10:50:22.854Z"
   },
   {
    "duration": 15,
    "start_time": "2021-09-18T10:50:22.973Z"
   },
   {
    "duration": 16,
    "start_time": "2021-09-18T10:50:22.991Z"
   },
   {
    "duration": 45,
    "start_time": "2021-09-18T10:50:23.009Z"
   },
   {
    "duration": 45,
    "start_time": "2021-09-18T10:50:23.057Z"
   },
   {
    "duration": 3,
    "start_time": "2021-09-18T10:51:02.395Z"
   },
   {
    "duration": 637,
    "start_time": "2021-09-18T10:51:02.409Z"
   },
   {
    "duration": 418,
    "start_time": "2021-09-18T10:51:03.048Z"
   },
   {
    "duration": 136,
    "start_time": "2021-09-18T10:51:03.470Z"
   },
   {
    "duration": 200,
    "start_time": "2021-09-18T10:51:03.609Z"
   },
   {
    "duration": 109,
    "start_time": "2021-09-18T10:51:03.812Z"
   },
   {
    "duration": 9,
    "start_time": "2021-09-18T10:51:03.924Z"
   },
   {
    "duration": 19,
    "start_time": "2021-09-18T10:51:03.936Z"
   },
   {
    "duration": 56,
    "start_time": "2021-09-18T10:51:03.958Z"
   },
   {
    "duration": 26,
    "start_time": "2021-09-18T10:51:04.018Z"
   },
   {
    "duration": 3,
    "start_time": "2021-09-18T10:53:46.403Z"
   },
   {
    "duration": 675,
    "start_time": "2021-09-18T10:53:46.417Z"
   },
   {
    "duration": 387,
    "start_time": "2021-09-18T10:53:47.094Z"
   },
   {
    "duration": 130,
    "start_time": "2021-09-18T10:53:47.484Z"
   },
   {
    "duration": 197,
    "start_time": "2021-09-18T10:53:47.617Z"
   },
   {
    "duration": 121,
    "start_time": "2021-09-18T10:53:47.817Z"
   },
   {
    "duration": 10,
    "start_time": "2021-09-18T10:53:47.940Z"
   },
   {
    "duration": 10,
    "start_time": "2021-09-18T10:53:47.952Z"
   },
   {
    "duration": 53,
    "start_time": "2021-09-18T10:53:47.964Z"
   },
   {
    "duration": 9,
    "start_time": "2021-09-18T10:53:48.020Z"
   },
   {
    "duration": 3,
    "start_time": "2021-09-18T10:57:25.816Z"
   },
   {
    "duration": 629,
    "start_time": "2021-09-18T10:57:25.825Z"
   },
   {
    "duration": 378,
    "start_time": "2021-09-18T10:57:26.457Z"
   },
   {
    "duration": 122,
    "start_time": "2021-09-18T10:57:26.839Z"
   },
   {
    "duration": 200,
    "start_time": "2021-09-18T10:57:26.964Z"
   },
   {
    "duration": 105,
    "start_time": "2021-09-18T10:57:27.166Z"
   },
   {
    "duration": 10,
    "start_time": "2021-09-18T10:57:27.282Z"
   },
   {
    "duration": 20,
    "start_time": "2021-09-18T10:57:27.294Z"
   },
   {
    "duration": 67,
    "start_time": "2021-09-18T10:57:27.317Z"
   },
   {
    "duration": 10,
    "start_time": "2021-09-18T10:57:27.389Z"
   },
   {
    "duration": 4,
    "start_time": "2021-09-18T10:57:41.017Z"
   },
   {
    "duration": 714,
    "start_time": "2021-09-18T10:57:41.027Z"
   },
   {
    "duration": 382,
    "start_time": "2021-09-18T10:57:41.744Z"
   },
   {
    "duration": 182,
    "start_time": "2021-09-18T10:57:42.131Z"
   },
   {
    "duration": 217,
    "start_time": "2021-09-18T10:57:42.317Z"
   },
   {
    "duration": 112,
    "start_time": "2021-09-18T10:57:42.537Z"
   },
   {
    "duration": 10,
    "start_time": "2021-09-18T10:57:42.652Z"
   },
   {
    "duration": 22,
    "start_time": "2021-09-18T10:57:42.665Z"
   },
   {
    "duration": 102,
    "start_time": "2021-09-18T10:57:42.691Z"
   },
   {
    "duration": 12,
    "start_time": "2021-09-18T10:57:42.796Z"
   },
   {
    "duration": 4,
    "start_time": "2021-09-18T10:58:52.371Z"
   },
   {
    "duration": 1020,
    "start_time": "2021-09-18T10:58:52.379Z"
   },
   {
    "duration": 566,
    "start_time": "2021-09-18T10:58:53.402Z"
   },
   {
    "duration": 131,
    "start_time": "2021-09-18T10:58:53.972Z"
   },
   {
    "duration": 200,
    "start_time": "2021-09-18T10:58:54.107Z"
   },
   {
    "duration": 116,
    "start_time": "2021-09-18T10:58:54.310Z"
   },
   {
    "duration": 10,
    "start_time": "2021-09-18T10:58:54.429Z"
   },
   {
    "duration": 19,
    "start_time": "2021-09-18T10:58:54.441Z"
   },
   {
    "duration": 77,
    "start_time": "2021-09-18T10:58:54.463Z"
   },
   {
    "duration": 10,
    "start_time": "2021-09-18T10:58:54.544Z"
   },
   {
    "duration": 4,
    "start_time": "2021-09-18T10:59:28.700Z"
   },
   {
    "duration": 714,
    "start_time": "2021-09-18T10:59:28.706Z"
   },
   {
    "duration": 376,
    "start_time": "2021-09-18T10:59:29.424Z"
   },
   {
    "duration": 120,
    "start_time": "2021-09-18T10:59:29.803Z"
   },
   {
    "duration": 194,
    "start_time": "2021-09-18T10:59:29.926Z"
   },
   {
    "duration": 109,
    "start_time": "2021-09-18T10:59:30.123Z"
   },
   {
    "duration": 11,
    "start_time": "2021-09-18T10:59:30.236Z"
   },
   {
    "duration": 15,
    "start_time": "2021-09-18T10:59:30.250Z"
   },
   {
    "duration": 106,
    "start_time": "2021-09-18T10:59:30.283Z"
   },
   {
    "duration": -3648057,
    "start_time": "2021-09-18T12:00:18.449Z"
   },
   {
    "duration": 4,
    "start_time": "2021-09-18T11:02:08.515Z"
   },
   {
    "duration": 653,
    "start_time": "2021-09-18T11:02:08.669Z"
   },
   {
    "duration": 385,
    "start_time": "2021-09-18T11:02:09.325Z"
   },
   {
    "duration": 127,
    "start_time": "2021-09-18T11:02:09.713Z"
   },
   {
    "duration": 189,
    "start_time": "2021-09-18T11:02:09.842Z"
   },
   {
    "duration": 109,
    "start_time": "2021-09-18T11:02:10.034Z"
   },
   {
    "duration": 9,
    "start_time": "2021-09-18T11:02:10.146Z"
   },
   {
    "duration": 26,
    "start_time": "2021-09-18T11:02:10.158Z"
   },
   {
    "duration": 297,
    "start_time": "2021-09-18T11:02:10.187Z"
   },
   {
    "duration": -3648062,
    "start_time": "2021-09-18T12:02:58.549Z"
   },
   {
    "duration": 4,
    "start_time": "2021-09-18T11:02:31.035Z"
   },
   {
    "duration": 808,
    "start_time": "2021-09-18T11:02:31.044Z"
   },
   {
    "duration": 542,
    "start_time": "2021-09-18T11:02:31.856Z"
   },
   {
    "duration": 130,
    "start_time": "2021-09-18T11:02:32.401Z"
   },
   {
    "duration": 206,
    "start_time": "2021-09-18T11:02:32.533Z"
   },
   {
    "duration": 133,
    "start_time": "2021-09-18T11:02:32.743Z"
   },
   {
    "duration": 12,
    "start_time": "2021-09-18T11:02:32.880Z"
   },
   {
    "duration": 16,
    "start_time": "2021-09-18T11:02:32.895Z"
   },
   {
    "duration": 361,
    "start_time": "2021-09-18T11:02:32.914Z"
   },
   {
    "duration": -3648050,
    "start_time": "2021-09-18T12:03:21.329Z"
   },
   {
    "duration": 4,
    "start_time": "2021-09-18T11:02:46.330Z"
   },
   {
    "duration": 662,
    "start_time": "2021-09-18T11:02:46.338Z"
   },
   {
    "duration": 392,
    "start_time": "2021-09-18T11:02:47.003Z"
   },
   {
    "duration": 130,
    "start_time": "2021-09-18T11:02:47.398Z"
   },
   {
    "duration": 195,
    "start_time": "2021-09-18T11:02:47.531Z"
   },
   {
    "duration": 110,
    "start_time": "2021-09-18T11:02:47.729Z"
   },
   {
    "duration": 10,
    "start_time": "2021-09-18T11:02:47.842Z"
   },
   {
    "duration": 28,
    "start_time": "2021-09-18T11:02:47.854Z"
   },
   {
    "duration": 59,
    "start_time": "2021-09-18T11:02:47.885Z"
   },
   {
    "duration": 9,
    "start_time": "2021-09-18T11:02:47.947Z"
   },
   {
    "duration": 4,
    "start_time": "2021-09-18T11:03:00.275Z"
   },
   {
    "duration": 665,
    "start_time": "2021-09-18T11:03:00.282Z"
   },
   {
    "duration": 398,
    "start_time": "2021-09-18T11:03:00.952Z"
   },
   {
    "duration": 139,
    "start_time": "2021-09-18T11:03:01.353Z"
   },
   {
    "duration": 198,
    "start_time": "2021-09-18T11:03:01.495Z"
   },
   {
    "duration": 114,
    "start_time": "2021-09-18T11:03:01.696Z"
   },
   {
    "duration": 9,
    "start_time": "2021-09-18T11:03:01.814Z"
   },
   {
    "duration": 99,
    "start_time": "2021-09-18T11:03:01.825Z"
   },
   {
    "duration": 180,
    "start_time": "2021-09-18T11:03:01.926Z"
   },
   {
    "duration": 11,
    "start_time": "2021-09-18T11:03:02.109Z"
   },
   {
    "duration": 4,
    "start_time": "2021-09-18T11:03:27.117Z"
   },
   {
    "duration": 672,
    "start_time": "2021-09-18T11:03:27.128Z"
   },
   {
    "duration": 391,
    "start_time": "2021-09-18T11:03:27.804Z"
   },
   {
    "duration": 131,
    "start_time": "2021-09-18T11:03:28.199Z"
   },
   {
    "duration": 204,
    "start_time": "2021-09-18T11:03:28.334Z"
   },
   {
    "duration": 116,
    "start_time": "2021-09-18T11:03:28.541Z"
   },
   {
    "duration": 9,
    "start_time": "2021-09-18T11:03:28.660Z"
   },
   {
    "duration": 7,
    "start_time": "2021-09-18T11:03:28.683Z"
   },
   {
    "duration": 65,
    "start_time": "2021-09-18T11:03:28.693Z"
   },
   {
    "duration": 30,
    "start_time": "2021-09-18T11:03:28.760Z"
   },
   {
    "duration": 4,
    "start_time": "2021-09-18T11:03:44.007Z"
   },
   {
    "duration": 632,
    "start_time": "2021-09-18T11:03:44.017Z"
   },
   {
    "duration": 392,
    "start_time": "2021-09-18T11:03:44.652Z"
   },
   {
    "duration": 119,
    "start_time": "2021-09-18T11:03:45.048Z"
   },
   {
    "duration": 189,
    "start_time": "2021-09-18T11:03:45.183Z"
   },
   {
    "duration": 115,
    "start_time": "2021-09-18T11:03:45.375Z"
   },
   {
    "duration": 9,
    "start_time": "2021-09-18T11:03:45.492Z"
   },
   {
    "duration": 11,
    "start_time": "2021-09-18T11:03:45.504Z"
   },
   {
    "duration": 92,
    "start_time": "2021-09-18T11:03:45.519Z"
   },
   {
    "duration": 11,
    "start_time": "2021-09-18T11:03:45.614Z"
   },
   {
    "duration": 4,
    "start_time": "2021-09-18T11:05:17.049Z"
   },
   {
    "duration": 684,
    "start_time": "2021-09-18T11:05:17.057Z"
   },
   {
    "duration": 499,
    "start_time": "2021-09-18T11:05:17.745Z"
   },
   {
    "duration": 161,
    "start_time": "2021-09-18T11:05:18.248Z"
   },
   {
    "duration": 251,
    "start_time": "2021-09-18T11:05:18.412Z"
   },
   {
    "duration": 135,
    "start_time": "2021-09-18T11:05:18.666Z"
   },
   {
    "duration": 11,
    "start_time": "2021-09-18T11:05:18.805Z"
   },
   {
    "duration": 17,
    "start_time": "2021-09-18T11:05:18.819Z"
   },
   {
    "duration": 100,
    "start_time": "2021-09-18T11:05:18.839Z"
   },
   {
    "duration": 11,
    "start_time": "2021-09-18T11:05:18.942Z"
   },
   {
    "duration": 5,
    "start_time": "2021-09-18T11:05:30.361Z"
   },
   {
    "duration": 671,
    "start_time": "2021-09-18T11:05:30.369Z"
   },
   {
    "duration": 401,
    "start_time": "2021-09-18T11:05:31.043Z"
   },
   {
    "duration": 142,
    "start_time": "2021-09-18T11:05:31.447Z"
   },
   {
    "duration": 249,
    "start_time": "2021-09-18T11:05:31.592Z"
   },
   {
    "duration": 116,
    "start_time": "2021-09-18T11:05:31.844Z"
   },
   {
    "duration": 19,
    "start_time": "2021-09-18T11:05:31.963Z"
   },
   {
    "duration": 23,
    "start_time": "2021-09-18T11:05:31.985Z"
   },
   {
    "duration": 66,
    "start_time": "2021-09-18T11:05:32.011Z"
   },
   {
    "duration": 11,
    "start_time": "2021-09-18T11:05:32.080Z"
   },
   {
    "duration": 3,
    "start_time": "2021-09-18T11:07:45.358Z"
   },
   {
    "duration": 744,
    "start_time": "2021-09-18T11:07:45.381Z"
   },
   {
    "duration": 440,
    "start_time": "2021-09-18T11:07:46.128Z"
   },
   {
    "duration": 157,
    "start_time": "2021-09-18T11:07:46.571Z"
   },
   {
    "duration": 199,
    "start_time": "2021-09-18T11:07:46.732Z"
   },
   {
    "duration": 119,
    "start_time": "2021-09-18T11:07:46.934Z"
   },
   {
    "duration": 11,
    "start_time": "2021-09-18T11:07:47.056Z"
   },
   {
    "duration": 17,
    "start_time": "2021-09-18T11:07:47.070Z"
   },
   {
    "duration": 7365,
    "start_time": "2021-09-18T11:07:47.090Z"
   },
   {
    "duration": -3648124,
    "start_time": "2021-09-18T12:08:42.583Z"
   },
   {
    "duration": 3,
    "start_time": "2021-09-18T11:09:14.606Z"
   },
   {
    "duration": 618,
    "start_time": "2021-09-18T11:09:14.612Z"
   },
   {
    "duration": 359,
    "start_time": "2021-09-18T11:09:15.233Z"
   },
   {
    "duration": 129,
    "start_time": "2021-09-18T11:09:15.595Z"
   },
   {
    "duration": 193,
    "start_time": "2021-09-18T11:09:15.727Z"
   },
   {
    "duration": 116,
    "start_time": "2021-09-18T11:09:15.923Z"
   },
   {
    "duration": 15,
    "start_time": "2021-09-18T11:09:16.042Z"
   },
   {
    "duration": 21,
    "start_time": "2021-09-18T11:09:16.061Z"
   },
   {
    "duration": 61,
    "start_time": "2021-09-18T11:09:16.086Z"
   },
   {
    "duration": 10,
    "start_time": "2021-09-18T11:09:16.150Z"
   },
   {
    "duration": 4,
    "start_time": "2021-09-18T11:09:56.842Z"
   },
   {
    "duration": 660,
    "start_time": "2021-09-18T11:09:56.849Z"
   },
   {
    "duration": 396,
    "start_time": "2021-09-18T11:09:57.512Z"
   },
   {
    "duration": 186,
    "start_time": "2021-09-18T11:09:57.912Z"
   },
   {
    "duration": 281,
    "start_time": "2021-09-18T11:09:58.101Z"
   },
   {
    "duration": 134,
    "start_time": "2021-09-18T11:09:58.385Z"
   },
   {
    "duration": 17,
    "start_time": "2021-09-18T11:09:58.524Z"
   },
   {
    "duration": 13,
    "start_time": "2021-09-18T11:09:58.544Z"
   },
   {
    "duration": 188,
    "start_time": "2021-09-18T11:09:58.560Z"
   },
   {
    "duration": 33,
    "start_time": "2021-09-18T11:09:58.751Z"
   },
   {
    "duration": 4,
    "start_time": "2021-09-18T11:10:41.923Z"
   },
   {
    "duration": 931,
    "start_time": "2021-09-18T11:10:41.931Z"
   },
   {
    "duration": 548,
    "start_time": "2021-09-18T11:10:42.885Z"
   },
   {
    "duration": 150,
    "start_time": "2021-09-18T11:10:43.436Z"
   },
   {
    "duration": 193,
    "start_time": "2021-09-18T11:10:43.589Z"
   },
   {
    "duration": 113,
    "start_time": "2021-09-18T11:10:43.785Z"
   },
   {
    "duration": 12,
    "start_time": "2021-09-18T11:10:43.902Z"
   },
   {
    "duration": 11,
    "start_time": "2021-09-18T11:10:43.917Z"
   },
   {
    "duration": 108,
    "start_time": "2021-09-18T11:10:43.931Z"
   },
   {
    "duration": 11,
    "start_time": "2021-09-18T11:10:44.041Z"
   },
   {
    "duration": 4,
    "start_time": "2021-09-18T11:14:51.750Z"
   },
   {
    "duration": 659,
    "start_time": "2021-09-18T11:14:51.756Z"
   },
   {
    "duration": 452,
    "start_time": "2021-09-18T11:14:52.418Z"
   },
   {
    "duration": 119,
    "start_time": "2021-09-18T11:14:52.882Z"
   },
   {
    "duration": 189,
    "start_time": "2021-09-18T11:14:53.004Z"
   },
   {
    "duration": 112,
    "start_time": "2021-09-18T11:14:53.196Z"
   },
   {
    "duration": 11,
    "start_time": "2021-09-18T11:14:53.312Z"
   },
   {
    "duration": 10,
    "start_time": "2021-09-18T11:14:53.326Z"
   },
   {
    "duration": 117,
    "start_time": "2021-09-18T11:14:53.339Z"
   },
   {
    "duration": 23,
    "start_time": "2021-09-18T11:14:53.459Z"
   },
   {
    "duration": 4,
    "start_time": "2021-09-18T11:15:25.941Z"
   },
   {
    "duration": 611,
    "start_time": "2021-09-18T11:15:25.948Z"
   },
   {
    "duration": 375,
    "start_time": "2021-09-18T11:15:26.562Z"
   },
   {
    "duration": 120,
    "start_time": "2021-09-18T11:15:26.941Z"
   },
   {
    "duration": 189,
    "start_time": "2021-09-18T11:15:27.083Z"
   },
   {
    "duration": 135,
    "start_time": "2021-09-18T11:15:27.276Z"
   },
   {
    "duration": 10,
    "start_time": "2021-09-18T11:15:27.416Z"
   },
   {
    "duration": 11,
    "start_time": "2021-09-18T11:15:27.429Z"
   },
   {
    "duration": 112,
    "start_time": "2021-09-18T11:15:27.442Z"
   },
   {
    "duration": 10,
    "start_time": "2021-09-18T11:15:27.556Z"
   },
   {
    "duration": 3,
    "start_time": "2021-09-18T11:15:43.926Z"
   },
   {
    "duration": 627,
    "start_time": "2021-09-18T11:15:43.932Z"
   },
   {
    "duration": 352,
    "start_time": "2021-09-18T11:15:44.584Z"
   },
   {
    "duration": 124,
    "start_time": "2021-09-18T11:15:44.939Z"
   },
   {
    "duration": 187,
    "start_time": "2021-09-18T11:15:45.083Z"
   },
   {
    "duration": 112,
    "start_time": "2021-09-18T11:15:45.273Z"
   },
   {
    "duration": 11,
    "start_time": "2021-09-18T11:15:45.389Z"
   },
   {
    "duration": 15,
    "start_time": "2021-09-18T11:15:45.403Z"
   },
   {
    "duration": 101,
    "start_time": "2021-09-18T11:15:45.421Z"
   },
   {
    "duration": 11,
    "start_time": "2021-09-18T11:15:45.524Z"
   },
   {
    "duration": 3,
    "start_time": "2021-09-18T11:18:43.558Z"
   },
   {
    "duration": 617,
    "start_time": "2021-09-18T11:18:43.613Z"
   },
   {
    "duration": 373,
    "start_time": "2021-09-18T11:18:44.233Z"
   },
   {
    "duration": 140,
    "start_time": "2021-09-18T11:18:44.609Z"
   },
   {
    "duration": 255,
    "start_time": "2021-09-18T11:18:44.753Z"
   },
   {
    "duration": 115,
    "start_time": "2021-09-18T11:18:45.011Z"
   },
   {
    "duration": 10,
    "start_time": "2021-09-18T11:18:45.128Z"
   },
   {
    "duration": 12,
    "start_time": "2021-09-18T11:18:45.141Z"
   },
   {
    "duration": 58,
    "start_time": "2021-09-18T11:18:45.155Z"
   },
   {
    "duration": 24,
    "start_time": "2021-09-18T11:18:45.216Z"
   },
   {
    "duration": 40,
    "start_time": "2021-09-18T11:18:45.243Z"
   },
   {
    "duration": 6,
    "start_time": "2021-09-18T11:18:45.286Z"
   },
   {
    "duration": 15,
    "start_time": "2021-09-18T11:18:45.296Z"
   },
   {
    "duration": 3,
    "start_time": "2021-09-18T11:20:43.717Z"
   },
   {
    "duration": 627,
    "start_time": "2021-09-18T11:20:43.728Z"
   },
   {
    "duration": 348,
    "start_time": "2021-09-18T11:20:44.382Z"
   },
   {
    "duration": 127,
    "start_time": "2021-09-18T11:20:44.734Z"
   },
   {
    "duration": 188,
    "start_time": "2021-09-18T11:20:44.884Z"
   },
   {
    "duration": 110,
    "start_time": "2021-09-18T11:20:45.074Z"
   },
   {
    "duration": 9,
    "start_time": "2021-09-18T11:20:45.187Z"
   },
   {
    "duration": 14,
    "start_time": "2021-09-18T11:20:45.198Z"
   },
   {
    "duration": 38,
    "start_time": "2021-09-18T11:20:45.215Z"
   },
   {
    "duration": 46,
    "start_time": "2021-09-18T11:20:45.255Z"
   },
   {
    "duration": 16,
    "start_time": "2021-09-18T11:20:45.304Z"
   },
   {
    "duration": 5,
    "start_time": "2021-09-18T11:20:45.323Z"
   },
   {
    "duration": 58,
    "start_time": "2021-09-18T11:20:45.330Z"
   },
   {
    "duration": 4,
    "start_time": "2021-09-18T11:32:47.181Z"
   },
   {
    "duration": 698,
    "start_time": "2021-09-18T11:32:47.190Z"
   },
   {
    "duration": 351,
    "start_time": "2021-09-18T11:32:47.890Z"
   },
   {
    "duration": 113,
    "start_time": "2021-09-18T11:32:48.245Z"
   },
   {
    "duration": 193,
    "start_time": "2021-09-18T11:32:48.361Z"
   },
   {
    "duration": 106,
    "start_time": "2021-09-18T11:32:48.556Z"
   },
   {
    "duration": 9,
    "start_time": "2021-09-18T11:32:48.664Z"
   },
   {
    "duration": 15,
    "start_time": "2021-09-18T11:32:48.683Z"
   },
   {
    "duration": 40,
    "start_time": "2021-09-18T11:32:48.700Z"
   },
   {
    "duration": 38,
    "start_time": "2021-09-18T11:32:48.744Z"
   },
   {
    "duration": 17,
    "start_time": "2021-09-18T11:32:48.785Z"
   },
   {
    "duration": 10,
    "start_time": "2021-09-18T11:32:48.804Z"
   },
   {
    "duration": 278,
    "start_time": "2021-09-18T11:32:48.817Z"
   },
   {
    "duration": 4,
    "start_time": "2021-09-18T11:33:01.129Z"
   },
   {
    "duration": 717,
    "start_time": "2021-09-18T11:33:01.137Z"
   },
   {
    "duration": 374,
    "start_time": "2021-09-18T11:33:01.857Z"
   },
   {
    "duration": 122,
    "start_time": "2021-09-18T11:33:02.234Z"
   },
   {
    "duration": 190,
    "start_time": "2021-09-18T11:33:02.358Z"
   },
   {
    "duration": 106,
    "start_time": "2021-09-18T11:33:02.551Z"
   },
   {
    "duration": 22,
    "start_time": "2021-09-18T11:33:02.661Z"
   },
   {
    "duration": 38,
    "start_time": "2021-09-18T11:33:02.686Z"
   },
   {
    "duration": 74,
    "start_time": "2021-09-18T11:33:02.727Z"
   },
   {
    "duration": 29,
    "start_time": "2021-09-18T11:33:02.803Z"
   },
   {
    "duration": 17,
    "start_time": "2021-09-18T11:33:02.835Z"
   },
   {
    "duration": 50,
    "start_time": "2021-09-18T11:33:02.854Z"
   },
   {
    "duration": 109,
    "start_time": "2021-09-18T11:33:02.907Z"
   },
   {
    "duration": 3,
    "start_time": "2021-09-18T11:35:10.055Z"
   },
   {
    "duration": 620,
    "start_time": "2021-09-18T11:35:10.062Z"
   },
   {
    "duration": 340,
    "start_time": "2021-09-18T11:35:10.685Z"
   },
   {
    "duration": 117,
    "start_time": "2021-09-18T11:35:11.028Z"
   },
   {
    "duration": 187,
    "start_time": "2021-09-18T11:35:11.148Z"
   },
   {
    "duration": 107,
    "start_time": "2021-09-18T11:35:11.337Z"
   },
   {
    "duration": 9,
    "start_time": "2021-09-18T11:35:11.447Z"
   },
   {
    "duration": 24,
    "start_time": "2021-09-18T11:35:11.458Z"
   },
   {
    "duration": 36,
    "start_time": "2021-09-18T11:35:11.486Z"
   },
   {
    "duration": 22,
    "start_time": "2021-09-18T11:35:11.525Z"
   },
   {
    "duration": 40,
    "start_time": "2021-09-18T11:35:11.550Z"
   },
   {
    "duration": 6,
    "start_time": "2021-09-18T11:35:11.593Z"
   },
   {
    "duration": 33,
    "start_time": "2021-09-18T11:35:11.601Z"
   },
   {
    "duration": 4,
    "start_time": "2021-09-18T11:35:59.970Z"
   },
   {
    "duration": 644,
    "start_time": "2021-09-18T11:35:59.979Z"
   },
   {
    "duration": 368,
    "start_time": "2021-09-18T11:36:00.626Z"
   },
   {
    "duration": 126,
    "start_time": "2021-09-18T11:36:00.997Z"
   },
   {
    "duration": 185,
    "start_time": "2021-09-18T11:36:01.126Z"
   },
   {
    "duration": 108,
    "start_time": "2021-09-18T11:36:01.314Z"
   },
   {
    "duration": 10,
    "start_time": "2021-09-18T11:36:01.424Z"
   },
   {
    "duration": 22,
    "start_time": "2021-09-18T11:36:01.436Z"
   },
   {
    "duration": 53,
    "start_time": "2021-09-18T11:36:01.462Z"
   },
   {
    "duration": 23,
    "start_time": "2021-09-18T11:36:01.518Z"
   },
   {
    "duration": 17,
    "start_time": "2021-09-18T11:36:01.543Z"
   },
   {
    "duration": 24,
    "start_time": "2021-09-18T11:36:01.562Z"
   },
   {
    "duration": 38,
    "start_time": "2021-09-18T11:36:01.588Z"
   },
   {
    "duration": 4,
    "start_time": "2021-09-18T11:36:59.241Z"
   },
   {
    "duration": 640,
    "start_time": "2021-09-18T11:36:59.248Z"
   },
   {
    "duration": 382,
    "start_time": "2021-09-18T11:36:59.892Z"
   },
   {
    "duration": 122,
    "start_time": "2021-09-18T11:37:00.277Z"
   },
   {
    "duration": 208,
    "start_time": "2021-09-18T11:37:00.401Z"
   },
   {
    "duration": 109,
    "start_time": "2021-09-18T11:37:00.612Z"
   },
   {
    "duration": 10,
    "start_time": "2021-09-18T11:37:00.724Z"
   },
   {
    "duration": 22,
    "start_time": "2021-09-18T11:37:00.737Z"
   },
   {
    "duration": 51,
    "start_time": "2021-09-18T11:37:00.761Z"
   },
   {
    "duration": 22,
    "start_time": "2021-09-18T11:37:00.815Z"
   },
   {
    "duration": 17,
    "start_time": "2021-09-18T11:37:00.839Z"
   },
   {
    "duration": 28,
    "start_time": "2021-09-18T11:37:00.858Z"
   },
   {
    "duration": 53,
    "start_time": "2021-09-18T11:37:00.888Z"
   },
   {
    "duration": 4,
    "start_time": "2021-09-18T11:37:15.426Z"
   },
   {
    "duration": 622,
    "start_time": "2021-09-18T11:37:15.433Z"
   },
   {
    "duration": 390,
    "start_time": "2021-09-18T11:37:16.060Z"
   },
   {
    "duration": 134,
    "start_time": "2021-09-18T11:37:16.453Z"
   },
   {
    "duration": 200,
    "start_time": "2021-09-18T11:37:16.591Z"
   },
   {
    "duration": 110,
    "start_time": "2021-09-18T11:37:16.793Z"
   },
   {
    "duration": 9,
    "start_time": "2021-09-18T11:37:16.907Z"
   },
   {
    "duration": 12,
    "start_time": "2021-09-18T11:37:16.919Z"
   },
   {
    "duration": 63,
    "start_time": "2021-09-18T11:37:16.933Z"
   },
   {
    "duration": 23,
    "start_time": "2021-09-18T11:37:16.998Z"
   },
   {
    "duration": 16,
    "start_time": "2021-09-18T11:37:17.023Z"
   },
   {
    "duration": 7,
    "start_time": "2021-09-18T11:37:17.042Z"
   },
   {
    "duration": 13,
    "start_time": "2021-09-18T11:37:17.084Z"
   },
   {
    "duration": 3,
    "start_time": "2021-09-18T11:38:05.012Z"
   },
   {
    "duration": 615,
    "start_time": "2021-09-18T11:38:05.023Z"
   },
   {
    "duration": 344,
    "start_time": "2021-09-18T11:38:05.640Z"
   },
   {
    "duration": 128,
    "start_time": "2021-09-18T11:38:05.987Z"
   },
   {
    "duration": 188,
    "start_time": "2021-09-18T11:38:06.118Z"
   },
   {
    "duration": 103,
    "start_time": "2021-09-18T11:38:06.309Z"
   },
   {
    "duration": 9,
    "start_time": "2021-09-18T11:38:06.415Z"
   },
   {
    "duration": 30,
    "start_time": "2021-09-18T11:38:06.426Z"
   },
   {
    "duration": 47,
    "start_time": "2021-09-18T11:38:06.459Z"
   },
   {
    "duration": 22,
    "start_time": "2021-09-18T11:38:06.508Z"
   },
   {
    "duration": 16,
    "start_time": "2021-09-18T11:38:06.532Z"
   },
   {
    "duration": 34,
    "start_time": "2021-09-18T11:38:06.550Z"
   },
   {
    "duration": 16,
    "start_time": "2021-09-18T11:38:06.587Z"
   },
   {
    "duration": 4,
    "start_time": "2021-09-18T11:38:57.367Z"
   },
   {
    "duration": 644,
    "start_time": "2021-09-18T11:38:57.374Z"
   },
   {
    "duration": 362,
    "start_time": "2021-09-18T11:38:58.021Z"
   },
   {
    "duration": 122,
    "start_time": "2021-09-18T11:38:58.386Z"
   },
   {
    "duration": 191,
    "start_time": "2021-09-18T11:38:58.510Z"
   },
   {
    "duration": 104,
    "start_time": "2021-09-18T11:38:58.703Z"
   },
   {
    "duration": 12,
    "start_time": "2021-09-18T11:38:58.810Z"
   },
   {
    "duration": 20,
    "start_time": "2021-09-18T11:38:58.825Z"
   },
   {
    "duration": 51,
    "start_time": "2021-09-18T11:38:58.847Z"
   },
   {
    "duration": 22,
    "start_time": "2021-09-18T11:38:58.900Z"
   },
   {
    "duration": 16,
    "start_time": "2021-09-18T11:38:58.924Z"
   },
   {
    "duration": 7,
    "start_time": "2021-09-18T11:38:58.943Z"
   },
   {
    "duration": 37,
    "start_time": "2021-09-18T11:38:58.952Z"
   },
   {
    "duration": 5,
    "start_time": "2021-09-18T11:39:23.406Z"
   },
   {
    "duration": 608,
    "start_time": "2021-09-18T11:39:23.414Z"
   },
   {
    "duration": 372,
    "start_time": "2021-09-18T11:39:24.026Z"
   },
   {
    "duration": 124,
    "start_time": "2021-09-18T11:39:24.400Z"
   },
   {
    "duration": 199,
    "start_time": "2021-09-18T11:39:24.526Z"
   },
   {
    "duration": 114,
    "start_time": "2021-09-18T11:39:24.728Z"
   },
   {
    "duration": 10,
    "start_time": "2021-09-18T11:39:24.847Z"
   },
   {
    "duration": 22,
    "start_time": "2021-09-18T11:39:24.860Z"
   },
   {
    "duration": 38,
    "start_time": "2021-09-18T11:39:24.885Z"
   },
   {
    "duration": 22,
    "start_time": "2021-09-18T11:39:24.926Z"
   },
   {
    "duration": 37,
    "start_time": "2021-09-18T11:39:24.950Z"
   },
   {
    "duration": 7,
    "start_time": "2021-09-18T11:39:24.990Z"
   },
   {
    "duration": 38,
    "start_time": "2021-09-18T11:39:24.999Z"
   },
   {
    "duration": 4,
    "start_time": "2021-09-18T11:44:11.803Z"
   },
   {
    "duration": 614,
    "start_time": "2021-09-18T11:44:11.814Z"
   },
   {
    "duration": 383,
    "start_time": "2021-09-18T11:44:12.431Z"
   },
   {
    "duration": 121,
    "start_time": "2021-09-18T11:44:12.817Z"
   },
   {
    "duration": 189,
    "start_time": "2021-09-18T11:44:12.940Z"
   },
   {
    "duration": 106,
    "start_time": "2021-09-18T11:44:13.131Z"
   },
   {
    "duration": 10,
    "start_time": "2021-09-18T11:44:13.239Z"
   },
   {
    "duration": 13,
    "start_time": "2021-09-18T11:44:13.251Z"
   },
   {
    "duration": 50,
    "start_time": "2021-09-18T11:44:13.267Z"
   },
   {
    "duration": 22,
    "start_time": "2021-09-18T11:44:13.321Z"
   },
   {
    "duration": 41,
    "start_time": "2021-09-18T11:44:13.346Z"
   },
   {
    "duration": 9,
    "start_time": "2021-09-18T11:44:13.389Z"
   },
   {
    "duration": 7,
    "start_time": "2021-09-18T11:44:13.400Z"
   },
   {
    "duration": 75,
    "start_time": "2021-09-18T11:44:13.409Z"
   },
   {
    "duration": 3,
    "start_time": "2021-09-18T11:47:09.367Z"
   },
   {
    "duration": 624,
    "start_time": "2021-09-18T11:47:09.373Z"
   },
   {
    "duration": 360,
    "start_time": "2021-09-18T11:47:09.999Z"
   },
   {
    "duration": 127,
    "start_time": "2021-09-18T11:47:10.362Z"
   },
   {
    "duration": 184,
    "start_time": "2021-09-18T11:47:10.492Z"
   },
   {
    "duration": 101,
    "start_time": "2021-09-18T11:47:10.683Z"
   },
   {
    "duration": 9,
    "start_time": "2021-09-18T11:47:10.788Z"
   },
   {
    "duration": 10,
    "start_time": "2021-09-18T11:47:10.800Z"
   },
   {
    "duration": 41,
    "start_time": "2021-09-18T11:47:10.812Z"
   },
   {
    "duration": 47,
    "start_time": "2021-09-18T11:47:10.856Z"
   },
   {
    "duration": 17,
    "start_time": "2021-09-18T11:47:10.905Z"
   },
   {
    "duration": 7,
    "start_time": "2021-09-18T11:47:10.925Z"
   },
   {
    "duration": 56,
    "start_time": "2021-09-18T11:47:10.934Z"
   },
   {
    "duration": 46,
    "start_time": "2021-09-18T11:47:10.993Z"
   },
   {
    "duration": 3,
    "start_time": "2021-09-18T11:47:22.566Z"
   },
   {
    "duration": 625,
    "start_time": "2021-09-18T11:47:22.577Z"
   },
   {
    "duration": 367,
    "start_time": "2021-09-18T11:47:23.205Z"
   },
   {
    "duration": 122,
    "start_time": "2021-09-18T11:47:23.584Z"
   },
   {
    "duration": 193,
    "start_time": "2021-09-18T11:47:23.708Z"
   },
   {
    "duration": 106,
    "start_time": "2021-09-18T11:47:23.903Z"
   },
   {
    "duration": 11,
    "start_time": "2021-09-18T11:47:24.012Z"
   },
   {
    "duration": 18,
    "start_time": "2021-09-18T11:47:24.026Z"
   },
   {
    "duration": 60,
    "start_time": "2021-09-18T11:47:24.047Z"
   },
   {
    "duration": 23,
    "start_time": "2021-09-18T11:47:24.110Z"
   },
   {
    "duration": 18,
    "start_time": "2021-09-18T11:47:24.136Z"
   },
   {
    "duration": 28,
    "start_time": "2021-09-18T11:47:24.157Z"
   },
   {
    "duration": 32,
    "start_time": "2021-09-18T11:47:24.187Z"
   },
   {
    "duration": 68,
    "start_time": "2021-09-18T11:47:24.222Z"
   },
   {
    "duration": 3,
    "start_time": "2021-09-18T11:47:41.943Z"
   },
   {
    "duration": 612,
    "start_time": "2021-09-18T11:47:41.951Z"
   },
   {
    "duration": 384,
    "start_time": "2021-09-18T11:47:42.583Z"
   },
   {
    "duration": 125,
    "start_time": "2021-09-18T11:47:42.970Z"
   },
   {
    "duration": 179,
    "start_time": "2021-09-18T11:47:43.098Z"
   },
   {
    "duration": 105,
    "start_time": "2021-09-18T11:47:43.283Z"
   },
   {
    "duration": 9,
    "start_time": "2021-09-18T11:47:43.390Z"
   },
   {
    "duration": 12,
    "start_time": "2021-09-18T11:47:43.402Z"
   },
   {
    "duration": 41,
    "start_time": "2021-09-18T11:47:43.416Z"
   },
   {
    "duration": 37,
    "start_time": "2021-09-18T11:47:43.462Z"
   },
   {
    "duration": 17,
    "start_time": "2021-09-18T11:47:43.502Z"
   },
   {
    "duration": 8,
    "start_time": "2021-09-18T11:47:43.522Z"
   },
   {
    "duration": 58,
    "start_time": "2021-09-18T11:47:43.533Z"
   },
   {
    "duration": 54,
    "start_time": "2021-09-18T11:47:43.593Z"
   },
   {
    "duration": 4,
    "start_time": "2021-09-18T11:49:13.276Z"
   },
   {
    "duration": 634,
    "start_time": "2021-09-18T11:49:13.287Z"
   },
   {
    "duration": 351,
    "start_time": "2021-09-18T11:49:13.924Z"
   },
   {
    "duration": 121,
    "start_time": "2021-09-18T11:49:14.278Z"
   },
   {
    "duration": 186,
    "start_time": "2021-09-18T11:49:14.401Z"
   },
   {
    "duration": 110,
    "start_time": "2021-09-18T11:49:14.590Z"
   },
   {
    "duration": 9,
    "start_time": "2021-09-18T11:49:14.703Z"
   },
   {
    "duration": 37,
    "start_time": "2021-09-18T11:49:14.715Z"
   },
   {
    "duration": 46,
    "start_time": "2021-09-18T11:49:14.756Z"
   },
   {
    "duration": 22,
    "start_time": "2021-09-18T11:49:14.804Z"
   },
   {
    "duration": 19,
    "start_time": "2021-09-18T11:49:14.829Z"
   },
   {
    "duration": 16,
    "start_time": "2021-09-18T11:49:14.851Z"
   },
   {
    "duration": 46,
    "start_time": "2021-09-18T11:49:14.870Z"
   },
   {
    "duration": 69,
    "start_time": "2021-09-18T11:49:14.918Z"
   },
   {
    "duration": 4,
    "start_time": "2021-09-18T11:49:33.670Z"
   },
   {
    "duration": 627,
    "start_time": "2021-09-18T11:49:33.676Z"
   },
   {
    "duration": 339,
    "start_time": "2021-09-18T11:49:34.306Z"
   },
   {
    "duration": 116,
    "start_time": "2021-09-18T11:49:34.648Z"
   },
   {
    "duration": 183,
    "start_time": "2021-09-18T11:49:34.782Z"
   },
   {
    "duration": 101,
    "start_time": "2021-09-18T11:49:34.968Z"
   },
   {
    "duration": 17,
    "start_time": "2021-09-18T11:49:35.073Z"
   },
   {
    "duration": 23,
    "start_time": "2021-09-18T11:49:35.093Z"
   },
   {
    "duration": 43,
    "start_time": "2021-09-18T11:49:35.119Z"
   },
   {
    "duration": 26,
    "start_time": "2021-09-18T11:49:35.164Z"
   },
   {
    "duration": 16,
    "start_time": "2021-09-18T11:49:35.193Z"
   },
   {
    "duration": 11,
    "start_time": "2021-09-18T11:49:35.211Z"
   },
   {
    "duration": 44,
    "start_time": "2021-09-18T11:49:35.225Z"
   },
   {
    "duration": 22,
    "start_time": "2021-09-18T11:49:35.283Z"
   },
   {
    "duration": 727,
    "start_time": "2021-09-18T14:18:18.902Z"
   },
   {
    "duration": 669,
    "start_time": "2021-09-18T14:18:19.632Z"
   },
   {
    "duration": 372,
    "start_time": "2021-09-18T14:18:20.304Z"
   },
   {
    "duration": 117,
    "start_time": "2021-09-18T14:18:20.679Z"
   },
   {
    "duration": 186,
    "start_time": "2021-09-18T14:18:20.799Z"
   },
   {
    "duration": 103,
    "start_time": "2021-09-18T14:18:20.987Z"
   },
   {
    "duration": 9,
    "start_time": "2021-09-18T14:18:21.093Z"
   },
   {
    "duration": 10,
    "start_time": "2021-09-18T14:18:21.105Z"
   },
   {
    "duration": 60,
    "start_time": "2021-09-18T14:18:21.118Z"
   },
   {
    "duration": 20,
    "start_time": "2021-09-18T14:18:21.181Z"
   },
   {
    "duration": 16,
    "start_time": "2021-09-18T14:18:21.204Z"
   },
   {
    "duration": 13,
    "start_time": "2021-09-18T14:18:21.223Z"
   },
   {
    "duration": 400,
    "start_time": "2021-09-18T14:18:21.239Z"
   },
   {
    "duration": -3648984,
    "start_time": "2021-09-18T15:19:10.626Z"
   },
   {
    "duration": 4,
    "start_time": "2021-09-18T14:18:27.573Z"
   },
   {
    "duration": 651,
    "start_time": "2021-09-18T14:18:27.584Z"
   },
   {
    "duration": 351,
    "start_time": "2021-09-18T14:18:28.237Z"
   },
   {
    "duration": 118,
    "start_time": "2021-09-18T14:18:28.591Z"
   },
   {
    "duration": 197,
    "start_time": "2021-09-18T14:18:28.712Z"
   },
   {
    "duration": 105,
    "start_time": "2021-09-18T14:18:28.911Z"
   },
   {
    "duration": 9,
    "start_time": "2021-09-18T14:18:29.019Z"
   },
   {
    "duration": 11,
    "start_time": "2021-09-18T14:18:29.030Z"
   },
   {
    "duration": 54,
    "start_time": "2021-09-18T14:18:29.044Z"
   },
   {
    "duration": 23,
    "start_time": "2021-09-18T14:18:29.101Z"
   },
   {
    "duration": 17,
    "start_time": "2021-09-18T14:18:29.126Z"
   },
   {
    "duration": 28,
    "start_time": "2021-09-18T14:18:29.146Z"
   },
   {
    "duration": 22,
    "start_time": "2021-09-18T14:18:29.176Z"
   },
   {
    "duration": 24,
    "start_time": "2021-09-18T14:18:29.200Z"
   },
   {
    "duration": 3,
    "start_time": "2021-09-18T14:20:17.677Z"
   },
   {
    "duration": 642,
    "start_time": "2021-09-18T14:20:17.682Z"
   },
   {
    "duration": 358,
    "start_time": "2021-09-18T14:20:18.327Z"
   },
   {
    "duration": 132,
    "start_time": "2021-09-18T14:20:18.688Z"
   },
   {
    "duration": 194,
    "start_time": "2021-09-18T14:20:18.823Z"
   },
   {
    "duration": 103,
    "start_time": "2021-09-18T14:20:19.019Z"
   },
   {
    "duration": 9,
    "start_time": "2021-09-18T14:20:19.125Z"
   },
   {
    "duration": 17,
    "start_time": "2021-09-18T14:20:19.136Z"
   },
   {
    "duration": 46,
    "start_time": "2021-09-18T14:20:19.155Z"
   },
   {
    "duration": 21,
    "start_time": "2021-09-18T14:20:19.203Z"
   },
   {
    "duration": 41,
    "start_time": "2021-09-18T14:20:19.227Z"
   },
   {
    "duration": 8,
    "start_time": "2021-09-18T14:20:19.270Z"
   },
   {
    "duration": 37,
    "start_time": "2021-09-18T14:20:19.280Z"
   },
   {
    "duration": 21,
    "start_time": "2021-09-18T14:20:19.319Z"
   },
   {
    "duration": 4,
    "start_time": "2021-09-18T14:20:29.884Z"
   },
   {
    "duration": 643,
    "start_time": "2021-09-18T14:20:29.893Z"
   },
   {
    "duration": 351,
    "start_time": "2021-09-18T14:20:30.539Z"
   },
   {
    "duration": 124,
    "start_time": "2021-09-18T14:20:30.894Z"
   },
   {
    "duration": 197,
    "start_time": "2021-09-18T14:20:31.021Z"
   },
   {
    "duration": 109,
    "start_time": "2021-09-18T14:20:31.221Z"
   },
   {
    "duration": 10,
    "start_time": "2021-09-18T14:20:31.332Z"
   },
   {
    "duration": 25,
    "start_time": "2021-09-18T14:20:31.344Z"
   },
   {
    "duration": 56,
    "start_time": "2021-09-18T14:20:31.371Z"
   },
   {
    "duration": 26,
    "start_time": "2021-09-18T14:20:31.431Z"
   },
   {
    "duration": 22,
    "start_time": "2021-09-18T14:20:31.460Z"
   },
   {
    "duration": 30,
    "start_time": "2021-09-18T14:20:31.484Z"
   },
   {
    "duration": 94,
    "start_time": "2021-09-18T14:20:31.516Z"
   },
   {
    "duration": 28,
    "start_time": "2021-09-18T14:20:31.613Z"
   },
   {
    "duration": 4,
    "start_time": "2021-09-18T14:20:54.730Z"
   },
   {
    "duration": 651,
    "start_time": "2021-09-18T14:20:54.738Z"
   },
   {
    "duration": 347,
    "start_time": "2021-09-18T14:20:55.392Z"
   },
   {
    "duration": 127,
    "start_time": "2021-09-18T14:20:55.742Z"
   },
   {
    "duration": 183,
    "start_time": "2021-09-18T14:20:55.872Z"
   },
   {
    "duration": 110,
    "start_time": "2021-09-18T14:20:56.058Z"
   },
   {
    "duration": 10,
    "start_time": "2021-09-18T14:20:56.171Z"
   },
   {
    "duration": 9,
    "start_time": "2021-09-18T14:20:56.184Z"
   },
   {
    "duration": 71,
    "start_time": "2021-09-18T14:20:56.198Z"
   },
   {
    "duration": 24,
    "start_time": "2021-09-18T14:20:56.272Z"
   },
   {
    "duration": 19,
    "start_time": "2021-09-18T14:20:56.299Z"
   },
   {
    "duration": 10,
    "start_time": "2021-09-18T14:20:56.320Z"
   },
   {
    "duration": 44,
    "start_time": "2021-09-18T14:20:56.368Z"
   },
   {
    "duration": 24,
    "start_time": "2021-09-18T14:20:56.415Z"
   },
   {
    "duration": 3,
    "start_time": "2021-09-18T14:21:21.492Z"
   },
   {
    "duration": 622,
    "start_time": "2021-09-18T14:21:21.500Z"
   },
   {
    "duration": 350,
    "start_time": "2021-09-18T14:21:22.124Z"
   },
   {
    "duration": 120,
    "start_time": "2021-09-18T14:21:22.477Z"
   },
   {
    "duration": 187,
    "start_time": "2021-09-18T14:21:22.600Z"
   },
   {
    "duration": 105,
    "start_time": "2021-09-18T14:21:22.790Z"
   },
   {
    "duration": 8,
    "start_time": "2021-09-18T14:21:22.898Z"
   },
   {
    "duration": 15,
    "start_time": "2021-09-18T14:21:22.909Z"
   },
   {
    "duration": 57,
    "start_time": "2021-09-18T14:21:22.926Z"
   },
   {
    "duration": 21,
    "start_time": "2021-09-18T14:21:22.987Z"
   },
   {
    "duration": 16,
    "start_time": "2021-09-18T14:21:23.011Z"
   },
   {
    "duration": 7,
    "start_time": "2021-09-18T14:21:23.029Z"
   },
   {
    "duration": 78,
    "start_time": "2021-09-18T14:21:23.038Z"
   },
   {
    "duration": 20,
    "start_time": "2021-09-18T14:21:23.119Z"
   },
   {
    "duration": 4,
    "start_time": "2021-09-18T14:21:48.656Z"
   },
   {
    "duration": 642,
    "start_time": "2021-09-18T14:21:48.663Z"
   },
   {
    "duration": 366,
    "start_time": "2021-09-18T14:21:49.308Z"
   },
   {
    "duration": 141,
    "start_time": "2021-09-18T14:21:49.677Z"
   },
   {
    "duration": 195,
    "start_time": "2021-09-18T14:21:49.821Z"
   },
   {
    "duration": 110,
    "start_time": "2021-09-18T14:21:50.019Z"
   },
   {
    "duration": 11,
    "start_time": "2021-09-18T14:21:50.132Z"
   },
   {
    "duration": 22,
    "start_time": "2021-09-18T14:21:50.145Z"
   },
   {
    "duration": 36,
    "start_time": "2021-09-18T14:21:50.171Z"
   },
   {
    "duration": 23,
    "start_time": "2021-09-18T14:21:50.209Z"
   },
   {
    "duration": 42,
    "start_time": "2021-09-18T14:21:50.234Z"
   },
   {
    "duration": 8,
    "start_time": "2021-09-18T14:21:50.279Z"
   },
   {
    "duration": 81,
    "start_time": "2021-09-18T14:21:50.289Z"
   },
   {
    "duration": 23,
    "start_time": "2021-09-18T14:21:50.373Z"
   },
   {
    "duration": 4,
    "start_time": "2021-09-18T14:22:03.396Z"
   },
   {
    "duration": 669,
    "start_time": "2021-09-18T14:22:03.403Z"
   },
   {
    "duration": 367,
    "start_time": "2021-09-18T14:22:04.075Z"
   },
   {
    "duration": 127,
    "start_time": "2021-09-18T14:22:04.444Z"
   },
   {
    "duration": 193,
    "start_time": "2021-09-18T14:22:04.574Z"
   },
   {
    "duration": 109,
    "start_time": "2021-09-18T14:22:04.769Z"
   },
   {
    "duration": 8,
    "start_time": "2021-09-18T14:22:04.882Z"
   },
   {
    "duration": 31,
    "start_time": "2021-09-18T14:22:04.893Z"
   },
   {
    "duration": 39,
    "start_time": "2021-09-18T14:22:04.927Z"
   },
   {
    "duration": 22,
    "start_time": "2021-09-18T14:22:04.968Z"
   },
   {
    "duration": 16,
    "start_time": "2021-09-18T14:22:04.993Z"
   },
   {
    "duration": 7,
    "start_time": "2021-09-18T14:22:05.012Z"
   },
   {
    "duration": 101,
    "start_time": "2021-09-18T14:22:05.021Z"
   },
   {
    "duration": 22,
    "start_time": "2021-09-18T14:22:05.124Z"
   },
   {
    "duration": 4,
    "start_time": "2021-09-18T14:22:35.046Z"
   },
   {
    "duration": 639,
    "start_time": "2021-09-18T14:22:35.055Z"
   },
   {
    "duration": 365,
    "start_time": "2021-09-18T14:22:35.697Z"
   },
   {
    "duration": 133,
    "start_time": "2021-09-18T14:22:36.069Z"
   },
   {
    "duration": 192,
    "start_time": "2021-09-18T14:22:36.206Z"
   },
   {
    "duration": 113,
    "start_time": "2021-09-18T14:22:36.402Z"
   },
   {
    "duration": 8,
    "start_time": "2021-09-18T14:22:36.517Z"
   },
   {
    "duration": 11,
    "start_time": "2021-09-18T14:22:36.527Z"
   },
   {
    "duration": 58,
    "start_time": "2021-09-18T14:22:36.541Z"
   },
   {
    "duration": 22,
    "start_time": "2021-09-18T14:22:36.602Z"
   },
   {
    "duration": 42,
    "start_time": "2021-09-18T14:22:36.627Z"
   },
   {
    "duration": 10,
    "start_time": "2021-09-18T14:22:36.673Z"
   },
   {
    "duration": 69,
    "start_time": "2021-09-18T14:22:36.686Z"
   },
   {
    "duration": 22,
    "start_time": "2021-09-18T14:22:36.758Z"
   },
   {
    "duration": 3,
    "start_time": "2021-09-18T14:25:27.991Z"
   },
   {
    "duration": 642,
    "start_time": "2021-09-18T14:25:27.997Z"
   },
   {
    "duration": 372,
    "start_time": "2021-09-18T14:25:28.643Z"
   },
   {
    "duration": 133,
    "start_time": "2021-09-18T14:25:29.019Z"
   },
   {
    "duration": 179,
    "start_time": "2021-09-18T14:25:29.167Z"
   },
   {
    "duration": 95,
    "start_time": "2021-09-18T14:25:29.348Z"
   },
   {
    "duration": 22,
    "start_time": "2021-09-18T14:25:29.446Z"
   },
   {
    "duration": 10,
    "start_time": "2021-09-18T14:25:29.471Z"
   },
   {
    "duration": 38,
    "start_time": "2021-09-18T14:25:29.483Z"
   },
   {
    "duration": 47,
    "start_time": "2021-09-18T14:25:29.524Z"
   },
   {
    "duration": 16,
    "start_time": "2021-09-18T14:25:29.574Z"
   },
   {
    "duration": 9,
    "start_time": "2021-09-18T14:25:29.593Z"
   },
   {
    "duration": 303,
    "start_time": "2021-09-18T14:25:29.604Z"
   },
   {
    "duration": -3648934,
    "start_time": "2021-09-18T15:26:18.844Z"
   },
   {
    "duration": 4,
    "start_time": "2021-09-18T14:27:04.845Z"
   },
   {
    "duration": 651,
    "start_time": "2021-09-18T14:27:04.852Z"
   },
   {
    "duration": 360,
    "start_time": "2021-09-18T14:27:05.507Z"
   },
   {
    "duration": 123,
    "start_time": "2021-09-18T14:27:05.870Z"
   },
   {
    "duration": 188,
    "start_time": "2021-09-18T14:27:05.996Z"
   },
   {
    "duration": 105,
    "start_time": "2021-09-18T14:27:06.187Z"
   },
   {
    "duration": 9,
    "start_time": "2021-09-18T14:27:06.295Z"
   },
   {
    "duration": 22,
    "start_time": "2021-09-18T14:27:06.307Z"
   },
   {
    "duration": 47,
    "start_time": "2021-09-18T14:27:06.332Z"
   },
   {
    "duration": 22,
    "start_time": "2021-09-18T14:27:06.382Z"
   },
   {
    "duration": 19,
    "start_time": "2021-09-18T14:27:06.406Z"
   },
   {
    "duration": 9,
    "start_time": "2021-09-18T14:27:06.427Z"
   },
   {
    "duration": 38,
    "start_time": "2021-09-18T14:27:06.438Z"
   },
   {
    "duration": 317,
    "start_time": "2021-09-18T14:27:06.479Z"
   },
   {
    "duration": -3648946,
    "start_time": "2021-09-18T15:27:55.744Z"
   },
   {
    "duration": 3,
    "start_time": "2021-09-18T14:27:43.233Z"
   },
   {
    "duration": 649,
    "start_time": "2021-09-18T14:27:43.242Z"
   },
   {
    "duration": 361,
    "start_time": "2021-09-18T14:27:43.893Z"
   },
   {
    "duration": 122,
    "start_time": "2021-09-18T14:27:44.257Z"
   },
   {
    "duration": 197,
    "start_time": "2021-09-18T14:27:44.382Z"
   },
   {
    "duration": 109,
    "start_time": "2021-09-18T14:27:44.581Z"
   },
   {
    "duration": 10,
    "start_time": "2021-09-18T14:27:44.693Z"
   },
   {
    "duration": 9,
    "start_time": "2021-09-18T14:27:44.707Z"
   },
   {
    "duration": 60,
    "start_time": "2021-09-18T14:27:44.718Z"
   },
   {
    "duration": 21,
    "start_time": "2021-09-18T14:27:44.783Z"
   },
   {
    "duration": 15,
    "start_time": "2021-09-18T14:27:44.807Z"
   },
   {
    "duration": 8,
    "start_time": "2021-09-18T14:27:44.824Z"
   },
   {
    "duration": 49,
    "start_time": "2021-09-18T14:27:44.834Z"
   },
   {
    "duration": 331,
    "start_time": "2021-09-18T14:27:44.885Z"
   },
   {
    "duration": -3648957,
    "start_time": "2021-09-18T15:28:34.175Z"
   },
   {
    "duration": 3,
    "start_time": "2021-09-18T14:28:20.616Z"
   },
   {
    "duration": 654,
    "start_time": "2021-09-18T14:28:20.626Z"
   },
   {
    "duration": 377,
    "start_time": "2021-09-18T14:28:21.283Z"
   },
   {
    "duration": 120,
    "start_time": "2021-09-18T14:28:21.667Z"
   },
   {
    "duration": 191,
    "start_time": "2021-09-18T14:28:21.790Z"
   },
   {
    "duration": 106,
    "start_time": "2021-09-18T14:28:21.984Z"
   },
   {
    "duration": 10,
    "start_time": "2021-09-18T14:28:22.093Z"
   },
   {
    "duration": 10,
    "start_time": "2021-09-18T14:28:22.105Z"
   },
   {
    "duration": 68,
    "start_time": "2021-09-18T14:28:22.118Z"
   },
   {
    "duration": 23,
    "start_time": "2021-09-18T14:28:22.190Z"
   },
   {
    "duration": 16,
    "start_time": "2021-09-18T14:28:22.215Z"
   },
   {
    "duration": 7,
    "start_time": "2021-09-18T14:28:22.234Z"
   },
   {
    "duration": 6,
    "start_time": "2021-09-18T14:28:22.268Z"
   },
   {
    "duration": 34,
    "start_time": "2021-09-18T14:28:22.277Z"
   },
   {
    "duration": 54,
    "start_time": "2021-09-18T14:28:22.313Z"
   },
   {
    "duration": 4,
    "start_time": "2021-09-18T14:29:05.203Z"
   },
   {
    "duration": 658,
    "start_time": "2021-09-18T14:29:05.211Z"
   },
   {
    "duration": 354,
    "start_time": "2021-09-18T14:29:05.872Z"
   },
   {
    "duration": 114,
    "start_time": "2021-09-18T14:29:06.229Z"
   },
   {
    "duration": 197,
    "start_time": "2021-09-18T14:29:06.346Z"
   },
   {
    "duration": 101,
    "start_time": "2021-09-18T14:29:06.547Z"
   },
   {
    "duration": 16,
    "start_time": "2021-09-18T14:29:06.651Z"
   },
   {
    "duration": 10,
    "start_time": "2021-09-18T14:29:06.671Z"
   },
   {
    "duration": 39,
    "start_time": "2021-09-18T14:29:06.686Z"
   },
   {
    "duration": 53,
    "start_time": "2021-09-18T14:29:06.728Z"
   },
   {
    "duration": 20,
    "start_time": "2021-09-18T14:29:06.784Z"
   },
   {
    "duration": 7,
    "start_time": "2021-09-18T14:29:06.807Z"
   },
   {
    "duration": 11,
    "start_time": "2021-09-18T14:29:06.816Z"
   },
   {
    "duration": 63,
    "start_time": "2021-09-18T14:29:06.830Z"
   },
   {
    "duration": 82,
    "start_time": "2021-09-18T14:29:06.896Z"
   },
   {
    "duration": 4,
    "start_time": "2021-09-18T14:29:56.967Z"
   },
   {
    "duration": 668,
    "start_time": "2021-09-18T14:29:56.973Z"
   },
   {
    "duration": 389,
    "start_time": "2021-09-18T14:29:57.644Z"
   },
   {
    "duration": 132,
    "start_time": "2021-09-18T14:29:58.035Z"
   },
   {
    "duration": 181,
    "start_time": "2021-09-18T14:29:58.170Z"
   },
   {
    "duration": 97,
    "start_time": "2021-09-18T14:29:58.353Z"
   },
   {
    "duration": 22,
    "start_time": "2021-09-18T14:29:58.453Z"
   },
   {
    "duration": 9,
    "start_time": "2021-09-18T14:29:58.478Z"
   },
   {
    "duration": 37,
    "start_time": "2021-09-18T14:29:58.490Z"
   },
   {
    "duration": 54,
    "start_time": "2021-09-18T14:29:58.529Z"
   },
   {
    "duration": 19,
    "start_time": "2021-09-18T14:29:58.586Z"
   },
   {
    "duration": 7,
    "start_time": "2021-09-18T14:29:58.607Z"
   },
   {
    "duration": 8,
    "start_time": "2021-09-18T14:29:58.616Z"
   },
   {
    "duration": 68,
    "start_time": "2021-09-18T14:29:58.626Z"
   },
   {
    "duration": 74,
    "start_time": "2021-09-18T14:29:58.696Z"
   },
   {
    "duration": 3,
    "start_time": "2021-09-18T14:31:00.352Z"
   },
   {
    "duration": 657,
    "start_time": "2021-09-18T14:31:00.358Z"
   },
   {
    "duration": 384,
    "start_time": "2021-09-18T14:31:01.018Z"
   },
   {
    "duration": 121,
    "start_time": "2021-09-18T14:31:01.405Z"
   },
   {
    "duration": 214,
    "start_time": "2021-09-18T14:31:01.528Z"
   },
   {
    "duration": 110,
    "start_time": "2021-09-18T14:31:01.744Z"
   },
   {
    "duration": 13,
    "start_time": "2021-09-18T14:31:01.857Z"
   },
   {
    "duration": 22,
    "start_time": "2021-09-18T14:31:01.873Z"
   },
   {
    "duration": 57,
    "start_time": "2021-09-18T14:31:01.898Z"
   },
   {
    "duration": 21,
    "start_time": "2021-09-18T14:31:01.958Z"
   },
   {
    "duration": 25,
    "start_time": "2021-09-18T14:31:01.981Z"
   },
   {
    "duration": 19,
    "start_time": "2021-09-18T14:31:02.009Z"
   },
   {
    "duration": 16,
    "start_time": "2021-09-18T14:31:02.030Z"
   },
   {
    "duration": 65,
    "start_time": "2021-09-18T14:31:02.049Z"
   },
   {
    "duration": 80,
    "start_time": "2021-09-18T14:31:02.118Z"
   },
   {
    "duration": 3,
    "start_time": "2021-09-18T14:32:24.601Z"
   },
   {
    "duration": 98,
    "start_time": "2021-09-18T14:32:24.611Z"
   },
   {
    "duration": -3648904,
    "start_time": "2021-09-18T15:33:13.616Z"
   },
   {
    "duration": -3648906,
    "start_time": "2021-09-18T15:33:13.619Z"
   },
   {
    "duration": -3648911,
    "start_time": "2021-09-18T15:33:13.625Z"
   },
   {
    "duration": -3648913,
    "start_time": "2021-09-18T15:33:13.629Z"
   },
   {
    "duration": -3648917,
    "start_time": "2021-09-18T15:33:13.635Z"
   },
   {
    "duration": -3648929,
    "start_time": "2021-09-18T15:33:13.648Z"
   },
   {
    "duration": -3648931,
    "start_time": "2021-09-18T15:33:13.651Z"
   },
   {
    "duration": -3648932,
    "start_time": "2021-09-18T15:33:13.654Z"
   },
   {
    "duration": -3648934,
    "start_time": "2021-09-18T15:33:13.657Z"
   },
   {
    "duration": -3648935,
    "start_time": "2021-09-18T15:33:13.660Z"
   },
   {
    "duration": -3648937,
    "start_time": "2021-09-18T15:33:13.663Z"
   },
   {
    "duration": -3648938,
    "start_time": "2021-09-18T15:33:13.666Z"
   },
   {
    "duration": -3648940,
    "start_time": "2021-09-18T15:33:13.669Z"
   },
   {
    "duration": 4,
    "start_time": "2021-09-18T14:32:39.330Z"
   },
   {
    "duration": 538,
    "start_time": "2021-09-18T14:32:39.336Z"
   },
   {
    "duration": 357,
    "start_time": "2021-09-18T14:32:39.877Z"
   },
   {
    "duration": 109,
    "start_time": "2021-09-18T14:32:40.237Z"
   },
   {
    "duration": 195,
    "start_time": "2021-09-18T14:32:40.349Z"
   },
   {
    "duration": 96,
    "start_time": "2021-09-18T14:32:40.546Z"
   },
   {
    "duration": 9,
    "start_time": "2021-09-18T14:32:40.644Z"
   },
   {
    "duration": 9,
    "start_time": "2021-09-18T14:32:40.669Z"
   },
   {
    "duration": 45,
    "start_time": "2021-09-18T14:32:40.681Z"
   },
   {
    "duration": 21,
    "start_time": "2021-09-18T14:32:40.728Z"
   },
   {
    "duration": 16,
    "start_time": "2021-09-18T14:32:40.767Z"
   },
   {
    "duration": 8,
    "start_time": "2021-09-18T14:32:40.785Z"
   },
   {
    "duration": 14,
    "start_time": "2021-09-18T14:32:40.795Z"
   },
   {
    "duration": 40,
    "start_time": "2021-09-18T14:32:40.811Z"
   },
   {
    "duration": 73,
    "start_time": "2021-09-18T14:32:40.866Z"
   },
   {
    "duration": 3,
    "start_time": "2021-09-18T14:32:57.363Z"
   },
   {
    "duration": 646,
    "start_time": "2021-09-18T14:32:57.369Z"
   },
   {
    "duration": 375,
    "start_time": "2021-09-18T14:32:58.018Z"
   },
   {
    "duration": 120,
    "start_time": "2021-09-18T14:32:58.396Z"
   },
   {
    "duration": 197,
    "start_time": "2021-09-18T14:32:58.519Z"
   },
   {
    "duration": 106,
    "start_time": "2021-09-18T14:32:58.719Z"
   },
   {
    "duration": 10,
    "start_time": "2021-09-18T14:32:58.827Z"
   },
   {
    "duration": 8,
    "start_time": "2021-09-18T14:32:58.841Z"
   },
   {
    "duration": 51,
    "start_time": "2021-09-18T14:32:58.852Z"
   },
   {
    "duration": 21,
    "start_time": "2021-09-18T14:32:58.905Z"
   },
   {
    "duration": 41,
    "start_time": "2021-09-18T14:32:58.929Z"
   },
   {
    "duration": 8,
    "start_time": "2021-09-18T14:32:58.972Z"
   },
   {
    "duration": 7,
    "start_time": "2021-09-18T14:32:58.982Z"
   },
   {
    "duration": 36,
    "start_time": "2021-09-18T14:32:58.991Z"
   },
   {
    "duration": 94,
    "start_time": "2021-09-18T14:32:59.030Z"
   },
   {
    "duration": 4,
    "start_time": "2021-09-18T14:33:50.204Z"
   },
   {
    "duration": 532,
    "start_time": "2021-09-18T14:33:50.212Z"
   },
   {
    "duration": 3,
    "start_time": "2021-09-18T14:33:50.747Z"
   },
   {
    "duration": 7,
    "start_time": "2021-09-18T14:33:50.753Z"
   },
   {
    "duration": 176,
    "start_time": "2021-09-18T14:33:50.763Z"
   },
   {
    "duration": 105,
    "start_time": "2021-09-18T14:33:50.941Z"
   },
   {
    "duration": 18,
    "start_time": "2021-09-18T14:33:51.049Z"
   },
   {
    "duration": 16,
    "start_time": "2021-09-18T14:33:51.070Z"
   },
   {
    "duration": 39,
    "start_time": "2021-09-18T14:33:51.089Z"
   },
   {
    "duration": 39,
    "start_time": "2021-09-18T14:33:51.131Z"
   },
   {
    "duration": 16,
    "start_time": "2021-09-18T14:33:51.173Z"
   },
   {
    "duration": 8,
    "start_time": "2021-09-18T14:33:51.191Z"
   },
   {
    "duration": 8,
    "start_time": "2021-09-18T14:33:51.201Z"
   },
   {
    "duration": 61,
    "start_time": "2021-09-18T14:33:51.212Z"
   },
   {
    "duration": 37,
    "start_time": "2021-09-18T14:33:51.276Z"
   },
   {
    "duration": 4,
    "start_time": "2021-09-18T14:36:54.347Z"
   },
   {
    "duration": 584,
    "start_time": "2021-09-18T14:36:54.355Z"
   },
   {
    "duration": 3,
    "start_time": "2021-09-18T14:36:54.942Z"
   },
   {
    "duration": 10,
    "start_time": "2021-09-18T14:36:54.948Z"
   },
   {
    "duration": 177,
    "start_time": "2021-09-18T14:36:54.961Z"
   },
   {
    "duration": 106,
    "start_time": "2021-09-18T14:36:55.141Z"
   },
   {
    "duration": 18,
    "start_time": "2021-09-18T14:36:55.250Z"
   },
   {
    "duration": 13,
    "start_time": "2021-09-18T14:36:55.271Z"
   },
   {
    "duration": 36,
    "start_time": "2021-09-18T14:36:55.287Z"
   },
   {
    "duration": 46,
    "start_time": "2021-09-18T14:36:55.326Z"
   },
   {
    "duration": 17,
    "start_time": "2021-09-18T14:36:55.375Z"
   },
   {
    "duration": 11,
    "start_time": "2021-09-18T14:36:55.394Z"
   },
   {
    "duration": 11,
    "start_time": "2021-09-18T14:36:55.407Z"
   },
   {
    "duration": 59,
    "start_time": "2021-09-18T14:36:55.421Z"
   },
   {
    "duration": 28,
    "start_time": "2021-09-18T14:36:55.482Z"
   },
   {
    "duration": 3,
    "start_time": "2021-09-18T14:44:02.459Z"
   },
   {
    "duration": 558,
    "start_time": "2021-09-18T14:44:02.465Z"
   },
   {
    "duration": 3,
    "start_time": "2021-09-18T14:44:03.027Z"
   },
   {
    "duration": 14,
    "start_time": "2021-09-18T14:44:03.034Z"
   },
   {
    "duration": 176,
    "start_time": "2021-09-18T14:44:03.051Z"
   },
   {
    "duration": 104,
    "start_time": "2021-09-18T14:44:03.230Z"
   },
   {
    "duration": 9,
    "start_time": "2021-09-18T14:44:03.337Z"
   },
   {
    "duration": 20,
    "start_time": "2021-09-18T14:44:03.349Z"
   },
   {
    "duration": 60,
    "start_time": "2021-09-18T14:44:03.372Z"
   },
   {
    "duration": 22,
    "start_time": "2021-09-18T14:44:03.435Z"
   },
   {
    "duration": 17,
    "start_time": "2021-09-18T14:44:03.459Z"
   },
   {
    "duration": 11,
    "start_time": "2021-09-18T14:44:03.478Z"
   },
   {
    "duration": 11,
    "start_time": "2021-09-18T14:44:03.491Z"
   },
   {
    "duration": 40,
    "start_time": "2021-09-18T14:44:03.505Z"
   },
   {
    "duration": 20,
    "start_time": "2021-09-18T14:44:03.547Z"
   },
   {
    "duration": 4,
    "start_time": "2021-09-18T14:44:14.947Z"
   },
   {
    "duration": 534,
    "start_time": "2021-09-18T14:44:14.954Z"
   },
   {
    "duration": 3,
    "start_time": "2021-09-18T14:44:15.492Z"
   },
   {
    "duration": 10,
    "start_time": "2021-09-18T14:44:15.499Z"
   },
   {
    "duration": 186,
    "start_time": "2021-09-18T14:44:15.511Z"
   },
   {
    "duration": 107,
    "start_time": "2021-09-18T14:44:15.699Z"
   },
   {
    "duration": 9,
    "start_time": "2021-09-18T14:44:15.808Z"
   },
   {
    "duration": 9,
    "start_time": "2021-09-18T14:44:15.821Z"
   },
   {
    "duration": 60,
    "start_time": "2021-09-18T14:44:15.832Z"
   },
   {
    "duration": 23,
    "start_time": "2021-09-18T14:44:15.894Z"
   },
   {
    "duration": 17,
    "start_time": "2021-09-18T14:44:15.919Z"
   },
   {
    "duration": 33,
    "start_time": "2021-09-18T14:44:15.939Z"
   },
   {
    "duration": 9,
    "start_time": "2021-09-18T14:44:15.975Z"
   },
   {
    "duration": 38,
    "start_time": "2021-09-18T14:44:15.987Z"
   },
   {
    "duration": 55,
    "start_time": "2021-09-18T14:44:16.027Z"
   },
   {
    "duration": 4,
    "start_time": "2021-09-18T14:45:48.108Z"
   },
   {
    "duration": 538,
    "start_time": "2021-09-18T14:45:48.115Z"
   },
   {
    "duration": 3,
    "start_time": "2021-09-18T14:45:48.656Z"
   },
   {
    "duration": 6,
    "start_time": "2021-09-18T14:45:48.661Z"
   },
   {
    "duration": 182,
    "start_time": "2021-09-18T14:45:48.669Z"
   },
   {
    "duration": 101,
    "start_time": "2021-09-18T14:45:48.853Z"
   },
   {
    "duration": 16,
    "start_time": "2021-09-18T14:45:48.956Z"
   },
   {
    "duration": 14,
    "start_time": "2021-09-18T14:45:48.975Z"
   },
   {
    "duration": 55,
    "start_time": "2021-09-18T14:45:48.993Z"
   },
   {
    "duration": 29,
    "start_time": "2021-09-18T14:45:49.051Z"
   },
   {
    "duration": 16,
    "start_time": "2021-09-18T14:45:49.082Z"
   },
   {
    "duration": 14,
    "start_time": "2021-09-18T14:45:49.101Z"
   },
   {
    "duration": 12,
    "start_time": "2021-09-18T14:45:49.118Z"
   },
   {
    "duration": 56,
    "start_time": "2021-09-18T14:45:49.133Z"
   },
   {
    "duration": 32,
    "start_time": "2021-09-18T14:45:49.192Z"
   },
   {
    "duration": 4,
    "start_time": "2021-09-18T14:52:23.489Z"
   },
   {
    "duration": 545,
    "start_time": "2021-09-18T14:52:23.497Z"
   },
   {
    "duration": 3,
    "start_time": "2021-09-18T14:52:24.044Z"
   },
   {
    "duration": 14,
    "start_time": "2021-09-18T14:52:24.049Z"
   },
   {
    "duration": 180,
    "start_time": "2021-09-18T14:52:24.065Z"
   },
   {
    "duration": 101,
    "start_time": "2021-09-18T14:52:24.248Z"
   },
   {
    "duration": 14,
    "start_time": "2021-09-18T14:52:24.353Z"
   },
   {
    "duration": 10,
    "start_time": "2021-09-18T14:52:24.370Z"
   },
   {
    "duration": 39,
    "start_time": "2021-09-18T14:52:24.383Z"
   },
   {
    "duration": 42,
    "start_time": "2021-09-18T14:52:24.425Z"
   },
   {
    "duration": 16,
    "start_time": "2021-09-18T14:52:24.470Z"
   },
   {
    "duration": 7,
    "start_time": "2021-09-18T14:52:24.489Z"
   },
   {
    "duration": 7,
    "start_time": "2021-09-18T14:52:24.498Z"
   },
   {
    "duration": 65,
    "start_time": "2021-09-18T14:52:24.507Z"
   },
   {
    "duration": 7711,
    "start_time": "2021-09-18T14:52:24.574Z"
   },
   {
    "duration": 3,
    "start_time": "2021-09-18T14:52:41.433Z"
   },
   {
    "duration": 510,
    "start_time": "2021-09-18T14:52:41.439Z"
   },
   {
    "duration": 3,
    "start_time": "2021-09-18T14:52:41.951Z"
   },
   {
    "duration": 7,
    "start_time": "2021-09-18T14:52:41.957Z"
   },
   {
    "duration": 178,
    "start_time": "2021-09-18T14:52:41.967Z"
   },
   {
    "duration": 102,
    "start_time": "2021-09-18T14:52:42.147Z"
   },
   {
    "duration": 18,
    "start_time": "2021-09-18T14:52:42.252Z"
   },
   {
    "duration": 8,
    "start_time": "2021-09-18T14:52:42.275Z"
   },
   {
    "duration": 39,
    "start_time": "2021-09-18T14:52:42.286Z"
   },
   {
    "duration": 55,
    "start_time": "2021-09-18T14:52:42.327Z"
   },
   {
    "duration": 20,
    "start_time": "2021-09-18T14:52:42.385Z"
   },
   {
    "duration": 9,
    "start_time": "2021-09-18T14:52:42.407Z"
   },
   {
    "duration": 7,
    "start_time": "2021-09-18T14:52:42.418Z"
   },
   {
    "duration": 67,
    "start_time": "2021-09-18T14:52:42.427Z"
   },
   {
    "duration": 39,
    "start_time": "2021-09-18T14:52:42.497Z"
   },
   {
    "duration": 3,
    "start_time": "2021-09-18T14:57:13.652Z"
   },
   {
    "duration": 548,
    "start_time": "2021-09-18T14:57:13.658Z"
   },
   {
    "duration": 3,
    "start_time": "2021-09-18T14:57:14.209Z"
   },
   {
    "duration": 6,
    "start_time": "2021-09-18T14:57:14.216Z"
   },
   {
    "duration": 182,
    "start_time": "2021-09-18T14:57:14.224Z"
   },
   {
    "duration": 106,
    "start_time": "2021-09-18T14:57:14.409Z"
   },
   {
    "duration": 10,
    "start_time": "2021-09-18T14:57:14.520Z"
   },
   {
    "duration": 10,
    "start_time": "2021-09-18T14:57:14.532Z"
   },
   {
    "duration": 57,
    "start_time": "2021-09-18T14:57:14.544Z"
   },
   {
    "duration": 22,
    "start_time": "2021-09-18T14:57:14.603Z"
   },
   {
    "duration": 42,
    "start_time": "2021-09-18T14:57:14.628Z"
   },
   {
    "duration": 7,
    "start_time": "2021-09-18T14:57:14.673Z"
   },
   {
    "duration": 7,
    "start_time": "2021-09-18T14:57:14.683Z"
   },
   {
    "duration": 38,
    "start_time": "2021-09-18T14:57:14.693Z"
   },
   {
    "duration": 67,
    "start_time": "2021-09-18T14:57:14.733Z"
   },
   {
    "duration": 3,
    "start_time": "2021-09-18T14:58:14.401Z"
   },
   {
    "duration": 538,
    "start_time": "2021-09-18T14:58:14.407Z"
   },
   {
    "duration": 3,
    "start_time": "2021-09-18T14:58:14.948Z"
   },
   {
    "duration": 8,
    "start_time": "2021-09-18T14:58:14.954Z"
   },
   {
    "duration": 178,
    "start_time": "2021-09-18T14:58:14.965Z"
   },
   {
    "duration": 104,
    "start_time": "2021-09-18T14:58:15.146Z"
   },
   {
    "duration": 17,
    "start_time": "2021-09-18T14:58:15.253Z"
   },
   {
    "duration": 10,
    "start_time": "2021-09-18T14:58:15.273Z"
   },
   {
    "duration": 44,
    "start_time": "2021-09-18T14:58:15.285Z"
   },
   {
    "duration": 38,
    "start_time": "2021-09-18T14:58:15.332Z"
   },
   {
    "duration": 16,
    "start_time": "2021-09-18T14:58:15.372Z"
   },
   {
    "duration": 13,
    "start_time": "2021-09-18T14:58:15.390Z"
   },
   {
    "duration": 20,
    "start_time": "2021-09-18T14:58:15.405Z"
   },
   {
    "duration": 46,
    "start_time": "2021-09-18T14:58:15.427Z"
   },
   {
    "duration": 40,
    "start_time": "2021-09-18T14:58:15.475Z"
   },
   {
    "duration": 4,
    "start_time": "2021-09-18T15:04:31.139Z"
   },
   {
    "duration": 560,
    "start_time": "2021-09-18T15:04:31.146Z"
   },
   {
    "duration": 3,
    "start_time": "2021-09-18T15:04:31.708Z"
   },
   {
    "duration": 18,
    "start_time": "2021-09-18T15:04:31.714Z"
   },
   {
    "duration": 191,
    "start_time": "2021-09-18T15:04:31.735Z"
   },
   {
    "duration": 114,
    "start_time": "2021-09-18T15:04:31.929Z"
   },
   {
    "duration": 20,
    "start_time": "2021-09-18T15:04:32.048Z"
   },
   {
    "duration": 10,
    "start_time": "2021-09-18T15:04:32.072Z"
   },
   {
    "duration": 53,
    "start_time": "2021-09-18T15:04:32.084Z"
   },
   {
    "duration": 38,
    "start_time": "2021-09-18T15:04:32.139Z"
   },
   {
    "duration": 16,
    "start_time": "2021-09-18T15:04:32.180Z"
   },
   {
    "duration": 10,
    "start_time": "2021-09-18T15:04:32.198Z"
   },
   {
    "duration": 18,
    "start_time": "2021-09-18T15:04:32.210Z"
   },
   {
    "duration": 61,
    "start_time": "2021-09-18T15:04:32.231Z"
   },
   {
    "duration": 48,
    "start_time": "2021-09-18T15:04:32.295Z"
   },
   {
    "duration": 3,
    "start_time": "2021-09-18T15:09:34.469Z"
   },
   {
    "duration": 549,
    "start_time": "2021-09-18T15:09:34.475Z"
   },
   {
    "duration": 3,
    "start_time": "2021-09-18T15:09:35.028Z"
   },
   {
    "duration": 40,
    "start_time": "2021-09-18T15:09:35.035Z"
   },
   {
    "duration": 192,
    "start_time": "2021-09-18T15:09:35.078Z"
   },
   {
    "duration": 115,
    "start_time": "2021-09-18T15:09:35.273Z"
   },
   {
    "duration": 8,
    "start_time": "2021-09-18T15:09:35.392Z"
   },
   {
    "duration": 12,
    "start_time": "2021-09-18T15:09:35.403Z"
   },
   {
    "duration": 56,
    "start_time": "2021-09-18T15:09:35.418Z"
   },
   {
    "duration": 22,
    "start_time": "2021-09-18T15:09:35.476Z"
   },
   {
    "duration": 18,
    "start_time": "2021-09-18T15:09:35.500Z"
   },
   {
    "duration": 9,
    "start_time": "2021-09-18T15:09:35.520Z"
   },
   {
    "duration": 39,
    "start_time": "2021-09-18T15:09:35.532Z"
   },
   {
    "duration": 40,
    "start_time": "2021-09-18T15:09:35.574Z"
   },
   {
    "duration": 69,
    "start_time": "2021-09-18T15:09:35.616Z"
   },
   {
    "duration": 3,
    "start_time": "2021-09-18T15:10:04.110Z"
   },
   {
    "duration": 540,
    "start_time": "2021-09-18T15:10:04.116Z"
   },
   {
    "duration": 4,
    "start_time": "2021-09-18T15:10:04.658Z"
   },
   {
    "duration": 10,
    "start_time": "2021-09-18T15:10:04.664Z"
   },
   {
    "duration": 206,
    "start_time": "2021-09-18T15:10:04.677Z"
   },
   {
    "duration": 106,
    "start_time": "2021-09-18T15:10:04.885Z"
   },
   {
    "duration": 9,
    "start_time": "2021-09-18T15:10:04.994Z"
   },
   {
    "duration": 12,
    "start_time": "2021-09-18T15:10:05.005Z"
   },
   {
    "duration": 56,
    "start_time": "2021-09-18T15:10:05.019Z"
   },
   {
    "duration": 21,
    "start_time": "2021-09-18T15:10:05.077Z"
   },
   {
    "duration": 19,
    "start_time": "2021-09-18T15:10:05.101Z"
   },
   {
    "duration": 9,
    "start_time": "2021-09-18T15:10:05.123Z"
   },
   {
    "duration": 37,
    "start_time": "2021-09-18T15:10:05.134Z"
   },
   {
    "duration": 39,
    "start_time": "2021-09-18T15:10:05.174Z"
   },
   {
    "duration": 74,
    "start_time": "2021-09-18T15:10:05.215Z"
   },
   {
    "duration": 3,
    "start_time": "2021-09-18T15:12:02.474Z"
   },
   {
    "duration": 571,
    "start_time": "2021-09-18T15:12:02.480Z"
   },
   {
    "duration": 3,
    "start_time": "2021-09-18T15:12:03.054Z"
   },
   {
    "duration": 14,
    "start_time": "2021-09-18T15:12:03.060Z"
   },
   {
    "duration": 189,
    "start_time": "2021-09-18T15:12:03.077Z"
   },
   {
    "duration": 110,
    "start_time": "2021-09-18T15:12:03.269Z"
   },
   {
    "duration": 9,
    "start_time": "2021-09-18T15:12:03.382Z"
   },
   {
    "duration": 11,
    "start_time": "2021-09-18T15:12:03.394Z"
   },
   {
    "duration": 60,
    "start_time": "2021-09-18T15:12:03.407Z"
   },
   {
    "duration": 22,
    "start_time": "2021-09-18T15:12:03.469Z"
   },
   {
    "duration": 18,
    "start_time": "2021-09-18T15:12:03.494Z"
   },
   {
    "duration": 20,
    "start_time": "2021-09-18T15:12:03.514Z"
   },
   {
    "duration": 35,
    "start_time": "2021-09-18T15:12:03.537Z"
   },
   {
    "duration": 39,
    "start_time": "2021-09-18T15:12:03.574Z"
   },
   {
    "duration": 76,
    "start_time": "2021-09-18T15:12:03.615Z"
   },
   {
    "duration": -3648813,
    "start_time": "2021-09-18T16:16:28.209Z"
   },
   {
    "duration": -3648815,
    "start_time": "2021-09-18T16:16:28.213Z"
   },
   {
    "duration": -3648816,
    "start_time": "2021-09-18T16:16:28.215Z"
   },
   {
    "duration": -3648818,
    "start_time": "2021-09-18T16:16:28.218Z"
   },
   {
    "duration": -3648819,
    "start_time": "2021-09-18T16:16:28.221Z"
   },
   {
    "duration": -3648829,
    "start_time": "2021-09-18T16:16:28.233Z"
   },
   {
    "duration": -3648833,
    "start_time": "2021-09-18T16:16:28.238Z"
   },
   {
    "duration": -3648837,
    "start_time": "2021-09-18T16:16:28.244Z"
   },
   {
    "duration": -3648841,
    "start_time": "2021-09-18T16:16:28.249Z"
   },
   {
    "duration": -3648843,
    "start_time": "2021-09-18T16:16:28.252Z"
   },
   {
    "duration": -3648844,
    "start_time": "2021-09-18T16:16:28.255Z"
   },
   {
    "duration": -3648847,
    "start_time": "2021-09-18T16:16:28.259Z"
   },
   {
    "duration": -3648849,
    "start_time": "2021-09-18T16:16:28.263Z"
   },
   {
    "duration": -3648865,
    "start_time": "2021-09-18T16:16:28.280Z"
   },
   {
    "duration": -3648868,
    "start_time": "2021-09-18T16:16:28.284Z"
   },
   {
    "duration": 3,
    "start_time": "2021-09-18T15:15:41.905Z"
   },
   {
    "duration": 546,
    "start_time": "2021-09-18T15:15:41.912Z"
   },
   {
    "duration": 3,
    "start_time": "2021-09-18T15:15:42.461Z"
   },
   {
    "duration": 9,
    "start_time": "2021-09-18T15:15:42.467Z"
   },
   {
    "duration": 181,
    "start_time": "2021-09-18T15:15:42.479Z"
   },
   {
    "duration": 101,
    "start_time": "2021-09-18T15:15:42.666Z"
   },
   {
    "duration": 8,
    "start_time": "2021-09-18T15:15:42.771Z"
   },
   {
    "duration": 10,
    "start_time": "2021-09-18T15:15:42.782Z"
   },
   {
    "duration": 35,
    "start_time": "2021-09-18T15:15:42.795Z"
   },
   {
    "duration": 46,
    "start_time": "2021-09-18T15:15:42.832Z"
   },
   {
    "duration": 17,
    "start_time": "2021-09-18T15:15:42.880Z"
   },
   {
    "duration": 8,
    "start_time": "2021-09-18T15:15:42.899Z"
   },
   {
    "duration": 9,
    "start_time": "2021-09-18T15:15:42.910Z"
   },
   {
    "duration": 74,
    "start_time": "2021-09-18T15:15:42.921Z"
   },
   {
    "duration": 48,
    "start_time": "2021-09-18T15:15:42.997Z"
   },
   {
    "duration": 3,
    "start_time": "2021-09-18T15:51:13.960Z"
   },
   {
    "duration": 503,
    "start_time": "2021-09-18T15:51:13.966Z"
   },
   {
    "duration": 3,
    "start_time": "2021-09-18T15:51:14.472Z"
   },
   {
    "duration": 6,
    "start_time": "2021-09-18T15:51:14.478Z"
   },
   {
    "duration": 190,
    "start_time": "2021-09-18T15:51:14.486Z"
   },
   {
    "duration": 101,
    "start_time": "2021-09-18T15:51:14.678Z"
   },
   {
    "duration": 8,
    "start_time": "2021-09-18T15:51:14.783Z"
   },
   {
    "duration": 12,
    "start_time": "2021-09-18T15:51:14.794Z"
   },
   {
    "duration": 36,
    "start_time": "2021-09-18T15:51:14.808Z"
   },
   {
    "duration": 22,
    "start_time": "2021-09-18T15:51:14.867Z"
   },
   {
    "duration": 19,
    "start_time": "2021-09-18T15:51:14.891Z"
   },
   {
    "duration": 7,
    "start_time": "2021-09-18T15:51:14.912Z"
   },
   {
    "duration": 8,
    "start_time": "2021-09-18T15:51:14.922Z"
   },
   {
    "duration": 67,
    "start_time": "2021-09-18T15:51:14.933Z"
   },
   {
    "duration": 66,
    "start_time": "2021-09-18T15:51:15.003Z"
   },
   {
    "duration": 4,
    "start_time": "2021-09-18T15:51:33.346Z"
   },
   {
    "duration": 530,
    "start_time": "2021-09-18T15:51:33.353Z"
   },
   {
    "duration": 3,
    "start_time": "2021-09-18T15:51:33.887Z"
   },
   {
    "duration": 8,
    "start_time": "2021-09-18T15:51:33.894Z"
   },
   {
    "duration": 195,
    "start_time": "2021-09-18T15:51:33.905Z"
   },
   {
    "duration": 113,
    "start_time": "2021-09-18T15:51:34.103Z"
   },
   {
    "duration": 10,
    "start_time": "2021-09-18T15:51:34.218Z"
   },
   {
    "duration": 10,
    "start_time": "2021-09-18T15:51:34.231Z"
   },
   {
    "duration": 58,
    "start_time": "2021-09-18T15:51:34.245Z"
   },
   {
    "duration": 22,
    "start_time": "2021-09-18T15:51:34.306Z"
   },
   {
    "duration": 42,
    "start_time": "2021-09-18T15:51:34.330Z"
   },
   {
    "duration": 8,
    "start_time": "2021-09-18T15:51:34.374Z"
   },
   {
    "duration": 7,
    "start_time": "2021-09-18T15:51:34.385Z"
   },
   {
    "duration": 35,
    "start_time": "2021-09-18T15:51:34.394Z"
   },
   {
    "duration": 44,
    "start_time": "2021-09-18T15:51:34.432Z"
   },
   {
    "duration": 3,
    "start_time": "2021-09-18T15:51:57.241Z"
   },
   {
    "duration": 552,
    "start_time": "2021-09-18T15:51:57.248Z"
   },
   {
    "duration": 2,
    "start_time": "2021-09-18T15:51:57.803Z"
   },
   {
    "duration": 20,
    "start_time": "2021-09-18T15:51:57.808Z"
   },
   {
    "duration": 184,
    "start_time": "2021-09-18T15:51:57.830Z"
   },
   {
    "duration": 104,
    "start_time": "2021-09-18T15:51:58.016Z"
   },
   {
    "duration": 10,
    "start_time": "2021-09-18T15:51:58.122Z"
   },
   {
    "duration": 19,
    "start_time": "2021-09-18T15:51:58.135Z"
   },
   {
    "duration": 45,
    "start_time": "2021-09-18T15:51:58.157Z"
   },
   {
    "duration": 22,
    "start_time": "2021-09-18T15:51:58.204Z"
   },
   {
    "duration": 17,
    "start_time": "2021-09-18T15:51:58.228Z"
   },
   {
    "duration": 10,
    "start_time": "2021-09-18T15:51:58.268Z"
   },
   {
    "duration": 17,
    "start_time": "2021-09-18T15:51:58.281Z"
   },
   {
    "duration": 40,
    "start_time": "2021-09-18T15:51:58.301Z"
   },
   {
    "duration": 72,
    "start_time": "2021-09-18T15:51:58.344Z"
   },
   {
    "duration": 3,
    "start_time": "2021-09-18T15:52:53.916Z"
   },
   {
    "duration": 538,
    "start_time": "2021-09-18T15:52:53.923Z"
   },
   {
    "duration": 4,
    "start_time": "2021-09-18T15:52:54.464Z"
   },
   {
    "duration": 26,
    "start_time": "2021-09-18T15:52:54.471Z"
   },
   {
    "duration": 187,
    "start_time": "2021-09-18T15:52:54.499Z"
   },
   {
    "duration": 113,
    "start_time": "2021-09-18T15:52:54.689Z"
   },
   {
    "duration": 9,
    "start_time": "2021-09-18T15:52:54.807Z"
   },
   {
    "duration": 30,
    "start_time": "2021-09-18T15:52:54.820Z"
   },
   {
    "duration": 48,
    "start_time": "2021-09-18T15:52:54.852Z"
   },
   {
    "duration": 24,
    "start_time": "2021-09-18T15:52:54.903Z"
   },
   {
    "duration": 48,
    "start_time": "2021-09-18T15:52:54.929Z"
   },
   {
    "duration": 9,
    "start_time": "2021-09-18T15:52:54.980Z"
   },
   {
    "duration": 24,
    "start_time": "2021-09-18T15:52:54.992Z"
   },
   {
    "duration": 48,
    "start_time": "2021-09-18T15:52:55.019Z"
   },
   {
    "duration": 54,
    "start_time": "2021-09-18T15:52:55.070Z"
   },
   {
    "duration": 4,
    "start_time": "2021-09-18T15:53:21.372Z"
   },
   {
    "duration": 540,
    "start_time": "2021-09-18T15:53:21.379Z"
   },
   {
    "duration": 4,
    "start_time": "2021-09-18T15:53:21.922Z"
   },
   {
    "duration": 18,
    "start_time": "2021-09-18T15:53:21.928Z"
   },
   {
    "duration": 186,
    "start_time": "2021-09-18T15:53:21.948Z"
   },
   {
    "duration": 104,
    "start_time": "2021-09-18T15:53:22.137Z"
   },
   {
    "duration": 9,
    "start_time": "2021-09-18T15:53:22.244Z"
   },
   {
    "duration": 6,
    "start_time": "2021-09-18T15:53:22.268Z"
   },
   {
    "duration": 40,
    "start_time": "2021-09-18T15:53:22.276Z"
   },
   {
    "duration": 21,
    "start_time": "2021-09-18T15:53:22.319Z"
   },
   {
    "duration": 17,
    "start_time": "2021-09-18T15:53:22.368Z"
   },
   {
    "duration": 8,
    "start_time": "2021-09-18T15:53:22.387Z"
   },
   {
    "duration": 7,
    "start_time": "2021-09-18T15:53:22.397Z"
   },
   {
    "duration": 61,
    "start_time": "2021-09-18T15:53:22.406Z"
   },
   {
    "duration": 47,
    "start_time": "2021-09-18T15:53:22.470Z"
   },
   {
    "duration": 4,
    "start_time": "2021-09-18T15:53:34.559Z"
   },
   {
    "duration": 529,
    "start_time": "2021-09-18T15:53:34.565Z"
   },
   {
    "duration": 3,
    "start_time": "2021-09-18T15:53:35.097Z"
   },
   {
    "duration": 15,
    "start_time": "2021-09-18T15:53:35.103Z"
   },
   {
    "duration": 174,
    "start_time": "2021-09-18T15:53:35.120Z"
   },
   {
    "duration": 106,
    "start_time": "2021-09-18T15:53:35.296Z"
   },
   {
    "duration": 10,
    "start_time": "2021-09-18T15:53:35.404Z"
   },
   {
    "duration": 11,
    "start_time": "2021-09-18T15:53:35.417Z"
   },
   {
    "duration": 63,
    "start_time": "2021-09-18T15:53:35.432Z"
   },
   {
    "duration": 25,
    "start_time": "2021-09-18T15:53:35.499Z"
   },
   {
    "duration": 44,
    "start_time": "2021-09-18T15:53:35.526Z"
   },
   {
    "duration": 10,
    "start_time": "2021-09-18T15:53:35.573Z"
   },
   {
    "duration": 13,
    "start_time": "2021-09-18T15:53:35.585Z"
   },
   {
    "duration": 47,
    "start_time": "2021-09-18T15:53:35.601Z"
   },
   {
    "duration": 54,
    "start_time": "2021-09-18T15:53:35.667Z"
   },
   {
    "duration": 3,
    "start_time": "2021-09-18T15:53:47.789Z"
   },
   {
    "duration": 508,
    "start_time": "2021-09-18T15:53:47.795Z"
   },
   {
    "duration": 3,
    "start_time": "2021-09-18T15:53:48.307Z"
   },
   {
    "duration": 9,
    "start_time": "2021-09-18T15:53:48.312Z"
   },
   {
    "duration": 181,
    "start_time": "2021-09-18T15:53:48.324Z"
   },
   {
    "duration": 106,
    "start_time": "2021-09-18T15:53:48.507Z"
   },
   {
    "duration": 12,
    "start_time": "2021-09-18T15:53:48.615Z"
   },
   {
    "duration": 13,
    "start_time": "2021-09-18T15:53:48.632Z"
   },
   {
    "duration": 53,
    "start_time": "2021-09-18T15:53:48.648Z"
   },
   {
    "duration": 25,
    "start_time": "2021-09-18T15:53:48.704Z"
   },
   {
    "duration": 48,
    "start_time": "2021-09-18T15:53:48.731Z"
   },
   {
    "duration": 9,
    "start_time": "2021-09-18T15:53:48.782Z"
   },
   {
    "duration": 9,
    "start_time": "2021-09-18T15:53:48.794Z"
   },
   {
    "duration": 61,
    "start_time": "2021-09-18T15:53:48.806Z"
   },
   {
    "duration": 50,
    "start_time": "2021-09-18T15:53:48.870Z"
   },
   {
    "duration": 3,
    "start_time": "2021-09-18T15:54:06.501Z"
   },
   {
    "duration": 512,
    "start_time": "2021-09-18T15:54:06.507Z"
   },
   {
    "duration": 4,
    "start_time": "2021-09-18T15:54:07.021Z"
   },
   {
    "duration": 5,
    "start_time": "2021-09-18T15:54:07.028Z"
   },
   {
    "duration": 191,
    "start_time": "2021-09-18T15:54:07.035Z"
   },
   {
    "duration": 109,
    "start_time": "2021-09-18T15:54:07.229Z"
   },
   {
    "duration": 9,
    "start_time": "2021-09-18T15:54:07.341Z"
   },
   {
    "duration": 9,
    "start_time": "2021-09-18T15:54:07.366Z"
   },
   {
    "duration": 42,
    "start_time": "2021-09-18T15:54:07.377Z"
   },
   {
    "duration": 22,
    "start_time": "2021-09-18T15:54:07.421Z"
   },
   {
    "duration": 32,
    "start_time": "2021-09-18T15:54:07.445Z"
   },
   {
    "duration": 7,
    "start_time": "2021-09-18T15:54:07.480Z"
   },
   {
    "duration": 21,
    "start_time": "2021-09-18T15:54:07.489Z"
   },
   {
    "duration": 41,
    "start_time": "2021-09-18T15:54:07.513Z"
   },
   {
    "duration": 61,
    "start_time": "2021-09-18T15:54:07.556Z"
   },
   {
    "duration": 4,
    "start_time": "2021-09-18T15:54:17.224Z"
   },
   {
    "duration": 503,
    "start_time": "2021-09-18T15:54:17.231Z"
   },
   {
    "duration": 3,
    "start_time": "2021-09-18T15:54:17.737Z"
   },
   {
    "duration": 7,
    "start_time": "2021-09-18T15:54:17.742Z"
   },
   {
    "duration": 170,
    "start_time": "2021-09-18T15:54:17.751Z"
   },
   {
    "duration": 106,
    "start_time": "2021-09-18T15:54:17.924Z"
   },
   {
    "duration": 9,
    "start_time": "2021-09-18T15:54:18.034Z"
   },
   {
    "duration": 22,
    "start_time": "2021-09-18T15:54:18.045Z"
   },
   {
    "duration": 37,
    "start_time": "2021-09-18T15:54:18.070Z"
   },
   {
    "duration": 22,
    "start_time": "2021-09-18T15:54:18.109Z"
   },
   {
    "duration": 41,
    "start_time": "2021-09-18T15:54:18.134Z"
   },
   {
    "duration": 8,
    "start_time": "2021-09-18T15:54:18.177Z"
   },
   {
    "duration": 7,
    "start_time": "2021-09-18T15:54:18.187Z"
   },
   {
    "duration": 44,
    "start_time": "2021-09-18T15:54:18.196Z"
   },
   {
    "duration": 66,
    "start_time": "2021-09-18T15:54:18.243Z"
   },
   {
    "duration": 3,
    "start_time": "2021-09-18T15:54:36.488Z"
   },
   {
    "duration": 527,
    "start_time": "2021-09-18T15:54:36.493Z"
   },
   {
    "duration": 3,
    "start_time": "2021-09-18T15:54:37.022Z"
   },
   {
    "duration": 11,
    "start_time": "2021-09-18T15:54:37.028Z"
   },
   {
    "duration": 186,
    "start_time": "2021-09-18T15:54:37.042Z"
   },
   {
    "duration": 97,
    "start_time": "2021-09-18T15:54:37.231Z"
   },
   {
    "duration": 8,
    "start_time": "2021-09-18T15:54:37.331Z"
   },
   {
    "duration": 15,
    "start_time": "2021-09-18T15:54:37.343Z"
   },
   {
    "duration": 47,
    "start_time": "2021-09-18T15:54:37.361Z"
   },
   {
    "duration": 22,
    "start_time": "2021-09-18T15:54:37.411Z"
   },
   {
    "duration": 17,
    "start_time": "2021-09-18T15:54:37.435Z"
   },
   {
    "duration": 7,
    "start_time": "2021-09-18T15:54:37.454Z"
   },
   {
    "duration": 9,
    "start_time": "2021-09-18T15:54:37.463Z"
   },
   {
    "duration": 56,
    "start_time": "2021-09-18T15:54:37.474Z"
   },
   {
    "duration": 83,
    "start_time": "2021-09-18T15:54:37.534Z"
   },
   {
    "duration": 4,
    "start_time": "2021-09-18T15:54:42.006Z"
   },
   {
    "duration": 497,
    "start_time": "2021-09-18T15:54:42.013Z"
   },
   {
    "duration": 4,
    "start_time": "2021-09-18T15:54:42.514Z"
   },
   {
    "duration": 6,
    "start_time": "2021-09-18T15:54:42.522Z"
   },
   {
    "duration": 174,
    "start_time": "2021-09-18T15:54:42.531Z"
   },
   {
    "duration": 111,
    "start_time": "2021-09-18T15:54:42.708Z"
   },
   {
    "duration": 11,
    "start_time": "2021-09-18T15:54:42.821Z"
   },
   {
    "duration": 10,
    "start_time": "2021-09-18T15:54:42.836Z"
   },
   {
    "duration": 38,
    "start_time": "2021-09-18T15:54:42.868Z"
   },
   {
    "duration": 25,
    "start_time": "2021-09-18T15:54:42.908Z"
   },
   {
    "duration": 47,
    "start_time": "2021-09-18T15:54:42.936Z"
   },
   {
    "duration": 9,
    "start_time": "2021-09-18T15:54:42.986Z"
   },
   {
    "duration": 9,
    "start_time": "2021-09-18T15:54:42.998Z"
   },
   {
    "duration": 67,
    "start_time": "2021-09-18T15:54:43.010Z"
   },
   {
    "duration": 51,
    "start_time": "2021-09-18T15:54:43.079Z"
   },
   {
    "duration": 4,
    "start_time": "2021-09-18T15:54:50.142Z"
   },
   {
    "duration": 497,
    "start_time": "2021-09-18T15:54:50.149Z"
   },
   {
    "duration": 3,
    "start_time": "2021-09-18T15:54:50.649Z"
   },
   {
    "duration": 11,
    "start_time": "2021-09-18T15:54:50.655Z"
   },
   {
    "duration": 180,
    "start_time": "2021-09-18T15:54:50.668Z"
   },
   {
    "duration": 101,
    "start_time": "2021-09-18T15:54:50.850Z"
   },
   {
    "duration": 17,
    "start_time": "2021-09-18T15:54:50.953Z"
   },
   {
    "duration": 22,
    "start_time": "2021-09-18T15:54:50.974Z"
   },
   {
    "duration": 42,
    "start_time": "2021-09-18T15:54:50.998Z"
   },
   {
    "duration": 35,
    "start_time": "2021-09-18T15:54:51.042Z"
   },
   {
    "duration": 17,
    "start_time": "2021-09-18T15:54:51.079Z"
   },
   {
    "duration": 11,
    "start_time": "2021-09-18T15:54:51.098Z"
   },
   {
    "duration": 18,
    "start_time": "2021-09-18T15:54:51.111Z"
   },
   {
    "duration": 52,
    "start_time": "2021-09-18T15:54:51.131Z"
   },
   {
    "duration": 52,
    "start_time": "2021-09-18T15:54:51.185Z"
   },
   {
    "duration": 4,
    "start_time": "2021-09-18T15:55:05.975Z"
   },
   {
    "duration": 509,
    "start_time": "2021-09-18T15:55:05.981Z"
   },
   {
    "duration": 3,
    "start_time": "2021-09-18T15:55:06.493Z"
   },
   {
    "duration": 7,
    "start_time": "2021-09-18T15:55:06.499Z"
   },
   {
    "duration": 182,
    "start_time": "2021-09-18T15:55:06.509Z"
   },
   {
    "duration": 108,
    "start_time": "2021-09-18T15:55:06.693Z"
   },
   {
    "duration": 9,
    "start_time": "2021-09-18T15:55:06.803Z"
   },
   {
    "duration": 10,
    "start_time": "2021-09-18T15:55:06.815Z"
   },
   {
    "duration": 57,
    "start_time": "2021-09-18T15:55:06.827Z"
   },
   {
    "duration": 21,
    "start_time": "2021-09-18T15:55:06.886Z"
   },
   {
    "duration": 16,
    "start_time": "2021-09-18T15:55:06.909Z"
   },
   {
    "duration": 7,
    "start_time": "2021-09-18T15:55:06.927Z"
   },
   {
    "duration": 30,
    "start_time": "2021-09-18T15:55:06.937Z"
   },
   {
    "duration": 46,
    "start_time": "2021-09-18T15:55:06.970Z"
   },
   {
    "duration": 70,
    "start_time": "2021-09-18T15:55:07.018Z"
   },
   {
    "duration": 4,
    "start_time": "2021-09-18T15:55:46.258Z"
   },
   {
    "duration": 627,
    "start_time": "2021-09-18T15:55:46.265Z"
   },
   {
    "duration": 3,
    "start_time": "2021-09-18T15:55:46.895Z"
   },
   {
    "duration": 7,
    "start_time": "2021-09-18T15:55:46.901Z"
   },
   {
    "duration": 186,
    "start_time": "2021-09-18T15:55:46.911Z"
   },
   {
    "duration": 110,
    "start_time": "2021-09-18T15:55:47.099Z"
   },
   {
    "duration": 9,
    "start_time": "2021-09-18T15:55:47.211Z"
   },
   {
    "duration": 8,
    "start_time": "2021-09-18T15:55:47.225Z"
   },
   {
    "duration": 61,
    "start_time": "2021-09-18T15:55:47.237Z"
   },
   {
    "duration": 21,
    "start_time": "2021-09-18T15:55:47.300Z"
   },
   {
    "duration": 42,
    "start_time": "2021-09-18T15:55:47.324Z"
   },
   {
    "duration": 8,
    "start_time": "2021-09-18T15:55:47.369Z"
   },
   {
    "duration": 21,
    "start_time": "2021-09-18T15:55:47.379Z"
   },
   {
    "duration": 44,
    "start_time": "2021-09-18T15:55:47.403Z"
   },
   {
    "duration": 57,
    "start_time": "2021-09-18T15:55:47.449Z"
   },
   {
    "duration": 3,
    "start_time": "2021-09-18T15:56:27.522Z"
   },
   {
    "duration": 499,
    "start_time": "2021-09-18T15:56:27.528Z"
   },
   {
    "duration": 3,
    "start_time": "2021-09-18T15:56:28.030Z"
   },
   {
    "duration": 9,
    "start_time": "2021-09-18T15:56:28.036Z"
   },
   {
    "duration": 174,
    "start_time": "2021-09-18T15:56:28.047Z"
   },
   {
    "duration": 102,
    "start_time": "2021-09-18T15:56:28.223Z"
   },
   {
    "duration": 8,
    "start_time": "2021-09-18T15:56:28.329Z"
   },
   {
    "duration": 9,
    "start_time": "2021-09-18T15:56:28.340Z"
   },
   {
    "duration": 49,
    "start_time": "2021-09-18T15:56:28.352Z"
   },
   {
    "duration": 23,
    "start_time": "2021-09-18T15:56:28.403Z"
   },
   {
    "duration": 43,
    "start_time": "2021-09-18T15:56:28.428Z"
   },
   {
    "duration": 8,
    "start_time": "2021-09-18T15:56:28.473Z"
   },
   {
    "duration": 9,
    "start_time": "2021-09-18T15:56:28.483Z"
   },
   {
    "duration": 35,
    "start_time": "2021-09-18T15:56:28.494Z"
   },
   {
    "duration": 58,
    "start_time": "2021-09-18T15:56:28.531Z"
   },
   {
    "duration": 3,
    "start_time": "2021-09-18T15:56:52.843Z"
   },
   {
    "duration": 499,
    "start_time": "2021-09-18T15:56:52.849Z"
   },
   {
    "duration": 3,
    "start_time": "2021-09-18T15:56:53.352Z"
   },
   {
    "duration": 16,
    "start_time": "2021-09-18T15:56:53.359Z"
   },
   {
    "duration": 184,
    "start_time": "2021-09-18T15:56:53.377Z"
   },
   {
    "duration": 110,
    "start_time": "2021-09-18T15:56:53.568Z"
   },
   {
    "duration": 9,
    "start_time": "2021-09-18T15:56:53.681Z"
   },
   {
    "duration": 9,
    "start_time": "2021-09-18T15:56:53.693Z"
   },
   {
    "duration": 37,
    "start_time": "2021-09-18T15:56:53.705Z"
   },
   {
    "duration": 44,
    "start_time": "2021-09-18T15:56:53.744Z"
   },
   {
    "duration": 17,
    "start_time": "2021-09-18T15:56:53.790Z"
   },
   {
    "duration": 7,
    "start_time": "2021-09-18T15:56:53.810Z"
   },
   {
    "duration": 8,
    "start_time": "2021-09-18T15:56:53.819Z"
   },
   {
    "duration": 69,
    "start_time": "2021-09-18T15:56:53.829Z"
   },
   {
    "duration": 79,
    "start_time": "2021-09-18T15:56:53.900Z"
   },
   {
    "duration": 4,
    "start_time": "2021-09-18T15:57:26.412Z"
   },
   {
    "duration": 509,
    "start_time": "2021-09-18T15:57:26.420Z"
   },
   {
    "duration": 3,
    "start_time": "2021-09-18T15:57:26.932Z"
   },
   {
    "duration": 9,
    "start_time": "2021-09-18T15:57:26.938Z"
   },
   {
    "duration": 186,
    "start_time": "2021-09-18T15:57:26.949Z"
   },
   {
    "duration": 107,
    "start_time": "2021-09-18T15:57:27.137Z"
   },
   {
    "duration": 9,
    "start_time": "2021-09-18T15:57:27.247Z"
   },
   {
    "duration": 6,
    "start_time": "2021-09-18T15:57:27.268Z"
   },
   {
    "duration": 37,
    "start_time": "2021-09-18T15:57:27.277Z"
   },
   {
    "duration": 23,
    "start_time": "2021-09-18T15:57:27.316Z"
   },
   {
    "duration": 41,
    "start_time": "2021-09-18T15:57:27.341Z"
   },
   {
    "duration": 8,
    "start_time": "2021-09-18T15:57:27.385Z"
   },
   {
    "duration": 11,
    "start_time": "2021-09-18T15:57:27.395Z"
   },
   {
    "duration": 59,
    "start_time": "2021-09-18T15:57:27.408Z"
   },
   {
    "duration": 27,
    "start_time": "2021-09-18T15:57:27.470Z"
   },
   {
    "duration": 4,
    "start_time": "2021-09-18T15:57:56.717Z"
   },
   {
    "duration": 518,
    "start_time": "2021-09-18T15:57:56.723Z"
   },
   {
    "duration": 3,
    "start_time": "2021-09-18T15:57:57.244Z"
   },
   {
    "duration": 8,
    "start_time": "2021-09-18T15:57:57.249Z"
   },
   {
    "duration": 172,
    "start_time": "2021-09-18T15:57:57.260Z"
   },
   {
    "duration": 105,
    "start_time": "2021-09-18T15:57:57.434Z"
   },
   {
    "duration": 8,
    "start_time": "2021-09-18T15:57:57.543Z"
   },
   {
    "duration": 19,
    "start_time": "2021-09-18T15:57:57.554Z"
   },
   {
    "duration": 37,
    "start_time": "2021-09-18T15:57:57.576Z"
   },
   {
    "duration": 23,
    "start_time": "2021-09-18T15:57:57.615Z"
   },
   {
    "duration": 42,
    "start_time": "2021-09-18T15:57:57.640Z"
   },
   {
    "duration": 7,
    "start_time": "2021-09-18T15:57:57.685Z"
   },
   {
    "duration": 5,
    "start_time": "2021-09-18T15:57:57.695Z"
   },
   {
    "duration": 64,
    "start_time": "2021-09-18T15:57:57.703Z"
   },
   {
    "duration": 28,
    "start_time": "2021-09-18T15:57:57.769Z"
   },
   {
    "duration": 4,
    "start_time": "2021-09-18T15:58:08.837Z"
   },
   {
    "duration": 498,
    "start_time": "2021-09-18T15:58:08.843Z"
   },
   {
    "duration": 2,
    "start_time": "2021-09-18T15:58:09.344Z"
   },
   {
    "duration": 9,
    "start_time": "2021-09-18T15:58:09.349Z"
   },
   {
    "duration": 181,
    "start_time": "2021-09-18T15:58:09.360Z"
   },
   {
    "duration": 103,
    "start_time": "2021-09-18T15:58:09.544Z"
   },
   {
    "duration": 17,
    "start_time": "2021-09-18T15:58:09.651Z"
   },
   {
    "duration": 14,
    "start_time": "2021-09-18T15:58:09.670Z"
   },
   {
    "duration": 40,
    "start_time": "2021-09-18T15:58:09.687Z"
   },
   {
    "duration": 42,
    "start_time": "2021-09-18T15:58:09.729Z"
   },
   {
    "duration": 16,
    "start_time": "2021-09-18T15:58:09.774Z"
   },
   {
    "duration": 8,
    "start_time": "2021-09-18T15:58:09.792Z"
   },
   {
    "duration": 8,
    "start_time": "2021-09-18T15:58:09.802Z"
   },
   {
    "duration": 64,
    "start_time": "2021-09-18T15:58:09.813Z"
   },
   {
    "duration": 58,
    "start_time": "2021-09-18T15:58:09.879Z"
   },
   {
    "duration": 11,
    "start_time": "2021-09-18T15:59:15.587Z"
   },
   {
    "duration": 12,
    "start_time": "2021-09-18T15:59:32.494Z"
   },
   {
    "duration": 19,
    "start_time": "2021-09-18T16:00:54.688Z"
   },
   {
    "duration": 18,
    "start_time": "2021-09-18T16:01:15.575Z"
   },
   {
    "duration": 27,
    "start_time": "2021-09-18T16:01:49.892Z"
   },
   {
    "duration": -3648673,
    "start_time": "2021-09-18T17:03:01.082Z"
   },
   {
    "duration": -3648675,
    "start_time": "2021-09-18T17:03:01.085Z"
   },
   {
    "duration": -3648684,
    "start_time": "2021-09-18T17:03:01.096Z"
   },
   {
    "duration": -3648694,
    "start_time": "2021-09-18T17:03:01.107Z"
   },
   {
    "duration": -3648696,
    "start_time": "2021-09-18T17:03:01.111Z"
   },
   {
    "duration": -3648697,
    "start_time": "2021-09-18T17:03:01.114Z"
   },
   {
    "duration": -3648700,
    "start_time": "2021-09-18T17:03:01.118Z"
   },
   {
    "duration": -3648701,
    "start_time": "2021-09-18T17:03:01.121Z"
   },
   {
    "duration": -3648703,
    "start_time": "2021-09-18T17:03:01.124Z"
   },
   {
    "duration": -3648705,
    "start_time": "2021-09-18T17:03:01.127Z"
   },
   {
    "duration": -3648708,
    "start_time": "2021-09-18T17:03:01.132Z"
   },
   {
    "duration": -3648710,
    "start_time": "2021-09-18T17:03:01.135Z"
   },
   {
    "duration": -3648712,
    "start_time": "2021-09-18T17:03:01.139Z"
   },
   {
    "duration": -3648714,
    "start_time": "2021-09-18T17:03:01.142Z"
   },
   {
    "duration": -3648716,
    "start_time": "2021-09-18T17:03:01.145Z"
   },
   {
    "duration": -3648718,
    "start_time": "2021-09-18T17:03:01.148Z"
   },
   {
    "duration": 3,
    "start_time": "2021-09-18T16:02:15.928Z"
   },
   {
    "duration": 518,
    "start_time": "2021-09-18T16:02:15.934Z"
   },
   {
    "duration": 4,
    "start_time": "2021-09-18T16:02:16.455Z"
   },
   {
    "duration": 26,
    "start_time": "2021-09-18T16:02:16.462Z"
   },
   {
    "duration": 188,
    "start_time": "2021-09-18T16:02:16.491Z"
   },
   {
    "duration": 111,
    "start_time": "2021-09-18T16:02:16.682Z"
   },
   {
    "duration": 9,
    "start_time": "2021-09-18T16:02:16.796Z"
   },
   {
    "duration": 16,
    "start_time": "2021-09-18T16:02:16.808Z"
   },
   {
    "duration": 49,
    "start_time": "2021-09-18T16:02:16.827Z"
   },
   {
    "duration": 21,
    "start_time": "2021-09-18T16:02:16.878Z"
   },
   {
    "duration": 15,
    "start_time": "2021-09-18T16:02:16.902Z"
   },
   {
    "duration": 7,
    "start_time": "2021-09-18T16:02:16.920Z"
   },
   {
    "duration": 38,
    "start_time": "2021-09-18T16:02:16.929Z"
   },
   {
    "duration": 44,
    "start_time": "2021-09-18T16:02:16.969Z"
   },
   {
    "duration": 23,
    "start_time": "2021-09-18T16:02:17.016Z"
   },
   {
    "duration": 40,
    "start_time": "2021-09-18T16:02:17.042Z"
   },
   {
    "duration": 4,
    "start_time": "2021-09-18T16:02:50.224Z"
   },
   {
    "duration": 508,
    "start_time": "2021-09-18T16:02:50.231Z"
   },
   {
    "duration": 3,
    "start_time": "2021-09-18T16:02:50.742Z"
   },
   {
    "duration": 12,
    "start_time": "2021-09-18T16:02:50.747Z"
   },
   {
    "duration": 174,
    "start_time": "2021-09-18T16:02:50.762Z"
   },
   {
    "duration": 102,
    "start_time": "2021-09-18T16:02:50.939Z"
   },
   {
    "duration": 8,
    "start_time": "2021-09-18T16:02:51.044Z"
   },
   {
    "duration": 9,
    "start_time": "2021-09-18T16:02:51.067Z"
   },
   {
    "duration": 42,
    "start_time": "2021-09-18T16:02:51.079Z"
   },
   {
    "duration": 43,
    "start_time": "2021-09-18T16:02:51.124Z"
   },
   {
    "duration": 18,
    "start_time": "2021-09-18T16:02:51.170Z"
   },
   {
    "duration": 7,
    "start_time": "2021-09-18T16:02:51.191Z"
   },
   {
    "duration": 11,
    "start_time": "2021-09-18T16:02:51.201Z"
   },
   {
    "duration": 60,
    "start_time": "2021-09-18T16:02:51.214Z"
   },
   {
    "duration": 58,
    "start_time": "2021-09-18T16:02:51.277Z"
   },
   {
    "duration": 47,
    "start_time": "2021-09-18T16:02:51.338Z"
   },
   {
    "duration": 3,
    "start_time": "2021-09-18T16:02:58.897Z"
   },
   {
    "duration": 499,
    "start_time": "2021-09-18T16:02:58.903Z"
   },
   {
    "duration": 3,
    "start_time": "2021-09-18T16:02:59.405Z"
   },
   {
    "duration": 13,
    "start_time": "2021-09-18T16:02:59.411Z"
   },
   {
    "duration": 182,
    "start_time": "2021-09-18T16:02:59.426Z"
   },
   {
    "duration": 107,
    "start_time": "2021-09-18T16:02:59.611Z"
   },
   {
    "duration": 8,
    "start_time": "2021-09-18T16:02:59.721Z"
   },
   {
    "duration": 14,
    "start_time": "2021-09-18T16:02:59.733Z"
   },
   {
    "duration": 46,
    "start_time": "2021-09-18T16:02:59.750Z"
   },
   {
    "duration": 22,
    "start_time": "2021-09-18T16:02:59.799Z"
   },
   {
    "duration": 44,
    "start_time": "2021-09-18T16:02:59.823Z"
   },
   {
    "duration": 7,
    "start_time": "2021-09-18T16:02:59.870Z"
   },
   {
    "duration": 10,
    "start_time": "2021-09-18T16:02:59.880Z"
   },
   {
    "duration": 38,
    "start_time": "2021-09-18T16:02:59.893Z"
   },
   {
    "duration": 74,
    "start_time": "2021-09-18T16:02:59.934Z"
   },
   {
    "duration": 24,
    "start_time": "2021-09-18T16:03:00.010Z"
   },
   {
    "duration": 3,
    "start_time": "2021-09-18T16:03:34.481Z"
   },
   {
    "duration": 527,
    "start_time": "2021-09-18T16:03:34.487Z"
   },
   {
    "duration": 3,
    "start_time": "2021-09-18T16:03:35.017Z"
   },
   {
    "duration": 18,
    "start_time": "2021-09-18T16:03:35.023Z"
   },
   {
    "duration": 187,
    "start_time": "2021-09-18T16:03:35.043Z"
   },
   {
    "duration": 106,
    "start_time": "2021-09-18T16:03:35.233Z"
   },
   {
    "duration": 11,
    "start_time": "2021-09-18T16:03:35.344Z"
   },
   {
    "duration": 31,
    "start_time": "2021-09-18T16:03:35.357Z"
   },
   {
    "duration": 49,
    "start_time": "2021-09-18T16:03:35.390Z"
   },
   {
    "duration": 21,
    "start_time": "2021-09-18T16:03:35.441Z"
   },
   {
    "duration": 21,
    "start_time": "2021-09-18T16:03:35.465Z"
   },
   {
    "duration": 8,
    "start_time": "2021-09-18T16:03:35.489Z"
   },
   {
    "duration": 38,
    "start_time": "2021-09-18T16:03:35.499Z"
   },
   {
    "duration": 71,
    "start_time": "2021-09-18T16:03:35.539Z"
   },
   {
    "duration": 56,
    "start_time": "2021-09-18T16:03:35.613Z"
   },
   {
    "duration": 27,
    "start_time": "2021-09-18T16:03:35.671Z"
   },
   {
    "duration": 4,
    "start_time": "2021-09-18T16:06:07.295Z"
   },
   {
    "duration": 512,
    "start_time": "2021-09-18T16:06:07.302Z"
   },
   {
    "duration": 2,
    "start_time": "2021-09-18T16:06:07.817Z"
   },
   {
    "duration": 10,
    "start_time": "2021-09-18T16:06:07.822Z"
   },
   {
    "duration": 179,
    "start_time": "2021-09-18T16:06:07.834Z"
   },
   {
    "duration": 105,
    "start_time": "2021-09-18T16:06:08.015Z"
   },
   {
    "duration": 9,
    "start_time": "2021-09-18T16:06:08.125Z"
   },
   {
    "duration": 28,
    "start_time": "2021-09-18T16:06:08.138Z"
   },
   {
    "duration": 40,
    "start_time": "2021-09-18T16:06:08.169Z"
   },
   {
    "duration": 24,
    "start_time": "2021-09-18T16:06:08.212Z"
   },
   {
    "duration": 44,
    "start_time": "2021-09-18T16:06:08.238Z"
   },
   {
    "duration": 9,
    "start_time": "2021-09-18T16:06:08.285Z"
   },
   {
    "duration": 8,
    "start_time": "2021-09-18T16:06:08.297Z"
   },
   {
    "duration": 81,
    "start_time": "2021-09-18T16:06:08.308Z"
   },
   {
    "duration": 50,
    "start_time": "2021-09-18T16:06:08.391Z"
   },
   {
    "duration": 43,
    "start_time": "2021-09-18T16:06:08.443Z"
   },
   {
    "duration": 4,
    "start_time": "2021-09-18T16:09:06.812Z"
   },
   {
    "duration": 506,
    "start_time": "2021-09-18T16:09:06.818Z"
   },
   {
    "duration": 2,
    "start_time": "2021-09-18T16:09:07.327Z"
   },
   {
    "duration": 11,
    "start_time": "2021-09-18T16:09:07.332Z"
   },
   {
    "duration": 177,
    "start_time": "2021-09-18T16:09:07.345Z"
   },
   {
    "duration": 105,
    "start_time": "2021-09-18T16:09:07.524Z"
   },
   {
    "duration": 9,
    "start_time": "2021-09-18T16:09:07.632Z"
   },
   {
    "duration": 24,
    "start_time": "2021-09-18T16:09:07.643Z"
   },
   {
    "duration": 35,
    "start_time": "2021-09-18T16:09:07.669Z"
   },
   {
    "duration": 20,
    "start_time": "2021-09-18T16:09:07.706Z"
   },
   {
    "duration": 44,
    "start_time": "2021-09-18T16:09:07.729Z"
   },
   {
    "duration": 7,
    "start_time": "2021-09-18T16:09:07.776Z"
   },
   {
    "duration": 18,
    "start_time": "2021-09-18T16:09:07.785Z"
   },
   {
    "duration": 11,
    "start_time": "2021-09-18T16:09:07.806Z"
   },
   {
    "duration": 50,
    "start_time": "2021-09-18T16:09:07.820Z"
   },
   {
    "duration": 50,
    "start_time": "2021-09-18T16:09:07.873Z"
   },
   {
    "duration": 52,
    "start_time": "2021-09-18T16:09:07.926Z"
   },
   {
    "duration": 3,
    "start_time": "2021-09-18T16:09:24.303Z"
   },
   {
    "duration": 517,
    "start_time": "2021-09-18T16:09:24.311Z"
   },
   {
    "duration": 2,
    "start_time": "2021-09-18T16:09:24.831Z"
   },
   {
    "duration": 24,
    "start_time": "2021-09-18T16:09:24.837Z"
   },
   {
    "duration": 181,
    "start_time": "2021-09-18T16:09:24.864Z"
   },
   {
    "duration": 97,
    "start_time": "2021-09-18T16:09:25.050Z"
   },
   {
    "duration": 9,
    "start_time": "2021-09-18T16:09:25.150Z"
   },
   {
    "duration": 8,
    "start_time": "2021-09-18T16:09:25.168Z"
   },
   {
    "duration": 46,
    "start_time": "2021-09-18T16:09:25.179Z"
   },
   {
    "duration": 39,
    "start_time": "2021-09-18T16:09:25.229Z"
   },
   {
    "duration": 17,
    "start_time": "2021-09-18T16:09:25.271Z"
   },
   {
    "duration": 9,
    "start_time": "2021-09-18T16:09:25.290Z"
   },
   {
    "duration": 17,
    "start_time": "2021-09-18T16:09:25.301Z"
   },
   {
    "duration": 58,
    "start_time": "2021-09-18T16:09:25.321Z"
   },
   {
    "duration": 51,
    "start_time": "2021-09-18T16:09:25.382Z"
   },
   {
    "duration": 48,
    "start_time": "2021-09-18T16:09:25.435Z"
   },
   {
    "duration": 3,
    "start_time": "2021-09-18T16:12:22.606Z"
   },
   {
    "duration": 528,
    "start_time": "2021-09-18T16:12:22.617Z"
   },
   {
    "duration": 3,
    "start_time": "2021-09-18T16:12:23.147Z"
   },
   {
    "duration": 35,
    "start_time": "2021-09-18T16:12:23.153Z"
   },
   {
    "duration": 184,
    "start_time": "2021-09-18T16:12:23.191Z"
   },
   {
    "duration": 108,
    "start_time": "2021-09-18T16:12:23.378Z"
   },
   {
    "duration": 9,
    "start_time": "2021-09-18T16:12:23.488Z"
   },
   {
    "duration": 30,
    "start_time": "2021-09-18T16:12:23.499Z"
   },
   {
    "duration": 52,
    "start_time": "2021-09-18T16:12:23.532Z"
   },
   {
    "duration": 21,
    "start_time": "2021-09-18T16:12:23.588Z"
   },
   {
    "duration": 24,
    "start_time": "2021-09-18T16:12:23.612Z"
   },
   {
    "duration": 18,
    "start_time": "2021-09-18T16:12:23.638Z"
   },
   {
    "duration": 49,
    "start_time": "2021-09-18T16:12:23.658Z"
   },
   {
    "duration": 68,
    "start_time": "2021-09-18T16:12:23.709Z"
   },
   {
    "duration": 54,
    "start_time": "2021-09-18T16:12:23.780Z"
   },
   {
    "duration": 35,
    "start_time": "2021-09-18T16:12:23.837Z"
   },
   {
    "duration": 4,
    "start_time": "2021-09-18T16:17:11.525Z"
   },
   {
    "duration": 501,
    "start_time": "2021-09-18T16:17:11.531Z"
   },
   {
    "duration": 3,
    "start_time": "2021-09-18T16:17:12.035Z"
   },
   {
    "duration": 6,
    "start_time": "2021-09-18T16:17:12.041Z"
   },
   {
    "duration": 182,
    "start_time": "2021-09-18T16:17:12.049Z"
   },
   {
    "duration": 102,
    "start_time": "2021-09-18T16:17:12.234Z"
   },
   {
    "duration": 9,
    "start_time": "2021-09-18T16:17:12.339Z"
   },
   {
    "duration": 17,
    "start_time": "2021-09-18T16:17:12.350Z"
   },
   {
    "duration": 35,
    "start_time": "2021-09-18T16:17:12.370Z"
   },
   {
    "duration": 21,
    "start_time": "2021-09-18T16:17:12.408Z"
   },
   {
    "duration": 40,
    "start_time": "2021-09-18T16:17:12.431Z"
   },
   {
    "duration": 8,
    "start_time": "2021-09-18T16:17:12.473Z"
   },
   {
    "duration": 12,
    "start_time": "2021-09-18T16:17:12.484Z"
   },
   {
    "duration": 35,
    "start_time": "2021-09-18T16:17:12.498Z"
   },
   {
    "duration": 81,
    "start_time": "2021-09-18T16:17:12.535Z"
   },
   {
    "duration": 13,
    "start_time": "2021-09-18T16:17:12.618Z"
   },
   {
    "duration": 3,
    "start_time": "2021-09-18T16:17:49.307Z"
   },
   {
    "duration": 3,
    "start_time": "2021-09-18T16:17:59.999Z"
   },
   {
    "duration": 527,
    "start_time": "2021-09-18T16:18:00.005Z"
   },
   {
    "duration": 3,
    "start_time": "2021-09-18T16:18:00.535Z"
   },
   {
    "duration": 15,
    "start_time": "2021-09-18T16:18:00.541Z"
   },
   {
    "duration": 184,
    "start_time": "2021-09-18T16:18:00.558Z"
   },
   {
    "duration": 101,
    "start_time": "2021-09-18T16:18:00.744Z"
   },
   {
    "duration": 19,
    "start_time": "2021-09-18T16:18:00.849Z"
   },
   {
    "duration": 12,
    "start_time": "2021-09-18T16:18:00.871Z"
   },
   {
    "duration": 42,
    "start_time": "2021-09-18T16:18:00.886Z"
   },
   {
    "duration": 38,
    "start_time": "2021-09-18T16:18:00.931Z"
   },
   {
    "duration": 16,
    "start_time": "2021-09-18T16:18:00.972Z"
   },
   {
    "duration": 8,
    "start_time": "2021-09-18T16:18:00.991Z"
   },
   {
    "duration": 23,
    "start_time": "2021-09-18T16:18:01.002Z"
   },
   {
    "duration": 47,
    "start_time": "2021-09-18T16:18:01.028Z"
   },
   {
    "duration": 58,
    "start_time": "2021-09-18T16:18:01.078Z"
   },
   {
    "duration": 33,
    "start_time": "2021-09-18T16:18:01.139Z"
   },
   {
    "duration": 4,
    "start_time": "2021-09-18T16:20:05.723Z"
   },
   {
    "duration": 522,
    "start_time": "2021-09-18T16:20:05.729Z"
   },
   {
    "duration": 3,
    "start_time": "2021-09-18T16:20:06.254Z"
   },
   {
    "duration": 14,
    "start_time": "2021-09-18T16:20:06.260Z"
   },
   {
    "duration": 177,
    "start_time": "2021-09-18T16:20:06.276Z"
   },
   {
    "duration": 103,
    "start_time": "2021-09-18T16:20:06.456Z"
   },
   {
    "duration": 10,
    "start_time": "2021-09-18T16:20:06.567Z"
   },
   {
    "duration": 14,
    "start_time": "2021-09-18T16:20:06.580Z"
   },
   {
    "duration": 49,
    "start_time": "2021-09-18T16:20:06.596Z"
   },
   {
    "duration": 32,
    "start_time": "2021-09-18T16:20:06.648Z"
   },
   {
    "duration": 19,
    "start_time": "2021-09-18T16:20:06.683Z"
   },
   {
    "duration": 10,
    "start_time": "2021-09-18T16:20:06.704Z"
   },
   {
    "duration": 9,
    "start_time": "2021-09-18T16:20:06.717Z"
   },
   {
    "duration": 73,
    "start_time": "2021-09-18T16:20:06.729Z"
   },
   {
    "duration": 76,
    "start_time": "2021-09-18T16:20:06.805Z"
   },
   {
    "duration": 12,
    "start_time": "2021-09-18T16:20:06.883Z"
   },
   {
    "duration": 4,
    "start_time": "2021-09-18T16:20:19.683Z"
   },
   {
    "duration": 530,
    "start_time": "2021-09-18T16:20:19.690Z"
   },
   {
    "duration": 3,
    "start_time": "2021-09-18T16:20:20.223Z"
   },
   {
    "duration": 17,
    "start_time": "2021-09-18T16:20:20.229Z"
   },
   {
    "duration": 191,
    "start_time": "2021-09-18T16:20:20.248Z"
   },
   {
    "duration": 101,
    "start_time": "2021-09-18T16:20:20.441Z"
   },
   {
    "duration": 10,
    "start_time": "2021-09-18T16:20:20.544Z"
   },
   {
    "duration": 7,
    "start_time": "2021-09-18T16:20:20.568Z"
   },
   {
    "duration": 38,
    "start_time": "2021-09-18T16:20:20.577Z"
   },
   {
    "duration": 22,
    "start_time": "2021-09-18T16:20:20.617Z"
   },
   {
    "duration": 39,
    "start_time": "2021-09-18T16:20:20.642Z"
   },
   {
    "duration": 11,
    "start_time": "2021-09-18T16:20:20.683Z"
   },
   {
    "duration": 18,
    "start_time": "2021-09-18T16:20:20.697Z"
   },
   {
    "duration": 56,
    "start_time": "2021-09-18T16:20:20.717Z"
   },
   {
    "duration": 69,
    "start_time": "2021-09-18T16:20:20.776Z"
   },
   {
    "duration": 29,
    "start_time": "2021-09-18T16:20:20.848Z"
   },
   {
    "duration": 4,
    "start_time": "2021-09-18T16:21:24.445Z"
   },
   {
    "duration": 504,
    "start_time": "2021-09-18T16:21:24.451Z"
   },
   {
    "duration": 3,
    "start_time": "2021-09-18T16:21:24.957Z"
   },
   {
    "duration": 6,
    "start_time": "2021-09-18T16:21:24.963Z"
   },
   {
    "duration": 180,
    "start_time": "2021-09-18T16:21:24.971Z"
   },
   {
    "duration": 114,
    "start_time": "2021-09-18T16:21:25.153Z"
   },
   {
    "duration": 8,
    "start_time": "2021-09-18T16:21:25.270Z"
   },
   {
    "duration": 10,
    "start_time": "2021-09-18T16:21:25.282Z"
   },
   {
    "duration": 49,
    "start_time": "2021-09-18T16:21:25.294Z"
   },
   {
    "duration": 39,
    "start_time": "2021-09-18T16:21:25.345Z"
   },
   {
    "duration": 17,
    "start_time": "2021-09-18T16:21:25.386Z"
   },
   {
    "duration": 7,
    "start_time": "2021-09-18T16:21:25.405Z"
   },
   {
    "duration": 11,
    "start_time": "2021-09-18T16:21:25.414Z"
   },
   {
    "duration": 68,
    "start_time": "2021-09-18T16:21:25.428Z"
   },
   {
    "duration": 88,
    "start_time": "2021-09-18T16:21:25.498Z"
   },
   {
    "duration": 13,
    "start_time": "2021-09-18T16:21:25.588Z"
   },
   {
    "duration": 4,
    "start_time": "2021-09-18T16:24:49.743Z"
   },
   {
    "duration": 616,
    "start_time": "2021-09-18T16:24:49.751Z"
   },
   {
    "duration": 3,
    "start_time": "2021-09-18T16:24:50.370Z"
   },
   {
    "duration": 19,
    "start_time": "2021-09-18T16:24:50.375Z"
   },
   {
    "duration": 185,
    "start_time": "2021-09-18T16:24:50.396Z"
   },
   {
    "duration": 111,
    "start_time": "2021-09-18T16:24:50.583Z"
   },
   {
    "duration": 8,
    "start_time": "2021-09-18T16:24:50.696Z"
   },
   {
    "duration": 26,
    "start_time": "2021-09-18T16:24:50.708Z"
   },
   {
    "duration": 44,
    "start_time": "2021-09-18T16:24:50.737Z"
   },
   {
    "duration": 21,
    "start_time": "2021-09-18T16:24:50.784Z"
   },
   {
    "duration": 28,
    "start_time": "2021-09-18T16:24:50.807Z"
   },
   {
    "duration": 8,
    "start_time": "2021-09-18T16:24:50.838Z"
   },
   {
    "duration": 20,
    "start_time": "2021-09-18T16:24:50.849Z"
   },
   {
    "duration": 35,
    "start_time": "2021-09-18T16:24:50.872Z"
   },
   {
    "duration": 97,
    "start_time": "2021-09-18T16:24:50.909Z"
   },
   {
    "duration": 13,
    "start_time": "2021-09-18T16:24:51.008Z"
   },
   {
    "duration": 4,
    "start_time": "2021-09-18T16:27:34.490Z"
   },
   {
    "duration": 504,
    "start_time": "2021-09-18T16:27:34.496Z"
   },
   {
    "duration": 89,
    "start_time": "2021-09-18T16:27:35.003Z"
   },
   {
    "duration": -3648657,
    "start_time": "2021-09-18T17:28:23.753Z"
   },
   {
    "duration": -3648660,
    "start_time": "2021-09-18T17:28:23.757Z"
   },
   {
    "duration": -3648714,
    "start_time": "2021-09-18T17:28:23.812Z"
   },
   {
    "duration": -3648716,
    "start_time": "2021-09-18T17:28:23.816Z"
   },
   {
    "duration": -3648721,
    "start_time": "2021-09-18T17:28:23.822Z"
   },
   {
    "duration": -3648722,
    "start_time": "2021-09-18T17:28:23.824Z"
   },
   {
    "duration": -3648724,
    "start_time": "2021-09-18T17:28:23.828Z"
   },
   {
    "duration": -3648726,
    "start_time": "2021-09-18T17:28:23.831Z"
   },
   {
    "duration": -3648728,
    "start_time": "2021-09-18T17:28:23.834Z"
   },
   {
    "duration": -3648729,
    "start_time": "2021-09-18T17:28:23.837Z"
   },
   {
    "duration": -3648731,
    "start_time": "2021-09-18T17:28:23.840Z"
   },
   {
    "duration": -3648734,
    "start_time": "2021-09-18T17:28:23.844Z"
   },
   {
    "duration": -3648736,
    "start_time": "2021-09-18T17:28:23.848Z"
   },
   {
    "duration": -3648738,
    "start_time": "2021-09-18T17:28:23.851Z"
   },
   {
    "duration": 4,
    "start_time": "2021-09-18T16:27:44.106Z"
   },
   {
    "duration": 517,
    "start_time": "2021-09-18T16:27:44.112Z"
   },
   {
    "duration": 335,
    "start_time": "2021-09-18T16:27:44.632Z"
   },
   {
    "duration": 4,
    "start_time": "2021-09-18T16:27:44.969Z"
   },
   {
    "duration": 198,
    "start_time": "2021-09-18T16:27:44.975Z"
   },
   {
    "duration": 107,
    "start_time": "2021-09-18T16:27:45.175Z"
   },
   {
    "duration": 10,
    "start_time": "2021-09-18T16:27:45.285Z"
   },
   {
    "duration": 16,
    "start_time": "2021-09-18T16:27:45.298Z"
   },
   {
    "duration": 56,
    "start_time": "2021-09-18T16:27:45.317Z"
   },
   {
    "duration": 22,
    "start_time": "2021-09-18T16:27:45.375Z"
   },
   {
    "duration": 34,
    "start_time": "2021-09-18T16:27:45.400Z"
   },
   {
    "duration": 17,
    "start_time": "2021-09-18T16:27:45.437Z"
   },
   {
    "duration": 25,
    "start_time": "2021-09-18T16:27:45.456Z"
   },
   {
    "duration": 53,
    "start_time": "2021-09-18T16:27:45.484Z"
   },
   {
    "duration": 108,
    "start_time": "2021-09-18T16:27:45.540Z"
   },
   {
    "duration": 16,
    "start_time": "2021-09-18T16:27:45.650Z"
   },
   {
    "duration": 98,
    "start_time": "2021-09-18T16:27:45.669Z"
   },
   {
    "duration": 4,
    "start_time": "2021-09-18T16:49:33.010Z"
   },
   {
    "duration": 655,
    "start_time": "2021-09-18T16:49:33.016Z"
   },
   {
    "duration": 364,
    "start_time": "2021-09-18T16:49:33.673Z"
   },
   {
    "duration": 3,
    "start_time": "2021-09-18T16:49:34.039Z"
   },
   {
    "duration": 192,
    "start_time": "2021-09-18T16:49:34.044Z"
   },
   {
    "duration": 106,
    "start_time": "2021-09-18T16:49:34.238Z"
   },
   {
    "duration": 19,
    "start_time": "2021-09-18T16:49:34.348Z"
   },
   {
    "duration": 23,
    "start_time": "2021-09-18T16:49:34.370Z"
   },
   {
    "duration": 47,
    "start_time": "2021-09-18T16:49:34.396Z"
   },
   {
    "duration": 26,
    "start_time": "2021-09-18T16:49:34.445Z"
   },
   {
    "duration": 16,
    "start_time": "2021-09-18T16:49:34.474Z"
   },
   {
    "duration": 11,
    "start_time": "2021-09-18T16:49:34.493Z"
   },
   {
    "duration": 21,
    "start_time": "2021-09-18T16:49:34.507Z"
   },
   {
    "duration": 46,
    "start_time": "2021-09-18T16:49:34.530Z"
   },
   {
    "duration": 71,
    "start_time": "2021-09-18T16:49:34.579Z"
   },
   {
    "duration": 26,
    "start_time": "2021-09-18T16:49:34.652Z"
   },
   {
    "duration": 4,
    "start_time": "2021-09-18T16:52:49.015Z"
   },
   {
    "duration": 673,
    "start_time": "2021-09-18T16:52:49.022Z"
   },
   {
    "duration": 404,
    "start_time": "2021-09-18T16:52:49.698Z"
   },
   {
    "duration": 3,
    "start_time": "2021-09-18T16:52:50.105Z"
   },
   {
    "duration": 205,
    "start_time": "2021-09-18T16:52:50.110Z"
   },
   {
    "duration": 112,
    "start_time": "2021-09-18T16:52:50.318Z"
   },
   {
    "duration": 10,
    "start_time": "2021-09-18T16:52:50.435Z"
   },
   {
    "duration": 23,
    "start_time": "2021-09-18T16:52:50.448Z"
   },
   {
    "duration": 40,
    "start_time": "2021-09-18T16:52:50.474Z"
   },
   {
    "duration": 21,
    "start_time": "2021-09-18T16:52:50.517Z"
   },
   {
    "duration": 32,
    "start_time": "2021-09-18T16:52:50.540Z"
   },
   {
    "duration": 7,
    "start_time": "2021-09-18T16:52:50.575Z"
   },
   {
    "duration": 18,
    "start_time": "2021-09-18T16:52:50.584Z"
   },
   {
    "duration": 47,
    "start_time": "2021-09-18T16:52:50.605Z"
   },
   {
    "duration": 80,
    "start_time": "2021-09-18T16:52:50.655Z"
   },
   {
    "duration": 33,
    "start_time": "2021-09-18T16:52:50.737Z"
   },
   {
    "duration": 3,
    "start_time": "2021-09-18T16:53:40.552Z"
   },
   {
    "duration": 499,
    "start_time": "2021-09-18T16:53:40.558Z"
   },
   {
    "duration": 3,
    "start_time": "2021-09-18T16:53:41.060Z"
   },
   {
    "duration": 10,
    "start_time": "2021-09-18T16:53:41.066Z"
   },
   {
    "duration": 103,
    "start_time": "2021-09-18T16:53:41.078Z"
   },
   {
    "duration": 107,
    "start_time": "2021-09-18T16:53:41.184Z"
   },
   {
    "duration": 9,
    "start_time": "2021-09-18T16:53:41.294Z"
   },
   {
    "duration": 15,
    "start_time": "2021-09-18T16:53:41.306Z"
   },
   {
    "duration": 52,
    "start_time": "2021-09-18T16:53:41.324Z"
   },
   {
    "duration": 26,
    "start_time": "2021-09-18T16:53:41.378Z"
   },
   {
    "duration": 17,
    "start_time": "2021-09-18T16:53:41.406Z"
   },
   {
    "duration": 7,
    "start_time": "2021-09-18T16:53:41.426Z"
   },
   {
    "duration": 32,
    "start_time": "2021-09-18T16:53:41.436Z"
   },
   {
    "duration": 36,
    "start_time": "2021-09-18T16:53:41.470Z"
   },
   {
    "duration": 31,
    "start_time": "2021-09-18T16:53:41.508Z"
   },
   {
    "duration": 4,
    "start_time": "2021-09-18T16:54:29.098Z"
   },
   {
    "duration": 518,
    "start_time": "2021-09-18T16:54:29.105Z"
   },
   {
    "duration": 3,
    "start_time": "2021-09-18T16:54:29.626Z"
   },
   {
    "duration": 9,
    "start_time": "2021-09-18T16:54:29.632Z"
   },
   {
    "duration": 100,
    "start_time": "2021-09-18T16:54:29.643Z"
   },
   {
    "duration": 93,
    "start_time": "2021-09-18T16:54:29.745Z"
   },
   {
    "duration": 9,
    "start_time": "2021-09-18T16:54:29.840Z"
   },
   {
    "duration": 19,
    "start_time": "2021-09-18T16:54:29.852Z"
   },
   {
    "duration": 39,
    "start_time": "2021-09-18T16:54:29.874Z"
   },
   {
    "duration": 20,
    "start_time": "2021-09-18T16:54:29.916Z"
   },
   {
    "duration": 41,
    "start_time": "2021-09-18T16:54:29.939Z"
   },
   {
    "duration": 9,
    "start_time": "2021-09-18T16:54:29.983Z"
   },
   {
    "duration": 30,
    "start_time": "2021-09-18T16:54:29.994Z"
   },
   {
    "duration": 51,
    "start_time": "2021-09-18T16:54:30.026Z"
   },
   {
    "duration": 34,
    "start_time": "2021-09-18T16:54:30.079Z"
   },
   {
    "duration": 766,
    "start_time": "2021-09-19T09:33:48.668Z"
   },
   {
    "duration": 553,
    "start_time": "2021-09-19T09:33:49.437Z"
   },
   {
    "duration": 3,
    "start_time": "2021-09-19T09:33:49.994Z"
   },
   {
    "duration": 7,
    "start_time": "2021-09-19T09:33:50.001Z"
   },
   {
    "duration": 99,
    "start_time": "2021-09-19T09:33:50.011Z"
   },
   {
    "duration": 111,
    "start_time": "2021-09-19T09:33:50.113Z"
   },
   {
    "duration": 9,
    "start_time": "2021-09-19T09:33:50.226Z"
   },
   {
    "duration": 8,
    "start_time": "2021-09-19T09:33:50.240Z"
   },
   {
    "duration": 39,
    "start_time": "2021-09-19T09:33:50.251Z"
   },
   {
    "duration": 21,
    "start_time": "2021-09-19T09:33:50.317Z"
   },
   {
    "duration": 17,
    "start_time": "2021-09-19T09:33:50.340Z"
   },
   {
    "duration": 14,
    "start_time": "2021-09-19T09:33:50.360Z"
   },
   {
    "duration": 4,
    "start_time": "2021-09-19T09:33:50.377Z"
   },
   {
    "duration": 58,
    "start_time": "2021-09-19T09:33:50.384Z"
   },
   {
    "duration": 30,
    "start_time": "2021-09-19T09:33:50.444Z"
   },
   {
    "duration": 60,
    "start_time": "2021-09-19T09:33:50.476Z"
   },
   {
    "duration": 45,
    "start_time": "2021-09-19T09:34:45.433Z"
   },
   {
    "duration": 32,
    "start_time": "2021-09-19T09:34:51.625Z"
   },
   {
    "duration": 4,
    "start_time": "2021-09-19T09:35:10.239Z"
   },
   {
    "duration": 558,
    "start_time": "2021-09-19T09:35:10.246Z"
   },
   {
    "duration": 3,
    "start_time": "2021-09-19T09:35:10.808Z"
   },
   {
    "duration": 6,
    "start_time": "2021-09-19T09:35:10.814Z"
   },
   {
    "duration": 105,
    "start_time": "2021-09-19T09:35:10.823Z"
   },
   {
    "duration": 104,
    "start_time": "2021-09-19T09:35:10.930Z"
   },
   {
    "duration": 8,
    "start_time": "2021-09-19T09:35:11.037Z"
   },
   {
    "duration": 11,
    "start_time": "2021-09-19T09:35:11.048Z"
   },
   {
    "duration": 63,
    "start_time": "2021-09-19T09:35:11.061Z"
   },
   {
    "duration": 22,
    "start_time": "2021-09-19T09:35:11.126Z"
   },
   {
    "duration": 20,
    "start_time": "2021-09-19T09:35:11.151Z"
   },
   {
    "duration": 9,
    "start_time": "2021-09-19T09:35:11.173Z"
   },
   {
    "duration": 35,
    "start_time": "2021-09-19T09:35:11.185Z"
   },
   {
    "duration": 35,
    "start_time": "2021-09-19T09:35:11.223Z"
   },
   {
    "duration": 65,
    "start_time": "2021-09-19T09:35:11.261Z"
   },
   {
    "duration": 33,
    "start_time": "2021-09-19T09:35:11.329Z"
   },
   {
    "duration": 52,
    "start_time": "2021-09-19T09:35:22.626Z"
   },
   {
    "duration": 512,
    "start_time": "2021-09-19T09:43:18.610Z"
   },
   {
    "duration": 135,
    "start_time": "2021-09-19T09:43:29.342Z"
   },
   {
    "duration": 53,
    "start_time": "2021-09-19T09:44:53.973Z"
   },
   {
    "duration": 11,
    "start_time": "2021-09-19T09:45:52.000Z"
   },
   {
    "duration": 5,
    "start_time": "2021-09-19T09:45:55.093Z"
   },
   {
    "duration": 570,
    "start_time": "2021-09-19T09:45:55.101Z"
   },
   {
    "duration": 3,
    "start_time": "2021-09-19T09:45:55.674Z"
   },
   {
    "duration": 15,
    "start_time": "2021-09-19T09:45:55.680Z"
   },
   {
    "duration": 93,
    "start_time": "2021-09-19T09:45:55.697Z"
   },
   {
    "duration": 101,
    "start_time": "2021-09-19T09:45:55.792Z"
   },
   {
    "duration": 9,
    "start_time": "2021-09-19T09:45:55.895Z"
   },
   {
    "duration": 14,
    "start_time": "2021-09-19T09:45:55.907Z"
   },
   {
    "duration": 35,
    "start_time": "2021-09-19T09:45:55.925Z"
   },
   {
    "duration": 22,
    "start_time": "2021-09-19T09:45:55.963Z"
   },
   {
    "duration": 40,
    "start_time": "2021-09-19T09:45:55.988Z"
   },
   {
    "duration": 8,
    "start_time": "2021-09-19T09:45:56.030Z"
   },
   {
    "duration": 9,
    "start_time": "2021-09-19T09:45:56.040Z"
   },
   {
    "duration": 35,
    "start_time": "2021-09-19T09:45:56.051Z"
   },
   {
    "duration": 32,
    "start_time": "2021-09-19T09:45:56.117Z"
   },
   {
    "duration": 40,
    "start_time": "2021-09-19T09:45:56.151Z"
   },
   {
    "duration": 31,
    "start_time": "2021-09-19T09:45:56.194Z"
   },
   {
    "duration": 12,
    "start_time": "2021-09-19T09:46:06.028Z"
   },
   {
    "duration": 5,
    "start_time": "2021-09-19T09:46:10.467Z"
   },
   {
    "duration": 539,
    "start_time": "2021-09-19T09:46:10.475Z"
   },
   {
    "duration": 3,
    "start_time": "2021-09-19T09:46:11.017Z"
   },
   {
    "duration": 6,
    "start_time": "2021-09-19T09:46:11.023Z"
   },
   {
    "duration": 116,
    "start_time": "2021-09-19T09:46:11.032Z"
   },
   {
    "duration": 106,
    "start_time": "2021-09-19T09:46:11.151Z"
   },
   {
    "duration": 10,
    "start_time": "2021-09-19T09:46:11.260Z"
   },
   {
    "duration": 11,
    "start_time": "2021-09-19T09:46:11.273Z"
   },
   {
    "duration": 56,
    "start_time": "2021-09-19T09:46:11.286Z"
   },
   {
    "duration": 21,
    "start_time": "2021-09-19T09:46:11.345Z"
   },
   {
    "duration": 48,
    "start_time": "2021-09-19T09:46:11.368Z"
   },
   {
    "duration": 8,
    "start_time": "2021-09-19T09:46:11.418Z"
   },
   {
    "duration": 10,
    "start_time": "2021-09-19T09:46:11.429Z"
   },
   {
    "duration": 32,
    "start_time": "2021-09-19T09:46:11.442Z"
   },
   {
    "duration": 62,
    "start_time": "2021-09-19T09:46:11.477Z"
   },
   {
    "duration": 42,
    "start_time": "2021-09-19T09:46:11.542Z"
   },
   {
    "duration": 33,
    "start_time": "2021-09-19T09:46:11.587Z"
   },
   {
    "duration": 53,
    "start_time": "2021-09-19T09:46:23.667Z"
   },
   {
    "duration": 49,
    "start_time": "2021-09-19T09:46:40.554Z"
   },
   {
    "duration": 4,
    "start_time": "2021-09-19T10:02:46.103Z"
   },
   {
    "duration": 533,
    "start_time": "2021-09-19T10:02:46.110Z"
   },
   {
    "duration": 3,
    "start_time": "2021-09-19T10:02:46.645Z"
   },
   {
    "duration": 7,
    "start_time": "2021-09-19T10:02:46.651Z"
   },
   {
    "duration": 93,
    "start_time": "2021-09-19T10:02:46.660Z"
   },
   {
    "duration": 98,
    "start_time": "2021-09-19T10:02:46.756Z"
   },
   {
    "duration": 9,
    "start_time": "2021-09-19T10:02:46.857Z"
   },
   {
    "duration": 11,
    "start_time": "2021-09-19T10:02:46.869Z"
   },
   {
    "duration": 56,
    "start_time": "2021-09-19T10:02:46.883Z"
   },
   {
    "duration": 20,
    "start_time": "2021-09-19T10:02:46.942Z"
   },
   {
    "duration": 15,
    "start_time": "2021-09-19T10:02:46.965Z"
   },
   {
    "duration": 7,
    "start_time": "2021-09-19T10:02:46.983Z"
   },
   {
    "duration": 5,
    "start_time": "2021-09-19T10:02:47.016Z"
   },
   {
    "duration": 60,
    "start_time": "2021-09-19T10:02:47.024Z"
   },
   {
    "duration": 60,
    "start_time": "2021-09-19T10:02:47.087Z"
   },
   {
    "duration": 41,
    "start_time": "2021-09-19T10:02:47.150Z"
   },
   {
    "duration": 36,
    "start_time": "2021-09-19T10:02:47.193Z"
   },
   {
    "duration": 4,
    "start_time": "2021-09-19T10:03:02.502Z"
   },
   {
    "duration": 554,
    "start_time": "2021-09-19T10:03:02.508Z"
   },
   {
    "duration": 3,
    "start_time": "2021-09-19T10:03:03.065Z"
   },
   {
    "duration": 17,
    "start_time": "2021-09-19T10:03:03.071Z"
   },
   {
    "duration": 105,
    "start_time": "2021-09-19T10:03:03.090Z"
   },
   {
    "duration": 92,
    "start_time": "2021-09-19T10:03:03.197Z"
   },
   {
    "duration": 10,
    "start_time": "2021-09-19T10:03:03.291Z"
   },
   {
    "duration": 16,
    "start_time": "2021-09-19T10:03:03.304Z"
   },
   {
    "duration": 50,
    "start_time": "2021-09-19T10:03:03.323Z"
   },
   {
    "duration": 21,
    "start_time": "2021-09-19T10:03:03.375Z"
   },
   {
    "duration": 31,
    "start_time": "2021-09-19T10:03:03.398Z"
   },
   {
    "duration": 8,
    "start_time": "2021-09-19T10:03:03.432Z"
   },
   {
    "duration": 30,
    "start_time": "2021-09-19T10:03:03.443Z"
   },
   {
    "duration": 45,
    "start_time": "2021-09-19T10:03:03.475Z"
   },
   {
    "duration": 31,
    "start_time": "2021-09-19T10:03:03.523Z"
   },
   {
    "duration": 61,
    "start_time": "2021-09-19T10:03:03.557Z"
   },
   {
    "duration": 14,
    "start_time": "2021-09-19T10:03:03.620Z"
   },
   {
    "duration": 12,
    "start_time": "2021-09-19T10:03:12.690Z"
   },
   {
    "duration": 14,
    "start_time": "2021-09-19T10:03:24.018Z"
   },
   {
    "duration": 15,
    "start_time": "2021-09-19T10:06:32.466Z"
   },
   {
    "duration": 17,
    "start_time": "2021-09-19T10:06:50.857Z"
   },
   {
    "duration": 16,
    "start_time": "2021-09-19T10:07:10.786Z"
   },
   {
    "duration": 15,
    "start_time": "2021-09-19T10:07:22.371Z"
   },
   {
    "duration": 19,
    "start_time": "2021-09-19T10:07:51.772Z"
   },
   {
    "duration": 18,
    "start_time": "2021-09-19T10:08:56.584Z"
   },
   {
    "duration": 4,
    "start_time": "2021-09-19T10:26:40.302Z"
   },
   {
    "duration": 558,
    "start_time": "2021-09-19T10:26:40.308Z"
   },
   {
    "duration": 3,
    "start_time": "2021-09-19T10:26:40.869Z"
   },
   {
    "duration": 10,
    "start_time": "2021-09-19T10:26:40.874Z"
   },
   {
    "duration": 125,
    "start_time": "2021-09-19T10:26:40.886Z"
   },
   {
    "duration": 103,
    "start_time": "2021-09-19T10:26:41.015Z"
   },
   {
    "duration": 9,
    "start_time": "2021-09-19T10:26:41.121Z"
   },
   {
    "duration": 13,
    "start_time": "2021-09-19T10:26:41.133Z"
   },
   {
    "duration": 42,
    "start_time": "2021-09-19T10:26:41.148Z"
   },
   {
    "duration": 41,
    "start_time": "2021-09-19T10:26:41.192Z"
   },
   {
    "duration": 16,
    "start_time": "2021-09-19T10:26:41.236Z"
   },
   {
    "duration": 7,
    "start_time": "2021-09-19T10:26:41.255Z"
   },
   {
    "duration": 24,
    "start_time": "2021-09-19T10:26:41.264Z"
   },
   {
    "duration": 52,
    "start_time": "2021-09-19T10:26:41.291Z"
   },
   {
    "duration": 30,
    "start_time": "2021-09-19T10:26:41.345Z"
   },
   {
    "duration": 57,
    "start_time": "2021-09-19T10:26:41.377Z"
   },
   {
    "duration": 20,
    "start_time": "2021-09-19T10:26:41.437Z"
   },
   {
    "duration": 5,
    "start_time": "2021-09-19T10:27:08.053Z"
   },
   {
    "duration": 546,
    "start_time": "2021-09-19T10:27:08.061Z"
   },
   {
    "duration": 3,
    "start_time": "2021-09-19T10:27:08.611Z"
   },
   {
    "duration": 6,
    "start_time": "2021-09-19T10:27:08.618Z"
   },
   {
    "duration": 109,
    "start_time": "2021-09-19T10:27:08.627Z"
   },
   {
    "duration": 106,
    "start_time": "2021-09-19T10:27:08.739Z"
   },
   {
    "duration": 9,
    "start_time": "2021-09-19T10:27:08.849Z"
   },
   {
    "duration": 10,
    "start_time": "2021-09-19T10:27:08.860Z"
   },
   {
    "duration": 70,
    "start_time": "2021-09-19T10:27:08.872Z"
   },
   {
    "duration": 22,
    "start_time": "2021-09-19T10:27:08.945Z"
   },
   {
    "duration": 17,
    "start_time": "2021-09-19T10:27:08.969Z"
   },
   {
    "duration": 32,
    "start_time": "2021-09-19T10:27:08.988Z"
   },
   {
    "duration": 13,
    "start_time": "2021-09-19T10:27:09.023Z"
   },
   {
    "duration": 44,
    "start_time": "2021-09-19T10:27:09.039Z"
   },
   {
    "duration": 45,
    "start_time": "2021-09-19T10:27:09.085Z"
   },
   {
    "duration": 43,
    "start_time": "2021-09-19T10:27:09.133Z"
   },
   {
    "duration": 43,
    "start_time": "2021-09-19T10:27:09.179Z"
   },
   {
    "duration": 21,
    "start_time": "2021-09-19T10:30:10.179Z"
   },
   {
    "duration": 22,
    "start_time": "2021-09-19T10:30:21.547Z"
   },
   {
    "duration": 22,
    "start_time": "2021-09-19T10:31:07.556Z"
   },
   {
    "duration": 23,
    "start_time": "2021-09-19T10:31:46.829Z"
   },
   {
    "duration": 23,
    "start_time": "2021-09-19T10:31:57.197Z"
   },
   {
    "duration": 28,
    "start_time": "2021-09-19T10:35:41.310Z"
   },
   {
    "duration": 27,
    "start_time": "2021-09-19T10:36:46.424Z"
   },
   {
    "duration": 32,
    "start_time": "2021-09-19T10:39:36.856Z"
   },
   {
    "duration": 42,
    "start_time": "2021-09-19T10:41:58.777Z"
   },
   {
    "duration": 52,
    "start_time": "2021-09-19T10:42:10.021Z"
   },
   {
    "duration": 125,
    "start_time": "2021-09-19T10:44:42.553Z"
   },
   {
    "duration": 4,
    "start_time": "2021-09-19T10:45:04.107Z"
   },
   {
    "duration": 586,
    "start_time": "2021-09-19T10:45:04.114Z"
   },
   {
    "duration": 3,
    "start_time": "2021-09-19T10:45:04.704Z"
   },
   {
    "duration": 16,
    "start_time": "2021-09-19T10:45:04.709Z"
   },
   {
    "duration": 114,
    "start_time": "2021-09-19T10:45:04.728Z"
   },
   {
    "duration": 98,
    "start_time": "2021-09-19T10:45:04.844Z"
   },
   {
    "duration": 8,
    "start_time": "2021-09-19T10:45:04.946Z"
   },
   {
    "duration": 12,
    "start_time": "2021-09-19T10:45:04.957Z"
   },
   {
    "duration": 55,
    "start_time": "2021-09-19T10:45:04.972Z"
   },
   {
    "duration": 20,
    "start_time": "2021-09-19T10:45:05.030Z"
   },
   {
    "duration": 16,
    "start_time": "2021-09-19T10:45:05.053Z"
   },
   {
    "duration": 14,
    "start_time": "2021-09-19T10:45:05.071Z"
   },
   {
    "duration": 28,
    "start_time": "2021-09-19T10:45:05.088Z"
   },
   {
    "duration": 37,
    "start_time": "2021-09-19T10:45:05.119Z"
   },
   {
    "duration": 31,
    "start_time": "2021-09-19T10:45:05.158Z"
   },
   {
    "duration": 63,
    "start_time": "2021-09-19T10:45:05.192Z"
   },
   {
    "duration": 71,
    "start_time": "2021-09-19T10:45:05.258Z"
   },
   {
    "duration": 39,
    "start_time": "2021-09-19T10:46:41.854Z"
   },
   {
    "duration": 3,
    "start_time": "2021-09-19T10:53:01.861Z"
   },
   {
    "duration": 2506,
    "start_time": "2021-09-19T10:53:01.867Z"
   },
   {
    "duration": 3,
    "start_time": "2021-09-19T10:53:04.377Z"
   },
   {
    "duration": 8,
    "start_time": "2021-09-19T10:53:04.382Z"
   },
   {
    "duration": 94,
    "start_time": "2021-09-19T10:53:04.392Z"
   },
   {
    "duration": 102,
    "start_time": "2021-09-19T10:53:04.488Z"
   },
   {
    "duration": 8,
    "start_time": "2021-09-19T10:53:04.593Z"
   },
   {
    "duration": 22,
    "start_time": "2021-09-19T10:53:04.605Z"
   },
   {
    "duration": 47,
    "start_time": "2021-09-19T10:53:04.631Z"
   },
   {
    "duration": 36,
    "start_time": "2021-09-19T10:53:04.681Z"
   },
   {
    "duration": 18,
    "start_time": "2021-09-19T10:53:04.719Z"
   },
   {
    "duration": 7,
    "start_time": "2021-09-19T10:53:04.740Z"
   },
   {
    "duration": 34,
    "start_time": "2021-09-19T10:53:04.749Z"
   },
   {
    "duration": 47,
    "start_time": "2021-09-19T10:53:04.786Z"
   },
   {
    "duration": 31,
    "start_time": "2021-09-19T10:53:04.836Z"
   },
   {
    "duration": 66,
    "start_time": "2021-09-19T10:53:04.869Z"
   },
   {
    "duration": 35,
    "start_time": "2021-09-19T10:53:04.937Z"
   },
   {
    "duration": 33,
    "start_time": "2021-09-19T10:53:50.530Z"
   },
   {
    "duration": 32,
    "start_time": "2021-09-19T10:55:28.158Z"
   },
   {
    "duration": 32,
    "start_time": "2021-09-19T10:55:41.712Z"
   },
   {
    "duration": 416,
    "start_time": "2021-09-19T11:16:11.952Z"
   },
   {
    "duration": 9,
    "start_time": "2021-09-19T11:16:37.326Z"
   },
   {
    "duration": 8,
    "start_time": "2021-09-19T11:16:46.839Z"
   },
   {
    "duration": 376,
    "start_time": "2021-09-19T11:17:04.559Z"
   },
   {
    "duration": 4897,
    "start_time": "2021-09-19T11:17:27.162Z"
   },
   {
    "duration": 8568,
    "start_time": "2021-09-19T11:20:29.631Z"
   },
   {
    "duration": 4967,
    "start_time": "2021-09-19T11:21:04.687Z"
   },
   {
    "duration": 5018,
    "start_time": "2021-09-19T11:21:18.275Z"
   },
   {
    "duration": 4,
    "start_time": "2021-09-19T11:22:21.480Z"
   },
   {
    "duration": 727,
    "start_time": "2021-09-19T11:22:21.487Z"
   },
   {
    "duration": 3,
    "start_time": "2021-09-19T11:22:22.218Z"
   },
   {
    "duration": 6,
    "start_time": "2021-09-19T11:22:22.224Z"
   },
   {
    "duration": 110,
    "start_time": "2021-09-19T11:22:22.232Z"
   },
   {
    "duration": 99,
    "start_time": "2021-09-19T11:22:22.345Z"
   },
   {
    "duration": 9,
    "start_time": "2021-09-19T11:22:22.449Z"
   },
   {
    "duration": 10,
    "start_time": "2021-09-19T11:22:22.461Z"
   },
   {
    "duration": 62,
    "start_time": "2021-09-19T11:22:22.473Z"
   },
   {
    "duration": 22,
    "start_time": "2021-09-19T11:22:22.538Z"
   },
   {
    "duration": 17,
    "start_time": "2021-09-19T11:22:22.562Z"
   },
   {
    "duration": 8,
    "start_time": "2021-09-19T11:22:22.581Z"
   },
   {
    "duration": 5,
    "start_time": "2021-09-19T11:22:22.617Z"
   },
   {
    "duration": 38,
    "start_time": "2021-09-19T11:22:22.624Z"
   },
   {
    "duration": 31,
    "start_time": "2021-09-19T11:22:22.664Z"
   },
   {
    "duration": 41,
    "start_time": "2021-09-19T11:22:22.717Z"
   },
   {
    "duration": 497,
    "start_time": "2021-09-19T11:22:22.761Z"
   },
   {
    "duration": -3647890,
    "start_time": "2021-09-19T12:23:11.150Z"
   },
   {
    "duration": 5,
    "start_time": "2021-09-19T11:22:37.848Z"
   },
   {
    "duration": 576,
    "start_time": "2021-09-19T11:22:37.857Z"
   },
   {
    "duration": 3,
    "start_time": "2021-09-19T11:22:38.437Z"
   },
   {
    "duration": 10,
    "start_time": "2021-09-19T11:22:38.442Z"
   },
   {
    "duration": 108,
    "start_time": "2021-09-19T11:22:38.454Z"
   },
   {
    "duration": 105,
    "start_time": "2021-09-19T11:22:38.564Z"
   },
   {
    "duration": 9,
    "start_time": "2021-09-19T11:22:38.673Z"
   },
   {
    "duration": 13,
    "start_time": "2021-09-19T11:22:38.685Z"
   },
   {
    "duration": 51,
    "start_time": "2021-09-19T11:22:38.701Z"
   },
   {
    "duration": 25,
    "start_time": "2021-09-19T11:22:38.755Z"
   },
   {
    "duration": 41,
    "start_time": "2021-09-19T11:22:38.783Z"
   },
   {
    "duration": 7,
    "start_time": "2021-09-19T11:22:38.826Z"
   },
   {
    "duration": 13,
    "start_time": "2021-09-19T11:22:38.836Z"
   },
   {
    "duration": 64,
    "start_time": "2021-09-19T11:22:38.852Z"
   },
   {
    "duration": 32,
    "start_time": "2021-09-19T11:22:38.919Z"
   },
   {
    "duration": 64,
    "start_time": "2021-09-19T11:22:38.954Z"
   },
   {
    "duration": 38,
    "start_time": "2021-09-19T11:22:39.021Z"
   },
   {
    "duration": 4786,
    "start_time": "2021-09-19T11:22:39.062Z"
   },
   {
    "duration": 7514,
    "start_time": "2021-09-19T11:23:01.023Z"
   },
   {
    "duration": 5893,
    "start_time": "2021-09-19T11:23:37.437Z"
   },
   {
    "duration": 6034,
    "start_time": "2021-09-19T11:24:36.560Z"
   },
   {
    "duration": 4312,
    "start_time": "2021-09-19T11:24:52.762Z"
   },
   {
    "duration": 2510,
    "start_time": "2021-09-19T11:25:11.059Z"
   },
   {
    "duration": 1587,
    "start_time": "2021-09-19T11:25:47.202Z"
   },
   {
    "duration": 1254,
    "start_time": "2021-09-19T11:26:00.484Z"
   },
   {
    "duration": 591,
    "start_time": "2021-09-19T11:26:07.352Z"
   },
   {
    "duration": 1137,
    "start_time": "2021-09-19T11:26:20.318Z"
   },
   {
    "duration": 829,
    "start_time": "2021-09-19T11:26:32.618Z"
   },
   {
    "duration": 716,
    "start_time": "2021-09-19T11:26:37.549Z"
   },
   {
    "duration": 658,
    "start_time": "2021-09-19T11:26:43.929Z"
   },
   {
    "duration": 844,
    "start_time": "2021-09-19T11:29:00.118Z"
   },
   {
    "duration": 541,
    "start_time": "2021-09-19T11:29:00.965Z"
   },
   {
    "duration": 3,
    "start_time": "2021-09-19T11:29:01.510Z"
   },
   {
    "duration": 12,
    "start_time": "2021-09-19T11:29:01.516Z"
   },
   {
    "duration": 104,
    "start_time": "2021-09-19T11:29:01.531Z"
   },
   {
    "duration": 104,
    "start_time": "2021-09-19T11:29:01.638Z"
   },
   {
    "duration": 10,
    "start_time": "2021-09-19T11:29:01.744Z"
   },
   {
    "duration": 17,
    "start_time": "2021-09-19T11:29:01.760Z"
   },
   {
    "duration": 57,
    "start_time": "2021-09-19T11:29:01.780Z"
   },
   {
    "duration": 24,
    "start_time": "2021-09-19T11:29:01.839Z"
   },
   {
    "duration": 21,
    "start_time": "2021-09-19T11:29:01.866Z"
   },
   {
    "duration": 36,
    "start_time": "2021-09-19T11:29:01.890Z"
   },
   {
    "duration": 25,
    "start_time": "2021-09-19T11:29:01.929Z"
   },
   {
    "duration": 49,
    "start_time": "2021-09-19T11:29:01.957Z"
   },
   {
    "duration": 30,
    "start_time": "2021-09-19T11:29:02.009Z"
   },
   {
    "duration": 51,
    "start_time": "2021-09-19T11:29:02.042Z"
   },
   {
    "duration": 49,
    "start_time": "2021-09-19T11:29:02.095Z"
   },
   {
    "duration": 557,
    "start_time": "2021-09-19T11:29:02.146Z"
   },
   {
    "duration": 13,
    "start_time": "2021-09-19T11:29:02.707Z"
   },
   {
    "duration": 7,
    "start_time": "2021-09-19T11:29:15.058Z"
   },
   {
    "duration": 8,
    "start_time": "2021-09-19T11:29:17.346Z"
   },
   {
    "duration": 10,
    "start_time": "2021-09-19T11:29:23.541Z"
   },
   {
    "duration": 443,
    "start_time": "2021-09-19T11:33:23.318Z"
   },
   {
    "duration": 123,
    "start_time": "2021-09-19T12:02:16.336Z"
   },
   {
    "duration": 870,
    "start_time": "2021-09-19T12:02:16.462Z"
   },
   {
    "duration": 3,
    "start_time": "2021-09-19T12:02:17.336Z"
   },
   {
    "duration": 8,
    "start_time": "2021-09-19T12:02:17.343Z"
   },
   {
    "duration": 162,
    "start_time": "2021-09-19T12:02:17.354Z"
   },
   {
    "duration": 125,
    "start_time": "2021-09-19T12:02:17.519Z"
   },
   {
    "duration": 11,
    "start_time": "2021-09-19T12:02:17.648Z"
   },
   {
    "duration": 18,
    "start_time": "2021-09-19T12:02:17.663Z"
   },
   {
    "duration": 58,
    "start_time": "2021-09-19T12:02:17.684Z"
   },
   {
    "duration": 22,
    "start_time": "2021-09-19T12:02:17.744Z"
   },
   {
    "duration": 20,
    "start_time": "2021-09-19T12:02:17.769Z"
   },
   {
    "duration": 25,
    "start_time": "2021-09-19T12:02:17.791Z"
   },
   {
    "duration": 13,
    "start_time": "2021-09-19T12:02:17.819Z"
   },
   {
    "duration": 43,
    "start_time": "2021-09-19T12:02:17.835Z"
   },
   {
    "duration": 49,
    "start_time": "2021-09-19T12:02:17.880Z"
   },
   {
    "duration": 44,
    "start_time": "2021-09-19T12:02:17.931Z"
   },
   {
    "duration": 62,
    "start_time": "2021-09-19T12:02:17.978Z"
   },
   {
    "duration": 462,
    "start_time": "2021-09-19T12:02:18.042Z"
   },
   {
    "duration": 434,
    "start_time": "2021-09-19T12:02:18.507Z"
   },
   {
    "duration": 460,
    "start_time": "2021-09-19T12:03:48.118Z"
   },
   {
    "duration": 4,
    "start_time": "2021-09-19T12:03:51.383Z"
   },
   {
    "duration": 546,
    "start_time": "2021-09-19T12:03:51.390Z"
   },
   {
    "duration": 3,
    "start_time": "2021-09-19T12:03:51.939Z"
   },
   {
    "duration": 11,
    "start_time": "2021-09-19T12:03:51.944Z"
   },
   {
    "duration": 105,
    "start_time": "2021-09-19T12:03:51.957Z"
   },
   {
    "duration": 98,
    "start_time": "2021-09-19T12:03:52.064Z"
   },
   {
    "duration": 9,
    "start_time": "2021-09-19T12:03:52.164Z"
   },
   {
    "duration": 10,
    "start_time": "2021-09-19T12:03:52.176Z"
   },
   {
    "duration": 52,
    "start_time": "2021-09-19T12:03:52.189Z"
   },
   {
    "duration": 22,
    "start_time": "2021-09-19T12:03:52.244Z"
   },
   {
    "duration": 17,
    "start_time": "2021-09-19T12:03:52.269Z"
   },
   {
    "duration": 30,
    "start_time": "2021-09-19T12:03:52.289Z"
   },
   {
    "duration": 8,
    "start_time": "2021-09-19T12:03:52.322Z"
   },
   {
    "duration": 35,
    "start_time": "2021-09-19T12:03:52.332Z"
   },
   {
    "duration": 55,
    "start_time": "2021-09-19T12:03:52.370Z"
   },
   {
    "duration": 42,
    "start_time": "2021-09-19T12:03:52.428Z"
   },
   {
    "duration": 56,
    "start_time": "2021-09-19T12:03:52.472Z"
   },
   {
    "duration": 478,
    "start_time": "2021-09-19T12:03:52.530Z"
   },
   {
    "duration": 693,
    "start_time": "2021-09-19T12:06:18.492Z"
   },
   {
    "duration": 464,
    "start_time": "2021-09-19T12:09:19.273Z"
   },
   {
    "duration": 455,
    "start_time": "2021-09-19T12:09:50.514Z"
   },
   {
    "duration": 528,
    "start_time": "2021-09-19T12:09:57.520Z"
   },
   {
    "duration": 425,
    "start_time": "2021-09-19T12:10:27.736Z"
   },
   {
    "duration": 354,
    "start_time": "2021-09-19T12:11:37.778Z"
   },
   {
    "duration": 445,
    "start_time": "2021-09-19T12:11:45.474Z"
   },
   {
    "duration": 381,
    "start_time": "2021-09-19T12:12:10.364Z"
   },
   {
    "duration": 381,
    "start_time": "2021-09-19T12:12:22.620Z"
   },
   {
    "duration": 737,
    "start_time": "2021-09-19T12:14:04.279Z"
   },
   {
    "duration": 958,
    "start_time": "2021-09-19T12:14:13.968Z"
   },
   {
    "duration": 1023,
    "start_time": "2021-09-19T12:15:17.075Z"
   },
   {
    "duration": 1719,
    "start_time": "2021-09-19T12:15:29.108Z"
   },
   {
    "duration": 1380,
    "start_time": "2021-09-19T12:16:05.276Z"
   },
   {
    "duration": 758,
    "start_time": "2021-09-19T12:16:30.872Z"
   },
   {
    "duration": 779,
    "start_time": "2021-09-19T12:16:49.274Z"
   },
   {
    "duration": 507,
    "start_time": "2021-09-19T12:17:18.774Z"
   },
   {
    "duration": 798,
    "start_time": "2021-09-19T12:17:45.241Z"
   },
   {
    "duration": 804,
    "start_time": "2021-09-19T12:18:17.061Z"
   },
   {
    "duration": 515,
    "start_time": "2021-09-19T12:18:22.908Z"
   },
   {
    "duration": 520,
    "start_time": "2021-09-19T12:18:27.603Z"
   },
   {
    "duration": 531,
    "start_time": "2021-09-19T12:18:31.976Z"
   },
   {
    "duration": 506,
    "start_time": "2021-09-19T12:18:37.485Z"
   },
   {
    "duration": 540,
    "start_time": "2021-09-19T12:22:52.921Z"
   },
   {
    "duration": 137,
    "start_time": "2021-09-19T12:23:46.205Z"
   },
   {
    "duration": 466,
    "start_time": "2021-09-19T12:23:56.203Z"
   },
   {
    "duration": 1106,
    "start_time": "2021-09-19T12:24:50.817Z"
   },
   {
    "duration": 772,
    "start_time": "2021-09-19T12:25:05.078Z"
   },
   {
    "duration": 5,
    "start_time": "2021-09-19T12:26:06.637Z"
   },
   {
    "duration": 549,
    "start_time": "2021-09-19T12:26:06.644Z"
   },
   {
    "duration": 3,
    "start_time": "2021-09-19T12:26:07.196Z"
   },
   {
    "duration": 7,
    "start_time": "2021-09-19T12:26:07.202Z"
   },
   {
    "duration": 94,
    "start_time": "2021-09-19T12:26:07.212Z"
   },
   {
    "duration": 90,
    "start_time": "2021-09-19T12:26:07.309Z"
   },
   {
    "duration": 14,
    "start_time": "2021-09-19T12:26:07.403Z"
   },
   {
    "duration": 13,
    "start_time": "2021-09-19T12:26:07.420Z"
   },
   {
    "duration": 40,
    "start_time": "2021-09-19T12:26:07.436Z"
   },
   {
    "duration": 54,
    "start_time": "2021-09-19T12:26:07.478Z"
   },
   {
    "duration": 19,
    "start_time": "2021-09-19T12:26:07.535Z"
   },
   {
    "duration": 10,
    "start_time": "2021-09-19T12:26:07.556Z"
   },
   {
    "duration": 10,
    "start_time": "2021-09-19T12:26:07.568Z"
   },
   {
    "duration": 63,
    "start_time": "2021-09-19T12:26:07.580Z"
   },
   {
    "duration": 31,
    "start_time": "2021-09-19T12:26:07.645Z"
   },
   {
    "duration": 62,
    "start_time": "2021-09-19T12:26:07.678Z"
   },
   {
    "duration": 32,
    "start_time": "2021-09-19T12:26:07.742Z"
   },
   {
    "duration": 912,
    "start_time": "2021-09-19T12:26:07.777Z"
   },
   {
    "duration": 830,
    "start_time": "2021-09-19T12:28:15.403Z"
   },
   {
    "duration": 533,
    "start_time": "2021-09-19T12:28:23.956Z"
   },
   {
    "duration": 867,
    "start_time": "2021-09-19T12:28:42.056Z"
   },
   {
    "duration": 879,
    "start_time": "2021-09-19T12:28:52.370Z"
   },
   {
    "duration": 845,
    "start_time": "2021-09-19T12:29:03.330Z"
   },
   {
    "duration": 923,
    "start_time": "2021-09-19T12:29:07.931Z"
   },
   {
    "duration": 813,
    "start_time": "2021-09-19T12:29:13.408Z"
   },
   {
    "duration": 809,
    "start_time": "2021-09-19T12:29:26.558Z"
   },
   {
    "duration": 822,
    "start_time": "2021-09-19T12:29:30.988Z"
   },
   {
    "duration": 832,
    "start_time": "2021-09-19T12:29:35.805Z"
   },
   {
    "duration": 815,
    "start_time": "2021-09-19T12:29:40.457Z"
   },
   {
    "duration": 628,
    "start_time": "2021-09-19T12:29:47.825Z"
   },
   {
    "duration": 527,
    "start_time": "2021-09-19T12:30:02.254Z"
   },
   {
    "duration": 556,
    "start_time": "2021-09-19T12:30:12.235Z"
   },
   {
    "duration": 971,
    "start_time": "2021-09-19T12:30:17.751Z"
   },
   {
    "duration": 828,
    "start_time": "2021-09-19T12:31:06.044Z"
   },
   {
    "duration": 589,
    "start_time": "2021-09-19T12:31:16.419Z"
   },
   {
    "duration": 872,
    "start_time": "2021-09-19T12:33:47.883Z"
   },
   {
    "duration": 1148,
    "start_time": "2021-09-19T12:34:31.437Z"
   },
   {
    "duration": 1057,
    "start_time": "2021-09-19T12:34:45.409Z"
   },
   {
    "duration": 877,
    "start_time": "2021-09-19T12:34:54.791Z"
   },
   {
    "duration": 902,
    "start_time": "2021-09-19T12:35:00.671Z"
   },
   {
    "duration": 835,
    "start_time": "2021-09-19T12:35:05.363Z"
   },
   {
    "duration": 842,
    "start_time": "2021-09-19T12:35:09.923Z"
   },
   {
    "duration": 812,
    "start_time": "2021-09-19T12:35:16.079Z"
   },
   {
    "duration": 793,
    "start_time": "2021-09-19T12:35:20.482Z"
   },
   {
    "duration": 909,
    "start_time": "2021-09-19T12:35:39.953Z"
   },
   {
    "duration": 809,
    "start_time": "2021-09-19T12:35:45.044Z"
   },
   {
    "duration": 1439,
    "start_time": "2021-09-19T12:36:39.925Z"
   },
   {
    "duration": 1585,
    "start_time": "2021-09-19T12:36:45.835Z"
   },
   {
    "duration": 953,
    "start_time": "2021-09-19T12:36:52.407Z"
   },
   {
    "duration": 914,
    "start_time": "2021-09-19T12:36:57.621Z"
   },
   {
    "duration": 892,
    "start_time": "2021-09-19T12:37:03.229Z"
   },
   {
    "duration": 872,
    "start_time": "2021-09-19T12:37:14.298Z"
   },
   {
    "duration": 966,
    "start_time": "2021-09-19T12:37:19.104Z"
   },
   {
    "duration": 849,
    "start_time": "2021-09-19T12:37:23.490Z"
   },
   {
    "duration": 849,
    "start_time": "2021-09-19T12:37:28.970Z"
   },
   {
    "duration": 133,
    "start_time": "2021-09-19T12:38:14.732Z"
   },
   {
    "duration": 159,
    "start_time": "2021-09-19T12:38:32.262Z"
   },
   {
    "duration": 840,
    "start_time": "2021-09-19T12:38:39.679Z"
   },
   {
    "duration": 902,
    "start_time": "2021-09-19T12:39:02.123Z"
   },
   {
    "duration": 853,
    "start_time": "2021-09-19T12:39:11.356Z"
   },
   {
    "duration": 849,
    "start_time": "2021-09-19T12:39:15.792Z"
   },
   {
    "duration": 835,
    "start_time": "2021-09-19T12:39:20.572Z"
   },
   {
    "duration": 560,
    "start_time": "2021-09-19T12:39:50.431Z"
   },
   {
    "duration": 831,
    "start_time": "2021-09-19T12:41:56.714Z"
   },
   {
    "duration": 843,
    "start_time": "2021-09-19T12:42:32.838Z"
   },
   {
    "duration": 860,
    "start_time": "2021-09-19T12:42:46.527Z"
   },
   {
    "duration": 993,
    "start_time": "2021-09-19T12:43:37.235Z"
   },
   {
    "duration": 1523,
    "start_time": "2021-09-19T12:43:43.245Z"
   },
   {
    "duration": 856,
    "start_time": "2021-09-19T12:43:49.960Z"
   },
   {
    "duration": 806,
    "start_time": "2021-09-19T12:43:54.605Z"
   },
   {
    "duration": 763,
    "start_time": "2021-09-19T12:44:12.246Z"
   },
   {
    "duration": 796,
    "start_time": "2021-09-19T12:44:20.982Z"
   },
   {
    "duration": 821,
    "start_time": "2021-09-19T12:44:27.269Z"
   },
   {
    "duration": 887,
    "start_time": "2021-09-19T12:44:43.290Z"
   },
   {
    "duration": 876,
    "start_time": "2021-09-19T12:44:53.533Z"
   },
   {
    "duration": 900,
    "start_time": "2021-09-19T12:45:00.275Z"
   },
   {
    "duration": 915,
    "start_time": "2021-09-19T12:45:07.065Z"
   },
   {
    "duration": 948,
    "start_time": "2021-09-19T12:45:14.095Z"
   },
   {
    "duration": 989,
    "start_time": "2021-09-19T12:45:19.662Z"
   },
   {
    "duration": 894,
    "start_time": "2021-09-19T12:45:23.796Z"
   },
   {
    "duration": 879,
    "start_time": "2021-09-19T12:45:29.861Z"
   },
   {
    "duration": 4,
    "start_time": "2021-09-19T12:45:41.871Z"
   },
   {
    "duration": 553,
    "start_time": "2021-09-19T12:45:41.900Z"
   },
   {
    "duration": 4,
    "start_time": "2021-09-19T12:45:42.456Z"
   },
   {
    "duration": 5,
    "start_time": "2021-09-19T12:45:42.463Z"
   },
   {
    "duration": 92,
    "start_time": "2021-09-19T12:45:42.471Z"
   },
   {
    "duration": 103,
    "start_time": "2021-09-19T12:45:42.566Z"
   },
   {
    "duration": 9,
    "start_time": "2021-09-19T12:45:42.672Z"
   },
   {
    "duration": 12,
    "start_time": "2021-09-19T12:45:42.683Z"
   },
   {
    "duration": 48,
    "start_time": "2021-09-19T12:45:42.698Z"
   },
   {
    "duration": 21,
    "start_time": "2021-09-19T12:45:42.751Z"
   },
   {
    "duration": 41,
    "start_time": "2021-09-19T12:45:42.775Z"
   },
   {
    "duration": 8,
    "start_time": "2021-09-19T12:45:42.819Z"
   },
   {
    "duration": 7,
    "start_time": "2021-09-19T12:45:42.830Z"
   },
   {
    "duration": 38,
    "start_time": "2021-09-19T12:45:42.839Z"
   },
   {
    "duration": 55,
    "start_time": "2021-09-19T12:45:42.880Z"
   },
   {
    "duration": 42,
    "start_time": "2021-09-19T12:45:42.937Z"
   },
   {
    "duration": 54,
    "start_time": "2021-09-19T12:45:42.981Z"
   },
   {
    "duration": 551,
    "start_time": "2021-09-19T12:45:43.037Z"
   },
   {
    "duration": 553,
    "start_time": "2021-09-19T12:45:43.590Z"
   },
   {
    "duration": 904,
    "start_time": "2021-09-19T12:45:44.145Z"
   },
   {
    "duration": 502,
    "start_time": "2021-09-19T12:45:45.052Z"
   },
   {
    "duration": 1233,
    "start_time": "2021-09-19T12:45:49.477Z"
   },
   {
    "duration": 490,
    "start_time": "2021-09-19T12:45:54.681Z"
   },
   {
    "duration": 484,
    "start_time": "2021-09-19T12:46:00.205Z"
   },
   {
    "duration": 464,
    "start_time": "2021-09-19T12:46:06.058Z"
   },
   {
    "duration": 473,
    "start_time": "2021-09-19T12:46:10.924Z"
   },
   {
    "duration": 449,
    "start_time": "2021-09-19T12:46:14.961Z"
   },
   {
    "duration": 431,
    "start_time": "2021-09-19T12:46:20.421Z"
   },
   {
    "duration": 469,
    "start_time": "2021-09-19T12:46:36.870Z"
   },
   {
    "duration": 435,
    "start_time": "2021-09-19T12:46:41.123Z"
   },
   {
    "duration": 523,
    "start_time": "2021-09-19T12:46:44.927Z"
   },
   {
    "duration": 429,
    "start_time": "2021-09-19T12:46:49.355Z"
   },
   {
    "duration": 386,
    "start_time": "2021-09-19T12:46:53.041Z"
   },
   {
    "duration": 429,
    "start_time": "2021-09-19T12:47:00.139Z"
   },
   {
    "duration": 401,
    "start_time": "2021-09-19T12:47:05.945Z"
   },
   {
    "duration": 483,
    "start_time": "2021-09-19T12:47:09.833Z"
   },
   {
    "duration": 382,
    "start_time": "2021-09-19T12:47:13.969Z"
   },
   {
    "duration": 399,
    "start_time": "2021-09-19T12:47:17.394Z"
   },
   {
    "duration": 614,
    "start_time": "2021-09-19T12:47:21.278Z"
   },
   {
    "duration": 479,
    "start_time": "2021-09-19T12:47:26.107Z"
   },
   {
    "duration": 722,
    "start_time": "2021-09-19T12:47:30.329Z"
   },
   {
    "duration": 393,
    "start_time": "2021-09-19T12:47:33.688Z"
   },
   {
    "duration": 489,
    "start_time": "2021-09-19T12:47:37.236Z"
   },
   {
    "duration": 378,
    "start_time": "2021-09-19T12:47:40.993Z"
   },
   {
    "duration": 413,
    "start_time": "2021-09-19T12:47:44.523Z"
   },
   {
    "duration": 381,
    "start_time": "2021-09-19T12:47:52.138Z"
   },
   {
    "duration": 372,
    "start_time": "2021-09-19T12:47:55.947Z"
   },
   {
    "duration": 379,
    "start_time": "2021-09-19T12:48:00.226Z"
   },
   {
    "duration": 419,
    "start_time": "2021-09-19T12:48:04.185Z"
   },
   {
    "duration": 823,
    "start_time": "2021-09-19T12:48:12.600Z"
   },
   {
    "duration": 4,
    "start_time": "2021-09-19T12:48:44.459Z"
   },
   {
    "duration": 556,
    "start_time": "2021-09-19T12:48:44.465Z"
   },
   {
    "duration": 3,
    "start_time": "2021-09-19T12:48:45.024Z"
   },
   {
    "duration": 19,
    "start_time": "2021-09-19T12:48:45.029Z"
   },
   {
    "duration": 103,
    "start_time": "2021-09-19T12:48:45.050Z"
   },
   {
    "duration": 95,
    "start_time": "2021-09-19T12:48:45.156Z"
   },
   {
    "duration": 9,
    "start_time": "2021-09-19T12:48:45.253Z"
   },
   {
    "duration": 7,
    "start_time": "2021-09-19T12:48:45.266Z"
   },
   {
    "duration": 61,
    "start_time": "2021-09-19T12:48:45.276Z"
   },
   {
    "duration": 25,
    "start_time": "2021-09-19T12:48:45.339Z"
   },
   {
    "duration": 19,
    "start_time": "2021-09-19T12:48:45.367Z"
   },
   {
    "duration": 31,
    "start_time": "2021-09-19T12:48:45.389Z"
   },
   {
    "duration": 12,
    "start_time": "2021-09-19T12:48:45.422Z"
   },
   {
    "duration": 41,
    "start_time": "2021-09-19T12:48:45.436Z"
   },
   {
    "duration": 51,
    "start_time": "2021-09-19T12:48:45.479Z"
   },
   {
    "duration": 43,
    "start_time": "2021-09-19T12:48:45.533Z"
   },
   {
    "duration": 53,
    "start_time": "2021-09-19T12:48:45.579Z"
   },
   {
    "duration": 540,
    "start_time": "2021-09-19T12:48:45.635Z"
   },
   {
    "duration": 551,
    "start_time": "2021-09-19T12:48:46.178Z"
   },
   {
    "duration": 842,
    "start_time": "2021-09-19T12:48:46.732Z"
   },
   {
    "duration": 929,
    "start_time": "2021-09-19T12:48:53.337Z"
   },
   {
    "duration": 879,
    "start_time": "2021-09-19T12:49:06.801Z"
   },
   {
    "duration": 511,
    "start_time": "2021-09-19T12:49:14.529Z"
   },
   {
    "duration": 13,
    "start_time": "2021-09-19T13:33:30.893Z"
   },
   {
    "duration": 986,
    "start_time": "2021-09-20T14:36:29.387Z"
   },
   {
    "duration": 372,
    "start_time": "2021-09-20T14:36:30.375Z"
   },
   {
    "duration": 3,
    "start_time": "2021-09-20T14:36:30.749Z"
   },
   {
    "duration": 16,
    "start_time": "2021-09-20T14:36:30.754Z"
   },
   {
    "duration": 96,
    "start_time": "2021-09-20T14:36:30.772Z"
   },
   {
    "duration": 74,
    "start_time": "2021-09-20T14:36:30.870Z"
   },
   {
    "duration": 5,
    "start_time": "2021-09-20T14:36:30.946Z"
   },
   {
    "duration": 33,
    "start_time": "2021-09-20T14:36:30.953Z"
   },
   {
    "duration": 45,
    "start_time": "2021-09-20T14:36:30.988Z"
   },
   {
    "duration": 34,
    "start_time": "2021-09-20T14:36:31.035Z"
   },
   {
    "duration": 10,
    "start_time": "2021-09-20T14:36:31.071Z"
   },
   {
    "duration": 9,
    "start_time": "2021-09-20T14:36:31.083Z"
   },
   {
    "duration": 3,
    "start_time": "2021-09-20T14:36:31.094Z"
   },
   {
    "duration": 41,
    "start_time": "2021-09-20T14:36:31.099Z"
   },
   {
    "duration": 18,
    "start_time": "2021-09-20T14:36:31.141Z"
   },
   {
    "duration": 27,
    "start_time": "2021-09-20T14:36:31.160Z"
   },
   {
    "duration": 19,
    "start_time": "2021-09-20T14:36:31.189Z"
   },
   {
    "duration": 302,
    "start_time": "2021-09-20T14:36:31.209Z"
   },
   {
    "duration": 292,
    "start_time": "2021-09-20T14:36:31.513Z"
   },
   {
    "duration": 272,
    "start_time": "2021-09-20T14:36:31.807Z"
   },
   {
    "duration": 7,
    "start_time": "2021-09-20T14:36:32.081Z"
   },
   {
    "duration": 3,
    "start_time": "2021-09-20T14:46:03.812Z"
   },
   {
    "duration": 382,
    "start_time": "2021-09-20T14:46:03.817Z"
   },
   {
    "duration": 2,
    "start_time": "2021-09-20T14:46:04.201Z"
   },
   {
    "duration": 6,
    "start_time": "2021-09-20T14:46:04.205Z"
   },
   {
    "duration": 62,
    "start_time": "2021-09-20T14:46:04.213Z"
   },
   {
    "duration": 58,
    "start_time": "2021-09-20T14:46:04.276Z"
   },
   {
    "duration": 7,
    "start_time": "2021-09-20T14:46:04.337Z"
   },
   {
    "duration": 7,
    "start_time": "2021-09-20T14:46:04.346Z"
   },
   {
    "duration": 25,
    "start_time": "2021-09-20T14:46:04.355Z"
   },
   {
    "duration": 14,
    "start_time": "2021-09-20T14:46:04.382Z"
   },
   {
    "duration": 10,
    "start_time": "2021-09-20T14:46:04.398Z"
   },
   {
    "duration": 5,
    "start_time": "2021-09-20T14:46:04.409Z"
   },
   {
    "duration": 32,
    "start_time": "2021-09-20T14:46:04.415Z"
   },
   {
    "duration": 28,
    "start_time": "2021-09-20T14:46:04.448Z"
   },
   {
    "duration": 18,
    "start_time": "2021-09-20T14:46:04.478Z"
   },
   {
    "duration": 25,
    "start_time": "2021-09-20T14:46:04.497Z"
   },
   {
    "duration": 35,
    "start_time": "2021-09-20T14:46:04.523Z"
   },
   {
    "duration": 336,
    "start_time": "2021-09-20T14:46:04.560Z"
   },
   {
    "duration": 290,
    "start_time": "2021-09-20T14:46:04.899Z"
   },
   {
    "duration": 368,
    "start_time": "2021-09-20T14:46:05.191Z"
   },
   {
    "duration": 3,
    "start_time": "2021-09-20T14:54:35.691Z"
   },
   {
    "duration": 360,
    "start_time": "2021-09-20T14:54:35.695Z"
   },
   {
    "duration": 2,
    "start_time": "2021-09-20T14:54:36.057Z"
   },
   {
    "duration": 7,
    "start_time": "2021-09-20T14:54:36.061Z"
   },
   {
    "duration": 60,
    "start_time": "2021-09-20T14:54:36.069Z"
   },
   {
    "duration": 63,
    "start_time": "2021-09-20T14:54:36.130Z"
   },
   {
    "duration": 6,
    "start_time": "2021-09-20T14:54:36.195Z"
   },
   {
    "duration": 6,
    "start_time": "2021-09-20T14:54:36.203Z"
   },
   {
    "duration": 42,
    "start_time": "2021-09-20T14:54:36.211Z"
   },
   {
    "duration": 13,
    "start_time": "2021-09-20T14:54:36.255Z"
   },
   {
    "duration": 10,
    "start_time": "2021-09-20T14:54:36.269Z"
   },
   {
    "duration": 4,
    "start_time": "2021-09-20T14:54:36.280Z"
   },
   {
    "duration": 4,
    "start_time": "2021-09-20T14:54:36.286Z"
   },
   {
    "duration": 20,
    "start_time": "2021-09-20T14:54:36.292Z"
   },
   {
    "duration": 41,
    "start_time": "2021-09-20T14:54:36.313Z"
   },
   {
    "duration": 23,
    "start_time": "2021-09-20T14:54:36.355Z"
   },
   {
    "duration": 19,
    "start_time": "2021-09-20T14:54:36.379Z"
   },
   {
    "duration": 295,
    "start_time": "2021-09-20T14:54:36.400Z"
   },
   {
    "duration": 298,
    "start_time": "2021-09-20T14:54:36.697Z"
   },
   {
    "duration": 277,
    "start_time": "2021-09-20T14:54:36.997Z"
   },
   {
    "duration": 3,
    "start_time": "2021-09-20T14:55:04.938Z"
   },
   {
    "duration": 371,
    "start_time": "2021-09-20T14:55:04.943Z"
   },
   {
    "duration": 3,
    "start_time": "2021-09-20T14:55:05.316Z"
   },
   {
    "duration": 5,
    "start_time": "2021-09-20T14:55:05.321Z"
   },
   {
    "duration": 58,
    "start_time": "2021-09-20T14:55:05.328Z"
   },
   {
    "duration": 63,
    "start_time": "2021-09-20T14:55:05.388Z"
   },
   {
    "duration": 6,
    "start_time": "2021-09-20T14:55:05.453Z"
   },
   {
    "duration": 8,
    "start_time": "2021-09-20T14:55:05.460Z"
   },
   {
    "duration": 246,
    "start_time": "2021-09-20T14:55:05.470Z"
   },
   {
    "duration": 14,
    "start_time": "2021-09-20T14:55:05.718Z"
   },
   {
    "duration": 18,
    "start_time": "2021-09-20T14:55:05.733Z"
   },
   {
    "duration": 5,
    "start_time": "2021-09-20T14:55:05.753Z"
   },
   {
    "duration": 9,
    "start_time": "2021-09-20T14:55:05.759Z"
   },
   {
    "duration": 19,
    "start_time": "2021-09-20T14:55:05.769Z"
   },
   {
    "duration": 17,
    "start_time": "2021-09-20T14:55:05.790Z"
   },
   {
    "duration": 38,
    "start_time": "2021-09-20T14:55:05.808Z"
   },
   {
    "duration": 21,
    "start_time": "2021-09-20T14:55:05.848Z"
   },
   {
    "duration": 289,
    "start_time": "2021-09-20T14:55:05.871Z"
   },
   {
    "duration": 289,
    "start_time": "2021-09-20T14:55:06.162Z"
   },
   {
    "duration": 277,
    "start_time": "2021-09-20T14:55:06.452Z"
   },
   {
    "duration": 3,
    "start_time": "2021-09-20T14:55:24.234Z"
   },
   {
    "duration": 355,
    "start_time": "2021-09-20T14:55:24.238Z"
   },
   {
    "duration": 2,
    "start_time": "2021-09-20T14:55:24.595Z"
   },
   {
    "duration": 5,
    "start_time": "2021-09-20T14:55:24.599Z"
   },
   {
    "duration": 61,
    "start_time": "2021-09-20T14:55:24.605Z"
   },
   {
    "duration": 60,
    "start_time": "2021-09-20T14:55:24.668Z"
   },
   {
    "duration": 14,
    "start_time": "2021-09-20T14:55:24.731Z"
   },
   {
    "duration": 13,
    "start_time": "2021-09-20T14:55:24.746Z"
   },
   {
    "duration": 298,
    "start_time": "2021-09-20T14:55:24.761Z"
   },
   {
    "duration": 14,
    "start_time": "2021-09-20T14:55:25.061Z"
   },
   {
    "duration": 10,
    "start_time": "2021-09-20T14:55:25.077Z"
   },
   {
    "duration": 5,
    "start_time": "2021-09-20T14:55:25.089Z"
   },
   {
    "duration": 6,
    "start_time": "2021-09-20T14:55:25.095Z"
   },
   {
    "duration": 46,
    "start_time": "2021-09-20T14:55:25.102Z"
   },
   {
    "duration": 18,
    "start_time": "2021-09-20T14:55:25.149Z"
   },
   {
    "duration": 23,
    "start_time": "2021-09-20T14:55:25.169Z"
   },
   {
    "duration": 18,
    "start_time": "2021-09-20T14:55:25.193Z"
   },
   {
    "duration": 502,
    "start_time": "2021-09-20T14:55:25.213Z"
   },
   {
    "duration": 368,
    "start_time": "2021-09-20T14:55:25.717Z"
   },
   {
    "duration": 277,
    "start_time": "2021-09-20T14:55:26.088Z"
   },
   {
    "duration": 3,
    "start_time": "2021-09-20T14:55:35.337Z"
   },
   {
    "duration": 366,
    "start_time": "2021-09-20T14:55:35.343Z"
   },
   {
    "duration": 2,
    "start_time": "2021-09-20T14:55:35.710Z"
   },
   {
    "duration": 13,
    "start_time": "2021-09-20T14:55:35.714Z"
   },
   {
    "duration": 71,
    "start_time": "2021-09-20T14:55:35.729Z"
   },
   {
    "duration": 59,
    "start_time": "2021-09-20T14:55:35.802Z"
   },
   {
    "duration": 5,
    "start_time": "2021-09-20T14:55:35.863Z"
   },
   {
    "duration": 18,
    "start_time": "2021-09-20T14:55:35.869Z"
   },
   {
    "duration": 457,
    "start_time": "2021-09-20T14:55:35.889Z"
   },
   {
    "duration": 13,
    "start_time": "2021-09-20T14:55:36.348Z"
   },
   {
    "duration": 18,
    "start_time": "2021-09-20T14:55:36.363Z"
   },
   {
    "duration": 9,
    "start_time": "2021-09-20T14:55:36.383Z"
   },
   {
    "duration": 8,
    "start_time": "2021-09-20T14:55:36.394Z"
   },
   {
    "duration": 18,
    "start_time": "2021-09-20T14:55:36.444Z"
   },
   {
    "duration": 17,
    "start_time": "2021-09-20T14:55:36.464Z"
   },
   {
    "duration": 79,
    "start_time": "2021-09-20T14:55:36.482Z"
   },
   {
    "duration": 19,
    "start_time": "2021-09-20T14:55:36.562Z"
   },
   {
    "duration": 395,
    "start_time": "2021-09-20T14:55:36.583Z"
   },
   {
    "duration": 296,
    "start_time": "2021-09-20T14:55:36.980Z"
   },
   {
    "duration": 354,
    "start_time": "2021-09-20T14:55:37.277Z"
   },
   {
    "duration": 4,
    "start_time": "2021-09-20T14:57:34.696Z"
   },
   {
    "duration": 402,
    "start_time": "2021-09-20T14:57:34.702Z"
   },
   {
    "duration": 3,
    "start_time": "2021-09-20T14:57:35.107Z"
   },
   {
    "duration": 8,
    "start_time": "2021-09-20T14:57:35.112Z"
   },
   {
    "duration": 102,
    "start_time": "2021-09-20T14:57:35.122Z"
   },
   {
    "duration": 76,
    "start_time": "2021-09-20T14:57:35.226Z"
   },
   {
    "duration": 8,
    "start_time": "2021-09-20T14:57:35.303Z"
   },
   {
    "duration": 10,
    "start_time": "2021-09-20T14:57:35.314Z"
   },
   {
    "duration": 163,
    "start_time": "2021-09-20T14:57:35.326Z"
   },
   {
    "duration": 16,
    "start_time": "2021-09-20T14:57:35.491Z"
   },
   {
    "duration": 12,
    "start_time": "2021-09-20T14:57:35.509Z"
   },
   {
    "duration": 24,
    "start_time": "2021-09-20T14:57:35.523Z"
   },
   {
    "duration": 10,
    "start_time": "2021-09-20T14:57:35.549Z"
   },
   {
    "duration": 38,
    "start_time": "2021-09-20T14:57:35.561Z"
   },
   {
    "duration": 26,
    "start_time": "2021-09-20T14:57:35.601Z"
   },
   {
    "duration": 47,
    "start_time": "2021-09-20T14:57:35.629Z"
   },
   {
    "duration": 73,
    "start_time": "2021-09-20T14:57:35.678Z"
   },
   {
    "duration": 645,
    "start_time": "2021-09-20T14:57:35.753Z"
   },
   {
    "duration": 363,
    "start_time": "2021-09-20T14:57:36.400Z"
   },
   {
    "duration": 339,
    "start_time": "2021-09-20T14:57:36.765Z"
   },
   {
    "duration": 3,
    "start_time": "2021-09-20T15:10:55.075Z"
   },
   {
    "duration": 362,
    "start_time": "2021-09-20T15:10:55.080Z"
   },
   {
    "duration": 2,
    "start_time": "2021-09-20T15:10:55.444Z"
   },
   {
    "duration": 6,
    "start_time": "2021-09-20T15:10:55.447Z"
   },
   {
    "duration": 76,
    "start_time": "2021-09-20T15:10:55.455Z"
   },
   {
    "duration": 64,
    "start_time": "2021-09-20T15:10:55.532Z"
   },
   {
    "duration": 6,
    "start_time": "2021-09-20T15:10:55.598Z"
   },
   {
    "duration": 7,
    "start_time": "2021-09-20T15:10:55.606Z"
   },
   {
    "duration": 40,
    "start_time": "2021-09-20T15:10:55.614Z"
   },
   {
    "duration": 14,
    "start_time": "2021-09-20T15:10:55.656Z"
   },
   {
    "duration": 10,
    "start_time": "2021-09-20T15:10:55.672Z"
   },
   {
    "duration": 5,
    "start_time": "2021-09-20T15:10:55.684Z"
   },
   {
    "duration": 6,
    "start_time": "2021-09-20T15:10:55.690Z"
   },
   {
    "duration": 19,
    "start_time": "2021-09-20T15:10:55.698Z"
   },
   {
    "duration": 43,
    "start_time": "2021-09-20T15:10:55.718Z"
   },
   {
    "duration": 22,
    "start_time": "2021-09-20T15:10:55.763Z"
   },
   {
    "duration": 66,
    "start_time": "2021-09-20T15:10:55.787Z"
   },
   {
    "duration": 290,
    "start_time": "2021-09-20T15:10:55.854Z"
   },
   {
    "duration": 425,
    "start_time": "2021-09-20T15:10:56.147Z"
   },
   {
    "duration": 417,
    "start_time": "2021-09-20T15:10:56.573Z"
   },
   {
    "duration": 4,
    "start_time": "2021-09-20T15:11:39.316Z"
   },
   {
    "duration": 371,
    "start_time": "2021-09-20T15:11:39.322Z"
   },
   {
    "duration": 3,
    "start_time": "2021-09-20T15:11:39.695Z"
   },
   {
    "duration": 9,
    "start_time": "2021-09-20T15:11:39.700Z"
   },
   {
    "duration": 59,
    "start_time": "2021-09-20T15:11:39.711Z"
   },
   {
    "duration": 60,
    "start_time": "2021-09-20T15:11:39.772Z"
   },
   {
    "duration": 10,
    "start_time": "2021-09-20T15:11:39.835Z"
   },
   {
    "duration": 18,
    "start_time": "2021-09-20T15:11:39.848Z"
   },
   {
    "duration": 29,
    "start_time": "2021-09-20T15:11:39.868Z"
   },
   {
    "duration": 14,
    "start_time": "2021-09-20T15:11:39.898Z"
   },
   {
    "duration": 11,
    "start_time": "2021-09-20T15:11:39.914Z"
   },
   {
    "duration": 4,
    "start_time": "2021-09-20T15:11:39.927Z"
   },
   {
    "duration": 21,
    "start_time": "2021-09-20T15:11:39.933Z"
   },
   {
    "duration": 24,
    "start_time": "2021-09-20T15:11:39.956Z"
   },
   {
    "duration": 18,
    "start_time": "2021-09-20T15:11:39.982Z"
   },
   {
    "duration": 23,
    "start_time": "2021-09-20T15:11:40.001Z"
   },
   {
    "duration": 150,
    "start_time": "2021-09-20T15:11:40.025Z"
   },
   {
    "duration": 290,
    "start_time": "2021-09-20T15:11:40.177Z"
   },
   {
    "duration": 288,
    "start_time": "2021-09-20T15:11:40.469Z"
   },
   {
    "duration": 434,
    "start_time": "2021-09-20T15:11:40.758Z"
   },
   {
    "duration": 4,
    "start_time": "2021-09-20T15:13:31.607Z"
   },
   {
    "duration": 371,
    "start_time": "2021-09-20T15:13:31.613Z"
   },
   {
    "duration": 2,
    "start_time": "2021-09-20T15:13:31.986Z"
   },
   {
    "duration": 23,
    "start_time": "2021-09-20T15:13:31.990Z"
   },
   {
    "duration": 95,
    "start_time": "2021-09-20T15:13:32.015Z"
   },
   {
    "duration": 60,
    "start_time": "2021-09-20T15:13:32.111Z"
   },
   {
    "duration": 6,
    "start_time": "2021-09-20T15:13:32.173Z"
   },
   {
    "duration": 22,
    "start_time": "2021-09-20T15:13:32.181Z"
   },
   {
    "duration": 44,
    "start_time": "2021-09-20T15:13:32.205Z"
   },
   {
    "duration": 13,
    "start_time": "2021-09-20T15:13:32.251Z"
   },
   {
    "duration": 10,
    "start_time": "2021-09-20T15:13:32.265Z"
   },
   {
    "duration": 16,
    "start_time": "2021-09-20T15:13:32.276Z"
   },
   {
    "duration": 13,
    "start_time": "2021-09-20T15:13:32.293Z"
   },
   {
    "duration": 42,
    "start_time": "2021-09-20T15:13:32.307Z"
   },
   {
    "duration": 26,
    "start_time": "2021-09-20T15:13:32.350Z"
   },
   {
    "duration": 25,
    "start_time": "2021-09-20T15:13:32.377Z"
   },
   {
    "duration": 142,
    "start_time": "2021-09-20T15:13:32.403Z"
   },
   {
    "duration": 400,
    "start_time": "2021-09-20T15:13:32.547Z"
   },
   {
    "duration": 445,
    "start_time": "2021-09-20T15:13:32.949Z"
   },
   {
    "duration": 284,
    "start_time": "2021-09-20T15:13:33.396Z"
   },
   {
    "duration": 3,
    "start_time": "2021-09-20T15:14:40.462Z"
   },
   {
    "duration": 351,
    "start_time": "2021-09-20T15:14:40.467Z"
   },
   {
    "duration": 2,
    "start_time": "2021-09-20T15:14:40.820Z"
   },
   {
    "duration": 4,
    "start_time": "2021-09-20T15:14:40.824Z"
   },
   {
    "duration": 67,
    "start_time": "2021-09-20T15:14:40.830Z"
   },
   {
    "duration": 67,
    "start_time": "2021-09-20T15:14:40.898Z"
   },
   {
    "duration": 6,
    "start_time": "2021-09-20T15:14:40.967Z"
   },
   {
    "duration": 7,
    "start_time": "2021-09-20T15:14:40.975Z"
   },
   {
    "duration": 23,
    "start_time": "2021-09-20T15:14:40.984Z"
   },
   {
    "duration": 37,
    "start_time": "2021-09-20T15:14:41.009Z"
   },
   {
    "duration": 11,
    "start_time": "2021-09-20T15:14:41.047Z"
   },
   {
    "duration": 5,
    "start_time": "2021-09-20T15:14:41.059Z"
   },
   {
    "duration": 5,
    "start_time": "2021-09-20T15:14:41.065Z"
   },
   {
    "duration": 20,
    "start_time": "2021-09-20T15:14:41.072Z"
   },
   {
    "duration": 18,
    "start_time": "2021-09-20T15:14:41.093Z"
   },
   {
    "duration": 42,
    "start_time": "2021-09-20T15:14:41.112Z"
   },
   {
    "duration": 195,
    "start_time": "2021-09-20T15:14:41.156Z"
   },
   {
    "duration": 285,
    "start_time": "2021-09-20T15:14:41.353Z"
   },
   {
    "duration": 450,
    "start_time": "2021-09-20T15:14:41.641Z"
   },
   {
    "duration": 313,
    "start_time": "2021-09-20T15:14:42.092Z"
   },
   {
    "duration": 3,
    "start_time": "2021-09-20T15:15:14.599Z"
   },
   {
    "duration": 359,
    "start_time": "2021-09-20T15:15:14.604Z"
   },
   {
    "duration": 2,
    "start_time": "2021-09-20T15:15:14.964Z"
   },
   {
    "duration": 6,
    "start_time": "2021-09-20T15:15:14.968Z"
   },
   {
    "duration": 61,
    "start_time": "2021-09-20T15:15:14.975Z"
   },
   {
    "duration": 60,
    "start_time": "2021-09-20T15:15:15.038Z"
   },
   {
    "duration": 6,
    "start_time": "2021-09-20T15:15:15.099Z"
   },
   {
    "duration": 11,
    "start_time": "2021-09-20T15:15:15.106Z"
   },
   {
    "duration": 32,
    "start_time": "2021-09-20T15:15:15.118Z"
   },
   {
    "duration": 14,
    "start_time": "2021-09-20T15:15:15.152Z"
   },
   {
    "duration": 11,
    "start_time": "2021-09-20T15:15:15.168Z"
   },
   {
    "duration": 6,
    "start_time": "2021-09-20T15:15:15.181Z"
   },
   {
    "duration": 9,
    "start_time": "2021-09-20T15:15:15.188Z"
   },
   {
    "duration": 20,
    "start_time": "2021-09-20T15:15:15.198Z"
   },
   {
    "duration": 40,
    "start_time": "2021-09-20T15:15:15.219Z"
   },
   {
    "duration": 24,
    "start_time": "2021-09-20T15:15:15.260Z"
   },
   {
    "duration": 220,
    "start_time": "2021-09-20T15:15:15.286Z"
   },
   {
    "duration": 397,
    "start_time": "2021-09-20T15:15:15.508Z"
   },
   {
    "duration": 317,
    "start_time": "2021-09-20T15:15:15.907Z"
   },
   {
    "duration": 289,
    "start_time": "2021-09-20T15:15:16.226Z"
   },
   {
    "duration": 4,
    "start_time": "2021-09-20T15:15:42.022Z"
   },
   {
    "duration": 355,
    "start_time": "2021-09-20T15:15:42.028Z"
   },
   {
    "duration": 2,
    "start_time": "2021-09-20T15:15:42.385Z"
   },
   {
    "duration": 8,
    "start_time": "2021-09-20T15:15:42.388Z"
   },
   {
    "duration": 60,
    "start_time": "2021-09-20T15:15:42.397Z"
   },
   {
    "duration": 60,
    "start_time": "2021-09-20T15:15:42.459Z"
   },
   {
    "duration": 6,
    "start_time": "2021-09-20T15:15:42.520Z"
   },
   {
    "duration": 18,
    "start_time": "2021-09-20T15:15:42.528Z"
   },
   {
    "duration": 23,
    "start_time": "2021-09-20T15:15:42.547Z"
   },
   {
    "duration": 14,
    "start_time": "2021-09-20T15:15:42.572Z"
   },
   {
    "duration": 9,
    "start_time": "2021-09-20T15:15:42.588Z"
   },
   {
    "duration": 4,
    "start_time": "2021-09-20T15:15:42.599Z"
   },
   {
    "duration": 7,
    "start_time": "2021-09-20T15:15:42.605Z"
   },
   {
    "duration": 40,
    "start_time": "2021-09-20T15:15:42.613Z"
   },
   {
    "duration": 17,
    "start_time": "2021-09-20T15:15:42.655Z"
   },
   {
    "duration": 22,
    "start_time": "2021-09-20T15:15:42.674Z"
   },
   {
    "duration": 289,
    "start_time": "2021-09-20T15:15:42.697Z"
   },
   {
    "duration": 368,
    "start_time": "2021-09-20T15:15:42.988Z"
   },
   {
    "duration": 399,
    "start_time": "2021-09-20T15:15:43.357Z"
   },
   {
    "duration": 352,
    "start_time": "2021-09-20T15:15:43.758Z"
   },
   {
    "duration": 4,
    "start_time": "2021-09-20T15:16:18.138Z"
   },
   {
    "duration": 377,
    "start_time": "2021-09-20T15:16:18.144Z"
   },
   {
    "duration": 2,
    "start_time": "2021-09-20T15:16:18.523Z"
   },
   {
    "duration": 6,
    "start_time": "2021-09-20T15:16:18.527Z"
   },
   {
    "duration": 65,
    "start_time": "2021-09-20T15:16:18.535Z"
   },
   {
    "duration": 62,
    "start_time": "2021-09-20T15:16:18.601Z"
   },
   {
    "duration": 6,
    "start_time": "2021-09-20T15:16:18.664Z"
   },
   {
    "duration": 12,
    "start_time": "2021-09-20T15:16:18.672Z"
   },
   {
    "duration": 24,
    "start_time": "2021-09-20T15:16:18.686Z"
   },
   {
    "duration": 15,
    "start_time": "2021-09-20T15:16:18.712Z"
   },
   {
    "duration": 24,
    "start_time": "2021-09-20T15:16:18.729Z"
   },
   {
    "duration": 5,
    "start_time": "2021-09-20T15:16:18.755Z"
   },
   {
    "duration": 14,
    "start_time": "2021-09-20T15:16:18.761Z"
   },
   {
    "duration": 27,
    "start_time": "2021-09-20T15:16:18.776Z"
   },
   {
    "duration": 20,
    "start_time": "2021-09-20T15:16:18.805Z"
   },
   {
    "duration": 37,
    "start_time": "2021-09-20T15:16:18.827Z"
   },
   {
    "duration": 159,
    "start_time": "2021-09-20T15:16:18.865Z"
   },
   {
    "duration": 358,
    "start_time": "2021-09-20T15:16:19.026Z"
   },
   {
    "duration": 611,
    "start_time": "2021-09-20T15:16:19.387Z"
   },
   {
    "duration": 293,
    "start_time": "2021-09-20T15:16:20.000Z"
   },
   {
    "duration": 3,
    "start_time": "2021-09-20T15:17:00.398Z"
   },
   {
    "duration": 389,
    "start_time": "2021-09-20T15:17:00.403Z"
   },
   {
    "duration": 2,
    "start_time": "2021-09-20T15:17:00.794Z"
   },
   {
    "duration": 20,
    "start_time": "2021-09-20T15:17:00.797Z"
   },
   {
    "duration": 86,
    "start_time": "2021-09-20T15:17:00.819Z"
   },
   {
    "duration": 61,
    "start_time": "2021-09-20T15:17:00.907Z"
   },
   {
    "duration": 6,
    "start_time": "2021-09-20T15:17:00.970Z"
   },
   {
    "duration": 31,
    "start_time": "2021-09-20T15:17:00.978Z"
   },
   {
    "duration": 47,
    "start_time": "2021-09-20T15:17:01.010Z"
   },
   {
    "duration": 29,
    "start_time": "2021-09-20T15:17:01.058Z"
   },
   {
    "duration": 10,
    "start_time": "2021-09-20T15:17:01.088Z"
   },
   {
    "duration": 17,
    "start_time": "2021-09-20T15:17:01.100Z"
   },
   {
    "duration": 40,
    "start_time": "2021-09-20T15:17:01.118Z"
   },
   {
    "duration": 40,
    "start_time": "2021-09-20T15:17:01.159Z"
   },
   {
    "duration": 19,
    "start_time": "2021-09-20T15:17:01.201Z"
   },
   {
    "duration": 34,
    "start_time": "2021-09-20T15:17:01.221Z"
   },
   {
    "duration": 147,
    "start_time": "2021-09-20T15:17:01.256Z"
   },
   {
    "duration": 284,
    "start_time": "2021-09-20T15:17:01.404Z"
   },
   {
    "duration": 384,
    "start_time": "2021-09-20T15:17:01.691Z"
   },
   {
    "duration": 280,
    "start_time": "2021-09-20T15:17:02.076Z"
   },
   {
    "duration": 4,
    "start_time": "2021-09-20T15:24:17.888Z"
   },
   {
    "duration": 397,
    "start_time": "2021-09-20T15:24:17.894Z"
   },
   {
    "duration": 2,
    "start_time": "2021-09-20T15:24:18.293Z"
   },
   {
    "duration": 31,
    "start_time": "2021-09-20T15:24:18.296Z"
   },
   {
    "duration": 92,
    "start_time": "2021-09-20T15:24:18.329Z"
   },
   {
    "duration": 66,
    "start_time": "2021-09-20T15:24:18.422Z"
   },
   {
    "duration": 6,
    "start_time": "2021-09-20T15:24:18.490Z"
   },
   {
    "duration": 29,
    "start_time": "2021-09-20T15:24:18.498Z"
   },
   {
    "duration": 46,
    "start_time": "2021-09-20T15:24:18.529Z"
   },
   {
    "duration": 24,
    "start_time": "2021-09-20T15:24:18.576Z"
   },
   {
    "duration": 25,
    "start_time": "2021-09-20T15:24:18.601Z"
   },
   {
    "duration": 22,
    "start_time": "2021-09-20T15:24:18.628Z"
   },
   {
    "duration": 26,
    "start_time": "2021-09-20T15:24:18.652Z"
   },
   {
    "duration": 40,
    "start_time": "2021-09-20T15:24:18.680Z"
   },
   {
    "duration": 25,
    "start_time": "2021-09-20T15:24:18.721Z"
   },
   {
    "duration": 42,
    "start_time": "2021-09-20T15:24:18.748Z"
   },
   {
    "duration": 367,
    "start_time": "2021-09-20T15:24:18.792Z"
   },
   {
    "duration": 295,
    "start_time": "2021-09-20T15:24:19.161Z"
   },
   {
    "duration": 483,
    "start_time": "2021-09-20T15:24:19.459Z"
   },
   {
    "duration": 356,
    "start_time": "2021-09-20T15:24:19.944Z"
   },
   {
    "duration": 4,
    "start_time": "2021-09-20T15:25:30.087Z"
   },
   {
    "duration": 376,
    "start_time": "2021-09-20T15:25:30.092Z"
   },
   {
    "duration": 2,
    "start_time": "2021-09-20T15:25:30.470Z"
   },
   {
    "duration": 13,
    "start_time": "2021-09-20T15:25:30.474Z"
   },
   {
    "duration": 71,
    "start_time": "2021-09-20T15:25:30.488Z"
   },
   {
    "duration": 60,
    "start_time": "2021-09-20T15:25:30.561Z"
   },
   {
    "duration": 5,
    "start_time": "2021-09-20T15:25:30.623Z"
   },
   {
    "duration": 20,
    "start_time": "2021-09-20T15:25:30.630Z"
   },
   {
    "duration": 33,
    "start_time": "2021-09-20T15:25:30.651Z"
   },
   {
    "duration": 14,
    "start_time": "2021-09-20T15:25:30.685Z"
   },
   {
    "duration": 16,
    "start_time": "2021-09-20T15:25:30.700Z"
   },
   {
    "duration": 8,
    "start_time": "2021-09-20T15:25:30.718Z"
   },
   {
    "duration": 18,
    "start_time": "2021-09-20T15:25:30.728Z"
   },
   {
    "duration": 25,
    "start_time": "2021-09-20T15:25:30.747Z"
   },
   {
    "duration": 17,
    "start_time": "2021-09-20T15:25:30.774Z"
   },
   {
    "duration": 29,
    "start_time": "2021-09-20T15:25:30.793Z"
   },
   {
    "duration": 25,
    "start_time": "2021-09-20T15:25:30.824Z"
   },
   {
    "duration": 605,
    "start_time": "2021-09-20T15:25:30.851Z"
   },
   {
    "duration": 279,
    "start_time": "2021-09-20T15:25:31.459Z"
   },
   {
    "duration": 409,
    "start_time": "2021-09-20T15:25:31.743Z"
   },
   {
    "duration": 536,
    "start_time": "2021-09-20T15:25:32.154Z"
   },
   {
    "duration": 3,
    "start_time": "2021-09-20T15:25:48.039Z"
   },
   {
    "duration": 374,
    "start_time": "2021-09-20T15:25:48.044Z"
   },
   {
    "duration": 2,
    "start_time": "2021-09-20T15:25:48.420Z"
   },
   {
    "duration": 6,
    "start_time": "2021-09-20T15:25:48.423Z"
   },
   {
    "duration": 63,
    "start_time": "2021-09-20T15:25:48.430Z"
   },
   {
    "duration": 63,
    "start_time": "2021-09-20T15:25:48.495Z"
   },
   {
    "duration": 6,
    "start_time": "2021-09-20T15:25:48.560Z"
   },
   {
    "duration": 10,
    "start_time": "2021-09-20T15:25:48.567Z"
   },
   {
    "duration": 111,
    "start_time": "2021-09-20T15:25:48.579Z"
   },
   {
    "duration": 13,
    "start_time": "2021-09-20T15:25:48.691Z"
   },
   {
    "duration": 11,
    "start_time": "2021-09-20T15:25:48.706Z"
   },
   {
    "duration": 5,
    "start_time": "2021-09-20T15:25:48.719Z"
   },
   {
    "duration": 19,
    "start_time": "2021-09-20T15:25:48.725Z"
   },
   {
    "duration": 26,
    "start_time": "2021-09-20T15:25:48.746Z"
   },
   {
    "duration": 17,
    "start_time": "2021-09-20T15:25:48.773Z"
   },
   {
    "duration": 22,
    "start_time": "2021-09-20T15:25:48.791Z"
   },
   {
    "duration": 31,
    "start_time": "2021-09-20T15:25:48.815Z"
   },
   {
    "duration": 835,
    "start_time": "2021-09-20T15:25:48.847Z"
   },
   {
    "duration": 361,
    "start_time": "2021-09-20T15:25:49.685Z"
   },
   {
    "duration": 288,
    "start_time": "2021-09-20T15:25:50.048Z"
   },
   {
    "duration": 277,
    "start_time": "2021-09-20T15:25:50.337Z"
   },
   {
    "duration": 3,
    "start_time": "2021-09-20T15:26:07.231Z"
   },
   {
    "duration": 349,
    "start_time": "2021-09-20T15:26:07.236Z"
   },
   {
    "duration": 2,
    "start_time": "2021-09-20T15:26:07.587Z"
   },
   {
    "duration": 6,
    "start_time": "2021-09-20T15:26:07.591Z"
   },
   {
    "duration": 57,
    "start_time": "2021-09-20T15:26:07.599Z"
   },
   {
    "duration": 60,
    "start_time": "2021-09-20T15:26:07.658Z"
   },
   {
    "duration": 6,
    "start_time": "2021-09-20T15:26:07.720Z"
   },
   {
    "duration": 16,
    "start_time": "2021-09-20T15:26:07.728Z"
   },
   {
    "duration": 105,
    "start_time": "2021-09-20T15:26:07.746Z"
   },
   {
    "duration": 14,
    "start_time": "2021-09-20T15:26:07.853Z"
   },
   {
    "duration": 10,
    "start_time": "2021-09-20T15:26:07.869Z"
   },
   {
    "duration": 5,
    "start_time": "2021-09-20T15:26:07.880Z"
   },
   {
    "duration": 8,
    "start_time": "2021-09-20T15:26:07.887Z"
   },
   {
    "duration": 24,
    "start_time": "2021-09-20T15:26:07.896Z"
   },
   {
    "duration": 39,
    "start_time": "2021-09-20T15:26:07.922Z"
   },
   {
    "duration": 23,
    "start_time": "2021-09-20T15:26:07.962Z"
   },
   {
    "duration": 20,
    "start_time": "2021-09-20T15:26:07.987Z"
   },
   {
    "duration": 718,
    "start_time": "2021-09-20T15:26:08.008Z"
   },
   {
    "duration": 295,
    "start_time": "2021-09-20T15:26:08.729Z"
   },
   {
    "duration": 294,
    "start_time": "2021-09-20T15:26:09.026Z"
   },
   {
    "duration": 280,
    "start_time": "2021-09-20T15:26:09.322Z"
   },
   {
    "duration": 3,
    "start_time": "2021-09-20T15:27:30.672Z"
   },
   {
    "duration": 385,
    "start_time": "2021-09-20T15:27:30.678Z"
   },
   {
    "duration": 2,
    "start_time": "2021-09-20T15:27:31.064Z"
   },
   {
    "duration": 18,
    "start_time": "2021-09-20T15:27:31.068Z"
   },
   {
    "duration": 84,
    "start_time": "2021-09-20T15:27:31.088Z"
   },
   {
    "duration": 61,
    "start_time": "2021-09-20T15:27:31.173Z"
   },
   {
    "duration": 11,
    "start_time": "2021-09-20T15:27:31.236Z"
   },
   {
    "duration": 10,
    "start_time": "2021-09-20T15:27:31.248Z"
   },
   {
    "duration": 106,
    "start_time": "2021-09-20T15:27:31.260Z"
   },
   {
    "duration": 15,
    "start_time": "2021-09-20T15:27:31.367Z"
   },
   {
    "duration": 13,
    "start_time": "2021-09-20T15:27:31.384Z"
   },
   {
    "duration": 9,
    "start_time": "2021-09-20T15:27:31.398Z"
   },
   {
    "duration": 22,
    "start_time": "2021-09-20T15:27:31.409Z"
   },
   {
    "duration": 23,
    "start_time": "2021-09-20T15:27:31.432Z"
   },
   {
    "duration": 18,
    "start_time": "2021-09-20T15:27:31.456Z"
   },
   {
    "duration": 36,
    "start_time": "2021-09-20T15:27:31.476Z"
   },
   {
    "duration": 20,
    "start_time": "2021-09-20T15:27:31.514Z"
   },
   {
    "duration": 928,
    "start_time": "2021-09-20T15:27:31.545Z"
   },
   {
    "duration": 301,
    "start_time": "2021-09-20T15:27:32.474Z"
   },
   {
    "duration": 332,
    "start_time": "2021-09-20T15:27:32.777Z"
   },
   {
    "duration": 291,
    "start_time": "2021-09-20T15:27:33.110Z"
   },
   {
    "duration": 3,
    "start_time": "2021-09-20T15:32:22.737Z"
   },
   {
    "duration": 355,
    "start_time": "2021-09-20T15:32:22.742Z"
   },
   {
    "duration": 2,
    "start_time": "2021-09-20T15:32:23.099Z"
   },
   {
    "duration": 6,
    "start_time": "2021-09-20T15:32:23.102Z"
   },
   {
    "duration": 64,
    "start_time": "2021-09-20T15:32:23.109Z"
   },
   {
    "duration": 60,
    "start_time": "2021-09-20T15:32:23.175Z"
   },
   {
    "duration": 10,
    "start_time": "2021-09-20T15:32:23.237Z"
   },
   {
    "duration": 11,
    "start_time": "2021-09-20T15:32:23.248Z"
   },
   {
    "duration": 108,
    "start_time": "2021-09-20T15:32:23.261Z"
   },
   {
    "duration": 14,
    "start_time": "2021-09-20T15:32:23.371Z"
   },
   {
    "duration": 11,
    "start_time": "2021-09-20T15:32:23.386Z"
   },
   {
    "duration": 5,
    "start_time": "2021-09-20T15:32:23.398Z"
   },
   {
    "duration": 11,
    "start_time": "2021-09-20T15:32:23.404Z"
   },
   {
    "duration": 36,
    "start_time": "2021-09-20T15:32:23.417Z"
   },
   {
    "duration": 18,
    "start_time": "2021-09-20T15:32:23.455Z"
   },
   {
    "duration": 22,
    "start_time": "2021-09-20T15:32:23.474Z"
   },
   {
    "duration": 7,
    "start_time": "2021-09-20T15:32:23.497Z"
   },
   {
    "duration": 698,
    "start_time": "2021-09-20T15:32:23.506Z"
   },
   {
    "duration": 2,
    "start_time": "2021-09-20T15:32:24.205Z"
   },
   {
    "duration": 17,
    "start_time": "2021-09-20T15:32:24.209Z"
   },
   {
    "duration": 402,
    "start_time": "2021-09-20T15:32:24.244Z"
   },
   {
    "duration": 302,
    "start_time": "2021-09-20T15:32:24.648Z"
   },
   {
    "duration": 281,
    "start_time": "2021-09-20T15:32:24.952Z"
   },
   {
    "duration": 3,
    "start_time": "2021-09-20T15:34:03.614Z"
   },
   {
    "duration": 354,
    "start_time": "2021-09-20T15:34:03.618Z"
   },
   {
    "duration": 2,
    "start_time": "2021-09-20T15:34:03.974Z"
   },
   {
    "duration": 6,
    "start_time": "2021-09-20T15:34:03.977Z"
   },
   {
    "duration": 61,
    "start_time": "2021-09-20T15:34:03.984Z"
   },
   {
    "duration": 60,
    "start_time": "2021-09-20T15:34:04.047Z"
   },
   {
    "duration": 5,
    "start_time": "2021-09-20T15:34:04.109Z"
   },
   {
    "duration": 8,
    "start_time": "2021-09-20T15:34:04.116Z"
   },
   {
    "duration": 108,
    "start_time": "2021-09-20T15:34:04.126Z"
   },
   {
    "duration": 18,
    "start_time": "2021-09-20T15:34:04.236Z"
   },
   {
    "duration": 10,
    "start_time": "2021-09-20T15:34:04.255Z"
   },
   {
    "duration": 4,
    "start_time": "2021-09-20T15:34:04.267Z"
   },
   {
    "duration": 9,
    "start_time": "2021-09-20T15:34:04.273Z"
   },
   {
    "duration": 31,
    "start_time": "2021-09-20T15:34:04.283Z"
   },
   {
    "duration": 18,
    "start_time": "2021-09-20T15:34:04.315Z"
   },
   {
    "duration": 39,
    "start_time": "2021-09-20T15:34:04.335Z"
   },
   {
    "duration": 9,
    "start_time": "2021-09-20T15:34:04.376Z"
   },
   {
    "duration": 833,
    "start_time": "2021-09-20T15:34:04.386Z"
   },
   {
    "duration": 482,
    "start_time": "2021-09-20T15:34:05.221Z"
   },
   {
    "duration": 14,
    "start_time": "2021-09-20T15:34:05.705Z"
   },
   {
    "duration": 303,
    "start_time": "2021-09-20T15:34:05.721Z"
   },
   {
    "duration": 379,
    "start_time": "2021-09-20T15:34:06.026Z"
   },
   {
    "duration": 277,
    "start_time": "2021-09-20T15:34:06.406Z"
   },
   {
    "duration": 4,
    "start_time": "2021-09-20T15:34:45.054Z"
   },
   {
    "duration": 381,
    "start_time": "2021-09-20T15:34:45.059Z"
   },
   {
    "duration": 2,
    "start_time": "2021-09-20T15:34:45.442Z"
   },
   {
    "duration": 34,
    "start_time": "2021-09-20T15:34:45.446Z"
   },
   {
    "duration": 63,
    "start_time": "2021-09-20T15:34:45.482Z"
   },
   {
    "duration": 63,
    "start_time": "2021-09-20T15:34:45.546Z"
   },
   {
    "duration": 5,
    "start_time": "2021-09-20T15:34:45.611Z"
   },
   {
    "duration": 9,
    "start_time": "2021-09-20T15:34:45.618Z"
   },
   {
    "duration": 29,
    "start_time": "2021-09-20T15:34:45.628Z"
   },
   {
    "duration": 13,
    "start_time": "2021-09-20T15:34:45.659Z"
   },
   {
    "duration": 10,
    "start_time": "2021-09-20T15:34:45.674Z"
   },
   {
    "duration": 5,
    "start_time": "2021-09-20T15:34:45.685Z"
   },
   {
    "duration": 4,
    "start_time": "2021-09-20T15:34:45.691Z"
   },
   {
    "duration": 49,
    "start_time": "2021-09-20T15:34:45.696Z"
   },
   {
    "duration": 19,
    "start_time": "2021-09-20T15:34:45.747Z"
   },
   {
    "duration": 23,
    "start_time": "2021-09-20T15:34:45.767Z"
   },
   {
    "duration": 8,
    "start_time": "2021-09-20T15:34:45.791Z"
   },
   {
    "duration": 888,
    "start_time": "2021-09-20T15:34:45.800Z"
   },
   {
    "duration": 525,
    "start_time": "2021-09-20T15:34:46.690Z"
   },
   {
    "duration": 14,
    "start_time": "2021-09-20T15:34:47.216Z"
   },
   {
    "duration": 300,
    "start_time": "2021-09-20T15:34:47.231Z"
   },
   {
    "duration": 381,
    "start_time": "2021-09-20T15:34:47.532Z"
   },
   {
    "duration": 288,
    "start_time": "2021-09-20T15:34:47.914Z"
   },
   {
    "duration": 3,
    "start_time": "2021-09-20T15:37:12.404Z"
   },
   {
    "duration": 367,
    "start_time": "2021-09-20T15:37:12.411Z"
   },
   {
    "duration": 3,
    "start_time": "2021-09-20T15:37:12.780Z"
   },
   {
    "duration": 5,
    "start_time": "2021-09-20T15:37:12.785Z"
   },
   {
    "duration": 61,
    "start_time": "2021-09-20T15:37:12.791Z"
   },
   {
    "duration": 59,
    "start_time": "2021-09-20T15:37:12.854Z"
   },
   {
    "duration": 5,
    "start_time": "2021-09-20T15:37:12.914Z"
   },
   {
    "duration": 7,
    "start_time": "2021-09-20T15:37:12.921Z"
   },
   {
    "duration": 35,
    "start_time": "2021-09-20T15:37:12.930Z"
   },
   {
    "duration": 13,
    "start_time": "2021-09-20T15:37:12.968Z"
   },
   {
    "duration": 11,
    "start_time": "2021-09-20T15:37:12.983Z"
   },
   {
    "duration": 19,
    "start_time": "2021-09-20T15:37:12.996Z"
   },
   {
    "duration": 21,
    "start_time": "2021-09-20T15:37:13.017Z"
   },
   {
    "duration": 29,
    "start_time": "2021-09-20T15:37:13.039Z"
   },
   {
    "duration": 17,
    "start_time": "2021-09-20T15:37:13.069Z"
   },
   {
    "duration": 30,
    "start_time": "2021-09-20T15:37:13.088Z"
   },
   {
    "duration": 7,
    "start_time": "2021-09-20T15:37:13.120Z"
   },
   {
    "duration": 675,
    "start_time": "2021-09-20T15:37:13.128Z"
   },
   {
    "duration": 996,
    "start_time": "2021-09-20T15:37:13.805Z"
   },
   {
    "duration": 14,
    "start_time": "2021-09-20T15:37:14.802Z"
   },
   {
    "duration": 293,
    "start_time": "2021-09-20T15:37:14.817Z"
   },
   {
    "duration": 310,
    "start_time": "2021-09-20T15:37:15.112Z"
   },
   {
    "duration": 281,
    "start_time": "2021-09-20T15:37:15.424Z"
   },
   {
    "duration": 3,
    "start_time": "2021-09-20T15:38:35.796Z"
   },
   {
    "duration": 346,
    "start_time": "2021-09-20T15:38:35.848Z"
   },
   {
    "duration": 2,
    "start_time": "2021-09-20T15:38:36.196Z"
   },
   {
    "duration": 8,
    "start_time": "2021-09-20T15:38:36.200Z"
   },
   {
    "duration": 59,
    "start_time": "2021-09-20T15:38:36.209Z"
   },
   {
    "duration": 59,
    "start_time": "2021-09-20T15:38:36.270Z"
   },
   {
    "duration": 14,
    "start_time": "2021-09-20T15:38:36.330Z"
   },
   {
    "duration": 6,
    "start_time": "2021-09-20T15:38:36.346Z"
   },
   {
    "duration": 23,
    "start_time": "2021-09-20T15:38:36.355Z"
   },
   {
    "duration": 16,
    "start_time": "2021-09-20T15:38:36.380Z"
   },
   {
    "duration": 12,
    "start_time": "2021-09-20T15:38:36.397Z"
   },
   {
    "duration": 39,
    "start_time": "2021-09-20T15:38:36.410Z"
   },
   {
    "duration": 9,
    "start_time": "2021-09-20T15:38:36.450Z"
   },
   {
    "duration": 22,
    "start_time": "2021-09-20T15:38:36.461Z"
   },
   {
    "duration": 19,
    "start_time": "2021-09-20T15:38:36.484Z"
   },
   {
    "duration": 42,
    "start_time": "2021-09-20T15:38:36.504Z"
   },
   {
    "duration": 9,
    "start_time": "2021-09-20T15:38:36.548Z"
   },
   {
    "duration": 780,
    "start_time": "2021-09-20T15:38:36.558Z"
   },
   {
    "duration": 1108,
    "start_time": "2021-09-20T15:38:37.344Z"
   },
   {
    "duration": -3648872,
    "start_time": "2021-09-20T16:39:27.325Z"
   },
   {
    "duration": -3648875,
    "start_time": "2021-09-20T16:39:27.329Z"
   },
   {
    "duration": -3648878,
    "start_time": "2021-09-20T16:39:27.333Z"
   },
   {
    "duration": -3648880,
    "start_time": "2021-09-20T16:39:27.336Z"
   },
   {
    "duration": 3,
    "start_time": "2021-09-20T15:38:54.205Z"
   },
   {
    "duration": 355,
    "start_time": "2021-09-20T15:38:54.209Z"
   },
   {
    "duration": 2,
    "start_time": "2021-09-20T15:38:54.566Z"
   },
   {
    "duration": 5,
    "start_time": "2021-09-20T15:38:54.569Z"
   },
   {
    "duration": 58,
    "start_time": "2021-09-20T15:38:54.576Z"
   },
   {
    "duration": 60,
    "start_time": "2021-09-20T15:38:54.636Z"
   },
   {
    "duration": 5,
    "start_time": "2021-09-20T15:38:54.698Z"
   },
   {
    "duration": 8,
    "start_time": "2021-09-20T15:38:54.705Z"
   },
   {
    "duration": 37,
    "start_time": "2021-09-20T15:38:54.714Z"
   },
   {
    "duration": 14,
    "start_time": "2021-09-20T15:38:54.752Z"
   },
   {
    "duration": 10,
    "start_time": "2021-09-20T15:38:54.768Z"
   },
   {
    "duration": 5,
    "start_time": "2021-09-20T15:38:54.779Z"
   },
   {
    "duration": 6,
    "start_time": "2021-09-20T15:38:54.785Z"
   },
   {
    "duration": 24,
    "start_time": "2021-09-20T15:38:54.792Z"
   },
   {
    "duration": 35,
    "start_time": "2021-09-20T15:38:54.818Z"
   },
   {
    "duration": 22,
    "start_time": "2021-09-20T15:38:54.854Z"
   },
   {
    "duration": 11,
    "start_time": "2021-09-20T15:38:54.877Z"
   },
   {
    "duration": 1202,
    "start_time": "2021-09-20T15:38:54.889Z"
   },
   {
    "duration": 775,
    "start_time": "2021-09-20T15:38:56.093Z"
   },
   {
    "duration": 15,
    "start_time": "2021-09-20T15:38:56.869Z"
   },
   {
    "duration": 305,
    "start_time": "2021-09-20T15:38:56.885Z"
   },
   {
    "duration": 298,
    "start_time": "2021-09-20T15:38:57.191Z"
   },
   {
    "duration": 280,
    "start_time": "2021-09-20T15:38:57.490Z"
   },
   {
    "duration": 4,
    "start_time": "2021-09-20T15:39:14.973Z"
   },
   {
    "duration": 368,
    "start_time": "2021-09-20T15:39:14.979Z"
   },
   {
    "duration": 2,
    "start_time": "2021-09-20T15:39:15.349Z"
   },
   {
    "duration": 13,
    "start_time": "2021-09-20T15:39:15.353Z"
   },
   {
    "duration": 81,
    "start_time": "2021-09-20T15:39:15.368Z"
   },
   {
    "duration": 59,
    "start_time": "2021-09-20T15:39:15.451Z"
   },
   {
    "duration": 5,
    "start_time": "2021-09-20T15:39:15.512Z"
   },
   {
    "duration": 13,
    "start_time": "2021-09-20T15:39:15.519Z"
   },
   {
    "duration": 121,
    "start_time": "2021-09-20T15:39:15.534Z"
   },
   {
    "duration": 13,
    "start_time": "2021-09-20T15:39:15.657Z"
   },
   {
    "duration": 20,
    "start_time": "2021-09-20T15:39:15.672Z"
   },
   {
    "duration": 14,
    "start_time": "2021-09-20T15:39:15.693Z"
   },
   {
    "duration": 19,
    "start_time": "2021-09-20T15:39:15.708Z"
   },
   {
    "duration": 35,
    "start_time": "2021-09-20T15:39:15.728Z"
   },
   {
    "duration": 17,
    "start_time": "2021-09-20T15:39:15.764Z"
   },
   {
    "duration": 29,
    "start_time": "2021-09-20T15:39:15.783Z"
   },
   {
    "duration": 7,
    "start_time": "2021-09-20T15:39:15.813Z"
   },
   {
    "duration": 903,
    "start_time": "2021-09-20T15:39:15.822Z"
   },
   {
    "duration": 776,
    "start_time": "2021-09-20T15:39:16.727Z"
   },
   {
    "duration": 14,
    "start_time": "2021-09-20T15:39:17.504Z"
   },
   {
    "duration": 301,
    "start_time": "2021-09-20T15:39:17.519Z"
   },
   {
    "duration": 387,
    "start_time": "2021-09-20T15:39:17.822Z"
   },
   {
    "duration": 277,
    "start_time": "2021-09-20T15:39:18.211Z"
   },
   {
    "duration": 3,
    "start_time": "2021-09-20T15:42:26.724Z"
   },
   {
    "duration": 368,
    "start_time": "2021-09-20T15:42:26.728Z"
   },
   {
    "duration": 2,
    "start_time": "2021-09-20T15:42:27.098Z"
   },
   {
    "duration": 6,
    "start_time": "2021-09-20T15:42:27.101Z"
   },
   {
    "duration": 61,
    "start_time": "2021-09-20T15:42:27.109Z"
   },
   {
    "duration": 61,
    "start_time": "2021-09-20T15:42:27.172Z"
   },
   {
    "duration": 10,
    "start_time": "2021-09-20T15:42:27.235Z"
   },
   {
    "duration": 8,
    "start_time": "2021-09-20T15:42:27.247Z"
   },
   {
    "duration": 25,
    "start_time": "2021-09-20T15:42:27.256Z"
   },
   {
    "duration": 15,
    "start_time": "2021-09-20T15:42:27.282Z"
   },
   {
    "duration": 10,
    "start_time": "2021-09-20T15:42:27.299Z"
   },
   {
    "duration": 5,
    "start_time": "2021-09-20T15:42:27.311Z"
   },
   {
    "duration": 31,
    "start_time": "2021-09-20T15:42:27.317Z"
   },
   {
    "duration": 23,
    "start_time": "2021-09-20T15:42:27.349Z"
   },
   {
    "duration": 18,
    "start_time": "2021-09-20T15:42:27.373Z"
   },
   {
    "duration": 22,
    "start_time": "2021-09-20T15:42:27.393Z"
   },
   {
    "duration": 28,
    "start_time": "2021-09-20T15:42:27.416Z"
   },
   {
    "duration": 336,
    "start_time": "2021-09-20T15:42:27.446Z"
   },
   {
    "duration": 731,
    "start_time": "2021-09-20T15:42:27.785Z"
   },
   {
    "duration": 102,
    "start_time": "2021-09-20T15:42:28.517Z"
   },
   {
    "duration": 298,
    "start_time": "2021-09-20T15:42:28.621Z"
   },
   {
    "duration": 494,
    "start_time": "2021-09-20T15:42:28.920Z"
   },
   {
    "duration": 359,
    "start_time": "2021-09-20T15:42:29.416Z"
   },
   {
    "duration": 3,
    "start_time": "2021-09-20T15:42:55.803Z"
   },
   {
    "duration": 353,
    "start_time": "2021-09-20T15:42:55.808Z"
   },
   {
    "duration": 2,
    "start_time": "2021-09-20T15:42:56.163Z"
   },
   {
    "duration": 7,
    "start_time": "2021-09-20T15:42:56.167Z"
   },
   {
    "duration": 62,
    "start_time": "2021-09-20T15:42:56.176Z"
   },
   {
    "duration": 61,
    "start_time": "2021-09-20T15:42:56.240Z"
   },
   {
    "duration": 6,
    "start_time": "2021-09-20T15:42:56.304Z"
   },
   {
    "duration": 9,
    "start_time": "2021-09-20T15:42:56.311Z"
   },
   {
    "duration": 40,
    "start_time": "2021-09-20T15:42:56.322Z"
   },
   {
    "duration": 13,
    "start_time": "2021-09-20T15:42:56.364Z"
   },
   {
    "duration": 10,
    "start_time": "2021-09-20T15:42:56.379Z"
   },
   {
    "duration": 4,
    "start_time": "2021-09-20T15:42:56.391Z"
   },
   {
    "duration": 6,
    "start_time": "2021-09-20T15:42:56.396Z"
   },
   {
    "duration": 26,
    "start_time": "2021-09-20T15:42:56.403Z"
   },
   {
    "duration": 30,
    "start_time": "2021-09-20T15:42:56.431Z"
   },
   {
    "duration": 22,
    "start_time": "2021-09-20T15:42:56.462Z"
   },
   {
    "duration": 7,
    "start_time": "2021-09-20T15:42:56.485Z"
   },
   {
    "duration": 344,
    "start_time": "2021-09-20T15:42:56.494Z"
   },
   {
    "duration": 1088,
    "start_time": "2021-09-20T15:42:56.840Z"
   },
   {
    "duration": 26,
    "start_time": "2021-09-20T15:42:57.930Z"
   },
   {
    "duration": 328,
    "start_time": "2021-09-20T15:42:57.958Z"
   },
   {
    "duration": 291,
    "start_time": "2021-09-20T15:42:58.287Z"
   },
   {
    "duration": 284,
    "start_time": "2021-09-20T15:42:58.579Z"
   },
   {
    "duration": 3,
    "start_time": "2021-09-20T15:44:03.203Z"
   },
   {
    "duration": 343,
    "start_time": "2021-09-20T15:44:03.208Z"
   },
   {
    "duration": 2,
    "start_time": "2021-09-20T15:44:03.553Z"
   },
   {
    "duration": 14,
    "start_time": "2021-09-20T15:44:03.557Z"
   },
   {
    "duration": 64,
    "start_time": "2021-09-20T15:44:03.572Z"
   },
   {
    "duration": 59,
    "start_time": "2021-09-20T15:44:03.638Z"
   },
   {
    "duration": 5,
    "start_time": "2021-09-20T15:44:03.700Z"
   },
   {
    "duration": 8,
    "start_time": "2021-09-20T15:44:03.707Z"
   },
   {
    "duration": 34,
    "start_time": "2021-09-20T15:44:03.716Z"
   },
   {
    "duration": 14,
    "start_time": "2021-09-20T15:44:03.751Z"
   },
   {
    "duration": 10,
    "start_time": "2021-09-20T15:44:03.766Z"
   },
   {
    "duration": 5,
    "start_time": "2021-09-20T15:44:03.778Z"
   },
   {
    "duration": 12,
    "start_time": "2021-09-20T15:44:03.784Z"
   },
   {
    "duration": 23,
    "start_time": "2021-09-20T15:44:03.797Z"
   },
   {
    "duration": 30,
    "start_time": "2021-09-20T15:44:03.822Z"
   },
   {
    "duration": 21,
    "start_time": "2021-09-20T15:44:03.854Z"
   },
   {
    "duration": 6,
    "start_time": "2021-09-20T15:44:03.877Z"
   },
   {
    "duration": 426,
    "start_time": "2021-09-20T15:44:03.885Z"
   },
   {
    "duration": 723,
    "start_time": "2021-09-20T15:44:04.313Z"
   },
   {
    "duration": 19,
    "start_time": "2021-09-20T15:44:05.037Z"
   },
   {
    "duration": 294,
    "start_time": "2021-09-20T15:44:05.057Z"
   },
   {
    "duration": 501,
    "start_time": "2021-09-20T15:44:05.352Z"
   },
   {
    "duration": 279,
    "start_time": "2021-09-20T15:44:05.855Z"
   },
   {
    "duration": 4,
    "start_time": "2021-09-20T15:46:43.348Z"
   },
   {
    "duration": 346,
    "start_time": "2021-09-20T15:46:43.354Z"
   },
   {
    "duration": 2,
    "start_time": "2021-09-20T15:46:43.702Z"
   },
   {
    "duration": 7,
    "start_time": "2021-09-20T15:46:43.705Z"
   },
   {
    "duration": 59,
    "start_time": "2021-09-20T15:46:43.713Z"
   },
   {
    "duration": 59,
    "start_time": "2021-09-20T15:46:43.773Z"
   },
   {
    "duration": 14,
    "start_time": "2021-09-20T15:46:43.834Z"
   },
   {
    "duration": 8,
    "start_time": "2021-09-20T15:46:43.849Z"
   },
   {
    "duration": 117,
    "start_time": "2021-09-20T15:46:43.858Z"
   },
   {
    "duration": 14,
    "start_time": "2021-09-20T15:46:43.977Z"
   },
   {
    "duration": 10,
    "start_time": "2021-09-20T15:46:43.992Z"
   },
   {
    "duration": 4,
    "start_time": "2021-09-20T15:46:44.004Z"
   },
   {
    "duration": 3,
    "start_time": "2021-09-20T15:46:44.010Z"
   },
   {
    "duration": 40,
    "start_time": "2021-09-20T15:46:44.015Z"
   },
   {
    "duration": 18,
    "start_time": "2021-09-20T15:46:44.056Z"
   },
   {
    "duration": 22,
    "start_time": "2021-09-20T15:46:44.075Z"
   },
   {
    "duration": 7,
    "start_time": "2021-09-20T15:46:44.098Z"
   },
   {
    "duration": 5,
    "start_time": "2021-09-20T15:46:44.106Z"
   },
   {
    "duration": 873,
    "start_time": "2021-09-20T15:46:44.113Z"
   },
   {
    "duration": 65,
    "start_time": "2021-09-20T15:46:44.988Z"
   },
   {
    "duration": 309,
    "start_time": "2021-09-20T15:46:45.055Z"
   },
   {
    "duration": 292,
    "start_time": "2021-09-20T15:46:45.366Z"
   },
   {
    "duration": 279,
    "start_time": "2021-09-20T15:46:45.659Z"
   },
   {
    "duration": 3,
    "start_time": "2021-09-20T15:47:10.204Z"
   },
   {
    "duration": 354,
    "start_time": "2021-09-20T15:47:10.209Z"
   },
   {
    "duration": 2,
    "start_time": "2021-09-20T15:47:10.566Z"
   },
   {
    "duration": 6,
    "start_time": "2021-09-20T15:47:10.569Z"
   },
   {
    "duration": 61,
    "start_time": "2021-09-20T15:47:10.576Z"
   },
   {
    "duration": 59,
    "start_time": "2021-09-20T15:47:10.638Z"
   },
   {
    "duration": 34,
    "start_time": "2021-09-20T15:47:10.700Z"
   },
   {
    "duration": 11,
    "start_time": "2021-09-20T15:47:10.736Z"
   },
   {
    "duration": 118,
    "start_time": "2021-09-20T15:47:10.748Z"
   },
   {
    "duration": 14,
    "start_time": "2021-09-20T15:47:10.867Z"
   },
   {
    "duration": 10,
    "start_time": "2021-09-20T15:47:10.883Z"
   },
   {
    "duration": 5,
    "start_time": "2021-09-20T15:47:10.894Z"
   },
   {
    "duration": 8,
    "start_time": "2021-09-20T15:47:10.900Z"
   },
   {
    "duration": 35,
    "start_time": "2021-09-20T15:47:10.909Z"
   },
   {
    "duration": 18,
    "start_time": "2021-09-20T15:47:10.946Z"
   },
   {
    "duration": 23,
    "start_time": "2021-09-20T15:47:10.965Z"
   },
   {
    "duration": 7,
    "start_time": "2021-09-20T15:47:10.990Z"
   },
   {
    "duration": 5,
    "start_time": "2021-09-20T15:47:10.999Z"
   },
   {
    "duration": 43,
    "start_time": "2021-09-20T15:47:11.007Z"
   },
   {
    "duration": 294,
    "start_time": "2021-09-20T15:47:11.052Z"
   },
   {
    "duration": 328,
    "start_time": "2021-09-20T15:47:11.347Z"
   },
   {
    "duration": 518,
    "start_time": "2021-09-20T15:47:11.677Z"
   },
   {
    "duration": 3,
    "start_time": "2021-09-20T15:51:14.290Z"
   },
   {
    "duration": 358,
    "start_time": "2021-09-20T15:51:14.296Z"
   },
   {
    "duration": 2,
    "start_time": "2021-09-20T15:51:14.656Z"
   },
   {
    "duration": 6,
    "start_time": "2021-09-20T15:51:14.659Z"
   },
   {
    "duration": 63,
    "start_time": "2021-09-20T15:51:14.667Z"
   },
   {
    "duration": 60,
    "start_time": "2021-09-20T15:51:14.732Z"
   },
   {
    "duration": 6,
    "start_time": "2021-09-20T15:51:14.793Z"
   },
   {
    "duration": 21,
    "start_time": "2021-09-20T15:51:14.800Z"
   },
   {
    "duration": 24,
    "start_time": "2021-09-20T15:51:14.823Z"
   },
   {
    "duration": 14,
    "start_time": "2021-09-20T15:51:14.849Z"
   },
   {
    "duration": 10,
    "start_time": "2021-09-20T15:51:14.864Z"
   },
   {
    "duration": 9,
    "start_time": "2021-09-20T15:51:14.876Z"
   },
   {
    "duration": 6,
    "start_time": "2021-09-20T15:51:14.886Z"
   },
   {
    "duration": 30,
    "start_time": "2021-09-20T15:51:14.893Z"
   },
   {
    "duration": 22,
    "start_time": "2021-09-20T15:51:14.925Z"
   },
   {
    "duration": 30,
    "start_time": "2021-09-20T15:51:14.949Z"
   },
   {
    "duration": 7,
    "start_time": "2021-09-20T15:51:14.981Z"
   },
   {
    "duration": 3,
    "start_time": "2021-09-20T15:51:14.989Z"
   },
   {
    "duration": 33,
    "start_time": "2021-09-20T15:51:14.993Z"
   },
   {
    "duration": 22,
    "start_time": "2021-09-20T15:51:15.028Z"
   },
   {
    "duration": 286,
    "start_time": "2021-09-20T15:51:15.052Z"
   },
   {
    "duration": 530,
    "start_time": "2021-09-20T15:51:15.340Z"
   },
   {
    "duration": 285,
    "start_time": "2021-09-20T15:51:15.871Z"
   },
   {
    "duration": 3,
    "start_time": "2021-09-20T15:51:48.499Z"
   },
   {
    "duration": 356,
    "start_time": "2021-09-20T15:51:48.504Z"
   },
   {
    "duration": 1,
    "start_time": "2021-09-20T15:51:48.862Z"
   },
   {
    "duration": 8,
    "start_time": "2021-09-20T15:51:48.865Z"
   },
   {
    "duration": 61,
    "start_time": "2021-09-20T15:51:48.875Z"
   },
   {
    "duration": 59,
    "start_time": "2021-09-20T15:51:48.938Z"
   },
   {
    "duration": 5,
    "start_time": "2021-09-20T15:51:48.999Z"
   },
   {
    "duration": 15,
    "start_time": "2021-09-20T15:51:49.006Z"
   },
   {
    "duration": 113,
    "start_time": "2021-09-20T15:51:49.022Z"
   },
   {
    "duration": 13,
    "start_time": "2021-09-20T15:51:49.137Z"
   },
   {
    "duration": 11,
    "start_time": "2021-09-20T15:51:49.151Z"
   },
   {
    "duration": 5,
    "start_time": "2021-09-20T15:51:49.163Z"
   },
   {
    "duration": 7,
    "start_time": "2021-09-20T15:51:49.170Z"
   },
   {
    "duration": 27,
    "start_time": "2021-09-20T15:51:49.178Z"
   },
   {
    "duration": 17,
    "start_time": "2021-09-20T15:51:49.206Z"
   },
   {
    "duration": 34,
    "start_time": "2021-09-20T15:51:49.224Z"
   },
   {
    "duration": 10,
    "start_time": "2021-09-20T15:51:49.259Z"
   },
   {
    "duration": 17,
    "start_time": "2021-09-20T15:51:49.270Z"
   },
   {
    "duration": 67,
    "start_time": "2021-09-20T15:51:49.289Z"
   },
   {
    "duration": 14,
    "start_time": "2021-09-20T15:51:49.358Z"
   },
   {
    "duration": 290,
    "start_time": "2021-09-20T15:51:49.373Z"
   },
   {
    "duration": 326,
    "start_time": "2021-09-20T15:51:49.665Z"
   },
   {
    "duration": 385,
    "start_time": "2021-09-20T15:51:50.044Z"
   },
   {
    "duration": 3,
    "start_time": "2021-09-20T15:52:05.980Z"
   },
   {
    "duration": 361,
    "start_time": "2021-09-20T15:52:05.984Z"
   },
   {
    "duration": 2,
    "start_time": "2021-09-20T15:52:06.347Z"
   },
   {
    "duration": 7,
    "start_time": "2021-09-20T15:52:06.351Z"
   },
   {
    "duration": 59,
    "start_time": "2021-09-20T15:52:06.359Z"
   },
   {
    "duration": 67,
    "start_time": "2021-09-20T15:52:06.419Z"
   },
   {
    "duration": 5,
    "start_time": "2021-09-20T15:52:06.489Z"
   },
   {
    "duration": 8,
    "start_time": "2021-09-20T15:52:06.496Z"
   },
   {
    "duration": 24,
    "start_time": "2021-09-20T15:52:06.505Z"
   },
   {
    "duration": 14,
    "start_time": "2021-09-20T15:52:06.544Z"
   },
   {
    "duration": 10,
    "start_time": "2021-09-20T15:52:06.559Z"
   },
   {
    "duration": 5,
    "start_time": "2021-09-20T15:52:06.571Z"
   },
   {
    "duration": 4,
    "start_time": "2021-09-20T15:52:06.577Z"
   },
   {
    "duration": 23,
    "start_time": "2021-09-20T15:52:06.582Z"
   },
   {
    "duration": 39,
    "start_time": "2021-09-20T15:52:06.607Z"
   },
   {
    "duration": 23,
    "start_time": "2021-09-20T15:52:06.647Z"
   },
   {
    "duration": 7,
    "start_time": "2021-09-20T15:52:06.672Z"
   },
   {
    "duration": 5,
    "start_time": "2021-09-20T15:52:06.681Z"
   },
   {
    "duration": 87,
    "start_time": "2021-09-20T15:52:06.688Z"
   },
   {
    "duration": 15,
    "start_time": "2021-09-20T15:52:06.777Z"
   },
   {
    "duration": 450,
    "start_time": "2021-09-20T15:52:06.794Z"
   },
   {
    "duration": 352,
    "start_time": "2021-09-20T15:52:07.246Z"
   },
   {
    "duration": 269,
    "start_time": "2021-09-20T15:52:07.599Z"
   },
   {
    "duration": 3,
    "start_time": "2021-09-20T15:52:57.415Z"
   },
   {
    "duration": 357,
    "start_time": "2021-09-20T15:52:57.419Z"
   },
   {
    "duration": 2,
    "start_time": "2021-09-20T15:52:57.778Z"
   },
   {
    "duration": 5,
    "start_time": "2021-09-20T15:52:57.782Z"
   },
   {
    "duration": 60,
    "start_time": "2021-09-20T15:52:57.788Z"
   },
   {
    "duration": 59,
    "start_time": "2021-09-20T15:52:57.850Z"
   },
   {
    "duration": 6,
    "start_time": "2021-09-20T15:52:57.911Z"
   },
   {
    "duration": 8,
    "start_time": "2021-09-20T15:52:57.919Z"
   },
   {
    "duration": 114,
    "start_time": "2021-09-20T15:52:57.943Z"
   },
   {
    "duration": 15,
    "start_time": "2021-09-20T15:52:58.059Z"
   },
   {
    "duration": 12,
    "start_time": "2021-09-20T15:52:58.076Z"
   },
   {
    "duration": 6,
    "start_time": "2021-09-20T15:52:58.090Z"
   },
   {
    "duration": 4,
    "start_time": "2021-09-20T15:52:58.097Z"
   },
   {
    "duration": 52,
    "start_time": "2021-09-20T15:52:58.103Z"
   },
   {
    "duration": 18,
    "start_time": "2021-09-20T15:52:58.156Z"
   },
   {
    "duration": 22,
    "start_time": "2021-09-20T15:52:58.175Z"
   },
   {
    "duration": 7,
    "start_time": "2021-09-20T15:52:58.199Z"
   },
   {
    "duration": 3,
    "start_time": "2021-09-20T15:52:58.207Z"
   },
   {
    "duration": 296,
    "start_time": "2021-09-20T15:52:58.212Z"
   },
   {
    "duration": -3648855,
    "start_time": "2021-09-20T16:53:47.365Z"
   },
   {
    "duration": -3648857,
    "start_time": "2021-09-20T16:53:47.368Z"
   },
   {
    "duration": -3648862,
    "start_time": "2021-09-20T16:53:47.373Z"
   },
   {
    "duration": -3648865,
    "start_time": "2021-09-20T16:53:47.377Z"
   },
   {
    "duration": 3,
    "start_time": "2021-09-20T15:53:10.637Z"
   },
   {
    "duration": 353,
    "start_time": "2021-09-20T15:53:10.642Z"
   },
   {
    "duration": 2,
    "start_time": "2021-09-20T15:53:10.997Z"
   },
   {
    "duration": 26,
    "start_time": "2021-09-20T15:53:11.001Z"
   },
   {
    "duration": 69,
    "start_time": "2021-09-20T15:53:11.028Z"
   },
   {
    "duration": 62,
    "start_time": "2021-09-20T15:53:11.099Z"
   },
   {
    "duration": 5,
    "start_time": "2021-09-20T15:53:11.163Z"
   },
   {
    "duration": 18,
    "start_time": "2021-09-20T15:53:11.170Z"
   },
   {
    "duration": 31,
    "start_time": "2021-09-20T15:53:11.189Z"
   },
   {
    "duration": 13,
    "start_time": "2021-09-20T15:53:11.221Z"
   },
   {
    "duration": 14,
    "start_time": "2021-09-20T15:53:11.236Z"
   },
   {
    "duration": 5,
    "start_time": "2021-09-20T15:53:11.251Z"
   },
   {
    "duration": 8,
    "start_time": "2021-09-20T15:53:11.257Z"
   },
   {
    "duration": 26,
    "start_time": "2021-09-20T15:53:11.266Z"
   },
   {
    "duration": 17,
    "start_time": "2021-09-20T15:53:11.294Z"
   },
   {
    "duration": 33,
    "start_time": "2021-09-20T15:53:11.312Z"
   },
   {
    "duration": 7,
    "start_time": "2021-09-20T15:53:11.347Z"
   },
   {
    "duration": 4,
    "start_time": "2021-09-20T15:53:11.355Z"
   },
   {
    "duration": 74,
    "start_time": "2021-09-20T15:53:11.361Z"
   },
   {
    "duration": 19,
    "start_time": "2021-09-20T15:53:11.437Z"
   },
   {
    "duration": 291,
    "start_time": "2021-09-20T15:53:11.457Z"
   },
   {
    "duration": 297,
    "start_time": "2021-09-20T15:53:11.749Z"
   },
   {
    "duration": 272,
    "start_time": "2021-09-20T15:53:12.047Z"
   },
   {
    "duration": 2,
    "start_time": "2021-09-20T15:55:06.747Z"
   },
   {
    "duration": 363,
    "start_time": "2021-09-20T15:55:06.751Z"
   },
   {
    "duration": 2,
    "start_time": "2021-09-20T15:55:07.116Z"
   },
   {
    "duration": 5,
    "start_time": "2021-09-20T15:55:07.119Z"
   },
   {
    "duration": 62,
    "start_time": "2021-09-20T15:55:07.125Z"
   },
   {
    "duration": 66,
    "start_time": "2021-09-20T15:55:07.189Z"
   },
   {
    "duration": 6,
    "start_time": "2021-09-20T15:55:07.257Z"
   },
   {
    "duration": 8,
    "start_time": "2021-09-20T15:55:07.265Z"
   },
   {
    "duration": 26,
    "start_time": "2021-09-20T15:55:07.275Z"
   },
   {
    "duration": 14,
    "start_time": "2021-09-20T15:55:07.302Z"
   },
   {
    "duration": 28,
    "start_time": "2021-09-20T15:55:07.318Z"
   },
   {
    "duration": 5,
    "start_time": "2021-09-20T15:55:07.347Z"
   },
   {
    "duration": 4,
    "start_time": "2021-09-20T15:55:07.354Z"
   },
   {
    "duration": 19,
    "start_time": "2021-09-20T15:55:07.360Z"
   },
   {
    "duration": 18,
    "start_time": "2021-09-20T15:55:07.380Z"
   },
   {
    "duration": 22,
    "start_time": "2021-09-20T15:55:07.400Z"
   },
   {
    "duration": 7,
    "start_time": "2021-09-20T15:55:07.444Z"
   },
   {
    "duration": 5,
    "start_time": "2021-09-20T15:55:07.453Z"
   },
   {
    "duration": 24,
    "start_time": "2021-09-20T15:55:07.460Z"
   },
   {
    "duration": 14,
    "start_time": "2021-09-20T15:55:07.486Z"
   },
   {
    "duration": 300,
    "start_time": "2021-09-20T15:55:07.501Z"
   },
   {
    "duration": 287,
    "start_time": "2021-09-20T15:55:07.802Z"
   },
   {
    "duration": 278,
    "start_time": "2021-09-20T15:55:08.090Z"
   },
   {
    "duration": 3,
    "start_time": "2021-09-20T15:55:50.524Z"
   },
   {
    "duration": 364,
    "start_time": "2021-09-20T15:55:50.529Z"
   },
   {
    "duration": 2,
    "start_time": "2021-09-20T15:55:50.895Z"
   },
   {
    "duration": 9,
    "start_time": "2021-09-20T15:55:50.899Z"
   },
   {
    "duration": 74,
    "start_time": "2021-09-20T15:55:50.909Z"
   },
   {
    "duration": 60,
    "start_time": "2021-09-20T15:55:50.984Z"
   },
   {
    "duration": 6,
    "start_time": "2021-09-20T15:55:51.046Z"
   },
   {
    "duration": 13,
    "start_time": "2021-09-20T15:55:51.054Z"
   },
   {
    "duration": 119,
    "start_time": "2021-09-20T15:55:51.068Z"
   },
   {
    "duration": 14,
    "start_time": "2021-09-20T15:55:51.189Z"
   },
   {
    "duration": 10,
    "start_time": "2021-09-20T15:55:51.205Z"
   },
   {
    "duration": 4,
    "start_time": "2021-09-20T15:55:51.217Z"
   },
   {
    "duration": 4,
    "start_time": "2021-09-20T15:55:51.223Z"
   },
   {
    "duration": 19,
    "start_time": "2021-09-20T15:55:51.244Z"
   },
   {
    "duration": 17,
    "start_time": "2021-09-20T15:55:51.264Z"
   },
   {
    "duration": 21,
    "start_time": "2021-09-20T15:55:51.283Z"
   },
   {
    "duration": 7,
    "start_time": "2021-09-20T15:55:51.306Z"
   },
   {
    "duration": 2,
    "start_time": "2021-09-20T15:55:51.315Z"
   },
   {
    "duration": 18,
    "start_time": "2021-09-20T15:55:51.344Z"
   },
   {
    "duration": 17,
    "start_time": "2021-09-20T15:55:51.364Z"
   },
   {
    "duration": 484,
    "start_time": "2021-09-20T15:55:51.382Z"
   },
   {
    "duration": 377,
    "start_time": "2021-09-20T15:55:51.867Z"
   },
   {
    "duration": 287,
    "start_time": "2021-09-20T15:55:52.246Z"
   },
   {
    "duration": 3,
    "start_time": "2021-09-20T15:56:20.795Z"
   },
   {
    "duration": 361,
    "start_time": "2021-09-20T15:56:20.800Z"
   },
   {
    "duration": 2,
    "start_time": "2021-09-20T15:56:21.163Z"
   },
   {
    "duration": 4,
    "start_time": "2021-09-20T15:56:21.167Z"
   },
   {
    "duration": 59,
    "start_time": "2021-09-20T15:56:21.173Z"
   },
   {
    "duration": 59,
    "start_time": "2021-09-20T15:56:21.233Z"
   },
   {
    "duration": 5,
    "start_time": "2021-09-20T15:56:21.294Z"
   },
   {
    "duration": 13,
    "start_time": "2021-09-20T15:56:21.301Z"
   },
   {
    "duration": 33,
    "start_time": "2021-09-20T15:56:21.315Z"
   },
   {
    "duration": 14,
    "start_time": "2021-09-20T15:56:21.349Z"
   },
   {
    "duration": 10,
    "start_time": "2021-09-20T15:56:21.365Z"
   },
   {
    "duration": 5,
    "start_time": "2021-09-20T15:56:21.376Z"
   },
   {
    "duration": 14,
    "start_time": "2021-09-20T15:56:21.382Z"
   },
   {
    "duration": 28,
    "start_time": "2021-09-20T15:56:21.398Z"
   },
   {
    "duration": 19,
    "start_time": "2021-09-20T15:56:21.428Z"
   },
   {
    "duration": 28,
    "start_time": "2021-09-20T15:56:21.449Z"
   },
   {
    "duration": 8,
    "start_time": "2021-09-20T15:56:21.478Z"
   },
   {
    "duration": 136,
    "start_time": "2021-09-20T15:56:21.487Z"
   },
   {
    "duration": 24,
    "start_time": "2021-09-20T15:56:21.625Z"
   },
   {
    "duration": 14,
    "start_time": "2021-09-20T15:56:21.651Z"
   },
   {
    "duration": 304,
    "start_time": "2021-09-20T15:56:21.666Z"
   },
   {
    "duration": 312,
    "start_time": "2021-09-20T15:56:21.972Z"
   },
   {
    "duration": 565,
    "start_time": "2021-09-20T15:56:22.286Z"
   },
   {
    "duration": 3,
    "start_time": "2021-09-20T15:56:42.061Z"
   },
   {
    "duration": 363,
    "start_time": "2021-09-20T15:56:42.065Z"
   },
   {
    "duration": 2,
    "start_time": "2021-09-20T15:56:42.430Z"
   },
   {
    "duration": 5,
    "start_time": "2021-09-20T15:56:42.434Z"
   },
   {
    "duration": 60,
    "start_time": "2021-09-20T15:56:42.440Z"
   },
   {
    "duration": 64,
    "start_time": "2021-09-20T15:56:42.501Z"
   },
   {
    "duration": 5,
    "start_time": "2021-09-20T15:56:42.568Z"
   },
   {
    "duration": 19,
    "start_time": "2021-09-20T15:56:42.575Z"
   },
   {
    "duration": 33,
    "start_time": "2021-09-20T15:56:42.595Z"
   },
   {
    "duration": 13,
    "start_time": "2021-09-20T15:56:42.630Z"
   },
   {
    "duration": 15,
    "start_time": "2021-09-20T15:56:42.645Z"
   },
   {
    "duration": 5,
    "start_time": "2021-09-20T15:56:42.662Z"
   },
   {
    "duration": 9,
    "start_time": "2021-09-20T15:56:42.668Z"
   },
   {
    "duration": 27,
    "start_time": "2021-09-20T15:56:42.678Z"
   },
   {
    "duration": 21,
    "start_time": "2021-09-20T15:56:42.707Z"
   },
   {
    "duration": 30,
    "start_time": "2021-09-20T15:56:42.729Z"
   },
   {
    "duration": 21,
    "start_time": "2021-09-20T15:56:42.761Z"
   },
   {
    "duration": 14,
    "start_time": "2021-09-20T15:56:42.784Z"
   },
   {
    "duration": 41,
    "start_time": "2021-09-20T15:56:42.800Z"
   },
   {
    "duration": 14,
    "start_time": "2021-09-20T15:56:42.842Z"
   },
   {
    "duration": 294,
    "start_time": "2021-09-20T15:56:42.857Z"
   },
   {
    "duration": 294,
    "start_time": "2021-09-20T15:56:43.152Z"
   },
   {
    "duration": 279,
    "start_time": "2021-09-20T15:56:43.447Z"
   },
   {
    "duration": 3,
    "start_time": "2021-09-20T15:57:28.871Z"
   },
   {
    "duration": 357,
    "start_time": "2021-09-20T15:57:28.876Z"
   },
   {
    "duration": 2,
    "start_time": "2021-09-20T15:57:29.235Z"
   },
   {
    "duration": 5,
    "start_time": "2021-09-20T15:57:29.239Z"
   },
   {
    "duration": 61,
    "start_time": "2021-09-20T15:57:29.246Z"
   },
   {
    "duration": 66,
    "start_time": "2021-09-20T15:57:29.309Z"
   },
   {
    "duration": 6,
    "start_time": "2021-09-20T15:57:29.377Z"
   },
   {
    "duration": 7,
    "start_time": "2021-09-20T15:57:29.385Z"
   },
   {
    "duration": 29,
    "start_time": "2021-09-20T15:57:29.393Z"
   },
   {
    "duration": 25,
    "start_time": "2021-09-20T15:57:29.423Z"
   },
   {
    "duration": 12,
    "start_time": "2021-09-20T15:57:29.450Z"
   },
   {
    "duration": 6,
    "start_time": "2021-09-20T15:57:29.463Z"
   },
   {
    "duration": 7,
    "start_time": "2021-09-20T15:57:29.471Z"
   },
   {
    "duration": 21,
    "start_time": "2021-09-20T15:57:29.479Z"
   },
   {
    "duration": 48,
    "start_time": "2021-09-20T15:57:29.501Z"
   },
   {
    "duration": 23,
    "start_time": "2021-09-20T15:57:29.550Z"
   },
   {
    "duration": 8,
    "start_time": "2021-09-20T15:57:29.575Z"
   },
   {
    "duration": 4,
    "start_time": "2021-09-20T15:57:29.584Z"
   },
   {
    "duration": 19,
    "start_time": "2021-09-20T15:57:29.591Z"
   },
   {
    "duration": 42,
    "start_time": "2021-09-20T15:57:29.612Z"
   },
   {
    "duration": 398,
    "start_time": "2021-09-20T15:57:29.656Z"
   },
   {
    "duration": 289,
    "start_time": "2021-09-20T15:57:30.056Z"
   },
   {
    "duration": 399,
    "start_time": "2021-09-20T15:57:30.348Z"
   },
   {
    "duration": 3,
    "start_time": "2021-09-20T15:58:16.632Z"
   },
   {
    "duration": 355,
    "start_time": "2021-09-20T15:58:16.637Z"
   },
   {
    "duration": 2,
    "start_time": "2021-09-20T15:58:16.994Z"
   },
   {
    "duration": 15,
    "start_time": "2021-09-20T15:58:16.998Z"
   },
   {
    "duration": 74,
    "start_time": "2021-09-20T15:58:17.014Z"
   },
   {
    "duration": 64,
    "start_time": "2021-09-20T15:58:17.090Z"
   },
   {
    "duration": 6,
    "start_time": "2021-09-20T15:58:17.155Z"
   },
   {
    "duration": 14,
    "start_time": "2021-09-20T15:58:17.163Z"
   },
   {
    "duration": 27,
    "start_time": "2021-09-20T15:58:17.179Z"
   },
   {
    "duration": 13,
    "start_time": "2021-09-20T15:58:17.208Z"
   },
   {
    "duration": 22,
    "start_time": "2021-09-20T15:58:17.222Z"
   },
   {
    "duration": 4,
    "start_time": "2021-09-20T15:58:17.246Z"
   },
   {
    "duration": 5,
    "start_time": "2021-09-20T15:58:17.252Z"
   },
   {
    "duration": 20,
    "start_time": "2021-09-20T15:58:17.259Z"
   },
   {
    "duration": 24,
    "start_time": "2021-09-20T15:58:17.281Z"
   },
   {
    "duration": 41,
    "start_time": "2021-09-20T15:58:17.306Z"
   },
   {
    "duration": 9,
    "start_time": "2021-09-20T15:58:17.349Z"
   },
   {
    "duration": 11,
    "start_time": "2021-09-20T15:58:17.359Z"
   },
   {
    "duration": 23,
    "start_time": "2021-09-20T15:58:17.372Z"
   },
   {
    "duration": 17,
    "start_time": "2021-09-20T15:58:17.397Z"
   },
   {
    "duration": 296,
    "start_time": "2021-09-20T15:58:17.416Z"
   },
   {
    "duration": 328,
    "start_time": "2021-09-20T15:58:17.714Z"
   },
   {
    "duration": 302,
    "start_time": "2021-09-20T15:58:18.046Z"
   },
   {
    "duration": 4,
    "start_time": "2021-09-20T16:04:17.002Z"
   },
   {
    "duration": 378,
    "start_time": "2021-09-20T16:04:17.007Z"
   },
   {
    "duration": 2,
    "start_time": "2021-09-20T16:04:17.387Z"
   },
   {
    "duration": 8,
    "start_time": "2021-09-20T16:04:17.391Z"
   },
   {
    "duration": 62,
    "start_time": "2021-09-20T16:04:17.400Z"
   },
   {
    "duration": 62,
    "start_time": "2021-09-20T16:04:17.463Z"
   },
   {
    "duration": 5,
    "start_time": "2021-09-20T16:04:17.528Z"
   },
   {
    "duration": 9,
    "start_time": "2021-09-20T16:04:17.535Z"
   },
   {
    "duration": 33,
    "start_time": "2021-09-20T16:04:17.546Z"
   },
   {
    "duration": 16,
    "start_time": "2021-09-20T16:04:17.580Z"
   },
   {
    "duration": 11,
    "start_time": "2021-09-20T16:04:17.598Z"
   },
   {
    "duration": 6,
    "start_time": "2021-09-20T16:04:17.611Z"
   },
   {
    "duration": 26,
    "start_time": "2021-09-20T16:04:17.618Z"
   },
   {
    "duration": 29,
    "start_time": "2021-09-20T16:04:17.646Z"
   },
   {
    "duration": 19,
    "start_time": "2021-09-20T16:04:17.676Z"
   },
   {
    "duration": 25,
    "start_time": "2021-09-20T16:04:17.696Z"
   },
   {
    "duration": 20,
    "start_time": "2021-09-20T16:04:17.723Z"
   },
   {
    "duration": 16,
    "start_time": "2021-09-20T16:04:17.745Z"
   },
   {
    "duration": 36,
    "start_time": "2021-09-20T16:04:17.763Z"
   },
   {
    "duration": 26,
    "start_time": "2021-09-20T16:04:17.801Z"
   },
   {
    "duration": 341,
    "start_time": "2021-09-20T16:04:17.828Z"
   },
   {
    "duration": 416,
    "start_time": "2021-09-20T16:04:18.171Z"
   },
   {
    "duration": 507,
    "start_time": "2021-09-20T16:04:18.589Z"
   },
   {
    "duration": 3,
    "start_time": "2021-09-20T16:05:07.163Z"
   },
   {
    "duration": 358,
    "start_time": "2021-09-20T16:05:07.168Z"
   },
   {
    "duration": 2,
    "start_time": "2021-09-20T16:05:07.528Z"
   },
   {
    "duration": 6,
    "start_time": "2021-09-20T16:05:07.532Z"
   },
   {
    "duration": 62,
    "start_time": "2021-09-20T16:05:07.540Z"
   },
   {
    "duration": 60,
    "start_time": "2021-09-20T16:05:07.604Z"
   },
   {
    "duration": 6,
    "start_time": "2021-09-20T16:05:07.667Z"
   },
   {
    "duration": 11,
    "start_time": "2021-09-20T16:05:07.674Z"
   },
   {
    "duration": 130,
    "start_time": "2021-09-20T16:05:07.687Z"
   },
   {
    "duration": 13,
    "start_time": "2021-09-20T16:05:07.819Z"
   },
   {
    "duration": 19,
    "start_time": "2021-09-20T16:05:07.834Z"
   },
   {
    "duration": 4,
    "start_time": "2021-09-20T16:05:07.854Z"
   },
   {
    "duration": 15,
    "start_time": "2021-09-20T16:05:07.860Z"
   },
   {
    "duration": 30,
    "start_time": "2021-09-20T16:05:07.877Z"
   },
   {
    "duration": 18,
    "start_time": "2021-09-20T16:05:07.908Z"
   },
   {
    "duration": 24,
    "start_time": "2021-09-20T16:05:07.927Z"
   },
   {
    "duration": 8,
    "start_time": "2021-09-20T16:05:07.953Z"
   },
   {
    "duration": 2,
    "start_time": "2021-09-20T16:05:07.963Z"
   },
   {
    "duration": 22,
    "start_time": "2021-09-20T16:05:07.968Z"
   },
   {
    "duration": 14,
    "start_time": "2021-09-20T16:05:07.992Z"
   },
   {
    "duration": 539,
    "start_time": "2021-09-20T16:05:08.007Z"
   },
   {
    "duration": 361,
    "start_time": "2021-09-20T16:05:08.548Z"
   },
   {
    "duration": 274,
    "start_time": "2021-09-20T16:05:08.911Z"
   },
   {
    "duration": 4,
    "start_time": "2021-09-20T16:06:09.367Z"
   },
   {
    "duration": 397,
    "start_time": "2021-09-20T16:06:09.373Z"
   },
   {
    "duration": 2,
    "start_time": "2021-09-20T16:06:09.772Z"
   },
   {
    "duration": 3,
    "start_time": "2021-09-20T16:06:09.776Z"
   },
   {
    "duration": 60,
    "start_time": "2021-09-20T16:06:09.781Z"
   },
   {
    "duration": 59,
    "start_time": "2021-09-20T16:06:09.842Z"
   },
   {
    "duration": 5,
    "start_time": "2021-09-20T16:06:09.904Z"
   },
   {
    "duration": 7,
    "start_time": "2021-09-20T16:06:09.911Z"
   },
   {
    "duration": 44,
    "start_time": "2021-09-20T16:06:09.919Z"
   },
   {
    "duration": 15,
    "start_time": "2021-09-20T16:06:09.965Z"
   },
   {
    "duration": 10,
    "start_time": "2021-09-20T16:06:09.982Z"
   },
   {
    "duration": 5,
    "start_time": "2021-09-20T16:06:09.994Z"
   },
   {
    "duration": 9,
    "start_time": "2021-09-20T16:06:10.001Z"
   },
   {
    "duration": 54,
    "start_time": "2021-09-20T16:06:10.012Z"
   },
   {
    "duration": 27,
    "start_time": "2021-09-20T16:06:10.068Z"
   },
   {
    "duration": 47,
    "start_time": "2021-09-20T16:06:10.097Z"
   },
   {
    "duration": 10,
    "start_time": "2021-09-20T16:06:10.146Z"
   },
   {
    "duration": 5,
    "start_time": "2021-09-20T16:06:10.158Z"
   },
   {
    "duration": 23,
    "start_time": "2021-09-20T16:06:10.167Z"
   },
   {
    "duration": 18,
    "start_time": "2021-09-20T16:06:10.192Z"
   },
   {
    "duration": 360,
    "start_time": "2021-09-20T16:06:10.212Z"
   },
   {
    "duration": 694,
    "start_time": "2021-09-20T16:06:10.574Z"
   },
   {
    "duration": 276,
    "start_time": "2021-09-20T16:06:11.270Z"
   },
   {
    "duration": 3,
    "start_time": "2021-09-20T16:06:33.798Z"
   },
   {
    "duration": 368,
    "start_time": "2021-09-20T16:06:33.802Z"
   },
   {
    "duration": 2,
    "start_time": "2021-09-20T16:06:34.172Z"
   },
   {
    "duration": 5,
    "start_time": "2021-09-20T16:06:34.176Z"
   },
   {
    "duration": 59,
    "start_time": "2021-09-20T16:06:34.182Z"
   },
   {
    "duration": 59,
    "start_time": "2021-09-20T16:06:34.243Z"
   },
   {
    "duration": 6,
    "start_time": "2021-09-20T16:06:34.305Z"
   },
   {
    "duration": 8,
    "start_time": "2021-09-20T16:06:34.313Z"
   },
   {
    "duration": 135,
    "start_time": "2021-09-20T16:06:34.323Z"
   },
   {
    "duration": 15,
    "start_time": "2021-09-20T16:06:34.459Z"
   },
   {
    "duration": 10,
    "start_time": "2021-09-20T16:06:34.476Z"
   },
   {
    "duration": 4,
    "start_time": "2021-09-20T16:06:34.488Z"
   },
   {
    "duration": 4,
    "start_time": "2021-09-20T16:06:34.494Z"
   },
   {
    "duration": 53,
    "start_time": "2021-09-20T16:06:34.500Z"
   },
   {
    "duration": 19,
    "start_time": "2021-09-20T16:06:34.555Z"
   },
   {
    "duration": 23,
    "start_time": "2021-09-20T16:06:34.576Z"
   },
   {
    "duration": 9,
    "start_time": "2021-09-20T16:06:34.600Z"
   },
   {
    "duration": 5,
    "start_time": "2021-09-20T16:06:34.610Z"
   },
   {
    "duration": 43,
    "start_time": "2021-09-20T16:06:34.617Z"
   },
   {
    "duration": 13,
    "start_time": "2021-09-20T16:06:34.662Z"
   },
   {
    "duration": 307,
    "start_time": "2021-09-20T16:06:34.676Z"
   },
   {
    "duration": 291,
    "start_time": "2021-09-20T16:06:34.985Z"
   },
   {
    "duration": 406,
    "start_time": "2021-09-20T16:06:35.278Z"
   },
   {
    "duration": 3,
    "start_time": "2021-09-20T16:06:46.839Z"
   },
   {
    "duration": 359,
    "start_time": "2021-09-20T16:06:46.843Z"
   },
   {
    "duration": 2,
    "start_time": "2021-09-20T16:06:47.204Z"
   },
   {
    "duration": 6,
    "start_time": "2021-09-20T16:06:47.207Z"
   },
   {
    "duration": 63,
    "start_time": "2021-09-20T16:06:47.214Z"
   },
   {
    "duration": 66,
    "start_time": "2021-09-20T16:06:47.279Z"
   },
   {
    "duration": 6,
    "start_time": "2021-09-20T16:06:47.347Z"
   },
   {
    "duration": 7,
    "start_time": "2021-09-20T16:06:47.355Z"
   },
   {
    "duration": 24,
    "start_time": "2021-09-20T16:06:47.364Z"
   },
   {
    "duration": 15,
    "start_time": "2021-09-20T16:06:47.389Z"
   },
   {
    "duration": 10,
    "start_time": "2021-09-20T16:06:47.405Z"
   },
   {
    "duration": 31,
    "start_time": "2021-09-20T16:06:47.416Z"
   },
   {
    "duration": 6,
    "start_time": "2021-09-20T16:06:47.449Z"
   },
   {
    "duration": 22,
    "start_time": "2021-09-20T16:06:47.456Z"
   },
   {
    "duration": 20,
    "start_time": "2021-09-20T16:06:47.481Z"
   },
   {
    "duration": 44,
    "start_time": "2021-09-20T16:06:47.502Z"
   },
   {
    "duration": 8,
    "start_time": "2021-09-20T16:06:47.547Z"
   },
   {
    "duration": 7,
    "start_time": "2021-09-20T16:06:47.556Z"
   },
   {
    "duration": 19,
    "start_time": "2021-09-20T16:06:47.565Z"
   },
   {
    "duration": 14,
    "start_time": "2021-09-20T16:06:47.585Z"
   },
   {
    "duration": 488,
    "start_time": "2021-09-20T16:06:47.601Z"
   },
   {
    "duration": 467,
    "start_time": "2021-09-20T16:06:48.090Z"
   },
   {
    "duration": 279,
    "start_time": "2021-09-20T16:06:48.558Z"
   },
   {
    "duration": 3,
    "start_time": "2021-09-20T16:06:55.735Z"
   },
   {
    "duration": 392,
    "start_time": "2021-09-20T16:06:55.740Z"
   },
   {
    "duration": 2,
    "start_time": "2021-09-20T16:06:56.134Z"
   },
   {
    "duration": 4,
    "start_time": "2021-09-20T16:06:56.138Z"
   },
   {
    "duration": 60,
    "start_time": "2021-09-20T16:06:56.144Z"
   },
   {
    "duration": 71,
    "start_time": "2021-09-20T16:06:56.206Z"
   },
   {
    "duration": 7,
    "start_time": "2021-09-20T16:06:56.280Z"
   },
   {
    "duration": 9,
    "start_time": "2021-09-20T16:06:56.289Z"
   },
   {
    "duration": 129,
    "start_time": "2021-09-20T16:06:56.299Z"
   },
   {
    "duration": 22,
    "start_time": "2021-09-20T16:06:56.429Z"
   },
   {
    "duration": 11,
    "start_time": "2021-09-20T16:06:56.453Z"
   },
   {
    "duration": 6,
    "start_time": "2021-09-20T16:06:56.465Z"
   },
   {
    "duration": 6,
    "start_time": "2021-09-20T16:06:56.473Z"
   },
   {
    "duration": 29,
    "start_time": "2021-09-20T16:06:56.481Z"
   },
   {
    "duration": 39,
    "start_time": "2021-09-20T16:06:56.512Z"
   },
   {
    "duration": 21,
    "start_time": "2021-09-20T16:06:56.553Z"
   },
   {
    "duration": 9,
    "start_time": "2021-09-20T16:06:56.576Z"
   },
   {
    "duration": 3,
    "start_time": "2021-09-20T16:06:56.587Z"
   },
   {
    "duration": 22,
    "start_time": "2021-09-20T16:06:56.594Z"
   },
   {
    "duration": 39,
    "start_time": "2021-09-20T16:06:56.618Z"
   },
   {
    "duration": 630,
    "start_time": "2021-09-20T16:06:56.659Z"
   },
   {
    "duration": 318,
    "start_time": "2021-09-20T16:06:57.344Z"
   },
   {
    "duration": 285,
    "start_time": "2021-09-20T16:06:57.664Z"
   },
   {
    "duration": 3,
    "start_time": "2021-09-20T16:07:10.056Z"
   },
   {
    "duration": 363,
    "start_time": "2021-09-20T16:07:10.061Z"
   },
   {
    "duration": 2,
    "start_time": "2021-09-20T16:07:10.426Z"
   },
   {
    "duration": 13,
    "start_time": "2021-09-20T16:07:10.430Z"
   },
   {
    "duration": 69,
    "start_time": "2021-09-20T16:07:10.445Z"
   },
   {
    "duration": 60,
    "start_time": "2021-09-20T16:07:10.516Z"
   },
   {
    "duration": 6,
    "start_time": "2021-09-20T16:07:10.578Z"
   },
   {
    "duration": 15,
    "start_time": "2021-09-20T16:07:10.586Z"
   },
   {
    "duration": 33,
    "start_time": "2021-09-20T16:07:10.602Z"
   },
   {
    "duration": 114,
    "start_time": "2021-09-20T16:07:10.637Z"
   },
   {
    "duration": 13,
    "start_time": "2021-09-20T16:07:10.753Z"
   },
   {
    "duration": 5,
    "start_time": "2021-09-20T16:07:10.768Z"
   },
   {
    "duration": 12,
    "start_time": "2021-09-20T16:07:10.775Z"
   },
   {
    "duration": 31,
    "start_time": "2021-09-20T16:07:10.788Z"
   },
   {
    "duration": 27,
    "start_time": "2021-09-20T16:07:10.821Z"
   },
   {
    "duration": 23,
    "start_time": "2021-09-20T16:07:10.850Z"
   },
   {
    "duration": 8,
    "start_time": "2021-09-20T16:07:10.875Z"
   },
   {
    "duration": 10,
    "start_time": "2021-09-20T16:07:10.884Z"
   },
   {
    "duration": 23,
    "start_time": "2021-09-20T16:07:10.897Z"
   },
   {
    "duration": 29,
    "start_time": "2021-09-20T16:07:10.922Z"
   },
   {
    "duration": 470,
    "start_time": "2021-09-20T16:07:10.953Z"
   },
   {
    "duration": 672,
    "start_time": "2021-09-20T16:07:11.425Z"
   },
   {
    "duration": 447,
    "start_time": "2021-09-20T16:07:12.099Z"
   },
   {
    "duration": 3,
    "start_time": "2021-09-20T16:07:19.388Z"
   },
   {
    "duration": 379,
    "start_time": "2021-09-20T16:07:19.393Z"
   },
   {
    "duration": 2,
    "start_time": "2021-09-20T16:07:19.774Z"
   },
   {
    "duration": 58,
    "start_time": "2021-09-20T16:07:19.778Z"
   },
   {
    "duration": 68,
    "start_time": "2021-09-20T16:07:19.838Z"
   },
   {
    "duration": 63,
    "start_time": "2021-09-20T16:07:19.908Z"
   },
   {
    "duration": 6,
    "start_time": "2021-09-20T16:07:19.973Z"
   },
   {
    "duration": 9,
    "start_time": "2021-09-20T16:07:19.981Z"
   },
   {
    "duration": 150,
    "start_time": "2021-09-20T16:07:19.992Z"
   },
   {
    "duration": 16,
    "start_time": "2021-09-20T16:07:20.144Z"
   },
   {
    "duration": 11,
    "start_time": "2021-09-20T16:07:20.162Z"
   },
   {
    "duration": 5,
    "start_time": "2021-09-20T16:07:20.175Z"
   },
   {
    "duration": 6,
    "start_time": "2021-09-20T16:07:20.182Z"
   },
   {
    "duration": 29,
    "start_time": "2021-09-20T16:07:20.190Z"
   },
   {
    "duration": 34,
    "start_time": "2021-09-20T16:07:20.220Z"
   },
   {
    "duration": 23,
    "start_time": "2021-09-20T16:07:20.255Z"
   },
   {
    "duration": 7,
    "start_time": "2021-09-20T16:07:20.280Z"
   },
   {
    "duration": 9,
    "start_time": "2021-09-20T16:07:20.288Z"
   },
   {
    "duration": 20,
    "start_time": "2021-09-20T16:07:20.299Z"
   },
   {
    "duration": 32,
    "start_time": "2021-09-20T16:07:20.321Z"
   },
   {
    "duration": 321,
    "start_time": "2021-09-20T16:07:20.355Z"
   },
   {
    "duration": 336,
    "start_time": "2021-09-20T16:07:20.677Z"
   },
   {
    "duration": 321,
    "start_time": "2021-09-20T16:07:21.014Z"
   },
   {
    "duration": 3,
    "start_time": "2021-09-20T16:12:57.376Z"
   },
   {
    "duration": 362,
    "start_time": "2021-09-20T16:12:57.382Z"
   },
   {
    "duration": 2,
    "start_time": "2021-09-20T16:12:57.746Z"
   },
   {
    "duration": 20,
    "start_time": "2021-09-20T16:12:57.750Z"
   },
   {
    "duration": 72,
    "start_time": "2021-09-20T16:12:57.772Z"
   },
   {
    "duration": 60,
    "start_time": "2021-09-20T16:12:57.846Z"
   },
   {
    "duration": 6,
    "start_time": "2021-09-20T16:12:57.908Z"
   },
   {
    "duration": 16,
    "start_time": "2021-09-20T16:12:57.915Z"
   },
   {
    "duration": 49,
    "start_time": "2021-09-20T16:12:57.933Z"
   },
   {
    "duration": 14,
    "start_time": "2021-09-20T16:12:57.985Z"
   },
   {
    "duration": 11,
    "start_time": "2021-09-20T16:12:58.000Z"
   },
   {
    "duration": 19,
    "start_time": "2021-09-20T16:12:58.012Z"
   },
   {
    "duration": 20,
    "start_time": "2021-09-20T16:12:58.032Z"
   },
   {
    "duration": 31,
    "start_time": "2021-09-20T16:12:58.053Z"
   },
   {
    "duration": 17,
    "start_time": "2021-09-20T16:12:58.086Z"
   },
   {
    "duration": 30,
    "start_time": "2021-09-20T16:12:58.105Z"
   },
   {
    "duration": 26,
    "start_time": "2021-09-20T16:12:58.136Z"
   },
   {
    "duration": 16,
    "start_time": "2021-09-20T16:12:58.163Z"
   },
   {
    "duration": 36,
    "start_time": "2021-09-20T16:12:58.180Z"
   },
   {
    "duration": 14,
    "start_time": "2021-09-20T16:12:58.217Z"
   },
   {
    "duration": 293,
    "start_time": "2021-09-20T16:12:58.233Z"
   },
   {
    "duration": 294,
    "start_time": "2021-09-20T16:12:58.528Z"
   },
   {
    "duration": 283,
    "start_time": "2021-09-20T16:12:58.824Z"
   },
   {
    "duration": 3,
    "start_time": "2021-09-20T16:59:32.676Z"
   },
   {
    "duration": 403,
    "start_time": "2021-09-20T16:59:32.682Z"
   },
   {
    "duration": 2,
    "start_time": "2021-09-20T16:59:33.087Z"
   },
   {
    "duration": 9,
    "start_time": "2021-09-20T16:59:33.090Z"
   },
   {
    "duration": 85,
    "start_time": "2021-09-20T16:59:33.101Z"
   },
   {
    "duration": 64,
    "start_time": "2021-09-20T16:59:33.188Z"
   },
   {
    "duration": 8,
    "start_time": "2021-09-20T16:59:33.254Z"
   },
   {
    "duration": 19,
    "start_time": "2021-09-20T16:59:33.263Z"
   },
   {
    "duration": 121,
    "start_time": "2021-09-20T16:59:33.285Z"
   },
   {
    "duration": 15,
    "start_time": "2021-09-20T16:59:33.408Z"
   },
   {
    "duration": 14,
    "start_time": "2021-09-20T16:59:33.424Z"
   },
   {
    "duration": 14,
    "start_time": "2021-09-20T16:59:33.440Z"
   },
   {
    "duration": 6,
    "start_time": "2021-09-20T16:59:33.456Z"
   },
   {
    "duration": 21,
    "start_time": "2021-09-20T16:59:33.463Z"
   },
   {
    "duration": 17,
    "start_time": "2021-09-20T16:59:33.486Z"
   },
   {
    "duration": 2,
    "start_time": "2021-09-20T16:59:33.505Z"
   },
   {
    "duration": 12,
    "start_time": "2021-09-20T16:59:33.509Z"
   },
   {
    "duration": 8,
    "start_time": "2021-09-20T16:59:33.522Z"
   },
   {
    "duration": 42,
    "start_time": "2021-09-20T16:59:33.531Z"
   },
   {
    "duration": 13,
    "start_time": "2021-09-20T16:59:33.574Z"
   },
   {
    "duration": 314,
    "start_time": "2021-09-20T16:59:33.589Z"
   },
   {
    "duration": 314,
    "start_time": "2021-09-20T16:59:33.905Z"
   },
   {
    "duration": 326,
    "start_time": "2021-09-20T16:59:34.220Z"
   },
   {
    "duration": 3,
    "start_time": "2021-09-20T17:14:39.683Z"
   },
   {
    "duration": 376,
    "start_time": "2021-09-20T17:14:39.692Z"
   },
   {
    "duration": 2,
    "start_time": "2021-09-20T17:14:40.069Z"
   },
   {
    "duration": 13,
    "start_time": "2021-09-20T17:14:40.073Z"
   },
   {
    "duration": 69,
    "start_time": "2021-09-20T17:14:40.087Z"
   },
   {
    "duration": 62,
    "start_time": "2021-09-20T17:14:40.159Z"
   },
   {
    "duration": 6,
    "start_time": "2021-09-20T17:14:40.223Z"
   },
   {
    "duration": 21,
    "start_time": "2021-09-20T17:14:40.231Z"
   },
   {
    "duration": 39,
    "start_time": "2021-09-20T17:14:40.257Z"
   },
   {
    "duration": 22,
    "start_time": "2021-09-20T17:14:40.299Z"
   },
   {
    "duration": 27,
    "start_time": "2021-09-20T17:14:40.323Z"
   },
   {
    "duration": 8,
    "start_time": "2021-09-20T17:14:40.352Z"
   },
   {
    "duration": 14,
    "start_time": "2021-09-20T17:14:40.362Z"
   },
   {
    "duration": 21,
    "start_time": "2021-09-20T17:14:40.378Z"
   },
   {
    "duration": 17,
    "start_time": "2021-09-20T17:14:40.401Z"
   },
   {
    "duration": 2,
    "start_time": "2021-09-20T17:14:40.419Z"
   },
   {
    "duration": 22,
    "start_time": "2021-09-20T17:14:40.422Z"
   },
   {
    "duration": 3,
    "start_time": "2021-09-20T17:14:40.450Z"
   },
   {
    "duration": 20,
    "start_time": "2021-09-20T17:14:40.455Z"
   },
   {
    "duration": 15,
    "start_time": "2021-09-20T17:14:40.477Z"
   },
   {
    "duration": 441,
    "start_time": "2021-09-20T17:14:40.493Z"
   },
   {
    "duration": 350,
    "start_time": "2021-09-20T17:14:40.936Z"
   },
   {
    "duration": 297,
    "start_time": "2021-09-20T17:14:41.288Z"
   },
   {
    "duration": 25,
    "start_time": "2021-09-20T17:14:41.587Z"
   },
   {
    "duration": 6,
    "start_time": "2021-09-20T17:15:17.819Z"
   },
   {
    "duration": 4,
    "start_time": "2021-09-20T17:18:13.141Z"
   },
   {
    "duration": 371,
    "start_time": "2021-09-20T17:18:13.148Z"
   },
   {
    "duration": 2,
    "start_time": "2021-09-20T17:18:13.521Z"
   },
   {
    "duration": 5,
    "start_time": "2021-09-20T17:18:13.525Z"
   },
   {
    "duration": 66,
    "start_time": "2021-09-20T17:18:13.531Z"
   },
   {
    "duration": 72,
    "start_time": "2021-09-20T17:18:13.599Z"
   },
   {
    "duration": 5,
    "start_time": "2021-09-20T17:18:13.674Z"
   },
   {
    "duration": 9,
    "start_time": "2021-09-20T17:18:13.681Z"
   },
   {
    "duration": 128,
    "start_time": "2021-09-20T17:18:13.691Z"
   },
   {
    "duration": 14,
    "start_time": "2021-09-20T17:18:13.820Z"
   },
   {
    "duration": 17,
    "start_time": "2021-09-20T17:18:13.835Z"
   },
   {
    "duration": 6,
    "start_time": "2021-09-20T17:18:13.856Z"
   },
   {
    "duration": 4,
    "start_time": "2021-09-20T17:18:13.864Z"
   },
   {
    "duration": 21,
    "start_time": "2021-09-20T17:18:13.869Z"
   },
   {
    "duration": 17,
    "start_time": "2021-09-20T17:18:13.891Z"
   },
   {
    "duration": 2,
    "start_time": "2021-09-20T17:18:13.910Z"
   },
   {
    "duration": 49,
    "start_time": "2021-09-20T17:18:13.913Z"
   },
   {
    "duration": 3,
    "start_time": "2021-09-20T17:18:13.964Z"
   },
   {
    "duration": 17,
    "start_time": "2021-09-20T17:18:13.970Z"
   },
   {
    "duration": 15,
    "start_time": "2021-09-20T17:18:13.988Z"
   },
   {
    "duration": 330,
    "start_time": "2021-09-20T17:18:14.005Z"
   },
   {
    "duration": 324,
    "start_time": "2021-09-20T17:18:14.337Z"
   },
   {
    "duration": 302,
    "start_time": "2021-09-20T17:18:14.662Z"
   },
   {
    "duration": 5,
    "start_time": "2021-09-20T17:18:14.967Z"
   },
   {
    "duration": 3,
    "start_time": "2021-09-20T17:41:59.124Z"
   },
   {
    "duration": 392,
    "start_time": "2021-09-20T17:41:59.129Z"
   },
   {
    "duration": 2,
    "start_time": "2021-09-20T17:41:59.522Z"
   },
   {
    "duration": 6,
    "start_time": "2021-09-20T17:41:59.526Z"
   },
   {
    "duration": 67,
    "start_time": "2021-09-20T17:41:59.534Z"
   },
   {
    "duration": 68,
    "start_time": "2021-09-20T17:41:59.603Z"
   },
   {
    "duration": 7,
    "start_time": "2021-09-20T17:41:59.673Z"
   },
   {
    "duration": 18,
    "start_time": "2021-09-20T17:41:59.681Z"
   },
   {
    "duration": 31,
    "start_time": "2021-09-20T17:41:59.701Z"
   },
   {
    "duration": 16,
    "start_time": "2021-09-20T17:41:59.734Z"
   },
   {
    "duration": 15,
    "start_time": "2021-09-20T17:41:59.752Z"
   },
   {
    "duration": 5,
    "start_time": "2021-09-20T17:41:59.769Z"
   },
   {
    "duration": 12,
    "start_time": "2021-09-20T17:41:59.776Z"
   },
   {
    "duration": 30,
    "start_time": "2021-09-20T17:41:59.789Z"
   },
   {
    "duration": 28,
    "start_time": "2021-09-20T17:41:59.820Z"
   },
   {
    "duration": 3,
    "start_time": "2021-09-20T17:41:59.850Z"
   },
   {
    "duration": 17,
    "start_time": "2021-09-20T17:41:59.855Z"
   },
   {
    "duration": 4,
    "start_time": "2021-09-20T17:41:59.874Z"
   },
   {
    "duration": 33,
    "start_time": "2021-09-20T17:41:59.880Z"
   },
   {
    "duration": 16,
    "start_time": "2021-09-20T17:41:59.915Z"
   },
   {
    "duration": 328,
    "start_time": "2021-09-20T17:41:59.932Z"
   },
   {
    "duration": 315,
    "start_time": "2021-09-20T17:42:00.262Z"
   },
   {
    "duration": 290,
    "start_time": "2021-09-20T17:42:00.578Z"
   },
   {
    "duration": 5,
    "start_time": "2021-09-20T17:42:00.869Z"
   },
   {
    "duration": 4,
    "start_time": "2021-09-20T17:42:14.266Z"
   },
   {
    "duration": 394,
    "start_time": "2021-09-20T17:42:14.272Z"
   },
   {
    "duration": 2,
    "start_time": "2021-09-20T17:42:14.668Z"
   },
   {
    "duration": 7,
    "start_time": "2021-09-20T17:42:14.672Z"
   },
   {
    "duration": 59,
    "start_time": "2021-09-20T17:42:14.680Z"
   },
   {
    "duration": 63,
    "start_time": "2021-09-20T17:42:14.741Z"
   },
   {
    "duration": 6,
    "start_time": "2021-09-20T17:42:14.807Z"
   },
   {
    "duration": 7,
    "start_time": "2021-09-20T17:42:14.815Z"
   },
   {
    "duration": 46,
    "start_time": "2021-09-20T17:42:14.823Z"
   },
   {
    "duration": 111,
    "start_time": "2021-09-20T17:42:14.871Z"
   },
   {
    "duration": 10,
    "start_time": "2021-09-20T17:42:14.984Z"
   },
   {
    "duration": 5,
    "start_time": "2021-09-20T17:42:14.995Z"
   },
   {
    "duration": 12,
    "start_time": "2021-09-20T17:42:15.002Z"
   },
   {
    "duration": 58,
    "start_time": "2021-09-20T17:42:15.015Z"
   },
   {
    "duration": 42,
    "start_time": "2021-09-20T17:42:15.075Z"
   },
   {
    "duration": 2,
    "start_time": "2021-09-20T17:42:15.119Z"
   },
   {
    "duration": 17,
    "start_time": "2021-09-20T17:42:15.122Z"
   },
   {
    "duration": 25,
    "start_time": "2021-09-20T17:42:15.140Z"
   },
   {
    "duration": 52,
    "start_time": "2021-09-20T17:42:15.167Z"
   },
   {
    "duration": 16,
    "start_time": "2021-09-20T17:42:15.220Z"
   },
   {
    "duration": 383,
    "start_time": "2021-09-20T17:42:15.237Z"
   },
   {
    "duration": 327,
    "start_time": "2021-09-20T17:42:15.622Z"
   },
   {
    "duration": 303,
    "start_time": "2021-09-20T17:42:15.952Z"
   },
   {
    "duration": 5,
    "start_time": "2021-09-20T17:42:16.258Z"
   },
   {
    "duration": 3,
    "start_time": "2021-09-20T17:43:21.084Z"
   },
   {
    "duration": 383,
    "start_time": "2021-09-20T17:43:21.089Z"
   },
   {
    "duration": 2,
    "start_time": "2021-09-20T17:43:21.474Z"
   },
   {
    "duration": 8,
    "start_time": "2021-09-20T17:43:21.478Z"
   },
   {
    "duration": 60,
    "start_time": "2021-09-20T17:43:21.488Z"
   },
   {
    "duration": 65,
    "start_time": "2021-09-20T17:43:21.549Z"
   },
   {
    "duration": 6,
    "start_time": "2021-09-20T17:43:21.616Z"
   },
   {
    "duration": 8,
    "start_time": "2021-09-20T17:43:21.624Z"
   },
   {
    "duration": 34,
    "start_time": "2021-09-20T17:43:21.634Z"
   },
   {
    "duration": 14,
    "start_time": "2021-09-20T17:43:21.670Z"
   },
   {
    "duration": 9,
    "start_time": "2021-09-20T17:43:21.686Z"
   },
   {
    "duration": 5,
    "start_time": "2021-09-20T17:43:21.697Z"
   },
   {
    "duration": 5,
    "start_time": "2021-09-20T17:43:21.703Z"
   },
   {
    "duration": 44,
    "start_time": "2021-09-20T17:43:21.709Z"
   },
   {
    "duration": 28,
    "start_time": "2021-09-20T17:43:21.755Z"
   },
   {
    "duration": 3,
    "start_time": "2021-09-20T17:43:21.784Z"
   },
   {
    "duration": 11,
    "start_time": "2021-09-20T17:43:21.788Z"
   },
   {
    "duration": 2,
    "start_time": "2021-09-20T17:43:21.801Z"
   },
   {
    "duration": 19,
    "start_time": "2021-09-20T17:43:21.805Z"
   },
   {
    "duration": 39,
    "start_time": "2021-09-20T17:43:21.825Z"
   },
   {
    "duration": 331,
    "start_time": "2021-09-20T17:43:21.866Z"
   },
   {
    "duration": 320,
    "start_time": "2021-09-20T17:43:22.198Z"
   },
   {
    "duration": 308,
    "start_time": "2021-09-20T17:43:22.519Z"
   },
   {
    "duration": 5,
    "start_time": "2021-09-20T17:43:22.828Z"
   },
   {
    "duration": 3,
    "start_time": "2021-09-20T17:43:55.863Z"
   },
   {
    "duration": 399,
    "start_time": "2021-09-20T17:43:55.868Z"
   },
   {
    "duration": 2,
    "start_time": "2021-09-20T17:43:56.269Z"
   },
   {
    "duration": 7,
    "start_time": "2021-09-20T17:43:56.273Z"
   },
   {
    "duration": 61,
    "start_time": "2021-09-20T17:43:56.282Z"
   },
   {
    "duration": 67,
    "start_time": "2021-09-20T17:43:56.349Z"
   },
   {
    "duration": 6,
    "start_time": "2021-09-20T17:43:56.419Z"
   },
   {
    "duration": 21,
    "start_time": "2021-09-20T17:43:56.427Z"
   },
   {
    "duration": 134,
    "start_time": "2021-09-20T17:43:56.451Z"
   },
   {
    "duration": 14,
    "start_time": "2021-09-20T17:43:56.586Z"
   },
   {
    "duration": 10,
    "start_time": "2021-09-20T17:43:56.601Z"
   },
   {
    "duration": 5,
    "start_time": "2021-09-20T17:43:56.613Z"
   },
   {
    "duration": 8,
    "start_time": "2021-09-20T17:43:56.619Z"
   },
   {
    "duration": 35,
    "start_time": "2021-09-20T17:43:56.629Z"
   },
   {
    "duration": 20,
    "start_time": "2021-09-20T17:43:56.666Z"
   },
   {
    "duration": 2,
    "start_time": "2021-09-20T17:43:56.687Z"
   },
   {
    "duration": 10,
    "start_time": "2021-09-20T17:43:56.691Z"
   },
   {
    "duration": 4,
    "start_time": "2021-09-20T17:43:56.703Z"
   },
   {
    "duration": 22,
    "start_time": "2021-09-20T17:43:56.710Z"
   },
   {
    "duration": 25,
    "start_time": "2021-09-20T17:43:56.734Z"
   },
   {
    "duration": 332,
    "start_time": "2021-09-20T17:43:56.761Z"
   },
   {
    "duration": 323,
    "start_time": "2021-09-20T17:43:57.095Z"
   },
   {
    "duration": 301,
    "start_time": "2021-09-20T17:43:57.419Z"
   },
   {
    "duration": 5,
    "start_time": "2021-09-20T17:43:57.721Z"
   },
   {
    "duration": 3,
    "start_time": "2021-09-20T17:47:23.390Z"
   },
   {
    "duration": 383,
    "start_time": "2021-09-20T17:47:23.395Z"
   },
   {
    "duration": 3,
    "start_time": "2021-09-20T17:47:23.780Z"
   },
   {
    "duration": 17,
    "start_time": "2021-09-20T17:47:23.785Z"
   },
   {
    "duration": 86,
    "start_time": "2021-09-20T17:47:23.804Z"
   },
   {
    "duration": 66,
    "start_time": "2021-09-20T17:47:23.892Z"
   },
   {
    "duration": 7,
    "start_time": "2021-09-20T17:47:23.962Z"
   },
   {
    "duration": 21,
    "start_time": "2021-09-20T17:47:23.971Z"
   },
   {
    "duration": 45,
    "start_time": "2021-09-20T17:47:23.993Z"
   },
   {
    "duration": 22,
    "start_time": "2021-09-20T17:47:24.039Z"
   },
   {
    "duration": 11,
    "start_time": "2021-09-20T17:47:24.063Z"
   },
   {
    "duration": 6,
    "start_time": "2021-09-20T17:47:24.076Z"
   },
   {
    "duration": 7,
    "start_time": "2021-09-20T17:47:24.083Z"
   },
   {
    "duration": 22,
    "start_time": "2021-09-20T17:47:24.092Z"
   },
   {
    "duration": 44,
    "start_time": "2021-09-20T17:47:24.116Z"
   },
   {
    "duration": 2,
    "start_time": "2021-09-20T17:47:24.162Z"
   },
   {
    "duration": 13,
    "start_time": "2021-09-20T17:47:24.165Z"
   },
   {
    "duration": 3,
    "start_time": "2021-09-20T17:47:24.179Z"
   },
   {
    "duration": 19,
    "start_time": "2021-09-20T17:47:24.184Z"
   },
   {
    "duration": 15,
    "start_time": "2021-09-20T17:47:24.205Z"
   },
   {
    "duration": 352,
    "start_time": "2021-09-20T17:47:24.221Z"
   },
   {
    "duration": 316,
    "start_time": "2021-09-20T17:47:24.575Z"
   },
   {
    "duration": 306,
    "start_time": "2021-09-20T17:47:24.892Z"
   },
   {
    "duration": 81,
    "start_time": "2021-09-20T17:47:25.201Z"
   },
   {
    "duration": -3648510,
    "start_time": "2021-09-20T18:48:13.794Z"
   },
   {
    "duration": 3,
    "start_time": "2021-09-20T17:47:37.255Z"
   },
   {
    "duration": 372,
    "start_time": "2021-09-20T17:47:37.260Z"
   },
   {
    "duration": 2,
    "start_time": "2021-09-20T17:47:37.634Z"
   },
   {
    "duration": 5,
    "start_time": "2021-09-20T17:47:37.638Z"
   },
   {
    "duration": 67,
    "start_time": "2021-09-20T17:47:37.645Z"
   },
   {
    "duration": 72,
    "start_time": "2021-09-20T17:47:37.713Z"
   },
   {
    "duration": 6,
    "start_time": "2021-09-20T17:47:37.787Z"
   },
   {
    "duration": 8,
    "start_time": "2021-09-20T17:47:37.795Z"
   },
   {
    "duration": 122,
    "start_time": "2021-09-20T17:47:37.805Z"
   },
   {
    "duration": 27,
    "start_time": "2021-09-20T17:47:37.928Z"
   },
   {
    "duration": 12,
    "start_time": "2021-09-20T17:47:37.958Z"
   },
   {
    "duration": 4,
    "start_time": "2021-09-20T17:47:37.972Z"
   },
   {
    "duration": 14,
    "start_time": "2021-09-20T17:47:37.978Z"
   },
   {
    "duration": 27,
    "start_time": "2021-09-20T17:47:37.993Z"
   },
   {
    "duration": 17,
    "start_time": "2021-09-20T17:47:38.021Z"
   },
   {
    "duration": 8,
    "start_time": "2021-09-20T17:47:38.040Z"
   },
   {
    "duration": 21,
    "start_time": "2021-09-20T17:47:38.051Z"
   },
   {
    "duration": 6,
    "start_time": "2021-09-20T17:47:38.074Z"
   },
   {
    "duration": 29,
    "start_time": "2021-09-20T17:47:38.082Z"
   },
   {
    "duration": 14,
    "start_time": "2021-09-20T17:47:38.112Z"
   },
   {
    "duration": 310,
    "start_time": "2021-09-20T17:47:38.127Z"
   },
   {
    "duration": 310,
    "start_time": "2021-09-20T17:47:38.439Z"
   },
   {
    "duration": 291,
    "start_time": "2021-09-20T17:47:38.757Z"
   },
   {
    "duration": 30,
    "start_time": "2021-09-20T17:47:39.057Z"
   },
   {
    "duration": 278,
    "start_time": "2021-09-20T17:47:39.089Z"
   },
   {
    "duration": 3,
    "start_time": "2021-09-20T17:51:03.712Z"
   },
   {
    "duration": 472,
    "start_time": "2021-09-20T17:51:03.718Z"
   },
   {
    "duration": 2,
    "start_time": "2021-09-20T17:51:04.192Z"
   },
   {
    "duration": 14,
    "start_time": "2021-09-20T17:51:04.195Z"
   },
   {
    "duration": 69,
    "start_time": "2021-09-20T17:51:04.210Z"
   },
   {
    "duration": 70,
    "start_time": "2021-09-20T17:51:04.280Z"
   },
   {
    "duration": 6,
    "start_time": "2021-09-20T17:51:04.351Z"
   },
   {
    "duration": 17,
    "start_time": "2021-09-20T17:51:04.359Z"
   },
   {
    "duration": 25,
    "start_time": "2021-09-20T17:51:04.379Z"
   },
   {
    "duration": 14,
    "start_time": "2021-09-20T17:51:04.406Z"
   },
   {
    "duration": 38,
    "start_time": "2021-09-20T17:51:04.422Z"
   },
   {
    "duration": 5,
    "start_time": "2021-09-20T17:51:04.463Z"
   },
   {
    "duration": 8,
    "start_time": "2021-09-20T17:51:04.470Z"
   },
   {
    "duration": 22,
    "start_time": "2021-09-20T17:51:04.480Z"
   },
   {
    "duration": 18,
    "start_time": "2021-09-20T17:51:04.504Z"
   },
   {
    "duration": 2,
    "start_time": "2021-09-20T17:51:04.523Z"
   },
   {
    "duration": 30,
    "start_time": "2021-09-20T17:51:04.527Z"
   },
   {
    "duration": 3,
    "start_time": "2021-09-20T17:51:04.558Z"
   },
   {
    "duration": 21,
    "start_time": "2021-09-20T17:51:04.562Z"
   },
   {
    "duration": 14,
    "start_time": "2021-09-20T17:51:04.584Z"
   },
   {
    "duration": 328,
    "start_time": "2021-09-20T17:51:04.600Z"
   },
   {
    "duration": 309,
    "start_time": "2021-09-20T17:51:04.930Z"
   },
   {
    "duration": 294,
    "start_time": "2021-09-20T17:51:05.241Z"
   },
   {
    "duration": 40,
    "start_time": "2021-09-20T17:51:05.537Z"
   },
   {
    "duration": 276,
    "start_time": "2021-09-20T17:51:05.579Z"
   },
   {
    "duration": 3,
    "start_time": "2021-09-20T17:51:33.600Z"
   },
   {
    "duration": 463,
    "start_time": "2021-09-20T17:51:33.605Z"
   },
   {
    "duration": 2,
    "start_time": "2021-09-20T17:51:34.070Z"
   },
   {
    "duration": 7,
    "start_time": "2021-09-20T17:51:34.074Z"
   },
   {
    "duration": 59,
    "start_time": "2021-09-20T17:51:34.082Z"
   },
   {
    "duration": 65,
    "start_time": "2021-09-20T17:51:34.143Z"
   },
   {
    "duration": 6,
    "start_time": "2021-09-20T17:51:34.210Z"
   },
   {
    "duration": 8,
    "start_time": "2021-09-20T17:51:34.218Z"
   },
   {
    "duration": 45,
    "start_time": "2021-09-20T17:51:34.227Z"
   },
   {
    "duration": 16,
    "start_time": "2021-09-20T17:51:34.273Z"
   },
   {
    "duration": 12,
    "start_time": "2021-09-20T17:51:34.290Z"
   },
   {
    "duration": 6,
    "start_time": "2021-09-20T17:51:34.304Z"
   },
   {
    "duration": 40,
    "start_time": "2021-09-20T17:51:34.311Z"
   },
   {
    "duration": 23,
    "start_time": "2021-09-20T17:51:34.353Z"
   },
   {
    "duration": 19,
    "start_time": "2021-09-20T17:51:34.378Z"
   },
   {
    "duration": 2,
    "start_time": "2021-09-20T17:51:34.398Z"
   },
   {
    "duration": 11,
    "start_time": "2021-09-20T17:51:34.402Z"
   },
   {
    "duration": 3,
    "start_time": "2021-09-20T17:51:34.414Z"
   },
   {
    "duration": 50,
    "start_time": "2021-09-20T17:51:34.419Z"
   },
   {
    "duration": 15,
    "start_time": "2021-09-20T17:51:34.471Z"
   },
   {
    "duration": 324,
    "start_time": "2021-09-20T17:51:34.487Z"
   },
   {
    "duration": 313,
    "start_time": "2021-09-20T17:51:34.813Z"
   },
   {
    "duration": 299,
    "start_time": "2021-09-20T17:51:35.127Z"
   },
   {
    "duration": 45,
    "start_time": "2021-09-20T17:51:35.428Z"
   },
   {
    "duration": 874,
    "start_time": "2021-09-20T17:51:35.475Z"
   },
   {
    "duration": 3,
    "start_time": "2021-09-20T17:52:44.664Z"
   },
   {
    "duration": 403,
    "start_time": "2021-09-20T17:52:44.669Z"
   },
   {
    "duration": 2,
    "start_time": "2021-09-20T17:52:45.074Z"
   },
   {
    "duration": 13,
    "start_time": "2021-09-20T17:52:45.077Z"
   },
   {
    "duration": 73,
    "start_time": "2021-09-20T17:52:45.091Z"
   },
   {
    "duration": 60,
    "start_time": "2021-09-20T17:52:45.166Z"
   },
   {
    "duration": 6,
    "start_time": "2021-09-20T17:52:45.229Z"
   },
   {
    "duration": 6684,
    "start_time": "2021-09-20T17:52:45.249Z"
   },
   {
    "duration": -3648546,
    "start_time": "2021-09-20T18:53:40.481Z"
   },
   {
    "duration": -3648563,
    "start_time": "2021-09-20T18:53:40.500Z"
   },
   {
    "duration": -3648596,
    "start_time": "2021-09-20T18:53:40.534Z"
   },
   {
    "duration": -3648624,
    "start_time": "2021-09-20T18:53:40.563Z"
   },
   {
    "duration": -3648643,
    "start_time": "2021-09-20T18:53:40.582Z"
   },
   {
    "duration": -3648660,
    "start_time": "2021-09-20T18:53:40.600Z"
   },
   {
    "duration": -3648664,
    "start_time": "2021-09-20T18:53:40.605Z"
   },
   {
    "duration": -3648667,
    "start_time": "2021-09-20T18:53:40.609Z"
   },
   {
    "duration": -3648666,
    "start_time": "2021-09-20T18:53:40.613Z"
   },
   {
    "duration": -3648669,
    "start_time": "2021-09-20T18:53:40.618Z"
   },
   {
    "duration": -3648671,
    "start_time": "2021-09-20T18:53:40.622Z"
   },
   {
    "duration": -3648673,
    "start_time": "2021-09-20T18:53:40.625Z"
   },
   {
    "duration": -3648675,
    "start_time": "2021-09-20T18:53:40.629Z"
   },
   {
    "duration": -3648678,
    "start_time": "2021-09-20T18:53:40.634Z"
   },
   {
    "duration": -3648681,
    "start_time": "2021-09-20T18:53:40.638Z"
   },
   {
    "duration": -3648686,
    "start_time": "2021-09-20T18:53:40.645Z"
   },
   {
    "duration": -3648690,
    "start_time": "2021-09-20T18:53:40.650Z"
   },
   {
    "duration": 3,
    "start_time": "2021-09-20T17:53:11.479Z"
   },
   {
    "duration": 386,
    "start_time": "2021-09-20T17:53:11.486Z"
   },
   {
    "duration": 2,
    "start_time": "2021-09-20T17:53:11.874Z"
   },
   {
    "duration": 14,
    "start_time": "2021-09-20T17:53:11.878Z"
   },
   {
    "duration": 69,
    "start_time": "2021-09-20T17:53:11.893Z"
   },
   {
    "duration": 61,
    "start_time": "2021-09-20T17:53:11.963Z"
   },
   {
    "duration": 5,
    "start_time": "2021-09-20T17:53:12.026Z"
   },
   {
    "duration": 26,
    "start_time": "2021-09-20T17:53:12.033Z"
   },
   {
    "duration": 31,
    "start_time": "2021-09-20T17:53:12.060Z"
   },
   {
    "duration": 14,
    "start_time": "2021-09-20T17:53:12.093Z"
   },
   {
    "duration": 10,
    "start_time": "2021-09-20T17:53:12.109Z"
   },
   {
    "duration": 5,
    "start_time": "2021-09-20T17:53:12.120Z"
   },
   {
    "duration": 18,
    "start_time": "2021-09-20T17:53:12.126Z"
   },
   {
    "duration": 29,
    "start_time": "2021-09-20T17:53:12.145Z"
   },
   {
    "duration": 17,
    "start_time": "2021-09-20T17:53:12.176Z"
   },
   {
    "duration": 2,
    "start_time": "2021-09-20T17:53:12.195Z"
   },
   {
    "duration": 24,
    "start_time": "2021-09-20T17:53:12.198Z"
   },
   {
    "duration": 12,
    "start_time": "2021-09-20T17:53:12.223Z"
   },
   {
    "duration": 29,
    "start_time": "2021-09-20T17:53:12.236Z"
   },
   {
    "duration": 15,
    "start_time": "2021-09-20T17:53:12.267Z"
   },
   {
    "duration": 324,
    "start_time": "2021-09-20T17:53:12.284Z"
   },
   {
    "duration": 304,
    "start_time": "2021-09-20T17:53:12.610Z"
   },
   {
    "duration": 297,
    "start_time": "2021-09-20T17:53:12.915Z"
   },
   {
    "duration": 39,
    "start_time": "2021-09-20T17:53:13.214Z"
   },
   {
    "duration": 268,
    "start_time": "2021-09-20T17:53:13.255Z"
   },
   {
    "duration": 3,
    "start_time": "2021-09-20T17:53:58.499Z"
   },
   {
    "duration": 361,
    "start_time": "2021-09-20T17:53:58.504Z"
   },
   {
    "duration": 2,
    "start_time": "2021-09-20T17:53:58.867Z"
   },
   {
    "duration": 13,
    "start_time": "2021-09-20T17:53:58.871Z"
   },
   {
    "duration": 61,
    "start_time": "2021-09-20T17:53:58.885Z"
   },
   {
    "duration": 62,
    "start_time": "2021-09-20T17:53:58.952Z"
   },
   {
    "duration": 6,
    "start_time": "2021-09-20T17:53:59.017Z"
   },
   {
    "duration": 27,
    "start_time": "2021-09-20T17:53:59.025Z"
   },
   {
    "duration": 130,
    "start_time": "2021-09-20T17:53:59.054Z"
   },
   {
    "duration": 13,
    "start_time": "2021-09-20T17:53:59.186Z"
   },
   {
    "duration": 9,
    "start_time": "2021-09-20T17:53:59.201Z"
   },
   {
    "duration": 4,
    "start_time": "2021-09-20T17:53:59.212Z"
   },
   {
    "duration": 7,
    "start_time": "2021-09-20T17:53:59.218Z"
   },
   {
    "duration": 40,
    "start_time": "2021-09-20T17:53:59.226Z"
   },
   {
    "duration": 17,
    "start_time": "2021-09-20T17:53:59.268Z"
   },
   {
    "duration": 2,
    "start_time": "2021-09-20T17:53:59.286Z"
   },
   {
    "duration": 16,
    "start_time": "2021-09-20T17:53:59.289Z"
   },
   {
    "duration": 9,
    "start_time": "2021-09-20T17:53:59.307Z"
   },
   {
    "duration": 23,
    "start_time": "2021-09-20T17:53:59.319Z"
   },
   {
    "duration": 26,
    "start_time": "2021-09-20T17:53:59.344Z"
   },
   {
    "duration": 332,
    "start_time": "2021-09-20T17:53:59.372Z"
   },
   {
    "duration": 310,
    "start_time": "2021-09-20T17:53:59.705Z"
   },
   {
    "duration": 298,
    "start_time": "2021-09-20T17:54:00.017Z"
   },
   {
    "duration": 48,
    "start_time": "2021-09-20T17:54:00.317Z"
   },
   {
    "duration": 264,
    "start_time": "2021-09-20T17:54:00.367Z"
   },
   {
    "duration": 3,
    "start_time": "2021-09-20T17:55:25.036Z"
   },
   {
    "duration": 363,
    "start_time": "2021-09-20T17:55:25.040Z"
   },
   {
    "duration": 2,
    "start_time": "2021-09-20T17:55:25.405Z"
   },
   {
    "duration": 8,
    "start_time": "2021-09-20T17:55:25.409Z"
   },
   {
    "duration": 65,
    "start_time": "2021-09-20T17:55:25.419Z"
   },
   {
    "duration": 66,
    "start_time": "2021-09-20T17:55:25.486Z"
   },
   {
    "duration": 8,
    "start_time": "2021-09-20T17:55:25.555Z"
   },
   {
    "duration": 7,
    "start_time": "2021-09-20T17:55:25.565Z"
   },
   {
    "duration": 24,
    "start_time": "2021-09-20T17:55:25.574Z"
   },
   {
    "duration": 14,
    "start_time": "2021-09-20T17:55:25.599Z"
   },
   {
    "duration": 39,
    "start_time": "2021-09-20T17:55:25.615Z"
   },
   {
    "duration": 7,
    "start_time": "2021-09-20T17:55:25.657Z"
   },
   {
    "duration": 7,
    "start_time": "2021-09-20T17:55:25.665Z"
   },
   {
    "duration": 25,
    "start_time": "2021-09-20T17:55:25.673Z"
   },
   {
    "duration": 19,
    "start_time": "2021-09-20T17:55:25.699Z"
   },
   {
    "duration": 46,
    "start_time": "2021-09-20T17:55:25.720Z"
   },
   {
    "duration": 9,
    "start_time": "2021-09-20T17:55:25.769Z"
   },
   {
    "duration": 8,
    "start_time": "2021-09-20T17:55:25.779Z"
   },
   {
    "duration": 20,
    "start_time": "2021-09-20T17:55:25.789Z"
   },
   {
    "duration": 14,
    "start_time": "2021-09-20T17:55:25.810Z"
   },
   {
    "duration": 467,
    "start_time": "2021-09-20T17:55:25.825Z"
   },
   {
    "duration": 361,
    "start_time": "2021-09-20T17:55:26.344Z"
   },
   {
    "duration": 300,
    "start_time": "2021-09-20T17:55:26.707Z"
   },
   {
    "duration": 5,
    "start_time": "2021-09-20T17:55:27.009Z"
   },
   {
    "duration": 261,
    "start_time": "2021-09-20T17:55:27.015Z"
   },
   {
    "duration": 4,
    "start_time": "2021-09-20T17:56:51.529Z"
   },
   {
    "duration": 468,
    "start_time": "2021-09-20T17:56:51.534Z"
   },
   {
    "duration": 2,
    "start_time": "2021-09-20T17:56:52.004Z"
   },
   {
    "duration": 4,
    "start_time": "2021-09-20T17:56:52.008Z"
   },
   {
    "duration": 73,
    "start_time": "2021-09-20T17:56:52.013Z"
   },
   {
    "duration": 65,
    "start_time": "2021-09-20T17:56:52.088Z"
   },
   {
    "duration": 6,
    "start_time": "2021-09-20T17:56:52.156Z"
   },
   {
    "duration": 18,
    "start_time": "2021-09-20T17:56:52.164Z"
   },
   {
    "duration": 40,
    "start_time": "2021-09-20T17:56:52.184Z"
   },
   {
    "duration": 13,
    "start_time": "2021-09-20T17:56:52.226Z"
   },
   {
    "duration": 19,
    "start_time": "2021-09-20T17:56:52.241Z"
   },
   {
    "duration": 22,
    "start_time": "2021-09-20T17:56:52.262Z"
   },
   {
    "duration": 16,
    "start_time": "2021-09-20T17:56:52.285Z"
   },
   {
    "duration": 28,
    "start_time": "2021-09-20T17:56:52.302Z"
   },
   {
    "duration": 26,
    "start_time": "2021-09-20T17:56:52.332Z"
   },
   {
    "duration": 6,
    "start_time": "2021-09-20T17:56:52.360Z"
   },
   {
    "duration": 22,
    "start_time": "2021-09-20T17:56:52.367Z"
   },
   {
    "duration": 6,
    "start_time": "2021-09-20T17:56:52.391Z"
   },
   {
    "duration": 39,
    "start_time": "2021-09-20T17:56:52.399Z"
   },
   {
    "duration": 22,
    "start_time": "2021-09-20T17:56:52.439Z"
   },
   {
    "duration": 331,
    "start_time": "2021-09-20T17:56:52.463Z"
   },
   {
    "duration": 315,
    "start_time": "2021-09-20T17:56:52.796Z"
   },
   {
    "duration": 300,
    "start_time": "2021-09-20T17:56:53.113Z"
   },
   {
    "duration": 1082,
    "start_time": "2021-09-20T17:56:53.414Z"
   },
   {
    "duration": -3648492,
    "start_time": "2021-09-20T18:57:42.990Z"
   },
   {
    "duration": 3,
    "start_time": "2021-09-20T17:57:00.457Z"
   },
   {
    "duration": 374,
    "start_time": "2021-09-20T17:57:00.462Z"
   },
   {
    "duration": 2,
    "start_time": "2021-09-20T17:57:00.837Z"
   },
   {
    "duration": 15,
    "start_time": "2021-09-20T17:57:00.841Z"
   },
   {
    "duration": 74,
    "start_time": "2021-09-20T17:57:00.858Z"
   },
   {
    "duration": 65,
    "start_time": "2021-09-20T17:57:00.934Z"
   },
   {
    "duration": 6,
    "start_time": "2021-09-20T17:57:01.001Z"
   },
   {
    "duration": 26,
    "start_time": "2021-09-20T17:57:01.009Z"
   },
   {
    "duration": 37,
    "start_time": "2021-09-20T17:57:01.037Z"
   },
   {
    "duration": 17,
    "start_time": "2021-09-20T17:57:01.076Z"
   },
   {
    "duration": 34,
    "start_time": "2021-09-20T17:57:01.095Z"
   },
   {
    "duration": 26,
    "start_time": "2021-09-20T17:57:01.130Z"
   },
   {
    "duration": 14,
    "start_time": "2021-09-20T17:57:01.158Z"
   },
   {
    "duration": 23,
    "start_time": "2021-09-20T17:57:01.174Z"
   },
   {
    "duration": 19,
    "start_time": "2021-09-20T17:57:01.199Z"
   },
   {
    "duration": 20,
    "start_time": "2021-09-20T17:57:01.219Z"
   },
   {
    "duration": 30,
    "start_time": "2021-09-20T17:57:01.241Z"
   },
   {
    "duration": 14,
    "start_time": "2021-09-20T17:57:01.272Z"
   },
   {
    "duration": 61,
    "start_time": "2021-09-20T17:57:01.288Z"
   },
   {
    "duration": 30,
    "start_time": "2021-09-20T17:57:01.351Z"
   },
   {
    "duration": 335,
    "start_time": "2021-09-20T17:57:01.383Z"
   },
   {
    "duration": 325,
    "start_time": "2021-09-20T17:57:01.719Z"
   },
   {
    "duration": 294,
    "start_time": "2021-09-20T17:57:02.047Z"
   },
   {
    "duration": 6,
    "start_time": "2021-09-20T17:57:02.344Z"
   },
   {
    "duration": 47,
    "start_time": "2021-09-20T17:57:02.352Z"
   },
   {
    "duration": 3,
    "start_time": "2021-09-20T18:00:34.426Z"
   },
   {
    "duration": 380,
    "start_time": "2021-09-20T18:00:34.431Z"
   },
   {
    "duration": 3,
    "start_time": "2021-09-20T18:00:34.812Z"
   },
   {
    "duration": 9,
    "start_time": "2021-09-20T18:00:34.817Z"
   },
   {
    "duration": 64,
    "start_time": "2021-09-20T18:00:34.827Z"
   },
   {
    "duration": 72,
    "start_time": "2021-09-20T18:00:34.892Z"
   },
   {
    "duration": 6,
    "start_time": "2021-09-20T18:00:34.966Z"
   },
   {
    "duration": 8,
    "start_time": "2021-09-20T18:00:34.974Z"
   },
   {
    "duration": 136,
    "start_time": "2021-09-20T18:00:34.984Z"
   },
   {
    "duration": 14,
    "start_time": "2021-09-20T18:00:35.122Z"
   },
   {
    "duration": 11,
    "start_time": "2021-09-20T18:00:35.137Z"
   },
   {
    "duration": 5,
    "start_time": "2021-09-20T18:00:35.149Z"
   },
   {
    "duration": 5,
    "start_time": "2021-09-20T18:00:35.156Z"
   },
   {
    "duration": 21,
    "start_time": "2021-09-20T18:00:35.164Z"
   },
   {
    "duration": 18,
    "start_time": "2021-09-20T18:00:35.186Z"
   },
   {
    "duration": 2,
    "start_time": "2021-09-20T18:00:35.206Z"
   },
   {
    "duration": 39,
    "start_time": "2021-09-20T18:00:35.209Z"
   },
   {
    "duration": 2,
    "start_time": "2021-09-20T18:00:35.250Z"
   },
   {
    "duration": 25,
    "start_time": "2021-09-20T18:00:35.254Z"
   },
   {
    "duration": 15,
    "start_time": "2021-09-20T18:00:35.281Z"
   },
   {
    "duration": 327,
    "start_time": "2021-09-20T18:00:35.298Z"
   },
   {
    "duration": 311,
    "start_time": "2021-09-20T18:00:35.627Z"
   },
   {
    "duration": 298,
    "start_time": "2021-09-20T18:00:35.940Z"
   },
   {
    "duration": 5,
    "start_time": "2021-09-20T18:00:36.240Z"
   },
   {
    "duration": 271,
    "start_time": "2021-09-20T18:00:36.247Z"
   },
   {
    "duration": 5,
    "start_time": "2021-09-20T18:01:00.243Z"
   },
   {
    "duration": 388,
    "start_time": "2021-09-20T18:01:00.250Z"
   },
   {
    "duration": 2,
    "start_time": "2021-09-20T18:01:00.640Z"
   },
   {
    "duration": 16,
    "start_time": "2021-09-20T18:01:00.644Z"
   },
   {
    "duration": 65,
    "start_time": "2021-09-20T18:01:00.662Z"
   },
   {
    "duration": 65,
    "start_time": "2021-09-20T18:01:00.729Z"
   },
   {
    "duration": 7,
    "start_time": "2021-09-20T18:01:00.796Z"
   },
   {
    "duration": 20,
    "start_time": "2021-09-20T18:01:00.805Z"
   },
   {
    "duration": 40,
    "start_time": "2021-09-20T18:01:00.828Z"
   },
   {
    "duration": 15,
    "start_time": "2021-09-20T18:01:00.870Z"
   },
   {
    "duration": 20,
    "start_time": "2021-09-20T18:01:00.887Z"
   },
   {
    "duration": 26,
    "start_time": "2021-09-20T18:01:00.909Z"
   },
   {
    "duration": 16,
    "start_time": "2021-09-20T18:01:00.937Z"
   },
   {
    "duration": 44,
    "start_time": "2021-09-20T18:01:00.956Z"
   },
   {
    "duration": 23,
    "start_time": "2021-09-20T18:01:01.002Z"
   },
   {
    "duration": 16,
    "start_time": "2021-09-20T18:01:01.026Z"
   },
   {
    "duration": 24,
    "start_time": "2021-09-20T18:01:01.044Z"
   },
   {
    "duration": 13,
    "start_time": "2021-09-20T18:01:01.070Z"
   },
   {
    "duration": 34,
    "start_time": "2021-09-20T18:01:01.085Z"
   },
   {
    "duration": 39,
    "start_time": "2021-09-20T18:01:01.121Z"
   },
   {
    "duration": 332,
    "start_time": "2021-09-20T18:01:01.161Z"
   },
   {
    "duration": 307,
    "start_time": "2021-09-20T18:01:01.495Z"
   },
   {
    "duration": 307,
    "start_time": "2021-09-20T18:01:01.804Z"
   },
   {
    "duration": 5,
    "start_time": "2021-09-20T18:01:02.112Z"
   },
   {
    "duration": 134,
    "start_time": "2021-09-20T18:01:02.118Z"
   },
   {
    "duration": 4,
    "start_time": "2021-09-20T18:01:42.846Z"
   },
   {
    "duration": 384,
    "start_time": "2021-09-20T18:01:42.852Z"
   },
   {
    "duration": 2,
    "start_time": "2021-09-20T18:01:43.238Z"
   },
   {
    "duration": 13,
    "start_time": "2021-09-20T18:01:43.242Z"
   },
   {
    "duration": 58,
    "start_time": "2021-09-20T18:01:43.257Z"
   },
   {
    "duration": 70,
    "start_time": "2021-09-20T18:01:43.317Z"
   },
   {
    "duration": 6,
    "start_time": "2021-09-20T18:01:43.389Z"
   },
   {
    "duration": 7,
    "start_time": "2021-09-20T18:01:43.397Z"
   },
   {
    "duration": 39,
    "start_time": "2021-09-20T18:01:43.407Z"
   },
   {
    "duration": 17,
    "start_time": "2021-09-20T18:01:43.452Z"
   },
   {
    "duration": 11,
    "start_time": "2021-09-20T18:01:43.471Z"
   },
   {
    "duration": 7,
    "start_time": "2021-09-20T18:01:43.483Z"
   },
   {
    "duration": 5,
    "start_time": "2021-09-20T18:01:43.491Z"
   },
   {
    "duration": 21,
    "start_time": "2021-09-20T18:01:43.498Z"
   },
   {
    "duration": 26,
    "start_time": "2021-09-20T18:01:43.547Z"
   },
   {
    "duration": 2,
    "start_time": "2021-09-20T18:01:43.574Z"
   },
   {
    "duration": 11,
    "start_time": "2021-09-20T18:01:43.578Z"
   },
   {
    "duration": 4,
    "start_time": "2021-09-20T18:01:43.590Z"
   },
   {
    "duration": 21,
    "start_time": "2021-09-20T18:01:43.596Z"
   },
   {
    "duration": 13,
    "start_time": "2021-09-20T18:01:43.619Z"
   },
   {
    "duration": 322,
    "start_time": "2021-09-20T18:01:43.648Z"
   },
   {
    "duration": 323,
    "start_time": "2021-09-20T18:01:43.972Z"
   },
   {
    "duration": 299,
    "start_time": "2021-09-20T18:01:44.297Z"
   },
   {
    "duration": 4,
    "start_time": "2021-09-20T18:01:44.598Z"
   },
   {
    "duration": 52,
    "start_time": "2021-09-20T18:01:44.604Z"
   },
   {
    "duration": 3,
    "start_time": "2021-09-20T18:03:11.711Z"
   },
   {
    "duration": 370,
    "start_time": "2021-09-20T18:03:11.734Z"
   },
   {
    "duration": 2,
    "start_time": "2021-09-20T18:03:12.106Z"
   },
   {
    "duration": 4,
    "start_time": "2021-09-20T18:03:12.110Z"
   },
   {
    "duration": 65,
    "start_time": "2021-09-20T18:03:12.116Z"
   },
   {
    "duration": 62,
    "start_time": "2021-09-20T18:03:12.183Z"
   },
   {
    "duration": 9,
    "start_time": "2021-09-20T18:03:12.253Z"
   },
   {
    "duration": 14,
    "start_time": "2021-09-20T18:03:12.263Z"
   },
   {
    "duration": 28,
    "start_time": "2021-09-20T18:03:12.279Z"
   },
   {
    "duration": 14,
    "start_time": "2021-09-20T18:03:12.310Z"
   },
   {
    "duration": 18,
    "start_time": "2021-09-20T18:03:12.326Z"
   },
   {
    "duration": 5,
    "start_time": "2021-09-20T18:03:12.346Z"
   },
   {
    "duration": 6,
    "start_time": "2021-09-20T18:03:12.356Z"
   },
   {
    "duration": 24,
    "start_time": "2021-09-20T18:03:12.365Z"
   },
   {
    "duration": 19,
    "start_time": "2021-09-20T18:03:12.390Z"
   },
   {
    "duration": 3,
    "start_time": "2021-09-20T18:03:12.411Z"
   },
   {
    "duration": 47,
    "start_time": "2021-09-20T18:03:12.415Z"
   },
   {
    "duration": 3,
    "start_time": "2021-09-20T18:03:12.463Z"
   },
   {
    "duration": 21,
    "start_time": "2021-09-20T18:03:12.468Z"
   },
   {
    "duration": 15,
    "start_time": "2021-09-20T18:03:12.491Z"
   },
   {
    "duration": 322,
    "start_time": "2021-09-20T18:03:12.508Z"
   },
   {
    "duration": 306,
    "start_time": "2021-09-20T18:03:12.831Z"
   },
   {
    "duration": 301,
    "start_time": "2021-09-20T18:03:13.143Z"
   },
   {
    "duration": 7,
    "start_time": "2021-09-20T18:03:13.446Z"
   },
   {
    "duration": 123,
    "start_time": "2021-09-20T18:03:13.455Z"
   },
   {
    "duration": 3,
    "start_time": "2021-09-20T18:08:16.835Z"
   },
   {
    "duration": 363,
    "start_time": "2021-09-20T18:08:16.841Z"
   },
   {
    "duration": 2,
    "start_time": "2021-09-20T18:08:17.206Z"
   },
   {
    "duration": 8,
    "start_time": "2021-09-20T18:08:17.210Z"
   },
   {
    "duration": 75,
    "start_time": "2021-09-20T18:08:17.220Z"
   },
   {
    "duration": 72,
    "start_time": "2021-09-20T18:08:17.297Z"
   },
   {
    "duration": 8,
    "start_time": "2021-09-20T18:08:17.370Z"
   },
   {
    "duration": 8,
    "start_time": "2021-09-20T18:08:17.380Z"
   },
   {
    "duration": 23,
    "start_time": "2021-09-20T18:08:17.390Z"
   },
   {
    "duration": 42,
    "start_time": "2021-09-20T18:08:17.415Z"
   },
   {
    "duration": 12,
    "start_time": "2021-09-20T18:08:17.460Z"
   },
   {
    "duration": 5,
    "start_time": "2021-09-20T18:08:17.473Z"
   },
   {
    "duration": 4,
    "start_time": "2021-09-20T18:08:17.479Z"
   },
   {
    "duration": 22,
    "start_time": "2021-09-20T18:08:17.484Z"
   },
   {
    "duration": 18,
    "start_time": "2021-09-20T18:08:17.507Z"
   },
   {
    "duration": 2,
    "start_time": "2021-09-20T18:08:17.526Z"
   },
   {
    "duration": 27,
    "start_time": "2021-09-20T18:08:17.530Z"
   },
   {
    "duration": 2,
    "start_time": "2021-09-20T18:08:17.560Z"
   },
   {
    "duration": 27,
    "start_time": "2021-09-20T18:08:17.563Z"
   },
   {
    "duration": 16,
    "start_time": "2021-09-20T18:08:17.591Z"
   },
   {
    "duration": 367,
    "start_time": "2021-09-20T18:08:17.609Z"
   },
   {
    "duration": 445,
    "start_time": "2021-09-20T18:08:17.977Z"
   },
   {
    "duration": 305,
    "start_time": "2021-09-20T18:08:18.424Z"
   },
   {
    "duration": 4,
    "start_time": "2021-09-20T18:08:18.732Z"
   },
   {
    "duration": 26,
    "start_time": "2021-09-20T18:08:18.744Z"
   },
   {
    "duration": 7,
    "start_time": "2021-09-20T18:08:18.772Z"
   },
   {
    "duration": 10,
    "start_time": "2021-09-20T18:08:18.781Z"
   },
   {
    "duration": 3,
    "start_time": "2021-09-20T18:36:56.565Z"
   },
   {
    "duration": 402,
    "start_time": "2021-09-20T18:36:56.570Z"
   },
   {
    "duration": 3,
    "start_time": "2021-09-20T18:36:56.981Z"
   },
   {
    "duration": 19,
    "start_time": "2021-09-20T18:36:56.986Z"
   },
   {
    "duration": 120,
    "start_time": "2021-09-20T18:36:57.007Z"
   },
   {
    "duration": 98,
    "start_time": "2021-09-20T18:36:57.129Z"
   },
   {
    "duration": 22,
    "start_time": "2021-09-20T18:36:57.229Z"
   },
   {
    "duration": 23,
    "start_time": "2021-09-20T18:36:57.256Z"
   },
   {
    "duration": 50,
    "start_time": "2021-09-20T18:36:57.283Z"
   },
   {
    "duration": 22,
    "start_time": "2021-09-20T18:36:57.336Z"
   },
   {
    "duration": 12,
    "start_time": "2021-09-20T18:36:57.359Z"
   },
   {
    "duration": 5,
    "start_time": "2021-09-20T18:36:57.372Z"
   },
   {
    "duration": 5,
    "start_time": "2021-09-20T18:36:57.378Z"
   },
   {
    "duration": 21,
    "start_time": "2021-09-20T18:36:57.384Z"
   },
   {
    "duration": 38,
    "start_time": "2021-09-20T18:36:57.406Z"
   },
   {
    "duration": 6,
    "start_time": "2021-09-20T18:36:57.446Z"
   },
   {
    "duration": 10,
    "start_time": "2021-09-20T18:36:57.455Z"
   },
   {
    "duration": 2,
    "start_time": "2021-09-20T18:36:57.467Z"
   },
   {
    "duration": 20,
    "start_time": "2021-09-20T18:36:57.470Z"
   },
   {
    "duration": 14,
    "start_time": "2021-09-20T18:36:57.491Z"
   },
   {
    "duration": 338,
    "start_time": "2021-09-20T18:36:57.506Z"
   },
   {
    "duration": 319,
    "start_time": "2021-09-20T18:36:57.847Z"
   },
   {
    "duration": 304,
    "start_time": "2021-09-20T18:36:58.170Z"
   },
   {
    "duration": 5,
    "start_time": "2021-09-20T18:36:58.476Z"
   },
   {
    "duration": 120,
    "start_time": "2021-09-20T18:36:58.483Z"
   },
   {
    "duration": 6,
    "start_time": "2021-09-20T18:36:58.604Z"
   },
   {
    "duration": 6,
    "start_time": "2021-09-20T18:36:58.613Z"
   },
   {
    "duration": 3,
    "start_time": "2021-09-20T18:37:17.364Z"
   },
   {
    "duration": 382,
    "start_time": "2021-09-20T18:37:17.369Z"
   },
   {
    "duration": 3,
    "start_time": "2021-09-20T18:37:17.754Z"
   },
   {
    "duration": 6,
    "start_time": "2021-09-20T18:37:17.760Z"
   },
   {
    "duration": 76,
    "start_time": "2021-09-20T18:37:17.768Z"
   },
   {
    "duration": 66,
    "start_time": "2021-09-20T18:37:17.847Z"
   },
   {
    "duration": 6,
    "start_time": "2021-09-20T18:37:17.916Z"
   },
   {
    "duration": 26,
    "start_time": "2021-09-20T18:37:17.924Z"
   },
   {
    "duration": 28,
    "start_time": "2021-09-20T18:37:17.952Z"
   },
   {
    "duration": 15,
    "start_time": "2021-09-20T18:37:17.981Z"
   },
   {
    "duration": 10,
    "start_time": "2021-09-20T18:37:17.997Z"
   },
   {
    "duration": 4,
    "start_time": "2021-09-20T18:37:18.009Z"
   },
   {
    "duration": 33,
    "start_time": "2021-09-20T18:37:18.015Z"
   },
   {
    "duration": 23,
    "start_time": "2021-09-20T18:37:18.051Z"
   },
   {
    "duration": 19,
    "start_time": "2021-09-20T18:37:18.075Z"
   },
   {
    "duration": 2,
    "start_time": "2021-09-20T18:37:18.096Z"
   },
   {
    "duration": 10,
    "start_time": "2021-09-20T18:37:18.100Z"
   },
   {
    "duration": 3,
    "start_time": "2021-09-20T18:37:18.111Z"
   },
   {
    "duration": 39,
    "start_time": "2021-09-20T18:37:18.117Z"
   },
   {
    "duration": 15,
    "start_time": "2021-09-20T18:37:18.158Z"
   },
   {
    "duration": 336,
    "start_time": "2021-09-20T18:37:18.176Z"
   },
   {
    "duration": 324,
    "start_time": "2021-09-20T18:37:18.514Z"
   },
   {
    "duration": 304,
    "start_time": "2021-09-20T18:37:18.840Z"
   },
   {
    "duration": 9,
    "start_time": "2021-09-20T18:37:19.146Z"
   },
   {
    "duration": 17,
    "start_time": "2021-09-20T18:37:19.157Z"
   },
   {
    "duration": 6,
    "start_time": "2021-09-20T18:37:19.176Z"
   },
   {
    "duration": 17,
    "start_time": "2021-09-20T18:37:19.183Z"
   },
   {
    "duration": 3,
    "start_time": "2021-09-20T18:37:35.389Z"
   },
   {
    "duration": 368,
    "start_time": "2021-09-20T18:37:35.394Z"
   },
   {
    "duration": 2,
    "start_time": "2021-09-20T18:37:35.764Z"
   },
   {
    "duration": 7,
    "start_time": "2021-09-20T18:37:35.768Z"
   },
   {
    "duration": 59,
    "start_time": "2021-09-20T18:37:35.777Z"
   },
   {
    "duration": 73,
    "start_time": "2021-09-20T18:37:35.838Z"
   },
   {
    "duration": 6,
    "start_time": "2021-09-20T18:37:35.913Z"
   },
   {
    "duration": 9,
    "start_time": "2021-09-20T18:37:35.920Z"
   },
   {
    "duration": 40,
    "start_time": "2021-09-20T18:37:35.930Z"
   },
   {
    "duration": 15,
    "start_time": "2021-09-20T18:37:35.972Z"
   },
   {
    "duration": 10,
    "start_time": "2021-09-20T18:37:35.988Z"
   },
   {
    "duration": 5,
    "start_time": "2021-09-20T18:37:36.000Z"
   },
   {
    "duration": 6,
    "start_time": "2021-09-20T18:37:36.006Z"
   },
   {
    "duration": 47,
    "start_time": "2021-09-20T18:37:36.013Z"
   },
   {
    "duration": 18,
    "start_time": "2021-09-20T18:37:36.061Z"
   },
   {
    "duration": 6,
    "start_time": "2021-09-20T18:37:36.081Z"
   },
   {
    "duration": 28,
    "start_time": "2021-09-20T18:37:36.089Z"
   },
   {
    "duration": 5,
    "start_time": "2021-09-20T18:37:36.118Z"
   },
   {
    "duration": 51,
    "start_time": "2021-09-20T18:37:36.125Z"
   },
   {
    "duration": 13,
    "start_time": "2021-09-20T18:37:36.178Z"
   },
   {
    "duration": 309,
    "start_time": "2021-09-20T18:37:36.193Z"
   },
   {
    "duration": 310,
    "start_time": "2021-09-20T18:37:36.503Z"
   },
   {
    "duration": 281,
    "start_time": "2021-09-20T18:37:36.815Z"
   },
   {
    "duration": 7,
    "start_time": "2021-09-20T18:37:37.098Z"
   },
   {
    "duration": 125,
    "start_time": "2021-09-20T18:37:37.106Z"
   },
   {
    "duration": 4,
    "start_time": "2021-09-20T18:37:37.233Z"
   },
   {
    "duration": 17,
    "start_time": "2021-09-20T18:37:37.239Z"
   },
   {
    "duration": 3,
    "start_time": "2021-09-20T18:37:55.717Z"
   },
   {
    "duration": 397,
    "start_time": "2021-09-20T18:37:55.722Z"
   },
   {
    "duration": 2,
    "start_time": "2021-09-20T18:37:56.121Z"
   },
   {
    "duration": 24,
    "start_time": "2021-09-20T18:37:56.125Z"
   },
   {
    "duration": 65,
    "start_time": "2021-09-20T18:37:56.152Z"
   },
   {
    "duration": 67,
    "start_time": "2021-09-20T18:37:56.218Z"
   },
   {
    "duration": 5,
    "start_time": "2021-09-20T18:37:56.288Z"
   },
   {
    "duration": 21,
    "start_time": "2021-09-20T18:37:56.295Z"
   },
   {
    "duration": 46,
    "start_time": "2021-09-20T18:37:56.318Z"
   },
   {
    "duration": 14,
    "start_time": "2021-09-20T18:37:56.366Z"
   },
   {
    "duration": 10,
    "start_time": "2021-09-20T18:37:56.381Z"
   },
   {
    "duration": 4,
    "start_time": "2021-09-20T18:37:56.393Z"
   },
   {
    "duration": 9,
    "start_time": "2021-09-20T18:37:56.399Z"
   },
   {
    "duration": 23,
    "start_time": "2021-09-20T18:37:56.410Z"
   },
   {
    "duration": 30,
    "start_time": "2021-09-20T18:37:56.435Z"
   },
   {
    "duration": 2,
    "start_time": "2021-09-20T18:37:56.467Z"
   },
   {
    "duration": 14,
    "start_time": "2021-09-20T18:37:56.470Z"
   },
   {
    "duration": 5,
    "start_time": "2021-09-20T18:37:56.486Z"
   },
   {
    "duration": 23,
    "start_time": "2021-09-20T18:37:56.493Z"
   },
   {
    "duration": 30,
    "start_time": "2021-09-20T18:37:56.518Z"
   },
   {
    "duration": 542,
    "start_time": "2021-09-20T18:37:56.550Z"
   },
   {
    "duration": 363,
    "start_time": "2021-09-20T18:37:57.093Z"
   },
   {
    "duration": 291,
    "start_time": "2021-09-20T18:37:57.459Z"
   },
   {
    "duration": 7,
    "start_time": "2021-09-20T18:37:57.753Z"
   },
   {
    "duration": 23,
    "start_time": "2021-09-20T18:37:57.761Z"
   },
   {
    "duration": 10,
    "start_time": "2021-09-20T18:37:57.786Z"
   },
   {
    "duration": 12,
    "start_time": "2021-09-20T18:37:57.797Z"
   },
   {
    "duration": 4,
    "start_time": "2021-09-20T18:39:00.456Z"
   },
   {
    "duration": 373,
    "start_time": "2021-09-20T18:39:00.462Z"
   },
   {
    "duration": 2,
    "start_time": "2021-09-20T18:39:00.836Z"
   },
   {
    "duration": 29,
    "start_time": "2021-09-20T18:39:00.840Z"
   },
   {
    "duration": 94,
    "start_time": "2021-09-20T18:39:00.870Z"
   },
   {
    "duration": 61,
    "start_time": "2021-09-20T18:39:00.966Z"
   },
   {
    "duration": 6,
    "start_time": "2021-09-20T18:39:01.029Z"
   },
   {
    "duration": 28,
    "start_time": "2021-09-20T18:39:01.037Z"
   },
   {
    "duration": 49,
    "start_time": "2021-09-20T18:39:01.066Z"
   },
   {
    "duration": 14,
    "start_time": "2021-09-20T18:39:01.117Z"
   },
   {
    "duration": 25,
    "start_time": "2021-09-20T18:39:01.133Z"
   },
   {
    "duration": 22,
    "start_time": "2021-09-20T18:39:01.160Z"
   },
   {
    "duration": 58,
    "start_time": "2021-09-20T18:39:01.184Z"
   },
   {
    "duration": 66,
    "start_time": "2021-09-20T18:39:01.244Z"
   },
   {
    "duration": 25,
    "start_time": "2021-09-20T18:39:01.312Z"
   },
   {
    "duration": 14,
    "start_time": "2021-09-20T18:39:01.338Z"
   },
   {
    "duration": 22,
    "start_time": "2021-09-20T18:39:01.354Z"
   },
   {
    "duration": 19,
    "start_time": "2021-09-20T18:39:01.378Z"
   },
   {
    "duration": 57,
    "start_time": "2021-09-20T18:39:01.400Z"
   },
   {
    "duration": 29,
    "start_time": "2021-09-20T18:39:01.459Z"
   },
   {
    "duration": 460,
    "start_time": "2021-09-20T18:39:01.490Z"
   },
   {
    "duration": 605,
    "start_time": "2021-09-20T18:39:01.952Z"
   },
   {
    "duration": 304,
    "start_time": "2021-09-20T18:39:02.559Z"
   },
   {
    "duration": 6,
    "start_time": "2021-09-20T18:39:02.865Z"
   },
   {
    "duration": 135,
    "start_time": "2021-09-20T18:39:02.873Z"
   },
   {
    "duration": 5,
    "start_time": "2021-09-20T18:39:03.009Z"
   },
   {
    "duration": 21,
    "start_time": "2021-09-20T18:39:03.015Z"
   },
   {
    "duration": 3,
    "start_time": "2021-09-20T18:50:27.222Z"
   },
   {
    "duration": 643,
    "start_time": "2021-09-20T18:50:27.227Z"
   },
   {
    "duration": 2,
    "start_time": "2021-09-20T18:50:27.872Z"
   },
   {
    "duration": 11,
    "start_time": "2021-09-20T18:50:27.876Z"
   },
   {
    "duration": 59,
    "start_time": "2021-09-20T18:50:27.889Z"
   },
   {
    "duration": 64,
    "start_time": "2021-09-20T18:50:27.951Z"
   },
   {
    "duration": 6,
    "start_time": "2021-09-20T18:50:28.017Z"
   },
   {
    "duration": 22,
    "start_time": "2021-09-20T18:50:28.024Z"
   },
   {
    "duration": 28,
    "start_time": "2021-09-20T18:50:28.049Z"
   },
   {
    "duration": 15,
    "start_time": "2021-09-20T18:50:28.080Z"
   },
   {
    "duration": 11,
    "start_time": "2021-09-20T18:50:28.097Z"
   },
   {
    "duration": 5,
    "start_time": "2021-09-20T18:50:28.110Z"
   },
   {
    "duration": 30,
    "start_time": "2021-09-20T18:50:28.117Z"
   },
   {
    "duration": 26,
    "start_time": "2021-09-20T18:50:28.150Z"
   },
   {
    "duration": 18,
    "start_time": "2021-09-20T18:50:28.178Z"
   },
   {
    "duration": 1,
    "start_time": "2021-09-20T18:50:28.198Z"
   },
   {
    "duration": 12,
    "start_time": "2021-09-20T18:50:28.201Z"
   },
   {
    "duration": 3,
    "start_time": "2021-09-20T18:50:28.214Z"
   },
   {
    "duration": 45,
    "start_time": "2021-09-20T18:50:28.218Z"
   },
   {
    "duration": 15,
    "start_time": "2021-09-20T18:50:28.264Z"
   },
   {
    "duration": 325,
    "start_time": "2021-09-20T18:50:28.280Z"
   },
   {
    "duration": 334,
    "start_time": "2021-09-20T18:50:28.607Z"
   },
   {
    "duration": 289,
    "start_time": "2021-09-20T18:50:28.949Z"
   },
   {
    "duration": 8,
    "start_time": "2021-09-20T18:50:29.240Z"
   },
   {
    "duration": 20,
    "start_time": "2021-09-20T18:50:29.250Z"
   },
   {
    "duration": 7,
    "start_time": "2021-09-20T18:50:29.272Z"
   },
   {
    "duration": 7,
    "start_time": "2021-09-20T18:50:29.282Z"
   },
   {
    "duration": 3,
    "start_time": "2021-09-20T18:51:09.416Z"
   },
   {
    "duration": 375,
    "start_time": "2021-09-20T18:51:09.422Z"
   },
   {
    "duration": 3,
    "start_time": "2021-09-20T18:51:09.799Z"
   },
   {
    "duration": 7,
    "start_time": "2021-09-20T18:51:09.804Z"
   },
   {
    "duration": 67,
    "start_time": "2021-09-20T18:51:09.812Z"
   },
   {
    "duration": 66,
    "start_time": "2021-09-20T18:51:09.880Z"
   },
   {
    "duration": 6,
    "start_time": "2021-09-20T18:51:09.949Z"
   },
   {
    "duration": 6,
    "start_time": "2021-09-20T18:51:09.957Z"
   },
   {
    "duration": 27,
    "start_time": "2021-09-20T18:51:09.965Z"
   },
   {
    "duration": 15,
    "start_time": "2021-09-20T18:51:09.994Z"
   },
   {
    "duration": 41,
    "start_time": "2021-09-20T18:51:10.010Z"
   },
   {
    "duration": 7,
    "start_time": "2021-09-20T18:51:10.053Z"
   },
   {
    "duration": 5,
    "start_time": "2021-09-20T18:51:10.061Z"
   },
   {
    "duration": 20,
    "start_time": "2021-09-20T18:51:10.068Z"
   },
   {
    "duration": 19,
    "start_time": "2021-09-20T18:51:10.090Z"
   },
   {
    "duration": 2,
    "start_time": "2021-09-20T18:51:10.111Z"
   },
   {
    "duration": 41,
    "start_time": "2021-09-20T18:51:10.115Z"
   },
   {
    "duration": 6,
    "start_time": "2021-09-20T18:51:10.158Z"
   },
   {
    "duration": 17,
    "start_time": "2021-09-20T18:51:10.165Z"
   },
   {
    "duration": 16,
    "start_time": "2021-09-20T18:51:10.184Z"
   },
   {
    "duration": 322,
    "start_time": "2021-09-20T18:51:10.202Z"
   },
   {
    "duration": 315,
    "start_time": "2021-09-20T18:51:10.526Z"
   },
   {
    "duration": 312,
    "start_time": "2021-09-20T18:51:10.844Z"
   },
   {
    "duration": 9,
    "start_time": "2021-09-20T18:51:11.159Z"
   },
   {
    "duration": 13,
    "start_time": "2021-09-20T18:51:11.169Z"
   },
   {
    "duration": 117,
    "start_time": "2021-09-20T18:51:11.184Z"
   },
   {
    "duration": 10,
    "start_time": "2021-09-20T18:51:11.303Z"
   },
   {
    "duration": 3,
    "start_time": "2021-09-20T19:16:06.430Z"
   },
   {
    "duration": 370,
    "start_time": "2021-09-20T19:16:06.435Z"
   },
   {
    "duration": 2,
    "start_time": "2021-09-20T19:16:06.807Z"
   },
   {
    "duration": 18,
    "start_time": "2021-09-20T19:16:06.810Z"
   },
   {
    "duration": 74,
    "start_time": "2021-09-20T19:16:06.830Z"
   },
   {
    "duration": 63,
    "start_time": "2021-09-20T19:16:06.906Z"
   },
   {
    "duration": 5,
    "start_time": "2021-09-20T19:16:06.972Z"
   },
   {
    "duration": 27,
    "start_time": "2021-09-20T19:16:06.979Z"
   },
   {
    "duration": 34,
    "start_time": "2021-09-20T19:16:07.007Z"
   },
   {
    "duration": 23,
    "start_time": "2021-09-20T19:16:07.042Z"
   },
   {
    "duration": 11,
    "start_time": "2021-09-20T19:16:07.066Z"
   },
   {
    "duration": 13,
    "start_time": "2021-09-20T19:16:07.078Z"
   },
   {
    "duration": 11,
    "start_time": "2021-09-20T19:16:07.092Z"
   },
   {
    "duration": 32,
    "start_time": "2021-09-20T19:16:07.104Z"
   },
   {
    "duration": 19,
    "start_time": "2021-09-20T19:16:07.138Z"
   },
   {
    "duration": 22,
    "start_time": "2021-09-20T19:16:07.159Z"
   },
   {
    "duration": 28,
    "start_time": "2021-09-20T19:16:07.182Z"
   },
   {
    "duration": 11,
    "start_time": "2021-09-20T19:16:07.212Z"
   },
   {
    "duration": 25,
    "start_time": "2021-09-20T19:16:07.225Z"
   },
   {
    "duration": 21,
    "start_time": "2021-09-20T19:16:07.252Z"
   },
   {
    "duration": 327,
    "start_time": "2021-09-20T19:16:07.275Z"
   },
   {
    "duration": 307,
    "start_time": "2021-09-20T19:16:07.603Z"
   },
   {
    "duration": 307,
    "start_time": "2021-09-20T19:16:07.911Z"
   },
   {
    "duration": 6,
    "start_time": "2021-09-20T19:16:08.219Z"
   },
   {
    "duration": 32,
    "start_time": "2021-09-20T19:16:08.227Z"
   },
   {
    "duration": 9,
    "start_time": "2021-09-20T19:16:08.261Z"
   },
   {
    "duration": 13,
    "start_time": "2021-09-20T19:16:08.271Z"
   },
   {
    "duration": 213,
    "start_time": "2021-09-20T19:16:08.286Z"
   },
   {
    "duration": 342,
    "start_time": "2021-09-20T19:16:20.326Z"
   },
   {
    "duration": 342,
    "start_time": "2021-09-20T19:16:52.707Z"
   },
   {
    "duration": 447,
    "start_time": "2021-09-20T19:17:04.244Z"
   },
   {
    "duration": 371,
    "start_time": "2021-09-20T19:17:13.647Z"
   },
   {
    "duration": 4,
    "start_time": "2021-09-20T19:17:45.377Z"
   },
   {
    "duration": 4,
    "start_time": "2021-09-20T19:18:10.527Z"
   },
   {
    "duration": 4,
    "start_time": "2021-09-20T19:20:07.744Z"
   },
   {
    "duration": 3,
    "start_time": "2021-09-20T19:21:31.890Z"
   },
   {
    "duration": 370,
    "start_time": "2021-09-20T19:21:31.895Z"
   },
   {
    "duration": 3,
    "start_time": "2021-09-20T19:21:32.267Z"
   },
   {
    "duration": 5,
    "start_time": "2021-09-20T19:21:32.272Z"
   },
   {
    "duration": 61,
    "start_time": "2021-09-20T19:21:32.278Z"
   },
   {
    "duration": 67,
    "start_time": "2021-09-20T19:21:32.340Z"
   },
   {
    "duration": 5,
    "start_time": "2021-09-20T19:21:32.409Z"
   },
   {
    "duration": 9,
    "start_time": "2021-09-20T19:21:32.416Z"
   },
   {
    "duration": 40,
    "start_time": "2021-09-20T19:21:32.426Z"
   },
   {
    "duration": 15,
    "start_time": "2021-09-20T19:21:32.468Z"
   },
   {
    "duration": 11,
    "start_time": "2021-09-20T19:21:32.485Z"
   },
   {
    "duration": 6,
    "start_time": "2021-09-20T19:21:32.497Z"
   },
   {
    "duration": 4,
    "start_time": "2021-09-20T19:21:32.504Z"
   },
   {
    "duration": 50,
    "start_time": "2021-09-20T19:21:32.510Z"
   },
   {
    "duration": 17,
    "start_time": "2021-09-20T19:21:32.562Z"
   },
   {
    "duration": 2,
    "start_time": "2021-09-20T19:21:32.581Z"
   },
   {
    "duration": 10,
    "start_time": "2021-09-20T19:21:32.584Z"
   },
   {
    "duration": 3,
    "start_time": "2021-09-20T19:21:32.595Z"
   },
   {
    "duration": 18,
    "start_time": "2021-09-20T19:21:32.600Z"
   },
   {
    "duration": 34,
    "start_time": "2021-09-20T19:21:32.620Z"
   },
   {
    "duration": 314,
    "start_time": "2021-09-20T19:21:32.657Z"
   },
   {
    "duration": 305,
    "start_time": "2021-09-20T19:21:32.973Z"
   },
   {
    "duration": 529,
    "start_time": "2021-09-20T19:21:33.280Z"
   },
   {
    "duration": 4,
    "start_time": "2021-09-20T19:21:33.810Z"
   },
   {
    "duration": 7,
    "start_time": "2021-09-20T19:21:33.816Z"
   },
   {
    "duration": 40,
    "start_time": "2021-09-20T19:21:33.824Z"
   },
   {
    "duration": 6,
    "start_time": "2021-09-20T19:21:33.865Z"
   },
   {
    "duration": 10,
    "start_time": "2021-09-20T19:21:33.872Z"
   },
   {
    "duration": 3,
    "start_time": "2021-09-20T19:28:46.623Z"
   },
   {
    "duration": 388,
    "start_time": "2021-09-20T19:28:46.628Z"
   },
   {
    "duration": 2,
    "start_time": "2021-09-20T19:28:47.018Z"
   },
   {
    "duration": 6,
    "start_time": "2021-09-20T19:28:47.022Z"
   },
   {
    "duration": 66,
    "start_time": "2021-09-20T19:28:47.029Z"
   },
   {
    "duration": 72,
    "start_time": "2021-09-20T19:28:47.097Z"
   },
   {
    "duration": 7,
    "start_time": "2021-09-20T19:28:47.172Z"
   },
   {
    "duration": 12,
    "start_time": "2021-09-20T19:28:47.180Z"
   },
   {
    "duration": 29,
    "start_time": "2021-09-20T19:28:47.193Z"
   },
   {
    "duration": 24,
    "start_time": "2021-09-20T19:28:47.224Z"
   },
   {
    "duration": 14,
    "start_time": "2021-09-20T19:28:47.251Z"
   },
   {
    "duration": 10,
    "start_time": "2021-09-20T19:28:47.267Z"
   },
   {
    "duration": 15,
    "start_time": "2021-09-20T19:28:47.279Z"
   },
   {
    "duration": 31,
    "start_time": "2021-09-20T19:28:47.296Z"
   },
   {
    "duration": 23,
    "start_time": "2021-09-20T19:28:47.329Z"
   },
   {
    "duration": 9,
    "start_time": "2021-09-20T19:28:47.355Z"
   },
   {
    "duration": 23,
    "start_time": "2021-09-20T19:28:47.366Z"
   },
   {
    "duration": 15,
    "start_time": "2021-09-20T19:28:47.390Z"
   },
   {
    "duration": 46,
    "start_time": "2021-09-20T19:28:47.407Z"
   },
   {
    "duration": 18,
    "start_time": "2021-09-20T19:28:47.456Z"
   },
   {
    "duration": 418,
    "start_time": "2021-09-20T19:28:47.476Z"
   },
   {
    "duration": 312,
    "start_time": "2021-09-20T19:28:47.895Z"
   },
   {
    "duration": 293,
    "start_time": "2021-09-20T19:28:48.208Z"
   },
   {
    "duration": 4,
    "start_time": "2021-09-20T19:28:48.503Z"
   },
   {
    "duration": 7,
    "start_time": "2021-09-20T19:28:48.508Z"
   },
   {
    "duration": 11,
    "start_time": "2021-09-20T19:28:48.516Z"
   },
   {
    "duration": 11,
    "start_time": "2021-09-20T19:28:48.549Z"
   },
   {
    "duration": 13,
    "start_time": "2021-09-20T19:28:48.561Z"
   },
   {
    "duration": 89,
    "start_time": "2021-09-20T19:28:48.575Z"
   },
   {
    "duration": 3,
    "start_time": "2021-09-20T19:32:47.813Z"
   },
   {
    "duration": 437,
    "start_time": "2021-09-20T19:32:47.819Z"
   },
   {
    "duration": 190,
    "start_time": "2021-09-20T19:32:48.258Z"
   },
   {
    "duration": 65,
    "start_time": "2021-09-20T19:32:48.451Z"
   },
   {
    "duration": 131,
    "start_time": "2021-09-20T19:32:48.517Z"
   },
   {
    "duration": 61,
    "start_time": "2021-09-20T19:32:48.657Z"
   },
   {
    "duration": 6,
    "start_time": "2021-09-20T19:32:48.719Z"
   },
   {
    "duration": 26,
    "start_time": "2021-09-20T19:32:48.726Z"
   },
   {
    "duration": 23,
    "start_time": "2021-09-20T19:32:48.756Z"
   },
   {
    "duration": 15,
    "start_time": "2021-09-20T19:32:48.781Z"
   },
   {
    "duration": 10,
    "start_time": "2021-09-20T19:32:48.797Z"
   },
   {
    "duration": 5,
    "start_time": "2021-09-20T19:32:48.808Z"
   },
   {
    "duration": 7,
    "start_time": "2021-09-20T19:32:48.815Z"
   },
   {
    "duration": 51,
    "start_time": "2021-09-20T19:32:48.823Z"
   },
   {
    "duration": 18,
    "start_time": "2021-09-20T19:32:48.875Z"
   },
   {
    "duration": 23,
    "start_time": "2021-09-20T19:32:48.894Z"
   },
   {
    "duration": 9,
    "start_time": "2021-09-20T19:32:48.918Z"
   },
   {
    "duration": 735,
    "start_time": "2021-09-20T19:32:48.943Z"
   },
   {
    "duration": 16,
    "start_time": "2021-09-20T19:32:49.680Z"
   },
   {
    "duration": 12,
    "start_time": "2021-09-20T19:32:49.697Z"
   },
   {
    "duration": 335,
    "start_time": "2021-09-20T19:32:49.712Z"
   },
   {
    "duration": 302,
    "start_time": "2021-09-20T19:32:50.049Z"
   },
   {
    "duration": 410,
    "start_time": "2021-09-20T19:32:50.352Z"
   },
   {
    "duration": 5,
    "start_time": "2021-09-20T19:32:50.766Z"
   },
   {
    "duration": 18,
    "start_time": "2021-09-20T19:32:50.773Z"
   },
   {
    "duration": 18,
    "start_time": "2021-09-20T19:32:50.792Z"
   },
   {
    "duration": 19,
    "start_time": "2021-09-20T19:32:50.811Z"
   },
   {
    "duration": 24,
    "start_time": "2021-09-20T19:32:50.832Z"
   },
   {
    "duration": 3,
    "start_time": "2021-09-20T19:34:04.520Z"
   },
   {
    "duration": 444,
    "start_time": "2021-09-20T19:34:04.540Z"
   },
   {
    "duration": 213,
    "start_time": "2021-09-20T19:34:04.985Z"
   },
   {
    "duration": 78,
    "start_time": "2021-09-20T19:34:05.200Z"
   },
   {
    "duration": 115,
    "start_time": "2021-09-20T19:34:05.280Z"
   },
   {
    "duration": 72,
    "start_time": "2021-09-20T19:34:05.397Z"
   },
   {
    "duration": 7,
    "start_time": "2021-09-20T19:34:05.471Z"
   },
   {
    "duration": 11,
    "start_time": "2021-09-20T19:34:05.480Z"
   },
   {
    "duration": 34,
    "start_time": "2021-09-20T19:34:05.494Z"
   },
   {
    "duration": 22,
    "start_time": "2021-09-20T19:34:05.530Z"
   },
   {
    "duration": 18,
    "start_time": "2021-09-20T19:34:05.554Z"
   },
   {
    "duration": 5,
    "start_time": "2021-09-20T19:34:05.574Z"
   },
   {
    "duration": 13,
    "start_time": "2021-09-20T19:34:05.581Z"
   },
   {
    "duration": 25,
    "start_time": "2021-09-20T19:34:05.595Z"
   },
   {
    "duration": 28,
    "start_time": "2021-09-20T19:34:05.622Z"
   },
   {
    "duration": 39,
    "start_time": "2021-09-20T19:34:05.651Z"
   },
   {
    "duration": 15,
    "start_time": "2021-09-20T19:34:05.692Z"
   },
   {
    "duration": 730,
    "start_time": "2021-09-20T19:34:05.708Z"
   },
   {
    "duration": 23,
    "start_time": "2021-09-20T19:34:06.439Z"
   },
   {
    "duration": 16,
    "start_time": "2021-09-20T19:34:06.463Z"
   },
   {
    "duration": 318,
    "start_time": "2021-09-20T19:34:06.480Z"
   },
   {
    "duration": 307,
    "start_time": "2021-09-20T19:34:06.800Z"
   },
   {
    "duration": 292,
    "start_time": "2021-09-20T19:34:07.109Z"
   },
   {
    "duration": 4,
    "start_time": "2021-09-20T19:34:07.404Z"
   },
   {
    "duration": 7,
    "start_time": "2021-09-20T19:34:07.410Z"
   },
   {
    "duration": 25,
    "start_time": "2021-09-20T19:34:07.419Z"
   },
   {
    "duration": 118,
    "start_time": "2021-09-20T19:34:07.446Z"
   },
   {
    "duration": 21,
    "start_time": "2021-09-20T19:34:07.566Z"
   },
   {
    "duration": 249,
    "start_time": "2021-09-20T19:34:07.589Z"
   },
   {
    "duration": 3,
    "start_time": "2021-09-20T19:34:35.702Z"
   },
   {
    "duration": 474,
    "start_time": "2021-09-20T19:34:35.710Z"
   },
   {
    "duration": 207,
    "start_time": "2021-09-20T19:34:36.186Z"
   },
   {
    "duration": 85,
    "start_time": "2021-09-20T19:34:36.395Z"
   },
   {
    "duration": 119,
    "start_time": "2021-09-20T19:34:36.482Z"
   },
   {
    "duration": 76,
    "start_time": "2021-09-20T19:34:36.603Z"
   },
   {
    "duration": 6,
    "start_time": "2021-09-20T19:34:36.680Z"
   },
   {
    "duration": 18,
    "start_time": "2021-09-20T19:34:36.688Z"
   },
   {
    "duration": 25,
    "start_time": "2021-09-20T19:34:36.709Z"
   },
   {
    "duration": 19,
    "start_time": "2021-09-20T19:34:36.736Z"
   },
   {
    "duration": 12,
    "start_time": "2021-09-20T19:34:36.757Z"
   },
   {
    "duration": 4,
    "start_time": "2021-09-20T19:34:36.771Z"
   },
   {
    "duration": 6,
    "start_time": "2021-09-20T19:34:36.777Z"
   },
   {
    "duration": 20,
    "start_time": "2021-09-20T19:34:36.784Z"
   },
   {
    "duration": 17,
    "start_time": "2021-09-20T19:34:36.805Z"
   },
   {
    "duration": 50,
    "start_time": "2021-09-20T19:34:36.824Z"
   },
   {
    "duration": 9,
    "start_time": "2021-09-20T19:34:36.875Z"
   },
   {
    "duration": 741,
    "start_time": "2021-09-20T19:34:36.885Z"
   },
   {
    "duration": 21,
    "start_time": "2021-09-20T19:34:37.628Z"
   },
   {
    "duration": 16,
    "start_time": "2021-09-20T19:34:37.651Z"
   },
   {
    "duration": 340,
    "start_time": "2021-09-20T19:34:37.668Z"
   },
   {
    "duration": 307,
    "start_time": "2021-09-20T19:34:38.010Z"
   },
   {
    "duration": 290,
    "start_time": "2021-09-20T19:34:38.319Z"
   },
   {
    "duration": 3,
    "start_time": "2021-09-20T19:34:38.612Z"
   },
   {
    "duration": 33,
    "start_time": "2021-09-20T19:34:38.617Z"
   },
   {
    "duration": 41,
    "start_time": "2021-09-20T19:34:38.652Z"
   },
   {
    "duration": 26,
    "start_time": "2021-09-20T19:34:38.694Z"
   },
   {
    "duration": 44,
    "start_time": "2021-09-20T19:34:38.721Z"
   },
   {
    "duration": 1026,
    "start_time": "2021-09-21T08:48:53.146Z"
   },
   {
    "duration": 420,
    "start_time": "2021-09-21T08:48:54.174Z"
   },
   {
    "duration": 213,
    "start_time": "2021-09-21T08:48:54.596Z"
   },
   {
    "duration": 81,
    "start_time": "2021-09-21T08:48:54.811Z"
   },
   {
    "duration": 118,
    "start_time": "2021-09-21T08:48:54.893Z"
   },
   {
    "duration": 76,
    "start_time": "2021-09-21T08:48:55.012Z"
   },
   {
    "duration": 6,
    "start_time": "2021-09-21T08:48:55.090Z"
   },
   {
    "duration": 8,
    "start_time": "2021-09-21T08:48:55.098Z"
   },
   {
    "duration": 41,
    "start_time": "2021-09-21T08:48:55.109Z"
   },
   {
    "duration": 15,
    "start_time": "2021-09-21T08:48:55.152Z"
   },
   {
    "duration": 10,
    "start_time": "2021-09-21T08:48:55.168Z"
   },
   {
    "duration": 9,
    "start_time": "2021-09-21T08:48:55.180Z"
   },
   {
    "duration": 3,
    "start_time": "2021-09-21T08:48:55.190Z"
   },
   {
    "duration": 20,
    "start_time": "2021-09-21T08:48:55.195Z"
   },
   {
    "duration": 43,
    "start_time": "2021-09-21T08:48:55.217Z"
   },
   {
    "duration": 23,
    "start_time": "2021-09-21T08:48:55.261Z"
   },
   {
    "duration": 8,
    "start_time": "2021-09-21T08:48:55.286Z"
   },
   {
    "duration": 698,
    "start_time": "2021-09-21T08:48:55.295Z"
   },
   {
    "duration": 15,
    "start_time": "2021-09-21T08:48:55.995Z"
   },
   {
    "duration": 33,
    "start_time": "2021-09-21T08:48:56.012Z"
   },
   {
    "duration": 348,
    "start_time": "2021-09-21T08:48:56.047Z"
   },
   {
    "duration": 293,
    "start_time": "2021-09-21T08:48:56.397Z"
   },
   {
    "duration": 284,
    "start_time": "2021-09-21T08:48:56.692Z"
   },
   {
    "duration": 4,
    "start_time": "2021-09-21T08:48:56.978Z"
   },
   {
    "duration": 8,
    "start_time": "2021-09-21T08:48:56.983Z"
   },
   {
    "duration": 12,
    "start_time": "2021-09-21T08:48:56.993Z"
   },
   {
    "duration": 10,
    "start_time": "2021-09-21T08:48:57.008Z"
   },
   {
    "duration": 28,
    "start_time": "2021-09-21T08:48:57.020Z"
   },
   {
    "duration": 5,
    "start_time": "2021-09-21T09:00:27.582Z"
   },
   {
    "duration": 9,
    "start_time": "2021-09-21T09:00:49.548Z"
   },
   {
    "duration": 382,
    "start_time": "2021-09-21T15:26:09.227Z"
   },
   {
    "duration": 1711,
    "start_time": "2021-09-21T15:26:11.295Z"
   },
   {
    "duration": 779,
    "start_time": "2021-09-21T15:26:13.008Z"
   },
   {
    "duration": 351,
    "start_time": "2021-09-21T15:26:13.789Z"
   },
   {
    "duration": 109,
    "start_time": "2021-09-21T15:26:14.143Z"
   },
   {
    "duration": 205,
    "start_time": "2021-09-21T15:26:14.254Z"
   },
   {
    "duration": 100,
    "start_time": "2021-09-21T15:26:14.461Z"
   },
   {
    "duration": 20,
    "start_time": "2021-09-21T15:26:14.563Z"
   },
   {
    "duration": 355,
    "start_time": "2021-09-21T15:26:14.588Z"
   },
   {
    "duration": -3649192,
    "start_time": "2021-09-21T16:27:04.140Z"
   },
   {
    "duration": -3649211,
    "start_time": "2021-09-21T16:27:04.160Z"
   },
   {
    "duration": -3649216,
    "start_time": "2021-09-21T16:27:04.167Z"
   },
   {
    "duration": -3649220,
    "start_time": "2021-09-21T16:27:04.174Z"
   },
   {
    "duration": -3649224,
    "start_time": "2021-09-21T16:27:04.180Z"
   },
   {
    "duration": -3649229,
    "start_time": "2021-09-21T16:27:04.187Z"
   },
   {
    "duration": -3649233,
    "start_time": "2021-09-21T16:27:04.194Z"
   },
   {
    "duration": -3649238,
    "start_time": "2021-09-21T16:27:04.201Z"
   },
   {
    "duration": -3649243,
    "start_time": "2021-09-21T16:27:04.208Z"
   },
   {
    "duration": -3649249,
    "start_time": "2021-09-21T16:27:04.216Z"
   },
   {
    "duration": -3649256,
    "start_time": "2021-09-21T16:27:04.225Z"
   },
   {
    "duration": -3649263,
    "start_time": "2021-09-21T16:27:04.234Z"
   },
   {
    "duration": -3649285,
    "start_time": "2021-09-21T16:27:04.259Z"
   },
   {
    "duration": -3649289,
    "start_time": "2021-09-21T16:27:04.265Z"
   },
   {
    "duration": -3649291,
    "start_time": "2021-09-21T16:27:04.270Z"
   },
   {
    "duration": -3649296,
    "start_time": "2021-09-21T16:27:04.277Z"
   },
   {
    "duration": -3649298,
    "start_time": "2021-09-21T16:27:04.281Z"
   },
   {
    "duration": -3649301,
    "start_time": "2021-09-21T16:27:04.286Z"
   },
   {
    "duration": -3649304,
    "start_time": "2021-09-21T16:27:04.291Z"
   },
   {
    "duration": -3649307,
    "start_time": "2021-09-21T16:27:04.296Z"
   },
   {
    "duration": -3649310,
    "start_time": "2021-09-21T16:27:04.301Z"
   },
   {
    "duration": -3649314,
    "start_time": "2021-09-21T16:27:04.307Z"
   },
   {
    "duration": 5,
    "start_time": "2021-09-21T15:26:49.458Z"
   },
   {
    "duration": 664,
    "start_time": "2021-09-21T15:26:49.466Z"
   },
   {
    "duration": 342,
    "start_time": "2021-09-21T15:26:50.132Z"
   },
   {
    "duration": 117,
    "start_time": "2021-09-21T15:26:50.477Z"
   },
   {
    "duration": 193,
    "start_time": "2021-09-21T15:26:50.597Z"
   },
   {
    "duration": 103,
    "start_time": "2021-09-21T15:26:50.793Z"
   },
   {
    "duration": 9,
    "start_time": "2021-09-21T15:26:50.900Z"
   },
   {
    "duration": 1040,
    "start_time": "2021-09-21T15:26:50.912Z"
   },
   {
    "duration": -3649215,
    "start_time": "2021-09-21T16:27:41.170Z"
   },
   {
    "duration": -3649219,
    "start_time": "2021-09-21T16:27:41.176Z"
   },
   {
    "duration": -3649224,
    "start_time": "2021-09-21T16:27:41.182Z"
   },
   {
    "duration": -3649228,
    "start_time": "2021-09-21T16:27:41.188Z"
   },
   {
    "duration": -3649232,
    "start_time": "2021-09-21T16:27:41.193Z"
   },
   {
    "duration": -3649237,
    "start_time": "2021-09-21T16:27:41.199Z"
   },
   {
    "duration": -3649240,
    "start_time": "2021-09-21T16:27:41.204Z"
   },
   {
    "duration": -3649245,
    "start_time": "2021-09-21T16:27:41.210Z"
   },
   {
    "duration": -3649248,
    "start_time": "2021-09-21T16:27:41.214Z"
   },
   {
    "duration": -3649253,
    "start_time": "2021-09-21T16:27:41.220Z"
   },
   {
    "duration": -3649256,
    "start_time": "2021-09-21T16:27:41.225Z"
   },
   {
    "duration": -3649260,
    "start_time": "2021-09-21T16:27:41.230Z"
   },
   {
    "duration": -3649263,
    "start_time": "2021-09-21T16:27:41.235Z"
   },
   {
    "duration": -3649267,
    "start_time": "2021-09-21T16:27:41.240Z"
   },
   {
    "duration": -3649271,
    "start_time": "2021-09-21T16:27:41.245Z"
   },
   {
    "duration": -3649275,
    "start_time": "2021-09-21T16:27:41.251Z"
   },
   {
    "duration": -3649279,
    "start_time": "2021-09-21T16:27:41.256Z"
   },
   {
    "duration": -3649285,
    "start_time": "2021-09-21T16:27:41.264Z"
   },
   {
    "duration": -3649302,
    "start_time": "2021-09-21T16:27:41.283Z"
   },
   {
    "duration": -3649309,
    "start_time": "2021-09-21T16:27:41.291Z"
   },
   {
    "duration": -3649311,
    "start_time": "2021-09-21T16:27:41.295Z"
   },
   {
    "duration": -3649316,
    "start_time": "2021-09-21T16:27:41.301Z"
   },
   {
    "duration": 5,
    "start_time": "2021-09-21T15:27:21.055Z"
   },
   {
    "duration": 767,
    "start_time": "2021-09-21T15:27:21.066Z"
   },
   {
    "duration": 339,
    "start_time": "2021-09-21T15:27:21.836Z"
   },
   {
    "duration": 126,
    "start_time": "2021-09-21T15:27:22.178Z"
   },
   {
    "duration": 299,
    "start_time": "2021-09-21T15:27:22.307Z"
   },
   {
    "duration": 196,
    "start_time": "2021-09-21T15:27:22.608Z"
   },
   {
    "duration": 10,
    "start_time": "2021-09-21T15:27:22.806Z"
   },
   {
    "duration": 1111,
    "start_time": "2021-09-21T15:27:22.819Z"
   },
   {
    "duration": -3649194,
    "start_time": "2021-09-21T16:28:13.128Z"
   },
   {
    "duration": -3649199,
    "start_time": "2021-09-21T16:28:13.134Z"
   },
   {
    "duration": -3649203,
    "start_time": "2021-09-21T16:28:13.140Z"
   },
   {
    "duration": -3649208,
    "start_time": "2021-09-21T16:28:13.146Z"
   },
   {
    "duration": -3649212,
    "start_time": "2021-09-21T16:28:13.152Z"
   },
   {
    "duration": -3649217,
    "start_time": "2021-09-21T16:28:13.158Z"
   },
   {
    "duration": -3649220,
    "start_time": "2021-09-21T16:28:13.163Z"
   },
   {
    "duration": -3649226,
    "start_time": "2021-09-21T16:28:13.170Z"
   },
   {
    "duration": -3649229,
    "start_time": "2021-09-21T16:28:13.175Z"
   },
   {
    "duration": -3649233,
    "start_time": "2021-09-21T16:28:13.180Z"
   },
   {
    "duration": -3649237,
    "start_time": "2021-09-21T16:28:13.186Z"
   },
   {
    "duration": -3649239,
    "start_time": "2021-09-21T16:28:13.190Z"
   },
   {
    "duration": -3649243,
    "start_time": "2021-09-21T16:28:13.195Z"
   },
   {
    "duration": -3649246,
    "start_time": "2021-09-21T16:28:13.200Z"
   },
   {
    "duration": -3649261,
    "start_time": "2021-09-21T16:28:13.216Z"
   },
   {
    "duration": -3649264,
    "start_time": "2021-09-21T16:28:13.221Z"
   },
   {
    "duration": -3649269,
    "start_time": "2021-09-21T16:28:13.227Z"
   },
   {
    "duration": -3649272,
    "start_time": "2021-09-21T16:28:13.232Z"
   },
   {
    "duration": -3649277,
    "start_time": "2021-09-21T16:28:13.238Z"
   },
   {
    "duration": -3649282,
    "start_time": "2021-09-21T16:28:13.245Z"
   },
   {
    "duration": -3649287,
    "start_time": "2021-09-21T16:28:13.251Z"
   },
   {
    "duration": -3649290,
    "start_time": "2021-09-21T16:28:13.256Z"
   },
   {
    "duration": 4,
    "start_time": "2021-09-21T15:28:03.677Z"
   },
   {
    "duration": 654,
    "start_time": "2021-09-21T15:28:03.684Z"
   },
   {
    "duration": 329,
    "start_time": "2021-09-21T15:28:04.341Z"
   },
   {
    "duration": 206,
    "start_time": "2021-09-21T15:28:04.683Z"
   },
   {
    "duration": 331,
    "start_time": "2021-09-21T15:28:04.891Z"
   },
   {
    "duration": 191,
    "start_time": "2021-09-21T15:28:05.225Z"
   },
   {
    "duration": 9,
    "start_time": "2021-09-21T15:28:05.419Z"
   },
   {
    "duration": 23,
    "start_time": "2021-09-21T15:28:05.484Z"
   },
   {
    "duration": 35,
    "start_time": "2021-09-21T15:28:05.510Z"
   },
   {
    "duration": 50,
    "start_time": "2021-09-21T15:28:05.547Z"
   },
   {
    "duration": 17,
    "start_time": "2021-09-21T15:28:05.599Z"
   },
   {
    "duration": 13,
    "start_time": "2021-09-21T15:28:05.618Z"
   },
   {
    "duration": 5,
    "start_time": "2021-09-21T15:28:05.633Z"
   },
   {
    "duration": 61,
    "start_time": "2021-09-21T15:28:05.640Z"
   },
   {
    "duration": 6,
    "start_time": "2021-09-21T15:28:05.703Z"
   },
   {
    "duration": 30,
    "start_time": "2021-09-21T15:28:05.712Z"
   },
   {
    "duration": 10,
    "start_time": "2021-09-21T15:28:05.744Z"
   },
   {
    "duration": 40,
    "start_time": "2021-09-21T15:28:05.783Z"
   },
   {
    "duration": 11,
    "start_time": "2021-09-21T15:28:05.827Z"
   },
   {
    "duration": 1323,
    "start_time": "2021-09-21T15:28:05.840Z"
   },
   {
    "duration": 33,
    "start_time": "2021-09-21T15:28:07.165Z"
   },
   {
    "duration": 95,
    "start_time": "2021-09-21T15:28:07.200Z"
   },
   {
    "duration": 572,
    "start_time": "2021-09-21T15:28:07.297Z"
   },
   {
    "duration": 578,
    "start_time": "2021-09-21T15:28:07.871Z"
   },
   {
    "duration": 552,
    "start_time": "2021-09-21T15:28:08.451Z"
   },
   {
    "duration": 5,
    "start_time": "2021-09-21T15:28:09.006Z"
   },
   {
    "duration": 13,
    "start_time": "2021-09-21T15:28:09.014Z"
   },
   {
    "duration": 21,
    "start_time": "2021-09-21T15:28:09.029Z"
   },
   {
    "duration": 38,
    "start_time": "2021-09-21T15:28:09.052Z"
   },
   {
    "duration": 14,
    "start_time": "2021-09-21T15:28:09.092Z"
   },
   {
    "duration": 1436,
    "start_time": "2021-09-26T13:17:07.491Z"
   },
   {
    "duration": 611,
    "start_time": "2021-09-26T13:17:08.930Z"
   },
   {
    "duration": 351,
    "start_time": "2021-09-26T13:17:09.557Z"
   },
   {
    "duration": 162,
    "start_time": "2021-09-26T13:17:09.911Z"
   },
   {
    "duration": 225,
    "start_time": "2021-09-26T13:17:10.076Z"
   },
   {
    "duration": 111,
    "start_time": "2021-09-26T13:17:10.304Z"
   },
   {
    "duration": 8,
    "start_time": "2021-09-26T13:17:10.418Z"
   },
   {
    "duration": 26,
    "start_time": "2021-09-26T13:17:10.431Z"
   },
   {
    "duration": 37,
    "start_time": "2021-09-26T13:17:10.461Z"
   },
   {
    "duration": 24,
    "start_time": "2021-09-26T13:17:10.501Z"
   },
   {
    "duration": 44,
    "start_time": "2021-09-26T13:17:10.528Z"
   },
   {
    "duration": 29,
    "start_time": "2021-09-26T13:17:10.574Z"
   },
   {
    "duration": 8,
    "start_time": "2021-09-26T13:17:10.606Z"
   },
   {
    "duration": 49,
    "start_time": "2021-09-26T13:17:10.617Z"
   },
   {
    "duration": 7,
    "start_time": "2021-09-26T13:17:10.668Z"
   },
   {
    "duration": 34,
    "start_time": "2021-09-26T13:17:10.677Z"
   },
   {
    "duration": 14,
    "start_time": "2021-09-26T13:17:10.714Z"
   },
   {
    "duration": 81,
    "start_time": "2021-09-26T13:17:10.731Z"
   },
   {
    "duration": 17,
    "start_time": "2021-09-26T13:17:10.815Z"
   },
   {
    "duration": 1249,
    "start_time": "2021-09-26T13:17:10.835Z"
   },
   {
    "duration": 26,
    "start_time": "2021-09-26T13:17:12.087Z"
   },
   {
    "duration": 60,
    "start_time": "2021-09-26T13:17:12.115Z"
   },
   {
    "duration": 605,
    "start_time": "2021-09-26T13:17:12.180Z"
   },
   {
    "duration": 529,
    "start_time": "2021-09-26T13:17:12.788Z"
   },
   {
    "duration": 495,
    "start_time": "2021-09-26T13:17:13.319Z"
   },
   {
    "duration": 6,
    "start_time": "2021-09-26T13:17:13.816Z"
   },
   {
    "duration": 11,
    "start_time": "2021-09-26T13:17:13.825Z"
   },
   {
    "duration": 22,
    "start_time": "2021-09-26T13:17:13.857Z"
   },
   {
    "duration": 13,
    "start_time": "2021-09-26T13:17:13.881Z"
   },
   {
    "duration": 19,
    "start_time": "2021-09-26T13:17:13.897Z"
   },
   {
    "duration": 1278,
    "start_time": "2022-02-02T09:32:17.084Z"
   },
   {
    "duration": 551,
    "start_time": "2022-02-02T09:32:18.365Z"
   },
   {
    "duration": 399,
    "start_time": "2022-02-02T09:32:18.919Z"
   },
   {
    "duration": 138,
    "start_time": "2022-02-02T09:32:19.321Z"
   },
   {
    "duration": 195,
    "start_time": "2022-02-02T09:32:19.462Z"
   },
   {
    "duration": 100,
    "start_time": "2022-02-02T09:32:19.660Z"
   },
   {
    "duration": 9,
    "start_time": "2022-02-02T09:32:19.762Z"
   },
   {
    "duration": 20,
    "start_time": "2022-02-02T09:32:19.775Z"
   },
   {
    "duration": 47,
    "start_time": "2022-02-02T09:32:19.809Z"
   },
   {
    "duration": 27,
    "start_time": "2022-02-02T09:32:19.859Z"
   },
   {
    "duration": 35,
    "start_time": "2022-02-02T09:32:19.889Z"
   },
   {
    "duration": 13,
    "start_time": "2022-02-02T09:32:19.926Z"
   },
   {
    "duration": 8,
    "start_time": "2022-02-02T09:32:19.941Z"
   },
   {
    "duration": 55,
    "start_time": "2022-02-02T09:32:19.952Z"
   },
   {
    "duration": 6,
    "start_time": "2022-02-02T09:32:20.010Z"
   },
   {
    "duration": 33,
    "start_time": "2022-02-02T09:32:20.018Z"
   },
   {
    "duration": 11,
    "start_time": "2022-02-02T09:32:20.053Z"
   },
   {
    "duration": 76,
    "start_time": "2022-02-02T09:32:20.066Z"
   },
   {
    "duration": 14,
    "start_time": "2022-02-02T09:32:20.144Z"
   },
   {
    "duration": 1724,
    "start_time": "2022-02-02T09:32:20.164Z"
   },
   {
    "duration": 32,
    "start_time": "2022-02-02T09:32:21.890Z"
   },
   {
    "duration": 20,
    "start_time": "2022-02-02T09:32:21.924Z"
   },
   {
    "duration": 461,
    "start_time": "2022-02-02T09:32:21.946Z"
   },
   {
    "duration": 377,
    "start_time": "2022-02-02T09:32:22.409Z"
   },
   {
    "duration": 553,
    "start_time": "2022-02-02T09:32:22.788Z"
   },
   {
    "duration": 6,
    "start_time": "2022-02-02T09:32:23.343Z"
   },
   {
    "duration": 17,
    "start_time": "2022-02-02T09:32:23.352Z"
   },
   {
    "duration": 36,
    "start_time": "2022-02-02T09:32:23.371Z"
   },
   {
    "duration": 11,
    "start_time": "2022-02-02T09:32:23.409Z"
   },
   {
    "duration": 19,
    "start_time": "2022-02-02T09:32:23.422Z"
   },
   {
    "duration": 13,
    "start_time": "2022-02-02T09:32:47.811Z"
   },
   {
    "duration": 5,
    "start_time": "2022-02-02T09:32:56.627Z"
   },
   {
    "duration": 5,
    "start_time": "2022-02-02T09:33:12.818Z"
   },
   {
    "duration": 227,
    "start_time": "2022-02-02T09:33:25.293Z"
   },
   {
    "duration": 204,
    "start_time": "2022-02-02T09:33:36.018Z"
   },
   {
    "duration": 354,
    "start_time": "2022-02-02T09:33:43.148Z"
   },
   {
    "duration": 381,
    "start_time": "2022-02-02T09:33:49.917Z"
   },
   {
    "duration": 1344,
    "start_time": "2022-05-26T14:31:19.417Z"
   },
   {
    "duration": 1254,
    "start_time": "2022-05-26T14:31:20.766Z"
   },
   {
    "duration": 323,
    "start_time": "2022-05-26T14:31:22.021Z"
   },
   {
    "duration": 99,
    "start_time": "2022-05-26T14:31:22.346Z"
   },
   {
    "duration": 162,
    "start_time": "2022-05-26T14:31:22.447Z"
   },
   {
    "duration": 60,
    "start_time": "2022-05-26T14:31:22.611Z"
   },
   {
    "duration": 13,
    "start_time": "2022-05-26T14:31:22.673Z"
   },
   {
    "duration": 7,
    "start_time": "2022-05-26T14:31:22.687Z"
   },
   {
    "duration": 31,
    "start_time": "2022-05-26T14:31:22.696Z"
   },
   {
    "duration": 47,
    "start_time": "2022-05-26T14:31:22.729Z"
   },
   {
    "duration": 16,
    "start_time": "2022-05-26T14:31:22.777Z"
   },
   {
    "duration": 6,
    "start_time": "2022-05-26T14:31:22.795Z"
   },
   {
    "duration": 4,
    "start_time": "2022-05-26T14:31:22.802Z"
   },
   {
    "duration": 27,
    "start_time": "2022-05-26T14:31:22.807Z"
   },
   {
    "duration": 29,
    "start_time": "2022-05-26T14:31:22.836Z"
   },
   {
    "duration": 18,
    "start_time": "2022-05-26T14:31:22.867Z"
   },
   {
    "duration": 9,
    "start_time": "2022-05-26T14:31:22.887Z"
   },
   {
    "duration": 39,
    "start_time": "2022-05-26T14:31:22.897Z"
   },
   {
    "duration": 33,
    "start_time": "2022-05-26T14:31:22.938Z"
   },
   {
    "duration": 806,
    "start_time": "2022-05-26T14:31:22.972Z"
   },
   {
    "duration": 21,
    "start_time": "2022-05-26T14:31:23.781Z"
   },
   {
    "duration": 18,
    "start_time": "2022-05-26T14:31:23.804Z"
   },
   {
    "duration": 313,
    "start_time": "2022-05-26T14:31:23.823Z"
   },
   {
    "duration": 278,
    "start_time": "2022-05-26T14:31:24.138Z"
   },
   {
    "duration": 278,
    "start_time": "2022-05-26T14:31:24.417Z"
   },
   {
    "duration": 5,
    "start_time": "2022-05-26T14:31:24.697Z"
   },
   {
    "duration": 9,
    "start_time": "2022-05-26T14:31:24.704Z"
   },
   {
    "duration": 127,
    "start_time": "2022-05-26T14:31:24.716Z"
   },
   {
    "duration": 7,
    "start_time": "2022-05-26T14:31:24.845Z"
   },
   {
    "duration": 17,
    "start_time": "2022-05-26T14:31:24.865Z"
   }
  ],
  "kernelspec": {
   "display_name": "Python 3 (ipykernel)",
   "language": "python",
   "name": "python3"
  },
  "language_info": {
   "codemirror_mode": {
    "name": "ipython",
    "version": 3
   },
   "file_extension": ".py",
   "mimetype": "text/x-python",
   "name": "python",
   "nbconvert_exporter": "python",
   "pygments_lexer": "ipython3",
   "version": "3.9.7"
  },
  "toc": {
   "base_numbering": 1,
   "nav_menu": {},
   "number_sections": true,
   "sideBar": true,
   "skip_h1_title": true,
   "title_cell": "Table of Contents",
   "title_sidebar": "Contents",
   "toc_cell": true,
   "toc_position": {
    "height": "calc(100% - 180px)",
    "left": "10px",
    "top": "150px",
    "width": "165px"
   },
   "toc_section_display": true,
   "toc_window_display": true
  }
 },
 "nbformat": 4,
 "nbformat_minor": 2
}
