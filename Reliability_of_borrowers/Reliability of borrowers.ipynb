{
 "cells": [
  {
   "cell_type": "markdown",
   "metadata": {
    "toc": true
   },
   "source": [
    "<h1>Table of Contents<span class=\"tocSkip\"></span></h1>\n",
    "<div class=\"toc\"><ul class=\"toc-item\"><li><span><a href=\"#Загрузка-данных\" data-toc-modified-id=\"Загрузка-данных-1\"><span class=\"toc-item-num\">1&nbsp;&nbsp;</span>Загрузка данных</a></span></li><li><span><a href=\"#Предобработка-данных\" data-toc-modified-id=\"Предобработка-данных-2\"><span class=\"toc-item-num\">2&nbsp;&nbsp;</span>Предобработка данных</a></span><ul class=\"toc-item\"><li><span><a href=\"#Обработка-пропусков,-неккоректных-значений\" data-toc-modified-id=\"Обработка-пропусков,-неккоректных-значений-2.1\"><span class=\"toc-item-num\">2.1&nbsp;&nbsp;</span>Обработка пропусков, неккоректных значений</a></span></li><li><span><a href=\"#Замена-типа-данных\" data-toc-modified-id=\"Замена-типа-данных-2.2\"><span class=\"toc-item-num\">2.2&nbsp;&nbsp;</span>Замена типа данных</a></span></li><li><span><a href=\"#Обработка-дубликатов\" data-toc-modified-id=\"Обработка-дубликатов-2.3\"><span class=\"toc-item-num\">2.3&nbsp;&nbsp;</span>Обработка дубликатов</a></span></li><li><span><a href=\"#Лемматизация\" data-toc-modified-id=\"Лемматизация-2.4\"><span class=\"toc-item-num\">2.4&nbsp;&nbsp;</span>Лемматизация</a></span></li><li><span><a href=\"#Категоризация-данных\" data-toc-modified-id=\"Категоризация-данных-2.5\"><span class=\"toc-item-num\">2.5&nbsp;&nbsp;</span>Категоризация данных</a></span></li></ul></li><li><span><a href=\"#Исследование-влияния-параметров\" data-toc-modified-id=\"Исследование-влияния-параметров-3\"><span class=\"toc-item-num\">3&nbsp;&nbsp;</span>Исследование влияния параметров</a></span><ul class=\"toc-item\"><li><span><a href=\"#Зависимость-между-наличием-детей-и-возвратом-кредита-в-срок\" data-toc-modified-id=\"Зависимость-между-наличием-детей-и-возвратом-кредита-в-срок-3.1\"><span class=\"toc-item-num\">3.1&nbsp;&nbsp;</span>Зависимость между наличием детей и возвратом кредита в срок</a></span></li><li><span><a href=\"#Зависимость-между-семейным-положением-и-возвратом-кредита-в-срок\" data-toc-modified-id=\"Зависимость-между-семейным-положением-и-возвратом-кредита-в-срок-3.2\"><span class=\"toc-item-num\">3.2&nbsp;&nbsp;</span>Зависимость между семейным положением и возвратом кредита в срок</a></span></li><li><span><a href=\"#Зависимость-между-уровнем-дохода-и-возвратом-кредита-в-срок\" data-toc-modified-id=\"Зависимость-между-уровнем-дохода-и-возвратом-кредита-в-срок-3.3\"><span class=\"toc-item-num\">3.3&nbsp;&nbsp;</span>Зависимость между уровнем дохода и возвратом кредита в срок</a></span></li><li><span><a href=\"#Влияние-целей-кредита-на-возврат-его-в-срок\" data-toc-modified-id=\"Влияние-целей-кредита-на-возврат-его-в-срок-3.4\"><span class=\"toc-item-num\">3.4&nbsp;&nbsp;</span>Влияние целей кредита на возврат его в срок</a></span></li></ul></li><li><span><a href=\"#Общий-вывод\" data-toc-modified-id=\"Общий-вывод-4\"><span class=\"toc-item-num\">4&nbsp;&nbsp;</span>Общий вывод</a></span></li></ul></div>"
   ]
  },
  {
   "cell_type": "markdown",
   "metadata": {},
   "source": [
    "# Исследование надёжности заёмщиков\n",
    "\n",
    "Для нужд кредитного отдела банка необходимо понять, влияет ли семейное положение и количество детей клиента на факт погашения кредита в срок."
   ]
  },
  {
   "cell_type": "markdown",
   "metadata": {},
   "source": [
    "## Загрузка данных"
   ]
  },
  {
   "cell_type": "code",
   "execution_count": 1,
   "metadata": {},
   "outputs": [],
   "source": [
    "# Импорт библиотек\n",
    "import pandas as pd\n",
    "from pymystem3 import Mystem"
   ]
  },
  {
   "cell_type": "markdown",
   "metadata": {},
   "source": [
    "Отключение вывода в прокручиваемом окне"
   ]
  },
  {
   "cell_type": "code",
   "execution_count": 2,
   "metadata": {},
   "outputs": [
    {
     "data": {
      "application/javascript": [
       "IPython.OutputArea.prototype._should_scroll = function(lines) {\n",
       "    return false;\n",
       "}\n"
      ],
      "text/plain": [
       "<IPython.core.display.Javascript object>"
      ]
     },
     "metadata": {},
     "output_type": "display_data"
    }
   ],
   "source": [
    "%%javascript\n",
    "IPython.OutputArea.prototype._should_scroll = function(lines) {\n",
    "    return false;\n",
    "}"
   ]
  },
  {
   "cell_type": "code",
   "execution_count": 3,
   "metadata": {
    "scrolled": false
   },
   "outputs": [
    {
     "name": "stdout",
     "output_type": "stream",
     "text": [
      "Index(['children', 'days_employed', 'dob_years', 'education', 'education_id',\n",
      "       'family_status', 'family_status_id', 'gender', 'income_type', 'debt',\n",
      "       'total_income', 'purpose'],\n",
      "      dtype='object')\n",
      "\n",
      "<class 'pandas.core.frame.DataFrame'>\n",
      "RangeIndex: 21525 entries, 0 to 21524\n",
      "Data columns (total 12 columns):\n",
      " #   Column            Non-Null Count  Dtype  \n",
      "---  ------            --------------  -----  \n",
      " 0   children          21525 non-null  int64  \n",
      " 1   days_employed     19351 non-null  float64\n",
      " 2   dob_years         21525 non-null  int64  \n",
      " 3   education         21525 non-null  object \n",
      " 4   education_id      21525 non-null  int64  \n",
      " 5   family_status     21525 non-null  object \n",
      " 6   family_status_id  21525 non-null  int64  \n",
      " 7   gender            21525 non-null  object \n",
      " 8   income_type       21525 non-null  object \n",
      " 9   debt              21525 non-null  int64  \n",
      " 10  total_income      19351 non-null  float64\n",
      " 11  purpose           21525 non-null  object \n",
      "dtypes: float64(2), int64(5), object(5)\n",
      "memory usage: 2.0+ MB\n",
      "None\n"
     ]
    },
    {
     "data": {
      "text/html": [
       "<div>\n",
       "<style scoped>\n",
       "    .dataframe tbody tr th:only-of-type {\n",
       "        vertical-align: middle;\n",
       "    }\n",
       "\n",
       "    .dataframe tbody tr th {\n",
       "        vertical-align: top;\n",
       "    }\n",
       "\n",
       "    .dataframe thead th {\n",
       "        text-align: right;\n",
       "    }\n",
       "</style>\n",
       "<table border=\"1\" class=\"dataframe\">\n",
       "  <thead>\n",
       "    <tr style=\"text-align: right;\">\n",
       "      <th></th>\n",
       "      <th>children</th>\n",
       "      <th>days_employed</th>\n",
       "      <th>dob_years</th>\n",
       "      <th>education</th>\n",
       "      <th>education_id</th>\n",
       "      <th>family_status</th>\n",
       "      <th>family_status_id</th>\n",
       "      <th>gender</th>\n",
       "      <th>income_type</th>\n",
       "      <th>debt</th>\n",
       "      <th>total_income</th>\n",
       "      <th>purpose</th>\n",
       "    </tr>\n",
       "  </thead>\n",
       "  <tbody>\n",
       "    <tr>\n",
       "      <th>7259</th>\n",
       "      <td>0</td>\n",
       "      <td>-11556.539021</td>\n",
       "      <td>57</td>\n",
       "      <td>высшее</td>\n",
       "      <td>0</td>\n",
       "      <td>женат / замужем</td>\n",
       "      <td>0</td>\n",
       "      <td>F</td>\n",
       "      <td>сотрудник</td>\n",
       "      <td>0</td>\n",
       "      <td>201414.906802</td>\n",
       "      <td>недвижимость</td>\n",
       "    </tr>\n",
       "    <tr>\n",
       "      <th>20889</th>\n",
       "      <td>2</td>\n",
       "      <td>-3919.449417</td>\n",
       "      <td>40</td>\n",
       "      <td>среднее</td>\n",
       "      <td>1</td>\n",
       "      <td>Не женат / не замужем</td>\n",
       "      <td>4</td>\n",
       "      <td>M</td>\n",
       "      <td>компаньон</td>\n",
       "      <td>0</td>\n",
       "      <td>133362.300391</td>\n",
       "      <td>операции с недвижимостью</td>\n",
       "    </tr>\n",
       "    <tr>\n",
       "      <th>654</th>\n",
       "      <td>1</td>\n",
       "      <td>-997.705115</td>\n",
       "      <td>43</td>\n",
       "      <td>высшее</td>\n",
       "      <td>0</td>\n",
       "      <td>женат / замужем</td>\n",
       "      <td>0</td>\n",
       "      <td>F</td>\n",
       "      <td>компаньон</td>\n",
       "      <td>0</td>\n",
       "      <td>161238.916104</td>\n",
       "      <td>недвижимость</td>\n",
       "    </tr>\n",
       "    <tr>\n",
       "      <th>11484</th>\n",
       "      <td>1</td>\n",
       "      <td>-124.051493</td>\n",
       "      <td>59</td>\n",
       "      <td>высшее</td>\n",
       "      <td>0</td>\n",
       "      <td>женат / замужем</td>\n",
       "      <td>0</td>\n",
       "      <td>F</td>\n",
       "      <td>компаньон</td>\n",
       "      <td>0</td>\n",
       "      <td>163612.577526</td>\n",
       "      <td>покупка жилой недвижимости</td>\n",
       "    </tr>\n",
       "    <tr>\n",
       "      <th>1485</th>\n",
       "      <td>2</td>\n",
       "      <td>NaN</td>\n",
       "      <td>37</td>\n",
       "      <td>среднее</td>\n",
       "      <td>1</td>\n",
       "      <td>женат / замужем</td>\n",
       "      <td>0</td>\n",
       "      <td>M</td>\n",
       "      <td>сотрудник</td>\n",
       "      <td>0</td>\n",
       "      <td>NaN</td>\n",
       "      <td>свой автомобиль</td>\n",
       "    </tr>\n",
       "  </tbody>\n",
       "</table>\n",
       "</div>"
      ],
      "text/plain": [
       "       children  days_employed  dob_years education  education_id  \\\n",
       "7259          0  -11556.539021         57    высшее             0   \n",
       "20889         2   -3919.449417         40   среднее             1   \n",
       "654           1    -997.705115         43    высшее             0   \n",
       "11484         1    -124.051493         59    высшее             0   \n",
       "1485          2            NaN         37   среднее             1   \n",
       "\n",
       "               family_status  family_status_id gender income_type  debt  \\\n",
       "7259         женат / замужем                 0      F   сотрудник     0   \n",
       "20889  Не женат / не замужем                 4      M   компаньон     0   \n",
       "654          женат / замужем                 0      F   компаньон     0   \n",
       "11484        женат / замужем                 0      F   компаньон     0   \n",
       "1485         женат / замужем                 0      M   сотрудник     0   \n",
       "\n",
       "        total_income                     purpose  \n",
       "7259   201414.906802                недвижимость  \n",
       "20889  133362.300391    операции с недвижимостью  \n",
       "654    161238.916104                недвижимость  \n",
       "11484  163612.577526  покупка жилой недвижимости  \n",
       "1485             NaN             свой автомобиль  "
      ]
     },
     "metadata": {},
     "output_type": "display_data"
    },
    {
     "data": {
      "text/html": [
       "<div>\n",
       "<style scoped>\n",
       "    .dataframe tbody tr th:only-of-type {\n",
       "        vertical-align: middle;\n",
       "    }\n",
       "\n",
       "    .dataframe tbody tr th {\n",
       "        vertical-align: top;\n",
       "    }\n",
       "\n",
       "    .dataframe thead th {\n",
       "        text-align: right;\n",
       "    }\n",
       "</style>\n",
       "<table border=\"1\" class=\"dataframe\">\n",
       "  <thead>\n",
       "    <tr style=\"text-align: right;\">\n",
       "      <th></th>\n",
       "      <th>count</th>\n",
       "      <th>mean</th>\n",
       "      <th>std</th>\n",
       "      <th>min</th>\n",
       "      <th>25%</th>\n",
       "      <th>50%</th>\n",
       "      <th>75%</th>\n",
       "      <th>max</th>\n",
       "    </tr>\n",
       "  </thead>\n",
       "  <tbody>\n",
       "    <tr>\n",
       "      <th>children</th>\n",
       "      <td>21525.0</td>\n",
       "      <td>0.538908</td>\n",
       "      <td>1.381587</td>\n",
       "      <td>-1.000000</td>\n",
       "      <td>0.000000</td>\n",
       "      <td>0.000000</td>\n",
       "      <td>1.000000</td>\n",
       "      <td>2.000000e+01</td>\n",
       "    </tr>\n",
       "    <tr>\n",
       "      <th>days_employed</th>\n",
       "      <td>19351.0</td>\n",
       "      <td>63046.497661</td>\n",
       "      <td>140827.311974</td>\n",
       "      <td>-18388.949901</td>\n",
       "      <td>-2747.423625</td>\n",
       "      <td>-1203.369529</td>\n",
       "      <td>-291.095954</td>\n",
       "      <td>4.017554e+05</td>\n",
       "    </tr>\n",
       "    <tr>\n",
       "      <th>dob_years</th>\n",
       "      <td>21525.0</td>\n",
       "      <td>43.293380</td>\n",
       "      <td>12.574584</td>\n",
       "      <td>0.000000</td>\n",
       "      <td>33.000000</td>\n",
       "      <td>42.000000</td>\n",
       "      <td>53.000000</td>\n",
       "      <td>7.500000e+01</td>\n",
       "    </tr>\n",
       "    <tr>\n",
       "      <th>education_id</th>\n",
       "      <td>21525.0</td>\n",
       "      <td>0.817236</td>\n",
       "      <td>0.548138</td>\n",
       "      <td>0.000000</td>\n",
       "      <td>1.000000</td>\n",
       "      <td>1.000000</td>\n",
       "      <td>1.000000</td>\n",
       "      <td>4.000000e+00</td>\n",
       "    </tr>\n",
       "    <tr>\n",
       "      <th>family_status_id</th>\n",
       "      <td>21525.0</td>\n",
       "      <td>0.972544</td>\n",
       "      <td>1.420324</td>\n",
       "      <td>0.000000</td>\n",
       "      <td>0.000000</td>\n",
       "      <td>0.000000</td>\n",
       "      <td>1.000000</td>\n",
       "      <td>4.000000e+00</td>\n",
       "    </tr>\n",
       "    <tr>\n",
       "      <th>debt</th>\n",
       "      <td>21525.0</td>\n",
       "      <td>0.080883</td>\n",
       "      <td>0.272661</td>\n",
       "      <td>0.000000</td>\n",
       "      <td>0.000000</td>\n",
       "      <td>0.000000</td>\n",
       "      <td>0.000000</td>\n",
       "      <td>1.000000e+00</td>\n",
       "    </tr>\n",
       "    <tr>\n",
       "      <th>total_income</th>\n",
       "      <td>19351.0</td>\n",
       "      <td>167422.302208</td>\n",
       "      <td>102971.566448</td>\n",
       "      <td>20667.263793</td>\n",
       "      <td>103053.152913</td>\n",
       "      <td>145017.937533</td>\n",
       "      <td>203435.067663</td>\n",
       "      <td>2.265604e+06</td>\n",
       "    </tr>\n",
       "  </tbody>\n",
       "</table>\n",
       "</div>"
      ],
      "text/plain": [
       "                    count           mean            std           min  \\\n",
       "children          21525.0       0.538908       1.381587     -1.000000   \n",
       "days_employed     19351.0   63046.497661  140827.311974 -18388.949901   \n",
       "dob_years         21525.0      43.293380      12.574584      0.000000   \n",
       "education_id      21525.0       0.817236       0.548138      0.000000   \n",
       "family_status_id  21525.0       0.972544       1.420324      0.000000   \n",
       "debt              21525.0       0.080883       0.272661      0.000000   \n",
       "total_income      19351.0  167422.302208  102971.566448  20667.263793   \n",
       "\n",
       "                            25%            50%            75%           max  \n",
       "children               0.000000       0.000000       1.000000  2.000000e+01  \n",
       "days_employed      -2747.423625   -1203.369529    -291.095954  4.017554e+05  \n",
       "dob_years             33.000000      42.000000      53.000000  7.500000e+01  \n",
       "education_id           1.000000       1.000000       1.000000  4.000000e+00  \n",
       "family_status_id       0.000000       0.000000       1.000000  4.000000e+00  \n",
       "debt                   0.000000       0.000000       0.000000  1.000000e+00  \n",
       "total_income      103053.152913  145017.937533  203435.067663  2.265604e+06  "
      ]
     },
     "metadata": {},
     "output_type": "display_data"
    }
   ],
   "source": [
    "# Загрузка данных\n",
    "df = pd.read_csv('/datasets/data.csv')\n",
    "\n",
    "# Ознакомление с данными\n",
    "print(df.columns)\n",
    "print()\n",
    "print(df.info())\n",
    "display(df.sample(5))\n",
    "display(df.describe().T)"
   ]
  },
  {
   "cell_type": "markdown",
   "metadata": {},
   "source": [
    "**Вывод**"
   ]
  },
  {
   "cell_type": "markdown",
   "metadata": {},
   "source": [
    "В таблице 21525 строк.\n",
    "Названия столбоц в порядке.\n",
    "В данных есть проблемные значения, пропуски и некоректные типы данных."
   ]
  },
  {
   "cell_type": "markdown",
   "metadata": {},
   "source": [
    "## Предобработка данных"
   ]
  },
  {
   "cell_type": "markdown",
   "metadata": {},
   "source": [
    "### Обработка пропусков, неккоректных значений"
   ]
  },
  {
   "cell_type": "markdown",
   "metadata": {},
   "source": [
    "В столбце children имеются отрицательные значения -1. Отрицательными они быть не могут. Вероятно минус появился из-за ошибки при выгрузке."
   ]
  },
  {
   "cell_type": "code",
   "execution_count": 4,
   "metadata": {},
   "outputs": [],
   "source": [
    "df['children'] = df['children'].abs()"
   ]
  },
  {
   "cell_type": "markdown",
   "metadata": {},
   "source": [
    "В столбце education строки отличаются регистром. Нужно привести всё к нижнему регистру."
   ]
  },
  {
   "cell_type": "code",
   "execution_count": 5,
   "metadata": {},
   "outputs": [],
   "source": [
    "df['education'] = df['education'].str.lower()"
   ]
  },
  {
   "cell_type": "markdown",
   "metadata": {},
   "source": [
    "В столбце days_employed значения отработанных дней со знаком минус. Вероятно ошибка при выгрузке. Необходимо сделать все значения положительными.\n",
    "\n",
    "В столбце days_employed присутствуют огромные значения, которые явно не являются количеством отработанных дней. Используя фильтр print(df[df['days_employed'] >= 20000].count()), определил, что после 20 000 дней количество строк 3445 не изменяется. Это значит, что на этом реальные значения закончились, а дальше начиная с сотен тысяч (приблизительно с 330 000) начнутся подозрительные. Вероятно, это ошибка при выгрузке, из-за которой значения стали на 2 порядка выше. Нужно это исправить."
   ]
  },
  {
   "cell_type": "code",
   "execution_count": 6,
   "metadata": {},
   "outputs": [],
   "source": [
    "df['days_employed'] = df['days_employed'].abs()\n",
    "\n",
    "df.loc[df['days_employed'] > 20000, 'days_employed'] = df['days_employed'] / 100"
   ]
  },
  {
   "cell_type": "markdown",
   "metadata": {},
   "source": [
    "В столбце dob_years присутствует 101 значение 0. Эту ошибку можно удалить из-за небольшого количества таких строк."
   ]
  },
  {
   "cell_type": "code",
   "execution_count": 7,
   "metadata": {},
   "outputs": [],
   "source": [
    "df = df.loc[df['dob_years'] != 0]"
   ]
  },
  {
   "cell_type": "markdown",
   "metadata": {},
   "source": [
    "В столбце 'income_type' подсчитав количество каждых категорий, обнаружил, что 'безработный', 'предприниматель', 'в декрете', 'студент' в сумме всего лишь 6 значений. Этого не достаточно для анализа, поэтому эти строки можно удалить:"
   ]
  },
  {
   "cell_type": "code",
   "execution_count": 8,
   "metadata": {},
   "outputs": [],
   "source": [
    "count_income_type = df['income_type'].value_counts()\n",
    "df = df.loc[df['income_type'] != 'безработный']\n",
    "df = df.loc[df['income_type'] != 'предприниматель']\n",
    "df = df.loc[df['income_type'] != 'в декрете']\n",
    "df = df.loc[df['income_type'] != 'студент']"
   ]
  },
  {
   "cell_type": "markdown",
   "metadata": {},
   "source": [
    "В столбцах 'days_employed' и 'total_income' имеются пропуски NaN одновременно в обоих столбцах. Используя bool_series = pd.isnull(df['days_employed'])df_nan = df[bool_series] осмотрел строки с пропусками. Никаких закономерностей появления NaN по цели кредита 'purpose' не обнаружил.\n",
    "\n",
    "В столбце 'income_type' пропуски отсутствуют у 'безработный', 'в декрете', 'студент'. Возможно пропуски появились во время выгрузки данных. Т.к. пропуски находятся в количественных переменных нужно заменить их медианными значениями. Среднее значение не подходит, т.к. немногочисленные строчки с большими значениями сильно оттянут среднее значение в свою сторону."
   ]
  },
  {
   "cell_type": "code",
   "execution_count": 9,
   "metadata": {},
   "outputs": [],
   "source": [
    "# Т.к. медиана находится в упорядоченном списке без пропусков удаляем в отдельном df все пропуски:\n",
    "df_not_nan = df.dropna()\n",
    "# Затем находим медианы для оставшихся 4 категорий:\n",
    "goss_median_days_employed = df_not_nan[df_not_nan['income_type'] == 'госслужащий']['days_employed'].sort_values().median()\n",
    "komp_median_days_employed = df_not_nan[df_not_nan['income_type'] == 'компаньон']['days_employed'].sort_values().median()\n",
    "pens_median_days_employed = df_not_nan[df_not_nan['income_type'] == 'пенсионер']['days_employed'].sort_values().median()\n",
    "sotr_median_days_employed = df_not_nan[df_not_nan['income_type'] == 'сотрудник']['days_employed'].sort_values().median()\n",
    "\n",
    "goss_median_total_income = df_not_nan[df_not_nan['income_type'] == 'госслужащий']['total_income'].sort_values().median()\n",
    "komp_median_total_income = df_not_nan[df_not_nan['income_type'] == 'компаньон']['total_income'].sort_values().median()\n",
    "pens_median_total_income = df_not_nan[df_not_nan['income_type'] == 'пенсионер']['total_income'].sort_values().median()\n",
    "sotr_median_total_income = df_not_nan[df_not_nan['income_type'] == 'сотрудник']['total_income'].sort_values().median()\n",
    "\n",
    "# Составляем дополнительный DataFrame с средними значениями:\n",
    "data = [['госслужащий', 2673.404955519986, 150521.9175795368],\n",
    "        ['компаньон', 1548.6375436404599, 172280.58171182536],\n",
    "        ['пенсионер', 3651.763367751465, 118557.17941467627],\n",
    "        ['сотрудник', 1576.0676889889892, 142594.39684740017]]\n",
    "columns = ['income_type', 'days_employed', 'total_income']\n",
    "df_2 = pd.DataFrame(data=data, columns=columns)\n",
    "# Cоединяем основной и дополнительный DF с сохранением всех значений основного:\n",
    "df = df.merge(df_2, on='income_type', how='left')\n",
    "# Заменяем пропуски на соответствущие средние значения:\n",
    "df['days_employed_x'] = df['days_employed_x'].fillna(df['days_employed_y'])\n",
    "df['total_income_x'] = df['total_income_x'].fillna(df['total_income_y'])\n",
    "# Теперь необходимо удалить вспомогательные столбцы, они больше не нужны:\n",
    "df = df.drop(columns='days_employed_y')\n",
    "df = df.drop(columns='total_income_y')"
   ]
  },
  {
   "cell_type": "markdown",
   "metadata": {},
   "source": [
    "В столбце 'children' имеется 75 значений с количеством детей равным 20. Это ошибка, возможно вызвана опечаткой. Изменим количество детей на 2."
   ]
  },
  {
   "cell_type": "code",
   "execution_count": 10,
   "metadata": {},
   "outputs": [],
   "source": [
    "df['children'] = df['children'].replace(20, 2)"
   ]
  },
  {
   "cell_type": "markdown",
   "metadata": {},
   "source": [
    "**Вывод**"
   ]
  },
  {
   "cell_type": "markdown",
   "metadata": {},
   "source": [
    "В данных исправлены ошибки, такие как: отрицательные значения опыта работы и количества детей, разные регистры в столбце образования, огромные значения опыта работы, нулевые значения возраста и пропущенные значения в столбцах отработанных дней и общего дохода. Удалил 6 строк с редко повторяющимися категориями. Данные подготовлены для дальнейшего исследования."
   ]
  },
  {
   "cell_type": "markdown",
   "metadata": {},
   "source": [
    "### Замена типа данных"
   ]
  },
  {
   "cell_type": "code",
   "execution_count": 11,
   "metadata": {},
   "outputs": [
    {
     "data": {
      "text/html": [
       "<div>\n",
       "<style scoped>\n",
       "    .dataframe tbody tr th:only-of-type {\n",
       "        vertical-align: middle;\n",
       "    }\n",
       "\n",
       "    .dataframe tbody tr th {\n",
       "        vertical-align: top;\n",
       "    }\n",
       "\n",
       "    .dataframe thead th {\n",
       "        text-align: right;\n",
       "    }\n",
       "</style>\n",
       "<table border=\"1\" class=\"dataframe\">\n",
       "  <thead>\n",
       "    <tr style=\"text-align: right;\">\n",
       "      <th></th>\n",
       "      <th>children</th>\n",
       "      <th>days_employed_x</th>\n",
       "      <th>dob_years</th>\n",
       "      <th>education</th>\n",
       "      <th>education_id</th>\n",
       "      <th>family_status</th>\n",
       "      <th>family_status_id</th>\n",
       "      <th>gender</th>\n",
       "      <th>income_type</th>\n",
       "      <th>debt</th>\n",
       "      <th>total_income_x</th>\n",
       "      <th>purpose</th>\n",
       "    </tr>\n",
       "  </thead>\n",
       "  <tbody>\n",
       "    <tr>\n",
       "      <th>0</th>\n",
       "      <td>1</td>\n",
       "      <td>8437</td>\n",
       "      <td>42</td>\n",
       "      <td>высшее</td>\n",
       "      <td>0</td>\n",
       "      <td>женат / замужем</td>\n",
       "      <td>0</td>\n",
       "      <td>F</td>\n",
       "      <td>сотрудник</td>\n",
       "      <td>0</td>\n",
       "      <td>253875</td>\n",
       "      <td>покупка жилья</td>\n",
       "    </tr>\n",
       "    <tr>\n",
       "      <th>1</th>\n",
       "      <td>1</td>\n",
       "      <td>4024</td>\n",
       "      <td>36</td>\n",
       "      <td>среднее</td>\n",
       "      <td>1</td>\n",
       "      <td>женат / замужем</td>\n",
       "      <td>0</td>\n",
       "      <td>F</td>\n",
       "      <td>сотрудник</td>\n",
       "      <td>0</td>\n",
       "      <td>112080</td>\n",
       "      <td>приобретение автомобиля</td>\n",
       "    </tr>\n",
       "    <tr>\n",
       "      <th>2</th>\n",
       "      <td>0</td>\n",
       "      <td>5623</td>\n",
       "      <td>33</td>\n",
       "      <td>среднее</td>\n",
       "      <td>1</td>\n",
       "      <td>женат / замужем</td>\n",
       "      <td>0</td>\n",
       "      <td>M</td>\n",
       "      <td>сотрудник</td>\n",
       "      <td>0</td>\n",
       "      <td>145885</td>\n",
       "      <td>покупка жилья</td>\n",
       "    </tr>\n",
       "    <tr>\n",
       "      <th>3</th>\n",
       "      <td>3</td>\n",
       "      <td>4124</td>\n",
       "      <td>32</td>\n",
       "      <td>среднее</td>\n",
       "      <td>1</td>\n",
       "      <td>женат / замужем</td>\n",
       "      <td>0</td>\n",
       "      <td>M</td>\n",
       "      <td>сотрудник</td>\n",
       "      <td>0</td>\n",
       "      <td>267628</td>\n",
       "      <td>дополнительное образование</td>\n",
       "    </tr>\n",
       "    <tr>\n",
       "      <th>4</th>\n",
       "      <td>0</td>\n",
       "      <td>3402</td>\n",
       "      <td>53</td>\n",
       "      <td>среднее</td>\n",
       "      <td>1</td>\n",
       "      <td>гражданский брак</td>\n",
       "      <td>1</td>\n",
       "      <td>F</td>\n",
       "      <td>пенсионер</td>\n",
       "      <td>0</td>\n",
       "      <td>158616</td>\n",
       "      <td>сыграть свадьбу</td>\n",
       "    </tr>\n",
       "    <tr>\n",
       "      <th>...</th>\n",
       "      <td>...</td>\n",
       "      <td>...</td>\n",
       "      <td>...</td>\n",
       "      <td>...</td>\n",
       "      <td>...</td>\n",
       "      <td>...</td>\n",
       "      <td>...</td>\n",
       "      <td>...</td>\n",
       "      <td>...</td>\n",
       "      <td>...</td>\n",
       "      <td>...</td>\n",
       "      <td>...</td>\n",
       "    </tr>\n",
       "    <tr>\n",
       "      <th>21413</th>\n",
       "      <td>1</td>\n",
       "      <td>4529</td>\n",
       "      <td>43</td>\n",
       "      <td>среднее</td>\n",
       "      <td>1</td>\n",
       "      <td>гражданский брак</td>\n",
       "      <td>1</td>\n",
       "      <td>F</td>\n",
       "      <td>компаньон</td>\n",
       "      <td>0</td>\n",
       "      <td>224791</td>\n",
       "      <td>операции с жильем</td>\n",
       "    </tr>\n",
       "    <tr>\n",
       "      <th>21414</th>\n",
       "      <td>0</td>\n",
       "      <td>3439</td>\n",
       "      <td>67</td>\n",
       "      <td>среднее</td>\n",
       "      <td>1</td>\n",
       "      <td>женат / замужем</td>\n",
       "      <td>0</td>\n",
       "      <td>F</td>\n",
       "      <td>пенсионер</td>\n",
       "      <td>0</td>\n",
       "      <td>155999</td>\n",
       "      <td>сделка с автомобилем</td>\n",
       "    </tr>\n",
       "    <tr>\n",
       "      <th>21415</th>\n",
       "      <td>1</td>\n",
       "      <td>2113</td>\n",
       "      <td>38</td>\n",
       "      <td>среднее</td>\n",
       "      <td>1</td>\n",
       "      <td>гражданский брак</td>\n",
       "      <td>1</td>\n",
       "      <td>M</td>\n",
       "      <td>сотрудник</td>\n",
       "      <td>1</td>\n",
       "      <td>89672</td>\n",
       "      <td>недвижимость</td>\n",
       "    </tr>\n",
       "    <tr>\n",
       "      <th>21416</th>\n",
       "      <td>3</td>\n",
       "      <td>3112</td>\n",
       "      <td>38</td>\n",
       "      <td>среднее</td>\n",
       "      <td>1</td>\n",
       "      <td>женат / замужем</td>\n",
       "      <td>0</td>\n",
       "      <td>M</td>\n",
       "      <td>сотрудник</td>\n",
       "      <td>1</td>\n",
       "      <td>244093</td>\n",
       "      <td>на покупку своего автомобиля</td>\n",
       "    </tr>\n",
       "    <tr>\n",
       "      <th>21417</th>\n",
       "      <td>2</td>\n",
       "      <td>1984</td>\n",
       "      <td>40</td>\n",
       "      <td>среднее</td>\n",
       "      <td>1</td>\n",
       "      <td>женат / замужем</td>\n",
       "      <td>0</td>\n",
       "      <td>F</td>\n",
       "      <td>сотрудник</td>\n",
       "      <td>0</td>\n",
       "      <td>82047</td>\n",
       "      <td>на покупку автомобиля</td>\n",
       "    </tr>\n",
       "  </tbody>\n",
       "</table>\n",
       "<p>21418 rows × 12 columns</p>\n",
       "</div>"
      ],
      "text/plain": [
       "       children  days_employed_x  dob_years education  education_id  \\\n",
       "0             1             8437         42    высшее             0   \n",
       "1             1             4024         36   среднее             1   \n",
       "2             0             5623         33   среднее             1   \n",
       "3             3             4124         32   среднее             1   \n",
       "4             0             3402         53   среднее             1   \n",
       "...         ...              ...        ...       ...           ...   \n",
       "21413         1             4529         43   среднее             1   \n",
       "21414         0             3439         67   среднее             1   \n",
       "21415         1             2113         38   среднее             1   \n",
       "21416         3             3112         38   среднее             1   \n",
       "21417         2             1984         40   среднее             1   \n",
       "\n",
       "          family_status  family_status_id gender income_type  debt  \\\n",
       "0       женат / замужем                 0      F   сотрудник     0   \n",
       "1       женат / замужем                 0      F   сотрудник     0   \n",
       "2       женат / замужем                 0      M   сотрудник     0   \n",
       "3       женат / замужем                 0      M   сотрудник     0   \n",
       "4      гражданский брак                 1      F   пенсионер     0   \n",
       "...                 ...               ...    ...         ...   ...   \n",
       "21413  гражданский брак                 1      F   компаньон     0   \n",
       "21414   женат / замужем                 0      F   пенсионер     0   \n",
       "21415  гражданский брак                 1      M   сотрудник     1   \n",
       "21416   женат / замужем                 0      M   сотрудник     1   \n",
       "21417   женат / замужем                 0      F   сотрудник     0   \n",
       "\n",
       "       total_income_x                       purpose  \n",
       "0              253875                 покупка жилья  \n",
       "1              112080       приобретение автомобиля  \n",
       "2              145885                 покупка жилья  \n",
       "3              267628    дополнительное образование  \n",
       "4              158616               сыграть свадьбу  \n",
       "...               ...                           ...  \n",
       "21413          224791             операции с жильем  \n",
       "21414          155999          сделка с автомобилем  \n",
       "21415           89672                  недвижимость  \n",
       "21416          244093  на покупку своего автомобиля  \n",
       "21417           82047         на покупку автомобиля  \n",
       "\n",
       "[21418 rows x 12 columns]"
      ]
     },
     "execution_count": 11,
     "metadata": {},
     "output_type": "execute_result"
    }
   ],
   "source": [
    "df['days_employed_x'] = df['days_employed_x'].astype(int)\n",
    "df['total_income_x'] = df['total_income_x'].astype(int)\n",
    "df"
   ]
  },
  {
   "cell_type": "markdown",
   "metadata": {},
   "source": [
    "**Вывод**"
   ]
  },
  {
   "cell_type": "markdown",
   "metadata": {},
   "source": [
    "Теперь в таблице целочисленные значения, которые легче визуально воспринимать."
   ]
  },
  {
   "cell_type": "markdown",
   "metadata": {},
   "source": [
    "### Обработка дубликатов"
   ]
  },
  {
   "cell_type": "code",
   "execution_count": 12,
   "metadata": {},
   "outputs": [
    {
     "data": {
      "text/html": [
       "<div>\n",
       "<style scoped>\n",
       "    .dataframe tbody tr th:only-of-type {\n",
       "        vertical-align: middle;\n",
       "    }\n",
       "\n",
       "    .dataframe tbody tr th {\n",
       "        vertical-align: top;\n",
       "    }\n",
       "\n",
       "    .dataframe thead th {\n",
       "        text-align: right;\n",
       "    }\n",
       "</style>\n",
       "<table border=\"1\" class=\"dataframe\">\n",
       "  <thead>\n",
       "    <tr style=\"text-align: right;\">\n",
       "      <th></th>\n",
       "      <th>children</th>\n",
       "      <th>days_employed_x</th>\n",
       "      <th>dob_years</th>\n",
       "      <th>education</th>\n",
       "      <th>education_id</th>\n",
       "      <th>family_status</th>\n",
       "      <th>family_status_id</th>\n",
       "      <th>gender</th>\n",
       "      <th>income_type</th>\n",
       "      <th>debt</th>\n",
       "      <th>total_income_x</th>\n",
       "      <th>purpose</th>\n",
       "    </tr>\n",
       "  </thead>\n",
       "  <tbody>\n",
       "    <tr>\n",
       "      <th>0</th>\n",
       "      <td>1</td>\n",
       "      <td>8437</td>\n",
       "      <td>42</td>\n",
       "      <td>высшее</td>\n",
       "      <td>0</td>\n",
       "      <td>женат / замужем</td>\n",
       "      <td>0</td>\n",
       "      <td>F</td>\n",
       "      <td>сотрудник</td>\n",
       "      <td>0</td>\n",
       "      <td>253875</td>\n",
       "      <td>покупка жилья</td>\n",
       "    </tr>\n",
       "    <tr>\n",
       "      <th>1</th>\n",
       "      <td>1</td>\n",
       "      <td>4024</td>\n",
       "      <td>36</td>\n",
       "      <td>среднее</td>\n",
       "      <td>1</td>\n",
       "      <td>женат / замужем</td>\n",
       "      <td>0</td>\n",
       "      <td>F</td>\n",
       "      <td>сотрудник</td>\n",
       "      <td>0</td>\n",
       "      <td>112080</td>\n",
       "      <td>приобретение автомобиля</td>\n",
       "    </tr>\n",
       "    <tr>\n",
       "      <th>2</th>\n",
       "      <td>0</td>\n",
       "      <td>5623</td>\n",
       "      <td>33</td>\n",
       "      <td>среднее</td>\n",
       "      <td>1</td>\n",
       "      <td>женат / замужем</td>\n",
       "      <td>0</td>\n",
       "      <td>M</td>\n",
       "      <td>сотрудник</td>\n",
       "      <td>0</td>\n",
       "      <td>145885</td>\n",
       "      <td>покупка жилья</td>\n",
       "    </tr>\n",
       "    <tr>\n",
       "      <th>3</th>\n",
       "      <td>3</td>\n",
       "      <td>4124</td>\n",
       "      <td>32</td>\n",
       "      <td>среднее</td>\n",
       "      <td>1</td>\n",
       "      <td>женат / замужем</td>\n",
       "      <td>0</td>\n",
       "      <td>M</td>\n",
       "      <td>сотрудник</td>\n",
       "      <td>0</td>\n",
       "      <td>267628</td>\n",
       "      <td>дополнительное образование</td>\n",
       "    </tr>\n",
       "    <tr>\n",
       "      <th>4</th>\n",
       "      <td>0</td>\n",
       "      <td>3402</td>\n",
       "      <td>53</td>\n",
       "      <td>среднее</td>\n",
       "      <td>1</td>\n",
       "      <td>гражданский брак</td>\n",
       "      <td>1</td>\n",
       "      <td>F</td>\n",
       "      <td>пенсионер</td>\n",
       "      <td>0</td>\n",
       "      <td>158616</td>\n",
       "      <td>сыграть свадьбу</td>\n",
       "    </tr>\n",
       "    <tr>\n",
       "      <th>...</th>\n",
       "      <td>...</td>\n",
       "      <td>...</td>\n",
       "      <td>...</td>\n",
       "      <td>...</td>\n",
       "      <td>...</td>\n",
       "      <td>...</td>\n",
       "      <td>...</td>\n",
       "      <td>...</td>\n",
       "      <td>...</td>\n",
       "      <td>...</td>\n",
       "      <td>...</td>\n",
       "      <td>...</td>\n",
       "    </tr>\n",
       "    <tr>\n",
       "      <th>21342</th>\n",
       "      <td>1</td>\n",
       "      <td>4529</td>\n",
       "      <td>43</td>\n",
       "      <td>среднее</td>\n",
       "      <td>1</td>\n",
       "      <td>гражданский брак</td>\n",
       "      <td>1</td>\n",
       "      <td>F</td>\n",
       "      <td>компаньон</td>\n",
       "      <td>0</td>\n",
       "      <td>224791</td>\n",
       "      <td>операции с жильем</td>\n",
       "    </tr>\n",
       "    <tr>\n",
       "      <th>21343</th>\n",
       "      <td>0</td>\n",
       "      <td>3439</td>\n",
       "      <td>67</td>\n",
       "      <td>среднее</td>\n",
       "      <td>1</td>\n",
       "      <td>женат / замужем</td>\n",
       "      <td>0</td>\n",
       "      <td>F</td>\n",
       "      <td>пенсионер</td>\n",
       "      <td>0</td>\n",
       "      <td>155999</td>\n",
       "      <td>сделка с автомобилем</td>\n",
       "    </tr>\n",
       "    <tr>\n",
       "      <th>21344</th>\n",
       "      <td>1</td>\n",
       "      <td>2113</td>\n",
       "      <td>38</td>\n",
       "      <td>среднее</td>\n",
       "      <td>1</td>\n",
       "      <td>гражданский брак</td>\n",
       "      <td>1</td>\n",
       "      <td>M</td>\n",
       "      <td>сотрудник</td>\n",
       "      <td>1</td>\n",
       "      <td>89672</td>\n",
       "      <td>недвижимость</td>\n",
       "    </tr>\n",
       "    <tr>\n",
       "      <th>21345</th>\n",
       "      <td>3</td>\n",
       "      <td>3112</td>\n",
       "      <td>38</td>\n",
       "      <td>среднее</td>\n",
       "      <td>1</td>\n",
       "      <td>женат / замужем</td>\n",
       "      <td>0</td>\n",
       "      <td>M</td>\n",
       "      <td>сотрудник</td>\n",
       "      <td>1</td>\n",
       "      <td>244093</td>\n",
       "      <td>на покупку своего автомобиля</td>\n",
       "    </tr>\n",
       "    <tr>\n",
       "      <th>21346</th>\n",
       "      <td>2</td>\n",
       "      <td>1984</td>\n",
       "      <td>40</td>\n",
       "      <td>среднее</td>\n",
       "      <td>1</td>\n",
       "      <td>женат / замужем</td>\n",
       "      <td>0</td>\n",
       "      <td>F</td>\n",
       "      <td>сотрудник</td>\n",
       "      <td>0</td>\n",
       "      <td>82047</td>\n",
       "      <td>на покупку автомобиля</td>\n",
       "    </tr>\n",
       "  </tbody>\n",
       "</table>\n",
       "<p>21347 rows × 12 columns</p>\n",
       "</div>"
      ],
      "text/plain": [
       "       children  days_employed_x  dob_years education  education_id  \\\n",
       "0             1             8437         42    высшее             0   \n",
       "1             1             4024         36   среднее             1   \n",
       "2             0             5623         33   среднее             1   \n",
       "3             3             4124         32   среднее             1   \n",
       "4             0             3402         53   среднее             1   \n",
       "...         ...              ...        ...       ...           ...   \n",
       "21342         1             4529         43   среднее             1   \n",
       "21343         0             3439         67   среднее             1   \n",
       "21344         1             2113         38   среднее             1   \n",
       "21345         3             3112         38   среднее             1   \n",
       "21346         2             1984         40   среднее             1   \n",
       "\n",
       "          family_status  family_status_id gender income_type  debt  \\\n",
       "0       женат / замужем                 0      F   сотрудник     0   \n",
       "1       женат / замужем                 0      F   сотрудник     0   \n",
       "2       женат / замужем                 0      M   сотрудник     0   \n",
       "3       женат / замужем                 0      M   сотрудник     0   \n",
       "4      гражданский брак                 1      F   пенсионер     0   \n",
       "...                 ...               ...    ...         ...   ...   \n",
       "21342  гражданский брак                 1      F   компаньон     0   \n",
       "21343   женат / замужем                 0      F   пенсионер     0   \n",
       "21344  гражданский брак                 1      M   сотрудник     1   \n",
       "21345   женат / замужем                 0      M   сотрудник     1   \n",
       "21346   женат / замужем                 0      F   сотрудник     0   \n",
       "\n",
       "       total_income_x                       purpose  \n",
       "0              253875                 покупка жилья  \n",
       "1              112080       приобретение автомобиля  \n",
       "2              145885                 покупка жилья  \n",
       "3              267628    дополнительное образование  \n",
       "4              158616               сыграть свадьбу  \n",
       "...               ...                           ...  \n",
       "21342          224791             операции с жильем  \n",
       "21343          155999          сделка с автомобилем  \n",
       "21344           89672                  недвижимость  \n",
       "21345          244093  на покупку своего автомобиля  \n",
       "21346           82047         на покупку автомобиля  \n",
       "\n",
       "[21347 rows x 12 columns]"
      ]
     },
     "execution_count": 12,
     "metadata": {},
     "output_type": "execute_result"
    }
   ],
   "source": [
    "# Определение числа дубликатов\n",
    "df.duplicated().sum()\n",
    "# Удаление дубликатов\n",
    "df.drop_duplicates().reset_index(drop=True)"
   ]
  },
  {
   "cell_type": "markdown",
   "metadata": {},
   "source": [
    "**Вывод**"
   ]
  },
  {
   "cell_type": "markdown",
   "metadata": {},
   "source": [
    "В таблице были обнаружены 71 дубликат. Данные строки были удалены. Дубликаты могли появиться на этапе формирования данных. Так же дубликаты могли появиться на этапе выгрузки данных из базы."
   ]
  },
  {
   "cell_type": "markdown",
   "metadata": {},
   "source": [
    "### Лемматизация"
   ]
  },
  {
   "cell_type": "markdown",
   "metadata": {},
   "source": [
    "В столбце с целями кредита находятся одинаковые по смыслу, но разные по написанию цели кредита. Необходимо унифицировать одинаковые цели кредита."
   ]
  },
  {
   "cell_type": "code",
   "execution_count": 13,
   "metadata": {},
   "outputs": [
    {
     "name": "stdout",
     "output_type": "stream",
     "text": [
      "свадьба                                   792\n",
      "на проведение свадьбы                     772\n",
      "сыграть свадьбу                           769\n",
      "операции с недвижимостью                  673\n",
      "покупка коммерческой недвижимости         661\n",
      "покупка жилья для сдачи                   650\n",
      "операции с коммерческой недвижимостью     649\n",
      "операции с жильем                         647\n",
      "покупка жилья                             641\n",
      "жилье                                     641\n",
      "покупка жилья для семьи                   640\n",
      "строительство собственной недвижимости    632\n",
      "недвижимость                              630\n",
      "операции со своей недвижимостью           630\n",
      "строительство жилой недвижимости          623\n",
      "покупка недвижимости                      621\n",
      "строительство недвижимости                620\n",
      "покупка своего жилья                      619\n",
      "ремонт жилью                              609\n",
      "покупка жилой недвижимости                603\n",
      "на покупку своего автомобиля              502\n",
      "заняться высшим образованием              493\n",
      "автомобиль                                490\n",
      "сделка с подержанным автомобилем          487\n",
      "на покупку подержанного автомобиля        479\n",
      "свой автомобиль                           477\n",
      "автомобили                                476\n",
      "на покупку автомобиля                     467\n",
      "приобретение автомобиля                   460\n",
      "дополнительное образование                460\n",
      "сделка с автомобилем                      454\n",
      "высшее образование                        450\n",
      "получение дополнительного образования     445\n",
      "образование                               444\n",
      "получение образования                     442\n",
      "профильное образование                    435\n",
      "получение высшего образования             424\n",
      "заняться образованием                     411\n",
      "Name: purpose, dtype: int64\n"
     ]
    },
    {
     "data": {
      "text/html": [
       "<div>\n",
       "<style scoped>\n",
       "    .dataframe tbody tr th:only-of-type {\n",
       "        vertical-align: middle;\n",
       "    }\n",
       "\n",
       "    .dataframe tbody tr th {\n",
       "        vertical-align: top;\n",
       "    }\n",
       "\n",
       "    .dataframe thead th {\n",
       "        text-align: right;\n",
       "    }\n",
       "</style>\n",
       "<table border=\"1\" class=\"dataframe\">\n",
       "  <thead>\n",
       "    <tr style=\"text-align: right;\">\n",
       "      <th></th>\n",
       "      <th>children</th>\n",
       "      <th>days_employed_x</th>\n",
       "      <th>dob_years</th>\n",
       "      <th>education</th>\n",
       "      <th>education_id</th>\n",
       "      <th>family_status</th>\n",
       "      <th>family_status_id</th>\n",
       "      <th>gender</th>\n",
       "      <th>income_type</th>\n",
       "      <th>debt</th>\n",
       "      <th>total_income_x</th>\n",
       "      <th>purpose_x</th>\n",
       "    </tr>\n",
       "  </thead>\n",
       "  <tbody>\n",
       "    <tr>\n",
       "      <th>0</th>\n",
       "      <td>1</td>\n",
       "      <td>8437</td>\n",
       "      <td>42</td>\n",
       "      <td>высшее</td>\n",
       "      <td>0</td>\n",
       "      <td>женат / замужем</td>\n",
       "      <td>0</td>\n",
       "      <td>F</td>\n",
       "      <td>сотрудник</td>\n",
       "      <td>0</td>\n",
       "      <td>253875</td>\n",
       "      <td>недвижимость</td>\n",
       "    </tr>\n",
       "    <tr>\n",
       "      <th>1</th>\n",
       "      <td>1</td>\n",
       "      <td>4024</td>\n",
       "      <td>36</td>\n",
       "      <td>среднее</td>\n",
       "      <td>1</td>\n",
       "      <td>женат / замужем</td>\n",
       "      <td>0</td>\n",
       "      <td>F</td>\n",
       "      <td>сотрудник</td>\n",
       "      <td>0</td>\n",
       "      <td>112080</td>\n",
       "      <td>автомобиль</td>\n",
       "    </tr>\n",
       "    <tr>\n",
       "      <th>2</th>\n",
       "      <td>0</td>\n",
       "      <td>5623</td>\n",
       "      <td>33</td>\n",
       "      <td>среднее</td>\n",
       "      <td>1</td>\n",
       "      <td>женат / замужем</td>\n",
       "      <td>0</td>\n",
       "      <td>M</td>\n",
       "      <td>сотрудник</td>\n",
       "      <td>0</td>\n",
       "      <td>145885</td>\n",
       "      <td>недвижимость</td>\n",
       "    </tr>\n",
       "    <tr>\n",
       "      <th>3</th>\n",
       "      <td>3</td>\n",
       "      <td>4124</td>\n",
       "      <td>32</td>\n",
       "      <td>среднее</td>\n",
       "      <td>1</td>\n",
       "      <td>женат / замужем</td>\n",
       "      <td>0</td>\n",
       "      <td>M</td>\n",
       "      <td>сотрудник</td>\n",
       "      <td>0</td>\n",
       "      <td>267628</td>\n",
       "      <td>образование</td>\n",
       "    </tr>\n",
       "    <tr>\n",
       "      <th>4</th>\n",
       "      <td>0</td>\n",
       "      <td>3402</td>\n",
       "      <td>53</td>\n",
       "      <td>среднее</td>\n",
       "      <td>1</td>\n",
       "      <td>гражданский брак</td>\n",
       "      <td>1</td>\n",
       "      <td>F</td>\n",
       "      <td>пенсионер</td>\n",
       "      <td>0</td>\n",
       "      <td>158616</td>\n",
       "      <td>свадьба</td>\n",
       "    </tr>\n",
       "  </tbody>\n",
       "</table>\n",
       "</div>"
      ],
      "text/plain": [
       "   children  days_employed_x  dob_years education  education_id  \\\n",
       "0         1             8437         42    высшее             0   \n",
       "1         1             4024         36   среднее             1   \n",
       "2         0             5623         33   среднее             1   \n",
       "3         3             4124         32   среднее             1   \n",
       "4         0             3402         53   среднее             1   \n",
       "\n",
       "      family_status  family_status_id gender income_type  debt  \\\n",
       "0   женат / замужем                 0      F   сотрудник     0   \n",
       "1   женат / замужем                 0      F   сотрудник     0   \n",
       "2   женат / замужем                 0      M   сотрудник     0   \n",
       "3   женат / замужем                 0      M   сотрудник     0   \n",
       "4  гражданский брак                 1      F   пенсионер     0   \n",
       "\n",
       "   total_income_x     purpose_x  \n",
       "0          253875  недвижимость  \n",
       "1          112080    автомобиль  \n",
       "2          145885  недвижимость  \n",
       "3          267628   образование  \n",
       "4          158616       свадьба  "
      ]
     },
     "execution_count": 13,
     "metadata": {},
     "output_type": "execute_result"
    }
   ],
   "source": [
    "# Создадим переменную со всеми значениями целей получения кредита, но без повторов, для того, что бы ознакомиться с целями кредита.\n",
    "column_purpose = df['purpose'].value_counts()\n",
    "print(column_purpose)\n",
    "\n",
    "# Найдём леммы в столбце 'purpose' и запишем их в новый столбце 'purpose_lemm'.\n",
    "m = Mystem()\n",
    "\n",
    "def func_lemm(string):\n",
    "    return m.lemmatize(string)\n",
    "df['purpose_lemm'] = df['purpose'].apply(func_lemm)\n",
    "df.head(5)\n",
    "\n",
    "# Создадим новый столбец purpose_x в котором будут указаны цели кредита одним словом\n",
    "def lemm(word_lemm):\n",
    "    if 'жилье' in word_lemm:\n",
    "        return 'недвижимость'\n",
    "    if 'недвижимость' in word_lemm:\n",
    "        return 'недвижимость'\n",
    "    if 'автомобиль' in word_lemm:\n",
    "        return 'автомобиль'\n",
    "    if 'свадьба' in word_lemm:\n",
    "        return 'свадьба'\n",
    "    if 'образование' in word_lemm:\n",
    "        return 'образование'\n",
    "df['purpose_x'] = df['purpose_lemm'].apply(lemm)\n",
    "\n",
    "# Столбцы 'purpose' и 'purpose_lemm' можно удалить\n",
    "df = df.drop(columns = 'purpose')\n",
    "df = df.drop(columns = 'purpose_lemm')\n",
    "df.head(5)"
   ]
  },
  {
   "cell_type": "markdown",
   "metadata": {},
   "source": [
    "**Вывод**"
   ]
  },
  {
   "cell_type": "markdown",
   "metadata": {},
   "source": [
    "Произведя лемматизацию по каждому столбцу, появляется возможность отследить повторяющиеся слова. Для лемматизации использовал специальную библиотеку pymystem3. Написав функцию для нахождения лемм в строке, указываем её через метод .apply() к столбцу 'purpose'. Создал новый столбце, в котором указаны цели кредита одним словом."
   ]
  },
  {
   "cell_type": "markdown",
   "metadata": {},
   "source": [
    "### Категоризация данных"
   ]
  },
  {
   "cell_type": "markdown",
   "metadata": {},
   "source": [
    "Т.к. нужно определить как наличие детей, семейный статус, уровень дохода и цель кредита влияют на возврат его в срок, категоризацию буду проводить для этих параметров.\n",
    "\n",
    "Категоризацию по количеству детей в семье проведу по значениям: нет детей, 1 ребёнок, 2 ребёнка 3 и более детей. 1, 2\n",
    "и 3 объединять не буду т.к. важно проследить изменения с каждым последующим ребёнком. А вот 3, 4 и 5 объединю, т.к.\n",
    "таких значений в общей сложности всего лишь 378. Словарь создам из столбцов 'category_children' и 'category_children_id'."
   ]
  },
  {
   "cell_type": "code",
   "execution_count": 14,
   "metadata": {},
   "outputs": [
    {
     "data": {
      "text/html": [
       "<div>\n",
       "<style scoped>\n",
       "    .dataframe tbody tr th:only-of-type {\n",
       "        vertical-align: middle;\n",
       "    }\n",
       "\n",
       "    .dataframe tbody tr th {\n",
       "        vertical-align: top;\n",
       "    }\n",
       "\n",
       "    .dataframe thead th {\n",
       "        text-align: right;\n",
       "    }\n",
       "</style>\n",
       "<table border=\"1\" class=\"dataframe\">\n",
       "  <thead>\n",
       "    <tr style=\"text-align: right;\">\n",
       "      <th></th>\n",
       "      <th>category_children</th>\n",
       "      <th>category_children_id</th>\n",
       "    </tr>\n",
       "  </thead>\n",
       "  <tbody>\n",
       "    <tr>\n",
       "      <th>1</th>\n",
       "      <td>нет детей</td>\n",
       "      <td>0</td>\n",
       "    </tr>\n",
       "    <tr>\n",
       "      <th>0</th>\n",
       "      <td>1 ребёнок</td>\n",
       "      <td>1</td>\n",
       "    </tr>\n",
       "    <tr>\n",
       "      <th>3</th>\n",
       "      <td>2 ребёнка</td>\n",
       "      <td>2</td>\n",
       "    </tr>\n",
       "    <tr>\n",
       "      <th>2</th>\n",
       "      <td>3 и более детей</td>\n",
       "      <td>3</td>\n",
       "    </tr>\n",
       "  </tbody>\n",
       "</table>\n",
       "</div>"
      ],
      "text/plain": [
       "  category_children  category_children_id\n",
       "1         нет детей                     0\n",
       "0         1 ребёнок                     1\n",
       "3         2 ребёнка                     2\n",
       "2   3 и более детей                     3"
      ]
     },
     "metadata": {},
     "output_type": "display_data"
    }
   ],
   "source": [
    "# Категоризация\n",
    "def category_children(v):\n",
    "    if v == 0:\n",
    "        return 'нет детей'\n",
    "    if v == 1:\n",
    "        return '1 ребёнок'\n",
    "    if v == 2:\n",
    "        return '2 ребёнка'\n",
    "    if v >= 3:\n",
    "        return '3 и более детей'\n",
    "    \n",
    "df['category_children'] = df['children'].apply(category_children)\n",
    "\n",
    "def category_children_id(b):\n",
    "    if b == 'нет детей':\n",
    "        return 0\n",
    "    if b == '1 ребёнок':\n",
    "        return 1\n",
    "    if b == '2 ребёнка':\n",
    "        return 2\n",
    "    if b >= '3 и более детей':\n",
    "        return 3\n",
    "df['category_children_id'] = df['category_children'].apply(category_children_id)\n",
    "category_children = df[['category_children', 'category_children_id']]\n",
    "category_children = category_children.drop_duplicates().reset_index(drop=True)\n",
    "category_children = category_children.sort_values('category_children_id')\n",
    "display(category_children)"
   ]
  },
  {
   "cell_type": "markdown",
   "metadata": {},
   "source": [
    "Столбец 'family_status' тоже является категоризацией состоящей из 5 значений: 'женат / замужем', 'гражданский брак', 'вдовец / вдова', 'в разводе', 'Не женат / не замужем'. Создам словарь из столбцов 'family_status', 'family_status_id'."
   ]
  },
  {
   "cell_type": "code",
   "execution_count": 15,
   "metadata": {},
   "outputs": [
    {
     "data": {
      "text/html": [
       "<div>\n",
       "<style scoped>\n",
       "    .dataframe tbody tr th:only-of-type {\n",
       "        vertical-align: middle;\n",
       "    }\n",
       "\n",
       "    .dataframe tbody tr th {\n",
       "        vertical-align: top;\n",
       "    }\n",
       "\n",
       "    .dataframe thead th {\n",
       "        text-align: right;\n",
       "    }\n",
       "</style>\n",
       "<table border=\"1\" class=\"dataframe\">\n",
       "  <thead>\n",
       "    <tr style=\"text-align: right;\">\n",
       "      <th></th>\n",
       "      <th>family_status</th>\n",
       "      <th>family_status_id</th>\n",
       "    </tr>\n",
       "  </thead>\n",
       "  <tbody>\n",
       "    <tr>\n",
       "      <th>0</th>\n",
       "      <td>женат / замужем</td>\n",
       "      <td>0</td>\n",
       "    </tr>\n",
       "    <tr>\n",
       "      <th>1</th>\n",
       "      <td>гражданский брак</td>\n",
       "      <td>1</td>\n",
       "    </tr>\n",
       "    <tr>\n",
       "      <th>2</th>\n",
       "      <td>вдовец / вдова</td>\n",
       "      <td>2</td>\n",
       "    </tr>\n",
       "    <tr>\n",
       "      <th>3</th>\n",
       "      <td>в разводе</td>\n",
       "      <td>3</td>\n",
       "    </tr>\n",
       "    <tr>\n",
       "      <th>4</th>\n",
       "      <td>Не женат / не замужем</td>\n",
       "      <td>4</td>\n",
       "    </tr>\n",
       "  </tbody>\n",
       "</table>\n",
       "</div>"
      ],
      "text/plain": [
       "           family_status  family_status_id\n",
       "0        женат / замужем                 0\n",
       "1       гражданский брак                 1\n",
       "2         вдовец / вдова                 2\n",
       "3              в разводе                 3\n",
       "4  Не женат / не замужем                 4"
      ]
     },
     "metadata": {},
     "output_type": "display_data"
    }
   ],
   "source": [
    "# Категоризация\n",
    "family_status_dict = df[['family_status', 'family_status_id']]\n",
    "family_status_dict = family_status_dict.drop_duplicates().reset_index(drop=True)\n",
    "display(family_status_dict)"
   ]
  },
  {
   "cell_type": "markdown",
   "metadata": {},
   "source": [
    "По столбцу total_income_x категоризуем данные. Разобьём на следующие интервалы 50, 100, 150, 200, 400, 401+ тысяч рублей."
   ]
  },
  {
   "cell_type": "code",
   "execution_count": 16,
   "metadata": {
    "scrolled": true
   },
   "outputs": [
    {
     "data": {
      "text/html": [
       "<div>\n",
       "<style scoped>\n",
       "    .dataframe tbody tr th:only-of-type {\n",
       "        vertical-align: middle;\n",
       "    }\n",
       "\n",
       "    .dataframe tbody tr th {\n",
       "        vertical-align: top;\n",
       "    }\n",
       "\n",
       "    .dataframe thead th {\n",
       "        text-align: right;\n",
       "    }\n",
       "</style>\n",
       "<table border=\"1\" class=\"dataframe\">\n",
       "  <thead>\n",
       "    <tr style=\"text-align: right;\">\n",
       "      <th></th>\n",
       "      <th>category_income</th>\n",
       "      <th>category_income_id</th>\n",
       "    </tr>\n",
       "  </thead>\n",
       "  <tbody>\n",
       "    <tr>\n",
       "      <th>5</th>\n",
       "      <td>до 50тр</td>\n",
       "      <td>0</td>\n",
       "    </tr>\n",
       "    <tr>\n",
       "      <th>3</th>\n",
       "      <td>50-100тр</td>\n",
       "      <td>1</td>\n",
       "    </tr>\n",
       "    <tr>\n",
       "      <th>1</th>\n",
       "      <td>100-150тр</td>\n",
       "      <td>2</td>\n",
       "    </tr>\n",
       "    <tr>\n",
       "      <th>2</th>\n",
       "      <td>150-200тр</td>\n",
       "      <td>3</td>\n",
       "    </tr>\n",
       "    <tr>\n",
       "      <th>0</th>\n",
       "      <td>200-400тр</td>\n",
       "      <td>4</td>\n",
       "    </tr>\n",
       "    <tr>\n",
       "      <th>4</th>\n",
       "      <td>400+ тр</td>\n",
       "      <td>5</td>\n",
       "    </tr>\n",
       "  </tbody>\n",
       "</table>\n",
       "</div>"
      ],
      "text/plain": [
       "  category_income  category_income_id\n",
       "5         до 50тр                   0\n",
       "3        50-100тр                   1\n",
       "1       100-150тр                   2\n",
       "2       150-200тр                   3\n",
       "0       200-400тр                   4\n",
       "4         400+ тр                   5"
      ]
     },
     "metadata": {},
     "output_type": "display_data"
    }
   ],
   "source": [
    "# Категоризация\n",
    "def category_income(x):\n",
    "    if x <= 50000:\n",
    "        return 'до 50тр'\n",
    "    if x <= 100000:\n",
    "        return '50-100тр'\n",
    "    if x <= 150000:\n",
    "        return '100-150тр'\n",
    "    if x <= 200000:\n",
    "        return '150-200тр'\n",
    "    if x <= 400000:\n",
    "        return '200-400тр'\n",
    "    return '400+ тр'\n",
    "df['category_income'] = df['total_income_x'].apply(category_income)\n",
    "\n",
    "def category_income_id(c):\n",
    "    if c == 'до 50тр':\n",
    "        return 0\n",
    "    if c == '50-100тр':\n",
    "        return 1\n",
    "    if c == '100-150тр':\n",
    "        return 2\n",
    "    if c == '150-200тр':\n",
    "        return 3\n",
    "    if c == '200-400тр':\n",
    "        return 4\n",
    "    if c == '400+ тр':\n",
    "        return 5\n",
    "df['category_income_id'] = df['category_income'].apply(category_income_id)\n",
    "category_income = df[['category_income', 'category_income_id']]\n",
    "category_income = category_income.drop_duplicates().reset_index(drop=True)\n",
    "category_income = category_income.sort_values('category_income_id')\n",
    "display(category_income)"
   ]
  },
  {
   "cell_type": "markdown",
   "metadata": {},
   "source": [
    "Категоризацию по цели кредиты выполнил на этапе лемматизации и получил следующие категории"
   ]
  },
  {
   "cell_type": "code",
   "execution_count": 17,
   "metadata": {},
   "outputs": [
    {
     "data": {
      "text/html": [
       "<div>\n",
       "<style scoped>\n",
       "    .dataframe tbody tr th:only-of-type {\n",
       "        vertical-align: middle;\n",
       "    }\n",
       "\n",
       "    .dataframe tbody tr th {\n",
       "        vertical-align: top;\n",
       "    }\n",
       "\n",
       "    .dataframe thead th {\n",
       "        text-align: right;\n",
       "    }\n",
       "</style>\n",
       "<table border=\"1\" class=\"dataframe\">\n",
       "  <thead>\n",
       "    <tr style=\"text-align: right;\">\n",
       "      <th></th>\n",
       "      <th>purpose_x</th>\n",
       "      <th>purpose_id</th>\n",
       "    </tr>\n",
       "  </thead>\n",
       "  <tbody>\n",
       "    <tr>\n",
       "      <th>0</th>\n",
       "      <td>недвижимость</td>\n",
       "      <td>0</td>\n",
       "    </tr>\n",
       "    <tr>\n",
       "      <th>1</th>\n",
       "      <td>автомобиль</td>\n",
       "      <td>1</td>\n",
       "    </tr>\n",
       "    <tr>\n",
       "      <th>2</th>\n",
       "      <td>образование</td>\n",
       "      <td>2</td>\n",
       "    </tr>\n",
       "    <tr>\n",
       "      <th>3</th>\n",
       "      <td>свадьба</td>\n",
       "      <td>3</td>\n",
       "    </tr>\n",
       "  </tbody>\n",
       "</table>\n",
       "</div>"
      ],
      "text/plain": [
       "      purpose_x  purpose_id\n",
       "0  недвижимость           0\n",
       "1    автомобиль           1\n",
       "2   образование           2\n",
       "3       свадьба           3"
      ]
     },
     "metadata": {},
     "output_type": "display_data"
    },
    {
     "data": {
      "text/html": [
       "<div>\n",
       "<style scoped>\n",
       "    .dataframe tbody tr th:only-of-type {\n",
       "        vertical-align: middle;\n",
       "    }\n",
       "\n",
       "    .dataframe tbody tr th {\n",
       "        vertical-align: top;\n",
       "    }\n",
       "\n",
       "    .dataframe thead th {\n",
       "        text-align: right;\n",
       "    }\n",
       "</style>\n",
       "<table border=\"1\" class=\"dataframe\">\n",
       "  <thead>\n",
       "    <tr style=\"text-align: right;\">\n",
       "      <th></th>\n",
       "      <th>children</th>\n",
       "      <th>days_employed_x</th>\n",
       "      <th>dob_years</th>\n",
       "      <th>education</th>\n",
       "      <th>education_id</th>\n",
       "      <th>family_status</th>\n",
       "      <th>family_status_id</th>\n",
       "      <th>gender</th>\n",
       "      <th>income_type</th>\n",
       "      <th>debt</th>\n",
       "      <th>total_income_x</th>\n",
       "      <th>purpose_x</th>\n",
       "      <th>category_children</th>\n",
       "      <th>category_children_id</th>\n",
       "      <th>category_income</th>\n",
       "      <th>category_income_id</th>\n",
       "      <th>purpose_id</th>\n",
       "    </tr>\n",
       "  </thead>\n",
       "  <tbody>\n",
       "    <tr>\n",
       "      <th>0</th>\n",
       "      <td>1</td>\n",
       "      <td>8437</td>\n",
       "      <td>42</td>\n",
       "      <td>высшее</td>\n",
       "      <td>0</td>\n",
       "      <td>женат / замужем</td>\n",
       "      <td>0</td>\n",
       "      <td>F</td>\n",
       "      <td>сотрудник</td>\n",
       "      <td>0</td>\n",
       "      <td>253875</td>\n",
       "      <td>недвижимость</td>\n",
       "      <td>1 ребёнок</td>\n",
       "      <td>1</td>\n",
       "      <td>200-400тр</td>\n",
       "      <td>4</td>\n",
       "      <td>0</td>\n",
       "    </tr>\n",
       "    <tr>\n",
       "      <th>1</th>\n",
       "      <td>1</td>\n",
       "      <td>4024</td>\n",
       "      <td>36</td>\n",
       "      <td>среднее</td>\n",
       "      <td>1</td>\n",
       "      <td>женат / замужем</td>\n",
       "      <td>0</td>\n",
       "      <td>F</td>\n",
       "      <td>сотрудник</td>\n",
       "      <td>0</td>\n",
       "      <td>112080</td>\n",
       "      <td>автомобиль</td>\n",
       "      <td>1 ребёнок</td>\n",
       "      <td>1</td>\n",
       "      <td>100-150тр</td>\n",
       "      <td>2</td>\n",
       "      <td>1</td>\n",
       "    </tr>\n",
       "    <tr>\n",
       "      <th>2</th>\n",
       "      <td>0</td>\n",
       "      <td>5623</td>\n",
       "      <td>33</td>\n",
       "      <td>среднее</td>\n",
       "      <td>1</td>\n",
       "      <td>женат / замужем</td>\n",
       "      <td>0</td>\n",
       "      <td>M</td>\n",
       "      <td>сотрудник</td>\n",
       "      <td>0</td>\n",
       "      <td>145885</td>\n",
       "      <td>недвижимость</td>\n",
       "      <td>нет детей</td>\n",
       "      <td>0</td>\n",
       "      <td>100-150тр</td>\n",
       "      <td>2</td>\n",
       "      <td>0</td>\n",
       "    </tr>\n",
       "    <tr>\n",
       "      <th>3</th>\n",
       "      <td>3</td>\n",
       "      <td>4124</td>\n",
       "      <td>32</td>\n",
       "      <td>среднее</td>\n",
       "      <td>1</td>\n",
       "      <td>женат / замужем</td>\n",
       "      <td>0</td>\n",
       "      <td>M</td>\n",
       "      <td>сотрудник</td>\n",
       "      <td>0</td>\n",
       "      <td>267628</td>\n",
       "      <td>образование</td>\n",
       "      <td>3 и более детей</td>\n",
       "      <td>3</td>\n",
       "      <td>200-400тр</td>\n",
       "      <td>4</td>\n",
       "      <td>2</td>\n",
       "    </tr>\n",
       "    <tr>\n",
       "      <th>4</th>\n",
       "      <td>0</td>\n",
       "      <td>3402</td>\n",
       "      <td>53</td>\n",
       "      <td>среднее</td>\n",
       "      <td>1</td>\n",
       "      <td>гражданский брак</td>\n",
       "      <td>1</td>\n",
       "      <td>F</td>\n",
       "      <td>пенсионер</td>\n",
       "      <td>0</td>\n",
       "      <td>158616</td>\n",
       "      <td>свадьба</td>\n",
       "      <td>нет детей</td>\n",
       "      <td>0</td>\n",
       "      <td>150-200тр</td>\n",
       "      <td>3</td>\n",
       "      <td>3</td>\n",
       "    </tr>\n",
       "  </tbody>\n",
       "</table>\n",
       "</div>"
      ],
      "text/plain": [
       "   children  days_employed_x  dob_years education  education_id  \\\n",
       "0         1             8437         42    высшее             0   \n",
       "1         1             4024         36   среднее             1   \n",
       "2         0             5623         33   среднее             1   \n",
       "3         3             4124         32   среднее             1   \n",
       "4         0             3402         53   среднее             1   \n",
       "\n",
       "      family_status  family_status_id gender income_type  debt  \\\n",
       "0   женат / замужем                 0      F   сотрудник     0   \n",
       "1   женат / замужем                 0      F   сотрудник     0   \n",
       "2   женат / замужем                 0      M   сотрудник     0   \n",
       "3   женат / замужем                 0      M   сотрудник     0   \n",
       "4  гражданский брак                 1      F   пенсионер     0   \n",
       "\n",
       "   total_income_x     purpose_x category_children  category_children_id  \\\n",
       "0          253875  недвижимость         1 ребёнок                     1   \n",
       "1          112080    автомобиль         1 ребёнок                     1   \n",
       "2          145885  недвижимость         нет детей                     0   \n",
       "3          267628   образование   3 и более детей                     3   \n",
       "4          158616       свадьба         нет детей                     0   \n",
       "\n",
       "  category_income  category_income_id  purpose_id  \n",
       "0       200-400тр                   4           0  \n",
       "1       100-150тр                   2           1  \n",
       "2       100-150тр                   2           0  \n",
       "3       200-400тр                   4           2  \n",
       "4       150-200тр                   3           3  "
      ]
     },
     "metadata": {},
     "output_type": "display_data"
    }
   ],
   "source": [
    "# Категоризация\n",
    "def purpose_id(z):\n",
    "    if z == 'недвижимость':\n",
    "        return 0\n",
    "    if z == 'автомобиль':\n",
    "        return 1\n",
    "    if z == 'образование':\n",
    "        return 2\n",
    "    if z == 'свадьба':\n",
    "        return 3\n",
    "df['purpose_id'] = df['purpose_x'].apply(purpose_id)\n",
    "purpose_dict = df[['purpose_x', 'purpose_id']]\n",
    "purpose_dict = purpose_dict.drop_duplicates().reset_index(drop=True)\n",
    "display(purpose_dict)\n",
    "\n",
    "display(df.head(5))"
   ]
  },
  {
   "cell_type": "markdown",
   "metadata": {},
   "source": [
    "**Вывод**"
   ]
  },
  {
   "cell_type": "markdown",
   "metadata": {},
   "source": [
    "Произведена категоризация по количеству детей, семеному статусу, уровеню дохода и цели кредита. Созданы словари для тех же параметров."
   ]
  },
  {
   "cell_type": "markdown",
   "metadata": {},
   "source": [
    "## Исследование влияния параметров"
   ]
  },
  {
   "cell_type": "markdown",
   "metadata": {},
   "source": [
    "### Зависимость между наличием детей и возвратом кредита в срок"
   ]
  },
  {
   "cell_type": "code",
   "execution_count": 18,
   "metadata": {},
   "outputs": [
    {
     "data": {
      "text/html": [
       "<div>\n",
       "<style scoped>\n",
       "    .dataframe tbody tr th:only-of-type {\n",
       "        vertical-align: middle;\n",
       "    }\n",
       "\n",
       "    .dataframe tbody tr th {\n",
       "        vertical-align: top;\n",
       "    }\n",
       "\n",
       "    .dataframe thead th {\n",
       "        text-align: right;\n",
       "    }\n",
       "</style>\n",
       "<table border=\"1\" class=\"dataframe\">\n",
       "  <thead>\n",
       "    <tr style=\"text-align: right;\">\n",
       "      <th></th>\n",
       "      <th>Наличие детей</th>\n",
       "      <th>Доля должников</th>\n",
       "      <th>Процент должников</th>\n",
       "    </tr>\n",
       "  </thead>\n",
       "  <tbody>\n",
       "    <tr>\n",
       "      <th>1</th>\n",
       "      <td>2 ребёнка</td>\n",
       "      <td>0.094991</td>\n",
       "      <td>9.499055</td>\n",
       "    </tr>\n",
       "    <tr>\n",
       "      <th>0</th>\n",
       "      <td>1 ребёнок</td>\n",
       "      <td>0.090965</td>\n",
       "      <td>9.096535</td>\n",
       "    </tr>\n",
       "    <tr>\n",
       "      <th>2</th>\n",
       "      <td>3 и более детей</td>\n",
       "      <td>0.082011</td>\n",
       "      <td>8.201058</td>\n",
       "    </tr>\n",
       "    <tr>\n",
       "      <th>3</th>\n",
       "      <td>нет детей</td>\n",
       "      <td>0.075163</td>\n",
       "      <td>7.516340</td>\n",
       "    </tr>\n",
       "  </tbody>\n",
       "</table>\n",
       "</div>"
      ],
      "text/plain": [
       "     Наличие детей  Доля должников  Процент должников\n",
       "1        2 ребёнка        0.094991           9.499055\n",
       "0        1 ребёнок        0.090965           9.096535\n",
       "2  3 и более детей        0.082011           8.201058\n",
       "3        нет детей        0.075163           7.516340"
      ]
     },
     "metadata": {},
     "output_type": "display_data"
    },
    {
     "name": "stdout",
     "output_type": "stream",
     "text": [
      "Число кредитов по категориям:\n",
      "нет детей          14076\n",
      "1 ребёнок           4848\n",
      "2 ребёнка           2116\n",
      "3 и более детей      378\n",
      "Name: category_children, dtype: int64\n"
     ]
    }
   ],
   "source": [
    "# Расчёт показателей\n",
    "children_final = df.pivot_table(index = ['category_children'], values = 'debt', aggfunc = 'mean')\n",
    "children_final['%'] = children_final['debt'] * 100\n",
    "# Вывод информации\n",
    "children_final = children_final.reset_index()\n",
    "children_final.columns = ['Наличие детей', 'Доля должников', 'Процент должников']\n",
    "display(children_final.sort_values(by='Процент должников', ascending=False))\n",
    "print('Число кредитов по категориям:')\n",
    "print(df['category_children'].value_counts())"
   ]
  },
  {
   "cell_type": "markdown",
   "metadata": {},
   "source": [
    "**Вывод**"
   ]
  },
  {
   "cell_type": "markdown",
   "metadata": {},
   "source": [
    "Как видно из данных, меньше всего долгов среди тех, кто детей не имеет. А с ростом количества детей, растёт доля должников. Больше всего значений в категории \"нет детей\". Категория \"3 и более детей\" выбивается из общей тенденции возможно из-за малого количества случаев (всего 378).\n",
    "\n",
    "Итак, с ростом количества детей, немного увеличивается риск невозврата кредита в срок."
   ]
  },
  {
   "cell_type": "markdown",
   "metadata": {},
   "source": [
    "### Зависимость между семейным положением и возвратом кредита в срок"
   ]
  },
  {
   "cell_type": "code",
   "execution_count": 19,
   "metadata": {},
   "outputs": [
    {
     "data": {
      "text/html": [
       "<div>\n",
       "<style scoped>\n",
       "    .dataframe tbody tr th:only-of-type {\n",
       "        vertical-align: middle;\n",
       "    }\n",
       "\n",
       "    .dataframe tbody tr th {\n",
       "        vertical-align: top;\n",
       "    }\n",
       "\n",
       "    .dataframe thead th {\n",
       "        text-align: right;\n",
       "    }\n",
       "</style>\n",
       "<table border=\"1\" class=\"dataframe\">\n",
       "  <thead>\n",
       "    <tr style=\"text-align: right;\">\n",
       "      <th></th>\n",
       "      <th>Семейный статус</th>\n",
       "      <th>Доля должников</th>\n",
       "      <th>Возраст клиента</th>\n",
       "      <th>Ежемесячный доход</th>\n",
       "      <th>Процент должников</th>\n",
       "    </tr>\n",
       "  </thead>\n",
       "  <tbody>\n",
       "    <tr>\n",
       "      <th>0</th>\n",
       "      <td>Не женат / не замужем</td>\n",
       "      <td>0.097639</td>\n",
       "      <td>38.594778</td>\n",
       "      <td>166366.287196</td>\n",
       "      <td>9.763948</td>\n",
       "    </tr>\n",
       "    <tr>\n",
       "      <th>3</th>\n",
       "      <td>гражданский брак</td>\n",
       "      <td>0.092922</td>\n",
       "      <td>42.346413</td>\n",
       "      <td>164599.654068</td>\n",
       "      <td>9.292248</td>\n",
       "    </tr>\n",
       "    <tr>\n",
       "      <th>4</th>\n",
       "      <td>женат / замужем</td>\n",
       "      <td>0.075032</td>\n",
       "      <td>43.738076</td>\n",
       "      <td>166707.766223</td>\n",
       "      <td>7.503245</td>\n",
       "    </tr>\n",
       "    <tr>\n",
       "      <th>1</th>\n",
       "      <td>в разводе</td>\n",
       "      <td>0.071730</td>\n",
       "      <td>45.902110</td>\n",
       "      <td>167801.870886</td>\n",
       "      <td>7.172996</td>\n",
       "    </tr>\n",
       "    <tr>\n",
       "      <th>2</th>\n",
       "      <td>вдовец / вдова</td>\n",
       "      <td>0.064921</td>\n",
       "      <td>56.809424</td>\n",
       "      <td>142715.270157</td>\n",
       "      <td>6.492147</td>\n",
       "    </tr>\n",
       "  </tbody>\n",
       "</table>\n",
       "</div>"
      ],
      "text/plain": [
       "         Семейный статус  Доля должников  Возраст клиента  Ежемесячный доход  \\\n",
       "0  Не женат / не замужем        0.097639        38.594778      166366.287196   \n",
       "3       гражданский брак        0.092922        42.346413      164599.654068   \n",
       "4        женат / замужем        0.075032        43.738076      166707.766223   \n",
       "1              в разводе        0.071730        45.902110      167801.870886   \n",
       "2         вдовец / вдова        0.064921        56.809424      142715.270157   \n",
       "\n",
       "   Процент должников  \n",
       "0           9.763948  \n",
       "3           9.292248  \n",
       "4           7.503245  \n",
       "1           7.172996  \n",
       "2           6.492147  "
      ]
     },
     "metadata": {},
     "output_type": "display_data"
    },
    {
     "name": "stdout",
     "output_type": "stream",
     "text": [
      "Число кредитов по категориям:\n"
     ]
    },
    {
     "data": {
      "text/plain": [
       "женат / замужем          12328\n",
       "гражданский брак          4154\n",
       "Не женат / не замужем     2796\n",
       "в разводе                 1185\n",
       "вдовец / вдова             955\n",
       "Name: family_status, dtype: int64"
      ]
     },
     "metadata": {},
     "output_type": "display_data"
    }
   ],
   "source": [
    "# Расчёт показателей\n",
    "family_status_final = df.pivot_table(index = ['family_status'], values = ['debt', 'dob_years', 'total_income_x'], aggfunc = 'mean')\n",
    "family_status_final['%'] = family_status_final['debt'] * 100\n",
    "\n",
    "# Вывод информации\n",
    "family_status_final = family_status_final.reset_index()\n",
    "family_status_final.columns = ['Семейный статус', 'Доля должников', 'Возраст клиента', 'Ежемесячный доход', 'Процент должников']\n",
    "display(family_status_final.sort_values(by='Процент должников', ascending=False))\n",
    "print('Число кредитов по категориям:')\n",
    "display(df['family_status'].value_counts())"
   ]
  },
  {
   "cell_type": "markdown",
   "metadata": {},
   "source": [
    "**Вывод**"
   ]
  },
  {
   "cell_type": "markdown",
   "metadata": {},
   "source": [
    "Люди без пары чаще всего имеют долги по кредитам (9,76%), при этом люди, живущие в гражданском браке, реже имеют долги по кредитам (9,29%) и люди, живущие в браке ещё реже (7,5%). Это говорит о том, что люди, живущие в браке, более серьёзно подходят к процессу взятия кредита и рассчитывают свой бюджет. Они более предсказуемы и несут обязательства перед семьёй. Поэтому долги по кредитам ставят под удар не только их, но и всех членов семьи. Отсюда вытекает бОльшая надёжность по выплате в семейных людях. В категории \"в разводе\" процент должников 7,17%. Вероятно способность выплачивать кредит в срок связана с возрастом в этих группах. Они самые зрелые. При этом уровень дохода везде практически одинаковый.\n",
    "\n",
    "Итак, люди, состоящие в браке больше остальных, способны платить за кредит в срок. При этом люди в разводе, так же способны платить за кредит из-за сохранения после развода их дохода (и вероятно разделения имущества). Группа вдова/вдовец самая возрастная и хоть доходы там меньше чем в других категориях, кредит они платят исправно. Это связано с тем, что в возрасте люди больше тратят на что-то практическое, чем на эмоциональное."
   ]
  },
  {
   "cell_type": "markdown",
   "metadata": {},
   "source": [
    "### Зависимость между уровнем дохода и возвратом кредита в срок"
   ]
  },
  {
   "cell_type": "code",
   "execution_count": 20,
   "metadata": {},
   "outputs": [
    {
     "data": {
      "text/html": [
       "<div>\n",
       "<style scoped>\n",
       "    .dataframe tbody tr th:only-of-type {\n",
       "        vertical-align: middle;\n",
       "    }\n",
       "\n",
       "    .dataframe tbody tr th {\n",
       "        vertical-align: top;\n",
       "    }\n",
       "\n",
       "    .dataframe thead th {\n",
       "        text-align: right;\n",
       "    }\n",
       "</style>\n",
       "<table border=\"1\" class=\"dataframe\">\n",
       "  <thead>\n",
       "    <tr style=\"text-align: right;\">\n",
       "      <th></th>\n",
       "      <th>Доход</th>\n",
       "      <th>Доля должников</th>\n",
       "      <th>Процент должников</th>\n",
       "    </tr>\n",
       "  </thead>\n",
       "  <tbody>\n",
       "    <tr>\n",
       "      <th>0</th>\n",
       "      <td>100-150тр</td>\n",
       "      <td>0.086346</td>\n",
       "      <td>8.634594</td>\n",
       "    </tr>\n",
       "    <tr>\n",
       "      <th>1</th>\n",
       "      <td>150-200тр</td>\n",
       "      <td>0.084614</td>\n",
       "      <td>8.461377</td>\n",
       "    </tr>\n",
       "    <tr>\n",
       "      <th>4</th>\n",
       "      <td>50-100тр</td>\n",
       "      <td>0.080649</td>\n",
       "      <td>8.064913</td>\n",
       "    </tr>\n",
       "    <tr>\n",
       "      <th>2</th>\n",
       "      <td>200-400тр</td>\n",
       "      <td>0.072268</td>\n",
       "      <td>7.226779</td>\n",
       "    </tr>\n",
       "    <tr>\n",
       "      <th>5</th>\n",
       "      <td>до 50тр</td>\n",
       "      <td>0.062162</td>\n",
       "      <td>6.216216</td>\n",
       "    </tr>\n",
       "    <tr>\n",
       "      <th>3</th>\n",
       "      <td>400+ тр</td>\n",
       "      <td>0.058824</td>\n",
       "      <td>5.882353</td>\n",
       "    </tr>\n",
       "  </tbody>\n",
       "</table>\n",
       "</div>"
      ],
      "text/plain": [
       "       Доход  Доля должников  Процент должников\n",
       "0  100-150тр        0.086346           8.634594\n",
       "1  150-200тр        0.084614           8.461377\n",
       "4   50-100тр        0.080649           8.064913\n",
       "2  200-400тр        0.072268           7.226779\n",
       "5    до 50тр        0.062162           6.216216\n",
       "3    400+ тр        0.058824           5.882353"
      ]
     },
     "metadata": {},
     "output_type": "display_data"
    },
    {
     "name": "stdout",
     "output_type": "stream",
     "text": [
      "Число кредитов по категориям:\n"
     ]
    },
    {
     "data": {
      "text/plain": [
       "100-150тр    7192\n",
       "150-200тр    4751\n",
       "200-400тр    4511\n",
       "50-100тр     4067\n",
       "400+ тр       527\n",
       "до 50тр       370\n",
       "Name: category_income, dtype: int64"
      ]
     },
     "metadata": {},
     "output_type": "display_data"
    }
   ],
   "source": [
    "# Расчёт показателей\n",
    "category_income_final = df.pivot_table(index = ['category_income'], values = ['debt'], aggfunc = 'mean')\n",
    "category_income_final['%'] = category_income_final['debt'] * 100\n",
    "\n",
    "# Вывод информации\n",
    "category_income_final = category_income_final.reset_index()\n",
    "category_income_final.columns = ['Доход', 'Доля должников', 'Процент должников']\n",
    "display(category_income_final.sort_values(by='Процент должников', ascending=False))\n",
    "print('Число кредитов по категориям:')\n",
    "display(df['category_income'].value_counts())"
   ]
  },
  {
   "cell_type": "markdown",
   "metadata": {},
   "source": [
    "**Вывод**"
   ]
  },
  {
   "cell_type": "markdown",
   "metadata": {},
   "source": [
    "Среди категорий с большим числом кредитов самой надёжной является категория с доходами \"200-400 тр\". В целом по всем категориям процент должников примерно 8%. В категориях \"400+ тр\" и \"до 50 тр\" доля должников примерно 6% но и количество таких событий немногочисленно и возможно низкий процент связан с малым числом данных. \n",
    "\n",
    "Итак, между уровнем дохода и возвратом кредита в срок не наблюдается строгой и линейной зависимости."
   ]
  },
  {
   "cell_type": "markdown",
   "metadata": {},
   "source": [
    "### Влияние целей кредита на возврат его в срок"
   ]
  },
  {
   "cell_type": "code",
   "execution_count": 21,
   "metadata": {},
   "outputs": [
    {
     "data": {
      "text/html": [
       "<div>\n",
       "<style scoped>\n",
       "    .dataframe tbody tr th:only-of-type {\n",
       "        vertical-align: middle;\n",
       "    }\n",
       "\n",
       "    .dataframe tbody tr th {\n",
       "        vertical-align: top;\n",
       "    }\n",
       "\n",
       "    .dataframe thead th {\n",
       "        text-align: right;\n",
       "    }\n",
       "</style>\n",
       "<table border=\"1\" class=\"dataframe\">\n",
       "  <thead>\n",
       "    <tr style=\"text-align: right;\">\n",
       "      <th></th>\n",
       "      <th>Цель кредита</th>\n",
       "      <th>Доля должников</th>\n",
       "      <th>Процент должников</th>\n",
       "    </tr>\n",
       "  </thead>\n",
       "  <tbody>\n",
       "    <tr>\n",
       "      <th>0</th>\n",
       "      <td>автомобиль</td>\n",
       "      <td>0.092964</td>\n",
       "      <td>9.296365</td>\n",
       "    </tr>\n",
       "    <tr>\n",
       "      <th>2</th>\n",
       "      <td>образование</td>\n",
       "      <td>0.092408</td>\n",
       "      <td>9.240759</td>\n",
       "    </tr>\n",
       "    <tr>\n",
       "      <th>3</th>\n",
       "      <td>свадьба</td>\n",
       "      <td>0.078868</td>\n",
       "      <td>7.886841</td>\n",
       "    </tr>\n",
       "    <tr>\n",
       "      <th>1</th>\n",
       "      <td>недвижимость</td>\n",
       "      <td>0.072110</td>\n",
       "      <td>7.211048</td>\n",
       "    </tr>\n",
       "  </tbody>\n",
       "</table>\n",
       "</div>"
      ],
      "text/plain": [
       "   Цель кредита  Доля должников  Процент должников\n",
       "0    автомобиль        0.092964           9.296365\n",
       "2   образование        0.092408           9.240759\n",
       "3       свадьба        0.078868           7.886841\n",
       "1  недвижимость        0.072110           7.211048"
      ]
     },
     "metadata": {},
     "output_type": "display_data"
    }
   ],
   "source": [
    "# Расчёт показателей\n",
    "purpose_final = df.pivot_table(index = ['purpose_x'], values = ['debt'], aggfunc = 'mean')\n",
    "purpose_final['%'] = purpose_final['debt'] * 100\n",
    "\n",
    "# Вывод информации\n",
    "purpose_final = purpose_final.reset_index()\n",
    "purpose_final.columns = ['Цель кредита', 'Доля должников', 'Процент должников']\n",
    "display(purpose_final.sort_values(by='Процент должников', ascending=False))"
   ]
  },
  {
   "cell_type": "markdown",
   "metadata": {},
   "source": [
    "**Вывод**"
   ]
  },
  {
   "cell_type": "markdown",
   "metadata": {},
   "source": [
    "По целям кредита, очевидно, что самыми надёжными целями служат свадьба и недвижимость. Эти категории относятся к более возрастным людям, а так же связаны с построением семьи. А образование и автомобиль в свою очередь имеют выше долю задолженностей по кредитам. Эти категории относятся к менее возрастным людям.\n",
    "\n",
    "Итак, семейные люди берущие кредит на благо семьи являются более надёжными заёмщиками."
   ]
  },
  {
   "cell_type": "markdown",
   "metadata": {},
   "source": [
    "## Общий вывод"
   ]
  },
  {
   "cell_type": "markdown",
   "metadata": {},
   "source": [
    "В результате исследования получаем:\n",
    "\n",
    "1) Между наличием детей и возвратом кредита в срок зависимость есть - с ростом числа детей, немного растёт доля должников.\n",
    "\n",
    "2) Между семейным положением и возвратом кредита в срок зависимость есть  - люди, состоящие в браке, имеют меньшую долю должников, по сравнению с теми, кто не в браке или в гражданском браке. Так же низкая доля должников среди тех, кто в разводе и тех, кто вдовец / вдова, что больше связано с возрастом.\n",
    "\n",
    "3) Итак, между уровнем дохода и возвратом кредита в срок не наблюдается строгой и линейной зависимости.\n",
    "\n",
    "4) Цели кредита влияют на его возврат в срок. Среди кредитов на свадьбу и на недвижимость 7,9% и 7,2% должников соответственно. Среди кредитов на образование и автомобиль 9,2% и 9,3% должников соответственно. Это говорит о том, что семейные люди берущие кредит на благо семьи являются более надёжными заёмщиками."
   ]
  }
 ],
 "metadata": {
  "ExecuteTimeLog": [
   {
    "duration": 574,
    "start_time": "2021-07-19T15:33:37.943Z"
   },
   {
    "duration": 72,
    "start_time": "2021-07-19T16:21:21.188Z"
   },
   {
    "duration": 19,
    "start_time": "2021-07-19T16:26:09.717Z"
   },
   {
    "duration": 9,
    "start_time": "2021-07-19T16:26:16.870Z"
   },
   {
    "duration": 12,
    "start_time": "2021-07-19T16:28:37.511Z"
   },
   {
    "duration": 9,
    "start_time": "2021-07-19T16:28:50.106Z"
   },
   {
    "duration": 63,
    "start_time": "2021-07-19T16:38:09.082Z"
   },
   {
    "duration": 75,
    "start_time": "2021-07-19T16:38:24.203Z"
   },
   {
    "duration": 16,
    "start_time": "2021-07-19T16:43:30.581Z"
   },
   {
    "duration": 255,
    "start_time": "2021-07-19T16:43:39.903Z"
   },
   {
    "duration": 13,
    "start_time": "2021-07-19T16:43:58.633Z"
   },
   {
    "duration": 15,
    "start_time": "2021-07-19T16:44:14.362Z"
   },
   {
    "duration": 21,
    "start_time": "2021-07-19T16:49:47.084Z"
   },
   {
    "duration": 26,
    "start_time": "2021-07-19T16:49:52.522Z"
   },
   {
    "duration": 19,
    "start_time": "2021-07-19T16:50:21.942Z"
   },
   {
    "duration": 20,
    "start_time": "2021-07-19T16:50:40.853Z"
   },
   {
    "duration": 25,
    "start_time": "2021-07-19T16:52:06.596Z"
   },
   {
    "duration": 21,
    "start_time": "2021-07-19T16:52:33.105Z"
   },
   {
    "duration": 21,
    "start_time": "2021-07-19T16:52:52.768Z"
   },
   {
    "duration": 10,
    "start_time": "2021-07-19T16:54:44.363Z"
   },
   {
    "duration": 22,
    "start_time": "2021-07-19T16:56:24.620Z"
   },
   {
    "duration": 10,
    "start_time": "2021-07-19T16:56:54.118Z"
   },
   {
    "duration": 343,
    "start_time": "2021-07-20T15:34:01.818Z"
   },
   {
    "duration": 289,
    "start_time": "2021-07-20T15:34:10.306Z"
   },
   {
    "duration": 300,
    "start_time": "2021-07-20T15:34:39.422Z"
   },
   {
    "duration": 437,
    "start_time": "2021-07-20T15:35:13.363Z"
   },
   {
    "duration": 907,
    "start_time": "2021-07-20T15:35:20.524Z"
   },
   {
    "duration": 30,
    "start_time": "2021-07-20T15:35:26.899Z"
   },
   {
    "duration": 25,
    "start_time": "2021-07-20T15:35:45.755Z"
   },
   {
    "duration": 32,
    "start_time": "2021-07-20T15:37:47.036Z"
   },
   {
    "duration": 10,
    "start_time": "2021-07-20T16:07:08.192Z"
   },
   {
    "duration": 72,
    "start_time": "2021-07-20T16:07:47.450Z"
   },
   {
    "duration": 80,
    "start_time": "2021-07-20T16:07:57.529Z"
   },
   {
    "duration": 70,
    "start_time": "2021-07-20T16:08:05.448Z"
   },
   {
    "duration": 99,
    "start_time": "2021-07-20T16:08:11.140Z"
   },
   {
    "duration": 29,
    "start_time": "2021-07-20T16:25:52.200Z"
   },
   {
    "duration": 32,
    "start_time": "2021-07-20T16:26:09.695Z"
   },
   {
    "duration": 15,
    "start_time": "2021-07-20T16:27:13.825Z"
   },
   {
    "duration": 14,
    "start_time": "2021-07-20T16:27:23.384Z"
   },
   {
    "duration": 442,
    "start_time": "2021-07-20T16:27:31.664Z"
   },
   {
    "duration": 21,
    "start_time": "2021-07-20T16:27:35.865Z"
   },
   {
    "duration": 46,
    "start_time": "2021-07-20T16:27:44.972Z"
   },
   {
    "duration": 20,
    "start_time": "2021-07-20T16:28:32.592Z"
   },
   {
    "duration": 16,
    "start_time": "2021-07-20T16:29:26.964Z"
   },
   {
    "duration": 15,
    "start_time": "2021-07-20T16:29:39.756Z"
   },
   {
    "duration": 40,
    "start_time": "2021-07-20T16:30:58.144Z"
   },
   {
    "duration": 26,
    "start_time": "2021-07-20T16:31:17.876Z"
   },
   {
    "duration": 27,
    "start_time": "2021-07-20T16:52:14.490Z"
   },
   {
    "duration": 18,
    "start_time": "2021-07-20T16:52:28.252Z"
   },
   {
    "duration": 34,
    "start_time": "2021-07-20T16:52:38.125Z"
   },
   {
    "duration": 11,
    "start_time": "2021-07-20T16:58:56.123Z"
   },
   {
    "duration": 4,
    "start_time": "2021-07-20T17:11:44.442Z"
   },
   {
    "duration": 4,
    "start_time": "2021-07-20T17:11:47.356Z"
   },
   {
    "duration": 35,
    "start_time": "2021-07-20T17:11:54.289Z"
   },
   {
    "duration": 91,
    "start_time": "2021-07-20T17:14:47.399Z"
   },
   {
    "duration": 14,
    "start_time": "2021-07-20T17:14:57.317Z"
   },
   {
    "duration": 14,
    "start_time": "2021-07-20T17:15:14.478Z"
   },
   {
    "duration": 14,
    "start_time": "2021-07-20T17:15:44.276Z"
   },
   {
    "duration": 14,
    "start_time": "2021-07-20T17:15:52.516Z"
   },
   {
    "duration": 14,
    "start_time": "2021-07-20T17:15:56.020Z"
   },
   {
    "duration": 8,
    "start_time": "2021-07-20T17:16:51.508Z"
   },
   {
    "duration": 13,
    "start_time": "2021-07-20T17:17:48.576Z"
   },
   {
    "duration": 13,
    "start_time": "2021-07-20T17:17:58.775Z"
   },
   {
    "duration": 13,
    "start_time": "2021-07-20T17:18:02.687Z"
   },
   {
    "duration": 14,
    "start_time": "2021-07-20T17:18:14.261Z"
   },
   {
    "duration": 13,
    "start_time": "2021-07-20T17:18:17.388Z"
   },
   {
    "duration": 12,
    "start_time": "2021-07-20T17:18:22.198Z"
   },
   {
    "duration": 13,
    "start_time": "2021-07-20T17:18:27.733Z"
   },
   {
    "duration": 13,
    "start_time": "2021-07-20T17:18:33.028Z"
   },
   {
    "duration": 13,
    "start_time": "2021-07-20T17:18:37.215Z"
   },
   {
    "duration": 12,
    "start_time": "2021-07-20T17:18:42.254Z"
   },
   {
    "duration": 13,
    "start_time": "2021-07-20T17:18:46.964Z"
   },
   {
    "duration": 12,
    "start_time": "2021-07-20T17:18:52.484Z"
   },
   {
    "duration": 14,
    "start_time": "2021-07-20T17:20:46.045Z"
   },
   {
    "duration": 13,
    "start_time": "2021-07-20T17:20:49.598Z"
   },
   {
    "duration": 13,
    "start_time": "2021-07-20T17:20:52.662Z"
   },
   {
    "duration": 15,
    "start_time": "2021-07-20T17:20:55.652Z"
   },
   {
    "duration": 14,
    "start_time": "2021-07-20T17:20:57.790Z"
   },
   {
    "duration": 12,
    "start_time": "2021-07-20T17:21:00.674Z"
   },
   {
    "duration": 13,
    "start_time": "2021-07-20T17:24:01.251Z"
   },
   {
    "duration": 98,
    "start_time": "2021-07-20T17:24:14.277Z"
   },
   {
    "duration": 13,
    "start_time": "2021-07-20T17:24:18.547Z"
   },
   {
    "duration": 18,
    "start_time": "2021-07-20T17:24:28.772Z"
   },
   {
    "duration": 14,
    "start_time": "2021-07-20T17:24:35.333Z"
   },
   {
    "duration": 17,
    "start_time": "2021-07-20T17:25:16.761Z"
   },
   {
    "duration": 12,
    "start_time": "2021-07-20T17:25:20.500Z"
   },
   {
    "duration": 14,
    "start_time": "2021-07-20T17:25:23.535Z"
   },
   {
    "duration": 13,
    "start_time": "2021-07-20T17:25:26.504Z"
   },
   {
    "duration": 12,
    "start_time": "2021-07-20T17:25:30.220Z"
   },
   {
    "duration": 14,
    "start_time": "2021-07-20T17:25:32.990Z"
   },
   {
    "duration": 13,
    "start_time": "2021-07-20T17:25:35.646Z"
   },
   {
    "duration": 16,
    "start_time": "2021-07-20T17:28:08.872Z"
   },
   {
    "duration": 484,
    "start_time": "2021-07-20T17:34:17.947Z"
   },
   {
    "duration": 95,
    "start_time": "2021-07-20T17:34:31.932Z"
   },
   {
    "duration": 844,
    "start_time": "2021-07-20T17:35:21.979Z"
   },
   {
    "duration": 588,
    "start_time": "2021-07-20T17:35:40.854Z"
   },
   {
    "duration": 102,
    "start_time": "2021-07-20T17:35:46.558Z"
   },
   {
    "duration": 305,
    "start_time": "2021-07-20T17:39:36.395Z"
   },
   {
    "duration": 387,
    "start_time": "2021-07-20T17:40:08.604Z"
   },
   {
    "duration": 351,
    "start_time": "2021-07-20T17:55:27.709Z"
   },
   {
    "duration": 23,
    "start_time": "2021-07-20T18:07:27.210Z"
   },
   {
    "duration": 15,
    "start_time": "2021-07-20T18:08:21.684Z"
   },
   {
    "duration": 22,
    "start_time": "2021-07-20T18:09:19.964Z"
   },
   {
    "duration": 23,
    "start_time": "2021-07-20T18:09:37.194Z"
   },
   {
    "duration": 38,
    "start_time": "2021-07-20T18:10:19.503Z"
   },
   {
    "duration": 47,
    "start_time": "2021-07-20T18:10:51.489Z"
   },
   {
    "duration": 22,
    "start_time": "2021-07-20T18:12:48.392Z"
   },
   {
    "duration": 21,
    "start_time": "2021-07-20T18:13:17.583Z"
   },
   {
    "duration": 21,
    "start_time": "2021-07-20T18:13:26.995Z"
   },
   {
    "duration": 24,
    "start_time": "2021-07-20T18:13:34.680Z"
   },
   {
    "duration": 22,
    "start_time": "2021-07-20T18:13:56.748Z"
   },
   {
    "duration": 22,
    "start_time": "2021-07-20T18:14:10.636Z"
   },
   {
    "duration": 21,
    "start_time": "2021-07-20T18:14:43.408Z"
   },
   {
    "duration": 22,
    "start_time": "2021-07-20T18:14:51.270Z"
   },
   {
    "duration": 22,
    "start_time": "2021-07-20T18:15:05.692Z"
   },
   {
    "duration": 27,
    "start_time": "2021-07-20T18:16:00.000Z"
   },
   {
    "duration": 7,
    "start_time": "2021-07-20T18:24:46.340Z"
   },
   {
    "duration": 10,
    "start_time": "2021-07-20T18:24:53.387Z"
   },
   {
    "duration": 324,
    "start_time": "2021-07-20T18:25:45.336Z"
   },
   {
    "duration": 7,
    "start_time": "2021-07-20T18:25:58.199Z"
   },
   {
    "duration": 6,
    "start_time": "2021-07-20T18:26:00.506Z"
   },
   {
    "duration": 100,
    "start_time": "2021-07-20T18:26:06.793Z"
   },
   {
    "duration": 28,
    "start_time": "2021-07-20T18:26:06.896Z"
   },
   {
    "duration": 301,
    "start_time": "2021-07-20T18:26:06.927Z"
   },
   {
    "duration": -1918,
    "start_time": "2021-07-20T18:26:09.149Z"
   },
   {
    "duration": 22,
    "start_time": "2021-07-20T18:26:20.836Z"
   },
   {
    "duration": 8,
    "start_time": "2021-07-20T18:26:24.955Z"
   },
   {
    "duration": 12,
    "start_time": "2021-07-20T18:26:38.859Z"
   },
   {
    "duration": 303,
    "start_time": "2021-07-20T18:26:54.201Z"
   },
   {
    "duration": 10,
    "start_time": "2021-07-20T18:27:18.890Z"
   },
   {
    "duration": 63,
    "start_time": "2021-07-20T18:34:37.335Z"
   },
   {
    "duration": 102,
    "start_time": "2021-07-20T18:34:54.232Z"
   },
   {
    "duration": 26,
    "start_time": "2021-07-20T18:34:54.337Z"
   },
   {
    "duration": 67,
    "start_time": "2021-07-20T18:34:54.366Z"
   },
   {
    "duration": 9,
    "start_time": "2021-07-20T18:34:54.435Z"
   },
   {
    "duration": 5032,
    "start_time": "2021-07-20T18:35:33.625Z"
   },
   {
    "duration": 3600,
    "start_time": "2021-07-20T18:36:38.010Z"
   },
   {
    "duration": 3840,
    "start_time": "2021-07-20T18:36:53.485Z"
   },
   {
    "duration": 3517,
    "start_time": "2021-07-20T18:37:16.142Z"
   },
   {
    "duration": 99,
    "start_time": "2021-07-20T18:37:20.647Z"
   },
   {
    "duration": 27,
    "start_time": "2021-07-20T18:37:20.749Z"
   },
   {
    "duration": 33,
    "start_time": "2021-07-20T18:37:20.779Z"
   },
   {
    "duration": 10,
    "start_time": "2021-07-20T18:37:20.815Z"
   },
   {
    "duration": 16,
    "start_time": "2021-07-20T18:38:05.798Z"
   },
   {
    "duration": 42,
    "start_time": "2021-07-20T18:38:12.592Z"
   },
   {
    "duration": 16,
    "start_time": "2021-07-20T18:42:00.486Z"
   },
   {
    "duration": 17,
    "start_time": "2021-07-20T18:42:04.859Z"
   },
   {
    "duration": 17,
    "start_time": "2021-07-20T18:42:09.230Z"
   },
   {
    "duration": 23,
    "start_time": "2021-07-20T18:42:13.723Z"
   },
   {
    "duration": 14,
    "start_time": "2021-07-20T18:42:25.145Z"
   },
   {
    "duration": 19,
    "start_time": "2021-07-20T18:42:32.072Z"
   },
   {
    "duration": 15,
    "start_time": "2021-07-20T18:42:35.835Z"
   },
   {
    "duration": 14,
    "start_time": "2021-07-20T18:42:41.456Z"
   },
   {
    "duration": 14,
    "start_time": "2021-07-20T18:42:45.572Z"
   },
   {
    "duration": 14,
    "start_time": "2021-07-20T18:42:49.012Z"
   },
   {
    "duration": 15,
    "start_time": "2021-07-20T18:42:52.270Z"
   },
   {
    "duration": 13,
    "start_time": "2021-07-20T18:42:55.255Z"
   },
   {
    "duration": 15,
    "start_time": "2021-07-20T18:42:58.053Z"
   },
   {
    "duration": 14,
    "start_time": "2021-07-20T18:43:00.882Z"
   },
   {
    "duration": 14,
    "start_time": "2021-07-20T18:43:03.743Z"
   },
   {
    "duration": 20,
    "start_time": "2021-07-20T18:43:06.231Z"
   },
   {
    "duration": 14,
    "start_time": "2021-07-20T18:43:08.750Z"
   },
   {
    "duration": 16,
    "start_time": "2021-07-20T18:43:13.945Z"
   },
   {
    "duration": 16,
    "start_time": "2021-07-20T18:43:17.202Z"
   },
   {
    "duration": 15,
    "start_time": "2021-07-20T18:43:20.351Z"
   },
   {
    "duration": 15,
    "start_time": "2021-07-20T18:43:23.513Z"
   },
   {
    "duration": 17,
    "start_time": "2021-07-20T18:43:26.343Z"
   },
   {
    "duration": 20,
    "start_time": "2021-07-20T18:43:28.788Z"
   },
   {
    "duration": 19,
    "start_time": "2021-07-20T18:43:31.904Z"
   },
   {
    "duration": 21,
    "start_time": "2021-07-20T18:43:35.279Z"
   },
   {
    "duration": 23,
    "start_time": "2021-07-20T18:43:38.683Z"
   },
   {
    "duration": 22,
    "start_time": "2021-07-20T18:43:42.322Z"
   },
   {
    "duration": 21,
    "start_time": "2021-07-20T18:43:44.904Z"
   },
   {
    "duration": 20,
    "start_time": "2021-07-20T18:43:51.111Z"
   },
   {
    "duration": 40,
    "start_time": "2021-07-20T18:44:13.154Z"
   },
   {
    "duration": 42,
    "start_time": "2021-07-20T18:44:26.338Z"
   },
   {
    "duration": 105,
    "start_time": "2021-07-20T18:44:37.311Z"
   },
   {
    "duration": 27,
    "start_time": "2021-07-20T18:44:37.419Z"
   },
   {
    "duration": 73,
    "start_time": "2021-07-20T18:44:37.449Z"
   },
   {
    "duration": 11,
    "start_time": "2021-07-20T18:44:37.525Z"
   },
   {
    "duration": 388,
    "start_time": "2021-07-21T14:49:05.838Z"
   },
   {
    "duration": 906,
    "start_time": "2021-07-21T14:49:10.666Z"
   },
   {
    "duration": 27,
    "start_time": "2021-07-21T14:49:11.574Z"
   },
   {
    "duration": 45,
    "start_time": "2021-07-21T14:49:11.604Z"
   },
   {
    "duration": 40,
    "start_time": "2021-07-21T14:49:11.651Z"
   },
   {
    "duration": 20,
    "start_time": "2021-07-21T14:49:55.930Z"
   },
   {
    "duration": 13,
    "start_time": "2021-07-21T14:51:21.448Z"
   },
   {
    "duration": 9,
    "start_time": "2021-07-21T14:51:42.088Z"
   },
   {
    "duration": 13,
    "start_time": "2021-07-21T14:51:45.627Z"
   },
   {
    "duration": 100,
    "start_time": "2021-07-21T14:51:58.804Z"
   },
   {
    "duration": 27,
    "start_time": "2021-07-21T14:52:02.146Z"
   },
   {
    "duration": 15,
    "start_time": "2021-07-21T14:52:04.092Z"
   },
   {
    "duration": 34,
    "start_time": "2021-07-21T14:52:48.270Z"
   },
   {
    "duration": 376,
    "start_time": "2021-07-21T15:09:30.716Z"
   },
   {
    "duration": 105,
    "start_time": "2021-07-21T15:09:36.706Z"
   },
   {
    "duration": 28,
    "start_time": "2021-07-21T15:09:40.103Z"
   },
   {
    "duration": 483,
    "start_time": "2021-07-21T15:09:41.465Z"
   },
   {
    "duration": 325,
    "start_time": "2021-07-21T15:11:15.731Z"
   },
   {
    "duration": 10,
    "start_time": "2021-07-21T15:11:20.104Z"
   },
   {
    "duration": 339,
    "start_time": "2021-07-21T15:23:26.467Z"
   },
   {
    "duration": 98,
    "start_time": "2021-07-21T15:23:32.374Z"
   },
   {
    "duration": 25,
    "start_time": "2021-07-21T15:23:37.526Z"
   },
   {
    "duration": 390,
    "start_time": "2021-07-21T15:23:38.729Z"
   },
   {
    "duration": 393,
    "start_time": "2021-07-21T15:23:59.807Z"
   },
   {
    "duration": 75,
    "start_time": "2021-07-21T15:24:26.702Z"
   },
   {
    "duration": 101,
    "start_time": "2021-07-21T15:24:34.492Z"
   },
   {
    "duration": 341,
    "start_time": "2021-07-21T15:24:49.730Z"
   },
   {
    "duration": 327,
    "start_time": "2021-07-21T15:25:08.199Z"
   },
   {
    "duration": 103,
    "start_time": "2021-07-21T15:25:28.847Z"
   },
   {
    "duration": 27,
    "start_time": "2021-07-21T15:25:31.574Z"
   },
   {
    "duration": 373,
    "start_time": "2021-07-21T15:25:32.409Z"
   },
   {
    "duration": 511,
    "start_time": "2021-07-21T15:25:53.624Z"
   },
   {
    "duration": 99,
    "start_time": "2021-07-21T15:26:50.873Z"
   },
   {
    "duration": 27,
    "start_time": "2021-07-21T15:26:54.453Z"
   },
   {
    "duration": 17,
    "start_time": "2021-07-21T15:27:16.289Z"
   },
   {
    "duration": 17,
    "start_time": "2021-07-21T15:27:34.414Z"
   },
   {
    "duration": 18,
    "start_time": "2021-07-21T15:27:43.382Z"
   },
   {
    "duration": 16,
    "start_time": "2021-07-21T15:29:18.793Z"
   },
   {
    "duration": 20,
    "start_time": "2021-07-21T15:29:46.184Z"
   },
   {
    "duration": 20,
    "start_time": "2021-07-21T15:29:58.653Z"
   },
   {
    "duration": 19,
    "start_time": "2021-07-21T15:32:30.423Z"
   },
   {
    "duration": 25,
    "start_time": "2021-07-21T15:32:44.479Z"
   },
   {
    "duration": 19,
    "start_time": "2021-07-21T15:36:13.208Z"
   },
   {
    "duration": 4278,
    "start_time": "2021-07-21T15:36:55.294Z"
   },
   {
    "duration": 4029,
    "start_time": "2021-07-21T15:37:04.577Z"
   },
   {
    "duration": 102,
    "start_time": "2021-07-21T15:37:18.262Z"
   },
   {
    "duration": 30,
    "start_time": "2021-07-21T15:37:21.636Z"
   },
   {
    "duration": 33,
    "start_time": "2021-07-21T15:37:22.511Z"
   },
   {
    "duration": 21,
    "start_time": "2021-07-21T15:37:37.288Z"
   },
   {
    "duration": 660,
    "start_time": "2021-07-21T15:39:43.276Z"
   },
   {
    "duration": 3953,
    "start_time": "2021-07-21T15:41:44.777Z"
   },
   {
    "duration": 103,
    "start_time": "2021-07-21T15:42:00.534Z"
   },
   {
    "duration": 28,
    "start_time": "2021-07-21T15:42:04.698Z"
   },
   {
    "duration": 4070,
    "start_time": "2021-07-21T15:42:05.975Z"
   },
   {
    "duration": 3890,
    "start_time": "2021-07-21T15:42:15.668Z"
   },
   {
    "duration": 4741,
    "start_time": "2021-07-21T15:43:11.103Z"
   },
   {
    "duration": 4547,
    "start_time": "2021-07-21T15:43:43.236Z"
   },
   {
    "duration": 4333,
    "start_time": "2021-07-21T15:44:08.685Z"
   },
   {
    "duration": 3928,
    "start_time": "2021-07-21T15:44:18.021Z"
   },
   {
    "duration": 102,
    "start_time": "2021-07-21T15:44:36.519Z"
   },
   {
    "duration": 28,
    "start_time": "2021-07-21T15:44:36.625Z"
   },
   {
    "duration": 32,
    "start_time": "2021-07-21T15:44:36.656Z"
   },
   {
    "duration": 19,
    "start_time": "2021-07-21T15:44:36.690Z"
   },
   {
    "duration": 8,
    "start_time": "2021-07-21T15:44:45.611Z"
   },
   {
    "duration": 40,
    "start_time": "2021-07-21T15:44:58.859Z"
   },
   {
    "duration": 8,
    "start_time": "2021-07-21T15:45:13.625Z"
   },
   {
    "duration": 13,
    "start_time": "2021-07-21T15:45:23.843Z"
   },
   {
    "duration": 4043,
    "start_time": "2021-07-21T15:45:32.530Z"
   },
   {
    "duration": 104,
    "start_time": "2021-07-21T15:45:40.248Z"
   },
   {
    "duration": 40,
    "start_time": "2021-07-21T15:45:40.355Z"
   },
   {
    "duration": 15,
    "start_time": "2021-07-21T15:45:40.398Z"
   },
   {
    "duration": 337,
    "start_time": "2021-07-21T15:45:40.415Z"
   },
   {
    "duration": 337,
    "start_time": "2021-07-21T15:48:02.438Z"
   },
   {
    "duration": 309,
    "start_time": "2021-07-21T15:48:11.994Z"
   },
   {
    "duration": 102,
    "start_time": "2021-07-21T15:48:26.629Z"
   },
   {
    "duration": 28,
    "start_time": "2021-07-21T15:48:30.016Z"
   },
   {
    "duration": 16,
    "start_time": "2021-07-21T15:48:30.937Z"
   },
   {
    "duration": 335,
    "start_time": "2021-07-21T15:48:34.900Z"
   },
   {
    "duration": 3910,
    "start_time": "2021-07-21T15:50:46.520Z"
   },
   {
    "duration": -3371,
    "start_time": "2021-07-21T15:50:53.804Z"
   },
   {
    "duration": 381,
    "start_time": "2021-07-21T15:50:55.458Z"
   },
   {
    "duration": 7,
    "start_time": "2021-07-21T15:51:09.845Z"
   },
   {
    "duration": 305,
    "start_time": "2021-07-21T15:51:13.242Z"
   },
   {
    "duration": 105,
    "start_time": "2021-07-21T15:51:29.411Z"
   },
   {
    "duration": 29,
    "start_time": "2021-07-21T15:51:29.519Z"
   },
   {
    "duration": 52,
    "start_time": "2021-07-21T15:51:29.550Z"
   },
   {
    "duration": 15,
    "start_time": "2021-07-21T15:51:29.604Z"
   },
   {
    "duration": 15,
    "start_time": "2021-07-21T15:53:49.733Z"
   },
   {
    "duration": 4076,
    "start_time": "2021-07-21T16:03:06.250Z"
   },
   {
    "duration": 104,
    "start_time": "2021-07-21T16:03:14.142Z"
   },
   {
    "duration": 46,
    "start_time": "2021-07-21T16:03:14.249Z"
   },
   {
    "duration": 48,
    "start_time": "2021-07-21T16:03:14.300Z"
   },
   {
    "duration": 36,
    "start_time": "2021-07-21T16:03:14.351Z"
   },
   {
    "duration": 39,
    "start_time": "2021-07-21T16:03:23.868Z"
   },
   {
    "duration": 58,
    "start_time": "2021-07-21T16:03:45.204Z"
   },
   {
    "duration": 101,
    "start_time": "2021-07-21T16:09:32.840Z"
   },
   {
    "duration": 42,
    "start_time": "2021-07-21T16:09:32.945Z"
   },
   {
    "duration": 14,
    "start_time": "2021-07-21T16:09:32.992Z"
   },
   {
    "duration": 347,
    "start_time": "2021-07-21T16:09:33.008Z"
   },
   {
    "duration": 4149,
    "start_time": "2021-07-21T16:09:41.552Z"
   },
   {
    "duration": 99,
    "start_time": "2021-07-21T16:09:56.592Z"
   },
   {
    "duration": 26,
    "start_time": "2021-07-21T16:09:56.694Z"
   },
   {
    "duration": 12,
    "start_time": "2021-07-21T16:09:56.723Z"
   },
   {
    "duration": 311,
    "start_time": "2021-07-21T16:09:56.737Z"
   },
   {
    "duration": 4071,
    "start_time": "2021-07-21T16:10:06.537Z"
   },
   {
    "duration": 108,
    "start_time": "2021-07-21T16:10:56.208Z"
   },
   {
    "duration": 27,
    "start_time": "2021-07-21T16:10:59.999Z"
   },
   {
    "duration": 15,
    "start_time": "2021-07-21T16:11:01.025Z"
   },
   {
    "duration": 4131,
    "start_time": "2021-07-21T16:25:23.371Z"
   },
   {
    "duration": 64,
    "start_time": "2021-07-21T16:25:56.376Z"
   },
   {
    "duration": 73,
    "start_time": "2021-07-21T16:26:53.668Z"
   },
   {
    "duration": 102,
    "start_time": "2021-07-21T16:27:11.333Z"
   },
   {
    "duration": 72,
    "start_time": "2021-07-21T16:27:17.022Z"
   },
   {
    "duration": 72,
    "start_time": "2021-07-21T16:28:29.989Z"
   },
   {
    "duration": 65,
    "start_time": "2021-07-21T16:29:15.220Z"
   },
   {
    "duration": 76,
    "start_time": "2021-07-21T16:29:22.741Z"
   },
   {
    "duration": 80,
    "start_time": "2021-07-21T16:29:45.066Z"
   },
   {
    "duration": 26,
    "start_time": "2021-07-21T16:29:45.148Z"
   },
   {
    "duration": 17,
    "start_time": "2021-07-21T16:29:45.185Z"
   },
   {
    "duration": 320,
    "start_time": "2021-07-21T16:29:45.204Z"
   },
   {
    "duration": 65,
    "start_time": "2021-07-21T16:32:04.960Z"
   },
   {
    "duration": 292,
    "start_time": "2021-07-21T16:32:20.017Z"
   },
   {
    "duration": 84,
    "start_time": "2021-07-21T16:35:16.164Z"
   },
   {
    "duration": 68,
    "start_time": "2021-07-21T16:35:23.501Z"
   },
   {
    "duration": 141,
    "start_time": "2021-07-21T16:38:22.691Z"
   },
   {
    "duration": 102,
    "start_time": "2021-07-21T16:39:22.508Z"
   },
   {
    "duration": 27,
    "start_time": "2021-07-21T16:39:26.804Z"
   },
   {
    "duration": 22,
    "start_time": "2021-07-21T16:39:29.891Z"
   },
   {
    "duration": 18,
    "start_time": "2021-07-21T16:39:38.512Z"
   },
   {
    "duration": 131,
    "start_time": "2021-07-21T16:42:37.547Z"
   },
   {
    "duration": 9,
    "start_time": "2021-07-21T16:42:44.456Z"
   },
   {
    "duration": 8,
    "start_time": "2021-07-21T16:43:34.485Z"
   },
   {
    "duration": 7,
    "start_time": "2021-07-21T16:43:45.192Z"
   },
   {
    "duration": 7,
    "start_time": "2021-07-21T16:43:57.651Z"
   },
   {
    "duration": 317,
    "start_time": "2021-07-21T16:47:27.802Z"
   },
   {
    "duration": 17,
    "start_time": "2021-07-21T16:48:03.642Z"
   },
   {
    "duration": 49,
    "start_time": "2021-07-21T16:48:10.772Z"
   },
   {
    "duration": 34,
    "start_time": "2021-07-21T16:48:20.564Z"
   },
   {
    "duration": 101,
    "start_time": "2021-07-21T16:48:51.211Z"
   },
   {
    "duration": 27,
    "start_time": "2021-07-21T16:48:54.867Z"
   },
   {
    "duration": 32,
    "start_time": "2021-07-21T16:48:56.147Z"
   },
   {
    "duration": 46,
    "start_time": "2021-07-21T16:49:05.988Z"
   },
   {
    "duration": 14,
    "start_time": "2021-07-21T17:04:32.330Z"
   },
   {
    "duration": 101,
    "start_time": "2021-07-21T17:06:51.663Z"
   },
   {
    "duration": 39,
    "start_time": "2021-07-21T17:06:51.766Z"
   },
   {
    "duration": 78,
    "start_time": "2021-07-21T17:06:51.808Z"
   },
   {
    "duration": 43,
    "start_time": "2021-07-21T17:18:14.993Z"
   },
   {
    "duration": 104,
    "start_time": "2021-07-21T17:18:25.374Z"
   },
   {
    "duration": 28,
    "start_time": "2021-07-21T17:18:29.998Z"
   },
   {
    "duration": 40,
    "start_time": "2021-07-21T17:18:32.790Z"
   },
   {
    "duration": 121,
    "start_time": "2021-07-21T17:22:43.002Z"
   },
   {
    "duration": 39,
    "start_time": "2021-07-21T17:23:34.712Z"
   },
   {
    "duration": 103,
    "start_time": "2021-07-21T17:25:08.203Z"
   },
   {
    "duration": 29,
    "start_time": "2021-07-21T17:25:08.309Z"
   },
   {
    "duration": 447,
    "start_time": "2021-07-21T17:25:08.341Z"
   },
   {
    "duration": 102,
    "start_time": "2021-07-21T17:25:51.805Z"
   },
   {
    "duration": 29,
    "start_time": "2021-07-21T17:25:55.347Z"
   },
   {
    "duration": 50,
    "start_time": "2021-07-21T17:25:57.815Z"
   },
   {
    "duration": 38,
    "start_time": "2021-07-21T17:35:58.812Z"
   },
   {
    "duration": 35,
    "start_time": "2021-07-21T17:36:25.898Z"
   },
   {
    "duration": 32,
    "start_time": "2021-07-21T17:36:31.033Z"
   },
   {
    "duration": 99,
    "start_time": "2021-07-21T17:43:27.746Z"
   },
   {
    "duration": 101,
    "start_time": "2021-07-21T17:44:07.978Z"
   },
   {
    "duration": 28,
    "start_time": "2021-07-21T17:44:11.419Z"
   },
   {
    "duration": 112,
    "start_time": "2021-07-21T17:44:12.770Z"
   },
   {
    "duration": 432,
    "start_time": "2021-07-21T17:44:29.012Z"
   },
   {
    "duration": 113,
    "start_time": "2021-07-21T17:45:00.824Z"
   },
   {
    "duration": 58,
    "start_time": "2021-07-21T17:45:00.941Z"
   },
   {
    "duration": 512,
    "start_time": "2021-07-21T17:45:01.002Z"
   },
   {
    "duration": 101,
    "start_time": "2021-07-21T17:45:07.330Z"
   },
   {
    "duration": 29,
    "start_time": "2021-07-21T17:45:10.098Z"
   },
   {
    "duration": 361,
    "start_time": "2021-07-21T17:45:11.219Z"
   },
   {
    "duration": 104,
    "start_time": "2021-07-21T17:46:50.983Z"
   },
   {
    "duration": 100,
    "start_time": "2021-07-21T17:46:59.731Z"
   },
   {
    "duration": 27,
    "start_time": "2021-07-21T17:47:02.397Z"
   },
   {
    "duration": 68,
    "start_time": "2021-07-21T17:47:03.289Z"
   },
   {
    "duration": 39,
    "start_time": "2021-07-21T17:47:20.299Z"
   },
   {
    "duration": 107,
    "start_time": "2021-07-21T17:47:24.255Z"
   },
   {
    "duration": 42,
    "start_time": "2021-07-21T17:47:24.365Z"
   },
   {
    "duration": 80,
    "start_time": "2021-07-21T17:47:24.409Z"
   },
   {
    "duration": 49,
    "start_time": "2021-07-21T17:47:42.547Z"
   },
   {
    "duration": 103,
    "start_time": "2021-07-21T17:47:48.673Z"
   },
   {
    "duration": 28,
    "start_time": "2021-07-21T17:47:51.081Z"
   },
   {
    "duration": 50,
    "start_time": "2021-07-21T17:47:51.692Z"
   },
   {
    "duration": 87,
    "start_time": "2021-07-21T17:49:15.866Z"
   },
   {
    "duration": 97,
    "start_time": "2021-07-21T17:49:21.404Z"
   },
   {
    "duration": 28,
    "start_time": "2021-07-21T17:49:24.594Z"
   },
   {
    "duration": 99,
    "start_time": "2021-07-21T17:49:28.986Z"
   },
   {
    "duration": 12,
    "start_time": "2021-07-21T17:50:26.465Z"
   },
   {
    "duration": 12,
    "start_time": "2021-07-21T17:50:36.184Z"
   },
   {
    "duration": 3,
    "start_time": "2021-07-21T17:50:39.433Z"
   },
   {
    "duration": 12,
    "start_time": "2021-07-21T17:51:01.650Z"
   },
   {
    "duration": 28,
    "start_time": "2021-07-21T17:51:12.564Z"
   },
   {
    "duration": 29,
    "start_time": "2021-07-21T17:51:20.600Z"
   },
   {
    "duration": 73,
    "start_time": "2021-07-21T17:51:32.485Z"
   },
   {
    "duration": 109,
    "start_time": "2021-07-21T17:51:37.073Z"
   },
   {
    "duration": 30,
    "start_time": "2021-07-21T17:51:38.327Z"
   },
   {
    "duration": 65,
    "start_time": "2021-07-21T17:51:39.704Z"
   },
   {
    "duration": 45,
    "start_time": "2021-07-21T17:52:09.729Z"
   },
   {
    "duration": 98,
    "start_time": "2021-07-21T17:52:13.439Z"
   },
   {
    "duration": 28,
    "start_time": "2021-07-21T17:52:13.539Z"
   },
   {
    "duration": 59,
    "start_time": "2021-07-21T17:52:13.570Z"
   },
   {
    "duration": 102,
    "start_time": "2021-07-21T17:52:22.215Z"
   },
   {
    "duration": 28,
    "start_time": "2021-07-21T17:52:24.576Z"
   },
   {
    "duration": 808,
    "start_time": "2021-07-22T07:05:54.182Z"
   },
   {
    "duration": 29,
    "start_time": "2021-07-22T07:05:57.412Z"
   },
   {
    "duration": 363,
    "start_time": "2021-07-22T07:05:58.574Z"
   },
   {
    "duration": 87,
    "start_time": "2021-07-22T07:07:57.519Z"
   },
   {
    "duration": 99,
    "start_time": "2021-07-22T07:08:02.996Z"
   },
   {
    "duration": 28,
    "start_time": "2021-07-22T07:08:03.097Z"
   },
   {
    "duration": 109,
    "start_time": "2021-07-22T07:08:03.128Z"
   },
   {
    "duration": 309,
    "start_time": "2021-07-22T07:09:05.799Z"
   },
   {
    "duration": 98,
    "start_time": "2021-07-22T07:09:16.356Z"
   },
   {
    "duration": 27,
    "start_time": "2021-07-22T07:09:16.456Z"
   },
   {
    "duration": 79,
    "start_time": "2021-07-22T07:09:16.487Z"
   },
   {
    "duration": 290,
    "start_time": "2021-07-22T07:09:26.917Z"
   },
   {
    "duration": 364,
    "start_time": "2021-07-22T07:09:32.800Z"
   },
   {
    "duration": 100,
    "start_time": "2021-07-22T07:09:42.956Z"
   },
   {
    "duration": 28,
    "start_time": "2021-07-22T07:09:45.476Z"
   },
   {
    "duration": 83,
    "start_time": "2021-07-22T07:09:48.039Z"
   },
   {
    "duration": 375,
    "start_time": "2021-07-22T07:10:12.078Z"
   },
   {
    "duration": 100,
    "start_time": "2021-07-22T07:10:19.996Z"
   },
   {
    "duration": 30,
    "start_time": "2021-07-22T07:10:22.765Z"
   },
   {
    "duration": 73,
    "start_time": "2021-07-22T07:10:24.720Z"
   },
   {
    "duration": 338,
    "start_time": "2021-07-22T07:11:10.478Z"
   },
   {
    "duration": 30,
    "start_time": "2021-07-22T07:11:14.157Z"
   },
   {
    "duration": 319,
    "start_time": "2021-07-22T07:11:14.905Z"
   },
   {
    "duration": 95,
    "start_time": "2021-07-22T07:11:18.556Z"
   },
   {
    "duration": 27,
    "start_time": "2021-07-22T07:11:21.684Z"
   },
   {
    "duration": 62,
    "start_time": "2021-07-22T07:11:22.717Z"
   },
   {
    "duration": 99,
    "start_time": "2021-07-22T07:12:03.612Z"
   },
   {
    "duration": 27,
    "start_time": "2021-07-22T07:12:06.136Z"
   },
   {
    "duration": 69,
    "start_time": "2021-07-22T07:12:08.339Z"
   },
   {
    "duration": 94,
    "start_time": "2021-07-22T07:23:53.770Z"
   },
   {
    "duration": 28,
    "start_time": "2021-07-22T07:23:59.131Z"
   },
   {
    "duration": 88,
    "start_time": "2021-07-22T07:24:02.132Z"
   },
   {
    "duration": 440,
    "start_time": "2021-07-22T07:24:21.412Z"
   },
   {
    "duration": 55,
    "start_time": "2021-07-22T07:24:39.448Z"
   },
   {
    "duration": 98,
    "start_time": "2021-07-22T07:24:42.247Z"
   },
   {
    "duration": 27,
    "start_time": "2021-07-22T07:24:42.355Z"
   },
   {
    "duration": 52,
    "start_time": "2021-07-22T07:24:42.384Z"
   },
   {
    "duration": 64,
    "start_time": "2021-07-22T07:25:24.259Z"
   },
   {
    "duration": 97,
    "start_time": "2021-07-22T07:25:35.011Z"
   },
   {
    "duration": 27,
    "start_time": "2021-07-22T07:25:35.111Z"
   },
   {
    "duration": 56,
    "start_time": "2021-07-22T07:25:35.156Z"
   },
   {
    "duration": 61,
    "start_time": "2021-07-22T07:26:05.213Z"
   },
   {
    "duration": 59,
    "start_time": "2021-07-22T07:31:21.643Z"
   },
   {
    "duration": 95,
    "start_time": "2021-07-22T07:33:42.919Z"
   },
   {
    "duration": 39,
    "start_time": "2021-07-22T07:33:43.017Z"
   },
   {
    "duration": 36,
    "start_time": "2021-07-22T07:33:43.059Z"
   },
   {
    "duration": 38,
    "start_time": "2021-07-22T07:33:59.238Z"
   },
   {
    "duration": 102,
    "start_time": "2021-07-22T07:34:03.237Z"
   },
   {
    "duration": 35,
    "start_time": "2021-07-22T07:34:03.341Z"
   },
   {
    "duration": 37,
    "start_time": "2021-07-22T07:34:03.379Z"
   },
   {
    "duration": 43,
    "start_time": "2021-07-22T07:42:45.949Z"
   },
   {
    "duration": 97,
    "start_time": "2021-07-22T07:42:48.100Z"
   },
   {
    "duration": 29,
    "start_time": "2021-07-22T07:42:48.200Z"
   },
   {
    "duration": 40,
    "start_time": "2021-07-22T07:42:48.255Z"
   },
   {
    "duration": 99,
    "start_time": "2021-07-22T07:43:16.099Z"
   },
   {
    "duration": 27,
    "start_time": "2021-07-22T07:43:16.201Z"
   },
   {
    "duration": 85,
    "start_time": "2021-07-22T07:43:16.231Z"
   },
   {
    "duration": 97,
    "start_time": "2021-07-22T07:43:30.099Z"
   },
   {
    "duration": 28,
    "start_time": "2021-07-22T07:43:32.580Z"
   },
   {
    "duration": 62,
    "start_time": "2021-07-22T07:43:35.746Z"
   },
   {
    "duration": 97,
    "start_time": "2021-07-22T07:45:15.877Z"
   },
   {
    "duration": 27,
    "start_time": "2021-07-22T07:45:15.977Z"
   },
   {
    "duration": 105,
    "start_time": "2021-07-22T07:45:16.007Z"
   },
   {
    "duration": 97,
    "start_time": "2021-07-22T07:45:28.281Z"
   },
   {
    "duration": 29,
    "start_time": "2021-07-22T07:45:29.724Z"
   },
   {
    "duration": 78,
    "start_time": "2021-07-22T07:45:31.820Z"
   },
   {
    "duration": 56,
    "start_time": "2021-07-22T07:45:57.892Z"
   },
   {
    "duration": 99,
    "start_time": "2021-07-22T07:46:01.002Z"
   },
   {
    "duration": 28,
    "start_time": "2021-07-22T07:46:01.104Z"
   },
   {
    "duration": 57,
    "start_time": "2021-07-22T07:46:01.134Z"
   },
   {
    "duration": 100,
    "start_time": "2021-07-22T07:47:44.441Z"
   },
   {
    "duration": 34,
    "start_time": "2021-07-22T07:47:44.544Z"
   },
   {
    "duration": 76,
    "start_time": "2021-07-22T07:47:44.581Z"
   },
   {
    "duration": 101,
    "start_time": "2021-07-22T07:48:26.201Z"
   },
   {
    "duration": 50,
    "start_time": "2021-07-22T07:48:26.306Z"
   },
   {
    "duration": 54,
    "start_time": "2021-07-22T07:48:26.359Z"
   },
   {
    "duration": 99,
    "start_time": "2021-07-22T07:48:51.238Z"
   },
   {
    "duration": 37,
    "start_time": "2021-07-22T07:48:51.340Z"
   },
   {
    "duration": 108,
    "start_time": "2021-07-22T07:48:51.380Z"
   },
   {
    "duration": 320,
    "start_time": "2021-07-22T07:57:42.882Z"
   },
   {
    "duration": 111,
    "start_time": "2021-07-22T07:57:46.113Z"
   },
   {
    "duration": 38,
    "start_time": "2021-07-22T07:57:46.227Z"
   },
   {
    "duration": 94,
    "start_time": "2021-07-22T07:57:46.268Z"
   },
   {
    "duration": 104,
    "start_time": "2021-07-22T08:02:01.699Z"
   },
   {
    "duration": 29,
    "start_time": "2021-07-22T08:02:01.807Z"
   },
   {
    "duration": 72,
    "start_time": "2021-07-22T08:02:01.839Z"
   },
   {
    "duration": 307,
    "start_time": "2021-07-22T08:02:21.179Z"
   },
   {
    "duration": 97,
    "start_time": "2021-07-22T08:02:23.858Z"
   },
   {
    "duration": 28,
    "start_time": "2021-07-22T08:02:23.957Z"
   },
   {
    "duration": 78,
    "start_time": "2021-07-22T08:02:23.988Z"
   },
   {
    "duration": 102,
    "start_time": "2021-07-22T08:03:21.045Z"
   },
   {
    "duration": 28,
    "start_time": "2021-07-22T08:03:21.155Z"
   },
   {
    "duration": 82,
    "start_time": "2021-07-22T08:03:21.186Z"
   },
   {
    "duration": 103,
    "start_time": "2021-07-22T08:03:41.827Z"
   },
   {
    "duration": 46,
    "start_time": "2021-07-22T08:03:41.933Z"
   },
   {
    "duration": 153,
    "start_time": "2021-07-22T08:03:41.983Z"
   },
   {
    "duration": 102,
    "start_time": "2021-07-22T08:04:12.739Z"
   },
   {
    "duration": 38,
    "start_time": "2021-07-22T08:04:12.845Z"
   },
   {
    "duration": 109,
    "start_time": "2021-07-22T08:04:12.887Z"
   },
   {
    "duration": 100,
    "start_time": "2021-07-22T08:04:54.019Z"
   },
   {
    "duration": 40,
    "start_time": "2021-07-22T08:04:54.122Z"
   },
   {
    "duration": 91,
    "start_time": "2021-07-22T08:04:54.165Z"
   },
   {
    "duration": 106,
    "start_time": "2021-07-22T08:34:56.713Z"
   },
   {
    "duration": 39,
    "start_time": "2021-07-22T08:34:56.821Z"
   },
   {
    "duration": 99,
    "start_time": "2021-07-22T08:34:56.863Z"
   },
   {
    "duration": 302,
    "start_time": "2021-07-22T08:35:49.873Z"
   },
   {
    "duration": 144,
    "start_time": "2021-07-22T08:35:52.552Z"
   },
   {
    "duration": 42,
    "start_time": "2021-07-22T08:35:52.699Z"
   },
   {
    "duration": 128,
    "start_time": "2021-07-22T08:35:52.758Z"
   },
   {
    "duration": 141,
    "start_time": "2021-07-22T08:36:10.961Z"
   },
   {
    "duration": 27,
    "start_time": "2021-07-22T08:36:11.106Z"
   },
   {
    "duration": 89,
    "start_time": "2021-07-22T08:36:11.136Z"
   },
   {
    "duration": 299,
    "start_time": "2021-07-22T08:36:58.325Z"
   },
   {
    "duration": 100,
    "start_time": "2021-07-22T08:37:02.556Z"
   },
   {
    "duration": 26,
    "start_time": "2021-07-22T08:37:04.835Z"
   },
   {
    "duration": 33,
    "start_time": "2021-07-22T08:37:05.837Z"
   },
   {
    "duration": 35,
    "start_time": "2021-07-22T08:37:25.076Z"
   },
   {
    "duration": 42,
    "start_time": "2021-07-22T08:37:47.562Z"
   },
   {
    "duration": 65,
    "start_time": "2021-07-22T08:45:08.820Z"
   },
   {
    "duration": 97,
    "start_time": "2021-07-22T08:49:07.781Z"
   },
   {
    "duration": 27,
    "start_time": "2021-07-22T08:49:07.881Z"
   },
   {
    "duration": 118,
    "start_time": "2021-07-22T08:49:07.912Z"
   },
   {
    "duration": 8535,
    "start_time": "2021-07-22T08:51:24.022Z"
   },
   {
    "duration": 103,
    "start_time": "2021-07-22T08:51:33.060Z"
   },
   {
    "duration": 28,
    "start_time": "2021-07-22T08:51:33.165Z"
   },
   {
    "duration": 115,
    "start_time": "2021-07-22T08:51:33.195Z"
   },
   {
    "duration": 6737,
    "start_time": "2021-07-22T08:51:55.304Z"
   },
   {
    "duration": 152,
    "start_time": "2021-07-22T08:52:05.781Z"
   },
   {
    "duration": 56,
    "start_time": "2021-07-22T08:52:05.937Z"
   },
   {
    "duration": 141,
    "start_time": "2021-07-22T08:52:05.997Z"
   },
   {
    "duration": 148,
    "start_time": "2021-07-22T08:52:31.301Z"
   },
   {
    "duration": 26,
    "start_time": "2021-07-22T08:52:31.455Z"
   },
   {
    "duration": 110,
    "start_time": "2021-07-22T08:52:31.484Z"
   },
   {
    "duration": 114,
    "start_time": "2021-07-22T08:53:05.542Z"
   },
   {
    "duration": 29,
    "start_time": "2021-07-22T08:53:05.658Z"
   },
   {
    "duration": 109,
    "start_time": "2021-07-22T08:53:05.689Z"
   },
   {
    "duration": -3610,
    "start_time": "2021-07-22T08:53:31.921Z"
   },
   {
    "duration": -3618,
    "start_time": "2021-07-22T08:53:31.931Z"
   },
   {
    "duration": -3621,
    "start_time": "2021-07-22T08:53:31.935Z"
   },
   {
    "duration": 102,
    "start_time": "2021-07-22T08:53:41.940Z"
   },
   {
    "duration": 42,
    "start_time": "2021-07-22T08:53:44.820Z"
   },
   {
    "duration": 110,
    "start_time": "2021-07-22T08:53:49.063Z"
   },
   {
    "duration": 101,
    "start_time": "2021-07-22T08:55:35.460Z"
   },
   {
    "duration": 28,
    "start_time": "2021-07-22T08:55:35.564Z"
   },
   {
    "duration": 116,
    "start_time": "2021-07-22T08:55:35.595Z"
   },
   {
    "duration": 98,
    "start_time": "2021-07-22T08:55:51.941Z"
   },
   {
    "duration": 29,
    "start_time": "2021-07-22T08:55:52.042Z"
   },
   {
    "duration": 104,
    "start_time": "2021-07-22T08:55:52.075Z"
   },
   {
    "duration": 99,
    "start_time": "2021-07-22T08:57:11.621Z"
   },
   {
    "duration": 47,
    "start_time": "2021-07-22T08:57:11.724Z"
   },
   {
    "duration": 67,
    "start_time": "2021-07-22T08:57:11.774Z"
   },
   {
    "duration": 97,
    "start_time": "2021-07-22T08:59:48.518Z"
   },
   {
    "duration": 40,
    "start_time": "2021-07-22T08:59:48.617Z"
   },
   {
    "duration": 56,
    "start_time": "2021-07-22T08:59:48.660Z"
   },
   {
    "duration": 867,
    "start_time": "2021-07-22T16:50:29.065Z"
   },
   {
    "duration": 77,
    "start_time": "2021-07-22T16:50:33.744Z"
   },
   {
    "duration": 90,
    "start_time": "2021-07-22T16:54:17.188Z"
   },
   {
    "duration": 87,
    "start_time": "2021-07-22T16:54:29.747Z"
   },
   {
    "duration": 476,
    "start_time": "2021-07-22T16:56:26.415Z"
   },
   {
    "duration": 74,
    "start_time": "2021-07-22T16:56:34.894Z"
   },
   {
    "duration": 71,
    "start_time": "2021-07-22T16:56:42.898Z"
   },
   {
    "duration": 69,
    "start_time": "2021-07-22T16:56:42.971Z"
   },
   {
    "duration": 78,
    "start_time": "2021-07-22T16:56:52.267Z"
   },
   {
    "duration": 73,
    "start_time": "2021-07-22T16:58:41.612Z"
   },
   {
    "duration": 372,
    "start_time": "2021-07-22T17:02:24.334Z"
   },
   {
    "duration": 427,
    "start_time": "2021-07-22T17:02:36.032Z"
   },
   {
    "duration": -4272,
    "start_time": "2021-07-22T17:02:40.734Z"
   },
   {
    "duration": 73,
    "start_time": "2021-07-22T17:03:11.150Z"
   },
   {
    "duration": 73,
    "start_time": "2021-07-22T17:03:46.472Z"
   },
   {
    "duration": 87,
    "start_time": "2021-07-22T17:03:46.548Z"
   },
   {
    "duration": 83,
    "start_time": "2021-07-22T17:04:34.843Z"
   },
   {
    "duration": 85,
    "start_time": "2021-07-22T17:04:34.929Z"
   },
   {
    "duration": 97,
    "start_time": "2021-07-22T17:06:22.519Z"
   },
   {
    "duration": 77,
    "start_time": "2021-07-22T17:15:21.571Z"
   },
   {
    "duration": 79,
    "start_time": "2021-07-22T17:15:32.903Z"
   },
   {
    "duration": 70,
    "start_time": "2021-07-22T17:15:32.985Z"
   },
   {
    "duration": 79,
    "start_time": "2021-07-22T17:15:42.992Z"
   },
   {
    "duration": 80,
    "start_time": "2021-07-22T17:15:50.651Z"
   },
   {
    "duration": 454,
    "start_time": "2021-07-22T17:16:01.713Z"
   },
   {
    "duration": 93,
    "start_time": "2021-07-22T17:17:27.562Z"
   },
   {
    "duration": 99,
    "start_time": "2021-07-22T17:18:14.671Z"
   },
   {
    "duration": 74,
    "start_time": "2021-07-22T17:19:31.948Z"
   },
   {
    "duration": 97,
    "start_time": "2021-07-22T17:20:54.937Z"
   },
   {
    "duration": 78,
    "start_time": "2021-07-22T17:21:17.379Z"
   },
   {
    "duration": 99,
    "start_time": "2021-07-22T17:21:59.522Z"
   },
   {
    "duration": 95,
    "start_time": "2021-07-22T17:22:45.283Z"
   },
   {
    "duration": 408,
    "start_time": "2021-07-22T17:22:55.482Z"
   },
   {
    "duration": 79,
    "start_time": "2021-07-22T17:23:10.896Z"
   },
   {
    "duration": 96,
    "start_time": "2021-07-22T17:24:13.352Z"
   },
   {
    "duration": 70,
    "start_time": "2021-07-22T17:25:50.763Z"
   },
   {
    "duration": 98,
    "start_time": "2021-07-22T17:25:55.543Z"
   },
   {
    "duration": 435,
    "start_time": "2021-07-22T17:28:45.040Z"
   },
   {
    "duration": 74,
    "start_time": "2021-07-22T17:29:16.488Z"
   },
   {
    "duration": 75,
    "start_time": "2021-07-22T17:29:51.640Z"
   },
   {
    "duration": 70,
    "start_time": "2021-07-22T17:30:43.008Z"
   },
   {
    "duration": 96,
    "start_time": "2021-07-22T17:30:50.887Z"
   },
   {
    "duration": 97,
    "start_time": "2021-07-22T17:41:36.622Z"
   },
   {
    "duration": 116,
    "start_time": "2021-07-22T17:41:36.722Z"
   },
   {
    "duration": 151,
    "start_time": "2021-07-22T17:41:41.005Z"
   },
   {
    "duration": 111,
    "start_time": "2021-07-22T17:41:41.160Z"
   },
   {
    "duration": 97,
    "start_time": "2021-07-22T17:50:23.060Z"
   },
   {
    "duration": 92,
    "start_time": "2021-07-22T17:50:23.160Z"
   },
   {
    "duration": 71,
    "start_time": "2021-07-22T18:04:23.062Z"
   },
   {
    "duration": 96,
    "start_time": "2021-07-22T18:04:35.818Z"
   },
   {
    "duration": 94,
    "start_time": "2021-07-22T18:08:29.284Z"
   },
   {
    "duration": 80,
    "start_time": "2021-07-22T18:08:44.357Z"
   },
   {
    "duration": 96,
    "start_time": "2021-07-22T18:09:36.692Z"
   },
   {
    "duration": 100,
    "start_time": "2021-07-22T18:12:38.042Z"
   },
   {
    "duration": 139,
    "start_time": "2021-07-22T18:17:18.619Z"
   },
   {
    "duration": 72,
    "start_time": "2021-07-22T18:17:22.493Z"
   },
   {
    "duration": -4304,
    "start_time": "2021-07-22T18:17:42.786Z"
   },
   {
    "duration": 9041,
    "start_time": "2021-07-22T18:17:54.448Z"
   },
   {
    "duration": 7989,
    "start_time": "2021-07-22T18:37:03.766Z"
   },
   {
    "duration": 98,
    "start_time": "2021-07-22T18:37:16.195Z"
   },
   {
    "duration": 92,
    "start_time": "2021-07-22T18:37:16.297Z"
   },
   {
    "duration": 8408,
    "start_time": "2021-07-22T18:37:16.393Z"
   },
   {
    "duration": 8141,
    "start_time": "2021-07-22T18:38:10.183Z"
   },
   {
    "duration": 8261,
    "start_time": "2021-07-22T18:38:31.247Z"
   },
   {
    "duration": 330,
    "start_time": "2021-07-22T18:38:52.108Z"
   },
   {
    "duration": 809,
    "start_time": "2021-07-23T04:01:19.953Z"
   },
   {
    "duration": 85,
    "start_time": "2021-07-23T04:01:20.765Z"
   },
   {
    "duration": 353,
    "start_time": "2021-07-23T04:01:20.853Z"
   },
   {
    "duration": 100,
    "start_time": "2021-07-23T04:01:35.096Z"
   },
   {
    "duration": 78,
    "start_time": "2021-07-23T04:01:38.536Z"
   },
   {
    "duration": 6759,
    "start_time": "2021-07-23T04:01:53.328Z"
   },
   {
    "duration": 112,
    "start_time": "2021-07-23T04:02:10.366Z"
   },
   {
    "duration": 64,
    "start_time": "2021-07-23T04:02:14.136Z"
   },
   {
    "duration": 100,
    "start_time": "2021-07-23T04:02:38.500Z"
   },
   {
    "duration": 60,
    "start_time": "2021-07-23T04:02:41.702Z"
   },
   {
    "duration": 303,
    "start_time": "2021-07-23T04:05:44.734Z"
   },
   {
    "duration": 99,
    "start_time": "2021-07-23T04:05:49.578Z"
   },
   {
    "duration": 289,
    "start_time": "2021-07-23T04:05:54.302Z"
   },
   {
    "duration": 101,
    "start_time": "2021-07-23T04:06:59.566Z"
   },
   {
    "duration": 302,
    "start_time": "2021-07-23T04:07:03.409Z"
   },
   {
    "duration": 920,
    "start_time": "2021-07-23T13:36:15.871Z"
   },
   {
    "duration": 416,
    "start_time": "2021-07-23T13:36:16.794Z"
   },
   {
    "duration": -5602,
    "start_time": "2021-07-23T13:36:22.814Z"
   },
   {
    "duration": 1042,
    "start_time": "2021-07-23T13:40:18.372Z"
   },
   {
    "duration": 149,
    "start_time": "2021-07-23T13:40:21.781Z"
   },
   {
    "duration": 332,
    "start_time": "2021-07-23T13:40:21.933Z"
   },
   {
    "duration": -5610,
    "start_time": "2021-07-23T13:40:27.878Z"
   },
   {
    "duration": 326,
    "start_time": "2021-07-23T13:44:04.379Z"
   },
   {
    "duration": 115,
    "start_time": "2021-07-23T13:44:06.906Z"
   },
   {
    "duration": 412,
    "start_time": "2021-07-23T13:44:07.023Z"
   },
   {
    "duration": -5608,
    "start_time": "2021-07-23T13:44:13.047Z"
   },
   {
    "duration": 100,
    "start_time": "2021-07-23T13:44:18.620Z"
   },
   {
    "duration": 109,
    "start_time": "2021-07-23T13:44:18.723Z"
   },
   {
    "duration": -5599,
    "start_time": "2021-07-23T13:44:24.434Z"
   },
   {
    "duration": 103,
    "start_time": "2021-07-23T13:52:17.214Z"
   },
   {
    "duration": 334,
    "start_time": "2021-07-23T13:52:17.320Z"
   },
   {
    "duration": -5622,
    "start_time": "2021-07-23T13:52:23.279Z"
   },
   {
    "duration": 54,
    "start_time": "2021-07-23T13:57:13.537Z"
   },
   {
    "duration": 116,
    "start_time": "2021-07-23T13:57:15.651Z"
   },
   {
    "duration": 40,
    "start_time": "2021-07-23T13:57:15.771Z"
   },
   {
    "duration": 9592,
    "start_time": "2021-07-23T13:57:15.814Z"
   },
   {
    "duration": 105,
    "start_time": "2021-07-23T13:59:57.981Z"
   },
   {
    "duration": 41,
    "start_time": "2021-07-23T13:59:58.088Z"
   },
   {
    "duration": 9024,
    "start_time": "2021-07-23T13:59:58.131Z"
   },
   {
    "duration": 104,
    "start_time": "2021-07-23T14:00:23.587Z"
   },
   {
    "duration": 45,
    "start_time": "2021-07-23T14:00:23.693Z"
   },
   {
    "duration": 7756,
    "start_time": "2021-07-23T14:00:23.741Z"
   },
   {
    "duration": 115,
    "start_time": "2021-07-23T14:02:13.345Z"
   },
   {
    "duration": 45,
    "start_time": "2021-07-23T14:02:13.468Z"
   },
   {
    "duration": 11267,
    "start_time": "2021-07-23T14:02:13.516Z"
   },
   {
    "duration": 103,
    "start_time": "2021-07-23T14:02:26.572Z"
   },
   {
    "duration": 44,
    "start_time": "2021-07-23T14:02:26.678Z"
   },
   {
    "duration": 7519,
    "start_time": "2021-07-23T14:02:26.725Z"
   },
   {
    "duration": 116,
    "start_time": "2021-07-23T14:08:06.953Z"
   },
   {
    "duration": 43,
    "start_time": "2021-07-23T14:08:07.072Z"
   },
   {
    "duration": 8167,
    "start_time": "2021-07-23T14:08:07.118Z"
   },
   {
    "duration": 100,
    "start_time": "2021-07-23T14:40:03.547Z"
   },
   {
    "duration": 380,
    "start_time": "2021-07-23T14:40:03.650Z"
   },
   {
    "duration": -5621,
    "start_time": "2021-07-23T14:40:09.654Z"
   },
   {
    "duration": 101,
    "start_time": "2021-07-23T14:49:33.766Z"
   },
   {
    "duration": 57,
    "start_time": "2021-07-23T14:49:33.870Z"
   },
   {
    "duration": 8839,
    "start_time": "2021-07-23T14:49:33.929Z"
   },
   {
    "duration": 97,
    "start_time": "2021-07-23T14:49:53.904Z"
   },
   {
    "duration": 78,
    "start_time": "2021-07-23T14:49:54.004Z"
   },
   {
    "duration": 7590,
    "start_time": "2021-07-23T14:49:54.084Z"
   },
   {
    "duration": 99,
    "start_time": "2021-07-23T14:50:06.745Z"
   },
   {
    "duration": 50,
    "start_time": "2021-07-23T14:50:06.847Z"
   },
   {
    "duration": 8337,
    "start_time": "2021-07-23T14:50:06.900Z"
   },
   {
    "duration": 99,
    "start_time": "2021-07-23T14:50:41.331Z"
   },
   {
    "duration": 63,
    "start_time": "2021-07-23T14:50:41.432Z"
   },
   {
    "duration": 8798,
    "start_time": "2021-07-23T14:50:41.498Z"
   },
   {
    "duration": 109,
    "start_time": "2021-07-23T14:53:24.904Z"
   },
   {
    "duration": 84,
    "start_time": "2021-07-23T14:53:25.017Z"
   },
   {
    "duration": 8095,
    "start_time": "2021-07-23T14:53:25.104Z"
   },
   {
    "duration": 112,
    "start_time": "2021-07-23T15:00:12.489Z"
   },
   {
    "duration": 104,
    "start_time": "2021-07-23T15:00:12.605Z"
   },
   {
    "duration": 9068,
    "start_time": "2021-07-23T15:00:12.713Z"
   },
   {
    "duration": 102,
    "start_time": "2021-07-23T15:01:07.961Z"
   },
   {
    "duration": 79,
    "start_time": "2021-07-23T15:01:08.068Z"
   },
   {
    "duration": 7971,
    "start_time": "2021-07-23T15:01:08.149Z"
   },
   {
    "duration": 123,
    "start_time": "2021-07-23T15:01:38.424Z"
   },
   {
    "duration": 95,
    "start_time": "2021-07-23T15:01:38.550Z"
   },
   {
    "duration": 7731,
    "start_time": "2021-07-23T15:01:38.647Z"
   },
   {
    "duration": 102,
    "start_time": "2021-07-23T15:03:33.591Z"
   },
   {
    "duration": 86,
    "start_time": "2021-07-23T15:03:33.696Z"
   },
   {
    "duration": 8338,
    "start_time": "2021-07-23T15:03:33.786Z"
   },
   {
    "duration": 105,
    "start_time": "2021-07-23T15:04:14.886Z"
   },
   {
    "duration": 92,
    "start_time": "2021-07-23T15:04:14.994Z"
   },
   {
    "duration": 11548,
    "start_time": "2021-07-23T15:04:15.089Z"
   },
   {
    "duration": 103,
    "start_time": "2021-07-23T15:07:42.631Z"
   },
   {
    "duration": 99,
    "start_time": "2021-07-23T15:07:42.736Z"
   },
   {
    "duration": 8092,
    "start_time": "2021-07-23T15:07:42.838Z"
   },
   {
    "duration": 100,
    "start_time": "2021-07-23T15:08:04.678Z"
   },
   {
    "duration": 107,
    "start_time": "2021-07-23T15:08:04.781Z"
   },
   {
    "duration": 7635,
    "start_time": "2021-07-23T15:08:04.891Z"
   },
   {
    "duration": 99,
    "start_time": "2021-07-23T15:11:46.297Z"
   },
   {
    "duration": 124,
    "start_time": "2021-07-23T15:11:46.398Z"
   },
   {
    "duration": 7716,
    "start_time": "2021-07-23T15:11:46.524Z"
   },
   {
    "duration": 100,
    "start_time": "2021-07-23T15:20:54.239Z"
   },
   {
    "duration": 119,
    "start_time": "2021-07-23T15:20:54.343Z"
   },
   {
    "duration": -5615,
    "start_time": "2021-07-23T15:21:00.081Z"
   },
   {
    "duration": 104,
    "start_time": "2021-07-23T15:21:15.301Z"
   },
   {
    "duration": 164,
    "start_time": "2021-07-23T15:21:15.408Z"
   },
   {
    "duration": 316,
    "start_time": "2021-07-23T15:21:15.575Z"
   },
   {
    "duration": 88,
    "start_time": "2021-07-23T15:21:55.736Z"
   },
   {
    "duration": 86,
    "start_time": "2021-07-23T15:22:29.261Z"
   },
   {
    "duration": 168,
    "start_time": "2021-07-23T15:22:29.349Z"
   },
   {
    "duration": 343,
    "start_time": "2021-07-23T15:22:29.520Z"
   },
   {
    "duration": 79,
    "start_time": "2021-07-23T15:25:22.066Z"
   },
   {
    "duration": 154,
    "start_time": "2021-07-23T15:25:22.147Z"
   },
   {
    "duration": 421,
    "start_time": "2021-07-23T15:25:22.304Z"
   },
   {
    "duration": 112,
    "start_time": "2021-07-23T15:28:07.956Z"
   },
   {
    "duration": 167,
    "start_time": "2021-07-23T15:28:08.071Z"
   },
   {
    "duration": 341,
    "start_time": "2021-07-23T15:28:08.241Z"
   },
   {
    "duration": 320,
    "start_time": "2021-07-23T15:29:22.059Z"
   },
   {
    "duration": 20,
    "start_time": "2021-07-23T15:29:30.902Z"
   },
   {
    "duration": 38,
    "start_time": "2021-07-23T15:29:40.480Z"
   },
   {
    "duration": 41,
    "start_time": "2021-07-23T15:29:51.056Z"
   },
   {
    "duration": 36,
    "start_time": "2021-07-23T15:30:00.687Z"
   },
   {
    "duration": 107,
    "start_time": "2021-07-23T15:30:04.947Z"
   },
   {
    "duration": 152,
    "start_time": "2021-07-23T15:30:05.057Z"
   },
   {
    "duration": 38,
    "start_time": "2021-07-23T15:30:05.212Z"
   },
   {
    "duration": 5,
    "start_time": "2021-07-23T15:30:16.735Z"
   },
   {
    "duration": 36,
    "start_time": "2021-07-23T15:30:25.615Z"
   },
   {
    "duration": 46,
    "start_time": "2021-07-23T15:31:16.153Z"
   },
   {
    "duration": 351,
    "start_time": "2021-07-23T15:32:32.960Z"
   },
   {
    "duration": 355,
    "start_time": "2021-07-23T15:32:49.255Z"
   },
   {
    "duration": 362,
    "start_time": "2021-07-23T15:34:03.401Z"
   },
   {
    "duration": 49,
    "start_time": "2021-07-23T15:34:29.257Z"
   },
   {
    "duration": 300,
    "start_time": "2021-07-23T15:34:55.725Z"
   },
   {
    "duration": 102,
    "start_time": "2021-07-23T15:35:09.964Z"
   },
   {
    "duration": 156,
    "start_time": "2021-07-23T15:35:10.068Z"
   },
   {
    "duration": 53,
    "start_time": "2021-07-23T15:35:10.226Z"
   },
   {
    "duration": 106,
    "start_time": "2021-07-23T15:35:59.027Z"
   },
   {
    "duration": 168,
    "start_time": "2021-07-23T15:35:59.136Z"
   },
   {
    "duration": 31,
    "start_time": "2021-07-23T15:35:59.308Z"
   },
   {
    "duration": 25,
    "start_time": "2021-07-23T16:55:39.343Z"
   },
   {
    "duration": 22,
    "start_time": "2021-07-23T16:55:51.280Z"
   },
   {
    "duration": 102,
    "start_time": "2021-07-23T16:57:04.064Z"
   },
   {
    "duration": 21,
    "start_time": "2021-07-23T16:57:07.688Z"
   },
   {
    "duration": 23,
    "start_time": "2021-07-23T16:57:13.255Z"
   },
   {
    "duration": 66,
    "start_time": "2021-07-23T17:00:06.952Z"
   },
   {
    "duration": 66,
    "start_time": "2021-07-23T17:00:21.009Z"
   },
   {
    "duration": 352,
    "start_time": "2021-07-23T17:00:29.273Z"
   },
   {
    "duration": 78,
    "start_time": "2021-07-23T17:00:34.833Z"
   },
   {
    "duration": 62,
    "start_time": "2021-07-23T17:01:23.435Z"
   },
   {
    "duration": 49,
    "start_time": "2021-07-23T17:06:01.264Z"
   },
   {
    "duration": 64,
    "start_time": "2021-07-23T17:06:18.190Z"
   },
   {
    "duration": 48,
    "start_time": "2021-07-23T17:06:35.841Z"
   },
   {
    "duration": 63,
    "start_time": "2021-07-23T17:06:45.591Z"
   },
   {
    "duration": 49,
    "start_time": "2021-07-23T17:06:59.489Z"
   },
   {
    "duration": 65,
    "start_time": "2021-07-23T17:07:33.493Z"
   },
   {
    "duration": 99,
    "start_time": "2021-07-23T17:08:50.396Z"
   },
   {
    "duration": 152,
    "start_time": "2021-07-23T17:08:50.498Z"
   },
   {
    "duration": 38,
    "start_time": "2021-07-23T17:08:50.653Z"
   },
   {
    "duration": 90,
    "start_time": "2021-07-23T17:08:50.693Z"
   },
   {
    "duration": 9,
    "start_time": "2021-07-23T17:25:38.179Z"
   },
   {
    "duration": 299,
    "start_time": "2021-07-23T17:26:39.140Z"
   },
   {
    "duration": 16,
    "start_time": "2021-07-23T17:26:50.772Z"
   },
   {
    "duration": 309,
    "start_time": "2021-07-23T17:28:28.955Z"
   },
   {
    "duration": 338,
    "start_time": "2021-07-23T17:29:38.011Z"
   },
   {
    "duration": 317,
    "start_time": "2021-07-23T17:29:42.747Z"
   },
   {
    "duration": 280,
    "start_time": "2021-07-23T17:32:05.610Z"
   },
   {
    "duration": 1137,
    "start_time": "2021-07-23T17:32:17.546Z"
   },
   {
    "duration": 12,
    "start_time": "2021-07-23T17:33:32.954Z"
   },
   {
    "duration": 12,
    "start_time": "2021-07-23T17:33:48.026Z"
   },
   {
    "duration": 12,
    "start_time": "2021-07-23T17:33:58.283Z"
   },
   {
    "duration": 12,
    "start_time": "2021-07-23T17:34:05.996Z"
   },
   {
    "duration": 327,
    "start_time": "2021-07-23T17:34:52.426Z"
   },
   {
    "duration": 335,
    "start_time": "2021-07-23T17:35:11.155Z"
   },
   {
    "duration": 12,
    "start_time": "2021-07-23T17:35:19.642Z"
   },
   {
    "duration": 12,
    "start_time": "2021-07-23T17:35:23.739Z"
   },
   {
    "duration": 12,
    "start_time": "2021-07-23T17:35:36.067Z"
   },
   {
    "duration": 13,
    "start_time": "2021-07-23T17:35:42.097Z"
   },
   {
    "duration": 12,
    "start_time": "2021-07-23T17:35:59.028Z"
   },
   {
    "duration": 13,
    "start_time": "2021-07-23T17:36:02.945Z"
   },
   {
    "duration": 509,
    "start_time": "2021-07-23T17:36:21.825Z"
   },
   {
    "duration": 17,
    "start_time": "2021-07-23T17:39:53.602Z"
   },
   {
    "duration": 18,
    "start_time": "2021-07-23T17:39:58.881Z"
   },
   {
    "duration": 17,
    "start_time": "2021-07-23T17:40:17.185Z"
   },
   {
    "duration": 19,
    "start_time": "2021-07-23T17:40:24.466Z"
   },
   {
    "duration": 17,
    "start_time": "2021-07-23T17:40:49.195Z"
   },
   {
    "duration": 18,
    "start_time": "2021-07-23T17:41:43.898Z"
   },
   {
    "duration": 15,
    "start_time": "2021-07-23T17:43:04.986Z"
   },
   {
    "duration": 15,
    "start_time": "2021-07-23T17:43:13.744Z"
   },
   {
    "duration": 15,
    "start_time": "2021-07-23T17:43:25.321Z"
   },
   {
    "duration": 20,
    "start_time": "2021-07-23T17:43:41.778Z"
   },
   {
    "duration": 106,
    "start_time": "2021-07-23T17:43:47.232Z"
   },
   {
    "duration": 154,
    "start_time": "2021-07-23T17:43:47.341Z"
   },
   {
    "duration": 33,
    "start_time": "2021-07-23T17:43:47.498Z"
   },
   {
    "duration": 94,
    "start_time": "2021-07-23T17:43:47.533Z"
   },
   {
    "duration": 21,
    "start_time": "2021-07-23T17:43:47.629Z"
   },
   {
    "duration": 19,
    "start_time": "2021-07-23T17:44:10.169Z"
   },
   {
    "duration": 14,
    "start_time": "2021-07-23T17:44:16.924Z"
   },
   {
    "duration": 283,
    "start_time": "2021-07-23T17:45:47.537Z"
   },
   {
    "duration": 323,
    "start_time": "2021-07-23T17:46:24.944Z"
   },
   {
    "duration": 15,
    "start_time": "2021-07-23T17:47:17.568Z"
   },
   {
    "duration": 89,
    "start_time": "2021-07-23T17:47:58.320Z"
   },
   {
    "duration": 15,
    "start_time": "2021-07-23T17:48:02.664Z"
   },
   {
    "duration": 13,
    "start_time": "2021-07-23T17:48:25.887Z"
   },
   {
    "duration": 101,
    "start_time": "2021-07-23T17:57:01.668Z"
   },
   {
    "duration": 153,
    "start_time": "2021-07-23T17:57:01.771Z"
   },
   {
    "duration": 54,
    "start_time": "2021-07-23T17:57:01.928Z"
   },
   {
    "duration": 70,
    "start_time": "2021-07-23T17:57:01.985Z"
   },
   {
    "duration": 13,
    "start_time": "2021-07-23T17:57:02.068Z"
   },
   {
    "duration": 971,
    "start_time": "2021-07-23T18:00:48.287Z"
   },
   {
    "duration": 1010,
    "start_time": "2021-07-23T18:01:07.534Z"
   },
   {
    "duration": 116,
    "start_time": "2021-07-23T18:04:17.214Z"
   },
   {
    "duration": 1010,
    "start_time": "2021-07-23T18:04:30.294Z"
   },
   {
    "duration": 978,
    "start_time": "2021-07-23T18:04:46.415Z"
   },
   {
    "duration": 49,
    "start_time": "2021-07-23T18:06:44.541Z"
   },
   {
    "duration": 10,
    "start_time": "2021-07-23T18:06:52.213Z"
   },
   {
    "duration": 10,
    "start_time": "2021-07-23T18:09:22.532Z"
   },
   {
    "duration": 12,
    "start_time": "2021-07-23T18:09:34.311Z"
   },
   {
    "duration": 344,
    "start_time": "2021-07-23T18:13:13.044Z"
   },
   {
    "duration": 335,
    "start_time": "2021-07-23T18:14:12.997Z"
   },
   {
    "duration": 330,
    "start_time": "2021-07-23T18:14:23.612Z"
   },
   {
    "duration": 272,
    "start_time": "2021-07-23T18:14:29.123Z"
   },
   {
    "duration": 342,
    "start_time": "2021-07-23T18:15:47.467Z"
   },
   {
    "duration": 13,
    "start_time": "2021-07-23T18:15:59.685Z"
   },
   {
    "duration": 15,
    "start_time": "2021-07-23T18:16:24.339Z"
   },
   {
    "duration": 90,
    "start_time": "2021-07-23T18:16:46.221Z"
   },
   {
    "duration": 91,
    "start_time": "2021-07-23T18:17:00.043Z"
   },
   {
    "duration": 104,
    "start_time": "2021-07-23T18:17:02.666Z"
   },
   {
    "duration": 167,
    "start_time": "2021-07-23T18:17:02.772Z"
   },
   {
    "duration": 42,
    "start_time": "2021-07-23T18:17:02.942Z"
   },
   {
    "duration": 81,
    "start_time": "2021-07-23T18:17:02.986Z"
   },
   {
    "duration": 113,
    "start_time": "2021-07-23T18:17:03.070Z"
   },
   {
    "duration": 187,
    "start_time": "2021-07-23T18:17:13.011Z"
   },
   {
    "duration": 103,
    "start_time": "2021-07-23T18:17:22.029Z"
   },
   {
    "duration": 147,
    "start_time": "2021-07-23T18:17:22.135Z"
   },
   {
    "duration": 32,
    "start_time": "2021-07-23T18:17:22.284Z"
   },
   {
    "duration": 89,
    "start_time": "2021-07-23T18:17:22.318Z"
   },
   {
    "duration": 88,
    "start_time": "2021-07-23T18:17:22.409Z"
   },
   {
    "duration": 13,
    "start_time": "2021-07-23T18:17:44.915Z"
   },
   {
    "duration": 13,
    "start_time": "2021-07-23T18:18:49.963Z"
   },
   {
    "duration": 13,
    "start_time": "2021-07-23T18:19:12.107Z"
   },
   {
    "duration": 522,
    "start_time": "2021-07-23T18:22:32.426Z"
   },
   {
    "duration": 482,
    "start_time": "2021-07-23T18:22:54.473Z"
   },
   {
    "duration": 515,
    "start_time": "2021-07-23T18:23:10.434Z"
   },
   {
    "duration": 551,
    "start_time": "2021-07-23T18:23:17.090Z"
   },
   {
    "duration": 18,
    "start_time": "2021-07-23T18:23:25.802Z"
   },
   {
    "duration": 22,
    "start_time": "2021-07-23T18:23:47.571Z"
   },
   {
    "duration": 341,
    "start_time": "2021-07-23T18:30:50.747Z"
   },
   {
    "duration": 311,
    "start_time": "2021-07-23T18:31:09.625Z"
   },
   {
    "duration": 343,
    "start_time": "2021-07-23T18:31:25.506Z"
   },
   {
    "duration": 339,
    "start_time": "2021-07-23T18:32:57.656Z"
   },
   {
    "duration": 368,
    "start_time": "2021-07-23T18:33:05.823Z"
   },
   {
    "duration": 335,
    "start_time": "2021-07-23T18:33:29.640Z"
   },
   {
    "duration": 333,
    "start_time": "2021-07-23T18:37:24.600Z"
   },
   {
    "duration": 1108,
    "start_time": "2021-07-23T18:39:00.639Z"
   },
   {
    "duration": 1366,
    "start_time": "2021-07-23T18:40:00.782Z"
   },
   {
    "duration": 1000,
    "start_time": "2021-07-23T18:40:46.573Z"
   },
   {
    "duration": 347,
    "start_time": "2021-07-23T18:43:04.470Z"
   },
   {
    "duration": 974,
    "start_time": "2021-07-23T18:43:16.333Z"
   },
   {
    "duration": 1006,
    "start_time": "2021-07-23T18:43:32.165Z"
   },
   {
    "duration": 1034,
    "start_time": "2021-07-23T18:45:00.837Z"
   },
   {
    "duration": 966,
    "start_time": "2021-07-23T18:45:29.004Z"
   },
   {
    "duration": 957,
    "start_time": "2021-07-23T18:45:39.853Z"
   },
   {
    "duration": 335,
    "start_time": "2021-07-23T18:45:49.989Z"
   },
   {
    "duration": 939,
    "start_time": "2021-07-23T18:45:59.773Z"
   },
   {
    "duration": 334,
    "start_time": "2021-07-23T18:50:46.012Z"
   },
   {
    "duration": 815,
    "start_time": "2021-07-25T10:46:52.409Z"
   },
   {
    "duration": 138,
    "start_time": "2021-07-25T10:46:53.227Z"
   },
   {
    "duration": 43,
    "start_time": "2021-07-25T10:46:53.368Z"
   },
   {
    "duration": 85,
    "start_time": "2021-07-25T10:46:53.414Z"
   },
   {
    "duration": 93,
    "start_time": "2021-07-25T10:46:53.502Z"
   },
   {
    "duration": 94,
    "start_time": "2021-07-25T10:47:07.954Z"
   },
   {
    "duration": 145,
    "start_time": "2021-07-25T10:47:08.050Z"
   },
   {
    "duration": 30,
    "start_time": "2021-07-25T10:47:08.198Z"
   },
   {
    "duration": 83,
    "start_time": "2021-07-25T10:47:08.230Z"
   },
   {
    "duration": 381,
    "start_time": "2021-07-25T10:47:08.315Z"
   },
   {
    "duration": 96,
    "start_time": "2021-07-25T10:47:21.340Z"
   },
   {
    "duration": 143,
    "start_time": "2021-07-25T10:47:21.439Z"
   },
   {
    "duration": 31,
    "start_time": "2021-07-25T10:47:21.585Z"
   },
   {
    "duration": 86,
    "start_time": "2021-07-25T10:47:21.619Z"
   },
   {
    "duration": 237,
    "start_time": "2021-07-25T10:47:21.708Z"
   },
   {
    "duration": 94,
    "start_time": "2021-07-25T10:47:53.851Z"
   },
   {
    "duration": 152,
    "start_time": "2021-07-25T10:47:53.948Z"
   },
   {
    "duration": 30,
    "start_time": "2021-07-25T10:47:54.104Z"
   },
   {
    "duration": 90,
    "start_time": "2021-07-25T10:47:54.136Z"
   },
   {
    "duration": 478,
    "start_time": "2021-07-25T10:47:54.228Z"
   },
   {
    "duration": 92,
    "start_time": "2021-07-25T10:48:26.963Z"
   },
   {
    "duration": 148,
    "start_time": "2021-07-25T10:48:27.058Z"
   },
   {
    "duration": 30,
    "start_time": "2021-07-25T10:48:27.209Z"
   },
   {
    "duration": 81,
    "start_time": "2021-07-25T10:48:27.242Z"
   },
   {
    "duration": 1210,
    "start_time": "2021-07-25T10:48:27.326Z"
   },
   {
    "duration": 98,
    "start_time": "2021-07-25T10:49:25.460Z"
   },
   {
    "duration": 142,
    "start_time": "2021-07-25T10:49:25.561Z"
   },
   {
    "duration": 34,
    "start_time": "2021-07-25T10:49:25.706Z"
   },
   {
    "duration": 88,
    "start_time": "2021-07-25T10:49:25.743Z"
   },
   {
    "duration": 310,
    "start_time": "2021-07-25T10:49:25.834Z"
   },
   {
    "duration": 117,
    "start_time": "2021-07-25T10:50:31.570Z"
   },
   {
    "duration": 146,
    "start_time": "2021-07-25T10:50:31.690Z"
   },
   {
    "duration": 46,
    "start_time": "2021-07-25T10:50:31.838Z"
   },
   {
    "duration": 63,
    "start_time": "2021-07-25T10:50:31.886Z"
   },
   {
    "duration": 4475,
    "start_time": "2021-07-25T10:50:31.951Z"
   },
   {
    "duration": 101,
    "start_time": "2021-07-25T10:50:41.554Z"
   },
   {
    "duration": 154,
    "start_time": "2021-07-25T10:50:41.659Z"
   },
   {
    "duration": 34,
    "start_time": "2021-07-25T10:50:41.816Z"
   },
   {
    "duration": 86,
    "start_time": "2021-07-25T10:50:41.853Z"
   },
   {
    "duration": 4677,
    "start_time": "2021-07-25T10:50:41.942Z"
   },
   {
    "duration": 4527,
    "start_time": "2021-07-25T10:53:11.933Z"
   },
   {
    "duration": 100,
    "start_time": "2021-07-25T10:53:25.042Z"
   },
   {
    "duration": 159,
    "start_time": "2021-07-25T10:53:25.145Z"
   },
   {
    "duration": 33,
    "start_time": "2021-07-25T10:53:25.307Z"
   },
   {
    "duration": 82,
    "start_time": "2021-07-25T10:53:25.343Z"
   },
   {
    "duration": 4659,
    "start_time": "2021-07-25T10:53:25.428Z"
   },
   {
    "duration": 4525,
    "start_time": "2021-07-25T10:53:45.357Z"
   },
   {
    "duration": 100,
    "start_time": "2021-07-25T10:55:17.218Z"
   },
   {
    "duration": 148,
    "start_time": "2021-07-25T10:55:17.320Z"
   },
   {
    "duration": 38,
    "start_time": "2021-07-25T10:55:17.471Z"
   },
   {
    "duration": 81,
    "start_time": "2021-07-25T10:55:17.511Z"
   },
   {
    "duration": 4543,
    "start_time": "2021-07-25T10:55:17.594Z"
   },
   {
    "duration": 4577,
    "start_time": "2021-07-25T11:02:48.034Z"
   },
   {
    "duration": 4489,
    "start_time": "2021-07-25T11:03:04.881Z"
   },
   {
    "duration": 286,
    "start_time": "2021-07-25T11:58:41.247Z"
   },
   {
    "duration": 10,
    "start_time": "2021-07-25T11:59:11.707Z"
   },
   {
    "duration": 33,
    "start_time": "2021-07-25T11:59:56.946Z"
   },
   {
    "duration": 37,
    "start_time": "2021-07-25T12:00:42.529Z"
   },
   {
    "duration": 34,
    "start_time": "2021-07-25T12:01:36.793Z"
   },
   {
    "duration": 4779,
    "start_time": "2021-07-25T12:02:12.577Z"
   },
   {
    "duration": 4579,
    "start_time": "2021-07-25T12:02:30.315Z"
   },
   {
    "duration": 4764,
    "start_time": "2021-07-25T12:02:44.106Z"
   },
   {
    "duration": 39,
    "start_time": "2021-07-25T12:32:03.660Z"
   },
   {
    "duration": 101,
    "start_time": "2021-07-25T12:32:23.787Z"
   },
   {
    "duration": 148,
    "start_time": "2021-07-25T12:32:23.890Z"
   },
   {
    "duration": 45,
    "start_time": "2021-07-25T12:32:24.041Z"
   },
   {
    "duration": 63,
    "start_time": "2021-07-25T12:32:24.089Z"
   },
   {
    "duration": 4581,
    "start_time": "2021-07-25T12:32:24.154Z"
   },
   {
    "duration": 9,
    "start_time": "2021-07-25T12:32:28.738Z"
   },
   {
    "duration": 54,
    "start_time": "2021-07-25T12:33:52.656Z"
   },
   {
    "duration": 12,
    "start_time": "2021-07-25T12:34:26.318Z"
   },
   {
    "duration": 36,
    "start_time": "2021-07-25T12:34:38.964Z"
   },
   {
    "duration": 100,
    "start_time": "2021-07-25T12:34:51.523Z"
   },
   {
    "duration": 146,
    "start_time": "2021-07-25T12:34:51.626Z"
   },
   {
    "duration": 35,
    "start_time": "2021-07-25T12:34:51.775Z"
   },
   {
    "duration": 80,
    "start_time": "2021-07-25T12:34:51.812Z"
   },
   {
    "duration": 4605,
    "start_time": "2021-07-25T12:34:51.894Z"
   },
   {
    "duration": 11,
    "start_time": "2021-07-25T12:34:56.502Z"
   },
   {
    "duration": 97,
    "start_time": "2021-07-25T12:35:33.820Z"
   },
   {
    "duration": 152,
    "start_time": "2021-07-25T12:35:33.919Z"
   },
   {
    "duration": 35,
    "start_time": "2021-07-25T12:35:34.074Z"
   },
   {
    "duration": 78,
    "start_time": "2021-07-25T12:35:34.111Z"
   },
   {
    "duration": 4512,
    "start_time": "2021-07-25T12:35:34.191Z"
   },
   {
    "duration": 12,
    "start_time": "2021-07-25T12:35:38.705Z"
   },
   {
    "duration": 96,
    "start_time": "2021-07-25T12:37:49.354Z"
   },
   {
    "duration": 151,
    "start_time": "2021-07-25T12:37:49.453Z"
   },
   {
    "duration": 30,
    "start_time": "2021-07-25T12:37:49.607Z"
   },
   {
    "duration": 88,
    "start_time": "2021-07-25T12:37:49.640Z"
   },
   {
    "duration": 4585,
    "start_time": "2021-07-25T12:37:49.731Z"
   },
   {
    "duration": 10,
    "start_time": "2021-07-25T12:37:54.319Z"
   },
   {
    "duration": 37,
    "start_time": "2021-07-25T12:38:09.850Z"
   },
   {
    "duration": 6,
    "start_time": "2021-07-25T12:38:18.252Z"
   },
   {
    "duration": 10,
    "start_time": "2021-07-25T12:43:12.835Z"
   },
   {
    "duration": 105,
    "start_time": "2021-07-25T12:51:07.747Z"
   },
   {
    "duration": 172,
    "start_time": "2021-07-25T12:51:07.858Z"
   },
   {
    "duration": 32,
    "start_time": "2021-07-25T12:51:08.033Z"
   },
   {
    "duration": 68,
    "start_time": "2021-07-25T12:51:08.084Z"
   },
   {
    "duration": 5187,
    "start_time": "2021-07-25T12:51:08.155Z"
   },
   {
    "duration": 109,
    "start_time": "2021-07-25T12:51:13.345Z"
   },
   {
    "duration": 154,
    "start_time": "2021-07-25T12:51:47.336Z"
   },
   {
    "duration": 239,
    "start_time": "2021-07-25T12:51:47.494Z"
   },
   {
    "duration": 63,
    "start_time": "2021-07-25T12:51:47.738Z"
   },
   {
    "duration": 80,
    "start_time": "2021-07-25T12:51:47.804Z"
   },
   {
    "duration": 4759,
    "start_time": "2021-07-25T12:51:47.886Z"
   },
   {
    "duration": 588,
    "start_time": "2021-07-25T12:51:52.648Z"
   },
   {
    "duration": 99,
    "start_time": "2021-07-25T12:54:08.305Z"
   },
   {
    "duration": 152,
    "start_time": "2021-07-25T12:54:08.407Z"
   },
   {
    "duration": 40,
    "start_time": "2021-07-25T12:54:08.562Z"
   },
   {
    "duration": 79,
    "start_time": "2021-07-25T12:54:08.605Z"
   },
   {
    "duration": 4987,
    "start_time": "2021-07-25T12:54:08.686Z"
   },
   {
    "duration": 511,
    "start_time": "2021-07-25T12:54:13.683Z"
   },
   {
    "duration": 105,
    "start_time": "2021-07-25T13:12:01.054Z"
   },
   {
    "duration": 156,
    "start_time": "2021-07-25T13:12:01.162Z"
   },
   {
    "duration": 31,
    "start_time": "2021-07-25T13:12:01.321Z"
   },
   {
    "duration": 89,
    "start_time": "2021-07-25T13:12:01.354Z"
   },
   {
    "duration": 4767,
    "start_time": "2021-07-25T13:12:01.445Z"
   },
   {
    "duration": 34,
    "start_time": "2021-07-25T13:12:06.215Z"
   },
   {
    "duration": 98,
    "start_time": "2021-07-25T13:19:09.998Z"
   },
   {
    "duration": 144,
    "start_time": "2021-07-25T13:19:10.098Z"
   },
   {
    "duration": 44,
    "start_time": "2021-07-25T13:19:10.244Z"
   },
   {
    "duration": 66,
    "start_time": "2021-07-25T13:19:10.291Z"
   },
   {
    "duration": 4586,
    "start_time": "2021-07-25T13:19:10.359Z"
   },
   {
    "duration": 60,
    "start_time": "2021-07-25T13:19:14.948Z"
   },
   {
    "duration": 106,
    "start_time": "2021-07-25T13:19:27.355Z"
   },
   {
    "duration": 166,
    "start_time": "2021-07-25T13:19:27.464Z"
   },
   {
    "duration": 36,
    "start_time": "2021-07-25T13:19:27.633Z"
   },
   {
    "duration": 75,
    "start_time": "2021-07-25T13:19:27.672Z"
   },
   {
    "duration": 4761,
    "start_time": "2021-07-25T13:19:27.749Z"
   },
   {
    "duration": 52,
    "start_time": "2021-07-25T13:19:32.513Z"
   },
   {
    "duration": 103,
    "start_time": "2021-07-25T13:22:37.315Z"
   },
   {
    "duration": 160,
    "start_time": "2021-07-25T13:22:37.422Z"
   },
   {
    "duration": 31,
    "start_time": "2021-07-25T13:22:37.586Z"
   },
   {
    "duration": 103,
    "start_time": "2021-07-25T13:22:37.621Z"
   },
   {
    "duration": 4711,
    "start_time": "2021-07-25T13:22:37.728Z"
   },
   {
    "duration": 64,
    "start_time": "2021-07-25T13:22:42.442Z"
   },
   {
    "duration": 104,
    "start_time": "2021-07-25T13:24:49.116Z"
   },
   {
    "duration": 153,
    "start_time": "2021-07-25T13:24:49.223Z"
   },
   {
    "duration": 31,
    "start_time": "2021-07-25T13:24:49.379Z"
   },
   {
    "duration": 84,
    "start_time": "2021-07-25T13:24:49.413Z"
   },
   {
    "duration": 703,
    "start_time": "2021-07-25T13:24:49.500Z"
   },
   {
    "duration": -322,
    "start_time": "2021-07-25T13:24:50.528Z"
   },
   {
    "duration": 100,
    "start_time": "2021-07-25T13:25:22.594Z"
   },
   {
    "duration": 149,
    "start_time": "2021-07-25T13:25:22.696Z"
   },
   {
    "duration": 42,
    "start_time": "2021-07-25T13:25:22.848Z"
   },
   {
    "duration": 65,
    "start_time": "2021-07-25T13:25:22.893Z"
   },
   {
    "duration": 4770,
    "start_time": "2021-07-25T13:25:22.961Z"
   },
   {
    "duration": 6266,
    "start_time": "2021-07-25T13:25:27.734Z"
   },
   {
    "duration": 105,
    "start_time": "2021-07-25T13:27:11.180Z"
   },
   {
    "duration": 156,
    "start_time": "2021-07-25T13:27:11.289Z"
   },
   {
    "duration": 48,
    "start_time": "2021-07-25T13:27:11.449Z"
   },
   {
    "duration": 84,
    "start_time": "2021-07-25T13:27:11.500Z"
   },
   {
    "duration": 4624,
    "start_time": "2021-07-25T13:27:11.587Z"
   },
   {
    "duration": 3,
    "start_time": "2021-07-25T13:27:16.214Z"
   },
   {
    "duration": 7411,
    "start_time": "2021-07-25T13:27:34.799Z"
   },
   {
    "duration": 99,
    "start_time": "2021-07-25T13:27:53.227Z"
   },
   {
    "duration": 153,
    "start_time": "2021-07-25T13:27:53.329Z"
   },
   {
    "duration": 31,
    "start_time": "2021-07-25T13:27:53.485Z"
   },
   {
    "duration": 79,
    "start_time": "2021-07-25T13:27:53.518Z"
   },
   {
    "duration": 4597,
    "start_time": "2021-07-25T13:27:53.599Z"
   },
   {
    "duration": 3,
    "start_time": "2021-07-25T13:27:58.199Z"
   },
   {
    "duration": 13,
    "start_time": "2021-07-25T13:29:38.323Z"
   },
   {
    "duration": 12,
    "start_time": "2021-07-25T13:29:46.787Z"
   },
   {
    "duration": 102,
    "start_time": "2021-07-25T13:33:55.819Z"
   },
   {
    "duration": 153,
    "start_time": "2021-07-25T13:33:55.923Z"
   },
   {
    "duration": 32,
    "start_time": "2021-07-25T13:33:56.079Z"
   },
   {
    "duration": 88,
    "start_time": "2021-07-25T13:33:56.113Z"
   },
   {
    "duration": 4551,
    "start_time": "2021-07-25T13:33:56.203Z"
   },
   {
    "duration": 94,
    "start_time": "2021-07-25T13:34:00.756Z"
   },
   {
    "duration": 43,
    "start_time": "2021-07-25T13:34:14.563Z"
   },
   {
    "duration": 42,
    "start_time": "2021-07-25T13:34:42.373Z"
   },
   {
    "duration": 100,
    "start_time": "2021-07-25T13:44:59.471Z"
   },
   {
    "duration": 151,
    "start_time": "2021-07-25T13:44:59.582Z"
   },
   {
    "duration": 30,
    "start_time": "2021-07-25T13:44:59.735Z"
   },
   {
    "duration": 63,
    "start_time": "2021-07-25T13:44:59.783Z"
   },
   {
    "duration": 4698,
    "start_time": "2021-07-25T13:44:59.848Z"
   },
   {
    "duration": 9386,
    "start_time": "2021-07-25T13:45:04.549Z"
   },
   {
    "duration": 99,
    "start_time": "2021-07-25T13:45:43.383Z"
   },
   {
    "duration": 150,
    "start_time": "2021-07-25T13:45:43.485Z"
   },
   {
    "duration": 29,
    "start_time": "2021-07-25T13:45:43.639Z"
   },
   {
    "duration": 65,
    "start_time": "2021-07-25T13:45:43.682Z"
   },
   {
    "duration": 4872,
    "start_time": "2021-07-25T13:45:43.749Z"
   },
   {
    "duration": 625,
    "start_time": "2021-07-25T13:45:48.624Z"
   },
   {
    "duration": 713,
    "start_time": "2021-07-25T13:46:31.147Z"
   },
   {
    "duration": 98,
    "start_time": "2021-07-25T13:50:51.121Z"
   },
   {
    "duration": 599,
    "start_time": "2021-07-25T13:50:56.338Z"
   },
   {
    "duration": 101,
    "start_time": "2021-07-25T13:53:54.865Z"
   },
   {
    "duration": 604,
    "start_time": "2021-07-25T13:54:11.151Z"
   },
   {
    "duration": 945,
    "start_time": "2021-07-25T13:54:25.483Z"
   },
   {
    "duration": 606,
    "start_time": "2021-07-25T13:54:39.798Z"
   },
   {
    "duration": 91,
    "start_time": "2021-07-25T13:55:44.704Z"
   },
   {
    "duration": 613,
    "start_time": "2021-07-25T13:55:49.946Z"
   },
   {
    "duration": 684,
    "start_time": "2021-07-25T13:57:30.536Z"
   },
   {
    "duration": 598,
    "start_time": "2021-07-25T13:57:38.191Z"
   },
   {
    "duration": 607,
    "start_time": "2021-07-25T13:58:00.967Z"
   },
   {
    "duration": 598,
    "start_time": "2021-07-25T13:58:44.484Z"
   },
   {
    "duration": 601,
    "start_time": "2021-07-25T13:59:06.656Z"
   },
   {
    "duration": 95,
    "start_time": "2021-07-25T14:00:14.159Z"
   },
   {
    "duration": 614,
    "start_time": "2021-07-25T14:00:34.762Z"
   },
   {
    "duration": 897,
    "start_time": "2021-07-25T16:13:06.778Z"
   },
   {
    "duration": 161,
    "start_time": "2021-07-25T16:13:07.678Z"
   },
   {
    "duration": 45,
    "start_time": "2021-07-25T16:13:07.842Z"
   },
   {
    "duration": 65,
    "start_time": "2021-07-25T16:13:07.890Z"
   },
   {
    "duration": 4537,
    "start_time": "2021-07-25T16:13:07.958Z"
   },
   {
    "duration": 623,
    "start_time": "2021-07-25T16:13:12.498Z"
   },
   {
    "duration": 559,
    "start_time": "2021-07-25T16:13:26.056Z"
   },
   {
    "duration": 622,
    "start_time": "2021-07-25T16:13:59.275Z"
   },
   {
    "duration": 3,
    "start_time": "2021-07-25T16:43:03.923Z"
   },
   {
    "duration": 8,
    "start_time": "2021-07-25T16:49:50.043Z"
   },
   {
    "duration": 4,
    "start_time": "2021-07-25T16:50:13.865Z"
   },
   {
    "duration": 7,
    "start_time": "2021-07-25T16:50:32.864Z"
   },
   {
    "duration": 107,
    "start_time": "2021-07-25T17:02:35.153Z"
   },
   {
    "duration": 151,
    "start_time": "2021-07-25T17:02:35.263Z"
   },
   {
    "duration": 30,
    "start_time": "2021-07-25T17:02:35.417Z"
   },
   {
    "duration": 81,
    "start_time": "2021-07-25T17:02:35.450Z"
   },
   {
    "duration": 4597,
    "start_time": "2021-07-25T17:02:35.533Z"
   },
   {
    "duration": 23,
    "start_time": "2021-07-25T17:02:40.133Z"
   },
   {
    "duration": 17,
    "start_time": "2021-07-25T17:03:03.558Z"
   },
   {
    "duration": 43,
    "start_time": "2021-07-25T17:03:16.350Z"
   },
   {
    "duration": 43,
    "start_time": "2021-07-25T17:03:38.273Z"
   },
   {
    "duration": 46,
    "start_time": "2021-07-25T17:05:54.249Z"
   },
   {
    "duration": 43,
    "start_time": "2021-07-25T17:07:43.533Z"
   },
   {
    "duration": 20,
    "start_time": "2021-07-25T17:08:00.281Z"
   },
   {
    "duration": 23,
    "start_time": "2021-07-25T17:10:11.919Z"
   },
   {
    "duration": 28,
    "start_time": "2021-07-25T17:10:27.967Z"
   },
   {
    "duration": 733,
    "start_time": "2021-07-25T17:11:46.685Z"
   },
   {
    "duration": 33,
    "start_time": "2021-07-25T17:13:33.550Z"
   },
   {
    "duration": 55,
    "start_time": "2021-07-25T17:16:27.288Z"
   },
   {
    "duration": 45,
    "start_time": "2021-07-25T17:19:53.559Z"
   },
   {
    "duration": 9812,
    "start_time": "2021-07-25T17:29:32.475Z"
   },
   {
    "duration": 58,
    "start_time": "2021-07-25T17:29:57.038Z"
   },
   {
    "duration": 406,
    "start_time": "2021-07-25T17:30:53.201Z"
   },
   {
    "duration": 55,
    "start_time": "2021-07-25T17:31:34.273Z"
   },
   {
    "duration": 55,
    "start_time": "2021-07-25T17:37:34.532Z"
   },
   {
    "duration": 64,
    "start_time": "2021-07-25T17:38:23.346Z"
   },
   {
    "duration": 68,
    "start_time": "2021-07-25T17:39:24.313Z"
   },
   {
    "duration": 74,
    "start_time": "2021-07-25T17:39:44.193Z"
   },
   {
    "duration": 76,
    "start_time": "2021-07-25T17:40:16.675Z"
   },
   {
    "duration": 77,
    "start_time": "2021-07-25T17:44:05.496Z"
   },
   {
    "duration": 83,
    "start_time": "2021-07-25T17:46:36.202Z"
   },
   {
    "duration": 83,
    "start_time": "2021-07-25T17:47:19.402Z"
   },
   {
    "duration": 101,
    "start_time": "2021-07-25T17:48:06.101Z"
   },
   {
    "duration": 108,
    "start_time": "2021-07-25T17:51:27.097Z"
   },
   {
    "duration": 100,
    "start_time": "2021-07-25T17:51:44.347Z"
   },
   {
    "duration": 155,
    "start_time": "2021-07-25T17:51:44.450Z"
   },
   {
    "duration": 31,
    "start_time": "2021-07-25T17:51:44.608Z"
   },
   {
    "duration": 85,
    "start_time": "2021-07-25T17:51:44.642Z"
   },
   {
    "duration": 4742,
    "start_time": "2021-07-25T17:51:44.729Z"
   },
   {
    "duration": 139,
    "start_time": "2021-07-25T17:51:49.486Z"
   },
   {
    "duration": 107,
    "start_time": "2021-07-25T17:52:32.332Z"
   },
   {
    "duration": 420,
    "start_time": "2021-07-25T17:54:07.783Z"
   },
   {
    "duration": 108,
    "start_time": "2021-07-25T17:55:04.806Z"
   },
   {
    "duration": 96,
    "start_time": "2021-07-25T17:56:39.867Z"
   },
   {
    "duration": 122,
    "start_time": "2021-07-25T17:57:30.083Z"
   },
   {
    "duration": 97,
    "start_time": "2021-07-25T17:59:09.303Z"
   },
   {
    "duration": 131,
    "start_time": "2021-07-25T18:02:48.962Z"
   },
   {
    "duration": 155,
    "start_time": "2021-07-25T18:02:49.096Z"
   },
   {
    "duration": 39,
    "start_time": "2021-07-25T18:02:49.254Z"
   },
   {
    "duration": 68,
    "start_time": "2021-07-25T18:02:49.295Z"
   },
   {
    "duration": 4641,
    "start_time": "2021-07-25T18:02:49.385Z"
   },
   {
    "duration": 130,
    "start_time": "2021-07-25T18:02:54.029Z"
   },
   {
    "duration": 100,
    "start_time": "2021-07-25T18:07:46.651Z"
   },
   {
    "duration": 150,
    "start_time": "2021-07-25T18:07:46.754Z"
   },
   {
    "duration": 33,
    "start_time": "2021-07-25T18:07:46.907Z"
   },
   {
    "duration": 84,
    "start_time": "2021-07-25T18:07:46.943Z"
   },
   {
    "duration": 4583,
    "start_time": "2021-07-25T18:07:47.030Z"
   },
   {
    "duration": 132,
    "start_time": "2021-07-25T18:07:51.617Z"
   },
   {
    "duration": 605,
    "start_time": "2021-07-25T18:07:51.752Z"
   },
   {
    "duration": 433,
    "start_time": "2021-07-26T15:21:06.757Z"
   },
   {
    "duration": 890,
    "start_time": "2021-07-26T15:21:12.718Z"
   },
   {
    "duration": 152,
    "start_time": "2021-07-26T15:21:13.611Z"
   },
   {
    "duration": 32,
    "start_time": "2021-07-26T15:21:13.766Z"
   },
   {
    "duration": 85,
    "start_time": "2021-07-26T15:21:13.801Z"
   },
   {
    "duration": 4404,
    "start_time": "2021-07-26T15:21:13.888Z"
   },
   {
    "duration": 129,
    "start_time": "2021-07-26T15:21:18.295Z"
   },
   {
    "duration": 478,
    "start_time": "2021-07-26T15:21:18.427Z"
   },
   {
    "duration": 3,
    "start_time": "2021-07-26T15:26:18.877Z"
   },
   {
    "duration": 402,
    "start_time": "2021-07-26T15:27:07.345Z"
   },
   {
    "duration": 7,
    "start_time": "2021-07-26T15:27:14.154Z"
   },
   {
    "duration": 9,
    "start_time": "2021-07-26T15:27:28.084Z"
   },
   {
    "duration": 23,
    "start_time": "2021-07-26T15:29:54.423Z"
   },
   {
    "duration": 426,
    "start_time": "2021-07-26T15:31:00.824Z"
   },
   {
    "duration": 22,
    "start_time": "2021-07-26T15:31:15.289Z"
   },
   {
    "duration": 137,
    "start_time": "2021-07-26T15:39:06.078Z"
   },
   {
    "duration": 1610,
    "start_time": "2021-07-26T15:39:20.841Z"
   },
   {
    "duration": 145,
    "start_time": "2021-07-26T15:39:38.934Z"
   },
   {
    "duration": 122,
    "start_time": "2021-07-26T15:40:39.692Z"
   },
   {
    "duration": 121,
    "start_time": "2021-07-26T15:41:14.787Z"
   },
   {
    "duration": 46,
    "start_time": "2021-07-26T15:44:24.327Z"
   },
   {
    "duration": 20,
    "start_time": "2021-07-26T15:44:44.571Z"
   },
   {
    "duration": 102,
    "start_time": "2021-07-26T15:49:38.576Z"
   },
   {
    "duration": 147,
    "start_time": "2021-07-26T15:49:38.681Z"
   },
   {
    "duration": 41,
    "start_time": "2021-07-26T15:49:38.831Z"
   },
   {
    "duration": 62,
    "start_time": "2021-07-26T15:49:38.875Z"
   },
   {
    "duration": 4465,
    "start_time": "2021-07-26T15:49:38.939Z"
   },
   {
    "duration": 155,
    "start_time": "2021-07-26T15:49:43.407Z"
   },
   {
    "duration": 20,
    "start_time": "2021-07-26T15:49:43.565Z"
   },
   {
    "duration": 161,
    "start_time": "2021-07-26T15:49:56.522Z"
   },
   {
    "duration": 19,
    "start_time": "2021-07-26T16:25:28.971Z"
   },
   {
    "duration": 20,
    "start_time": "2021-07-26T16:27:39.027Z"
   },
   {
    "duration": 405,
    "start_time": "2021-07-26T16:28:20.372Z"
   },
   {
    "duration": 21,
    "start_time": "2021-07-26T16:28:25.913Z"
   },
   {
    "duration": 21,
    "start_time": "2021-07-26T16:29:50.091Z"
   },
   {
    "duration": 36,
    "start_time": "2021-07-26T17:44:42.842Z"
   },
   {
    "duration": 25,
    "start_time": "2021-07-26T17:44:53.601Z"
   },
   {
    "duration": 27,
    "start_time": "2021-07-26T17:46:47.725Z"
   },
   {
    "duration": 29,
    "start_time": "2021-07-26T17:55:11.305Z"
   },
   {
    "duration": 30,
    "start_time": "2021-07-26T17:56:54.731Z"
   },
   {
    "duration": 29,
    "start_time": "2021-07-26T18:03:02.208Z"
   },
   {
    "duration": 21,
    "start_time": "2021-07-26T18:03:43.376Z"
   },
   {
    "duration": 26,
    "start_time": "2021-07-26T18:04:13.953Z"
   },
   {
    "duration": 34,
    "start_time": "2021-07-26T18:58:51.383Z"
   },
   {
    "duration": 33,
    "start_time": "2021-07-26T18:59:05.711Z"
   },
   {
    "duration": 32,
    "start_time": "2021-07-26T18:59:39.278Z"
   },
   {
    "duration": 103,
    "start_time": "2021-07-26T19:00:03.356Z"
   },
   {
    "duration": 155,
    "start_time": "2021-07-26T19:00:03.461Z"
   },
   {
    "duration": 40,
    "start_time": "2021-07-26T19:00:03.619Z"
   },
   {
    "duration": 67,
    "start_time": "2021-07-26T19:00:03.662Z"
   },
   {
    "duration": 4800,
    "start_time": "2021-07-26T19:00:03.731Z"
   },
   {
    "duration": 156,
    "start_time": "2021-07-26T19:00:08.534Z"
   },
   {
    "duration": 20,
    "start_time": "2021-07-26T19:00:08.692Z"
   },
   {
    "duration": 56,
    "start_time": "2021-07-26T19:00:08.715Z"
   },
   {
    "duration": 35,
    "start_time": "2021-07-26T19:00:08.774Z"
   },
   {
    "duration": 32,
    "start_time": "2021-07-26T19:00:59.287Z"
   },
   {
    "duration": 669,
    "start_time": "2021-07-26T19:02:11.310Z"
   },
   {
    "duration": 52,
    "start_time": "2021-07-26T19:02:18.566Z"
   },
   {
    "duration": 32,
    "start_time": "2021-07-26T19:02:38.278Z"
   },
   {
    "duration": 29,
    "start_time": "2021-07-26T19:02:52.046Z"
   },
   {
    "duration": 30,
    "start_time": "2021-07-26T19:04:12.392Z"
   },
   {
    "duration": 103,
    "start_time": "2021-07-26T19:04:28.307Z"
   },
   {
    "duration": 144,
    "start_time": "2021-07-26T19:04:28.412Z"
   },
   {
    "duration": 30,
    "start_time": "2021-07-26T19:04:28.558Z"
   },
   {
    "duration": 80,
    "start_time": "2021-07-26T19:04:28.591Z"
   },
   {
    "duration": 4587,
    "start_time": "2021-07-26T19:04:28.674Z"
   },
   {
    "duration": 158,
    "start_time": "2021-07-26T19:04:33.265Z"
   },
   {
    "duration": 33,
    "start_time": "2021-07-26T19:04:33.425Z"
   },
   {
    "duration": 34,
    "start_time": "2021-07-26T19:04:33.461Z"
   },
   {
    "duration": 64,
    "start_time": "2021-07-26T19:04:33.497Z"
   },
   {
    "duration": 34,
    "start_time": "2021-07-26T19:05:49.397Z"
   },
   {
    "duration": 30,
    "start_time": "2021-07-26T19:06:14.078Z"
   },
   {
    "duration": 23,
    "start_time": "2021-07-26T19:07:31.655Z"
   },
   {
    "duration": 335,
    "start_time": "2021-07-26T19:08:23.095Z"
   },
   {
    "duration": 362,
    "start_time": "2021-07-26T19:08:39.557Z"
   },
   {
    "duration": 8750,
    "start_time": "2021-07-26T19:09:09.148Z"
   },
   {
    "duration": 26,
    "start_time": "2021-07-26T19:09:36.865Z"
   },
   {
    "duration": 8457,
    "start_time": "2021-07-26T19:10:22.876Z"
   },
   {
    "duration": 28,
    "start_time": "2021-07-26T19:10:38.341Z"
   },
   {
    "duration": 17,
    "start_time": "2021-07-26T19:18:17.516Z"
   },
   {
    "duration": 356,
    "start_time": "2021-07-26T19:18:40.699Z"
   },
   {
    "duration": 21,
    "start_time": "2021-07-26T19:18:46.348Z"
   },
   {
    "duration": 24,
    "start_time": "2021-07-26T19:19:28.754Z"
   },
   {
    "duration": 25,
    "start_time": "2021-07-26T19:19:56.060Z"
   },
   {
    "duration": 27,
    "start_time": "2021-07-26T19:23:50.962Z"
   },
   {
    "duration": 23,
    "start_time": "2021-07-26T19:24:07.667Z"
   },
   {
    "duration": 25,
    "start_time": "2021-07-26T19:25:07.050Z"
   },
   {
    "duration": 99,
    "start_time": "2021-07-26T19:25:24.846Z"
   },
   {
    "duration": 145,
    "start_time": "2021-07-26T19:25:24.948Z"
   },
   {
    "duration": 29,
    "start_time": "2021-07-26T19:25:25.096Z"
   },
   {
    "duration": 77,
    "start_time": "2021-07-26T19:25:25.128Z"
   },
   {
    "duration": 4650,
    "start_time": "2021-07-26T19:25:25.207Z"
   },
   {
    "duration": 151,
    "start_time": "2021-07-26T19:25:29.860Z"
   },
   {
    "duration": 43,
    "start_time": "2021-07-26T19:25:30.014Z"
   },
   {
    "duration": 33,
    "start_time": "2021-07-26T19:25:30.061Z"
   },
   {
    "duration": 28,
    "start_time": "2021-07-26T19:25:30.096Z"
   },
   {
    "duration": 49,
    "start_time": "2021-07-26T19:25:30.126Z"
   },
   {
    "duration": 24,
    "start_time": "2021-07-26T19:26:45.402Z"
   },
   {
    "duration": 28,
    "start_time": "2021-07-26T19:27:58.653Z"
   },
   {
    "duration": 26,
    "start_time": "2021-07-26T19:28:14.753Z"
   },
   {
    "duration": 362,
    "start_time": "2021-07-26T19:31:38.675Z"
   },
   {
    "duration": 8628,
    "start_time": "2021-07-26T19:32:26.288Z"
   },
   {
    "duration": 27,
    "start_time": "2021-07-26T19:33:04.410Z"
   },
   {
    "duration": 110,
    "start_time": "2021-07-26T19:34:14.208Z"
   },
   {
    "duration": 104,
    "start_time": "2021-07-26T19:44:08.116Z"
   },
   {
    "duration": 164,
    "start_time": "2021-07-26T19:44:08.223Z"
   },
   {
    "duration": 31,
    "start_time": "2021-07-26T19:44:08.390Z"
   },
   {
    "duration": 84,
    "start_time": "2021-07-26T19:44:08.424Z"
   },
   {
    "duration": 5044,
    "start_time": "2021-07-26T19:44:08.511Z"
   },
   {
    "duration": 158,
    "start_time": "2021-07-26T19:44:13.558Z"
   },
   {
    "duration": 49,
    "start_time": "2021-07-26T19:44:13.719Z"
   },
   {
    "duration": 35,
    "start_time": "2021-07-26T19:44:13.771Z"
   },
   {
    "duration": 63,
    "start_time": "2021-07-26T19:44:13.809Z"
   },
   {
    "duration": 27,
    "start_time": "2021-07-26T19:44:13.875Z"
   },
   {
    "duration": 1235,
    "start_time": "2021-07-27T14:40:59.154Z"
   },
   {
    "duration": 128,
    "start_time": "2021-07-27T14:43:06.614Z"
   },
   {
    "duration": 102,
    "start_time": "2021-07-27T14:44:30.669Z"
   },
   {
    "duration": 78,
    "start_time": "2021-07-27T14:45:44.248Z"
   },
   {
    "duration": 106,
    "start_time": "2021-07-27T14:48:07.566Z"
   },
   {
    "duration": 5348,
    "start_time": "2021-07-27T14:50:03.654Z"
   },
   {
    "duration": 827,
    "start_time": "2021-08-31T11:15:50.197Z"
   },
   {
    "duration": 170,
    "start_time": "2021-08-31T11:15:51.029Z"
   },
   {
    "duration": 53,
    "start_time": "2021-08-31T11:15:51.201Z"
   },
   {
    "duration": 72,
    "start_time": "2021-08-31T11:15:51.258Z"
   },
   {
    "duration": 4939,
    "start_time": "2021-08-31T11:15:51.333Z"
   },
   {
    "duration": 195,
    "start_time": "2021-08-31T11:15:56.276Z"
   },
   {
    "duration": 34,
    "start_time": "2021-08-31T11:15:56.474Z"
   },
   {
    "duration": 74,
    "start_time": "2021-08-31T11:15:56.513Z"
   },
   {
    "duration": 64,
    "start_time": "2021-08-31T11:15:56.590Z"
   },
   {
    "duration": 31,
    "start_time": "2021-08-31T11:15:56.664Z"
   },
   {
    "duration": 34,
    "start_time": "2021-08-31T11:22:44.694Z"
   },
   {
    "duration": 34,
    "start_time": "2021-08-31T11:23:52.652Z"
   },
   {
    "duration": 31,
    "start_time": "2021-08-31T11:24:01.506Z"
   },
   {
    "duration": 124,
    "start_time": "2021-08-31T11:36:14.454Z"
   },
   {
    "duration": 164,
    "start_time": "2021-08-31T11:36:14.581Z"
   },
   {
    "duration": 36,
    "start_time": "2021-08-31T11:36:14.749Z"
   },
   {
    "duration": 92,
    "start_time": "2021-08-31T11:36:14.788Z"
   },
   {
    "duration": 4941,
    "start_time": "2021-08-31T11:36:14.883Z"
   },
   {
    "duration": 158,
    "start_time": "2021-08-31T11:36:19.827Z"
   },
   {
    "duration": 29,
    "start_time": "2021-08-31T11:36:19.987Z"
   },
   {
    "duration": 68,
    "start_time": "2021-08-31T11:36:20.020Z"
   },
   {
    "duration": 31,
    "start_time": "2021-08-31T11:36:20.090Z"
   },
   {
    "duration": 63,
    "start_time": "2021-08-31T11:36:20.124Z"
   },
   {
    "duration": 483,
    "start_time": "2022-04-17T15:42:03.888Z"
   },
   {
    "duration": 86,
    "start_time": "2022-04-17T15:42:04.373Z"
   },
   {
    "duration": 21,
    "start_time": "2022-04-17T15:42:04.461Z"
   },
   {
    "duration": 42,
    "start_time": "2022-04-17T15:42:04.484Z"
   },
   {
    "duration": 3324,
    "start_time": "2022-04-17T15:42:04.528Z"
   },
   {
    "duration": 103,
    "start_time": "2022-04-17T15:42:07.854Z"
   },
   {
    "duration": 20,
    "start_time": "2022-04-17T15:42:07.974Z"
   },
   {
    "duration": 24,
    "start_time": "2022-04-17T15:42:07.995Z"
   },
   {
    "duration": 21,
    "start_time": "2022-04-17T15:42:08.020Z"
   },
   {
    "duration": 19,
    "start_time": "2022-04-17T15:42:08.073Z"
   },
   {
    "duration": 83,
    "start_time": "2022-04-17T17:08:26.622Z"
   },
   {
    "duration": 95,
    "start_time": "2022-04-17T17:08:26.707Z"
   },
   {
    "duration": 19,
    "start_time": "2022-04-17T17:08:26.803Z"
   },
   {
    "duration": 59,
    "start_time": "2022-04-17T17:08:26.824Z"
   },
   {
    "duration": 3604,
    "start_time": "2022-04-17T17:08:26.884Z"
   },
   {
    "duration": 117,
    "start_time": "2022-04-17T17:08:30.492Z"
   },
   {
    "duration": 27,
    "start_time": "2022-04-17T17:08:30.611Z"
   },
   {
    "duration": 49,
    "start_time": "2022-04-17T17:08:30.640Z"
   },
   {
    "duration": 20,
    "start_time": "2022-04-17T17:08:30.691Z"
   },
   {
    "duration": 18,
    "start_time": "2022-04-17T17:08:30.714Z"
   },
   {
    "duration": 510,
    "start_time": "2022-04-17T17:08:41.460Z"
   },
   {
    "duration": 90,
    "start_time": "2022-04-17T17:08:41.976Z"
   },
   {
    "duration": 26,
    "start_time": "2022-04-17T17:08:42.068Z"
   },
   {
    "duration": 45,
    "start_time": "2022-04-17T17:08:42.097Z"
   },
   {
    "duration": 3498,
    "start_time": "2022-04-17T17:08:42.143Z"
   },
   {
    "duration": 105,
    "start_time": "2022-04-17T17:08:45.644Z"
   },
   {
    "duration": 49,
    "start_time": "2022-04-17T17:08:45.751Z"
   },
   {
    "duration": 22,
    "start_time": "2022-04-17T17:08:45.802Z"
   },
   {
    "duration": 18,
    "start_time": "2022-04-17T17:08:45.826Z"
   },
   {
    "duration": 45,
    "start_time": "2022-04-17T17:08:45.846Z"
   },
   {
    "duration": 382,
    "start_time": "2022-05-14T10:25:01.728Z"
   },
   {
    "duration": 95,
    "start_time": "2022-05-14T10:25:02.872Z"
   },
   {
    "duration": 67,
    "start_time": "2022-05-14T10:25:25.389Z"
   },
   {
    "duration": 79,
    "start_time": "2022-05-14T10:25:28.925Z"
   },
   {
    "duration": 66,
    "start_time": "2022-05-14T10:30:59.529Z"
   },
   {
    "duration": 67,
    "start_time": "2022-05-14T10:31:18.683Z"
   },
   {
    "duration": 81,
    "start_time": "2022-05-14T10:31:44.423Z"
   },
   {
    "duration": 75,
    "start_time": "2022-05-14T10:32:04.781Z"
   },
   {
    "duration": 76,
    "start_time": "2022-05-14T10:32:14.121Z"
   },
   {
    "duration": 72,
    "start_time": "2022-05-14T10:32:16.545Z"
   },
   {
    "duration": 75,
    "start_time": "2022-05-14T10:32:23.059Z"
   },
   {
    "duration": 80,
    "start_time": "2022-05-14T10:32:30.516Z"
   },
   {
    "duration": 77,
    "start_time": "2022-05-14T10:32:35.065Z"
   },
   {
    "duration": 77,
    "start_time": "2022-05-14T10:32:46.892Z"
   },
   {
    "duration": 77,
    "start_time": "2022-05-14T10:32:53.221Z"
   },
   {
    "duration": 77,
    "start_time": "2022-05-14T10:33:00.721Z"
   },
   {
    "duration": 79,
    "start_time": "2022-05-14T10:33:05.948Z"
   },
   {
    "duration": 94,
    "start_time": "2022-05-14T10:33:19.959Z"
   },
   {
    "duration": 105,
    "start_time": "2022-05-14T10:33:48.060Z"
   },
   {
    "duration": 50,
    "start_time": "2022-05-14T10:36:12.119Z"
   },
   {
    "duration": 54,
    "start_time": "2022-05-14T10:36:18.659Z"
   },
   {
    "duration": 50,
    "start_time": "2022-05-14T10:36:23.337Z"
   },
   {
    "duration": 52,
    "start_time": "2022-05-14T10:36:28.582Z"
   },
   {
    "duration": 97,
    "start_time": "2022-05-14T10:36:40.398Z"
   },
   {
    "duration": 100,
    "start_time": "2022-05-14T10:37:17.093Z"
   },
   {
    "duration": 96,
    "start_time": "2022-05-14T10:37:21.740Z"
   },
   {
    "duration": 58,
    "start_time": "2022-05-14T10:40:48.559Z"
   },
   {
    "duration": 99,
    "start_time": "2022-05-14T10:40:49.547Z"
   },
   {
    "duration": 3,
    "start_time": "2022-05-14T10:54:31.030Z"
   },
   {
    "duration": 100,
    "start_time": "2022-05-14T10:54:31.037Z"
   },
   {
    "duration": 104,
    "start_time": "2022-05-14T10:54:31.139Z"
   },
   {
    "duration": 4,
    "start_time": "2022-05-14T10:54:31.244Z"
   },
   {
    "duration": 18,
    "start_time": "2022-05-14T10:54:31.250Z"
   },
   {
    "duration": 20,
    "start_time": "2022-05-14T10:54:31.270Z"
   },
   {
    "duration": 77,
    "start_time": "2022-05-14T10:54:31.292Z"
   },
   {
    "duration": 27,
    "start_time": "2022-05-14T10:54:31.371Z"
   },
   {
    "duration": 44,
    "start_time": "2022-05-14T10:54:31.400Z"
   },
   {
    "duration": 4074,
    "start_time": "2022-05-14T10:54:31.445Z"
   },
   {
    "duration": 109,
    "start_time": "2022-05-14T10:54:35.522Z"
   },
   {
    "duration": 19,
    "start_time": "2022-05-14T10:54:35.632Z"
   },
   {
    "duration": 47,
    "start_time": "2022-05-14T10:54:35.652Z"
   },
   {
    "duration": 18,
    "start_time": "2022-05-14T10:54:35.701Z"
   },
   {
    "duration": 17,
    "start_time": "2022-05-14T10:54:35.721Z"
   },
   {
    "duration": 3,
    "start_time": "2022-05-14T11:08:55.480Z"
   },
   {
    "duration": 72,
    "start_time": "2022-05-14T11:08:55.485Z"
   },
   {
    "duration": 98,
    "start_time": "2022-05-14T11:08:55.560Z"
   },
   {
    "duration": 3,
    "start_time": "2022-05-14T11:08:55.660Z"
   },
   {
    "duration": 25,
    "start_time": "2022-05-14T11:08:55.665Z"
   },
   {
    "duration": 23,
    "start_time": "2022-05-14T11:08:55.692Z"
   },
   {
    "duration": 5,
    "start_time": "2022-05-14T11:08:55.717Z"
   },
   {
    "duration": 29,
    "start_time": "2022-05-14T11:08:55.724Z"
   },
   {
    "duration": 54,
    "start_time": "2022-05-14T11:08:55.755Z"
   },
   {
    "duration": 4,
    "start_time": "2022-05-14T11:08:55.810Z"
   },
   {
    "duration": 20,
    "start_time": "2022-05-14T11:08:55.816Z"
   },
   {
    "duration": 59,
    "start_time": "2022-05-14T11:08:55.838Z"
   },
   {
    "duration": 3944,
    "start_time": "2022-05-14T11:08:55.898Z"
   },
   {
    "duration": 97,
    "start_time": "2022-05-14T11:08:59.844Z"
   },
   {
    "duration": 18,
    "start_time": "2022-05-14T11:08:59.943Z"
   },
   {
    "duration": 47,
    "start_time": "2022-05-14T11:08:59.963Z"
   },
   {
    "duration": 23,
    "start_time": "2022-05-14T11:09:00.012Z"
   },
   {
    "duration": 53,
    "start_time": "2022-05-14T11:09:00.036Z"
   },
   {
    "duration": 3,
    "start_time": "2022-05-14T11:15:16.118Z"
   },
   {
    "duration": 63,
    "start_time": "2022-05-14T11:15:16.123Z"
   },
   {
    "duration": 107,
    "start_time": "2022-05-14T11:15:16.188Z"
   },
   {
    "duration": 4,
    "start_time": "2022-05-14T11:15:16.296Z"
   },
   {
    "duration": 14,
    "start_time": "2022-05-14T11:15:16.301Z"
   },
   {
    "duration": 6,
    "start_time": "2022-05-14T11:15:16.317Z"
   },
   {
    "duration": 10,
    "start_time": "2022-05-14T11:15:16.324Z"
   },
   {
    "duration": 17,
    "start_time": "2022-05-14T11:15:16.336Z"
   },
   {
    "duration": 82,
    "start_time": "2022-05-14T11:15:16.355Z"
   },
   {
    "duration": 20,
    "start_time": "2022-05-14T11:15:16.439Z"
   },
   {
    "duration": 37,
    "start_time": "2022-05-14T11:15:16.461Z"
   },
   {
    "duration": 41,
    "start_time": "2022-05-14T11:15:16.500Z"
   },
   {
    "duration": 4097,
    "start_time": "2022-05-14T11:15:16.543Z"
   },
   {
    "duration": 101,
    "start_time": "2022-05-14T11:15:20.642Z"
   },
   {
    "duration": 890,
    "start_time": "2022-05-14T11:15:20.744Z"
   },
   {
    "duration": 23,
    "start_time": "2022-05-14T11:15:21.636Z"
   },
   {
    "duration": 19,
    "start_time": "2022-05-14T11:15:21.661Z"
   },
   {
    "duration": 17,
    "start_time": "2022-05-14T11:15:21.682Z"
   },
   {
    "duration": 2,
    "start_time": "2022-05-14T11:26:56.767Z"
   },
   {
    "duration": 62,
    "start_time": "2022-05-14T11:26:56.771Z"
   },
   {
    "duration": 100,
    "start_time": "2022-05-14T11:26:56.835Z"
   },
   {
    "duration": 3,
    "start_time": "2022-05-14T11:26:56.936Z"
   },
   {
    "duration": 14,
    "start_time": "2022-05-14T11:26:56.941Z"
   },
   {
    "duration": 6,
    "start_time": "2022-05-14T11:26:56.957Z"
   },
   {
    "duration": 27,
    "start_time": "2022-05-14T11:26:56.964Z"
   },
   {
    "duration": 19,
    "start_time": "2022-05-14T11:26:56.993Z"
   },
   {
    "duration": 80,
    "start_time": "2022-05-14T11:26:57.014Z"
   },
   {
    "duration": 4,
    "start_time": "2022-05-14T11:26:57.095Z"
   },
   {
    "duration": 21,
    "start_time": "2022-05-14T11:26:57.101Z"
   },
   {
    "duration": 43,
    "start_time": "2022-05-14T11:26:57.124Z"
   },
   {
    "duration": 3285,
    "start_time": "2022-05-14T11:26:57.189Z"
   },
   {
    "duration": 120,
    "start_time": "2022-05-14T11:27:00.476Z"
   },
   {
    "duration": 21,
    "start_time": "2022-05-14T11:27:00.598Z"
   },
   {
    "duration": 24,
    "start_time": "2022-05-14T11:27:00.621Z"
   },
   {
    "duration": 54,
    "start_time": "2022-05-14T11:27:00.647Z"
   },
   {
    "duration": 17,
    "start_time": "2022-05-14T11:27:00.703Z"
   },
   {
    "duration": 408,
    "start_time": "2022-05-14T11:27:11.289Z"
   },
   {
    "duration": 68,
    "start_time": "2022-05-14T11:27:11.699Z"
   },
   {
    "duration": 111,
    "start_time": "2022-05-14T11:27:11.769Z"
   },
   {
    "duration": 4,
    "start_time": "2022-05-14T11:27:11.887Z"
   },
   {
    "duration": 13,
    "start_time": "2022-05-14T11:27:11.893Z"
   },
   {
    "duration": 8,
    "start_time": "2022-05-14T11:27:11.908Z"
   },
   {
    "duration": 7,
    "start_time": "2022-05-14T11:27:11.918Z"
   },
   {
    "duration": 22,
    "start_time": "2022-05-14T11:27:11.927Z"
   },
   {
    "duration": 97,
    "start_time": "2022-05-14T11:27:11.951Z"
   },
   {
    "duration": 4,
    "start_time": "2022-05-14T11:27:12.051Z"
   },
   {
    "duration": 42,
    "start_time": "2022-05-14T11:27:12.057Z"
   },
   {
    "duration": 47,
    "start_time": "2022-05-14T11:27:12.101Z"
   },
   {
    "duration": 3415,
    "start_time": "2022-05-14T11:27:12.150Z"
   },
   {
    "duration": 102,
    "start_time": "2022-05-14T11:27:15.567Z"
   },
   {
    "duration": 22,
    "start_time": "2022-05-14T11:27:15.687Z"
   },
   {
    "duration": 23,
    "start_time": "2022-05-14T11:27:15.710Z"
   },
   {
    "duration": 53,
    "start_time": "2022-05-14T11:27:15.735Z"
   },
   {
    "duration": 18,
    "start_time": "2022-05-14T11:27:15.790Z"
   },
   {
    "duration": 3,
    "start_time": "2022-05-14T11:54:37.637Z"
   },
   {
    "duration": 67,
    "start_time": "2022-05-14T11:54:37.645Z"
   },
   {
    "duration": 104,
    "start_time": "2022-05-14T11:54:37.714Z"
   },
   {
    "duration": 3,
    "start_time": "2022-05-14T11:54:37.820Z"
   },
   {
    "duration": 14,
    "start_time": "2022-05-14T11:54:37.825Z"
   },
   {
    "duration": 9,
    "start_time": "2022-05-14T11:54:37.840Z"
   },
   {
    "duration": 9,
    "start_time": "2022-05-14T11:54:37.850Z"
   },
   {
    "duration": 39,
    "start_time": "2022-05-14T11:54:37.861Z"
   },
   {
    "duration": 58,
    "start_time": "2022-05-14T11:54:37.902Z"
   },
   {
    "duration": 4,
    "start_time": "2022-05-14T11:54:37.962Z"
   },
   {
    "duration": 19,
    "start_time": "2022-05-14T11:54:37.987Z"
   },
   {
    "duration": 42,
    "start_time": "2022-05-14T11:54:38.007Z"
   },
   {
    "duration": 3260,
    "start_time": "2022-05-14T11:54:38.051Z"
   },
   {
    "duration": 27,
    "start_time": "2022-05-14T11:54:41.313Z"
   },
   {
    "duration": 10,
    "start_time": "2022-05-14T11:54:41.342Z"
   },
   {
    "duration": 50,
    "start_time": "2022-05-14T11:54:41.354Z"
   },
   {
    "duration": 29,
    "start_time": "2022-05-14T11:54:41.406Z"
   },
   {
    "duration": 20,
    "start_time": "2022-05-14T11:54:41.437Z"
   },
   {
    "duration": 50,
    "start_time": "2022-05-14T11:54:41.458Z"
   },
   {
    "duration": 19,
    "start_time": "2022-05-14T11:54:41.510Z"
   },
   {
    "duration": 16,
    "start_time": "2022-05-14T11:54:41.531Z"
   },
   {
    "duration": 19,
    "start_time": "2022-05-14T12:04:03.916Z"
   },
   {
    "duration": 512,
    "start_time": "2022-05-14T12:04:55.120Z"
   },
   {
    "duration": 436,
    "start_time": "2022-05-14T12:05:20.518Z"
   },
   {
    "duration": 20,
    "start_time": "2022-05-14T12:05:27.850Z"
   },
   {
    "duration": 26,
    "start_time": "2022-05-14T12:05:36.310Z"
   },
   {
    "duration": 24,
    "start_time": "2022-05-14T12:10:27.879Z"
   },
   {
    "duration": 22,
    "start_time": "2022-05-14T12:10:42.108Z"
   },
   {
    "duration": 22,
    "start_time": "2022-05-14T12:10:54.344Z"
   },
   {
    "duration": 3,
    "start_time": "2022-05-14T12:16:31.002Z"
   },
   {
    "duration": 105,
    "start_time": "2022-05-14T12:16:31.007Z"
   },
   {
    "duration": 100,
    "start_time": "2022-05-14T12:16:31.114Z"
   },
   {
    "duration": 3,
    "start_time": "2022-05-14T12:16:31.215Z"
   },
   {
    "duration": 21,
    "start_time": "2022-05-14T12:16:31.220Z"
   },
   {
    "duration": 13,
    "start_time": "2022-05-14T12:16:31.243Z"
   },
   {
    "duration": 17,
    "start_time": "2022-05-14T12:16:31.257Z"
   },
   {
    "duration": 22,
    "start_time": "2022-05-14T12:16:31.276Z"
   },
   {
    "duration": 61,
    "start_time": "2022-05-14T12:16:31.301Z"
   },
   {
    "duration": 3,
    "start_time": "2022-05-14T12:16:31.364Z"
   },
   {
    "duration": 34,
    "start_time": "2022-05-14T12:16:31.370Z"
   },
   {
    "duration": 48,
    "start_time": "2022-05-14T12:16:31.405Z"
   },
   {
    "duration": 3955,
    "start_time": "2022-05-14T12:16:31.455Z"
   },
   {
    "duration": 30,
    "start_time": "2022-05-14T12:16:35.412Z"
   },
   {
    "duration": 29,
    "start_time": "2022-05-14T12:16:35.443Z"
   },
   {
    "duration": 35,
    "start_time": "2022-05-14T12:16:35.474Z"
   },
   {
    "duration": 32,
    "start_time": "2022-05-14T12:16:35.511Z"
   },
   {
    "duration": 57,
    "start_time": "2022-05-14T12:16:35.545Z"
   },
   {
    "duration": 23,
    "start_time": "2022-05-14T12:16:35.604Z"
   },
   {
    "duration": 21,
    "start_time": "2022-05-14T12:16:35.629Z"
   },
   {
    "duration": 48,
    "start_time": "2022-05-14T12:16:35.652Z"
   },
   {
    "duration": 26,
    "start_time": "2022-05-14T12:19:02.577Z"
   },
   {
    "duration": 26,
    "start_time": "2022-05-14T12:19:15.926Z"
   },
   {
    "duration": 27,
    "start_time": "2022-05-14T12:20:45.043Z"
   },
   {
    "duration": 27,
    "start_time": "2022-05-14T12:20:50.645Z"
   },
   {
    "duration": 33,
    "start_time": "2022-05-14T12:21:53.946Z"
   },
   {
    "duration": 35,
    "start_time": "2022-05-14T12:22:01.820Z"
   },
   {
    "duration": 524,
    "start_time": "2022-05-15T06:03:12.633Z"
   },
   {
    "duration": 58,
    "start_time": "2022-05-15T06:03:13.160Z"
   },
   {
    "duration": 162,
    "start_time": "2022-05-15T06:03:13.221Z"
   },
   {
    "duration": 5,
    "start_time": "2022-05-15T06:03:13.388Z"
   },
   {
    "duration": 41,
    "start_time": "2022-05-15T06:03:13.396Z"
   },
   {
    "duration": 11,
    "start_time": "2022-05-15T06:03:13.440Z"
   },
   {
    "duration": 15,
    "start_time": "2022-05-15T06:03:13.454Z"
   },
   {
    "duration": 58,
    "start_time": "2022-05-15T06:03:13.471Z"
   },
   {
    "duration": 108,
    "start_time": "2022-05-15T06:03:13.532Z"
   },
   {
    "duration": 6,
    "start_time": "2022-05-15T06:03:13.644Z"
   },
   {
    "duration": 33,
    "start_time": "2022-05-15T06:03:13.653Z"
   },
   {
    "duration": 101,
    "start_time": "2022-05-15T06:03:13.689Z"
   },
   {
    "duration": 6538,
    "start_time": "2022-05-15T06:03:13.793Z"
   },
   {
    "duration": 44,
    "start_time": "2022-05-15T06:03:20.334Z"
   },
   {
    "duration": 45,
    "start_time": "2022-05-15T06:03:20.381Z"
   },
   {
    "duration": 48,
    "start_time": "2022-05-15T06:03:20.428Z"
   },
   {
    "duration": 69,
    "start_time": "2022-05-15T06:03:20.478Z"
   },
   {
    "duration": 31,
    "start_time": "2022-05-15T06:03:20.549Z"
   },
   {
    "duration": 68,
    "start_time": "2022-05-15T06:03:20.582Z"
   },
   {
    "duration": 30,
    "start_time": "2022-05-15T06:03:20.652Z"
   },
   {
    "duration": 61,
    "start_time": "2022-05-15T06:03:20.684Z"
   },
   {
    "duration": 31,
    "start_time": "2022-05-15T06:20:10.376Z"
   },
   {
    "duration": 35,
    "start_time": "2022-05-15T06:20:37.021Z"
   },
   {
    "duration": 35,
    "start_time": "2022-05-15T06:20:43.904Z"
   },
   {
    "duration": 121,
    "start_time": "2022-05-15T06:30:17.896Z"
   },
   {
    "duration": 27,
    "start_time": "2022-05-15T06:30:25.451Z"
   },
   {
    "duration": 3,
    "start_time": "2022-05-15T07:30:39.049Z"
   },
   {
    "duration": 52,
    "start_time": "2022-05-15T07:30:39.055Z"
   },
   {
    "duration": 155,
    "start_time": "2022-05-15T07:30:39.110Z"
   },
   {
    "duration": 4,
    "start_time": "2022-05-15T07:30:39.267Z"
   },
   {
    "duration": 20,
    "start_time": "2022-05-15T07:30:39.274Z"
   },
   {
    "duration": 32,
    "start_time": "2022-05-15T07:30:39.296Z"
   },
   {
    "duration": 9,
    "start_time": "2022-05-15T07:30:39.330Z"
   },
   {
    "duration": 30,
    "start_time": "2022-05-15T07:30:39.341Z"
   },
   {
    "duration": 113,
    "start_time": "2022-05-15T07:30:39.373Z"
   },
   {
    "duration": 5,
    "start_time": "2022-05-15T07:30:39.488Z"
   },
   {
    "duration": 45,
    "start_time": "2022-05-15T07:30:39.497Z"
   },
   {
    "duration": 82,
    "start_time": "2022-05-15T07:30:39.544Z"
   },
   {
    "duration": 5551,
    "start_time": "2022-05-15T07:30:39.628Z"
   },
   {
    "duration": 52,
    "start_time": "2022-05-15T07:30:45.182Z"
   },
   {
    "duration": 17,
    "start_time": "2022-05-15T07:30:45.236Z"
   },
   {
    "duration": 76,
    "start_time": "2022-05-15T07:30:45.255Z"
   },
   {
    "duration": 54,
    "start_time": "2022-05-15T07:30:45.333Z"
   },
   {
    "duration": 61,
    "start_time": "2022-05-15T07:30:45.391Z"
   },
   {
    "duration": 70,
    "start_time": "2022-05-15T07:30:45.454Z"
   },
   {
    "duration": 40,
    "start_time": "2022-05-15T07:30:45.527Z"
   },
   {
    "duration": 56,
    "start_time": "2022-05-15T07:30:45.570Z"
   },
   {
    "duration": 4,
    "start_time": "2022-05-15T07:30:53.608Z"
   },
   {
    "duration": 54,
    "start_time": "2022-05-15T07:30:53.676Z"
   },
   {
    "duration": 148,
    "start_time": "2022-05-15T07:30:53.733Z"
   },
   {
    "duration": 4,
    "start_time": "2022-05-15T07:30:53.883Z"
   },
   {
    "duration": 40,
    "start_time": "2022-05-15T07:30:53.890Z"
   },
   {
    "duration": 11,
    "start_time": "2022-05-15T07:30:53.932Z"
   },
   {
    "duration": 11,
    "start_time": "2022-05-15T07:30:53.945Z"
   },
   {
    "duration": 30,
    "start_time": "2022-05-15T07:30:53.958Z"
   },
   {
    "duration": 114,
    "start_time": "2022-05-15T07:30:53.990Z"
   },
   {
    "duration": 17,
    "start_time": "2022-05-15T07:30:54.107Z"
   },
   {
    "duration": 31,
    "start_time": "2022-05-15T07:30:54.128Z"
   },
   {
    "duration": 93,
    "start_time": "2022-05-15T07:30:54.161Z"
   },
   {
    "duration": 4797,
    "start_time": "2022-05-15T07:30:54.256Z"
   },
   {
    "duration": 43,
    "start_time": "2022-05-15T07:30:59.056Z"
   },
   {
    "duration": 35,
    "start_time": "2022-05-15T07:30:59.101Z"
   },
   {
    "duration": 47,
    "start_time": "2022-05-15T07:30:59.138Z"
   },
   {
    "duration": 70,
    "start_time": "2022-05-15T07:30:59.187Z"
   },
   {
    "duration": 33,
    "start_time": "2022-05-15T07:30:59.260Z"
   },
   {
    "duration": 67,
    "start_time": "2022-05-15T07:30:59.296Z"
   },
   {
    "duration": 73,
    "start_time": "2022-05-15T07:30:59.366Z"
   },
   {
    "duration": 29,
    "start_time": "2022-05-15T07:30:59.442Z"
   },
   {
    "duration": 1698,
    "start_time": "2022-05-15T07:34:00.224Z"
   },
   {
    "duration": 3,
    "start_time": "2022-05-15T07:34:11.558Z"
   },
   {
    "duration": 81,
    "start_time": "2022-05-15T07:34:11.564Z"
   },
   {
    "duration": 151,
    "start_time": "2022-05-15T07:34:11.647Z"
   },
   {
    "duration": 4,
    "start_time": "2022-05-15T07:34:11.800Z"
   },
   {
    "duration": 30,
    "start_time": "2022-05-15T07:34:11.807Z"
   },
   {
    "duration": 9,
    "start_time": "2022-05-15T07:34:11.839Z"
   },
   {
    "duration": 12,
    "start_time": "2022-05-15T07:34:11.850Z"
   },
   {
    "duration": 63,
    "start_time": "2022-05-15T07:34:11.865Z"
   },
   {
    "duration": 102,
    "start_time": "2022-05-15T07:34:11.931Z"
   },
   {
    "duration": 7,
    "start_time": "2022-05-15T07:34:12.035Z"
   },
   {
    "duration": 40,
    "start_time": "2022-05-15T07:34:12.046Z"
   },
   {
    "duration": 104,
    "start_time": "2022-05-15T07:34:12.089Z"
   },
   {
    "duration": 6756,
    "start_time": "2022-05-15T07:34:12.195Z"
   },
   {
    "duration": 42,
    "start_time": "2022-05-15T07:34:18.953Z"
   },
   {
    "duration": 34,
    "start_time": "2022-05-15T07:34:18.997Z"
   },
   {
    "duration": 49,
    "start_time": "2022-05-15T07:34:19.033Z"
   },
   {
    "duration": 77,
    "start_time": "2022-05-15T07:34:19.084Z"
   },
   {
    "duration": 31,
    "start_time": "2022-05-15T07:34:19.164Z"
   },
   {
    "duration": 64,
    "start_time": "2022-05-15T07:34:19.198Z"
   },
   {
    "duration": 61,
    "start_time": "2022-05-15T07:34:19.264Z"
   },
   {
    "duration": 27,
    "start_time": "2022-05-15T07:34:19.327Z"
   },
   {
    "duration": 533,
    "start_time": "2022-05-15T07:37:43.604Z"
   },
   {
    "duration": 58,
    "start_time": "2022-05-15T07:37:44.139Z"
   },
   {
    "duration": 159,
    "start_time": "2022-05-15T07:37:44.199Z"
   },
   {
    "duration": 5,
    "start_time": "2022-05-15T07:37:44.361Z"
   },
   {
    "duration": 21,
    "start_time": "2022-05-15T07:37:44.368Z"
   },
   {
    "duration": 12,
    "start_time": "2022-05-15T07:37:44.392Z"
   },
   {
    "duration": 24,
    "start_time": "2022-05-15T07:37:44.406Z"
   },
   {
    "duration": 32,
    "start_time": "2022-05-15T07:37:44.432Z"
   },
   {
    "duration": 112,
    "start_time": "2022-05-15T07:37:44.467Z"
   },
   {
    "duration": 5,
    "start_time": "2022-05-15T07:37:44.583Z"
   },
   {
    "duration": 47,
    "start_time": "2022-05-15T07:37:44.591Z"
   },
   {
    "duration": 88,
    "start_time": "2022-05-15T07:37:44.640Z"
   },
   {
    "duration": 5380,
    "start_time": "2022-05-15T07:37:44.730Z"
   },
   {
    "duration": 70,
    "start_time": "2022-05-15T07:37:50.113Z"
   },
   {
    "duration": 39,
    "start_time": "2022-05-15T07:37:50.185Z"
   },
   {
    "duration": 51,
    "start_time": "2022-05-15T07:37:50.227Z"
   },
   {
    "duration": 68,
    "start_time": "2022-05-15T07:37:50.281Z"
   },
   {
    "duration": 33,
    "start_time": "2022-05-15T07:37:50.352Z"
   },
   {
    "duration": 71,
    "start_time": "2022-05-15T07:37:50.388Z"
   },
   {
    "duration": 63,
    "start_time": "2022-05-15T07:37:50.461Z"
   },
   {
    "duration": 27,
    "start_time": "2022-05-15T07:37:50.527Z"
   },
   {
    "duration": 68,
    "start_time": "2022-05-15T07:38:07.244Z"
   },
   {
    "duration": 55,
    "start_time": "2022-05-15T07:38:12.926Z"
   },
   {
    "duration": 158,
    "start_time": "2022-05-15T07:38:14.775Z"
   },
   {
    "duration": 21,
    "start_time": "2022-05-15T07:49:36.511Z"
   },
   {
    "duration": 5,
    "start_time": "2022-05-15T07:49:43.306Z"
   },
   {
    "duration": 5,
    "start_time": "2022-05-15T07:49:47.478Z"
   },
   {
    "duration": 549,
    "start_time": "2022-05-15T07:49:47.486Z"
   },
   {
    "duration": 77,
    "start_time": "2022-05-15T07:49:48.038Z"
   },
   {
    "duration": 153,
    "start_time": "2022-05-15T07:49:48.117Z"
   },
   {
    "duration": 6,
    "start_time": "2022-05-15T07:49:48.274Z"
   },
   {
    "duration": 51,
    "start_time": "2022-05-15T07:49:48.283Z"
   },
   {
    "duration": 9,
    "start_time": "2022-05-15T07:49:48.337Z"
   },
   {
    "duration": 8,
    "start_time": "2022-05-15T07:49:48.348Z"
   },
   {
    "duration": 30,
    "start_time": "2022-05-15T07:49:48.358Z"
   },
   {
    "duration": 134,
    "start_time": "2022-05-15T07:49:48.391Z"
   },
   {
    "duration": 6,
    "start_time": "2022-05-15T07:49:48.528Z"
   },
   {
    "duration": 33,
    "start_time": "2022-05-15T07:49:48.536Z"
   },
   {
    "duration": 125,
    "start_time": "2022-05-15T07:49:48.571Z"
   },
   {
    "duration": 7067,
    "start_time": "2022-05-15T07:49:48.699Z"
   },
   {
    "duration": 61,
    "start_time": "2022-05-15T07:49:55.769Z"
   },
   {
    "duration": 19,
    "start_time": "2022-05-15T07:49:55.833Z"
   },
   {
    "duration": 94,
    "start_time": "2022-05-15T07:49:55.856Z"
   },
   {
    "duration": 71,
    "start_time": "2022-05-15T07:49:55.953Z"
   },
   {
    "duration": 36,
    "start_time": "2022-05-15T07:49:56.027Z"
   },
   {
    "duration": 74,
    "start_time": "2022-05-15T07:49:56.065Z"
   },
   {
    "duration": 38,
    "start_time": "2022-05-15T07:49:56.142Z"
   },
   {
    "duration": 66,
    "start_time": "2022-05-15T07:49:56.182Z"
   },
   {
    "duration": 35,
    "start_time": "2022-05-15T07:49:56.251Z"
   },
   {
    "duration": 25,
    "start_time": "2022-05-15T07:50:13.093Z"
   },
   {
    "duration": 520,
    "start_time": "2022-05-15T07:50:13.122Z"
   },
   {
    "duration": 52,
    "start_time": "2022-05-15T07:50:13.644Z"
   },
   {
    "duration": 163,
    "start_time": "2022-05-15T07:50:13.698Z"
   },
   {
    "duration": 6,
    "start_time": "2022-05-15T07:50:13.864Z"
   },
   {
    "duration": 25,
    "start_time": "2022-05-15T07:50:13.872Z"
   },
   {
    "duration": 29,
    "start_time": "2022-05-15T07:50:13.900Z"
   },
   {
    "duration": 9,
    "start_time": "2022-05-15T07:50:13.931Z"
   },
   {
    "duration": 34,
    "start_time": "2022-05-15T07:50:13.942Z"
   },
   {
    "duration": 117,
    "start_time": "2022-05-15T07:50:13.979Z"
   },
   {
    "duration": 5,
    "start_time": "2022-05-15T07:50:14.099Z"
   },
   {
    "duration": 32,
    "start_time": "2022-05-15T07:50:14.125Z"
   },
   {
    "duration": 101,
    "start_time": "2022-05-15T07:50:14.159Z"
   },
   {
    "duration": 4719,
    "start_time": "2022-05-15T07:50:14.264Z"
   },
   {
    "duration": 56,
    "start_time": "2022-05-15T07:50:18.985Z"
   },
   {
    "duration": 17,
    "start_time": "2022-05-15T07:50:19.043Z"
   },
   {
    "duration": 83,
    "start_time": "2022-05-15T07:50:19.062Z"
   },
   {
    "duration": 49,
    "start_time": "2022-05-15T07:50:19.148Z"
   },
   {
    "duration": 59,
    "start_time": "2022-05-15T07:50:19.199Z"
   },
   {
    "duration": 68,
    "start_time": "2022-05-15T07:50:19.260Z"
   },
   {
    "duration": 33,
    "start_time": "2022-05-15T07:50:19.330Z"
   },
   {
    "duration": 66,
    "start_time": "2022-05-15T07:50:19.365Z"
   },
   {
    "duration": 5,
    "start_time": "2022-05-15T07:50:19.433Z"
   },
   {
    "duration": 544,
    "start_time": "2022-05-15T08:04:48.482Z"
   },
   {
    "duration": 57,
    "start_time": "2022-05-15T08:04:49.028Z"
   },
   {
    "duration": 165,
    "start_time": "2022-05-15T08:04:49.087Z"
   },
   {
    "duration": 5,
    "start_time": "2022-05-15T08:04:49.255Z"
   },
   {
    "duration": 20,
    "start_time": "2022-05-15T08:04:49.262Z"
   },
   {
    "duration": 41,
    "start_time": "2022-05-15T08:04:49.284Z"
   },
   {
    "duration": 8,
    "start_time": "2022-05-15T08:04:49.327Z"
   },
   {
    "duration": 33,
    "start_time": "2022-05-15T08:04:49.337Z"
   },
   {
    "duration": 117,
    "start_time": "2022-05-15T08:04:49.372Z"
   },
   {
    "duration": 6,
    "start_time": "2022-05-15T08:04:49.493Z"
   },
   {
    "duration": 52,
    "start_time": "2022-05-15T08:04:49.501Z"
   },
   {
    "duration": 97,
    "start_time": "2022-05-15T08:04:49.556Z"
   },
   {
    "duration": 5055,
    "start_time": "2022-05-15T08:04:49.656Z"
   },
   {
    "duration": 44,
    "start_time": "2022-05-15T08:04:54.724Z"
   },
   {
    "duration": 16,
    "start_time": "2022-05-15T08:04:54.770Z"
   },
   {
    "duration": 83,
    "start_time": "2022-05-15T08:04:54.788Z"
   },
   {
    "duration": 73,
    "start_time": "2022-05-15T08:04:54.873Z"
   },
   {
    "duration": 32,
    "start_time": "2022-05-15T08:04:54.948Z"
   },
   {
    "duration": 68,
    "start_time": "2022-05-15T08:04:54.983Z"
   },
   {
    "duration": 70,
    "start_time": "2022-05-15T08:04:55.053Z"
   },
   {
    "duration": 30,
    "start_time": "2022-05-15T08:04:55.127Z"
   }
  ],
  "kernelspec": {
   "display_name": "Python 3 (ipykernel)",
   "language": "python",
   "name": "python3"
  },
  "language_info": {
   "codemirror_mode": {
    "name": "ipython",
    "version": 3
   },
   "file_extension": ".py",
   "mimetype": "text/x-python",
   "name": "python",
   "nbconvert_exporter": "python",
   "pygments_lexer": "ipython3",
   "version": "3.9.5"
  },
  "toc": {
   "base_numbering": 1,
   "nav_menu": {
    "height": "282px",
    "width": "547px"
   },
   "number_sections": true,
   "sideBar": true,
   "skip_h1_title": true,
   "title_cell": "Table of Contents",
   "title_sidebar": "Contents",
   "toc_cell": true,
   "toc_position": {
    "height": "calc(100% - 180px)",
    "left": "10px",
    "top": "150px",
    "width": "165px"
   },
   "toc_section_display": true,
   "toc_window_display": true
  }
 },
 "nbformat": 4,
 "nbformat_minor": 2
}
