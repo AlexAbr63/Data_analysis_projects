{
 "cells": [
  {
   "cell_type": "markdown",
   "metadata": {
    "toc": true
   },
   "source": [
    "<h1>Table of Contents<span class=\"tocSkip\"></span></h1>\n",
    "<div class=\"toc\"><ul class=\"toc-item\"><li><span><a href=\"#Парсинг-данных\" data-toc-modified-id=\"Парсинг-данных-1\"><span class=\"toc-item-num\">1&nbsp;&nbsp;</span>Парсинг данных</a></span></li><li><span><a href=\"#Работа-с-базой-данных\" data-toc-modified-id=\"Работа-с-базой-данных-2\"><span class=\"toc-item-num\">2&nbsp;&nbsp;</span>Работа с базой данных</a></span></li><li><span><a href=\"#Аналитика-средствами-Python\" data-toc-modified-id=\"Аналитика-средствами-Python-3\"><span class=\"toc-item-num\">3&nbsp;&nbsp;</span>Аналитика средствами Python</a></span><ul class=\"toc-item\"><li><span><a href=\"#Загрузка-и-изучение-данных\" data-toc-modified-id=\"Загрузка-и-изучение-данных-3.1\"><span class=\"toc-item-num\">3.1&nbsp;&nbsp;</span>Загрузка и изучение данных</a></span></li><li><span><a href=\"#ТОП-10-городов-и-построение-графиков\" data-toc-modified-id=\"ТОП-10-городов-и-построение-графиков-3.2\"><span class=\"toc-item-num\">3.2&nbsp;&nbsp;</span>ТОП-10 городов и построение графиков</a></span></li><li><span><a href=\"#Диаграмма-моделей-самолетов-и-количества-рейсов\" data-toc-modified-id=\"Диаграмма-моделей-самолетов-и-количества-рейсов-3.3\"><span class=\"toc-item-num\">3.3&nbsp;&nbsp;</span>Диаграмма моделей самолетов и количества рейсов</a></span></li><li><span><a href=\"#Диаграмма-городов-и-количества-рейсов\" data-toc-modified-id=\"Диаграмма-городов-и-количества-рейсов-3.4\"><span class=\"toc-item-num\">3.4&nbsp;&nbsp;</span>Диаграмма городов и количества рейсов</a></span></li><li><span><a href=\"#Диаграмма-ТОП-10-городов-и-количества-рейсов\" data-toc-modified-id=\"Диаграмма-ТОП-10-городов-и-количества-рейсов-3.5\"><span class=\"toc-item-num\">3.5&nbsp;&nbsp;</span>Диаграмма ТОП-10 городов и количества рейсов</a></span></li></ul></li><li><span><a href=\"#Общий-вывод\" data-toc-modified-id=\"Общий-вывод-4\"><span class=\"toc-item-num\">4&nbsp;&nbsp;</span>Общий вывод</a></span></li></ul></div>"
   ]
  },
  {
   "cell_type": "markdown",
   "metadata": {},
   "source": [
    "# Предпочтения пользователей, покупающих авиабилеты\n",
    "Проводится исследование для российской авиакомпании \"F9\", выполняющей сотни внутренних пассажирских авиаперевозок каждый день. Важно понять предпочтения пользователей, покупающих билеты на те или иные направления. Проанализировать спрос пассажиров на рейсы в города, где проходят крупнейшие фестивали."
   ]
  },
  {
   "cell_type": "markdown",
   "metadata": {},
   "source": [
    "## Парсинг данных\n",
    "Напишу парсер для сбора с веб-ресурса данных о 11 крупнейших фестивалях 2018 года"
   ]
  },
  {
   "cell_type": "code",
   "execution_count": 1,
   "metadata": {},
   "outputs": [],
   "source": [
    "# Импорт библиотек\n",
    "import requests\n",
    "from bs4 import BeautifulSoup\n",
    "import pandas as pd\n",
    "import matplotlib.pyplot as plt"
   ]
  },
  {
   "cell_type": "code",
   "execution_count": 2,
   "metadata": {},
   "outputs": [
    {
     "name": "stdout",
     "output_type": "stream",
     "text": [
      "200\n"
     ]
    }
   ],
   "source": [
    "# Получение информации с веб-страницы\n",
    "URL = 'https://....html'\n",
    "req = requests.get(URL)\n",
    "print(req.status_code) # Проверка ответа"
   ]
  },
  {
   "cell_type": "code",
   "execution_count": 3,
   "metadata": {
    "scrolled": true
   },
   "outputs": [
    {
     "name": "stdout",
     "output_type": "stream",
     "text": [
      "                                  Название фестиваля Место проведения  \\\n",
      "0               Музыкальный фестиваль «Усадьба Jazz»     Екатеринбург   \n",
      "1   Фестиваль музыки и технологий Alfa Future People  Нижний Новгород   \n",
      "2                        Фестиваль еды «О, да! Еда!»  Санкт-Петербург   \n",
      "3                                          Доброфест        Ярославль   \n",
      "4                                          Park Live           Москва   \n",
      "5                                       Пикник Афиши           Москва   \n",
      "6                                            VK FEST  Санкт-Петербург   \n",
      "7                            Фестиваль «О, да! Еда!»          Иркутск   \n",
      "8                            Фестиваль «О, да! Еда!»      Владивосток   \n",
      "9                                            Видфест           Москва   \n",
      "10                                  «Нашествие 2018»            Тверь   \n",
      "\n",
      "   Дата проведения  \n",
      "0       01.07.2018  \n",
      "1       10.08.2018  \n",
      "2       21.07.2018  \n",
      "3       29.07.2018  \n",
      "4       28.07.2018  \n",
      "5       04.08.2018  \n",
      "6       29.07.2018  \n",
      "7       25.08.2018  \n",
      "8       02.09.2018  \n",
      "9       08.09.2018  \n",
      "10      05.08.2018  \n"
     ]
    }
   ],
   "source": [
    "# Создание датасета из выгруженных данных\n",
    "soup = BeautifulSoup(req.text, 'lxml')\n",
    "table = soup.find('table', attrs = {'id':'best_festivals'})\n",
    "\n",
    "heading_table = []\n",
    "for row in table.find_all('th'):\n",
    "    heading_table.append(row.text)\n",
    "\n",
    "content = []\n",
    "for row in table.find_all('tr'):\n",
    "    if not row.find_all('th'): \n",
    "        content.append([element.text for element in row.find_all('td')])\n",
    "\n",
    "festivals = pd.DataFrame(content, columns=heading_table)\n",
    "print(festivals)"
   ]
  },
  {
   "cell_type": "markdown",
   "metadata": {},
   "source": [
    "**Вывод**\n",
    "\n",
    "Получен датасет с информацией о фестивалях в 2018 году."
   ]
  },
  {
   "cell_type": "markdown",
   "metadata": {},
   "source": [
    "## Работа с базой данных\n",
    "SQL запросами определю основные данные и подготовлю датасеты для дальнейшего исследования в python."
   ]
  },
  {
   "cell_type": "markdown",
   "metadata": {},
   "source": [
    "**Описание таблиц**\n",
    "\n",
    "Таблица airports — информация об аэропортах:\n",
    "- `airport_code` — трёхбуквенный код аэропорта,\n",
    "- `airport_name` — название аэропорта,\n",
    "- `city` — город,\n",
    "- `timezone` — часовой пояс.\n",
    "\n",
    "Таблица aircrafts — информация о самолётах:\n",
    "- `aircraft_code` — код модели самолёта,\n",
    "- `model` — модель самолёта,\n",
    "- `range` — дальность полётов.\n",
    "\n",
    "Таблица tickets — информация о билетах:\n",
    "- `ticket_no` — уникальный номер билета,\n",
    "- `passenger_id` — уникальный идентификатор пассажира,\n",
    "- `passenger_name` — имя и фамилия пассажира.\n",
    "\n",
    "Таблица flights — информация о рейсах:\n",
    "- `flight_id` — уникальный идентификатор рейса,\n",
    "- `departure_airport` — аэропорт вылета,\n",
    "- `departure_time` — дата и время вылета,\n",
    "- `arrival_airport` — аэропорт прилёта,\n",
    "- `arrival_time` — дата и время прилёта,\n",
    "- `aircraft_code` — уникальный идентификатор самолёта.\n",
    "\n",
    "Таблица ticket_flights — стыковая таблица «рейсы-билеты»:\n",
    "- `ticket_no` — номер билета,\n",
    "- `flight_id` — уникальный идентификатор рейса.\n",
    "\n",
    "Таблица festivals — информация о фестивалях:\n",
    "- `festival_id` — уникальный номер фестиваля,\n",
    "- `festival_date` — дата проведения фестиваля,\n",
    "- `festival_city` — город проведения фестиваля,\n",
    "- `festival_name` — название фестиваля."
   ]
  },
  {
   "cell_type": "markdown",
   "metadata": {},
   "source": [
    "`1. Определю города, в которых есть аэропорты:`\n",
    "\n",
    "``` SQL\n",
    "SELECT DISTINCT\n",
    "    city\n",
    "FROM\n",
    "    airports;\n",
    "```"
   ]
  },
  {
   "cell_type": "markdown",
   "metadata": {},
   "source": [
    "**Результат**  \n",
    "\n",
    "| City |\n",
    "|:-----:|\n",
    "| Липецк |\n",
    "| Оренбург |\n",
    "| Южно-Сахалинск |\n",
    "| Красноярск |\n",
    "| Калуга |\n",
    "| Уфа |\n",
    "| Новый Уренгой |\n",
    "| Нарьян-Мар |\n",
    "| Белгород |\n",
    "| Нерюнгри |\n",
    "| ... |\n",
    "| Курган |\n",
    "| Ноябрьск |\n",
    "| Архангельск |\n",
    "| Ижевск |\n",
    "| Владивосток |"
   ]
  },
  {
   "cell_type": "markdown",
   "metadata": {},
   "source": [
    "`2. Определю количество вылетов из каждого аэропорта:`\n",
    "\n",
    "```sql\n",
    "SELECT\n",
    "    departure_airport,\n",
    "    COUNT(flight_id) AS cnt_flights\n",
    "FROM\n",
    "    flights\n",
    "GROUP BY\n",
    "    departure_airport\n",
    "ORDER BY\n",
    "    cnt_flights DESC;\n",
    "```"
   ]
  },
  {
   "cell_type": "markdown",
   "metadata": {},
   "source": [
    "**Результат**\n",
    "\n",
    "| departure_airport | cnt_flights |\n",
    "| :-----:|:-----:|\n",
    "| DME | 6376 |\n",
    "| SVO | 5912 |\n",
    "| LED | 3769 |\n",
    "| VKO | 3405 |\n",
    "| OVB | 2091 |\n",
    "| KJA | 1401 |\n",
    "| SVX | 1367 |\n",
    "| PEE | 1228 |\n",
    "| ROV | 1227 |\n",
    "| BZK | 1210 |\n",
    "| ... | ... |\n",
    "| PKC | 52 |\n",
    "| NYA | 51 |\n",
    "| PYJ | 51 |\n",
    "| KXK | 35 |\n",
    "| USK | 34 |"
   ]
  },
  {
   "cell_type": "markdown",
   "metadata": {},
   "source": [
    "`3. Определю количество вылетов на каждой модели самолёта с вылетом в сентябре 2018 года:`\n",
    "\n",
    "```sql\n",
    "SELECT\n",
    "    aircrafts.model AS model,\n",
    "    COUNT(flights.flight_id) AS flights_amount\n",
    "FROM\n",
    "    (\n",
    "    SELECT\n",
    "        flight_id,\n",
    "        departure_airport,\n",
    "        departure_time,\n",
    "        arrival_airport,\n",
    "        arrival_time,\n",
    "        aircraft_code\n",
    "    FROM\n",
    "        flights\n",
    "    WHERE\n",
    "        CAST(DATE_TRUNC('month', flights.departure_time) AS date) = '2018-09-01') AS flights\n",
    "    LEFT JOIN aircrafts ON flights.aircraft_code = aircrafts.aircraft_code\n",
    "GROUP BY\n",
    "    aircrafts.model;\n",
    "```"
   ]
  },
  {
   "cell_type": "markdown",
   "metadata": {},
   "source": [
    "**Результат**\n",
    "\n",
    "| model | flights_amount |\n",
    "| :----- | :-----: |\n",
    "| Airbus A319-100 | 607 |\n",
    "| Airbus A321-200 | 960 |\n",
    "| Boeing 737-300 | 630 |\n",
    "| Boeing 767-300 | 600 |\n",
    "| Boeing 777-300 | 300 |\n",
    "| Bombardier CRJ-200 | 4446 |\n",
    "| Cessna 208 Caravan | 4557 |\n",
    "| Sukhoi SuperJet-100 | 4185 |\n"
   ]
  },
  {
   "cell_type": "markdown",
   "metadata": {},
   "source": [
    "`4. Определю количество рейсов по всем моделям самолётов Boeing, Airbus а другие объединю в категорию 'other' в сентябре:`\n",
    "\n",
    "```sql\n",
    "SELECT\n",
    "    COUNT(flights.flight_id) AS flights_amount,\n",
    "    CASE WHEN aircrafts.model LIKE 'Boeing%' THEN 'Boeing'\n",
    "    WHEN aircrafts.model LIKE 'Airbus%' THEN 'Airbus'\n",
    "    ELSE 'other'\n",
    "    END AS type_aircraft\n",
    "FROM\n",
    "    (\n",
    "    SELECT\n",
    "        flight_id,\n",
    "        aircraft_code\n",
    "    FROM\n",
    "        flights\n",
    "    WHERE\n",
    "        CAST(DATE_TRUNC('month', flights.departure_time) AS date) = '2018-09-01') AS flights\n",
    "    LEFT JOIN aircrafts ON flights.aircraft_code = aircrafts.aircraft_code\n",
    "GROUP BY\n",
    "    type_aircraft;\n",
    "```"
   ]
  },
  {
   "cell_type": "markdown",
   "metadata": {},
   "source": [
    "**Результат**\n",
    "\n",
    "| flights_amount | type_aircraft |\n",
    "| :-----: | :-----|\n",
    "| 1567 | Airbus |\n",
    "| 1530 | Boeing |\n",
    "| 13188 | other |\n"
   ]
  },
  {
   "cell_type": "markdown",
   "metadata": {},
   "source": [
    "`5. Определю количество прибывающих рейсов в день для каждого города за август 2018 года:`\n",
    "\n",
    "```sql\n",
    "SELECT\n",
    "    Q.city,\n",
    "    AVG(Q.light_id_day_cnt) AS average_flights\n",
    "FROM\n",
    "    (\n",
    "    SELECT\n",
    "        city,\n",
    "        EXTRACT(day FROM flights.arrival_time) AS day_number,\n",
    "        COUNT(flights.flight_id) AS light_id_day_cnt\n",
    "    FROM\n",
    "        flights\n",
    "        INNER JOIN airports ON flights.arrival_airport = airports.airport_code\n",
    "    WHERE\n",
    "        EXTRACT(month FROM flights.arrival_time) = '08'\n",
    "    GROUP BY\n",
    "        airports.city,\n",
    "        EXTRACT(day FROM flights.arrival_time)) AS Q\n",
    "GROUP BY\n",
    "    Q.city\n",
    "ORDER BY\n",
    "    average_flights DESC;\n",
    "```"
   ]
  },
  {
   "cell_type": "markdown",
   "metadata": {},
   "source": [
    "**Результат**\n",
    "\n",
    "| city | average_flights |\n",
    "| :----- | :-----: |\n",
    "| Москва | 129.774 |\n",
    "| Санкт-Петербург | 31.1613 |\n",
    "| Новосибирск | 17.3226 |\n",
    "| Красноярск | 11.5806 |\n",
    "| Екатеринбург | 11.3226 |\n",
    "| Ростов-на-Дону | 10.1935 |\n",
    "| Пермь | 10.129 |\n",
    "| Брянск | 10 |\n",
    "| Сочи | 9.6129 |\n",
    "| Ульяновск | 9.58065 |\n",
    "| ... | ... |\n",
    "| Нефтеюганск | 1 |\n",
    "| Петропавловск-Камчатский | 1 |\n",
    "| Усинск | 1 |\n",
    "| Усть-Кут | 1 |\n",
    "| Братск | 1 |"
   ]
  },
  {
   "cell_type": "markdown",
   "metadata": {},
   "source": [
    "`6. Определю фестивали, которые проходили с 23 июля по 30 сентября 2018 года в Москве, и номер недели, в которую они проходили:`\n",
    "\n",
    "```sql\n",
    "SELECT\n",
    "    festival_name,\n",
    "    EXTRACT(week FROM festival_date) AS festival_week\n",
    "FROM\n",
    "    festivals\n",
    "WHERE\n",
    "    festival_date BETWEEN '2018-07-23' AND '2018-09-30'\n",
    "    AND festival_city = 'Москва';\n",
    "```"
   ]
  },
  {
   "cell_type": "markdown",
   "metadata": {},
   "source": [
    "**Результат**\n",
    "\n",
    "| festival_name | festival_week |\n",
    "| :---- | :----: |\n",
    "| Park Live | 30 |\n",
    "| Пикник Афиши | 31 |\n",
    "| Видфест | 36 |"
   ]
  },
  {
   "cell_type": "markdown",
   "metadata": {},
   "source": [
    "`7. Определю для каждой недели с 23 июля по 30 сентября 2018 года количество билетов, купленных на рейсы в Москву. Добавлю в таблицу номер недели ещё раз, если в эту неделю проходил фестиваль, и nan, если не проходил; а также название фестиваля.`\n",
    "\n",
    "```sql\n",
    "SELECT\n",
    "    SBQ1.week_number AS week_number,\n",
    "    SBQ1.ticket_amount AS ticket_amount,\n",
    "    SBQ2.festival_week AS festival_week,\n",
    "    SBQ2.festival_name AS festival_name\n",
    "FROM\n",
    "    (SELECT\n",
    "        EXTRACT(week FROM flights.arrival_time) AS week_number,\n",
    "        COUNT(ticket_flights.ticket_no) AS ticket_amount\n",
    "    FROM\n",
    "        flights\n",
    "        INNER JOIN airports ON airports.airport_code = flights.arrival_airport\n",
    "        INNER JOIN ticket_flights ON ticket_flights.flight_id = flights.flight_id\n",
    "    WHERE\n",
    "        airports.city = 'Москва'\n",
    "        AND flights.arrival_time::date BETWEEN '2018-07-23' AND '2018-09-30'\n",
    "    GROUP BY\n",
    "        EXTRACT(week FROM flights.arrival_time)) AS SBQ1\n",
    "LEFT JOIN\n",
    "    (SELECT\n",
    "         EXTRACT(week FROM festival_date) AS festival_week,\n",
    "         festival_name\n",
    "     FROM\n",
    "         festivals\n",
    "     WHERE\n",
    "         festival_city = 'Москва'\n",
    "         AND festival_date BETWEEN '2018-07-23' AND '2018-09-30'\n",
    "    ) AS SBQ2\n",
    "    ON SBQ1.week_number = SBQ2.festival_week\n",
    "ORDER BY\n",
    "    week_number ASC;\n",
    "```"
   ]
  },
  {
   "cell_type": "markdown",
   "metadata": {},
   "source": [
    "**Результат**\n",
    "\n",
    "| week_number | ticket_amount | festival_week | festival_name |\n",
    "| :-----: | :-----: |  :-----: |  :-----: |\n",
    "| 30 | 43568 | 30 | Park Live |\n",
    "| 31 | 51034 | 31 | Пикник Афиши |\n",
    "| 32 | 51675 | nan |  |\n",
    "| 33 | 51378 | nan |  |\n",
    "| 34 | 51492 | nan |  |\n",
    "| 35 | 51360 | nan |  |\n",
    "| 36 | 51386 | 36 | Видфест |\n",
    "| 37 | 51670 | nan |  |\n",
    "| 38 | 51518 | nan |  |\n",
    "| 39 | 51623 | nan |  |"
   ]
  },
  {
   "cell_type": "markdown",
   "metadata": {},
   "source": [
    "**Выводы**\n",
    "\n",
    "Определены количество вылетов из каждого аэропорта за 2018 год. 10 Самыми популярными являются аэропорты: DME, SVO, LED, VKO, OVB, KJA, SVX, PEE, ROV, BZK.\n",
    "\n",
    "Определены количество вылетов на каждой модели самолёта. Моделями с самым большим количеством вылетов являются: Bombardier CRJ-200, Cessna 208 Caravan, Sukhoi SuperJet-100.\n",
    "\n",
    "На самолётах моделей Airbus было совершено 1567 вылетов, на Boeing1530, на всех остальных 13188 вылетов.\n",
    "\n",
    "Определено среднее количество прибывающих рейсов в день для каждого города за август 2018 года. 10 Самыми нагруженными городами являются: Москва, Санкт-Петербург, Новосибирск, Красноярск, Екатеринбург, Ростов-на-Дону, Пермь, Брянск, Сочи, Ульяновск.\n",
    "\n",
    "Определены фестивали, которые проходили с 23 июля по 30 сентября 2018 года в Москве: Park Live, Пикник Афиши, Видфест.\n",
    "\n",
    "Подготовлена таблица с количеством проданных билетов и неделями когда проходил фестиваль или когда фестивалей не было."
   ]
  },
  {
   "cell_type": "markdown",
   "metadata": {},
   "source": [
    "## Аналитика средствами Python\n",
    "Используя полученные раннее данные из базы данных, проанализирую спрос пассажиров на рейсы в города, где проходят крупнейшие фестивали."
   ]
  },
  {
   "cell_type": "markdown",
   "metadata": {},
   "source": [
    "### Загрузка и изучение данных"
   ]
  },
  {
   "cell_type": "markdown",
   "metadata": {},
   "source": [
    "Отключение вывода в прокручиваемом окне:"
   ]
  },
  {
   "cell_type": "code",
   "execution_count": 4,
   "metadata": {},
   "outputs": [
    {
     "data": {
      "application/javascript": [
       "IPython.OutputArea.prototype._should_scroll = function(lines) {\n",
       "    return false;\n",
       "}\n"
      ],
      "text/plain": [
       "<IPython.core.display.Javascript object>"
      ]
     },
     "metadata": {},
     "output_type": "display_data"
    }
   ],
   "source": [
    "%%javascript\n",
    "IPython.OutputArea.prototype._should_scroll = function(lines) {\n",
    "    return false;\n",
    "}"
   ]
  },
  {
   "cell_type": "code",
   "execution_count": 5,
   "metadata": {},
   "outputs": [],
   "source": [
    "# Команда для игнорирования предупреждений \n",
    "import warnings\n",
    "warnings.filterwarnings('ignore')"
   ]
  },
  {
   "cell_type": "code",
   "execution_count": 6,
   "metadata": {},
   "outputs": [],
   "source": [
    "try:\n",
    "    df_1 = pd.read_csv('/datasets/query_1.csv')\n",
    "    df_2 = pd.read_csv('/datasets/query_3.csv')\n",
    "except:\n",
    "    df_1 = pd.read_csv('D:/DF_practicum/5/query_1.csv')\n",
    "    df_2 = pd.read_csv('D:/DF_practicum/5/query_3.csv')"
   ]
  },
  {
   "cell_type": "markdown",
   "metadata": {},
   "source": [
    "**Описание данных**"
   ]
  },
  {
   "cell_type": "markdown",
   "metadata": {},
   "source": [
    "В df_1 содержится следующая информация:\n",
    "\n",
    "- `model` — модели самолета\n",
    "- `flights_amount` — количество рейсов для каждой модели самолетов в сентябре 2018 года"
   ]
  },
  {
   "cell_type": "code",
   "execution_count": 7,
   "metadata": {},
   "outputs": [
    {
     "data": {
      "text/html": [
       "<div>\n",
       "<style scoped>\n",
       "    .dataframe tbody tr th:only-of-type {\n",
       "        vertical-align: middle;\n",
       "    }\n",
       "\n",
       "    .dataframe tbody tr th {\n",
       "        vertical-align: top;\n",
       "    }\n",
       "\n",
       "    .dataframe thead th {\n",
       "        text-align: right;\n",
       "    }\n",
       "</style>\n",
       "<table border=\"1\" class=\"dataframe\">\n",
       "  <thead>\n",
       "    <tr style=\"text-align: right;\">\n",
       "      <th></th>\n",
       "      <th>model</th>\n",
       "      <th>flights_amount</th>\n",
       "    </tr>\n",
       "  </thead>\n",
       "  <tbody>\n",
       "    <tr>\n",
       "      <th>0</th>\n",
       "      <td>Airbus A319-100</td>\n",
       "      <td>607</td>\n",
       "    </tr>\n",
       "    <tr>\n",
       "      <th>1</th>\n",
       "      <td>Airbus A321-200</td>\n",
       "      <td>960</td>\n",
       "    </tr>\n",
       "    <tr>\n",
       "      <th>2</th>\n",
       "      <td>Boeing 737-300</td>\n",
       "      <td>630</td>\n",
       "    </tr>\n",
       "    <tr>\n",
       "      <th>3</th>\n",
       "      <td>Boeing 767-300</td>\n",
       "      <td>600</td>\n",
       "    </tr>\n",
       "    <tr>\n",
       "      <th>4</th>\n",
       "      <td>Boeing 777-300</td>\n",
       "      <td>300</td>\n",
       "    </tr>\n",
       "    <tr>\n",
       "      <th>5</th>\n",
       "      <td>Bombardier CRJ-200</td>\n",
       "      <td>4446</td>\n",
       "    </tr>\n",
       "    <tr>\n",
       "      <th>6</th>\n",
       "      <td>Cessna 208 Caravan</td>\n",
       "      <td>4557</td>\n",
       "    </tr>\n",
       "    <tr>\n",
       "      <th>7</th>\n",
       "      <td>Sukhoi SuperJet-100</td>\n",
       "      <td>4185</td>\n",
       "    </tr>\n",
       "  </tbody>\n",
       "</table>\n",
       "</div>"
      ],
      "text/plain": [
       "                 model  flights_amount\n",
       "0      Airbus A319-100             607\n",
       "1      Airbus A321-200             960\n",
       "2       Boeing 737-300             630\n",
       "3       Boeing 767-300             600\n",
       "4       Boeing 777-300             300\n",
       "5   Bombardier CRJ-200            4446\n",
       "6   Cessna 208 Caravan            4557\n",
       "7  Sukhoi SuperJet-100            4185"
      ]
     },
     "metadata": {},
     "output_type": "display_data"
    },
    {
     "name": "stdout",
     "output_type": "stream",
     "text": [
      "<class 'pandas.core.frame.DataFrame'>\n",
      "RangeIndex: 8 entries, 0 to 7\n",
      "Data columns (total 2 columns):\n",
      " #   Column          Non-Null Count  Dtype \n",
      "---  ------          --------------  ----- \n",
      " 0   model           8 non-null      object\n",
      " 1   flights_amount  8 non-null      int64 \n",
      "dtypes: int64(1), object(1)\n",
      "memory usage: 256.0+ bytes\n",
      "None\n"
     ]
    }
   ],
   "source": [
    "display(df_1)\n",
    "print(df_1.info())"
   ]
  },
  {
   "cell_type": "markdown",
   "metadata": {},
   "source": [
    "В df_2 содержится следующая информация:\n",
    "- `city` — город\n",
    "- `average_flights` — среднее количество рейсов, прибывающих в город city за день в августе 2018 года"
   ]
  },
  {
   "cell_type": "code",
   "execution_count": 8,
   "metadata": {},
   "outputs": [
    {
     "data": {
      "text/html": [
       "<div>\n",
       "<style scoped>\n",
       "    .dataframe tbody tr th:only-of-type {\n",
       "        vertical-align: middle;\n",
       "    }\n",
       "\n",
       "    .dataframe tbody tr th {\n",
       "        vertical-align: top;\n",
       "    }\n",
       "\n",
       "    .dataframe thead th {\n",
       "        text-align: right;\n",
       "    }\n",
       "</style>\n",
       "<table border=\"1\" class=\"dataframe\">\n",
       "  <thead>\n",
       "    <tr style=\"text-align: right;\">\n",
       "      <th></th>\n",
       "      <th>city</th>\n",
       "      <th>average_flights</th>\n",
       "    </tr>\n",
       "  </thead>\n",
       "  <tbody>\n",
       "    <tr>\n",
       "      <th>0</th>\n",
       "      <td>Абакан</td>\n",
       "      <td>3.870968</td>\n",
       "    </tr>\n",
       "    <tr>\n",
       "      <th>1</th>\n",
       "      <td>Анадырь</td>\n",
       "      <td>1.000000</td>\n",
       "    </tr>\n",
       "    <tr>\n",
       "      <th>2</th>\n",
       "      <td>Анапа</td>\n",
       "      <td>2.161290</td>\n",
       "    </tr>\n",
       "    <tr>\n",
       "      <th>3</th>\n",
       "      <td>Архангельск</td>\n",
       "      <td>5.354839</td>\n",
       "    </tr>\n",
       "    <tr>\n",
       "      <th>4</th>\n",
       "      <td>Астрахань</td>\n",
       "      <td>2.451613</td>\n",
       "    </tr>\n",
       "    <tr>\n",
       "      <th>...</th>\n",
       "      <td>...</td>\n",
       "      <td>...</td>\n",
       "    </tr>\n",
       "    <tr>\n",
       "      <th>96</th>\n",
       "      <td>Чита</td>\n",
       "      <td>1.580645</td>\n",
       "    </tr>\n",
       "    <tr>\n",
       "      <th>97</th>\n",
       "      <td>Элиста</td>\n",
       "      <td>4.870968</td>\n",
       "    </tr>\n",
       "    <tr>\n",
       "      <th>98</th>\n",
       "      <td>Южно-Сахалинск</td>\n",
       "      <td>4.290323</td>\n",
       "    </tr>\n",
       "    <tr>\n",
       "      <th>99</th>\n",
       "      <td>Якутск</td>\n",
       "      <td>2.741935</td>\n",
       "    </tr>\n",
       "    <tr>\n",
       "      <th>100</th>\n",
       "      <td>Ярославль</td>\n",
       "      <td>1.322581</td>\n",
       "    </tr>\n",
       "  </tbody>\n",
       "</table>\n",
       "<p>101 rows × 2 columns</p>\n",
       "</div>"
      ],
      "text/plain": [
       "               city  average_flights\n",
       "0            Абакан         3.870968\n",
       "1           Анадырь         1.000000\n",
       "2             Анапа         2.161290\n",
       "3       Архангельск         5.354839\n",
       "4         Астрахань         2.451613\n",
       "..              ...              ...\n",
       "96             Чита         1.580645\n",
       "97           Элиста         4.870968\n",
       "98   Южно-Сахалинск         4.290323\n",
       "99           Якутск         2.741935\n",
       "100       Ярославль         1.322581\n",
       "\n",
       "[101 rows x 2 columns]"
      ]
     },
     "metadata": {},
     "output_type": "display_data"
    },
    {
     "name": "stdout",
     "output_type": "stream",
     "text": [
      "<class 'pandas.core.frame.DataFrame'>\n",
      "RangeIndex: 101 entries, 0 to 100\n",
      "Data columns (total 2 columns):\n",
      " #   Column           Non-Null Count  Dtype  \n",
      "---  ------           --------------  -----  \n",
      " 0   city             101 non-null    object \n",
      " 1   average_flights  101 non-null    float64\n",
      "dtypes: float64(1), object(1)\n",
      "memory usage: 1.7+ KB\n",
      "None\n"
     ]
    }
   ],
   "source": [
    "display(df_2)\n",
    "print(df_2.info())"
   ]
  },
  {
   "cell_type": "markdown",
   "metadata": {},
   "source": [
    "**Выводы**\n",
    "\n",
    "- В данных пропусков нет\n",
    "- В столбце average_flights необходимо округлить значения\n",
    "- В столбцах model и city присутствуют заглавные буквы"
   ]
  },
  {
   "cell_type": "markdown",
   "metadata": {},
   "source": [
    "### ТОП-10 городов и построение графиков"
   ]
  },
  {
   "cell_type": "code",
   "execution_count": 9,
   "metadata": {},
   "outputs": [
    {
     "data": {
      "text/html": [
       "<div>\n",
       "<style scoped>\n",
       "    .dataframe tbody tr th:only-of-type {\n",
       "        vertical-align: middle;\n",
       "    }\n",
       "\n",
       "    .dataframe tbody tr th {\n",
       "        vertical-align: top;\n",
       "    }\n",
       "\n",
       "    .dataframe thead th {\n",
       "        text-align: right;\n",
       "    }\n",
       "</style>\n",
       "<table border=\"1\" class=\"dataframe\">\n",
       "  <thead>\n",
       "    <tr style=\"text-align: right;\">\n",
       "      <th></th>\n",
       "      <th>city</th>\n",
       "      <th>average_flights</th>\n",
       "    </tr>\n",
       "  </thead>\n",
       "  <tbody>\n",
       "    <tr>\n",
       "      <th>43</th>\n",
       "      <td>Москва</td>\n",
       "      <td>129.77</td>\n",
       "    </tr>\n",
       "    <tr>\n",
       "      <th>70</th>\n",
       "      <td>Санкт-Петербург</td>\n",
       "      <td>31.16</td>\n",
       "    </tr>\n",
       "    <tr>\n",
       "      <th>54</th>\n",
       "      <td>Новосибирск</td>\n",
       "      <td>17.32</td>\n",
       "    </tr>\n",
       "    <tr>\n",
       "      <th>33</th>\n",
       "      <td>Красноярск</td>\n",
       "      <td>11.58</td>\n",
       "    </tr>\n",
       "    <tr>\n",
       "      <th>20</th>\n",
       "      <td>Екатеринбург</td>\n",
       "      <td>11.32</td>\n",
       "    </tr>\n",
       "    <tr>\n",
       "      <th>67</th>\n",
       "      <td>Ростов-на-Дону</td>\n",
       "      <td>10.19</td>\n",
       "    </tr>\n",
       "    <tr>\n",
       "      <th>63</th>\n",
       "      <td>Пермь</td>\n",
       "      <td>10.13</td>\n",
       "    </tr>\n",
       "    <tr>\n",
       "      <th>10</th>\n",
       "      <td>Брянск</td>\n",
       "      <td>10.00</td>\n",
       "    </tr>\n",
       "    <tr>\n",
       "      <th>74</th>\n",
       "      <td>Сочи</td>\n",
       "      <td>9.61</td>\n",
       "    </tr>\n",
       "    <tr>\n",
       "      <th>84</th>\n",
       "      <td>Ульяновск</td>\n",
       "      <td>9.58</td>\n",
       "    </tr>\n",
       "  </tbody>\n",
       "</table>\n",
       "</div>"
      ],
      "text/plain": [
       "               city  average_flights\n",
       "43           Москва           129.77\n",
       "70  Санкт-Петербург            31.16\n",
       "54      Новосибирск            17.32\n",
       "33       Красноярск            11.58\n",
       "20     Екатеринбург            11.32\n",
       "67   Ростов-на-Дону            10.19\n",
       "63            Пермь            10.13\n",
       "10           Брянск            10.00\n",
       "74             Сочи             9.61\n",
       "84        Ульяновск             9.58"
      ]
     },
     "metadata": {},
     "output_type": "display_data"
    }
   ],
   "source": [
    "# Округление\n",
    "df_2['average_flights'] = round(df_2['average_flights'], 2)\n",
    "# Топ-10 городов\n",
    "df_top_10_city = df_2.sort_values(by = 'average_flights', ascending = False).head(10)\n",
    "display(df_top_10_city)"
   ]
  },
  {
   "cell_type": "markdown",
   "metadata": {},
   "source": [
    "### Диаграмма моделей самолетов и количества рейсов"
   ]
  },
  {
   "cell_type": "code",
   "execution_count": 10,
   "metadata": {},
   "outputs": [
    {
     "data": {
      "image/png": "[encoded data removed]",
      "text/plain": [
       "<Figure size 1224x432 with 1 Axes>"
      ]
     },
     "metadata": {
      "needs_background": "light"
     },
     "output_type": "display_data"
    }
   ],
   "source": [
    "# Сортировка данных по убыванию\n",
    "df_1 = df_1.sort_values(by='flights_amount', ascending=False)\n",
    "\n",
    "# Построение столбчатой диаграммы\n",
    "fig_1, axes = plt.subplots(nrows = 1, ncols = 1, figsize = (17, 6))\n",
    "axes.bar(df_1['model'], df_1['flights_amount'])\n",
    "axes.set_title('Schedule number of aircraft flights')\n",
    "axes.set_xlabel('Name of the aircraft model')\n",
    "axes.set_ylabel('Number of flights in September')\n",
    "axes.grid()"
   ]
  },
  {
   "cell_type": "markdown",
   "metadata": {},
   "source": [
    "**Выводы**\n",
    "\n",
    "Самолёты Cessna 208 Caravan, Bombardier CRJ-200, Sukhoi SuperJet-100 в сентябре совершили больше всех рейсов 4557, 446, 4185 соответственно. В то время как остальные модели совершали менее 1000 полётов в сентябре. Но вместительность этих трёх моделей от 10 до 50 пассажиров, а у моделей Boeing и Airbus от 150 до 450 пассажиров.\n",
    "\n",
    "Маленькие самолёты совершают намного больше рейсов, что бы перевозить людей по менее популярным маршрутам, там, где нет смысла использовать вместительные самолёты, в то время как Boeing и Airbus летают реже, но за раз перевозят много пассажиров на популярных рейсах."
   ]
  },
  {
   "cell_type": "markdown",
   "metadata": {},
   "source": [
    "### Диаграмма городов и количества рейсов"
   ]
  },
  {
   "cell_type": "code",
   "execution_count": 11,
   "metadata": {
    "scrolled": true
   },
   "outputs": [
    {
     "data": {
      "image/png": "[encoded data removed]",
      "text/plain": [
       "<Figure size 1080x2160 with 1 Axes>"
      ]
     },
     "metadata": {
      "needs_background": "light"
     },
     "output_type": "display_data"
    }
   ],
   "source": [
    "# Сортировка данных\n",
    "df_2 = df_2.sort_values(by='average_flights')\n",
    "# Построение стобчатой диаграммы\n",
    "fig_2, axes=plt.subplots(nrows=1, ncols=1, figsize=(15, 30))\n",
    "axes.barh(df_2['city'], df_2['average_flights'])\n",
    "axes.set_title('Number of flights per day by city')\n",
    "axes.set_xlabel('Average number of flights per day')\n",
    "axes.set_xticks([0, 3, 5, 10, 15, 20, 40, 60, 80, 100, 120])\n",
    "axes.set_ylabel('Name of the city')\n",
    "axes.grid();"
   ]
  },
  {
   "cell_type": "code",
   "execution_count": 12,
   "metadata": {},
   "outputs": [
    {
     "data": {
      "text/html": [
       "<div>\n",
       "<style scoped>\n",
       "    .dataframe tbody tr th:only-of-type {\n",
       "        vertical-align: middle;\n",
       "    }\n",
       "\n",
       "    .dataframe tbody tr th {\n",
       "        vertical-align: top;\n",
       "    }\n",
       "\n",
       "    .dataframe thead th {\n",
       "        text-align: right;\n",
       "    }\n",
       "</style>\n",
       "<table border=\"1\" class=\"dataframe\">\n",
       "  <thead>\n",
       "    <tr style=\"text-align: right;\">\n",
       "      <th></th>\n",
       "      <th>city</th>\n",
       "      <th>average_flights</th>\n",
       "    </tr>\n",
       "  </thead>\n",
       "  <tbody>\n",
       "    <tr>\n",
       "      <th>43</th>\n",
       "      <td>Москва</td>\n",
       "      <td>129.77</td>\n",
       "    </tr>\n",
       "    <tr>\n",
       "      <th>70</th>\n",
       "      <td>Санкт-Петербург</td>\n",
       "      <td>31.16</td>\n",
       "    </tr>\n",
       "    <tr>\n",
       "      <th>54</th>\n",
       "      <td>Новосибирск</td>\n",
       "      <td>17.32</td>\n",
       "    </tr>\n",
       "    <tr>\n",
       "      <th>33</th>\n",
       "      <td>Красноярск</td>\n",
       "      <td>11.58</td>\n",
       "    </tr>\n",
       "    <tr>\n",
       "      <th>20</th>\n",
       "      <td>Екатеринбург</td>\n",
       "      <td>11.32</td>\n",
       "    </tr>\n",
       "    <tr>\n",
       "      <th>...</th>\n",
       "      <td>...</td>\n",
       "      <td>...</td>\n",
       "    </tr>\n",
       "    <tr>\n",
       "      <th>9</th>\n",
       "      <td>Братск</td>\n",
       "      <td>1.00</td>\n",
       "    </tr>\n",
       "    <tr>\n",
       "      <th>21</th>\n",
       "      <td>Иваново</td>\n",
       "      <td>1.00</td>\n",
       "    </tr>\n",
       "    <tr>\n",
       "      <th>58</th>\n",
       "      <td>Нягань</td>\n",
       "      <td>1.00</td>\n",
       "    </tr>\n",
       "    <tr>\n",
       "      <th>86</th>\n",
       "      <td>Усинск</td>\n",
       "      <td>1.00</td>\n",
       "    </tr>\n",
       "    <tr>\n",
       "      <th>8</th>\n",
       "      <td>Благовещенск</td>\n",
       "      <td>1.00</td>\n",
       "    </tr>\n",
       "  </tbody>\n",
       "</table>\n",
       "<p>101 rows × 2 columns</p>\n",
       "</div>"
      ],
      "text/plain": [
       "               city  average_flights\n",
       "43           Москва           129.77\n",
       "70  Санкт-Петербург            31.16\n",
       "54      Новосибирск            17.32\n",
       "33       Красноярск            11.58\n",
       "20     Екатеринбург            11.32\n",
       "..              ...              ...\n",
       "9            Братск             1.00\n",
       "21          Иваново             1.00\n",
       "58           Нягань             1.00\n",
       "86           Усинск             1.00\n",
       "8      Благовещенск             1.00\n",
       "\n",
       "[101 rows x 2 columns]"
      ]
     },
     "execution_count": 12,
     "metadata": {},
     "output_type": "execute_result"
    }
   ],
   "source": [
    "df_2.sort_values(by='average_flights', ascending=False)"
   ]
  },
  {
   "cell_type": "markdown",
   "metadata": {},
   "source": [
    "**Выводы**\n",
    "\n",
    "В Москву прибывает самое большое количество рейсов в день - 130. Затем идёт Санкт-Петербург - 31 и Новосибирск - 17. Все остальные города имеют меньше 12 прилётов в день в среднем. Таким образом, аэропорты Москвы являются самыми нагруженными. Низ списка замыкают города с 1 прилётом в день."
   ]
  },
  {
   "cell_type": "markdown",
   "metadata": {},
   "source": [
    "### Диаграмма ТОП-10 городов и количества рейсов"
   ]
  },
  {
   "cell_type": "code",
   "execution_count": 13,
   "metadata": {},
   "outputs": [
    {
     "data": {
      "text/html": [
       "<div>\n",
       "<style scoped>\n",
       "    .dataframe tbody tr th:only-of-type {\n",
       "        vertical-align: middle;\n",
       "    }\n",
       "\n",
       "    .dataframe tbody tr th {\n",
       "        vertical-align: top;\n",
       "    }\n",
       "\n",
       "    .dataframe thead th {\n",
       "        text-align: right;\n",
       "    }\n",
       "</style>\n",
       "<table border=\"1\" class=\"dataframe\">\n",
       "  <thead>\n",
       "    <tr style=\"text-align: right;\">\n",
       "      <th></th>\n",
       "      <th>city</th>\n",
       "      <th>average_flights</th>\n",
       "    </tr>\n",
       "  </thead>\n",
       "  <tbody>\n",
       "    <tr>\n",
       "      <th>43</th>\n",
       "      <td>Москва</td>\n",
       "      <td>129.77</td>\n",
       "    </tr>\n",
       "    <tr>\n",
       "      <th>70</th>\n",
       "      <td>Санкт-Петербург</td>\n",
       "      <td>31.16</td>\n",
       "    </tr>\n",
       "    <tr>\n",
       "      <th>54</th>\n",
       "      <td>Новосибирск</td>\n",
       "      <td>17.32</td>\n",
       "    </tr>\n",
       "    <tr>\n",
       "      <th>33</th>\n",
       "      <td>Красноярск</td>\n",
       "      <td>11.58</td>\n",
       "    </tr>\n",
       "    <tr>\n",
       "      <th>20</th>\n",
       "      <td>Екатеринбург</td>\n",
       "      <td>11.32</td>\n",
       "    </tr>\n",
       "    <tr>\n",
       "      <th>67</th>\n",
       "      <td>Ростов-на-Дону</td>\n",
       "      <td>10.19</td>\n",
       "    </tr>\n",
       "    <tr>\n",
       "      <th>63</th>\n",
       "      <td>Пермь</td>\n",
       "      <td>10.13</td>\n",
       "    </tr>\n",
       "    <tr>\n",
       "      <th>10</th>\n",
       "      <td>Брянск</td>\n",
       "      <td>10.00</td>\n",
       "    </tr>\n",
       "    <tr>\n",
       "      <th>74</th>\n",
       "      <td>Сочи</td>\n",
       "      <td>9.61</td>\n",
       "    </tr>\n",
       "    <tr>\n",
       "      <th>84</th>\n",
       "      <td>Ульяновск</td>\n",
       "      <td>9.58</td>\n",
       "    </tr>\n",
       "  </tbody>\n",
       "</table>\n",
       "</div>"
      ],
      "text/plain": [
       "               city  average_flights\n",
       "43           Москва           129.77\n",
       "70  Санкт-Петербург            31.16\n",
       "54      Новосибирск            17.32\n",
       "33       Красноярск            11.58\n",
       "20     Екатеринбург            11.32\n",
       "67   Ростов-на-Дону            10.19\n",
       "63            Пермь            10.13\n",
       "10           Брянск            10.00\n",
       "74             Сочи             9.61\n",
       "84        Ульяновск             9.58"
      ]
     },
     "metadata": {},
     "output_type": "display_data"
    },
    {
     "data": {
      "image/png": "[encoded data removed]",
      "text/plain": [
       "<Figure size 1080x720 with 1 Axes>"
      ]
     },
     "metadata": {
      "needs_background": "light"
     },
     "output_type": "display_data"
    }
   ],
   "source": [
    "display(df_top_10_city)\n",
    "# Построение столбчатой диаграммы\n",
    "fig_3, axes=plt.subplots(nrows=1, ncols=1, figsize=(15, 10))\n",
    "axes.bar(df_top_10_city['city'], df_top_10_city['average_flights'])\n",
    "axes.set_title('Number of flights per day by city for the top 10 cities')\n",
    "axes.set_xlabel('Name of the city')\n",
    "axes.set_ylabel('Average number of flights per day')\n",
    "axes.set_yticks([0, 10, 20, 30, 40, 60, 80, 100, 120])\n",
    "axes.set_xticklabels(df_top_10_city['city'], rotation='vertical')\n",
    "axes.grid()"
   ]
  },
  {
   "cell_type": "markdown",
   "metadata": {},
   "source": [
    "**Выводы**\n",
    "\n",
    "В топ-10 городов по количеству рейсов в день вошли: Москва, Санкт-Петербург, Новосибирск, Красноярск, Екатеринбург, Ростов-на-Дону, Пермь, Брянск, Сочи, Ульяновск. В Москве и Ульяновске 130 и 10 рейсов соответственно. При этом сильно отличающимися городами помимо Москвы являются Санкт-Петербург и Новосибирск с количеством рейсов 31 и 17 соответственно. Все остальные города имеют около 10-12 рейсов.\n",
    "\n",
    "Сильно отличающиеся города Москва, Санкт-Петербург имеют, и самое большое население по городам в стране и являются крупнейшими экономическими и культурными центрами. Новосибирск – это крупнейший город Сибири и третий по численности в России. Из-за этого, количество рейсов в этих городах больше, чем в остальных."
   ]
  },
  {
   "cell_type": "markdown",
   "metadata": {},
   "source": [
    "## Общий вывод\n",
    "Данные представлены за Август 2018 года. В этом месяце проходили 4 фестиваля \"Фестиваль музыки и технологий Alfa Future People\" в Нижнем Новгороде, \"Пикник Афиши\" в Москве, \"Фестиваль «О, да! Еда!»\" в Иркутске и «Нашествие 2018» в Твери. Резко выбивающихся значений среднего количества полётов относительно других городов по ним не наблюдается, за исключением Москвы. Но, Москва, город, резко отличающийся от остальных по всем параметрам, и среднее количество полётов равное 130 вызвано тем, что он является экономическим и культурным центром страны.\n",
    "\n",
    "Проведение фестиваля существенно не влияет на среднее количество рейсов в этот город.\n",
    "\n",
    "Маловместительные самолёты совершают больше рейсов, чем большие, такие как Boeing и Airbus. Большие самолёты, используются на популярных рейсах, что бы перевозить за раз больше пассажиров."
   ]
  }
 ],
 "metadata": {
  "ExecuteTimeLog": [
   {
    "duration": 662,
    "start_time": "2021-10-18T09:27:05.015Z"
   },
   {
    "duration": 28,
    "start_time": "2021-10-18T09:27:08.416Z"
   },
   {
    "duration": 16,
    "start_time": "2021-10-18T09:28:55.072Z"
   },
   {
    "duration": 16,
    "start_time": "2021-10-18T09:31:29.512Z"
   },
   {
    "duration": 30,
    "start_time": "2021-10-18T09:32:42.853Z"
   },
   {
    "duration": 3,
    "start_time": "2021-10-18T09:32:59.906Z"
   },
   {
    "duration": 35,
    "start_time": "2021-10-18T09:32:59.911Z"
   },
   {
    "duration": 18,
    "start_time": "2021-10-18T09:32:59.948Z"
   },
   {
    "duration": 18,
    "start_time": "2021-10-18T09:35:54.054Z"
   },
   {
    "duration": 1165,
    "start_time": "2021-10-18T09:36:43.764Z"
   },
   {
    "duration": 16,
    "start_time": "2021-10-18T09:36:55.488Z"
   },
   {
    "duration": 90,
    "start_time": "2021-10-18T09:37:02.895Z"
   },
   {
    "duration": 19,
    "start_time": "2021-10-18T09:37:14.267Z"
   },
   {
    "duration": 16,
    "start_time": "2021-10-18T09:37:35.571Z"
   },
   {
    "duration": 17,
    "start_time": "2021-10-18T09:40:43.263Z"
   },
   {
    "duration": 10,
    "start_time": "2021-10-18T09:41:39.636Z"
   },
   {
    "duration": 12,
    "start_time": "2021-10-18T09:42:22.827Z"
   },
   {
    "duration": 2,
    "start_time": "2021-10-18T09:43:16.088Z"
   },
   {
    "duration": 52,
    "start_time": "2021-10-18T09:43:16.093Z"
   },
   {
    "duration": 36,
    "start_time": "2021-10-18T09:43:16.146Z"
   },
   {
    "duration": 24,
    "start_time": "2021-10-18T09:43:16.184Z"
   },
   {
    "duration": 30,
    "start_time": "2021-10-18T09:51:39.941Z"
   },
   {
    "duration": 2,
    "start_time": "2021-10-18T09:55:07.623Z"
   },
   {
    "duration": 7,
    "start_time": "2021-10-18T09:59:27.448Z"
   },
   {
    "duration": 353,
    "start_time": "2021-10-18T09:59:55.009Z"
   },
   {
    "duration": 299,
    "start_time": "2021-10-18T10:00:06.009Z"
   },
   {
    "duration": 4,
    "start_time": "2021-10-18T10:00:30.187Z"
   },
   {
    "duration": 8,
    "start_time": "2021-10-18T10:00:35.799Z"
   },
   {
    "duration": 8,
    "start_time": "2021-10-18T10:02:37.502Z"
   },
   {
    "duration": 9,
    "start_time": "2021-10-18T10:02:49.566Z"
   },
   {
    "duration": 8,
    "start_time": "2021-10-18T10:02:57.872Z"
   },
   {
    "duration": 9,
    "start_time": "2021-10-18T10:03:08.166Z"
   },
   {
    "duration": 10,
    "start_time": "2021-10-18T10:03:14.468Z"
   },
   {
    "duration": 11,
    "start_time": "2021-10-18T10:03:24.692Z"
   },
   {
    "duration": 10,
    "start_time": "2021-10-18T10:03:45.844Z"
   },
   {
    "duration": 8,
    "start_time": "2021-10-18T10:03:51.211Z"
   },
   {
    "duration": 240,
    "start_time": "2021-10-18T10:07:55.828Z"
   },
   {
    "duration": 167,
    "start_time": "2021-10-18T10:08:54.685Z"
   },
   {
    "duration": 170,
    "start_time": "2021-10-18T10:09:07.487Z"
   },
   {
    "duration": 496,
    "start_time": "2021-10-18T10:09:27.323Z"
   },
   {
    "duration": 217,
    "start_time": "2021-10-18T10:09:31.924Z"
   },
   {
    "duration": 170,
    "start_time": "2021-10-18T10:09:40.009Z"
   },
   {
    "duration": 192,
    "start_time": "2021-10-18T10:09:51.028Z"
   },
   {
    "duration": 198,
    "start_time": "2021-10-18T10:09:59.031Z"
   },
   {
    "duration": 93,
    "start_time": "2021-10-18T10:10:40.814Z"
   },
   {
    "duration": 207,
    "start_time": "2021-10-18T10:10:45.174Z"
   },
   {
    "duration": 184,
    "start_time": "2021-10-18T10:10:57.843Z"
   },
   {
    "duration": 185,
    "start_time": "2021-10-18T10:15:33.691Z"
   },
   {
    "duration": 157,
    "start_time": "2021-10-18T10:15:47.506Z"
   },
   {
    "duration": 206,
    "start_time": "2021-10-18T10:15:57.091Z"
   },
   {
    "duration": 213,
    "start_time": "2021-10-18T10:16:05.323Z"
   },
   {
    "duration": 228,
    "start_time": "2021-10-18T10:17:00.154Z"
   },
   {
    "duration": 283,
    "start_time": "2021-10-18T10:17:08.403Z"
   },
   {
    "duration": 254,
    "start_time": "2021-10-18T10:24:54.809Z"
   },
   {
    "duration": 3,
    "start_time": "2021-10-18T10:25:03.953Z"
   },
   {
    "duration": 31,
    "start_time": "2021-10-18T10:25:03.958Z"
   },
   {
    "duration": 15,
    "start_time": "2021-10-18T10:25:03.991Z"
   },
   {
    "duration": 11,
    "start_time": "2021-10-18T10:25:04.007Z"
   },
   {
    "duration": 6,
    "start_time": "2021-10-18T10:25:04.020Z"
   },
   {
    "duration": 260,
    "start_time": "2021-10-18T10:25:04.028Z"
   },
   {
    "duration": 2,
    "start_time": "2021-10-18T10:25:29.600Z"
   },
   {
    "duration": 32,
    "start_time": "2021-10-18T10:25:29.604Z"
   },
   {
    "duration": 13,
    "start_time": "2021-10-18T10:25:29.637Z"
   },
   {
    "duration": 14,
    "start_time": "2021-10-18T10:25:29.652Z"
   },
   {
    "duration": 9,
    "start_time": "2021-10-18T10:25:29.668Z"
   },
   {
    "duration": 440,
    "start_time": "2021-10-18T10:25:29.679Z"
   },
   {
    "duration": 3,
    "start_time": "2021-10-18T10:25:59.753Z"
   },
   {
    "duration": 47,
    "start_time": "2021-10-18T10:25:59.758Z"
   },
   {
    "duration": 35,
    "start_time": "2021-10-18T10:25:59.807Z"
   },
   {
    "duration": 28,
    "start_time": "2021-10-18T10:25:59.844Z"
   },
   {
    "duration": 28,
    "start_time": "2021-10-18T10:25:59.873Z"
   },
   {
    "duration": 224,
    "start_time": "2021-10-18T10:25:59.903Z"
   },
   {
    "duration": 679,
    "start_time": "2021-10-18T10:26:29.161Z"
   },
   {
    "duration": 458,
    "start_time": "2021-10-18T10:26:39.007Z"
   },
   {
    "duration": 196,
    "start_time": "2021-10-18T10:26:42.027Z"
   },
   {
    "duration": 230,
    "start_time": "2021-10-18T10:27:38.983Z"
   },
   {
    "duration": 208,
    "start_time": "2021-10-18T10:28:05.360Z"
   },
   {
    "duration": 224,
    "start_time": "2021-10-18T10:28:11.028Z"
   },
   {
    "duration": 230,
    "start_time": "2021-10-18T10:28:56.071Z"
   },
   {
    "duration": 228,
    "start_time": "2021-10-18T10:30:38.425Z"
   },
   {
    "duration": 224,
    "start_time": "2021-10-18T10:30:42.809Z"
   },
   {
    "duration": 317,
    "start_time": "2021-10-18T10:32:21.433Z"
   },
   {
    "duration": 3,
    "start_time": "2021-10-18T10:33:17.136Z"
   },
   {
    "duration": 231,
    "start_time": "2021-10-18T10:33:17.142Z"
   },
   {
    "duration": 21,
    "start_time": "2021-10-18T10:33:17.375Z"
   },
   {
    "duration": 17,
    "start_time": "2021-10-18T10:33:17.398Z"
   },
   {
    "duration": 12,
    "start_time": "2021-10-18T10:33:17.416Z"
   },
   {
    "duration": 376,
    "start_time": "2021-10-18T10:33:17.430Z"
   },
   {
    "duration": 11,
    "start_time": "2021-10-18T10:42:55.894Z"
   },
   {
    "duration": 12,
    "start_time": "2021-10-18T10:43:08.047Z"
   },
   {
    "duration": 247,
    "start_time": "2021-10-18T10:46:51.497Z"
   },
   {
    "duration": 247,
    "start_time": "2021-10-18T10:47:03.728Z"
   },
   {
    "duration": 156,
    "start_time": "2021-10-18T10:47:53.748Z"
   },
   {
    "duration": 1302,
    "start_time": "2021-10-18T10:49:18.853Z"
   },
   {
    "duration": 1293,
    "start_time": "2021-10-18T10:49:35.145Z"
   },
   {
    "duration": 1379,
    "start_time": "2021-10-18T10:49:50.272Z"
   },
   {
    "duration": 1263,
    "start_time": "2021-10-18T10:50:20.356Z"
   },
   {
    "duration": 1298,
    "start_time": "2021-10-18T10:50:27.706Z"
   },
   {
    "duration": 272,
    "start_time": "2021-10-18T10:52:16.395Z"
   },
   {
    "duration": 279,
    "start_time": "2021-10-18T10:52:32.021Z"
   },
   {
    "duration": 1409,
    "start_time": "2021-10-18T10:52:42.704Z"
   },
   {
    "duration": 1394,
    "start_time": "2021-10-18T10:52:55.040Z"
   },
   {
    "duration": 1402,
    "start_time": "2021-10-18T10:53:11.097Z"
   },
   {
    "duration": 1394,
    "start_time": "2021-10-18T10:53:33.595Z"
   },
   {
    "duration": 1547,
    "start_time": "2021-10-18T10:53:43.997Z"
   },
   {
    "duration": 1585,
    "start_time": "2021-10-18T10:53:53.171Z"
   },
   {
    "duration": 1433,
    "start_time": "2021-10-18T10:53:58.535Z"
   },
   {
    "duration": 1384,
    "start_time": "2021-10-18T10:54:07.760Z"
   },
   {
    "duration": 762,
    "start_time": "2021-10-18T10:54:15.045Z"
   },
   {
    "duration": 236,
    "start_time": "2021-10-18T10:54:29.947Z"
   },
   {
    "duration": 1501,
    "start_time": "2021-10-18T10:54:37.250Z"
   },
   {
    "duration": 1547,
    "start_time": "2021-10-18T10:54:56.412Z"
   },
   {
    "duration": 1575,
    "start_time": "2021-10-18T10:56:13.841Z"
   },
   {
    "duration": 3,
    "start_time": "2021-10-18T10:58:48.549Z"
   },
   {
    "duration": 44,
    "start_time": "2021-10-18T10:58:48.553Z"
   },
   {
    "duration": 27,
    "start_time": "2021-10-18T10:58:48.599Z"
   },
   {
    "duration": 14,
    "start_time": "2021-10-18T10:58:48.628Z"
   },
   {
    "duration": 24,
    "start_time": "2021-10-18T10:58:48.643Z"
   },
   {
    "duration": 240,
    "start_time": "2021-10-18T10:58:48.668Z"
   },
   {
    "duration": 1733,
    "start_time": "2021-10-18T10:58:48.911Z"
   },
   {
    "duration": 1730,
    "start_time": "2021-10-18T10:59:14.972Z"
   },
   {
    "duration": 559,
    "start_time": "2021-10-18T11:04:58.985Z"
   },
   {
    "duration": 595,
    "start_time": "2021-10-18T11:05:12.226Z"
   },
   {
    "duration": 241,
    "start_time": "2021-10-18T11:05:22.769Z"
   },
   {
    "duration": 1989,
    "start_time": "2021-10-18T11:17:51.640Z"
   },
   {
    "duration": 1831,
    "start_time": "2021-10-18T11:18:20.621Z"
   },
   {
    "duration": 1791,
    "start_time": "2021-10-18T11:18:37.987Z"
   },
   {
    "duration": 8,
    "start_time": "2021-10-18T11:21:15.682Z"
   },
   {
    "duration": 137,
    "start_time": "2021-10-18T11:22:58.598Z"
   },
   {
    "duration": 162,
    "start_time": "2021-10-18T11:24:02.820Z"
   },
   {
    "duration": 215,
    "start_time": "2021-10-18T11:24:18.792Z"
   },
   {
    "duration": 210,
    "start_time": "2021-10-18T11:24:30.155Z"
   },
   {
    "duration": 493,
    "start_time": "2021-10-18T11:27:33.789Z"
   },
   {
    "duration": 473,
    "start_time": "2021-10-18T11:28:34.857Z"
   },
   {
    "duration": 625,
    "start_time": "2021-10-18T11:29:14.636Z"
   },
   {
    "duration": 469,
    "start_time": "2021-10-18T11:29:43.171Z"
   },
   {
    "duration": 511,
    "start_time": "2021-10-18T11:33:08.895Z"
   },
   {
    "duration": 203,
    "start_time": "2021-10-18T11:37:11.061Z"
   },
   {
    "duration": 963,
    "start_time": "2021-10-18T11:37:15.044Z"
   },
   {
    "duration": 558,
    "start_time": "2021-10-18T11:37:24.434Z"
   },
   {
    "duration": 221,
    "start_time": "2021-10-18T11:40:30.035Z"
   },
   {
    "duration": 241,
    "start_time": "2021-10-18T11:43:08.882Z"
   },
   {
    "duration": 247,
    "start_time": "2021-10-18T11:45:16.888Z"
   },
   {
    "duration": 229,
    "start_time": "2021-10-18T11:45:36.704Z"
   },
   {
    "duration": 226,
    "start_time": "2021-10-18T11:45:57.881Z"
   },
   {
    "duration": 224,
    "start_time": "2021-10-18T11:46:06.808Z"
   },
   {
    "duration": 10,
    "start_time": "2021-10-18T12:16:15.824Z"
   },
   {
    "duration": 11,
    "start_time": "2021-10-18T12:16:59.517Z"
   },
   {
    "duration": 10,
    "start_time": "2021-10-18T12:17:09.676Z"
   },
   {
    "duration": 324,
    "start_time": "2021-10-18T12:24:51.791Z"
   },
   {
    "duration": 322,
    "start_time": "2021-10-18T12:27:59.911Z"
   },
   {
    "duration": 273,
    "start_time": "2021-10-18T12:44:01.546Z"
   },
   {
    "duration": 4996,
    "start_time": "2021-10-18T12:44:18.182Z"
   },
   {
    "duration": 3,
    "start_time": "2021-10-18T12:44:43.225Z"
   },
   {
    "duration": 34,
    "start_time": "2021-10-18T12:44:43.230Z"
   },
   {
    "duration": 12,
    "start_time": "2021-10-18T12:44:43.266Z"
   },
   {
    "duration": 16,
    "start_time": "2021-10-18T12:44:43.280Z"
   },
   {
    "duration": 8,
    "start_time": "2021-10-18T12:44:43.298Z"
   },
   {
    "duration": 248,
    "start_time": "2021-10-18T12:44:43.307Z"
   },
   {
    "duration": 2109,
    "start_time": "2021-10-18T12:44:43.557Z"
   },
   {
    "duration": 9,
    "start_time": "2021-10-18T12:44:45.669Z"
   },
   {
    "duration": 318,
    "start_time": "2021-10-18T12:44:45.680Z"
   },
   {
    "duration": 256,
    "start_time": "2021-10-18T12:44:59.212Z"
   },
   {
    "duration": 3,
    "start_time": "2021-10-18T12:45:02.058Z"
   },
   {
    "duration": 41,
    "start_time": "2021-10-18T12:45:02.063Z"
   },
   {
    "duration": 24,
    "start_time": "2021-10-18T12:45:02.107Z"
   },
   {
    "duration": 16,
    "start_time": "2021-10-18T12:45:02.134Z"
   },
   {
    "duration": 315,
    "start_time": "2021-10-18T12:45:02.152Z"
   },
   {
    "duration": -3651206,
    "start_time": "2021-10-18T13:45:53.675Z"
   },
   {
    "duration": -3651211,
    "start_time": "2021-10-18T13:45:53.681Z"
   },
   {
    "duration": -3651215,
    "start_time": "2021-10-18T13:45:53.686Z"
   },
   {
    "duration": -3651238,
    "start_time": "2021-10-18T13:45:53.711Z"
   },
   {
    "duration": 8,
    "start_time": "2021-10-18T12:45:55.055Z"
   },
   {
    "duration": 3,
    "start_time": "2021-10-18T12:45:58.267Z"
   },
   {
    "duration": 37,
    "start_time": "2021-10-18T12:45:58.271Z"
   },
   {
    "duration": 15,
    "start_time": "2021-10-18T12:45:58.310Z"
   },
   {
    "duration": 13,
    "start_time": "2021-10-18T12:45:58.327Z"
   },
   {
    "duration": 7,
    "start_time": "2021-10-18T12:45:58.342Z"
   },
   {
    "duration": 243,
    "start_time": "2021-10-18T12:45:58.351Z"
   },
   {
    "duration": 1891,
    "start_time": "2021-10-18T12:45:58.597Z"
   },
   {
    "duration": 14,
    "start_time": "2021-10-18T12:46:00.545Z"
   },
   {
    "duration": 550,
    "start_time": "2021-10-18T12:46:00.560Z"
   },
   {
    "duration": 9,
    "start_time": "2021-10-18T12:46:53.149Z"
   },
   {
    "duration": 10,
    "start_time": "2021-10-18T12:51:33.942Z"
   },
   {
    "duration": 1793,
    "start_time": "2021-10-18T12:51:43.287Z"
   },
   {
    "duration": 1957,
    "start_time": "2021-10-18T12:51:59.200Z"
   },
   {
    "duration": 10,
    "start_time": "2021-10-18T12:52:07.832Z"
   },
   {
    "duration": 3,
    "start_time": "2021-10-18T12:52:09.826Z"
   },
   {
    "duration": 31,
    "start_time": "2021-10-18T12:52:09.830Z"
   },
   {
    "duration": 12,
    "start_time": "2021-10-18T12:52:09.863Z"
   },
   {
    "duration": 13,
    "start_time": "2021-10-18T12:52:09.877Z"
   },
   {
    "duration": 7,
    "start_time": "2021-10-18T12:52:09.891Z"
   },
   {
    "duration": 244,
    "start_time": "2021-10-18T12:52:09.900Z"
   },
   {
    "duration": 1713,
    "start_time": "2021-10-18T12:52:10.146Z"
   },
   {
    "duration": 11,
    "start_time": "2021-10-18T12:52:11.860Z"
   },
   {
    "duration": 311,
    "start_time": "2021-10-18T12:52:11.872Z"
   },
   {
    "duration": 2,
    "start_time": "2021-10-18T12:53:32.124Z"
   },
   {
    "duration": 41,
    "start_time": "2021-10-18T12:53:32.128Z"
   },
   {
    "duration": 35,
    "start_time": "2021-10-18T12:53:32.172Z"
   },
   {
    "duration": 31,
    "start_time": "2021-10-18T12:53:32.209Z"
   },
   {
    "duration": 30,
    "start_time": "2021-10-18T12:53:32.242Z"
   },
   {
    "duration": 272,
    "start_time": "2021-10-18T12:53:32.274Z"
   },
   {
    "duration": 1730,
    "start_time": "2021-10-18T12:53:32.548Z"
   },
   {
    "duration": 9,
    "start_time": "2021-10-18T12:53:34.280Z"
   },
   {
    "duration": 316,
    "start_time": "2021-10-18T12:53:34.291Z"
   },
   {
    "duration": 944,
    "start_time": "2021-10-19T08:05:31.783Z"
   },
   {
    "duration": 80,
    "start_time": "2021-10-19T08:05:32.730Z"
   },
   {
    "duration": 22,
    "start_time": "2021-10-19T08:05:32.818Z"
   },
   {
    "duration": 24,
    "start_time": "2021-10-19T08:05:32.844Z"
   },
   {
    "duration": 39,
    "start_time": "2021-10-19T08:05:32.871Z"
   },
   {
    "duration": 444,
    "start_time": "2021-10-19T08:05:32.913Z"
   },
   {
    "duration": 2986,
    "start_time": "2021-10-19T08:05:33.360Z"
   },
   {
    "duration": 15,
    "start_time": "2021-10-19T08:05:36.348Z"
   },
   {
    "duration": 600,
    "start_time": "2021-10-19T08:05:36.366Z"
   },
   {
    "duration": 641,
    "start_time": "2021-10-19T13:49:00.603Z"
   },
   {
    "duration": 31,
    "start_time": "2021-10-19T13:49:01.246Z"
   },
   {
    "duration": 21,
    "start_time": "2021-10-19T13:49:01.279Z"
   },
   {
    "duration": 11,
    "start_time": "2021-10-19T13:49:01.302Z"
   },
   {
    "duration": 11,
    "start_time": "2021-10-19T13:49:01.315Z"
   },
   {
    "duration": 249,
    "start_time": "2021-10-19T13:49:01.328Z"
   },
   {
    "duration": 2220,
    "start_time": "2021-10-19T13:49:01.578Z"
   },
   {
    "duration": 11,
    "start_time": "2021-10-19T13:49:03.800Z"
   },
   {
    "duration": 370,
    "start_time": "2021-10-19T13:49:03.812Z"
   },
   {
    "duration": 8,
    "start_time": "2021-10-19T13:56:35.588Z"
   },
   {
    "duration": 3,
    "start_time": "2021-10-19T13:56:39.184Z"
   },
   {
    "duration": 31,
    "start_time": "2021-10-19T13:56:39.188Z"
   },
   {
    "duration": 10,
    "start_time": "2021-10-19T13:56:39.221Z"
   },
   {
    "duration": 13,
    "start_time": "2021-10-19T13:56:39.233Z"
   },
   {
    "duration": 14,
    "start_time": "2021-10-19T13:56:39.247Z"
   },
   {
    "duration": 246,
    "start_time": "2021-10-19T13:56:39.262Z"
   },
   {
    "duration": 1734,
    "start_time": "2021-10-19T13:56:39.510Z"
   },
   {
    "duration": 10,
    "start_time": "2021-10-19T13:56:41.246Z"
   },
   {
    "duration": 312,
    "start_time": "2021-10-19T13:56:41.257Z"
   },
   {
    "duration": 2,
    "start_time": "2021-10-19T13:57:00.344Z"
   },
   {
    "duration": 38,
    "start_time": "2021-10-19T13:57:00.349Z"
   },
   {
    "duration": 11,
    "start_time": "2021-10-19T13:57:00.389Z"
   },
   {
    "duration": 39,
    "start_time": "2021-10-19T13:57:00.402Z"
   },
   {
    "duration": 21,
    "start_time": "2021-10-19T13:57:00.443Z"
   },
   {
    "duration": 266,
    "start_time": "2021-10-19T13:57:00.465Z"
   },
   {
    "duration": 1757,
    "start_time": "2021-10-19T13:57:00.733Z"
   },
   {
    "duration": 12,
    "start_time": "2021-10-19T13:57:02.492Z"
   },
   {
    "duration": 325,
    "start_time": "2021-10-19T13:57:02.506Z"
   },
   {
    "duration": 2,
    "start_time": "2021-10-19T13:57:26.927Z"
   },
   {
    "duration": 29,
    "start_time": "2021-10-19T13:57:26.934Z"
   },
   {
    "duration": 9,
    "start_time": "2021-10-19T13:57:28.291Z"
   },
   {
    "duration": 17,
    "start_time": "2021-10-19T13:57:28.302Z"
   },
   {
    "duration": 15,
    "start_time": "2021-10-19T13:57:28.322Z"
   },
   {
    "duration": 325,
    "start_time": "2021-10-19T13:57:28.339Z"
   },
   {
    "duration": 1962,
    "start_time": "2021-10-19T13:57:28.665Z"
   },
   {
    "duration": 17,
    "start_time": "2021-10-19T13:57:30.629Z"
   },
   {
    "duration": 318,
    "start_time": "2021-10-19T13:57:30.648Z"
   },
   {
    "duration": 3,
    "start_time": "2021-10-19T13:57:41.697Z"
   },
   {
    "duration": 38,
    "start_time": "2021-10-19T13:57:41.701Z"
   },
   {
    "duration": 46,
    "start_time": "2021-10-19T13:57:41.741Z"
   },
   {
    "duration": 12,
    "start_time": "2021-10-19T13:57:41.790Z"
   },
   {
    "duration": 18,
    "start_time": "2021-10-19T13:57:41.804Z"
   },
   {
    "duration": 239,
    "start_time": "2021-10-19T13:57:41.824Z"
   },
   {
    "duration": 1940,
    "start_time": "2021-10-19T13:57:42.065Z"
   },
   {
    "duration": 10,
    "start_time": "2021-10-19T13:57:44.007Z"
   },
   {
    "duration": 310,
    "start_time": "2021-10-19T13:57:44.019Z"
   },
   {
    "duration": 2,
    "start_time": "2021-10-19T14:01:16.944Z"
   },
   {
    "duration": 45,
    "start_time": "2021-10-19T14:01:16.948Z"
   },
   {
    "duration": 29,
    "start_time": "2021-10-19T14:01:16.995Z"
   },
   {
    "duration": 10,
    "start_time": "2021-10-19T14:01:17.026Z"
   },
   {
    "duration": 12,
    "start_time": "2021-10-19T14:01:17.037Z"
   },
   {
    "duration": 254,
    "start_time": "2021-10-19T14:01:17.051Z"
   },
   {
    "duration": 2143,
    "start_time": "2021-10-19T14:01:17.307Z"
   },
   {
    "duration": 13,
    "start_time": "2021-10-19T14:01:19.452Z"
   },
   {
    "duration": 313,
    "start_time": "2021-10-19T14:01:19.467Z"
   },
   {
    "duration": 3,
    "start_time": "2021-10-19T14:05:35.169Z"
   },
   {
    "duration": 46,
    "start_time": "2021-10-19T14:05:35.174Z"
   },
   {
    "duration": 36,
    "start_time": "2021-10-19T14:05:35.223Z"
   },
   {
    "duration": 28,
    "start_time": "2021-10-19T14:05:35.261Z"
   },
   {
    "duration": 23,
    "start_time": "2021-10-19T14:05:35.291Z"
   },
   {
    "duration": 319,
    "start_time": "2021-10-19T14:05:35.316Z"
   },
   {
    "duration": 2107,
    "start_time": "2021-10-19T14:05:35.637Z"
   },
   {
    "duration": 10,
    "start_time": "2021-10-19T14:05:37.746Z"
   },
   {
    "duration": 335,
    "start_time": "2021-10-19T14:05:37.758Z"
   },
   {
    "duration": 2,
    "start_time": "2021-10-19T14:32:35.426Z"
   },
   {
    "duration": 36,
    "start_time": "2021-10-19T14:32:35.430Z"
   },
   {
    "duration": 19,
    "start_time": "2021-10-19T14:32:35.468Z"
   },
   {
    "duration": 18,
    "start_time": "2021-10-19T14:32:35.488Z"
   },
   {
    "duration": 23,
    "start_time": "2021-10-19T14:32:35.508Z"
   },
   {
    "duration": 260,
    "start_time": "2021-10-19T14:32:35.533Z"
   },
   {
    "duration": 2049,
    "start_time": "2021-10-19T14:32:35.795Z"
   },
   {
    "duration": 10,
    "start_time": "2021-10-19T14:32:37.846Z"
   },
   {
    "duration": 308,
    "start_time": "2021-10-19T14:32:37.858Z"
   },
   {
    "duration": 734,
    "start_time": "2021-10-20T07:07:20.456Z"
   },
   {
    "duration": 71,
    "start_time": "2021-10-20T07:07:21.192Z"
   },
   {
    "duration": 13,
    "start_time": "2021-10-20T07:07:21.265Z"
   },
   {
    "duration": 10,
    "start_time": "2021-10-20T07:07:21.280Z"
   },
   {
    "duration": 9,
    "start_time": "2021-10-20T07:07:21.292Z"
   },
   {
    "duration": 250,
    "start_time": "2021-10-20T07:07:21.302Z"
   },
   {
    "duration": 1668,
    "start_time": "2021-10-20T07:07:21.554Z"
   },
   {
    "duration": 11,
    "start_time": "2021-10-20T07:07:23.223Z"
   },
   {
    "duration": 352,
    "start_time": "2021-10-20T07:07:23.236Z"
   }
  ],
  "kernelspec": {
   "display_name": "Python 3 (ipykernel)",
   "language": "python",
   "name": "python3"
  },
  "language_info": {
   "codemirror_mode": {
    "name": "ipython",
    "version": 3
   },
   "file_extension": ".py",
   "mimetype": "text/x-python",
   "name": "python",
   "nbconvert_exporter": "python",
   "pygments_lexer": "ipython3",
   "version": "3.9.7"
  },
  "toc": {
   "base_numbering": 1,
   "nav_menu": {},
   "number_sections": true,
   "sideBar": true,
   "skip_h1_title": true,
   "title_cell": "Table of Contents",
   "title_sidebar": "Contents",
   "toc_cell": true,
   "toc_position": {
    "height": "calc(100% - 180px)",
    "left": "10px",
    "top": "150px",
    "width": "165px"
   },
   "toc_section_display": true,
   "toc_window_display": true
  }
 },
 "nbformat": 4,
 "nbformat_minor": 2
}
